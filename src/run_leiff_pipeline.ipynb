{
 "cells": [
  {
   "cell_type": "markdown",
   "metadata": {},
   "source": [
    "## Run after python split_script_14515X1.MT.py"
   ]
  },
  {
   "cell_type": "code",
   "execution_count": 1,
   "metadata": {
    "ExecuteTime": {
     "end_time": "2019-12-31T16:48:26.547770Z",
     "start_time": "2019-12-31T16:48:22.866686Z"
    }
   },
   "outputs": [],
   "source": [
    "import glob\n",
    "import os\n",
    "import pandas as pd\n",
    "from tqdm import tqdm\n",
    "import numpy as np\n",
    "import pysam\n",
    "import time\n",
    "from collections import defaultdict\n",
    "import pickle\n",
    "import matplotlib.pyplot as plt\n",
    "import seaborn as sns\n",
    "import subprocess\n",
    "%matplotlib inline\n",
    "\n",
    "from os.path import join"
   ]
  },
  {
   "cell_type": "code",
   "execution_count": 2,
   "metadata": {
    "ExecuteTime": {
     "end_time": "2019-12-31T16:48:26.556185Z",
     "start_time": "2019-12-31T16:48:26.549606Z"
    }
   },
   "outputs": [],
   "source": [
    "FUNC_PATH = \"/home/isshamie/software/mito-genotyping/exampleProcessing/\"\n",
    "BAM = \"../data/raw/14515X1.MT.bam\"\n",
    "BARCODES = \"../data/raw/Human2_002_Barcodes.txt\"\n",
    "NUM_CORES = 32\n",
    "IN = \"../data/raw/scBam\"\n",
    "OUT_DIR = \"../data/raw/scPileup/\"\n",
    "BARCODE_INFO = \"../data/scBam/barcode_data.p\"\n",
    "maxBP = 16571\n",
    "\n",
    "if not os.path.exists(OUT_DIR):\n",
    "    os.mkdir(OUT_DIR)"
   ]
  },
  {
   "cell_type": "code",
   "execution_count": 3,
   "metadata": {
    "ExecuteTime": {
     "end_time": "2019-12-31T16:48:29.066028Z",
     "start_time": "2019-12-31T16:48:26.557877Z"
    }
   },
   "outputs": [
    {
     "name": "stdout",
     "output_type": "stream",
     "text": [
      "295614\n"
     ]
    }
   ],
   "source": [
    "files = glob.glob(IN + \"/*\")\n",
    "print(len(files))"
   ]
  },
  {
   "cell_type": "markdown",
   "metadata": {},
   "source": [
    "## Load CB's, get ones that have over 200 reads "
   ]
  },
  {
   "cell_type": "code",
   "execution_count": 4,
   "metadata": {
    "ExecuteTime": {
     "end_time": "2019-12-31T16:48:37.611362Z",
     "start_time": "2019-12-31T16:48:32.319734Z"
    }
   },
   "outputs": [],
   "source": [
    "[CR_read_number,CB_read_number,BC_read_number, barcodes, corrected_barcodes, barcode_pairs] = pickle.load(open(BARCODE_INFO,\"rb\"))"
   ]
  },
  {
   "cell_type": "code",
   "execution_count": 5,
   "metadata": {
    "ExecuteTime": {
     "end_time": "2019-12-31T16:48:37.715439Z",
     "start_time": "2019-12-31T16:48:37.613295Z"
    }
   },
   "outputs": [
    {
     "name": "stdout",
     "output_type": "stream",
     "text": [
      "75923\n"
     ]
    }
   ],
   "source": [
    "CB_read_200 = set()\n",
    "for i in CB_read_number:\n",
    "    if CB_read_number[i] >= 200:\n",
    "        CB_read_200.add(i)\n",
    "print(len(CB_read_200))\n",
    "CB_read_200 = np.array(list(CB_read_200))"
   ]
  },
  {
   "cell_type": "code",
   "execution_count": 6,
   "metadata": {
    "ExecuteTime": {
     "end_time": "2019-12-31T16:48:37.784513Z",
     "start_time": "2019-12-31T16:48:37.717306Z"
    }
   },
   "outputs": [
    {
     "name": "stdout",
     "output_type": "stream",
     "text": [
      "207\n"
     ]
    }
   ],
   "source": [
    "CB_read_MT = set()\n",
    "for i in CB_read_number:\n",
    "    if CB_read_number[i] >= maxBP:\n",
    "        CB_read_MT.add(i)\n",
    "print(len(CB_read_MT))\n",
    "CB_read_MT = np.array(list(CB_read_MT))"
   ]
  },
  {
   "cell_type": "code",
   "execution_count": 9,
   "metadata": {
    "ExecuteTime": {
     "end_time": "2019-12-31T16:51:57.073757Z",
     "start_time": "2019-12-31T16:51:57.062527Z"
    }
   },
   "outputs": [
    {
     "data": {
      "text/plain": [
       "defaultdict(int,\n",
       "            {'ACGTCCCT': 23212836,\n",
       "             'CGCATGTG': 33555310,\n",
       "             'TTTCATGA': 30327101,\n",
       "             'GAAGGAAC': 33885543,\n",
       "             'GAATGAAC': 188713,\n",
       "             'TTTCATGC': 35453,\n",
       "             'TTTTATGA': 13902,\n",
       "             'CGCTTGTG': 11431,\n",
       "             'GCAGGAAC': 38476,\n",
       "             'TTTCAAGA': 9441,\n",
       "             'ACGACCCT': 29699,\n",
       "             'CGCATGTA': 46739,\n",
       "             'GAAGGCAC': 23145,\n",
       "             'CGCATGGG': 4962,\n",
       "             'ACGGCCCT': 41433,\n",
       "             'GAAGGAAA': 73724,\n",
       "             'TTACATGA': 8285,\n",
       "             'TCTCATGA': 7211,\n",
       "             'TTTGATGA': 59068,\n",
       "             'GACGGAAC': 37052,\n",
       "             'CGCCTGTG': 32991,\n",
       "             'AGCATGTG': 25534,\n",
       "             'CGCACGTG': 10667,\n",
       "             'TTTCACGA': 7613,\n",
       "             'GAGGGAAC': 5785,\n",
       "             'CGAATGTG': 17871,\n",
       "             'TTTAATGA': 45183,\n",
       "             'ACGTCCCG': 5135,\n",
       "             'CCGTCCCT': 31247,\n",
       "             'TAAGGAAC': 17076,\n",
       "             'CACATGTG': 11243,\n",
       "             'ACGTCCCA': 29926,\n",
       "             'TTTCAGGA': 3547,\n",
       "             'GCGTCCCT': 9475,\n",
       "             'TGTCATGA': 3141,\n",
       "             'CAAGGAAC': 6802,\n",
       "             'GTAGGAAC': 5506,\n",
       "             'CGTATGTG': 8220,\n",
       "             'ACTTCCCT': 17671,\n",
       "             'ACATCCCT': 10687,\n",
       "             'GAAGGGAC': 7994,\n",
       "             'GAAAGAAC': 43867,\n",
       "             'CGCATGCG': 9626,\n",
       "             'CGCATGAG': 12606,\n",
       "             'CTTCATGA': 7576,\n",
       "             'CGCATTTG': 12813,\n",
       "             'ACGTCCCC': 17373,\n",
       "             'CGCGTGTG': 73622,\n",
       "             'CGCATATG': 9214,\n",
       "             'ACGTCCAT': 21544,\n",
       "             'ACGTCACT': 12509,\n",
       "             'CCCATGTG': 5714,\n",
       "             'TTTCTTGA': 5575,\n",
       "             'GAAGGAAG': 5140,\n",
       "             'TTCCATGA': 7185,\n",
       "             'TTTCCTGA': 34993,\n",
       "             'GAAGTAAC': 12205,\n",
       "             'AAAGGAAC': 11066,\n",
       "             'ACGCCCCT': 13878,\n",
       "             'TCGTCCCT': 4527,\n",
       "             'TTTCATAA': 31816,\n",
       "             'GAAGCAAC': 6127,\n",
       "             'CGCAAGTG': 7923,\n",
       "             'ACCTCCCT': 6331,\n",
       "             'GAAGGAAT': 18251,\n",
       "             'NTTCATGA': 249,\n",
       "             'GAAGGTAC': 5557,\n",
       "             'ACGTCTCT': 6592,\n",
       "             'GAACGAAC': 24261,\n",
       "             'GAAGGACC': 24578,\n",
       "             'AAGTCCCT': 9071,\n",
       "             'ACGTACCT': 14355,\n",
       "             'TGCATGTG': 14713,\n",
       "             'GAAGAAAC': 8506,\n",
       "             'GATGGAAC': 6666,\n",
       "             'ACGTCGCT': 4218,\n",
       "             'GAAGGAGC': 7670,\n",
       "             'ACGTCCTT': 5068,\n",
       "             'ATGTCCCT': 10319,\n",
       "             'ACGTCCGT': 4029,\n",
       "             'CGCATGTT': 14210,\n",
       "             'AGGTCCCT': 4477,\n",
       "             'CGGATGTG': 5909,\n",
       "             'GTTCATGA': 3125,\n",
       "             'CGCATGTC': 7042,\n",
       "             'CTCATGTG': 13308,\n",
       "             'GGCATGTG': 5648,\n",
       "             'ACGTGCCT': 4314,\n",
       "             'TTTCATTA': 14190,\n",
       "             'GAAGGATC': 7418,\n",
       "             'ACGTTCCT': 6028,\n",
       "             'TTTCGTGA': 7266,\n",
       "             'TTTCATGG': 7109,\n",
       "             'CGCATCTG': 4430,\n",
       "             'TATCATGA': 8167,\n",
       "             'TTGCATGA': 4606,\n",
       "             'TTTCATGT': 4027,\n",
       "             'TTTCATCA': 6398,\n",
       "             'ATTCATGA': 5204,\n",
       "             'CGCAGGTG': 6063,\n",
       "             'GGAGGAAC': 6516,\n",
       "             'NAAGGAAC': 272,\n",
       "             'CGCANGTG': 18,\n",
       "             'NCGTCCCT': 200,\n",
       "             'NGCATGTG': 273,\n",
       "             'TTNCATGA': 15,\n",
       "             'TTTCNTGA': 16,\n",
       "             'GAAGNAAC': 25,\n",
       "             'ACGTNCCT': 18,\n",
       "             'CGNATGTG': 28,\n",
       "             'GANGGAAC': 13,\n",
       "             'ACNTCCCT': 10})"
      ]
     },
     "execution_count": 9,
     "metadata": {},
     "output_type": "execute_result"
    }
   ],
   "source": [
    "BC_read_number"
   ]
  },
  {
   "cell_type": "markdown",
   "metadata": {},
   "source": [
    "## Calculate coverage of each position "
   ]
  },
  {
   "cell_type": "code",
   "execution_count": 7,
   "metadata": {
    "ExecuteTime": {
     "end_time": "2019-12-24T06:18:30.121092Z",
     "start_time": "2019-12-24T06:18:30.098020Z"
    }
   },
   "outputs": [
    {
     "data": {
      "text/plain": [
       "['../data/raw/scBam/CB_ACACCAAAGAGACTAT-1.bam',\n",
       " '../data/raw/scBam/CB_AAGACCTAGCTGATAA-1.bam',\n",
       " '../data/raw/scBam/CB_AAAGCAAAGAGGTTAT-1.bam',\n",
       " '../data/raw/scBam/CB_AATCCAGCACCTCGTT-1.bam',\n",
       " '../data/raw/scBam/CB_AACCATGCACGGACAA-1.bam',\n",
       " '../data/raw/scBam/CB_AAGACCTTCGGCGGTT-1.bam',\n",
       " '../data/raw/scBam/CB_AACCATGCATGGTCTA-1.bam',\n",
       " '../data/raw/scBam/CB_AAGTCTGCATGCCTAA-1.bam',\n",
       " '../data/raw/scBam/CB_AAAGATGAGCTGTCTA-1.bam',\n",
       " '../data/raw/scBam/CB_AAGCCGCTCATGGTCA-1.bam',\n",
       " '../data/raw/scBam/CB_AACTCAGCAGGGATTG-1.bam',\n",
       " '../data/raw/scBam/CB_AATCCAGAGTTATCGC-1.bam',\n",
       " '../data/raw/scBam/CB_AAGTCTGAGAAGCCCA-1.bam',\n",
       " '../data/raw/scBam/CB_AACTCTTGTGATGTCT-1.bam',\n",
       " '../data/raw/scBam/CB_AAGCCGCCACGTCTCT-1.bam',\n",
       " '../data/raw/scBam/CB_AACACGTCAAACGCGA-1.bam',\n",
       " '../data/raw/scBam/CB_AAAGCAAAGTGTGGCA-1.bam',\n",
       " '../data/raw/scBam/CB_AAAGCAACATGCATGT-1.bam',\n",
       " '../data/raw/scBam/CB_AACGTTGAGTCCATAC-1.bam',\n",
       " '../data/raw/scBam/CB_AAGCCGCCAAATCCGT-1.bam',\n",
       " '../data/raw/scBam/CB_AAGGAGCTCGGAGGTA-1.bam',\n",
       " '../data/raw/scBam/CB_AATCGGTCACGAAGCA-1.bam',\n",
       " '../data/raw/scBam/CB_AACCATGTCGCGCCAA-1.bam',\n",
       " '../data/raw/scBam/CB_AACTCCCAGCCTCGTG-1.bam',\n",
       " '../data/raw/scBam/CB_AACTGGTTCTAAGCCA-1.bam',\n",
       " '../data/raw/scBam/CB_AAGCCGCCACACAGAG-1.bam',\n",
       " '../data/raw/scBam/CB_AAATGCCAGAGTAATC-1.bam',\n",
       " '../data/raw/scBam/CB_AATCCAGGTTAAGACA-1.bam',\n",
       " '../data/raw/scBam/CB_AAGGAGCGTACAAGTA-1.bam',\n",
       " '../data/raw/scBam/CB_AAGCCGCAGAGTACAT-1.bam',\n",
       " '../data/raw/scBam/CB_AAGCCGCTCAGCTTAG-1.bam',\n",
       " '../data/raw/scBam/CB_AACTTTCGTCTCTTAT-1.bam',\n",
       " '../data/raw/scBam/CB_AATCCAGGTACGCACC-1.bam',\n",
       " '../data/raw/scBam/CB_AACACGTCATGTAAGA-1.bam',\n",
       " '../data/raw/scBam/CB_AAAGCAATCATTATCC-1.bam',\n",
       " '../data/raw/scBam/CB_AAGTCTGGTCGATTGT-1.bam',\n",
       " '../data/raw/scBam/CB_AAGTCTGCACCTATCC-1.bam',\n",
       " '../data/raw/scBam/CB_AAAGATGCACCTATCC-1.bam',\n",
       " '../data/raw/scBam/CB_AAACGGGGTCTGGTCG-1.bam',\n",
       " '../data/raw/scBam/CB_AAGACCTGTTATCGGT-1.bam',\n",
       " '../data/raw/scBam/CB_AATCGGTGTCGGGTCT-1.bam',\n",
       " '../data/raw/scBam/CB_AAAGTAGGTAGTACCT-1.bam',\n",
       " '../data/raw/scBam/CB_AAGGAGCTCTGTCAAG-1.bam',\n",
       " '../data/raw/scBam/CB_AAACCTGCACGTGAGA-1.bam',\n",
       " '../data/raw/scBam/CB_AACTCAGCATGGTAGG-1.bam',\n",
       " '../data/raw/scBam/CB_AATCCAGTCTAACCGA-1.bam',\n",
       " '../data/raw/scBam/CB_AACTGGTAGTCCGGTC-1.bam',\n",
       " '../data/raw/scBam/CB_AAAGCAAGTCCCTACT-1.bam',\n",
       " '../data/raw/scBam/CB_AACTCAGGTTGTTTGG-1.bam',\n",
       " '../data/raw/scBam/CB_AATCGGTAGCAGGCTA-1.bam',\n",
       " '../data/raw/scBam/CB_AATCCAGAGATATGGT-1.bam',\n",
       " '../data/raw/scBam/CB_AATCCAGCAGCTCGAC-1.bam',\n",
       " '../data/raw/scBam/CB_AAGGAGCGTCAAACTC-1.bam',\n",
       " '../data/raw/scBam/CB_AAGGCAGTCCAGGGCT-1.bam',\n",
       " '../data/raw/scBam/CB_AAAGTAGCAATACGCT-1.bam',\n",
       " '../data/raw/scBam/CB_AACTGGTGTCTCTCGT-1.bam',\n",
       " '../data/raw/scBam/CB_AAGGTTCCAGACAAGC-1.bam',\n",
       " '../data/raw/scBam/CB_AACTCAGCAACAACCT-1.bam',\n",
       " '../data/raw/scBam/CB_AACTTTCGTATGAAAC-1.bam',\n",
       " '../data/raw/scBam/CB_AAGACCTGTTACTGAC-1.bam',\n",
       " '../data/raw/scBam/CB_AACTCCCTCCGCTGTT-1.bam',\n",
       " '../data/raw/scBam/CB_AAAGCAATCGGTGTTA-1.bam',\n",
       " '../data/raw/scBam/CB_AAAGATGCAGTTAACC-1.bam',\n",
       " '../data/raw/scBam/CB_AACACGTCACCTTGTC-1.bam',\n",
       " '../data/raw/scBam/CB_AACACGTTCGGGAGTA-1.bam',\n",
       " '../data/raw/scBam/CB_AAAGTAGTCTCCTATA-1.bam',\n",
       " '../data/raw/scBam/CB_AACTCCCGTGCAGGTA-1.bam',\n",
       " '../data/raw/scBam/CB_AACTCTTCACAGATTC-1.bam',\n",
       " '../data/raw/scBam/CB_AAGGAGCCACAGACTT-1.bam',\n",
       " '../data/raw/scBam/CB_AAGACCTCACCCATGG-1.bam',\n",
       " '../data/raw/scBam/CB_AAGCCGCAGGCAGGTT-1.bam',\n",
       " '../data/raw/scBam/CB_AAACCTGGTGGGTATG-1.bam',\n",
       " '../data/raw/scBam/CB_AACTCTTTCAACACTG-1.bam',\n",
       " '../data/raw/scBam/CB_AAGACCTCAGGGTATG-1.bam',\n",
       " '../data/raw/scBam/CB_AAGCCGCAGAAACGAG-1.bam',\n",
       " '../data/raw/scBam/CB_AACCATGGTAGGCATG-1.bam',\n",
       " '../data/raw/scBam/CB_AACTCAGGTGCTTCTC-1.bam',\n",
       " '../data/raw/scBam/CB_AACACGTGTATTCTCT-1.bam',\n",
       " '../data/raw/scBam/CB_AAAGTAGCATCACGAT-1.bam',\n",
       " '../data/raw/scBam/CB_AACTCTTTCCTATGTT-1.bam',\n",
       " '../data/raw/scBam/CB_AAGACCTAGATGCCAG-1.bam',\n",
       " '../data/raw/scBam/CB_AACGTTGAGGTGCAAC-1.bam',\n",
       " '../data/raw/scBam/CB_AAATGCCGTTTCCACC-1.bam',\n",
       " '../data/raw/scBam/CB_AAGGTTCGTTTACTCT-1.bam',\n",
       " '../data/raw/scBam/CB_AACTGGTAGAATTGTG-1.bam',\n",
       " '../data/raw/scBam/CB_AAGGTTCCATGGATGG-1.bam',\n",
       " '../data/raw/scBam/CB_AAGTCTGCATTTCAGG-1.bam',\n",
       " '../data/raw/scBam/CB_AACACGTAGTCCCACG-1.bam',\n",
       " '../data/raw/scBam/CB_AACGTTGCAATGGAGC-1.bam',\n",
       " '../data/raw/scBam/CB_AACCGCGGTCTGCCAG-1.bam',\n",
       " '../data/raw/scBam/CB_AACTCAGGTATCGCAT-1.bam',\n",
       " '../data/raw/scBam/CB_AACTCTTAGAACAATC-1.bam',\n",
       " '../data/raw/scBam/CB_AACTTTCAGCGATAGC-1.bam',\n",
       " '../data/raw/scBam/CB_AATCCAGTCAGTTTGG-1.bam',\n",
       " '../data/raw/scBam/CB_AACTCCCTCGGGAGTA-1.bam',\n",
       " '../data/raw/scBam/CB_AACTCAGGTCTCCATC-1.bam',\n",
       " '../data/raw/scBam/CB_AACACGTTCTTGACGA-1.bam',\n",
       " '../data/raw/scBam/CB_AAGTCTGAGCGTGTCC-1.bam',\n",
       " '../data/raw/scBam/CB_AAACCTGTCACCACCT-1.bam',\n",
       " '../data/raw/scBam/CB_AAGGCAGTCTGTCTAT-1.bam',\n",
       " '../data/raw/scBam/CB_AAAGATGAGTGCGTGA-1.bam',\n",
       " '../data/raw/scBam/CB_AAAGATGAGACAGAGA-1.bam',\n",
       " '../data/raw/scBam/CB_AACTTTCGTCGCATAT-1.bam',\n",
       " '../data/raw/scBam/CB_AAGGCAGTCGTTTATC-1.bam',\n",
       " '../data/raw/scBam/CB_AATCCAGAGCTCAACT-1.bam',\n",
       " '../data/raw/scBam/CB_AAGCCGCTCAACGAAA-1.bam',\n",
       " '../data/raw/scBam/CB_AAATGCCCAGACAGGT-1.bam',\n",
       " '../data/raw/scBam/CB_AAGACCTAGATTACCC-1.bam',\n",
       " '../data/raw/scBam/CB_AAAGCAATCATCATTC-1.bam',\n",
       " '../data/raw/scBam/CB_AACTGGTGTCGTGGCT-1.bam',\n",
       " '../data/raw/scBam/CB_AAACGGGTCATATCGG-1.bam',\n",
       " '../data/raw/scBam/CB_AAAGATGTCAGGCCCA-1.bam',\n",
       " '../data/raw/scBam/CB_AACTTTCGTCTGGTCG-1.bam',\n",
       " '../data/raw/scBam/CB_AAAGTAGGTACTTAGC-1.bam',\n",
       " '../data/raw/scBam/CB_AACTGGTCAAGGCTCC-1.bam',\n",
       " '../data/raw/scBam/CB_AACGTTGCACAGCGTC-1.bam',\n",
       " '../data/raw/scBam/CB_AAAGATGAGATGTTAG-1.bam',\n",
       " '../data/raw/scBam/CB_AACTCAGCATGCCCGA-1.bam',\n",
       " '../data/raw/scBam/CB_AACACGTGTGGTCTCG-1.bam',\n",
       " '../data/raw/scBam/CB_AACGTTGGTTTGCATG-1.bam',\n",
       " '../data/raw/scBam/CB_AACTTTCCAGGTGGAT-1.bam',\n",
       " '../data/raw/scBam/CB_AACTCAGTCAGTTCGA-1.bam',\n",
       " '../data/raw/scBam/CB_AACTTTCAGAAGAAGC-1.bam',\n",
       " '../data/raw/scBam/CB_AAATGCCAGGGTATCG-1.bam',\n",
       " '../data/raw/scBam/CB_AAACCTGAGGGTTCCC-1.bam',\n",
       " '../data/raw/scBam/CB_AACTCCCTCCTTTCTC-1.bam',\n",
       " '../data/raw/scBam/CB_AAGGTTCTCCTCGCAT-1.bam',\n",
       " '../data/raw/scBam/CB_AAGGAGCTCCGTTGTC-1.bam',\n",
       " '../data/raw/scBam/CB_AAAGATGCATTCCTGC-1.bam',\n",
       " '../data/raw/scBam/CB_AAAGATGTCGAATGGG-1.bam',\n",
       " '../data/raw/scBam/CB_AACGTTGTCGCCGTGA-1.bam',\n",
       " '../data/raw/scBam/CB_AACTTTCTCTGGCGAC-1.bam',\n",
       " '../data/raw/scBam/CB_AAGCCGCTCGCATGGC-1.bam',\n",
       " '../data/raw/scBam/CB_AACTCTTAGTCTCCTC-1.bam',\n",
       " '../data/raw/scBam/CB_AAGCCGCTCATCGCTC-1.bam',\n",
       " '../data/raw/scBam/CB_AAGGCAGCATCGACGC-1.bam',\n",
       " '../data/raw/scBam/CB_AAACCTGCAGGTTTCA-1.bam',\n",
       " '../data/raw/scBam/CB_AAAGATGCATTGGGCC-1.bam',\n",
       " '../data/raw/scBam/CB_AACTCCCAGTATGACA-1.bam',\n",
       " '../data/raw/scBam/CB_AACCGCGCACTATCTT-1.bam',\n",
       " '../data/raw/scBam/CB_AAGCCGCGTGCGGTAA-1.bam',\n",
       " '../data/raw/scBam/CB_AACACGTCATGCTAGT-1.bam',\n",
       " '../data/raw/scBam/CB_AAAGTAGTCAACACCA-1.bam',\n",
       " '../data/raw/scBam/CB_AAAGCAAAGGTTCCTA-1.bam',\n",
       " '../data/raw/scBam/CB_AAACGGGTCCATGAAC-1.bam',\n",
       " '../data/raw/scBam/CB_AAGACCTGTTACGTCA-1.bam',\n",
       " '../data/raw/scBam/CB_AACCGCGAGCAGGTCA-1.bam',\n",
       " '../data/raw/scBam/CB_AACTCTTGTAGGCTGA-1.bam',\n",
       " '../data/raw/scBam/CB_AAAGCAACAGGGTACA-1.bam',\n",
       " '../data/raw/scBam/CB_AATCGGTAGAAACGCC-1.bam',\n",
       " '../data/raw/scBam/CB_AAGGCAGAGGATGGTC-1.bam',\n",
       " '../data/raw/scBam/CB_AAACGGGGTCCAGTTA-1.bam',\n",
       " '../data/raw/scBam/CB_ACACCAAAGTAGGTGC-1.bam',\n",
       " '../data/raw/scBam/CB_AATCCAGGTAATAGCA-1.bam',\n",
       " '../data/raw/scBam/CB_AACTCTTAGTGGAGTC-1.bam',\n",
       " '../data/raw/scBam/CB_AAGGCAGTCTTCATGT-1.bam',\n",
       " '../data/raw/scBam/CB_AAATGCCAGTCGTACT-1.bam',\n",
       " '../data/raw/scBam/CB_AAAGTAGTCACCTTAT-1.bam',\n",
       " '../data/raw/scBam/CB_AAAGCAATCTCGCTTG-1.bam',\n",
       " '../data/raw/scBam/CB_AAGCCGCAGAAGGTGA-1.bam',\n",
       " '../data/raw/scBam/CB_AAGGAGCCATTACCTT-1.bam',\n",
       " '../data/raw/scBam/CB_AACGTTGTCACCCGAG-1.bam',\n",
       " '../data/raw/scBam/CB_AAGTCTGCAGTCTTCC-1.bam',\n",
       " '../data/raw/scBam/CB_ACACCAACAGGCTCAC-1.bam',\n",
       " '../data/raw/scBam/CB_AACACGTTCCAGAAGG-1.bam',\n",
       " '../data/raw/scBam/CB_AAGACCTAGATGTTAG-1.bam',\n",
       " '../data/raw/scBam/CB_AAGGAGCAGAAGATTC-1.bam',\n",
       " '../data/raw/scBam/CB_AACTCTTAGCGATGAC-1.bam',\n",
       " '../data/raw/scBam/CB_AAGTCTGGTGCAACGA-1.bam',\n",
       " '../data/raw/scBam/CB_AAGACCTCAGACTCGC-1.bam',\n",
       " '../data/raw/scBam/CB_AAGACCTCATCCGGGT-1.bam',\n",
       " '../data/raw/scBam/CB_AAAGATGCAAGTAGTA-1.bam',\n",
       " '../data/raw/scBam/CB_AAACGGGAGTTGCAGG-1.bam',\n",
       " '../data/raw/scBam/CB_AACTCTTAGCCCAACC-1.bam',\n",
       " '../data/raw/scBam/CB_AACCATGCAAGCCTAT-1.bam',\n",
       " '../data/raw/scBam/CB_AACACGTGTCTTCGTC-1.bam',\n",
       " '../data/raw/scBam/CB_AACTCCCAGATGAGAG-1.bam',\n",
       " '../data/raw/scBam/CB_AAGTCTGGTGTAATGA-1.bam',\n",
       " '../data/raw/scBam/CB_AACCATGGTTGACGTT-1.bam',\n",
       " '../data/raw/scBam/CB_AACCGCGCATTCTTAC-1.bam',\n",
       " '../data/raw/scBam/CB_AAGGTTCCAGTTAACC-1.bam',\n",
       " '../data/raw/scBam/CB_AACTGGTAGCTAACTC-1.bam',\n",
       " '../data/raw/scBam/CB_AAGTCTGAGATGTAAC-1.bam',\n",
       " '../data/raw/scBam/CB_ACACCAACATGGAATA-1.bam',\n",
       " '../data/raw/scBam/CB_AACCATGGTTCGTGAT-1.bam',\n",
       " '../data/raw/scBam/CB_AAAGTAGGTACCAGTT-1.bam',\n",
       " '../data/raw/scBam/CB_ACACCAAAGAAACCGC-1.bam',\n",
       " '../data/raw/scBam/CB_AACTCAGCAAACGTGG-1.bam',\n",
       " '../data/raw/scBam/CB_AACACGTTCTCCTATA-1.bam',\n",
       " '../data/raw/scBam/CB_AACACGTGTATTAGCC-1.bam',\n",
       " '../data/raw/scBam/CB_AACCGCGGTAAACACA-1.bam',\n",
       " '../data/raw/scBam/CB_ACACCAAAGAGCCCAA-1.bam',\n",
       " '../data/raw/scBam/CB_AACCATGAGGCTCATT-1.bam',\n",
       " '../data/raw/scBam/CB_AAGCCGCCAAGGTGTG-1.bam',\n",
       " '../data/raw/scBam/CB_AACTCAGGTCTAGAGG-1.bam',\n",
       " '../data/raw/scBam/CB_AACACGTGTACCGAGA-1.bam',\n",
       " '../data/raw/scBam/CB_AACGTTGCATCGACGC-1.bam',\n",
       " '../data/raw/scBam/CB_AACTGGTCATGATCCA-1.bam',\n",
       " '../data/raw/scBam/CB_AACTTTCAGCAACGGT-1.bam',\n",
       " '../data/raw/scBam/CB_AAGTCTGAGCTGCGAA-1.bam',\n",
       " '../data/raw/scBam/CB_AAACCTGAGTCATGCT-1.bam',\n",
       " '../data/raw/scBam/CB_AAGTCTGCAGCGAACA-1.bam',\n",
       " '../data/raw/scBam/CB_AATCGGTAGAGATGAG-1.bam',\n",
       " '../data/raw/scBam/CB_AAAGCAAGTCTGATTG-1.bam',\n",
       " '../data/raw/scBam/CB_AAGCCGCTCAATCACG-1.bam',\n",
       " '../data/raw/scBam/CB_AAAGCAAAGTAGGTGC-1.bam',\n",
       " '../data/raw/scBam/CB_AAGCCGCAGTAGCCGA-1.bam',\n",
       " '../data/raw/scBam/CB_AACTGGTCAGCGATCC-1.bam',\n",
       " '../data/raw/scBam/CB_AACTCAGCAAAGCAAT-1.bam',\n",
       " '../data/raw/scBam/CB_AACTTTCCAAACTGCT-1.bam',\n",
       " '../data/raw/scBam/CB_AACTCAGGTGACCAAG-1.bam',\n",
       " '../data/raw/scBam/CB_AACCGCGTCTCTAGGA-1.bam',\n",
       " '../data/raw/scBam/CB_AAAGATGAGAGACTAT-1.bam',\n",
       " '../data/raw/scBam/CB_AACCGCGCAGGCGATA-1.bam',\n",
       " '../data/raw/scBam/CB_AAACGGGAGGAGTCTG-1.bam',\n",
       " '../data/raw/scBam/CB_AAAGATGTCCTAAGTG-1.bam',\n",
       " '../data/raw/scBam/CB_AAGTCTGCACATTAGC-1.bam',\n",
       " '../data/raw/scBam/CB_AACTTTCGTGTGACGA-1.bam',\n",
       " '../data/raw/scBam/CB_AAAGTAGAGTAACCCT-1.bam',\n",
       " '../data/raw/scBam/CB_AAGTCTGGTATGAATG-1.bam',\n",
       " '../data/raw/scBam/CB_AACTCCCTCCACGAAT-1.bam',\n",
       " '../data/raw/scBam/CB_AACTGGTAGCGATTCT-1.bam',\n",
       " '../data/raw/scBam/CB_AAGGCAGCATGGGAAC-1.bam',\n",
       " '../data/raw/scBam/CB_AAATGCCTCTCTGTCG-1.bam',\n",
       " '../data/raw/scBam/CB_AACTCAGGTTGCGCAC-1.bam',\n",
       " '../data/raw/scBam/CB_AACTGGTTCACTTCAT-1.bam',\n",
       " '../data/raw/scBam/CB_AACTCAGAGTGTTGAA-1.bam',\n",
       " '../data/raw/scBam/CB_AACTTTCCACAGGAGT-1.bam',\n",
       " '../data/raw/scBam/CB_AAGCCGCTCGCAGGCT-1.bam',\n",
       " '../data/raw/scBam/CB_AAGGTTCGTTCCAACA-1.bam',\n",
       " '../data/raw/scBam/CB_AAGTCTGGTAGGACAC-1.bam',\n",
       " '../data/raw/scBam/CB_AACACGTAGAATGTTG-1.bam',\n",
       " '../data/raw/scBam/CB_AAGGCAGGTTGTCGCG-1.bam',\n",
       " '../data/raw/scBam/CB_AAAGTAGGTCCGTGAC-1.bam',\n",
       " '../data/raw/scBam/CB_AAAGTAGAGTAGCCGA-1.bam',\n",
       " '../data/raw/scBam/CB_AACTCAGAGATATGCA-1.bam',\n",
       " '../data/raw/scBam/CB_ACACCAAAGGTGCTAG-1.bam',\n",
       " '../data/raw/scBam/CB_AACTTTCTCAAGGCTT-1.bam',\n",
       " '../data/raw/scBam/CB_AACTCCCTCACCTTAT-1.bam',\n",
       " '../data/raw/scBam/CB_AATCCAGGTCTCTTTA-1.bam',\n",
       " '../data/raw/scBam/CB_AAGTCTGTCGTGACAT-1.bam',\n",
       " '../data/raw/scBam/CB_AAAGATGCATCGTCGG-1.bam',\n",
       " '../data/raw/scBam/CB_AACTCTTCATTGGGCC-1.bam',\n",
       " '../data/raw/scBam/CB_AACTCCCCAGCTTAAC-1.bam',\n",
       " '../data/raw/scBam/CB_AATCGGTGTTACAGAA-1.bam',\n",
       " '../data/raw/scBam/CB_AAGGTTCTCATTATCC-1.bam',\n",
       " '../data/raw/scBam/CB_AAGGTTCAGCGCTTAT-1.bam',\n",
       " '../data/raw/scBam/CB_AACCATGAGCAGGTCA-1.bam',\n",
       " '../data/raw/scBam/CB_AACCGCGTCCATGCTC-1.bam',\n",
       " '../data/raw/scBam/CB_AAGTCTGCATAGTAAG-1.bam',\n",
       " '../data/raw/scBam/CB_AACTCCCGTAGGACAC-1.bam',\n",
       " '../data/raw/scBam/CB_AAAGATGAGTGGGATC-1.bam',\n",
       " '../data/raw/scBam/CB_AACTCTTAGACAGGCT-1.bam',\n",
       " '../data/raw/scBam/CB_AAGCCGCGTTATCGGT-1.bam',\n",
       " '../data/raw/scBam/CB_AAGGAGCTCAATAAGG-1.bam',\n",
       " '../data/raw/scBam/CB_AAATGCCGTCGTGGCT-1.bam',\n",
       " '../data/raw/scBam/CB_AACCGCGCAGACTCGC-1.bam',\n",
       " '../data/raw/scBam/CB_AACTTTCTCTTAGAGC-1.bam',\n",
       " '../data/raw/scBam/CB_AAATGCCTCAGCCTAA-1.bam',\n",
       " '../data/raw/scBam/CB_AAGTCTGGTGTATGGG-1.bam',\n",
       " '../data/raw/scBam/CB_AAAGCAACAGTAAGAT-1.bam',\n",
       " '../data/raw/scBam/CB_AAGACCTGTCGAGTTT-1.bam',\n",
       " '../data/raw/scBam/CB_AACGTTGGTGCGCTTG-1.bam',\n",
       " '../data/raw/scBam/CB_AACCGCGTCAACTCTT-1.bam',\n",
       " '../data/raw/scBam/CB_AACGTTGAGTGCGATG-1.bam',\n",
       " '../data/raw/scBam/CB_AACTTTCTCCCAGGTG-1.bam',\n",
       " '../data/raw/scBam/CB_AACCGCGCATTTCAGG-1.bam',\n",
       " '../data/raw/scBam/CB_AAAGCAACACGAGGTA-1.bam',\n",
       " '../data/raw/scBam/CB_AAAGCAATCTAACTGG-1.bam',\n",
       " '../data/raw/scBam/CB_AACTTTCGTCACCTAA-1.bam',\n",
       " '../data/raw/scBam/CB_AACTCCCAGGCTACGA-1.bam',\n",
       " '../data/raw/scBam/CB_AACCGCGCATAGAAAC-1.bam',\n",
       " '../data/raw/scBam/CB_AAGACCTCAACGCACC-1.bam',\n",
       " '../data/raw/scBam/CB_AAAGTAGGTTCGAATC-1.bam',\n",
       " '../data/raw/scBam/CB_AACCATGCAAACGCGA-1.bam',\n",
       " '../data/raw/scBam/CB_AAGGAGCCACCACCAG-1.bam',\n",
       " '../data/raw/scBam/CB_AAAGCAAGTTCGTCTC-1.bam',\n",
       " '../data/raw/scBam/CB_AATCGGTAGCAGCGTA-1.bam',\n",
       " '../data/raw/scBam/CB_AAACGGGCAATCTGCA-1.bam',\n",
       " '../data/raw/scBam/CB_AAAGCAAAGAGCCTAG-1.bam',\n",
       " '../data/raw/scBam/CB_AACGTTGTCGCAGGCT-1.bam',\n",
       " '../data/raw/scBam/CB_AACACGTCAGACAGGT-1.bam',\n",
       " '../data/raw/scBam/CB_AACCATGGTAGCTGCC-1.bam',\n",
       " '../data/raw/scBam/CB_AAAGATGAGTGTGGCA-1.bam',\n",
       " '../data/raw/scBam/CB_AACTGGTAGCCGATTT-1.bam',\n",
       " '../data/raw/scBam/CB_AAGGAGCTCACAGTAC-1.bam',\n",
       " '../data/raw/scBam/CB_AAAGATGGTTCGAATC-1.bam',\n",
       " '../data/raw/scBam/CB_AACACGTAGAGACTTA-1.bam',\n",
       " '../data/raw/scBam/CB_AACTTTCGTGATAAGT-1.bam',\n",
       " '../data/raw/scBam/CB_AACGTTGCAAGGGTCA-1.bam',\n",
       " '../data/raw/scBam/CB_AACACGTCACTCTGTC-1.bam',\n",
       " '../data/raw/scBam/CB_AAATGCCGTACTTCTT-1.bam',\n",
       " '../data/raw/scBam/CB_AAACCTGTCGGTTAAC-1.bam',\n",
       " '../data/raw/scBam/CB_AACTTTCAGAACTCGG-1.bam',\n",
       " '../data/raw/scBam/CB_AAGCCGCCAGACGTAG-1.bam',\n",
       " '../data/raw/scBam/CB_AACTCCCTCACGCATA-1.bam',\n",
       " '../data/raw/scBam/CB_AAGCCGCGTCTTGCGG-1.bam',\n",
       " '../data/raw/scBam/CB_AAGGCAGGTTTAAGCC-1.bam',\n",
       " '../data/raw/scBam/CB_AACTCCCTCTGTTGAG-1.bam',\n",
       " '../data/raw/scBam/CB_AATCGGTCACGCGAAA-1.bam',\n",
       " '../data/raw/scBam/CB_AAGGAGCGTATTAGCC-1.bam',\n",
       " '../data/raw/scBam/CB_AATCGGTAGACCCACC-1.bam',\n",
       " '../data/raw/scBam/CB_AACTTTCAGCGCTCCA-1.bam',\n",
       " '../data/raw/scBam/CB_AAGGTTCTCGCCTGTT-1.bam',\n",
       " '../data/raw/scBam/CB_AAACCTGTCATAGCAC-1.bam',\n",
       " '../data/raw/scBam/CB_AACTTTCCAGCTGCTG-1.bam',\n",
       " '../data/raw/scBam/CB_AACTCTTCAGATCCAT-1.bam',\n",
       " '../data/raw/scBam/CB_AAGGTTCCAATGAAAC-1.bam',\n",
       " '../data/raw/scBam/CB_AACTCCCGTAAATGAC-1.bam',\n",
       " '../data/raw/scBam/CB_AATCCAGCAATACGCT-1.bam',\n",
       " '../data/raw/scBam/CB_AACACGTAGTTTGCGT-1.bam',\n",
       " '../data/raw/scBam/CB_AATCCAGCATATGGTC-1.bam',\n",
       " '../data/raw/scBam/CB_AAAGATGAGACTACAA-1.bam',\n",
       " '../data/raw/scBam/CB_AAGACCTAGGCTCAGA-1.bam',\n",
       " '../data/raw/scBam/CB_AAACGGGTCATTGCGA-1.bam',\n",
       " '../data/raw/scBam/CB_AACCATGAGTGAAGAG-1.bam',\n",
       " '../data/raw/scBam/CB_AAGTCTGCACCTTGTC-1.bam',\n",
       " '../data/raw/scBam/CB_AAGACCTGTCCAGTAT-1.bam',\n",
       " '../data/raw/scBam/CB_AAGGTTCGTGTGCGTC-1.bam',\n",
       " '../data/raw/scBam/CB_AACTCAGAGCCGTCGT-1.bam',\n",
       " '../data/raw/scBam/CB_AAGGTTCAGCCACCTG-1.bam',\n",
       " '../data/raw/scBam/CB_AACTCCCCAGTTAACC-1.bam',\n",
       " '../data/raw/scBam/CB_AAGACCTTCTCCAACC-1.bam',\n",
       " '../data/raw/scBam/CB_AACTCAGGTGAGGGTT-1.bam',\n",
       " '../data/raw/scBam/CB_AACACGTGTTCCATGA-1.bam',\n",
       " '../data/raw/scBam/CB_AAGGCAGGTCAATACC-1.bam',\n",
       " '../data/raw/scBam/CB_AAAGTAGAGTCATGCT-1.bam',\n",
       " '../data/raw/scBam/CB_AACTCTTGTAAATACG-1.bam',\n",
       " '../data/raw/scBam/CB_AACTCCCTCAGTCAGT-1.bam',\n",
       " '../data/raw/scBam/CB_AAACGGGTCTGCCAGG-1.bam',\n",
       " '../data/raw/scBam/CB_AACGTTGCAGGCGATA-1.bam',\n",
       " '../data/raw/scBam/CB_AACTGGTCAACCGCCA-1.bam',\n",
       " '../data/raw/scBam/CB_AAAGTAGTCCGTAGTA-1.bam',\n",
       " '../data/raw/scBam/CB_AAGCCGCGTAAGTGTA-1.bam',\n",
       " '../data/raw/scBam/CB_AAGGTTCAGGCGCTCT-1.bam',\n",
       " '../data/raw/scBam/CB_AACCATGGTCAACATC-1.bam',\n",
       " '../data/raw/scBam/CB_AACTGGTGTTCACGGC-1.bam',\n",
       " '../data/raw/scBam/CB_AACTGGTCAGCGTTCG-1.bam',\n",
       " '../data/raw/scBam/CB_AAAGCAACATAACCTG-1.bam',\n",
       " '../data/raw/scBam/CB_AAAGTAGAGATGTGTA-1.bam',\n",
       " '../data/raw/scBam/CB_AACTCAGAGTCGAGTG-1.bam',\n",
       " '../data/raw/scBam/CB_AACGTTGCAGACGCCT-1.bam',\n",
       " '../data/raw/scBam/CB_AATCCAGGTGCAGTAG-1.bam',\n",
       " '../data/raw/scBam/CB_AACTCCCTCAGCACAT-1.bam',\n",
       " '../data/raw/scBam/CB_AAAGCAATCAATCTCT-1.bam',\n",
       " '../data/raw/scBam/CB_AAAGCAAGTTCGCGAC-1.bam',\n",
       " '../data/raw/scBam/CB_AACACGTCAACTGCTA-1.bam',\n",
       " '../data/raw/scBam/CB_AACTTTCCAGGCGATA-1.bam',\n",
       " '../data/raw/scBam/CB_AAGGTTCTCATAACCG-1.bam',\n",
       " '../data/raw/scBam/CB_AACGTTGGTCTTGCGG-1.bam',\n",
       " '../data/raw/scBam/CB_AACTTTCGTTCCCGAG-1.bam',\n",
       " '../data/raw/scBam/CB_AAGACCTTCTTGTACT-1.bam',\n",
       " '../data/raw/scBam/CB_AACGTTGTCACCAGGC-1.bam',\n",
       " '../data/raw/scBam/CB_AACTCTTGTTCAGTAC-1.bam',\n",
       " '../data/raw/scBam/CB_AACTTTCTCGAACGGA-1.bam',\n",
       " '../data/raw/scBam/CB_AAGACCTTCTGGCGAC-1.bam',\n",
       " '../data/raw/scBam/CB_AACTGGTAGATCTGCT-1.bam',\n",
       " '../data/raw/scBam/CB_AAACGGGCAAAGTCAA-1.bam',\n",
       " '../data/raw/scBam/CB_AAGACCTGTGAGTGAC-1.bam',\n",
       " '../data/raw/scBam/CB_AAGGCAGAGGTGTGGT-1.bam',\n",
       " '../data/raw/scBam/CB_AACCGCGGTGAGGCTA-1.bam',\n",
       " '../data/raw/scBam/CB_AAGGAGCCATGCAATC-1.bam',\n",
       " '../data/raw/scBam/CB_AACCGCGGTACAGACG-1.bam',\n",
       " '../data/raw/scBam/CB_AACACGTGTGTCGCTG-1.bam',\n",
       " '../data/raw/scBam/CB_AACCATGAGTTCCACA-1.bam',\n",
       " '../data/raw/scBam/CB_AAGTCTGCACTTCGAA-1.bam',\n",
       " '../data/raw/scBam/CB_AAAGTAGCATGCAATC-1.bam',\n",
       " '../data/raw/scBam/CB_AACACGTTCGGAAATA-1.bam',\n",
       " '../data/raw/scBam/CB_AATCGGTTCAACACGT-1.bam',\n",
       " '../data/raw/scBam/CB_AAGACCTTCTCGATGA-1.bam',\n",
       " '../data/raw/scBam/CB_AAAGATGCAGATCGGA-1.bam',\n",
       " '../data/raw/scBam/CB_AAATGCCCAAACGCGA-1.bam',\n",
       " '../data/raw/scBam/CB_AAACCTGGTACAGTGG-1.bam',\n",
       " '../data/raw/scBam/CB_AAACCTGAGCCGGTAA-1.bam',\n",
       " '../data/raw/scBam/CB_AAACCTGCAAGTCTAC-1.bam',\n",
       " '../data/raw/scBam/CB_AACCATGCACCCATGG-1.bam',\n",
       " '../data/raw/scBam/CB_AACCATGTCGTGGACC-1.bam',\n",
       " '../data/raw/scBam/CB_AAAGCAATCACAATGC-1.bam',\n",
       " '../data/raw/scBam/CB_AACACGTAGGATGGAA-1.bam',\n",
       " '../data/raw/scBam/CB_AAACCTGAGACAGGCT-1.bam',\n",
       " '../data/raw/scBam/CB_AACACGTGTCGGGTCT-1.bam',\n",
       " '../data/raw/scBam/CB_AACTGGTAGTTCGCGC-1.bam',\n",
       " '../data/raw/scBam/CB_AAGCCGCAGATACACA-1.bam',\n",
       " '../data/raw/scBam/CB_AAGGAGCAGGTGTGGT-1.bam',\n",
       " '../data/raw/scBam/CB_AAGGTTCCAGTATGCT-1.bam',\n",
       " '../data/raw/scBam/CB_AAACGGGCATTGTGCA-1.bam',\n",
       " '../data/raw/scBam/CB_AATCCAGTCTCGCTTG-1.bam',\n",
       " '../data/raw/scBam/CB_AAGACCTGTGAGTATA-1.bam',\n",
       " '../data/raw/scBam/CB_ACACCAAAGGCTACGA-1.bam',\n",
       " '../data/raw/scBam/CB_AATCGGTGTCGGCATC-1.bam',\n",
       " '../data/raw/scBam/CB_AAAGATGCATCCTAGA-1.bam',\n",
       " '../data/raw/scBam/CB_AAGTCTGGTCTAACGT-1.bam',\n",
       " '../data/raw/scBam/CB_AACTCTTGTCGCTTCT-1.bam',\n",
       " '../data/raw/scBam/CB_AAGGAGCGTTTCGCTC-1.bam',\n",
       " '../data/raw/scBam/CB_AACTCTTGTCTGCAAT-1.bam',\n",
       " '../data/raw/scBam/CB_AACGTTGAGTCATGCT-1.bam',\n",
       " '../data/raw/scBam/CB_AATCCAGTCTCTGAGA-1.bam',\n",
       " '../data/raw/scBam/CB_AAGGTTCGTCGAGTTT-1.bam',\n",
       " '../data/raw/scBam/CB_AACTTTCTCCTCATTA-1.bam',\n",
       " '../data/raw/scBam/CB_AAAGCAAAGCTGCGAA-1.bam',\n",
       " '../data/raw/scBam/CB_AACTTTCCACAGATTC-1.bam',\n",
       " '../data/raw/scBam/CB_AACCGCGTCAAGAAGT-1.bam',\n",
       " '../data/raw/scBam/CB_AACTCCCAGACTAGAT-1.bam',\n",
       " '../data/raw/scBam/CB_AACTCAGGTAAAGGAG-1.bam',\n",
       " '../data/raw/scBam/CB_AACTCCCGTACCCAAT-1.bam',\n",
       " '../data/raw/scBam/CB_AAGACCTTCTACCTGC-1.bam',\n",
       " '../data/raw/scBam/CB_AATCCAGAGGAATCGC-1.bam',\n",
       " '../data/raw/scBam/CB_AACCGCGAGCAATATG-1.bam',\n",
       " '../data/raw/scBam/CB_AAACGGGCATTGGGCC-1.bam',\n",
       " '../data/raw/scBam/CB_AAAGATGTCTGTACGA-1.bam',\n",
       " '../data/raw/scBam/CB_AACGTTGAGTGAACGC-1.bam',\n",
       " '../data/raw/scBam/CB_AACCATGCACCTCGTT-1.bam',\n",
       " '../data/raw/scBam/CB_AAGCCGCAGTGAAGTT-1.bam',\n",
       " '../data/raw/scBam/CB_AAGACCTAGTACGCGA-1.bam',\n",
       " '../data/raw/scBam/CB_AAACCTGCATCACGAT-1.bam',\n",
       " '../data/raw/scBam/CB_AACACGTCATCAGTCA-1.bam',\n",
       " '../data/raw/scBam/CB_AAAGATGCAAGCGATG-1.bam',\n",
       " '../data/raw/scBam/CB_AACTCCCCATTTCAGG-1.bam',\n",
       " '../data/raw/scBam/CB_AACTTTCAGGTGCACA-1.bam',\n",
       " '../data/raw/scBam/CB_AACTCCCAGTTTCCTT-1.bam',\n",
       " '../data/raw/scBam/CB_AACTTTCGTAGCACGA-1.bam',\n",
       " '../data/raw/scBam/CB_AACACGTGTCACACGC-1.bam',\n",
       " '../data/raw/scBam/CB_AAAGATGTCAAACAAG-1.bam',\n",
       " '../data/raw/scBam/CB_AACTGGTCACATTAGC-1.bam',\n",
       " '../data/raw/scBam/CB_AACTCTTCATTATCTC-1.bam',\n",
       " '../data/raw/scBam/CB_AATCGGTAGCAGGTCA-1.bam',\n",
       " '../data/raw/scBam/CB_AACCGCGTCTGCTGCT-1.bam',\n",
       " '../data/raw/scBam/CB_AACTCCCCATGCAATC-1.bam',\n",
       " '../data/raw/scBam/CB_AACTCAGTCAATCTCT-1.bam',\n",
       " '../data/raw/scBam/CB_AAACCTGAGAGCCCAA-1.bam',\n",
       " '../data/raw/scBam/CB_AAACCTGTCCTACAGA-1.bam',\n",
       " '../data/raw/scBam/CB_AAAGTAGTCATCGCTC-1.bam',\n",
       " '../data/raw/scBam/CB_AAACCTGTCGAATGGG-1.bam',\n",
       " '../data/raw/scBam/CB_AAGACCTAGAGTAATC-1.bam',\n",
       " '../data/raw/scBam/CB_AAGGAGCAGTACACCT-1.bam',\n",
       " '../data/raw/scBam/CB_AAAGTAGTCCTATGTT-1.bam',\n",
       " '../data/raw/scBam/CB_AACACGTCAATAGAGT-1.bam',\n",
       " '../data/raw/scBam/CB_AACCATGCACGTAAGG-1.bam',\n",
       " '../data/raw/scBam/CB_AAGGCAGGTGTCGCTG-1.bam',\n",
       " '../data/raw/scBam/CB_AACTCTTTCACGGTTA-1.bam',\n",
       " '../data/raw/scBam/CB_AAATGCCTCCGCTGTT-1.bam',\n",
       " '../data/raw/scBam/CB_AAGGAGCAGTCATCCA-1.bam',\n",
       " '../data/raw/scBam/CB_AACTCAGCAGGATTGG-1.bam',\n",
       " '../data/raw/scBam/CB_AAAGTAGCAGATAATG-1.bam',\n",
       " '../data/raw/scBam/CB_AAATGCCTCGCCAAAT-1.bam',\n",
       " '../data/raw/scBam/CB_AAAGCAAGTAGGACAC-1.bam',\n",
       " '../data/raw/scBam/CB_AAGGTTCCAGCTATTG-1.bam',\n",
       " '../data/raw/scBam/CB_AACTCAGGTTCCGGCA-1.bam',\n",
       " '../data/raw/scBam/CB_AAATGCCAGATGCCTT-1.bam',\n",
       " '../data/raw/scBam/CB_AAGGAGCAGATATGGT-1.bam',\n",
       " '../data/raw/scBam/CB_AAACCTGTCTGCAGTA-1.bam',\n",
       " '../data/raw/scBam/CB_AACTGGTCACGACGAA-1.bam',\n",
       " '../data/raw/scBam/CB_AACTTTCCACGTGAGA-1.bam',\n",
       " '../data/raw/scBam/CB_AAGGCAGGTCCGTTAA-1.bam',\n",
       " '../data/raw/scBam/CB_AAATGCCTCAGGTTCA-1.bam',\n",
       " '../data/raw/scBam/CB_AACACGTCAAGACGTG-1.bam',\n",
       " '../data/raw/scBam/CB_AACACGTCACACAGAG-1.bam',\n",
       " '../data/raw/scBam/CB_AACTCAGCATTTCAGG-1.bam',\n",
       " '../data/raw/scBam/CB_AACTGGTCATATACCG-1.bam',\n",
       " '../data/raw/scBam/CB_AAGGCAGCAATGGAAT-1.bam',\n",
       " '../data/raw/scBam/CB_AACTCCCTCAGATAAG-1.bam',\n",
       " '../data/raw/scBam/CB_AAGGTTCCACCCATGG-1.bam',\n",
       " '../data/raw/scBam/CB_AAGCCGCTCCTCCTAG-1.bam',\n",
       " '../data/raw/scBam/CB_AAGTCTGAGCCCGAAA-1.bam',\n",
       " '../data/raw/scBam/CB_AAGCCGCGTGTTGAGG-1.bam',\n",
       " '../data/raw/scBam/CB_AACACGTAGGCATGGT-1.bam',\n",
       " '../data/raw/scBam/CB_AACACGTTCCAGAGGA-1.bam',\n",
       " '../data/raw/scBam/CB_AACGTTGCATAACCTG-1.bam',\n",
       " '../data/raw/scBam/CB_AACGTTGAGGAGCGTT-1.bam',\n",
       " '../data/raw/scBam/CB_AAGGTTCCAGCCTTTC-1.bam',\n",
       " '../data/raw/scBam/CB_AACTTTCAGTCCCACG-1.bam',\n",
       " '../data/raw/scBam/CB_AAGGCAGTCAATCTCT-1.bam',\n",
       " '../data/raw/scBam/CB_AAAGTAGTCCCTTGTG-1.bam',\n",
       " '../data/raw/scBam/CB_AAGGTTCTCTTATCTG-1.bam',\n",
       " '../data/raw/scBam/CB_AACGTTGGTTCGAATC-1.bam',\n",
       " '../data/raw/scBam/CB_AAGGCAGAGTCCATAC-1.bam',\n",
       " '../data/raw/scBam/CB_AACACGTCATTTGCTT-1.bam',\n",
       " '../data/raw/scBam/CB_AAGGTTCGTACTCAAC-1.bam',\n",
       " '../data/raw/scBam/CB_AAGGTTCGTCTGATTG-1.bam',\n",
       " '../data/raw/scBam/CB_AACTCCCTCATATCGG-1.bam',\n",
       " '../data/raw/scBam/CB_AACTCCCGTATATGGA-1.bam',\n",
       " '../data/raw/scBam/CB_AAACGGGAGGCACATG-1.bam',\n",
       " '../data/raw/scBam/CB_AATCCAGCATGTTGAC-1.bam',\n",
       " '../data/raw/scBam/CB_AACTTTCAGTGTCCAT-1.bam',\n",
       " '../data/raw/scBam/CB_AAGGCAGTCGAGAGCA-1.bam',\n",
       " '../data/raw/scBam/CB_AACTCCCAGGTGGGTT-1.bam',\n",
       " '../data/raw/scBam/CB_AACCATGCAGTCAGCC-1.bam',\n",
       " '../data/raw/scBam/CB_AATCGGTGTCCAGTGC-1.bam',\n",
       " '../data/raw/scBam/CB_AACCGCGTCTACTCAT-1.bam',\n",
       " '../data/raw/scBam/CB_AACCATGCAGTATCTG-1.bam',\n",
       " '../data/raw/scBam/CB_AAGACCTCACAGGCCT-1.bam',\n",
       " '../data/raw/scBam/CB_AATCGGTCAATCTGCA-1.bam',\n",
       " '../data/raw/scBam/CB_AACCATGAGATATGCA-1.bam',\n",
       " '../data/raw/scBam/CB_AATCGGTGTTAGAACA-1.bam',\n",
       " '../data/raw/scBam/CB_AAGGAGCCATAAAGGT-1.bam',\n",
       " '../data/raw/scBam/CB_AAGGAGCCACGTCAGC-1.bam',\n",
       " '../data/raw/scBam/CB_AAGACCTAGGACATTA-1.bam',\n",
       " '../data/raw/scBam/CB_AATCGGTTCCTGTAGA-1.bam',\n",
       " '../data/raw/scBam/CB_AAACCTGCAGTGGAGT-1.bam',\n",
       " '../data/raw/scBam/CB_AAGGCAGCAGCCTATA-1.bam',\n",
       " '../data/raw/scBam/CB_AAGGAGCCAGCTCGCA-1.bam',\n",
       " '../data/raw/scBam/CB_AACTCCCAGAGACGAA-1.bam',\n",
       " '../data/raw/scBam/CB_AAATGCCAGTCGTTTG-1.bam',\n",
       " '../data/raw/scBam/CB_AAAGCAACAATGTTGC-1.bam',\n",
       " '../data/raw/scBam/CB_AAGGAGCTCCTATGTT-1.bam',\n",
       " '../data/raw/scBam/CB_AAAGTAGAGGACCACA-1.bam',\n",
       " '../data/raw/scBam/CB_AACACGTCAGATCGGA-1.bam',\n",
       " '../data/raw/scBam/CB_AACGTTGAGGTGATTA-1.bam',\n",
       " '../data/raw/scBam/CB_AAAGCAACACCGAATT-1.bam',\n",
       " '../data/raw/scBam/CB_AAAGTAGGTCAATACC-1.bam',\n",
       " '../data/raw/scBam/CB_AACTTTCAGAATTGTG-1.bam',\n",
       " '../data/raw/scBam/CB_AATCGGTTCGCGGATC-1.bam',\n",
       " '../data/raw/scBam/CB_AAGCCGCGTAGCACGA-1.bam',\n",
       " '../data/raw/scBam/CB_AACCGCGCAATCTGCA-1.bam',\n",
       " '../data/raw/scBam/CB_AACCGCGTCATGGTCA-1.bam',\n",
       " '../data/raw/scBam/CB_AAATGCCAGCTAGTCT-1.bam',\n",
       " '../data/raw/scBam/CB_AACTCAGCAGCCTTGG-1.bam',\n",
       " '../data/raw/scBam/CB_AAACGGGAGTAGGCCA-1.bam',\n",
       " '../data/raw/scBam/CB_AACTCAGCATCGATTG-1.bam',\n",
       " '../data/raw/scBam/CB_AACTCCCGTTAAAGTG-1.bam',\n",
       " '../data/raw/scBam/CB_AAAGATGGTATCTGCA-1.bam',\n",
       " '../data/raw/scBam/CB_AACCGCGAGGCTAGAC-1.bam',\n",
       " '../data/raw/scBam/CB_AAACCTGCAGTTTACG-1.bam',\n",
       " '../data/raw/scBam/CB_AACTTTCCAGCCTGTG-1.bam',\n",
       " '../data/raw/scBam/CB_AACCATGAGTACACCT-1.bam',\n",
       " '../data/raw/scBam/CB_AACCGCGTCAGCACAT-1.bam',\n",
       " '../data/raw/scBam/CB_AAGCCGCGTCACTGGC-1.bam',\n",
       " '../data/raw/scBam/CB_AAGTCTGTCTGAAAGA-1.bam',\n",
       " '../data/raw/scBam/CB_AAAGCAAAGCCACGCT-1.bam',\n",
       " '../data/raw/scBam/CB_AACTCAGGTGAGTGAC-1.bam',\n",
       " '../data/raw/scBam/CB_AACACGTAGCGCTCCA-1.bam',\n",
       " '../data/raw/scBam/CB_AATCCAGTCGCCTGTT-1.bam',\n",
       " '../data/raw/scBam/CB_AACTTTCTCCGAACGC-1.bam',\n",
       " '../data/raw/scBam/CB_AAAGCAATCTCGCATC-1.bam',\n",
       " '../data/raw/scBam/CB_AACGTTGAGTCGTACT-1.bam',\n",
       " '../data/raw/scBam/CB_AAGACCTTCACAGGCC-1.bam',\n",
       " '../data/raw/scBam/CB_AAGTCTGCACTTAAGC-1.bam',\n",
       " '../data/raw/scBam/CB_AAACCTGTCTACTATC-1.bam',\n",
       " '../data/raw/scBam/CB_AACTGGTGTACCCAAT-1.bam',\n",
       " '../data/raw/scBam/CB_AAAGCAAGTTAGATGA-1.bam',\n",
       " '../data/raw/scBam/CB_AACTTTCGTCGCTTTC-1.bam',\n",
       " '../data/raw/scBam/CB_AACACGTAGTACCGGA-1.bam',\n",
       " '../data/raw/scBam/CB_AACTCTTCAGGACGTA-1.bam',\n",
       " '../data/raw/scBam/CB_AAAGTAGTCTCGCTTG-1.bam',\n",
       " '../data/raw/scBam/CB_AACCATGGTTCCACTC-1.bam',\n",
       " '../data/raw/scBam/CB_AAACCTGGTACCCAAT-1.bam',\n",
       " '../data/raw/scBam/CB_AAGTCTGCAAGTAATG-1.bam',\n",
       " '../data/raw/scBam/CB_AACTTTCGTTGTCTTT-1.bam',\n",
       " '../data/raw/scBam/CB_AATCCAGCATAAAGGT-1.bam',\n",
       " '../data/raw/scBam/CB_AAAGCAAGTATGCTTG-1.bam',\n",
       " '../data/raw/scBam/CB_AACCGCGAGTTAAGTG-1.bam',\n",
       " '../data/raw/scBam/CB_AAGGTTCGTCCGAAGA-1.bam',\n",
       " '../data/raw/scBam/CB_AAGTCTGTCTCCAGGG-1.bam',\n",
       " '../data/raw/scBam/CB_AAGGAGCTCTGCCAGG-1.bam',\n",
       " '../data/raw/scBam/CB_AAGCCGCAGAGGACGG-1.bam',\n",
       " '../data/raw/scBam/CB_AAGGCAGTCGTAGATC-1.bam',\n",
       " '../data/raw/scBam/CB_AAATGCCGTGAGGCTA-1.bam',\n",
       " '../data/raw/scBam/CB_AAAGTAGCATACGCCG-1.bam',\n",
       " '../data/raw/scBam/CB_AAACGGGTCTTGAGAC-1.bam',\n",
       " '../data/raw/scBam/CB_AAAGTAGGTCGCATCG-1.bam',\n",
       " '../data/raw/scBam/CB_AACTCTTTCTAGCACA-1.bam',\n",
       " '../data/raw/scBam/CB_AACGTTGTCCGAAGAG-1.bam',\n",
       " '../data/raw/scBam/CB_AACTCCCGTCTCCATC-1.bam',\n",
       " '../data/raw/scBam/CB_AACTCCCTCCCTTGCA-1.bam',\n",
       " '../data/raw/scBam/CB_AACTCCCGTCATATCG-1.bam',\n",
       " '../data/raw/scBam/CB_AAAGTAGAGCGATTCT-1.bam',\n",
       " '../data/raw/scBam/CB_AACTCCCGTCTCCACT-1.bam',\n",
       " '../data/raw/scBam/CB_AAGGTTCCAGATCTGT-1.bam',\n",
       " '../data/raw/scBam/CB_AACTTTCAGAATTCCC-1.bam',\n",
       " '../data/raw/scBam/CB_AATCCAGGTTATCCGA-1.bam',\n",
       " '../data/raw/scBam/CB_AAAGATGGTGACCAAG-1.bam',\n",
       " '../data/raw/scBam/CB_AACTCAGCAAGCTGGA-1.bam',\n",
       " '../data/raw/scBam/CB_AACTGGTCAACACGCC-1.bam',\n",
       " '../data/raw/scBam/CB_AATCCAGGTCAGTGGA-1.bam',\n",
       " '../data/raw/scBam/CB_AACTGGTGTCTCTTTA-1.bam',\n",
       " '../data/raw/scBam/CB_AAGACCTTCACCCGAG-1.bam',\n",
       " '../data/raw/scBam/CB_AATCGGTTCAGAGGTG-1.bam',\n",
       " '../data/raw/scBam/CB_AAGGAGCGTCATGCAT-1.bam',\n",
       " '../data/raw/scBam/CB_AATCGGTAGGGATCTG-1.bam',\n",
       " '../data/raw/scBam/CB_AACTTTCAGGCGCTCT-1.bam',\n",
       " '../data/raw/scBam/CB_AAGTCTGCAGGTTTCA-1.bam',\n",
       " '../data/raw/scBam/CB_AACTTTCCACTGTGTA-1.bam',\n",
       " '../data/raw/scBam/CB_AAGACCTGTCGCGTGT-1.bam',\n",
       " '../data/raw/scBam/CB_AACTCAGTCCTCGCAT-1.bam',\n",
       " '../data/raw/scBam/CB_AACTGGTCAGGGAGAG-1.bam',\n",
       " '../data/raw/scBam/CB_AACCATGGTGACGGTA-1.bam',\n",
       " '../data/raw/scBam/CB_AAGGAGCGTCGCGAAA-1.bam',\n",
       " '../data/raw/scBam/CB_AAGCCGCGTTACGACT-1.bam',\n",
       " '../data/raw/scBam/CB_AAGGTTCTCATAGCAC-1.bam',\n",
       " '../data/raw/scBam/CB_AAATGCCAGCTCAACT-1.bam',\n",
       " '../data/raw/scBam/CB_AACCATGCAGGACCCT-1.bam',\n",
       " '../data/raw/scBam/CB_AAAGATGCATGCGCAC-1.bam',\n",
       " '../data/raw/scBam/CB_AACCGCGCATGTTCCC-1.bam',\n",
       " '../data/raw/scBam/CB_AAAGATGTCCGTCATC-1.bam',\n",
       " '../data/raw/scBam/CB_AATCCAGTCATACGGT-1.bam',\n",
       " '../data/raw/scBam/CB_AACTCAGTCGAATGGG-1.bam',\n",
       " '../data/raw/scBam/CB_AACTCAGAGAAACGCC-1.bam',\n",
       " '../data/raw/scBam/CB_AATCCAGAGTTTCCTT-1.bam',\n",
       " '../data/raw/scBam/CB_AATCGGTTCATATCGG-1.bam',\n",
       " '../data/raw/scBam/CB_AATCGGTAGCTAGTGG-1.bam',\n",
       " '../data/raw/scBam/CB_AAGACCTGTCGAACAG-1.bam',\n",
       " '../data/raw/scBam/CB_AAGTCTGCATGAAGTA-1.bam',\n",
       " '../data/raw/scBam/CB_AATCGGTCATCCGTGG-1.bam',\n",
       " '../data/raw/scBam/CB_AATCGGTAGCTTATCG-1.bam',\n",
       " '../data/raw/scBam/CB_AAACCTGCAATGGACG-1.bam',\n",
       " '../data/raw/scBam/CB_AACTCAGTCCGATATG-1.bam',\n",
       " '../data/raw/scBam/CB_AACTCTTTCGTTTATC-1.bam',\n",
       " '../data/raw/scBam/CB_AAATGCCTCCAAGTAC-1.bam',\n",
       " '../data/raw/scBam/CB_AAGGCAGTCCTATTCA-1.bam',\n",
       " '../data/raw/scBam/CB_AAGCCGCTCTGCTTGC-1.bam',\n",
       " '../data/raw/scBam/CB_AAACGGGTCCGTCAAA-1.bam',\n",
       " '../data/raw/scBam/CB_AATCCAGTCCGAAGAG-1.bam',\n",
       " '../data/raw/scBam/CB_AACTCAGCAAGCTGTT-1.bam',\n",
       " '../data/raw/scBam/CB_AAGACCTAGACCCACC-1.bam',\n",
       " '../data/raw/scBam/CB_AATCCAGGTAGGACAC-1.bam',\n",
       " '../data/raw/scBam/CB_AACACGTGTACTCAAC-1.bam',\n",
       " '../data/raw/scBam/CB_AACGTTGGTCACTGGC-1.bam',\n",
       " '../data/raw/scBam/CB_AACACGTCAATCGAAA-1.bam',\n",
       " '../data/raw/scBam/CB_AACTTTCCAAGGGTCA-1.bam',\n",
       " '../data/raw/scBam/CB_AAATGCCTCAAACGGG-1.bam',\n",
       " '../data/raw/scBam/CB_AAAGCAACAGACGTAG-1.bam',\n",
       " '../data/raw/scBam/CB_AACTCAGCAACTTGAC-1.bam',\n",
       " '../data/raw/scBam/CB_AACTCCCGTTACGCGC-1.bam',\n",
       " '../data/raw/scBam/CB_AAAGCAAGTGCCTGCA-1.bam',\n",
       " '../data/raw/scBam/CB_AACTTTCAGGGTGTGT-1.bam',\n",
       " '../data/raw/scBam/CB_AAGCCGCGTAGTGAAT-1.bam',\n",
       " '../data/raw/scBam/CB_AACCATGCAATAGCAA-1.bam',\n",
       " '../data/raw/scBam/CB_AAACGGGTCAGTTGAC-1.bam',\n",
       " '../data/raw/scBam/CB_AATCGGTGTCGCCATG-1.bam',\n",
       " '../data/raw/scBam/CB_AAGCCGCGTCGATTGT-1.bam',\n",
       " '../data/raw/scBam/CB_AACTGGTTCCCACTTG-1.bam',\n",
       " '../data/raw/scBam/CB_AACTCTTTCAACGAAA-1.bam',\n",
       " '../data/raw/scBam/CB_AACTTTCAGATATGCA-1.bam',\n",
       " '../data/raw/scBam/CB_AAAGCAATCCGTCAAA-1.bam',\n",
       " '../data/raw/scBam/CB_AACACGTGTCAGCTAT-1.bam',\n",
       " '../data/raw/scBam/CB_AAGCCGCCAAGCCCAC-1.bam',\n",
       " '../data/raw/scBam/CB_AACGTTGTCACCATAG-1.bam',\n",
       " '../data/raw/scBam/CB_AACGTTGCACCCATTC-1.bam',\n",
       " '../data/raw/scBam/CB_AAGTCTGGTATATGAG-1.bam',\n",
       " '../data/raw/scBam/CB_AAAGTAGCATCCCATC-1.bam',\n",
       " '../data/raw/scBam/CB_AAAGCAACACATGGGA-1.bam',\n",
       " '../data/raw/scBam/CB_AACACGTAGAAACGCC-1.bam',\n",
       " '../data/raw/scBam/CB_AACCGCGGTCAAGCGA-1.bam',\n",
       " '../data/raw/scBam/CB_AAGGAGCAGAAGGACA-1.bam',\n",
       " '../data/raw/scBam/CB_AAAGTAGCAGTACACT-1.bam',\n",
       " '../data/raw/scBam/CB_AAACGGGCAATAAGCA-1.bam',\n",
       " '../data/raw/scBam/CB_AAAGATGCACACCGCA-1.bam',\n",
       " '../data/raw/scBam/CB_AAACGGGTCCACGACG-1.bam',\n",
       " '../data/raw/scBam/CB_AAAGTAGCAGCGTTCG-1.bam',\n",
       " '../data/raw/scBam/CB_AATCGGTCACGGCTAC-1.bam',\n",
       " '../data/raw/scBam/CB_AAAGTAGCATCAGTCA-1.bam',\n",
       " '../data/raw/scBam/CB_AAGGCAGTCTTGACGA-1.bam',\n",
       " '../data/raw/scBam/CB_AACACGTCACACTGCG-1.bam',\n",
       " '../data/raw/scBam/CB_AAGGTTCTCCATTCTA-1.bam',\n",
       " '../data/raw/scBam/CB_AACTCTTTCGCGTTTC-1.bam',\n",
       " '../data/raw/scBam/CB_AACTCCCTCCAAGCCG-1.bam',\n",
       " '../data/raw/scBam/CB_AAGCCGCTCTCTAGGA-1.bam',\n",
       " '../data/raw/scBam/CB_AAGGTTCGTTAGATGA-1.bam',\n",
       " '../data/raw/scBam/CB_AACCATGGTGGCAAAC-1.bam',\n",
       " '../data/raw/scBam/CB_AACTCAGCACTGTTAG-1.bam',\n",
       " '../data/raw/scBam/CB_AAAGCAAAGCCACGTC-1.bam',\n",
       " '../data/raw/scBam/CB_AATCCAGCAAGCCGTC-1.bam',\n",
       " '../data/raw/scBam/CB_AACCATGCACGCATCG-1.bam',\n",
       " '../data/raw/scBam/CB_AAAGCAAGTTGAACTC-1.bam',\n",
       " '../data/raw/scBam/CB_AACTTTCGTATATGGA-1.bam',\n",
       " '../data/raw/scBam/CB_AACCATGAGTTGTCGT-1.bam',\n",
       " '../data/raw/scBam/CB_AACTCTTCATATGCTG-1.bam',\n",
       " '../data/raw/scBam/CB_AACTCAGCATTACGAC-1.bam',\n",
       " '../data/raw/scBam/CB_AAACCTGGTGATGCCC-1.bam',\n",
       " '../data/raw/scBam/CB_AACTCCCAGGGCTCTC-1.bam',\n",
       " '../data/raw/scBam/CB_AATCCAGAGTCCCACG-1.bam',\n",
       " '../data/raw/scBam/CB_AACTCAGCAAGTCATC-1.bam',\n",
       " '../data/raw/scBam/CB_AAATGCCAGTTCGCAT-1.bam',\n",
       " '../data/raw/scBam/CB_AAGACCTTCTGCGTAA-1.bam',\n",
       " '../data/raw/scBam/CB_AAACCTGAGGAATGGA-1.bam',\n",
       " '../data/raw/scBam/CB_AATCCAGAGTAGTGCG-1.bam',\n",
       " '../data/raw/scBam/CB_AAAGCAATCGTGGACC-1.bam',\n",
       " '../data/raw/scBam/CB_AACTGGTGTCCGAAGA-1.bam',\n",
       " '../data/raw/scBam/CB_AACCGCGGTATAGTAG-1.bam',\n",
       " '../data/raw/scBam/CB_AAATGCCCACGGTGTC-1.bam',\n",
       " '../data/raw/scBam/CB_AACTGGTTCCTTCAAT-1.bam',\n",
       " '../data/raw/scBam/CB_AAACGGGTCAGCGATT-1.bam',\n",
       " '../data/raw/scBam/CB_AACTCAGTCTTATCTG-1.bam',\n",
       " '../data/raw/scBam/CB_AAGACCTCAATCCGAT-1.bam',\n",
       " '../data/raw/scBam/CB_AACTCTTTCTGACCTC-1.bam',\n",
       " '../data/raw/scBam/CB_AAACGGGCAATCACAC-1.bam',\n",
       " '../data/raw/scBam/CB_AAGGAGCCATGCCACG-1.bam',\n",
       " '../data/raw/scBam/CB_AACTGGTCACCTATCC-1.bam',\n",
       " '../data/raw/scBam/CB_AACTGGTTCGTTTGCC-1.bam',\n",
       " '../data/raw/scBam/CB_AAGGAGCCACTATCTT-1.bam',\n",
       " '../data/raw/scBam/CB_AATCGGTAGTACTTGC-1.bam',\n",
       " '../data/raw/scBam/CB_AATCGGTGTCGCGGTT-1.bam',\n",
       " '../data/raw/scBam/CB_AAACGGGAGGAATTAC-1.bam',\n",
       " '../data/raw/scBam/CB_AAATGCCTCGCGCCAA-1.bam',\n",
       " '../data/raw/scBam/CB_ACACCAACACCACCAG-1.bam',\n",
       " '../data/raw/scBam/CB_AAATGCCAGATCTGCT-1.bam',\n",
       " '../data/raw/scBam/CB_AACACGTCATTACGAC-1.bam',\n",
       " '../data/raw/scBam/CB_AAGGAGCCACCTATCC-1.bam',\n",
       " '../data/raw/scBam/CB_AACTCTTAGAAGAAGC-1.bam',\n",
       " '../data/raw/scBam/CB_AAGGAGCCACAAGACG-1.bam',\n",
       " '../data/raw/scBam/CB_AAAGCAAAGACAATAC-1.bam',\n",
       " '../data/raw/scBam/CB_AAAGCAACATTTGCTT-1.bam',\n",
       " '../data/raw/scBam/CB_AACCGCGTCTTAACCT-1.bam',\n",
       " '../data/raw/scBam/CB_AACTCTTAGCCACGTC-1.bam',\n",
       " '../data/raw/scBam/CB_AAAGCAAAGAGGTTGC-1.bam',\n",
       " '../data/raw/scBam/CB_AAGACCTGTCGGCATC-1.bam',\n",
       " '../data/raw/scBam/CB_AACCGCGCACGGCGTT-1.bam',\n",
       " '../data/raw/scBam/CB_AACGTTGGTCATATGC-1.bam',\n",
       " '../data/raw/scBam/CB_AAAGTAGCAGACTCGC-1.bam',\n",
       " '../data/raw/scBam/CB_AACTCAGAGTATCGAA-1.bam',\n",
       " '../data/raw/scBam/CB_AAGGCAGAGAGTTGGC-1.bam',\n",
       " '../data/raw/scBam/CB_AACTCCCCAGTCACTA-1.bam',\n",
       " '../data/raw/scBam/CB_AACTTTCTCTGTACGA-1.bam',\n",
       " '../data/raw/scBam/CB_AAGGCAGTCAAAGACA-1.bam',\n",
       " '../data/raw/scBam/CB_AAGACCTAGCATGGCA-1.bam',\n",
       " '../data/raw/scBam/CB_AAGTCTGGTCTGATCA-1.bam',\n",
       " '../data/raw/scBam/CB_AATCGGTTCTACGAGT-1.bam',\n",
       " '../data/raw/scBam/CB_AACTCTTTCTATCGCC-1.bam',\n",
       " '../data/raw/scBam/CB_AAAGATGGTACGACCC-1.bam',\n",
       " '../data/raw/scBam/CB_AAAGCAATCGTGGTCG-1.bam',\n",
       " '../data/raw/scBam/CB_AACACGTTCGGAATCT-1.bam',\n",
       " '../data/raw/scBam/CB_AAGACCTGTACGAAAT-1.bam',\n",
       " '../data/raw/scBam/CB_AAACGGGGTTGCCTCT-1.bam',\n",
       " '../data/raw/scBam/CB_AAAGATGGTACCATCA-1.bam',\n",
       " '../data/raw/scBam/CB_AAAGATGCATGCCTAA-1.bam',\n",
       " '../data/raw/scBam/CB_AACCGCGTCCGGCACA-1.bam',\n",
       " '../data/raw/scBam/CB_AAGACCTTCCTTTCGG-1.bam',\n",
       " '../data/raw/scBam/CB_AAGGCAGGTAGAAAGG-1.bam',\n",
       " '../data/raw/scBam/CB_AAACCTGTCGCGTAGC-1.bam',\n",
       " '../data/raw/scBam/CB_AAGGCAGCAAAGAATC-1.bam',\n",
       " '../data/raw/scBam/CB_AACTCTTTCGCTTAGA-1.bam',\n",
       " '../data/raw/scBam/CB_AACACGTCACGTTGGC-1.bam',\n",
       " '../data/raw/scBam/CB_AAGGAGCAGAAGCCCA-1.bam',\n",
       " '../data/raw/scBam/CB_ACACCAACATATACGC-1.bam',\n",
       " '../data/raw/scBam/CB_AATCCAGGTCAAAGCG-1.bam',\n",
       " '../data/raw/scBam/CB_AACCATGAGATGTTAG-1.bam',\n",
       " '../data/raw/scBam/CB_AACTCCCAGGCTAGAC-1.bam',\n",
       " '../data/raw/scBam/CB_AACCGCGCAGTAACGG-1.bam',\n",
       " '../data/raw/scBam/CB_AACTGGTAGATCGATA-1.bam',\n",
       " '../data/raw/scBam/CB_AACTTTCTCCTTTCTC-1.bam',\n",
       " '../data/raw/scBam/CB_AAGGTTCTCGAATCCA-1.bam',\n",
       " '../data/raw/scBam/CB_AAGCCGCTCTCTAAGG-1.bam',\n",
       " '../data/raw/scBam/CB_AACTGGTAGTCGCCGT-1.bam',\n",
       " '../data/raw/scBam/CB_AACTCCCTCAGCCTAA-1.bam',\n",
       " '../data/raw/scBam/CB_AAACGGGAGTAAGTAC-1.bam',\n",
       " '../data/raw/scBam/CB_AACTCAGGTGCAGGTA-1.bam',\n",
       " '../data/raw/scBam/CB_ACACCAACACAACTGT-1.bam',\n",
       " '../data/raw/scBam/CB_AAATGCCCATCACGAT-1.bam',\n",
       " '../data/raw/scBam/CB_AAGGCAGCAATCCAAC-1.bam',\n",
       " '../data/raw/scBam/CB_AAACCTGAGGGCTTGA-1.bam',\n",
       " '../data/raw/scBam/CB_AACTGGTTCCCAGGTG-1.bam',\n",
       " '../data/raw/scBam/CB_AAAGTAGGTTGCTCCT-1.bam',\n",
       " '../data/raw/scBam/CB_AATCGGTGTCCCTACT-1.bam',\n",
       " '../data/raw/scBam/CB_AAGCCGCCATTGGCGC-1.bam',\n",
       " '../data/raw/scBam/CB_AAGGAGCCATACTCTT-1.bam',\n",
       " '../data/raw/scBam/CB_AAGGTTCCATATGGTC-1.bam',\n",
       " '../data/raw/scBam/CB_AACTCCCGTGACTCAT-1.bam',\n",
       " '../data/raw/scBam/CB_AACCGCGCACTTCGAA-1.bam',\n",
       " '../data/raw/scBam/CB_AAGGCAGAGACAGGCT-1.bam',\n",
       " '../data/raw/scBam/CB_AAACGGGGTAAGGGAA-1.bam',\n",
       " '../data/raw/scBam/CB_AACTCAGCACCCTATC-1.bam',\n",
       " '../data/raw/scBam/CB_AAAGCAAAGTGCTGCC-1.bam',\n",
       " '../data/raw/scBam/CB_AACTGGTAGTAGATGT-1.bam',\n",
       " '../data/raw/scBam/CB_AACACGTTCTGAAAGA-1.bam',\n",
       " '../data/raw/scBam/CB_AATCCAGAGCTGCAAG-1.bam',\n",
       " '../data/raw/scBam/CB_AAAGATGCACCCATGG-1.bam',\n",
       " '../data/raw/scBam/CB_AAAGTAGCAATCTACG-1.bam',\n",
       " '../data/raw/scBam/CB_AAATGCCCACTGTGTA-1.bam',\n",
       " '../data/raw/scBam/CB_AAGGAGCGTGTAATGA-1.bam',\n",
       " '../data/raw/scBam/CB_AACACGTGTCTTGTCC-1.bam',\n",
       " '../data/raw/scBam/CB_AACGTTGGTTCCCGAG-1.bam',\n",
       " '../data/raw/scBam/CB_AACTCAGCATATACGC-1.bam',\n",
       " '../data/raw/scBam/CB_AACTCCCAGGCTCTTA-1.bam',\n",
       " '../data/raw/scBam/CB_AAATGCCAGCGCCTTG-1.bam',\n",
       " '../data/raw/scBam/CB_ACACCAACATGGTAGG-1.bam',\n",
       " '../data/raw/scBam/CB_AAGGTTCCATCATCCC-1.bam',\n",
       " '../data/raw/scBam/CB_AACGTTGTCGTCTGAA-1.bam',\n",
       " '../data/raw/scBam/CB_AAACGGGCATCCTAGA-1.bam',\n",
       " '../data/raw/scBam/CB_AAGGTTCGTAAGAGAG-1.bam',\n",
       " '../data/raw/scBam/CB_AAGTCTGCACTTGGAT-1.bam',\n",
       " '../data/raw/scBam/CB_AATCCAGTCGGTGTTA-1.bam',\n",
       " '../data/raw/scBam/CB_AAGTCTGTCTGGCGAC-1.bam',\n",
       " '../data/raw/scBam/CB_AATCCAGTCAAACGGG-1.bam',\n",
       " '../data/raw/scBam/CB_AACTCAGAGAAGGTGA-1.bam',\n",
       " '../data/raw/scBam/CB_AAAGCAATCGTCGTTC-1.bam',\n",
       " '../data/raw/scBam/CB_AAGGTTCTCGGCCGAT-1.bam',\n",
       " '../data/raw/scBam/CB_AATCGGTTCAACGCTA-1.bam',\n",
       " '../data/raw/scBam/CB_AACTTTCCAGTAGAGC-1.bam',\n",
       " '../data/raw/scBam/CB_ACACCAAAGCTGCCCA-1.bam',\n",
       " '../data/raw/scBam/CB_AAGGAGCTCATGGTCA-1.bam',\n",
       " '../data/raw/scBam/CB_AACTCTTGTTAAAGTG-1.bam',\n",
       " '../data/raw/scBam/CB_AAAGATGTCTGCGGCA-1.bam',\n",
       " '../data/raw/scBam/CB_AACACGTAGCACAGGT-1.bam',\n",
       " '../data/raw/scBam/CB_AAAGATGCAGACAAAT-1.bam',\n",
       " '../data/raw/scBam/CB_AATCCAGTCATATCGG-1.bam',\n",
       " '../data/raw/scBam/CB_ACACCAACACTGAAGG-1.bam',\n",
       " '../data/raw/scBam/CB_AAGTCTGCACACCGAC-1.bam',\n",
       " '../data/raw/scBam/CB_AAAGCAAAGCTAGGCA-1.bam',\n",
       " '../data/raw/scBam/CB_AACTCCCCACGACGAA-1.bam',\n",
       " '../data/raw/scBam/CB_AAAGCAAAGAGGGCTT-1.bam',\n",
       " '../data/raw/scBam/CB_AAATGCCAGACTGGGT-1.bam',\n",
       " '../data/raw/scBam/CB_AACCATGAGCACACAG-1.bam',\n",
       " '../data/raw/scBam/CB_AACCATGCATGGTAGG-1.bam',\n",
       " '../data/raw/scBam/CB_AAACCTGAGAAGGGTA-1.bam',\n",
       " '../data/raw/scBam/CB_AAATGCCTCTTAGAGC-1.bam',\n",
       " '../data/raw/scBam/CB_AAAGCAAAGGACTGGT-1.bam',\n",
       " '../data/raw/scBam/CB_AACACGTAGCTAGTCT-1.bam',\n",
       " '../data/raw/scBam/CB_AACTTTCTCGTTACGA-1.bam',\n",
       " '../data/raw/scBam/CB_AACTCTTTCGCCAGCA-1.bam',\n",
       " '../data/raw/scBam/CB_AAAGATGAGTGATCGG-1.bam',\n",
       " '../data/raw/scBam/CB_AACTCAGAGGCGTACA-1.bam',\n",
       " '../data/raw/scBam/CB_AAATGCCAGTGCCATT-1.bam',\n",
       " '../data/raw/scBam/CB_AAGGCAGCATGGTCTA-1.bam',\n",
       " '../data/raw/scBam/CB_AACTGGTGTAGCACGA-1.bam',\n",
       " '../data/raw/scBam/CB_AACTCCCTCGATGAGG-1.bam',\n",
       " '../data/raw/scBam/CB_AAGCCGCCATCCTAGA-1.bam',\n",
       " '../data/raw/scBam/CB_AAAGCAATCAGGATCT-1.bam',\n",
       " '../data/raw/scBam/CB_AAGGCAGCAACGCACC-1.bam',\n",
       " '../data/raw/scBam/CB_AACTCAGGTCGAATCT-1.bam',\n",
       " '../data/raw/scBam/CB_AACTTTCTCACCATAG-1.bam',\n",
       " '../data/raw/scBam/CB_AAGACCTCACTTGGAT-1.bam',\n",
       " '../data/raw/scBam/CB_AATCGGTTCAACTCTT-1.bam',\n",
       " '../data/raw/scBam/CB_AAAGTAGAGAGACGAA-1.bam',\n",
       " '../data/raw/scBam/CB_AAGCCGCGTGGTCTCG-1.bam',\n",
       " '../data/raw/scBam/CB_AACCGCGCACGGACAA-1.bam',\n",
       " '../data/raw/scBam/CB_AACTCCCAGGATATAC-1.bam',\n",
       " '../data/raw/scBam/CB_AACCATGAGAAACCTA-1.bam',\n",
       " '../data/raw/scBam/CB_AAGCCGCAGTGCCATT-1.bam',\n",
       " '../data/raw/scBam/CB_AAAGCAACATAGGATA-1.bam',\n",
       " '../data/raw/scBam/CB_AAATGCCAGTGAAGTT-1.bam',\n",
       " '../data/raw/scBam/CB_AATCGGTGTAGCGCAA-1.bam',\n",
       " '../data/raw/scBam/CB_AAAGATGCACCACGTG-1.bam',\n",
       " '../data/raw/scBam/CB_AACTTTCTCAGTACGT-1.bam',\n",
       " '../data/raw/scBam/CB_AAACGGGTCTGCGTAA-1.bam',\n",
       " '../data/raw/scBam/CB_AAGACCTAGATGTGTA-1.bam',\n",
       " '../data/raw/scBam/CB_AAGTCTGCATAACCTG-1.bam',\n",
       " '../data/raw/scBam/CB_AACCATGGTTCCCTTG-1.bam',\n",
       " '../data/raw/scBam/CB_AATCGGTAGCGTTGCC-1.bam',\n",
       " '../data/raw/scBam/CB_AAACGGGGTATAGGTA-1.bam',\n",
       " '../data/raw/scBam/CB_AACTCAGCACCGGAAA-1.bam',\n",
       " '../data/raw/scBam/CB_AACTCAGAGGTGATAT-1.bam',\n",
       " '../data/raw/scBam/CB_AAGCCGCCAGTGAGTG-1.bam',\n",
       " '../data/raw/scBam/CB_AACTTTCGTATAAACG-1.bam',\n",
       " '../data/raw/scBam/CB_AAACCTGCACGTAAGG-1.bam',\n",
       " '../data/raw/scBam/CB_AATCGGTGTCCGACGT-1.bam',\n",
       " '../data/raw/scBam/CB_AACTCAGTCGGATGTT-1.bam',\n",
       " '../data/raw/scBam/CB_AACACGTCATCTGGTA-1.bam',\n",
       " '../data/raw/scBam/CB_AACACGTAGAAGAAGC-1.bam',\n",
       " '../data/raw/scBam/CB_AAGGAGCGTGTGGCTC-1.bam',\n",
       " '../data/raw/scBam/CB_AAAGCAACAAACCTAC-1.bam',\n",
       " '../data/raw/scBam/CB_AACTTTCCATGCCTAA-1.bam',\n",
       " '../data/raw/scBam/CB_AACTTTCCATTTCAGG-1.bam',\n",
       " '../data/raw/scBam/CB_AAGGTTCGTGTAATGA-1.bam',\n",
       " '../data/raw/scBam/CB_AAATGCCGTCTGCCAG-1.bam',\n",
       " '../data/raw/scBam/CB_AACTGGTAGCTGATAA-1.bam',\n",
       " '../data/raw/scBam/CB_AAGGAGCAGCTCTCGG-1.bam',\n",
       " '../data/raw/scBam/CB_AATCGGTCAGTCTTCC-1.bam',\n",
       " '../data/raw/scBam/CB_AATCGGTTCTGGTGTA-1.bam',\n",
       " '../data/raw/scBam/CB_AAACCTGTCAAACAAG-1.bam',\n",
       " '../data/raw/scBam/CB_AATCGGTAGGCTCAGA-1.bam',\n",
       " '../data/raw/scBam/CB_AAGTCTGAGGCAGGTT-1.bam',\n",
       " '../data/raw/scBam/CB_AAACGGGTCCTAGGGC-1.bam',\n",
       " '../data/raw/scBam/CB_AACTCTTCATCGGTTA-1.bam',\n",
       " '../data/raw/scBam/CB_AATCGGTAGGACGAAA-1.bam',\n",
       " '../data/raw/scBam/CB_AACTTTCCAAGTCTAC-1.bam',\n",
       " '../data/raw/scBam/CB_AACACGTCATGTCGAT-1.bam',\n",
       " '../data/raw/scBam/CB_AACGTTGAGTGGTAGC-1.bam',\n",
       " '../data/raw/scBam/CB_AATCGGTGTAGAAAGG-1.bam',\n",
       " '../data/raw/scBam/CB_AACTCCCTCAACACCA-1.bam',\n",
       " '../data/raw/scBam/CB_AACTCTTAGATCCGAG-1.bam',\n",
       " '../data/raw/scBam/CB_AACCATGAGGATGGTC-1.bam',\n",
       " '../data/raw/scBam/CB_AACACGTGTTTCCACC-1.bam',\n",
       " '../data/raw/scBam/CB_AACTCCCTCGAGAACG-1.bam',\n",
       " '../data/raw/scBam/CB_AACTGGTGTTCTGTTT-1.bam',\n",
       " '../data/raw/scBam/CB_AAGCCGCTCCAGTATG-1.bam',\n",
       " '../data/raw/scBam/CB_ACACCAACATGCGCAC-1.bam',\n",
       " '../data/raw/scBam/CB_AAATGCCTCGGTCTAA-1.bam',\n",
       " '../data/raw/scBam/CB_AAGTCTGTCGCACTCT-1.bam',\n",
       " '../data/raw/scBam/CB_AATCGGTTCATGTCCC-1.bam',\n",
       " '../data/raw/scBam/CB_AAGACCTGTAAGTGTA-1.bam',\n",
       " '../data/raw/scBam/CB_AAGTCTGCAAGGCTCC-1.bam',\n",
       " '../data/raw/scBam/CB_AACTGGTGTCAATGTC-1.bam',\n",
       " '../data/raw/scBam/CB_AAAGATGAGAGCTGCA-1.bam',\n",
       " '../data/raw/scBam/CB_AATCCAGAGATCCCGC-1.bam',\n",
       " '../data/raw/scBam/CB_AAGTCTGAGCTGGAAC-1.bam',\n",
       " '../data/raw/scBam/CB_AAGGCAGTCGGTTAAC-1.bam',\n",
       " '../data/raw/scBam/CB_AACACGTAGTGGACGT-1.bam',\n",
       " '../data/raw/scBam/CB_AATCCAGTCTTAGAGC-1.bam',\n",
       " '../data/raw/scBam/CB_AAACCTGGTTCCACGG-1.bam',\n",
       " '../data/raw/scBam/CB_AACGTTGTCTAACTTC-1.bam',\n",
       " '../data/raw/scBam/CB_AAGGAGCAGTAGCGGT-1.bam',\n",
       " '../data/raw/scBam/CB_AACTCTTGTAGCGTAG-1.bam',\n",
       " '../data/raw/scBam/CB_AAGGAGCCACCGGAAA-1.bam',\n",
       " '../data/raw/scBam/CB_AAGGAGCTCCACGAAT-1.bam',\n",
       " '../data/raw/scBam/CB_AAGGTTCTCTCGTTTA-1.bam',\n",
       " '../data/raw/scBam/CB_AAGCCGCAGTATCGAA-1.bam',\n",
       " '../data/raw/scBam/CB_AACACGTTCACATAGC-1.bam',\n",
       " '../data/raw/scBam/CB_AAGACCTCACCGATAT-1.bam',\n",
       " '../data/raw/scBam/CB_AAGACCTCAGTCTTCC-1.bam',\n",
       " '../data/raw/scBam/CB_AAGTCTGGTTCCCGAG-1.bam',\n",
       " '../data/raw/scBam/CB_AAAGATGAGTGGACGT-1.bam',\n",
       " '../data/raw/scBam/CB_AAGACCTTCAGTTTGG-1.bam',\n",
       " '../data/raw/scBam/CB_AACTCAGGTCCGTTAA-1.bam',\n",
       " '../data/raw/scBam/CB_AACTTTCCAAGCCGTC-1.bam',\n",
       " '../data/raw/scBam/CB_AAGCCGCAGTCTTGCA-1.bam',\n",
       " '../data/raw/scBam/CB_AAACCTGGTTTAGCTG-1.bam',\n",
       " '../data/raw/scBam/CB_AACACGTGTCCAAGTT-1.bam',\n",
       " '../data/raw/scBam/CB_AAACGGGTCTGGGCCA-1.bam',\n",
       " '../data/raw/scBam/CB_AATCCAGTCGGCCGAT-1.bam',\n",
       " '../data/raw/scBam/CB_AAGGCAGAGGATCGCA-1.bam',\n",
       " '../data/raw/scBam/CB_AAGGTTCGTCGTCTTC-1.bam',\n",
       " '../data/raw/scBam/CB_AAAGCAACATCCGGGT-1.bam',\n",
       " '../data/raw/scBam/CB_AAAGATGAGGTGATAT-1.bam',\n",
       " '../data/raw/scBam/CB_AAGGCAGCATTCTTAC-1.bam',\n",
       " '../data/raw/scBam/CB_AACTTTCTCTAGCACA-1.bam',\n",
       " '../data/raw/scBam/CB_AACGTTGCAGATGGGT-1.bam',\n",
       " '../data/raw/scBam/CB_AACTCTTCATGCCTTC-1.bam',\n",
       " '../data/raw/scBam/CB_AATCGGTCACAGCGTC-1.bam',\n",
       " '../data/raw/scBam/CB_ACACCAAAGATCTGCT-1.bam',\n",
       " '../data/raw/scBam/CB_AATCGGTTCTACTATC-1.bam',\n",
       " '../data/raw/scBam/CB_AACGTTGCACAGATTC-1.bam',\n",
       " '../data/raw/scBam/CB_AAAGTAGGTCGGCACT-1.bam',\n",
       " '../data/raw/scBam/CB_AAGGCAGGTCTCATCC-1.bam',\n",
       " '../data/raw/scBam/CB_AAAGATGAGTGACATA-1.bam',\n",
       " '../data/raw/scBam/CB_AAAGATGTCGTCACGG-1.bam',\n",
       " '../data/raw/scBam/CB_AACTTTCTCATTGCGA-1.bam',\n",
       " '../data/raw/scBam/CB_AACTCTTTCGTAGGAG-1.bam',\n",
       " '../data/raw/scBam/CB_AACCGCGTCTAAGCCA-1.bam',\n",
       " '../data/raw/scBam/CB_AAATGCCCAGTTCATG-1.bam',\n",
       " '../data/raw/scBam/CB_AAAGCAAGTGAGGGAG-1.bam',\n",
       " '../data/raw/scBam/CB_AAATGCCGTACTCGCG-1.bam',\n",
       " '../data/raw/scBam/CB_AAACCTGGTCTTCAAG-1.bam',\n",
       " '../data/raw/scBam/CB_AAAGTAGGTGATGTCT-1.bam',\n",
       " '../data/raw/scBam/CB_AACTTTCGTCGACTAT-1.bam',\n",
       " '../data/raw/scBam/CB_AAAGCAACAGTAGAGC-1.bam',\n",
       " '../data/raw/scBam/CB_AAGACCTAGTAGATGT-1.bam',\n",
       " '../data/raw/scBam/CB_AACCATGTCCACTCCA-1.bam',\n",
       " '../data/raw/scBam/CB_AATCCAGGTTCGGGCT-1.bam',\n",
       " '../data/raw/scBam/CB_AACTGGTGTTGGACCC-1.bam',\n",
       " '../data/raw/scBam/CB_AAGCCGCTCGCCCTTA-1.bam',\n",
       " '../data/raw/scBam/CB_AACTGGTCATCACGTA-1.bam',\n",
       " '../data/raw/scBam/CB_AAGGAGCGTCCGAAGA-1.bam',\n",
       " '../data/raw/scBam/CB_AATCCAGGTCACTTCC-1.bam',\n",
       " '../data/raw/scBam/CB_AAAGTAGTCTGAGGGA-1.bam',\n",
       " '../data/raw/scBam/CB_AAGTCTGTCGATGAGG-1.bam',\n",
       " '../data/raw/scBam/CB_AATCGGTGTCCGAACC-1.bam',\n",
       " '../data/raw/scBam/CB_AACTCCCGTACCGGCT-1.bam',\n",
       " '../data/raw/scBam/CB_AACGTTGCAGACAAGC-1.bam',\n",
       " '../data/raw/scBam/CB_AACTCCCCAAGTCTGT-1.bam',\n",
       " '../data/raw/scBam/CB_AATCGGTAGGGTGTGT-1.bam',\n",
       " '../data/raw/scBam/CB_AAGCCGCGTAGGAGTC-1.bam',\n",
       " '../data/raw/scBam/CB_AAGACCTAGAAGGTGA-1.bam',\n",
       " '../data/raw/scBam/CB_AAGGTTCAGATCCTGT-1.bam',\n",
       " '../data/raw/scBam/CB_AAGGAGCTCTTCGAGA-1.bam',\n",
       " '../data/raw/scBam/CB_ACACCAACAAGTCTGT-1.bam',\n",
       " '../data/raw/scBam/CB_AAATGCCAGGACTGGT-1.bam',\n",
       " '../data/raw/scBam/CB_AACTCTTTCCGCAGTG-1.bam',\n",
       " '../data/raw/scBam/CB_AAGTCTGTCCTGCAGG-1.bam',\n",
       " '../data/raw/scBam/CB_AACCGCGGTTAAAGAC-1.bam',\n",
       " '../data/raw/scBam/CB_AACTCAGAGACCACGA-1.bam',\n",
       " '../data/raw/scBam/CB_AACTTTCAGGAGTTTA-1.bam',\n",
       " '../data/raw/scBam/CB_AACCATGCATTTGCCC-1.bam',\n",
       " '../data/raw/scBam/CB_AATCGGTGTGCGCTTG-1.bam',\n",
       " '../data/raw/scBam/CB_AACACGTGTCTCATCC-1.bam',\n",
       " '../data/raw/scBam/CB_AATCCAGAGAACTGTA-1.bam',\n",
       " '../data/raw/scBam/CB_AACTTTCCAAGTCATC-1.bam',\n",
       " '../data/raw/scBam/CB_AACTCAGAGCTCTCGG-1.bam',\n",
       " '../data/raw/scBam/CB_AAATGCCTCAAGGCTT-1.bam',\n",
       " '../data/raw/scBam/CB_AACACGTCAAAGGTGC-1.bam',\n",
       " '../data/raw/scBam/CB_AACTCTTGTCTGCGGT-1.bam',\n",
       " '../data/raw/scBam/CB_AAGCCGCGTCGGCACT-1.bam',\n",
       " '../data/raw/scBam/CB_AAGGTTCTCTTAGAGC-1.bam',\n",
       " '../data/raw/scBam/CB_AACCGCGTCTATGTGG-1.bam',\n",
       " '../data/raw/scBam/CB_AACCGCGAGGTGCAAC-1.bam',\n",
       " '../data/raw/scBam/CB_AACTTTCGTGGGTATG-1.bam',\n",
       " '../data/raw/scBam/CB_AACTCCCAGTACGTTC-1.bam',\n",
       " '../data/raw/scBam/CB_AAAGCAATCGTGTAGT-1.bam',\n",
       " '../data/raw/scBam/CB_AAGCCGCGTCTCAACA-1.bam',\n",
       " '../data/raw/scBam/CB_AAACCTGTCGTACCGG-1.bam',\n",
       " '../data/raw/scBam/CB_AAAGCAATCACTTATC-1.bam',\n",
       " '../data/raw/scBam/CB_AACCATGTCTGTCCGT-1.bam',\n",
       " '../data/raw/scBam/CB_AAGGAGCCATCTATGG-1.bam',\n",
       " '../data/raw/scBam/CB_AACCGCGTCGTGGGAA-1.bam',\n",
       " '../data/raw/scBam/CB_AAATGCCTCACTTATC-1.bam',\n",
       " '../data/raw/scBam/CB_AAGACCTTCAACGGGA-1.bam',\n",
       " '../data/raw/scBam/CB_AAACCTGTCCAAACTG-1.bam',\n",
       " '../data/raw/scBam/CB_AACACGTGTATATGAG-1.bam',\n",
       " '../data/raw/scBam/CB_AAGGTTCAGTAGCCGA-1.bam',\n",
       " '../data/raw/scBam/CB_AACACGTTCGGACAAG-1.bam',\n",
       " '../data/raw/scBam/CB_AAATGCCAGAGCTATA-1.bam',\n",
       " '../data/raw/scBam/CB_AAACCTGGTGTCCTCT-1.bam',\n",
       " '../data/raw/scBam/CB_AACGTTGCAGCTTAAC-1.bam',\n",
       " '../data/raw/scBam/CB_AACGTTGTCCAGTATG-1.bam',\n",
       " '../data/raw/scBam/CB_AAAGTAGTCGTCTGCT-1.bam',\n",
       " '../data/raw/scBam/CB_AATCCAGAGGTTCCTA-1.bam',\n",
       " '../data/raw/scBam/CB_AATCCAGGTAAAGTCA-1.bam',\n",
       " '../data/raw/scBam/CB_AACTGGTAGGGATGGG-1.bam',\n",
       " '../data/raw/scBam/CB_AAGCCGCGTTGCCTCT-1.bam',\n",
       " '../data/raw/scBam/CB_AACTTTCCATCCCATC-1.bam',\n",
       " '../data/raw/scBam/CB_AACTTTCTCCCTTGCA-1.bam',\n",
       " ...]"
      ]
     },
     "execution_count": 7,
     "metadata": {},
     "output_type": "execute_result"
    }
   ],
   "source": [
    "files"
   ]
  },
  {
   "cell_type": "code",
   "execution_count": null,
   "metadata": {
    "ExecuteTime": {
     "start_time": "2019-12-24T06:19:36.337Z"
    },
    "scrolled": true
   },
   "outputs": [
    {
     "name": "stderr",
     "output_type": "stream",
     "text": [
      "  0%|          | 2/75923 [00:00<3:21:00,  6.29it/s]"
     ]
    },
    {
     "name": "stdout",
     "output_type": "stream",
     "text": [
      "file not done yet ../data/raw/scBam/CB_ACATCAGCATGAACCT-*.bam\n",
      "file not done yet ../data/raw/scBam/CB_GAATGAATCACATGCA-*.bam\n"
     ]
    },
    {
     "name": "stderr",
     "output_type": "stream",
     "text": [
      "  0%|          | 4/75923 [00:00<3:26:28,  6.13it/s]"
     ]
    },
    {
     "name": "stdout",
     "output_type": "stream",
     "text": [
      "file not done yet ../data/raw/scBam/CB_GCTTCCAAGATGTAAC-*.bam\n",
      "file not done yet ../data/raw/scBam/CB_GCTGGGTCAAACCTAC-*.bam\n"
     ]
    },
    {
     "name": "stderr",
     "output_type": "stream",
     "text": [
      "  0%|          | 6/75923 [00:00<3:36:59,  5.83it/s]"
     ]
    },
    {
     "name": "stdout",
     "output_type": "stream",
     "text": [
      "file not done yet ../data/raw/scBam/CB_GATCGTAAGAGTGACC-*.bam\n",
      "file not done yet ../data/raw/scBam/CB_TTCGGTCAGCTTATCG-*.bam\n"
     ]
    },
    {
     "name": "stderr",
     "output_type": "stream",
     "text": [
      "  0%|          | 8/75923 [00:01<3:14:47,  6.50it/s]"
     ]
    },
    {
     "name": "stdout",
     "output_type": "stream",
     "text": [
      "file not done yet ../data/raw/scBam/CB_GGACGTCTCGCCAAAT-*.bam\n",
      "file not done yet ../data/raw/scBam/CB_CACCACTTCGGCGCTA-*.bam\n"
     ]
    },
    {
     "name": "stderr",
     "output_type": "stream",
     "text": [
      "  0%|          | 10/75923 [00:01<3:17:53,  6.39it/s]"
     ]
    },
    {
     "name": "stdout",
     "output_type": "stream",
     "text": [
      "file not done yet ../data/raw/scBam/CB_CCAGCGACACATTCGA-*.bam\n",
      "file not done yet ../data/raw/scBam/CB_CATATGGCACGTTGGC-*.bam\n"
     ]
    },
    {
     "name": "stderr",
     "output_type": "stream",
     "text": [
      "  0%|          | 12/75923 [00:02<5:46:56,  3.65it/s]"
     ]
    },
    {
     "name": "stdout",
     "output_type": "stream",
     "text": [
      "file not done yet ../data/raw/scBam/CB_GATCGCGGTTCGCGAC-*.bam\n",
      "file not done yet ../data/raw/scBam/CB_CGCGGTAGTAAGAGAG-*.bam\n"
     ]
    },
    {
     "name": "stderr",
     "output_type": "stream",
     "text": [
      "  0%|          | 14/75923 [00:02<4:24:07,  4.79it/s]"
     ]
    },
    {
     "name": "stdout",
     "output_type": "stream",
     "text": [
      "file not done yet ../data/raw/scBam/CB_AGTGTCAGTTAAGAAC-*.bam\n",
      "file not done yet ../data/raw/scBam/CB_TTAGGCAGTTAAGTAG-*.bam\n"
     ]
    },
    {
     "name": "stderr",
     "output_type": "stream",
     "text": [
      "  0%|          | 16/75923 [00:03<3:35:42,  5.86it/s]"
     ]
    },
    {
     "name": "stdout",
     "output_type": "stream",
     "text": [
      "file not done yet ../data/raw/scBam/CB_CGCTTCATCGTTTGCC-*.bam\n",
      "file not done yet ../data/raw/scBam/CB_TGGCTGGGTCGTCTTC-*.bam\n"
     ]
    },
    {
     "name": "stderr",
     "output_type": "stream",
     "text": [
      "  0%|          | 18/75923 [00:03<3:13:59,  6.52it/s]"
     ]
    },
    {
     "name": "stdout",
     "output_type": "stream",
     "text": [
      "file not done yet ../data/raw/scBam/CB_GCCAAATGTGCGGTAA-*.bam\n",
      "file not done yet ../data/raw/scBam/CB_CAACCTCAGTGTGGCA-*.bam\n"
     ]
    },
    {
     "name": "stderr",
     "output_type": "stream",
     "text": [
      "  0%|          | 20/75923 [00:03<3:23:01,  6.23it/s]"
     ]
    },
    {
     "name": "stdout",
     "output_type": "stream",
     "text": [
      "file not done yet ../data/raw/scBam/CB_ATGTGTGAGTCTTGCA-*.bam\n",
      "file not done yet ../data/raw/scBam/CB_TAAGAGACATGCCACG-*.bam\n"
     ]
    },
    {
     "name": "stderr",
     "output_type": "stream",
     "text": [
      "  0%|          | 22/75923 [00:03<3:31:30,  5.98it/s]"
     ]
    },
    {
     "name": "stdout",
     "output_type": "stream",
     "text": [
      "file not done yet ../data/raw/scBam/CB_CTGCTGTGTTGGTAAA-*.bam\n",
      "file not done yet ../data/raw/scBam/CB_ACGCCGAGTCGCATAT-*.bam\n"
     ]
    },
    {
     "name": "stderr",
     "output_type": "stream",
     "text": [
      "  0%|          | 24/75923 [00:04<3:17:23,  6.41it/s]"
     ]
    },
    {
     "name": "stdout",
     "output_type": "stream",
     "text": [
      "file not done yet ../data/raw/scBam/CB_CATGCCTGTCATATCG-*.bam\n",
      "file not done yet ../data/raw/scBam/CB_CACCAGGAGATCTGAA-*.bam\n"
     ]
    },
    {
     "name": "stderr",
     "output_type": "stream",
     "text": [
      "  0%|          | 26/75923 [00:04<3:13:11,  6.55it/s]"
     ]
    },
    {
     "name": "stdout",
     "output_type": "stream",
     "text": [
      "file not done yet ../data/raw/scBam/CB_CCTCTGAAGAGATGAG-*.bam\n",
      "file not done yet ../data/raw/scBam/CB_CAGTAACGTTAGGGTG-*.bam\n"
     ]
    },
    {
     "name": "stderr",
     "output_type": "stream",
     "text": [
      "\r",
      "  0%|          | 27/75923 [00:04<3:00:20,  7.01it/s]"
     ]
    },
    {
     "name": "stdout",
     "output_type": "stream",
     "text": [
      "file not done yet ../data/raw/scBam/CB_TACAGTGGTAGATTAG-*.bam\n"
     ]
    },
    {
     "name": "stderr",
     "output_type": "stream",
     "text": [
      "  0%|          | 29/75923 [00:05<3:58:51,  5.30it/s]"
     ]
    },
    {
     "name": "stdout",
     "output_type": "stream",
     "text": [
      "file not done yet ../data/raw/scBam/CB_CATTATCCATGGTCAT-*.bam\n",
      "file not done yet ../data/raw/scBam/CB_TAAGAGAGTTAAGTAG-*.bam\n"
     ]
    },
    {
     "name": "stderr",
     "output_type": "stream",
     "text": [
      "  0%|          | 31/75923 [00:05<3:24:56,  6.17it/s]"
     ]
    },
    {
     "name": "stdout",
     "output_type": "stream",
     "text": [
      "file not done yet ../data/raw/scBam/CB_TTAGTTCCAAGCGAGT-*.bam\n",
      "file not done yet ../data/raw/scBam/CB_ATCCACCCATTGGCGC-*.bam\n"
     ]
    },
    {
     "name": "stderr",
     "output_type": "stream",
     "text": [
      "  0%|          | 33/75923 [00:05<3:33:05,  5.94it/s]"
     ]
    },
    {
     "name": "stdout",
     "output_type": "stream",
     "text": [
      "file not done yet ../data/raw/scBam/CB_GCGACCATCTTGTATC-*.bam\n",
      "file not done yet ../data/raw/scBam/CB_GCCTCTAGTGCAGGTA-*.bam\n"
     ]
    },
    {
     "name": "stderr",
     "output_type": "stream",
     "text": [
      "  0%|          | 35/75923 [00:06<3:13:32,  6.53it/s]"
     ]
    },
    {
     "name": "stdout",
     "output_type": "stream",
     "text": [
      "file not done yet ../data/raw/scBam/CB_GGCAATTCACTTAACG-*.bam\n",
      "file not done yet ../data/raw/scBam/CB_TGACTTTAGTACACCT-*.bam\n"
     ]
    },
    {
     "name": "stderr",
     "output_type": "stream",
     "text": [
      "  0%|          | 37/75923 [00:06<3:04:33,  6.85it/s]"
     ]
    },
    {
     "name": "stdout",
     "output_type": "stream",
     "text": [
      "file not done yet ../data/raw/scBam/CB_GCACATACACTAAGTC-*.bam\n",
      "file not done yet ../data/raw/scBam/CB_GCCAAATCAACACGCC-*.bam\n"
     ]
    },
    {
     "name": "stderr",
     "output_type": "stream",
     "text": [
      "  0%|          | 39/75923 [00:06<3:08:04,  6.72it/s]"
     ]
    },
    {
     "name": "stdout",
     "output_type": "stream",
     "text": [
      "file not done yet ../data/raw/scBam/CB_TGCCCTATCGGACAAG-*.bam\n",
      "file not done yet ../data/raw/scBam/CB_ATAAGAGCACGTAAGG-*.bam\n"
     ]
    },
    {
     "name": "stderr",
     "output_type": "stream",
     "text": [
      "  0%|          | 41/75923 [00:06<2:59:20,  7.05it/s]"
     ]
    },
    {
     "name": "stdout",
     "output_type": "stream",
     "text": [
      "file not done yet ../data/raw/scBam/CB_CAGTCCTAGAACAATC-*.bam\n",
      "file not done yet ../data/raw/scBam/CB_ACGGCCAGTAATCACC-*.bam\n"
     ]
    },
    {
     "name": "stderr",
     "output_type": "stream",
     "text": [
      "  0%|          | 43/75923 [00:07<2:51:40,  7.37it/s]"
     ]
    },
    {
     "name": "stdout",
     "output_type": "stream",
     "text": [
      "file not done yet ../data/raw/scBam/CB_TTCTTAGGTAAGGGAA-*.bam\n",
      "file not done yet ../data/raw/scBam/CB_TCGTAGATCTATGTGG-*.bam\n"
     ]
    },
    {
     "name": "stderr",
     "output_type": "stream",
     "text": [
      "  0%|          | 45/75923 [00:07<2:59:48,  7.03it/s]"
     ]
    },
    {
     "name": "stdout",
     "output_type": "stream",
     "text": [
      "file not done yet ../data/raw/scBam/CB_GTTCATTCAACTTGAC-*.bam\n",
      "file not done yet ../data/raw/scBam/CB_AGAGCTTCAACTGCGC-*.bam\n"
     ]
    },
    {
     "name": "stderr",
     "output_type": "stream",
     "text": [
      "  0%|          | 47/75923 [00:07<3:10:17,  6.65it/s]"
     ]
    },
    {
     "name": "stdout",
     "output_type": "stream",
     "text": [
      "file not done yet ../data/raw/scBam/CB_GCGGGTTTCTACGAGT-*.bam\n",
      "file not done yet ../data/raw/scBam/CB_CCGGTAGCATGGGAAC-*.bam\n"
     ]
    },
    {
     "name": "stderr",
     "output_type": "stream",
     "text": [
      "  0%|          | 49/75923 [00:08<3:27:00,  6.11it/s]"
     ]
    },
    {
     "name": "stdout",
     "output_type": "stream",
     "text": [
      "file not done yet ../data/raw/scBam/CB_TCACAAGGTAGTACCT-*.bam\n",
      "file not done yet ../data/raw/scBam/CB_GGGCACTTCCGAGCCA-*.bam\n"
     ]
    },
    {
     "name": "stderr",
     "output_type": "stream",
     "text": [
      "  0%|          | 51/75923 [00:08<3:26:31,  6.12it/s]"
     ]
    },
    {
     "name": "stdout",
     "output_type": "stream",
     "text": [
      "file not done yet ../data/raw/scBam/CB_CAAGAAACAGTCAGCC-*.bam\n",
      "file not done yet ../data/raw/scBam/CB_GCATGATCACCATGTA-*.bam\n"
     ]
    },
    {
     "name": "stderr",
     "output_type": "stream",
     "text": [
      "  0%|          | 53/75923 [00:08<3:21:47,  6.27it/s]"
     ]
    },
    {
     "name": "stdout",
     "output_type": "stream",
     "text": [
      "file not done yet ../data/raw/scBam/CB_TCGTACCTCCGAACGC-*.bam\n",
      "file not done yet ../data/raw/scBam/CB_TGCTGCTGTAGCTGCC-*.bam\n"
     ]
    },
    {
     "name": "stderr",
     "output_type": "stream",
     "text": [
      "  0%|          | 55/75923 [00:09<3:27:35,  6.09it/s]"
     ]
    },
    {
     "name": "stdout",
     "output_type": "stream",
     "text": [
      "file not done yet ../data/raw/scBam/CB_CATATTCTCACCACCT-*.bam\n",
      "file not done yet ../data/raw/scBam/CB_CCTATTAAGCTATGCT-*.bam\n"
     ]
    },
    {
     "name": "stderr",
     "output_type": "stream",
     "text": [
      "  0%|          | 57/75923 [00:09<3:14:09,  6.51it/s]"
     ]
    },
    {
     "name": "stdout",
     "output_type": "stream",
     "text": [
      "file not done yet ../data/raw/scBam/CB_ACGGGTCTCATCGATG-*.bam\n",
      "file not done yet ../data/raw/scBam/CB_CCGTGGAAGCCAACAG-*.bam\n"
     ]
    },
    {
     "name": "stderr",
     "output_type": "stream",
     "text": [
      "  0%|          | 59/75923 [00:09<3:18:11,  6.38it/s]"
     ]
    },
    {
     "name": "stdout",
     "output_type": "stream",
     "text": [
      "file not done yet ../data/raw/scBam/CB_GGACAAGCATTGGTAC-*.bam\n",
      "file not done yet ../data/raw/scBam/CB_GGAATAATCCAAACTG-*.bam\n"
     ]
    },
    {
     "name": "stderr",
     "output_type": "stream",
     "text": [
      "  0%|          | 61/75923 [00:10<3:19:20,  6.34it/s]"
     ]
    },
    {
     "name": "stdout",
     "output_type": "stream",
     "text": [
      "file not done yet ../data/raw/scBam/CB_GGGATGACAGCGTCCA-*.bam\n",
      "file not done yet ../data/raw/scBam/CB_CAGAATCCAACTGCTA-*.bam\n"
     ]
    },
    {
     "name": "stderr",
     "output_type": "stream",
     "text": [
      "  0%|          | 63/75923 [00:10<3:02:39,  6.92it/s]"
     ]
    },
    {
     "name": "stdout",
     "output_type": "stream",
     "text": [
      "file not done yet ../data/raw/scBam/CB_CTCAGAAAGCCACGCT-*.bam\n",
      "file not done yet ../data/raw/scBam/CB_TGTATTCGTCTAGCCG-*.bam\n"
     ]
    },
    {
     "name": "stderr",
     "output_type": "stream",
     "text": [
      "  0%|          | 65/75923 [00:10<3:09:15,  6.68it/s]"
     ]
    },
    {
     "name": "stdout",
     "output_type": "stream",
     "text": [
      "file not done yet ../data/raw/scBam/CB_GGCTGGTGTACGCACC-*.bam\n",
      "file not done yet ../data/raw/scBam/CB_ACTTACTTCTGGTATG-*.bam\n"
     ]
    },
    {
     "name": "stderr",
     "output_type": "stream",
     "text": [
      "  0%|          | 67/75923 [00:10<3:11:41,  6.60it/s]"
     ]
    },
    {
     "name": "stdout",
     "output_type": "stream",
     "text": [
      "file not done yet ../data/raw/scBam/CB_CATGCCTCATTTGCTT-*.bam\n",
      "file not done yet ../data/raw/scBam/CB_CTCGAAACACGAAATA-*.bam\n"
     ]
    },
    {
     "name": "stderr",
     "output_type": "stream",
     "text": [
      "  0%|          | 69/75923 [00:11<3:14:41,  6.49it/s]"
     ]
    },
    {
     "name": "stdout",
     "output_type": "stream",
     "text": [
      "file not done yet ../data/raw/scBam/CB_TTCCCAGTCTTCCTTC-*.bam\n",
      "file not done yet ../data/raw/scBam/CB_CGCGGTACAGGAATGC-*.bam\n"
     ]
    },
    {
     "name": "stderr",
     "output_type": "stream",
     "text": [
      "  0%|          | 71/75923 [00:11<3:04:31,  6.85it/s]"
     ]
    },
    {
     "name": "stdout",
     "output_type": "stream",
     "text": [
      "file not done yet ../data/raw/scBam/CB_AGGGATGCACCGTTGG-*.bam\n",
      "file not done yet ../data/raw/scBam/CB_CTAGAGTGTTGAACTC-*.bam\n"
     ]
    },
    {
     "name": "stderr",
     "output_type": "stream",
     "text": [
      "\r",
      "  0%|          | 72/75923 [00:11<3:15:45,  6.46it/s]"
     ]
    },
    {
     "name": "stdout",
     "output_type": "stream",
     "text": [
      "file not done yet ../data/raw/scBam/CB_CACCACTAGGGTTTCT-*.bam\n",
      "python /home/isshamie/software/mito-genotyping/exampleProcessing//01_pileup_counts.py ../data/raw/scBam/CB_AAGTCTGAGAGCTATA-1.bam ../data/raw/scPileup/CB_AAGTCTGAGAGCTATA-1 16571 0 AAGTCTGAGAGCTATA-1.bam 0\n"
     ]
    },
    {
     "name": "stderr",
     "output_type": "stream",
     "text": [
      "  0%|          | 75/75923 [00:15<13:47:57,  1.53it/s]"
     ]
    },
    {
     "name": "stdout",
     "output_type": "stream",
     "text": [
      "file not done yet ../data/raw/scBam/CB_TGAGAGGCACCACGTG-*.bam\n",
      "file not done yet ../data/raw/scBam/CB_CTTTGCGTCACTTACT-*.bam\n"
     ]
    },
    {
     "name": "stderr",
     "output_type": "stream",
     "text": [
      "\r",
      "  0%|          | 76/75923 [00:15<10:31:59,  2.00it/s]"
     ]
    },
    {
     "name": "stdout",
     "output_type": "stream",
     "text": [
      "file not done yet ../data/raw/scBam/CB_CGACCTTCAGTTTACG-*.bam\n"
     ]
    },
    {
     "name": "stderr",
     "output_type": "stream",
     "text": [
      "  0%|          | 78/75923 [00:16<6:53:45,  3.06it/s] "
     ]
    },
    {
     "name": "stdout",
     "output_type": "stream",
     "text": [
      "file not done yet ../data/raw/scBam/CB_CGGCTAGTCCAATGGT-*.bam\n",
      "file not done yet ../data/raw/scBam/CB_TCGAGGCAGTGGTCCC-*.bam\n"
     ]
    },
    {
     "name": "stderr",
     "output_type": "stream",
     "text": [
      "  0%|          | 80/75923 [00:16<4:46:39,  4.41it/s]"
     ]
    },
    {
     "name": "stdout",
     "output_type": "stream",
     "text": [
      "file not done yet ../data/raw/scBam/CB_CCAATCCAGGGTCTCC-*.bam\n",
      "file not done yet ../data/raw/scBam/CB_GCACTCTGTCGGCTCA-*.bam\n"
     ]
    },
    {
     "name": "stderr",
     "output_type": "stream",
     "text": [
      "  0%|          | 82/75923 [00:16<3:56:01,  5.36it/s]"
     ]
    },
    {
     "name": "stdout",
     "output_type": "stream",
     "text": [
      "file not done yet ../data/raw/scBam/CB_CCCAATCAGCTGTTCA-*.bam\n",
      "file not done yet ../data/raw/scBam/CB_GCTGCTTTCAGTTAGC-*.bam\n"
     ]
    },
    {
     "name": "stderr",
     "output_type": "stream",
     "text": [
      "\r",
      "  0%|          | 83/75923 [00:16<3:35:36,  5.86it/s]"
     ]
    },
    {
     "name": "stdout",
     "output_type": "stream",
     "text": [
      "file not done yet ../data/raw/scBam/CB_GTAGTCATCAACGGCC-*.bam\n"
     ]
    },
    {
     "name": "stderr",
     "output_type": "stream",
     "text": [
      "  0%|          | 85/75923 [00:17<3:46:11,  5.59it/s]"
     ]
    },
    {
     "name": "stdout",
     "output_type": "stream",
     "text": [
      "file not done yet ../data/raw/scBam/CB_CACACCTAGCCCAACC-*.bam\n",
      "file not done yet ../data/raw/scBam/CB_GCACATAGTAGTAGTA-*.bam\n",
      "python /home/isshamie/software/mito-genotyping/exampleProcessing//01_pileup_counts.py ../data/raw/scBam/CB_AATCGGTTCGCCTGTT-1.bam ../data/raw/scPileup/CB_AATCGGTTCGCCTGTT-1 16571 0 AATCGGTTCGCCTGTT-1.bam 0\n"
     ]
    },
    {
     "name": "stderr",
     "output_type": "stream",
     "text": [
      "  0%|          | 88/75923 [00:18<7:37:12,  2.76it/s] "
     ]
    },
    {
     "name": "stdout",
     "output_type": "stream",
     "text": [
      "file not done yet ../data/raw/scBam/CB_ACCCACTTCTACTATC-*.bam\n",
      "file not done yet ../data/raw/scBam/CB_ACGGAGACAGACTCGC-*.bam\n"
     ]
    },
    {
     "name": "stderr",
     "output_type": "stream",
     "text": [
      "  0%|          | 90/75923 [00:19<5:20:00,  3.95it/s]"
     ]
    },
    {
     "name": "stdout",
     "output_type": "stream",
     "text": [
      "file not done yet ../data/raw/scBam/CB_GTGCATAGTCCAGTGC-*.bam\n",
      "file not done yet ../data/raw/scBam/CB_TGGACGCTCAGTGCAT-*.bam\n"
     ]
    },
    {
     "name": "stderr",
     "output_type": "stream",
     "text": [
      "  0%|          | 92/75923 [00:19<4:26:22,  4.74it/s]"
     ]
    },
    {
     "name": "stdout",
     "output_type": "stream",
     "text": [
      "file not done yet ../data/raw/scBam/CB_GGATGTTTCTCTAGGA-*.bam\n",
      "file not done yet ../data/raw/scBam/CB_CCCAATCGTGCAACGA-*.bam\n"
     ]
    },
    {
     "name": "stderr",
     "output_type": "stream",
     "text": [
      "  0%|          | 94/75923 [00:19<3:49:45,  5.50it/s]"
     ]
    },
    {
     "name": "stdout",
     "output_type": "stream",
     "text": [
      "file not done yet ../data/raw/scBam/CB_TACTTACGTTAGGGTG-*.bam\n",
      "file not done yet ../data/raw/scBam/CB_GGACAGAAGTCTTGCA-*.bam\n"
     ]
    },
    {
     "name": "stderr",
     "output_type": "stream",
     "text": [
      "  0%|          | 96/75923 [00:20<3:22:27,  6.24it/s]"
     ]
    },
    {
     "name": "stdout",
     "output_type": "stream",
     "text": [
      "file not done yet ../data/raw/scBam/CB_CAAGGCCGTACCGGCT-*.bam\n",
      "file not done yet ../data/raw/scBam/CB_GCATGATAGGATGGAA-*.bam\n"
     ]
    },
    {
     "name": "stderr",
     "output_type": "stream",
     "text": [
      "  0%|          | 98/75923 [00:20<3:07:56,  6.72it/s]"
     ]
    },
    {
     "name": "stdout",
     "output_type": "stream",
     "text": [
      "file not done yet ../data/raw/scBam/CB_TATCAGGTCCCTCAGT-*.bam\n",
      "file not done yet ../data/raw/scBam/CB_TACTCATAGCGTGAGT-*.bam\n"
     ]
    },
    {
     "name": "stderr",
     "output_type": "stream",
     "text": [
      "  0%|          | 100/75923 [00:20<2:57:30,  7.12it/s]"
     ]
    },
    {
     "name": "stdout",
     "output_type": "stream",
     "text": [
      "file not done yet ../data/raw/scBam/CB_GGGCACTGTACAGTGG-*.bam\n",
      "file not done yet ../data/raw/scBam/CB_AGATCTGTCACCACCT-*.bam\n"
     ]
    },
    {
     "name": "stderr",
     "output_type": "stream",
     "text": [
      "  0%|          | 102/75923 [00:20<2:52:22,  7.33it/s]"
     ]
    },
    {
     "name": "stdout",
     "output_type": "stream",
     "text": [
      "file not done yet ../data/raw/scBam/CB_AGCGTCGCACGGACAA-*.bam\n",
      "file not done yet ../data/raw/scBam/CB_GACGCGTCACCCAGTG-*.bam\n"
     ]
    },
    {
     "name": "stderr",
     "output_type": "stream",
     "text": [
      "  0%|          | 104/75923 [00:21<2:44:53,  7.66it/s]"
     ]
    },
    {
     "name": "stdout",
     "output_type": "stream",
     "text": [
      "file not done yet ../data/raw/scBam/CB_ACAGCTATCTTCGAGA-*.bam\n",
      "file not done yet ../data/raw/scBam/CB_CCTTCGATCAGCTCGG-*.bam\n"
     ]
    },
    {
     "name": "stderr",
     "output_type": "stream",
     "text": [
      "  0%|          | 106/75923 [00:21<2:51:50,  7.35it/s]"
     ]
    },
    {
     "name": "stdout",
     "output_type": "stream",
     "text": [
      "file not done yet ../data/raw/scBam/CB_GCCTCTATCTATCCCG-*.bam\n",
      "file not done yet ../data/raw/scBam/CB_AGGGTGATCGAACGGA-*.bam\n"
     ]
    },
    {
     "name": "stderr",
     "output_type": "stream",
     "text": [
      "  0%|          | 108/75923 [00:21<2:52:11,  7.34it/s]"
     ]
    },
    {
     "name": "stdout",
     "output_type": "stream",
     "text": [
      "file not done yet ../data/raw/scBam/CB_TCAGATGAGAGTAAGG-*.bam\n",
      "file not done yet ../data/raw/scBam/CB_TCCACACAGCGTCAAG-*.bam\n"
     ]
    },
    {
     "name": "stderr",
     "output_type": "stream",
     "text": [
      "  0%|          | 110/75923 [00:22<2:58:25,  7.08it/s]"
     ]
    },
    {
     "name": "stdout",
     "output_type": "stream",
     "text": [
      "file not done yet ../data/raw/scBam/CB_CTAGTGACAATCGGTT-*.bam\n",
      "file not done yet ../data/raw/scBam/CB_ACTATCTTCTTAGCCC-*.bam\n"
     ]
    },
    {
     "name": "stderr",
     "output_type": "stream",
     "text": [
      "  0%|          | 112/75923 [00:22<2:53:42,  7.27it/s]"
     ]
    },
    {
     "name": "stdout",
     "output_type": "stream",
     "text": [
      "file not done yet ../data/raw/scBam/CB_TTAGGCACACCTATCC-*.bam\n",
      "file not done yet ../data/raw/scBam/CB_TAAGTGCCAAACCCAT-*.bam\n"
     ]
    },
    {
     "name": "stderr",
     "output_type": "stream",
     "text": [
      "  0%|          | 114/75923 [00:22<3:01:27,  6.96it/s]"
     ]
    },
    {
     "name": "stdout",
     "output_type": "stream",
     "text": [
      "file not done yet ../data/raw/scBam/CB_ATCATCTGTATGAAAC-*.bam\n",
      "file not done yet ../data/raw/scBam/CB_CATCCACAGACGCTTT-*.bam\n"
     ]
    },
    {
     "name": "stderr",
     "output_type": "stream",
     "text": [
      "  0%|          | 116/75923 [00:22<3:03:58,  6.87it/s]"
     ]
    },
    {
     "name": "stdout",
     "output_type": "stream",
     "text": [
      "file not done yet ../data/raw/scBam/CB_CGTTCTGCATTCTCAT-*.bam\n",
      "file not done yet ../data/raw/scBam/CB_CGATGTAAGAGGACGG-*.bam\n"
     ]
    },
    {
     "name": "stderr",
     "output_type": "stream",
     "text": [
      "  0%|          | 118/75923 [00:23<2:53:42,  7.27it/s]"
     ]
    },
    {
     "name": "stdout",
     "output_type": "stream",
     "text": [
      "file not done yet ../data/raw/scBam/CB_TCGCGAGGTTGTCGCG-*.bam\n",
      "file not done yet ../data/raw/scBam/CB_CGAACATAGGCGCTCT-*.bam\n",
      "python /home/isshamie/software/mito-genotyping/exampleProcessing//01_pileup_counts.py ../data/raw/scBam/CB_AACTCCCTCCGTTGTC-1.bam ../data/raw/scPileup/CB_AACTCCCTCCGTTGTC-1 16571 0 AACTCCCTCCGTTGTC-1.bam 0\n"
     ]
    },
    {
     "name": "stderr",
     "output_type": "stream",
     "text": [
      "  0%|          | 121/75923 [00:25<7:24:45,  2.84it/s] "
     ]
    },
    {
     "name": "stdout",
     "output_type": "stream",
     "text": [
      "file not done yet ../data/raw/scBam/CB_ATCCGAAAGATGTTAG-*.bam\n",
      "file not done yet ../data/raw/scBam/CB_CCGTACTAGGATGGAA-*.bam\n"
     ]
    },
    {
     "name": "stderr",
     "output_type": "stream",
     "text": [
      "  0%|          | 123/75923 [00:25<5:12:04,  4.05it/s]"
     ]
    },
    {
     "name": "stdout",
     "output_type": "stream",
     "text": [
      "file not done yet ../data/raw/scBam/CB_TACACGAAGTTTCCTT-*.bam\n",
      "file not done yet ../data/raw/scBam/CB_TCAACGACAGACACTT-*.bam\n"
     ]
    },
    {
     "name": "stderr",
     "output_type": "stream",
     "text": [
      "  0%|          | 125/75923 [00:25<4:09:03,  5.07it/s]"
     ]
    },
    {
     "name": "stdout",
     "output_type": "stream",
     "text": [
      "file not done yet ../data/raw/scBam/CB_CGAGAAGGTCGGGTCT-*.bam\n",
      "file not done yet ../data/raw/scBam/CB_TGCCAAACAAGCGAGT-*.bam\n"
     ]
    },
    {
     "name": "stderr",
     "output_type": "stream",
     "text": [
      "  0%|          | 127/75923 [00:25<3:47:30,  5.55it/s]"
     ]
    },
    {
     "name": "stdout",
     "output_type": "stream",
     "text": [
      "file not done yet ../data/raw/scBam/CB_CAGCGACAGTACGCCC-*.bam\n",
      "file not done yet ../data/raw/scBam/CB_GAAGCAGCACGGCTAC-*.bam\n"
     ]
    },
    {
     "name": "stderr",
     "output_type": "stream",
     "text": [
      "  0%|          | 129/75923 [00:26<3:12:47,  6.55it/s]"
     ]
    },
    {
     "name": "stdout",
     "output_type": "stream",
     "text": [
      "file not done yet ../data/raw/scBam/CB_TTGTAGGGTAATAGCA-*.bam\n",
      "file not done yet ../data/raw/scBam/CB_ACGCCGAAGGTCGGAT-*.bam\n"
     ]
    },
    {
     "name": "stderr",
     "output_type": "stream",
     "text": [
      "  0%|          | 131/75923 [00:26<3:06:54,  6.76it/s]"
     ]
    },
    {
     "name": "stdout",
     "output_type": "stream",
     "text": [
      "file not done yet ../data/raw/scBam/CB_TAAGAGACAGCTTAAC-*.bam\n",
      "file not done yet ../data/raw/scBam/CB_AGTCTTTCAGATGGCA-*.bam\n"
     ]
    },
    {
     "name": "stderr",
     "output_type": "stream",
     "text": [
      "  0%|          | 133/75923 [00:26<3:12:43,  6.55it/s]"
     ]
    },
    {
     "name": "stdout",
     "output_type": "stream",
     "text": [
      "file not done yet ../data/raw/scBam/CB_CGGAGCTAGACGCACA-*.bam\n",
      "file not done yet ../data/raw/scBam/CB_CTACACCGTGGCTCCA-*.bam\n"
     ]
    },
    {
     "name": "stderr",
     "output_type": "stream",
     "text": [
      "  0%|          | 135/75923 [00:27<3:14:17,  6.50it/s]"
     ]
    },
    {
     "name": "stdout",
     "output_type": "stream",
     "text": [
      "file not done yet ../data/raw/scBam/CB_ATGCGATCAATGAAAC-*.bam\n",
      "file not done yet ../data/raw/scBam/CB_CCCATACCAGGGTTAG-*.bam\n"
     ]
    },
    {
     "name": "stderr",
     "output_type": "stream",
     "text": [
      "  0%|          | 137/75923 [00:27<3:20:01,  6.31it/s]"
     ]
    },
    {
     "name": "stdout",
     "output_type": "stream",
     "text": [
      "file not done yet ../data/raw/scBam/CB_GTCACGGCATATACCG-*.bam\n",
      "file not done yet ../data/raw/scBam/CB_GGCAATTGTGTGGCTC-*.bam\n"
     ]
    },
    {
     "name": "stderr",
     "output_type": "stream",
     "text": [
      "  0%|          | 139/75923 [00:27<3:09:36,  6.66it/s]"
     ]
    },
    {
     "name": "stdout",
     "output_type": "stream",
     "text": [
      "file not done yet ../data/raw/scBam/CB_AGCATACCATTTGCCC-*.bam\n",
      "file not done yet ../data/raw/scBam/CB_GATCGATCAGGCGATA-*.bam\n",
      "python /home/isshamie/software/mito-genotyping/exampleProcessing//01_pileup_counts.py ../data/raw/scBam/CB_AACTCAGGTCTGCGGT-1.bam ../data/raw/scPileup/CB_AACTCAGGTCTGCGGT-1 16571 0 AACTCAGGTCTGCGGT-1.bam 0\n"
     ]
    },
    {
     "name": "stderr",
     "output_type": "stream",
     "text": [
      "  0%|          | 142/75923 [00:29<7:50:49,  2.68it/s] "
     ]
    },
    {
     "name": "stdout",
     "output_type": "stream",
     "text": [
      "file not done yet ../data/raw/scBam/CB_GCAGCCAAGACCCACC-*.bam\n",
      "file not done yet ../data/raw/scBam/CB_CCATGTCTCCAGAGGA-*.bam\n"
     ]
    },
    {
     "name": "stderr",
     "output_type": "stream",
     "text": [
      "  0%|          | 144/75923 [00:29<5:28:53,  3.84it/s]"
     ]
    },
    {
     "name": "stdout",
     "output_type": "stream",
     "text": [
      "file not done yet ../data/raw/scBam/CB_CGCGGTATCAATAAGG-*.bam\n",
      "file not done yet ../data/raw/scBam/CB_CGCGTTTTCGATAGAA-*.bam\n"
     ]
    },
    {
     "name": "stderr",
     "output_type": "stream",
     "text": [
      "  0%|          | 146/75923 [00:30<4:20:33,  4.85it/s]"
     ]
    },
    {
     "name": "stdout",
     "output_type": "stream",
     "text": [
      "file not done yet ../data/raw/scBam/CB_ATCATCTTCGGAGGTA-*.bam\n",
      "file not done yet ../data/raw/scBam/CB_TTCCCAGCACAGTCGC-*.bam\n"
     ]
    },
    {
     "name": "stderr",
     "output_type": "stream",
     "text": [
      "  0%|          | 148/75923 [00:30<3:55:12,  5.37it/s]"
     ]
    },
    {
     "name": "stdout",
     "output_type": "stream",
     "text": [
      "file not done yet ../data/raw/scBam/CB_TGTATTCGTTACTGAC-*.bam\n",
      "file not done yet ../data/raw/scBam/CB_CTCGAAACATGCATGT-*.bam\n"
     ]
    },
    {
     "name": "stderr",
     "output_type": "stream",
     "text": [
      "\r",
      "  0%|          | 149/75923 [00:31<7:01:38,  3.00it/s]"
     ]
    },
    {
     "name": "stdout",
     "output_type": "stream",
     "text": [
      "file not done yet ../data/raw/scBam/CB_CTAATGGAGCCACTAT-*.bam\n"
     ]
    },
    {
     "name": "stderr",
     "output_type": "stream",
     "text": [
      "\r",
      "  0%|          | 150/75923 [00:31<9:13:56,  2.28it/s]"
     ]
    },
    {
     "name": "stdout",
     "output_type": "stream",
     "text": [
      "file not done yet ../data/raw/scBam/CB_CCGGGATAGGAGTTGC-*.bam\n",
      "python /home/isshamie/software/mito-genotyping/exampleProcessing//01_pileup_counts.py ../data/raw/scBam/CB_AAAGTAGTCATAGCAC-1.bam ../data/raw/scPileup/CB_AAAGTAGTCATAGCAC-1 16571 0 AAAGTAGTCATAGCAC-1.bam 0\n"
     ]
    },
    {
     "name": "stderr",
     "output_type": "stream",
     "text": [
      "  0%|          | 152/75923 [00:35<20:51:42,  1.01it/s]"
     ]
    },
    {
     "name": "stdout",
     "output_type": "stream",
     "text": [
      "file not done yet ../data/raw/scBam/CB_GGATGTTTCAGCTTAG-*.bam\n"
     ]
    },
    {
     "name": "stderr",
     "output_type": "stream",
     "text": [
      "\r",
      "  0%|          | 153/75923 [00:35<15:59:00,  1.32it/s]"
     ]
    },
    {
     "name": "stdout",
     "output_type": "stream",
     "text": [
      "file not done yet ../data/raw/scBam/CB_TTGCCGTTCATTGCCC-*.bam\n",
      "python /home/isshamie/software/mito-genotyping/exampleProcessing//01_pileup_counts.py ../data/raw/scBam/CB_AAAGTAGTCGCACTCT-1.bam ../data/raw/scPileup/CB_AAAGTAGTCGCACTCT-1 16571 0 AAAGTAGTCGCACTCT-1.bam 0\n"
     ]
    },
    {
     "name": "stderr",
     "output_type": "stream",
     "text": [
      "  0%|          | 156/75923 [00:37<12:23:20,  1.70it/s]"
     ]
    },
    {
     "name": "stdout",
     "output_type": "stream",
     "text": [
      "file not done yet ../data/raw/scBam/CB_CCGGGATCATCACCCT-*.bam\n",
      "file not done yet ../data/raw/scBam/CB_TTCTCCTCAAATACAG-*.bam\n"
     ]
    },
    {
     "name": "stderr",
     "output_type": "stream",
     "text": [
      "  0%|          | 158/75923 [00:38<7:52:17,  2.67it/s] "
     ]
    },
    {
     "name": "stdout",
     "output_type": "stream",
     "text": [
      "file not done yet ../data/raw/scBam/CB_ATAACGCAGAAACGCC-*.bam\n",
      "file not done yet ../data/raw/scBam/CB_ATGTGTGGTGAAAGAG-*.bam\n",
      "python /home/isshamie/software/mito-genotyping/exampleProcessing//01_pileup_counts.py ../data/raw/scBam/CB_AAGGTTCGTCGTGGCT-1.bam ../data/raw/scPileup/CB_AAGGTTCGTCGTGGCT-1 16571 0 AAGGTTCGTCGTGGCT-1.bam 0\n"
     ]
    },
    {
     "name": "stderr",
     "output_type": "stream",
     "text": [
      "  0%|          | 161/75923 [00:39<7:41:54,  2.73it/s] "
     ]
    },
    {
     "name": "stdout",
     "output_type": "stream",
     "text": [
      "file not done yet ../data/raw/scBam/CB_TTCTACAGTTGGGACA-*.bam\n",
      "file not done yet ../data/raw/scBam/CB_CACATTTCACCGAATT-*.bam\n"
     ]
    },
    {
     "name": "stderr",
     "output_type": "stream",
     "text": [
      "  0%|          | 163/75923 [00:39<5:21:31,  3.93it/s]"
     ]
    },
    {
     "name": "stdout",
     "output_type": "stream",
     "text": [
      "file not done yet ../data/raw/scBam/CB_GTAACGTGTGCGATAG-*.bam\n",
      "file not done yet ../data/raw/scBam/CB_CCACTACTCAGTTGAC-*.bam\n"
     ]
    },
    {
     "name": "stderr",
     "output_type": "stream",
     "text": [
      "  0%|          | 165/75923 [00:40<4:09:49,  5.05it/s]"
     ]
    },
    {
     "name": "stdout",
     "output_type": "stream",
     "text": [
      "file not done yet ../data/raw/scBam/CB_ACGAGGATCATCGGAT-*.bam\n",
      "file not done yet ../data/raw/scBam/CB_GTATTCTGTAGTGAAT-*.bam\n"
     ]
    },
    {
     "name": "stderr",
     "output_type": "stream",
     "text": [
      "  0%|          | 167/75923 [00:40<3:36:03,  5.84it/s]"
     ]
    },
    {
     "name": "stdout",
     "output_type": "stream",
     "text": [
      "file not done yet ../data/raw/scBam/CB_GTCACAAAGCACACAG-*.bam\n",
      "file not done yet ../data/raw/scBam/CB_CTGATAGTCACCCGAG-*.bam\n"
     ]
    },
    {
     "name": "stderr",
     "output_type": "stream",
     "text": [
      "  0%|          | 169/75923 [00:40<3:25:55,  6.13it/s]"
     ]
    },
    {
     "name": "stdout",
     "output_type": "stream",
     "text": [
      "file not done yet ../data/raw/scBam/CB_TGAGCATCATGGATGG-*.bam\n",
      "file not done yet ../data/raw/scBam/CB_CGTCTACTCCTACAGA-*.bam\n"
     ]
    },
    {
     "name": "stderr",
     "output_type": "stream",
     "text": [
      "  0%|          | 171/75923 [00:40<3:10:31,  6.63it/s]"
     ]
    },
    {
     "name": "stdout",
     "output_type": "stream",
     "text": [
      "file not done yet ../data/raw/scBam/CB_GAGGTGAAGTCGATAA-*.bam\n",
      "file not done yet ../data/raw/scBam/CB_GTGAAGGAGCATCATC-*.bam\n"
     ]
    },
    {
     "name": "stderr",
     "output_type": "stream",
     "text": [
      "  0%|          | 173/75923 [00:41<3:08:19,  6.70it/s]"
     ]
    },
    {
     "name": "stdout",
     "output_type": "stream",
     "text": [
      "file not done yet ../data/raw/scBam/CB_CCATGTCAGATGTCGG-*.bam\n",
      "file not done yet ../data/raw/scBam/CB_CAAGGCCCATAGGATA-*.bam\n"
     ]
    },
    {
     "name": "stderr",
     "output_type": "stream",
     "text": [
      "  0%|          | 175/75923 [00:41<2:59:28,  7.03it/s]"
     ]
    },
    {
     "name": "stdout",
     "output_type": "stream",
     "text": [
      "file not done yet ../data/raw/scBam/CB_TGGACGCTCCGATATG-*.bam\n",
      "file not done yet ../data/raw/scBam/CB_GTCATTTCAAATTGCC-*.bam\n"
     ]
    },
    {
     "name": "stderr",
     "output_type": "stream",
     "text": [
      "\r",
      "  0%|          | 176/75923 [00:41<2:52:11,  7.33it/s]"
     ]
    },
    {
     "name": "stdout",
     "output_type": "stream",
     "text": [
      "file not done yet ../data/raw/scBam/CB_CGGACACTCGAGCCCA-*.bam\n",
      "python /home/isshamie/software/mito-genotyping/exampleProcessing//01_pileup_counts.py ../data/raw/scBam/CB_AACTTTCCATTCCTGC-1.bam ../data/raw/scPileup/CB_AACTTTCCATTCCTGC-1 16571 0 AACTTTCCATTCCTGC-1.bam 0\n"
     ]
    },
    {
     "name": "stderr",
     "output_type": "stream",
     "text": [
      "  0%|          | 179/75923 [00:43<6:36:41,  3.18it/s] "
     ]
    },
    {
     "name": "stdout",
     "output_type": "stream",
     "text": [
      "file not done yet ../data/raw/scBam/CB_ATTTCTGAGTTATCGC-*.bam\n",
      "file not done yet ../data/raw/scBam/CB_CTACGTCGTAACGACG-*.bam\n",
      "python /home/isshamie/software/mito-genotyping/exampleProcessing//01_pileup_counts.py ../data/raw/scBam/CB_AAAGATGGTAAACACA-1.bam ../data/raw/scPileup/CB_AAAGATGGTAAACACA-1 16571 0 AAAGATGGTAAACACA-1.bam 0\n"
     ]
    },
    {
     "name": "stderr",
     "output_type": "stream",
     "text": [
      "  0%|          | 182/75923 [00:44<8:05:30,  2.60it/s] "
     ]
    },
    {
     "name": "stdout",
     "output_type": "stream",
     "text": [
      "file not done yet ../data/raw/scBam/CB_CATTCGCTCTGATTCT-*.bam\n",
      "file not done yet ../data/raw/scBam/CB_CGCGGTACATAAGACA-*.bam\n"
     ]
    },
    {
     "name": "stderr",
     "output_type": "stream",
     "text": [
      "  0%|          | 184/75923 [00:45<5:31:41,  3.81it/s]"
     ]
    },
    {
     "name": "stdout",
     "output_type": "stream",
     "text": [
      "file not done yet ../data/raw/scBam/CB_CAACTAGAGAACTCGG-*.bam\n",
      "file not done yet ../data/raw/scBam/CB_GACGGCTCATGGTAGG-*.bam\n"
     ]
    },
    {
     "name": "stderr",
     "output_type": "stream",
     "text": [
      "  0%|          | 186/75923 [00:45<4:31:04,  4.66it/s]"
     ]
    },
    {
     "name": "stdout",
     "output_type": "stream",
     "text": [
      "file not done yet ../data/raw/scBam/CB_CATTATCAGTGGTAGC-*.bam\n",
      "file not done yet ../data/raw/scBam/CB_ACTGTCCAGTGACTCT-*.bam\n"
     ]
    },
    {
     "name": "stderr",
     "output_type": "stream",
     "text": [
      "  0%|          | 188/75923 [00:45<3:47:51,  5.54it/s]"
     ]
    },
    {
     "name": "stdout",
     "output_type": "stream",
     "text": [
      "file not done yet ../data/raw/scBam/CB_TTGGAACGTACTCGCG-*.bam\n",
      "file not done yet ../data/raw/scBam/CB_CGTGAGCAGAAGGTGA-*.bam\n"
     ]
    },
    {
     "name": "stderr",
     "output_type": "stream",
     "text": [
      "  0%|          | 190/75923 [00:46<3:20:37,  6.29it/s]"
     ]
    },
    {
     "name": "stdout",
     "output_type": "stream",
     "text": [
      "file not done yet ../data/raw/scBam/CB_CGGACTGGTGGCAAAC-*.bam\n",
      "file not done yet ../data/raw/scBam/CB_GGTGTTACAAAGTCAA-*.bam\n"
     ]
    },
    {
     "name": "stderr",
     "output_type": "stream",
     "text": [
      "  0%|          | 192/75923 [00:46<3:22:45,  6.23it/s]"
     ]
    },
    {
     "name": "stdout",
     "output_type": "stream",
     "text": [
      "file not done yet ../data/raw/scBam/CB_ACTGAACAGTGACTCT-*.bam\n",
      "file not done yet ../data/raw/scBam/CB_TAAGTGCGTCGAACAG-*.bam\n"
     ]
    },
    {
     "name": "stderr",
     "output_type": "stream",
     "text": [
      "\r",
      "  0%|          | 193/75923 [00:46<3:29:54,  6.01it/s]"
     ]
    },
    {
     "name": "stdout",
     "output_type": "stream",
     "text": [
      "file not done yet ../data/raw/scBam/CB_TGAGAGGCACAACGCC-*.bam\n"
     ]
    },
    {
     "name": "stderr",
     "output_type": "stream",
     "text": [
      "  0%|          | 195/75923 [00:47<3:55:31,  5.36it/s]"
     ]
    },
    {
     "name": "stdout",
     "output_type": "stream",
     "text": [
      "file not done yet ../data/raw/scBam/CB_AGATCTGTCATACGGT-*.bam\n",
      "file not done yet ../data/raw/scBam/CB_ACATGGTCATACGCCG-*.bam\n"
     ]
    },
    {
     "name": "stderr",
     "output_type": "stream",
     "text": [
      "  0%|          | 197/75923 [00:47<4:11:31,  5.02it/s]"
     ]
    },
    {
     "name": "stdout",
     "output_type": "stream",
     "text": [
      "file not done yet ../data/raw/scBam/CB_TGATTTCTCGAACTGT-*.bam\n",
      "file not done yet ../data/raw/scBam/CB_ACGGGTCCAAGCCCAC-*.bam\n"
     ]
    },
    {
     "name": "stderr",
     "output_type": "stream",
     "text": [
      "  0%|          | 199/75923 [00:47<4:14:59,  4.95it/s]"
     ]
    },
    {
     "name": "stdout",
     "output_type": "stream",
     "text": [
      "file not done yet ../data/raw/scBam/CB_CATCGGGCAGATAATG-*.bam\n",
      "file not done yet ../data/raw/scBam/CB_GTTACAGAGAAACCGC-*.bam\n"
     ]
    },
    {
     "name": "stderr",
     "output_type": "stream",
     "text": [
      "  0%|          | 201/75923 [00:48<3:49:12,  5.51it/s]"
     ]
    },
    {
     "name": "stdout",
     "output_type": "stream",
     "text": [
      "file not done yet ../data/raw/scBam/CB_CCGGGATGTATAAACG-*.bam\n",
      "file not done yet ../data/raw/scBam/CB_ACGATGTAGGGTATCG-*.bam\n",
      "python /home/isshamie/software/mito-genotyping/exampleProcessing//01_pileup_counts.py ../data/raw/scBam/CB_AACTCAGGTCTCACCT-1.bam ../data/raw/scPileup/CB_AACTCAGGTCTCACCT-1 16571 0 AACTCAGGTCTCACCT-1.bam 0\n"
     ]
    },
    {
     "name": "stderr",
     "output_type": "stream",
     "text": [
      "  0%|          | 204/75923 [00:50<9:29:34,  2.22it/s] "
     ]
    },
    {
     "name": "stdout",
     "output_type": "stream",
     "text": [
      "file not done yet ../data/raw/scBam/CB_TCGTACCCAGGGCATA-*.bam\n",
      "file not done yet ../data/raw/scBam/CB_GCAATCATCCTAGGGC-*.bam\n"
     ]
    },
    {
     "name": "stderr",
     "output_type": "stream",
     "text": [
      "  0%|          | 206/75923 [00:50<6:32:21,  3.22it/s]"
     ]
    },
    {
     "name": "stdout",
     "output_type": "stream",
     "text": [
      "file not done yet ../data/raw/scBam/CB_TTAGGACAGGCACATG-*.bam\n",
      "file not done yet ../data/raw/scBam/CB_GTCACAAGTCGAGATG-*.bam\n"
     ]
    },
    {
     "name": "stderr",
     "output_type": "stream",
     "text": [
      "  0%|          | 208/75923 [00:51<4:44:55,  4.43it/s]"
     ]
    },
    {
     "name": "stdout",
     "output_type": "stream",
     "text": [
      "file not done yet ../data/raw/scBam/CB_CCTTACGCACATTAGC-*.bam\n",
      "file not done yet ../data/raw/scBam/CB_GACACGCTCTGGTATG-*.bam\n"
     ]
    },
    {
     "name": "stderr",
     "output_type": "stream",
     "text": [
      "  0%|          | 210/75923 [00:51<4:03:03,  5.19it/s]"
     ]
    },
    {
     "name": "stdout",
     "output_type": "stream",
     "text": [
      "file not done yet ../data/raw/scBam/CB_CTTAGGACACAACGCC-*.bam\n",
      "file not done yet ../data/raw/scBam/CB_TACCTTATCTTGCATT-*.bam\n"
     ]
    },
    {
     "name": "stderr",
     "output_type": "stream",
     "text": [
      "  0%|          | 212/75923 [00:51<3:43:32,  5.64it/s]"
     ]
    },
    {
     "name": "stdout",
     "output_type": "stream",
     "text": [
      "file not done yet ../data/raw/scBam/CB_CGTCCATGTATAGTAG-*.bam\n",
      "file not done yet ../data/raw/scBam/CB_ACGTCAAAGAGGGCTT-*.bam\n"
     ]
    },
    {
     "name": "stderr",
     "output_type": "stream",
     "text": [
      "  0%|          | 214/75923 [00:52<3:37:28,  5.80it/s]"
     ]
    },
    {
     "name": "stdout",
     "output_type": "stream",
     "text": [
      "file not done yet ../data/raw/scBam/CB_CCGTACTAGAGCTGGT-*.bam\n",
      "file not done yet ../data/raw/scBam/CB_GATCGCGTCCACGACG-*.bam\n"
     ]
    },
    {
     "name": "stderr",
     "output_type": "stream",
     "text": [
      "\r",
      "  0%|          | 215/75923 [00:52<3:21:33,  6.26it/s]"
     ]
    },
    {
     "name": "stdout",
     "output_type": "stream",
     "text": [
      "file not done yet ../data/raw/scBam/CB_TCACGAAGTCAGAAGC-*.bam\n"
     ]
    },
    {
     "name": "stderr",
     "output_type": "stream",
     "text": [
      "  0%|          | 217/75923 [00:52<3:37:12,  5.81it/s]"
     ]
    },
    {
     "name": "stdout",
     "output_type": "stream",
     "text": [
      "file not done yet ../data/raw/scBam/CB_GCGACCAGTGGGTATG-*.bam\n",
      "file not done yet ../data/raw/scBam/CB_TCATTACAGACTAGAT-*.bam\n"
     ]
    },
    {
     "name": "stderr",
     "output_type": "stream",
     "text": [
      "  0%|          | 219/75923 [00:53<3:21:09,  6.27it/s]"
     ]
    },
    {
     "name": "stdout",
     "output_type": "stream",
     "text": [
      "file not done yet ../data/raw/scBam/CB_ACTGAGTCATCAGTCA-*.bam\n",
      "file not done yet ../data/raw/scBam/CB_CTCATTATCTAACTTC-*.bam\n",
      "python /home/isshamie/software/mito-genotyping/exampleProcessing//01_pileup_counts.py ../data/raw/scBam/CB_AACTTTCGTTGATTGC-1.bam ../data/raw/scPileup/CB_AACTTTCGTTGATTGC-1 16571 0 AACTTTCGTTGATTGC-1.bam 0\n"
     ]
    },
    {
     "name": "stderr",
     "output_type": "stream",
     "text": [
      "  0%|          | 222/75923 [00:55<8:30:46,  2.47it/s] "
     ]
    },
    {
     "name": "stdout",
     "output_type": "stream",
     "text": [
      "file not done yet ../data/raw/scBam/CB_GTGCATAAGCTGCCCA-*.bam\n",
      "file not done yet ../data/raw/scBam/CB_CAGGTGCCACTATCTT-*.bam\n"
     ]
    },
    {
     "name": "stderr",
     "output_type": "stream",
     "text": [
      "\r",
      "  0%|          | 223/75923 [00:55<7:08:57,  2.94it/s]"
     ]
    },
    {
     "name": "stdout",
     "output_type": "stream",
     "text": [
      "file not done yet ../data/raw/scBam/CB_TTCTCCTTCTAACGGT-*.bam\n"
     ]
    },
    {
     "name": "stderr",
     "output_type": "stream",
     "text": [
      "\r",
      "  0%|          | 224/75923 [00:55<6:21:11,  3.31it/s]"
     ]
    },
    {
     "name": "stdout",
     "output_type": "stream",
     "text": [
      "file not done yet ../data/raw/scBam/CB_GACCAATAGGAGTTTA-*.bam\n",
      "python /home/isshamie/software/mito-genotyping/exampleProcessing//01_pileup_counts.py ../data/raw/scBam/CB_AACTCAGCATACCATG-1.bam ../data/raw/scPileup/CB_AACTCAGCATACCATG-1 16571 0 AACTCAGCATACCATG-1.bam 0\n"
     ]
    },
    {
     "name": "stderr",
     "output_type": "stream",
     "text": [
      "  0%|          | 227/75923 [00:56<6:57:31,  3.02it/s] "
     ]
    },
    {
     "name": "stdout",
     "output_type": "stream",
     "text": [
      "file not done yet ../data/raw/scBam/CB_CTGGTCTAGGTTCCTA-*.bam\n",
      "file not done yet ../data/raw/scBam/CB_TGCCAAAGTAGCGTGA-*.bam\n"
     ]
    },
    {
     "name": "stderr",
     "output_type": "stream",
     "text": [
      "  0%|          | 229/75923 [00:57<5:21:10,  3.93it/s]"
     ]
    },
    {
     "name": "stdout",
     "output_type": "stream",
     "text": [
      "file not done yet ../data/raw/scBam/CB_AGTGAGGTCACCATAG-*.bam\n",
      "file not done yet ../data/raw/scBam/CB_AGGGTGATCGCGCCAA-*.bam\n"
     ]
    },
    {
     "name": "stderr",
     "output_type": "stream",
     "text": [
      "  0%|          | 231/75923 [00:57<4:14:38,  4.95it/s]"
     ]
    },
    {
     "name": "stdout",
     "output_type": "stream",
     "text": [
      "file not done yet ../data/raw/scBam/CB_GAGTCCGAGGGCTTCC-*.bam\n",
      "file not done yet ../data/raw/scBam/CB_TGCACCTTCGAACGGA-*.bam\n"
     ]
    },
    {
     "name": "stderr",
     "output_type": "stream",
     "text": [
      "  0%|          | 233/75923 [00:57<4:05:46,  5.13it/s]"
     ]
    },
    {
     "name": "stdout",
     "output_type": "stream",
     "text": [
      "file not done yet ../data/raw/scBam/CB_TTGAACGAGCGCCTCA-*.bam\n",
      "file not done yet ../data/raw/scBam/CB_CACAGTACAACACGCC-*.bam\n"
     ]
    },
    {
     "name": "stderr",
     "output_type": "stream",
     "text": [
      "  0%|          | 235/75923 [00:58<3:53:41,  5.40it/s]"
     ]
    },
    {
     "name": "stdout",
     "output_type": "stream",
     "text": [
      "file not done yet ../data/raw/scBam/CB_ATTCTACAGCAATCTC-*.bam\n",
      "file not done yet ../data/raw/scBam/CB_ACGTCAACAGCCAATT-*.bam\n"
     ]
    },
    {
     "name": "stderr",
     "output_type": "stream",
     "text": [
      "  0%|          | 237/75923 [00:58<3:58:03,  5.30it/s]"
     ]
    },
    {
     "name": "stdout",
     "output_type": "stream",
     "text": [
      "file not done yet ../data/raw/scBam/CB_TTCGGTCAGGATATAC-*.bam\n",
      "file not done yet ../data/raw/scBam/CB_TACGGTAAGTAGGTGC-*.bam\n"
     ]
    },
    {
     "name": "stderr",
     "output_type": "stream",
     "text": [
      "  0%|          | 239/75923 [00:59<3:52:48,  5.42it/s]"
     ]
    },
    {
     "name": "stdout",
     "output_type": "stream",
     "text": [
      "file not done yet ../data/raw/scBam/CB_GCAAACTGTCTCTTTA-*.bam\n",
      "file not done yet ../data/raw/scBam/CB_GTGCATAGTCGCGAAA-*.bam\n"
     ]
    },
    {
     "name": "stderr",
     "output_type": "stream",
     "text": [
      "  0%|          | 241/75923 [00:59<3:30:58,  5.98it/s]"
     ]
    },
    {
     "name": "stdout",
     "output_type": "stream",
     "text": [
      "file not done yet ../data/raw/scBam/CB_AGGGATGAGTGTACCT-*.bam\n",
      "file not done yet ../data/raw/scBam/CB_AGAATAGCAATGGAAT-*.bam\n"
     ]
    },
    {
     "name": "stderr",
     "output_type": "stream",
     "text": [
      "\r",
      "  0%|          | 242/75923 [00:59<3:31:43,  5.96it/s]"
     ]
    },
    {
     "name": "stdout",
     "output_type": "stream",
     "text": [
      "file not done yet ../data/raw/scBam/CB_CGGTTAACAGATGGGT-*.bam\n",
      "python /home/isshamie/software/mito-genotyping/exampleProcessing//01_pileup_counts.py ../data/raw/scBam/CB_AACTTTCAGTGATCGG-1.bam ../data/raw/scPileup/CB_AACTTTCAGTGATCGG-1 16571 0 AACTTTCAGTGATCGG-1.bam 0\n"
     ]
    },
    {
     "name": "stderr",
     "output_type": "stream",
     "text": [
      "  0%|          | 245/75923 [01:01<8:08:29,  2.58it/s] "
     ]
    },
    {
     "name": "stdout",
     "output_type": "stream",
     "text": [
      "file not done yet ../data/raw/scBam/CB_GACGTGCCACAACTGT-*.bam\n",
      "file not done yet ../data/raw/scBam/CB_GACTGCGTCAGGCAAG-*.bam\n"
     ]
    },
    {
     "name": "stderr",
     "output_type": "stream",
     "text": [
      "  0%|          | 247/75923 [01:01<5:34:43,  3.77it/s]"
     ]
    },
    {
     "name": "stdout",
     "output_type": "stream",
     "text": [
      "file not done yet ../data/raw/scBam/CB_GTGGGTCTCCCAGGTG-*.bam\n",
      "file not done yet ../data/raw/scBam/CB_CGCTATCCACAACTGT-*.bam\n"
     ]
    },
    {
     "name": "stderr",
     "output_type": "stream",
     "text": [
      "  0%|          | 249/75923 [01:02<4:35:42,  4.57it/s]"
     ]
    },
    {
     "name": "stdout",
     "output_type": "stream",
     "text": [
      "file not done yet ../data/raw/scBam/CB_TAAACCGGTTCTGAAC-*.bam\n",
      "file not done yet ../data/raw/scBam/CB_GTCACAACATGGTAGG-*.bam\n"
     ]
    },
    {
     "name": "stderr",
     "output_type": "stream",
     "text": [
      "\r",
      "  0%|          | 250/75923 [01:02<4:04:48,  5.15it/s]"
     ]
    },
    {
     "name": "stdout",
     "output_type": "stream",
     "text": [
      "file not done yet ../data/raw/scBam/CB_GTTTCTATCCGCATAA-*.bam\n"
     ]
    },
    {
     "name": "stderr",
     "output_type": "stream",
     "text": [
      "\r",
      "  0%|          | 251/75923 [01:02<4:23:10,  4.79it/s]"
     ]
    },
    {
     "name": "stdout",
     "output_type": "stream",
     "text": [
      "file not done yet ../data/raw/scBam/CB_TTCTTAGGTGACAAAT-*.bam\n"
     ]
    },
    {
     "name": "stderr",
     "output_type": "stream",
     "text": [
      "  0%|          | 253/75923 [01:02<4:02:33,  5.20it/s]"
     ]
    },
    {
     "name": "stdout",
     "output_type": "stream",
     "text": [
      "file not done yet ../data/raw/scBam/CB_GTTTCTAAGGATTCGG-*.bam\n",
      "file not done yet ../data/raw/scBam/CB_CTCGAAAGTCTTTCAT-*.bam\n"
     ]
    },
    {
     "name": "stderr",
     "output_type": "stream",
     "text": [
      "\r",
      "  0%|          | 254/75923 [01:03<6:03:42,  3.47it/s]"
     ]
    },
    {
     "name": "stdout",
     "output_type": "stream",
     "text": [
      "file not done yet ../data/raw/scBam/CB_CTCGAAACACGGTGTC-*.bam\n"
     ]
    },
    {
     "name": "stderr",
     "output_type": "stream",
     "text": [
      "  0%|          | 256/75923 [01:03<5:35:57,  3.75it/s]"
     ]
    },
    {
     "name": "stdout",
     "output_type": "stream",
     "text": [
      "file not done yet ../data/raw/scBam/CB_TGCTACCAGAGACGAA-*.bam\n",
      "file not done yet ../data/raw/scBam/CB_AGCGGTCCAAGAGGCT-*.bam\n",
      "python /home/isshamie/software/mito-genotyping/exampleProcessing//01_pileup_counts.py ../data/raw/scBam/CB_AACTCAGGTGACCAAG-1.bam ../data/raw/scPileup/CB_AACTCAGGTGACCAAG-1 16571 0 AACTCAGGTGACCAAG-1.bam 0\n"
     ]
    },
    {
     "name": "stderr",
     "output_type": "stream",
     "text": [
      "  0%|          | 259/75923 [01:12<27:44:04,  1.32s/it]"
     ]
    },
    {
     "name": "stdout",
     "output_type": "stream",
     "text": [
      "file not done yet ../data/raw/scBam/CB_GTTCTCGTCGTTGCCT-*.bam\n",
      "file not done yet ../data/raw/scBam/CB_CTCGGAGCACTAGTAC-*.bam\n"
     ]
    },
    {
     "name": "stderr",
     "output_type": "stream",
     "text": [
      "  0%|          | 261/75923 [01:12<15:28:54,  1.36it/s]"
     ]
    },
    {
     "name": "stdout",
     "output_type": "stream",
     "text": [
      "file not done yet ../data/raw/scBam/CB_GTAACGTGTTTGGCGC-*.bam\n",
      "file not done yet ../data/raw/scBam/CB_GGCGACTGTAGGGTAC-*.bam\n"
     ]
    },
    {
     "name": "stderr",
     "output_type": "stream",
     "text": [
      "  0%|          | 263/75923 [01:12<9:04:34,  2.32it/s] "
     ]
    },
    {
     "name": "stdout",
     "output_type": "stream",
     "text": [
      "file not done yet ../data/raw/scBam/CB_ACGCAGCCAAGAAAGG-*.bam\n",
      "file not done yet ../data/raw/scBam/CB_CCATGTCCACATGGGA-*.bam\n"
     ]
    },
    {
     "name": "stderr",
     "output_type": "stream",
     "text": [
      "  0%|          | 265/75923 [01:12<5:54:53,  3.55it/s]"
     ]
    },
    {
     "name": "stdout",
     "output_type": "stream",
     "text": [
      "file not done yet ../data/raw/scBam/CB_TTCTACAGTAAGGGAA-*.bam\n",
      "file not done yet ../data/raw/scBam/CB_CTGCTGTTCTCCTATA-*.bam\n"
     ]
    },
    {
     "name": "stderr",
     "output_type": "stream",
     "text": [
      "  0%|          | 267/75923 [01:13<4:21:57,  4.81it/s]"
     ]
    },
    {
     "name": "stdout",
     "output_type": "stream",
     "text": [
      "file not done yet ../data/raw/scBam/CB_GACGTTACAGGACCCT-*.bam\n",
      "file not done yet ../data/raw/scBam/CB_AGTCTTTTCCACGACG-*.bam\n"
     ]
    },
    {
     "name": "stderr",
     "output_type": "stream",
     "text": [
      "  0%|          | 269/75923 [01:13<3:56:56,  5.32it/s]"
     ]
    },
    {
     "name": "stdout",
     "output_type": "stream",
     "text": [
      "file not done yet ../data/raw/scBam/CB_GCGCAGTCACATAACC-*.bam\n",
      "file not done yet ../data/raw/scBam/CB_GGGAATGCAGACGCTC-*.bam\n"
     ]
    },
    {
     "name": "stderr",
     "output_type": "stream",
     "text": [
      "\r",
      "  0%|          | 270/75923 [01:13<3:44:35,  5.61it/s]"
     ]
    },
    {
     "name": "stdout",
     "output_type": "stream",
     "text": [
      "file not done yet ../data/raw/scBam/CB_ACGCCAGTCTAACTGG-*.bam\n",
      "python /home/isshamie/software/mito-genotyping/exampleProcessing//01_pileup_counts.py ../data/raw/scBam/CB_AACTCAGCATTTCAGG-1.bam ../data/raw/scPileup/CB_AACTCAGCATTTCAGG-1 16571 0 AACTCAGCATTTCAGG-1.bam 0\n"
     ]
    },
    {
     "name": "stderr",
     "output_type": "stream",
     "text": [
      "\r",
      "  0%|          | 271/75923 [01:14<9:40:56,  2.17it/s]"
     ]
    },
    {
     "name": "stdout",
     "output_type": "stream",
     "text": [
      "python /home/isshamie/software/mito-genotyping/exampleProcessing//01_pileup_counts.py ../data/raw/scBam/CB_AATCGGTTCCCGGATG-1.bam ../data/raw/scPileup/CB_AATCGGTTCCCGGATG-1 16571 0 AATCGGTTCCCGGATG-1.bam 0\n"
     ]
    },
    {
     "name": "stderr",
     "output_type": "stream",
     "text": [
      "  0%|          | 273/75923 [01:17<18:50:33,  1.12it/s]"
     ]
    },
    {
     "name": "stdout",
     "output_type": "stream",
     "text": [
      "file not done yet ../data/raw/scBam/CB_CACTCCAAGCAGGCTA-*.bam\n",
      "python /home/isshamie/software/mito-genotyping/exampleProcessing//01_pileup_counts.py ../data/raw/scBam/CB_AACTCTTTCATCGCTC-1.bam ../data/raw/scPileup/CB_AACTCTTTCATCGCTC-1 16571 0 AACTCTTTCATCGCTC-1.bam 0\n"
     ]
    },
    {
     "name": "stderr",
     "output_type": "stream",
     "text": [
      "  0%|          | 276/75923 [01:19<11:47:48,  1.78it/s]"
     ]
    },
    {
     "name": "stdout",
     "output_type": "stream",
     "text": [
      "file not done yet ../data/raw/scBam/CB_GCAATCAGTCACTGGC-*.bam\n",
      "file not done yet ../data/raw/scBam/CB_TCAGCAAAGTGACTCT-*.bam\n",
      "python /home/isshamie/software/mito-genotyping/exampleProcessing//01_pileup_counts.py ../data/raw/scBam/CB_AACTCCCAGGCTCTTA-1.bam ../data/raw/scPileup/CB_AACTCCCAGGCTCTTA-1 16571 0 AACTCCCAGGCTCTTA-1.bam 0\n"
     ]
    },
    {
     "name": "stderr",
     "output_type": "stream",
     "text": [
      "  0%|          | 279/75923 [01:21<10:02:03,  2.09it/s]"
     ]
    },
    {
     "name": "stdout",
     "output_type": "stream",
     "text": [
      "file not done yet ../data/raw/scBam/CB_CAGCGACAGTAGCCGA-*.bam\n",
      "file not done yet ../data/raw/scBam/CB_CTACGTCTCCTTGGTC-*.bam\n"
     ]
    },
    {
     "name": "stderr",
     "output_type": "stream",
     "text": [
      "  0%|          | 281/75923 [01:21<6:39:56,  3.15it/s] "
     ]
    },
    {
     "name": "stdout",
     "output_type": "stream",
     "text": [
      "file not done yet ../data/raw/scBam/CB_TGTGGTACAAGTCTAC-*.bam\n",
      "file not done yet ../data/raw/scBam/CB_GCGCCAACACCTCGTT-*.bam\n"
     ]
    },
    {
     "name": "stderr",
     "output_type": "stream",
     "text": [
      "  0%|          | 283/75923 [01:21<5:03:53,  4.15it/s]"
     ]
    },
    {
     "name": "stdout",
     "output_type": "stream",
     "text": [
      "file not done yet ../data/raw/scBam/CB_GACAGAGGTCAGATAA-*.bam\n",
      "file not done yet ../data/raw/scBam/CB_GCAAACTCAGCCACCA-*.bam\n"
     ]
    },
    {
     "name": "stderr",
     "output_type": "stream",
     "text": [
      "  0%|          | 285/75923 [01:22<4:21:07,  4.83it/s]"
     ]
    },
    {
     "name": "stdout",
     "output_type": "stream",
     "text": [
      "file not done yet ../data/raw/scBam/CB_CGACTTCAGGCCATAG-*.bam\n",
      "file not done yet ../data/raw/scBam/CB_CCAGCGAAGGGCTCTC-*.bam\n"
     ]
    },
    {
     "name": "stderr",
     "output_type": "stream",
     "text": [
      "  0%|          | 287/75923 [01:22<4:02:50,  5.19it/s]"
     ]
    },
    {
     "name": "stdout",
     "output_type": "stream",
     "text": [
      "file not done yet ../data/raw/scBam/CB_GGGAATGTCTGAAAGA-*.bam\n",
      "file not done yet ../data/raw/scBam/CB_ACGAGGAGTTGAGGTG-*.bam\n"
     ]
    },
    {
     "name": "stderr",
     "output_type": "stream",
     "text": [
      "  0%|          | 289/75923 [01:22<3:47:18,  5.55it/s]"
     ]
    },
    {
     "name": "stdout",
     "output_type": "stream",
     "text": [
      "file not done yet ../data/raw/scBam/CB_TCTGAGAGTGAGTATA-*.bam\n",
      "file not done yet ../data/raw/scBam/CB_TTAGGCAGTAATCGTC-*.bam\n"
     ]
    },
    {
     "name": "stderr",
     "output_type": "stream",
     "text": [
      "\r",
      "  0%|          | 290/75923 [01:22<3:33:33,  5.90it/s]"
     ]
    },
    {
     "name": "stdout",
     "output_type": "stream",
     "text": [
      "file not done yet ../data/raw/scBam/CB_GGGACCTTCCGTACAA-*.bam\n",
      "python /home/isshamie/software/mito-genotyping/exampleProcessing//01_pileup_counts.py ../data/raw/scBam/CB_AACACGTAGCCACGTC-1.bam ../data/raw/scPileup/CB_AACACGTAGCCACGTC-1 16571 0 AACACGTAGCCACGTC-1.bam 0\n"
     ]
    },
    {
     "name": "stderr",
     "output_type": "stream",
     "text": [
      "  0%|          | 293/75923 [01:24<7:33:57,  2.78it/s] "
     ]
    },
    {
     "name": "stdout",
     "output_type": "stream",
     "text": [
      "file not done yet ../data/raw/scBam/CB_ACCAGTACAATGGATA-*.bam\n",
      "file not done yet ../data/raw/scBam/CB_AGCTCTCGTGACTACT-*.bam\n",
      "python /home/isshamie/software/mito-genotyping/exampleProcessing//01_pileup_counts.py ../data/raw/scBam/CB_AACCGCGTCCCTGACT-1.bam ../data/raw/scPileup/CB_AACCGCGTCCCTGACT-1 16571 0 AACCGCGTCCCTGACT-1.bam 0\n"
     ]
    },
    {
     "name": "stderr",
     "output_type": "stream",
     "text": [
      "  0%|          | 296/75923 [01:25<6:48:54,  3.08it/s] "
     ]
    },
    {
     "name": "stdout",
     "output_type": "stream",
     "text": [
      "file not done yet ../data/raw/scBam/CB_TATCAGGTCCGAATGT-*.bam\n",
      "file not done yet ../data/raw/scBam/CB_TTCGAAGCATGCAATC-*.bam\n"
     ]
    },
    {
     "name": "stderr",
     "output_type": "stream",
     "text": [
      "  0%|          | 298/75923 [01:26<4:56:30,  4.25it/s]"
     ]
    },
    {
     "name": "stdout",
     "output_type": "stream",
     "text": [
      "file not done yet ../data/raw/scBam/CB_TGTATTCTCATATCGG-*.bam\n",
      "file not done yet ../data/raw/scBam/CB_CCGTGGAGTGAAAGAG-*.bam\n"
     ]
    },
    {
     "name": "stderr",
     "output_type": "stream",
     "text": [
      "\r",
      "  0%|          | 299/75923 [01:26<4:27:19,  4.71it/s]"
     ]
    },
    {
     "name": "stdout",
     "output_type": "stream",
     "text": [
      "file not done yet ../data/raw/scBam/CB_GTCATTTCACATTTCT-*.bam\n",
      "python /home/isshamie/software/mito-genotyping/exampleProcessing//01_pileup_counts.py ../data/raw/scBam/CB_ACACCGGAGCCAGTAG-1.bam ../data/raw/scPileup/CB_ACACCGGAGCCAGTAG-1 16571 0 ACACCGGAGCCAGTAG-1.bam 0\n"
     ]
    },
    {
     "name": "stderr",
     "output_type": "stream",
     "text": [
      "  0%|          | 302/75923 [01:28<8:15:55,  2.54it/s] "
     ]
    },
    {
     "name": "stdout",
     "output_type": "stream",
     "text": [
      "file not done yet ../data/raw/scBam/CB_GTCACGGCAGATGGCA-*.bam\n",
      "file not done yet ../data/raw/scBam/CB_CTACCCACAAGCGAGT-*.bam\n"
     ]
    },
    {
     "name": "stderr",
     "output_type": "stream",
     "text": [
      "  0%|          | 304/75923 [01:28<5:37:04,  3.74it/s]"
     ]
    },
    {
     "name": "stdout",
     "output_type": "stream",
     "text": [
      "file not done yet ../data/raw/scBam/CB_CTCTACGAGATGAGAG-*.bam\n",
      "file not done yet ../data/raw/scBam/CB_ACAGCTATCACTTCAT-*.bam\n",
      "python /home/isshamie/software/mito-genotyping/exampleProcessing//01_pileup_counts.py ../data/raw/scBam/CB_AACGTTGGTGATAAGT-1.bam ../data/raw/scPileup/CB_AACGTTGGTGATAAGT-1 16571 0 AACGTTGGTGATAAGT-1.bam 0\n"
     ]
    },
    {
     "name": "stderr",
     "output_type": "stream",
     "text": [
      "  0%|          | 306/75923 [01:30<9:40:12,  2.17it/s] "
     ]
    },
    {
     "name": "stdout",
     "output_type": "stream",
     "text": [
      "file not done yet ../data/raw/scBam/CB_ACCCACTTCATGTCTT-*.bam\n",
      "python /home/isshamie/software/mito-genotyping/exampleProcessing//01_pileup_counts.py ../data/raw/scBam/CB_AACTCCCTCACCTTAT-1.bam ../data/raw/scPileup/CB_AACTCCCTCACCTTAT-1 16571 0 AACTCCCTCACCTTAT-1.bam 0\n"
     ]
    },
    {
     "name": "stderr",
     "output_type": "stream",
     "text": [
      "  0%|          | 309/75923 [01:31<9:37:43,  2.18it/s] "
     ]
    },
    {
     "name": "stdout",
     "output_type": "stream",
     "text": [
      "file not done yet ../data/raw/scBam/CB_CAAGATCCAGACAGGT-*.bam\n",
      "file not done yet ../data/raw/scBam/CB_CGTCAGGAGACCTAGG-*.bam\n"
     ]
    },
    {
     "name": "stderr",
     "output_type": "stream",
     "text": [
      "  0%|          | 311/75923 [01:32<6:40:46,  3.14it/s]"
     ]
    },
    {
     "name": "stdout",
     "output_type": "stream",
     "text": [
      "file not done yet ../data/raw/scBam/CB_TCACAAGAGAGGTTGC-*.bam\n",
      "file not done yet ../data/raw/scBam/CB_GTATTCTGTCCCTACT-*.bam\n"
     ]
    },
    {
     "name": "stderr",
     "output_type": "stream",
     "text": [
      "  0%|          | 313/75923 [01:32<5:08:30,  4.08it/s]"
     ]
    },
    {
     "name": "stdout",
     "output_type": "stream",
     "text": [
      "file not done yet ../data/raw/scBam/CB_GTGAAGGTCAACCATG-*.bam\n",
      "file not done yet ../data/raw/scBam/CB_TTTGCGCAGATGCCAG-*.bam\n"
     ]
    },
    {
     "name": "stderr",
     "output_type": "stream",
     "text": [
      "  0%|          | 315/75923 [01:32<4:22:09,  4.81it/s]"
     ]
    },
    {
     "name": "stdout",
     "output_type": "stream",
     "text": [
      "file not done yet ../data/raw/scBam/CB_GTCACAATCGTTACAG-*.bam\n",
      "file not done yet ../data/raw/scBam/CB_GGGCATCAGGCATGGT-*.bam\n"
     ]
    },
    {
     "name": "stderr",
     "output_type": "stream",
     "text": [
      "  0%|          | 317/75923 [01:33<4:01:19,  5.22it/s]"
     ]
    },
    {
     "name": "stdout",
     "output_type": "stream",
     "text": [
      "file not done yet ../data/raw/scBam/CB_CGTTCTGCATGGGAAC-*.bam\n",
      "file not done yet ../data/raw/scBam/CB_GAGGTGACATACCATG-*.bam\n"
     ]
    },
    {
     "name": "stderr",
     "output_type": "stream",
     "text": [
      "  0%|          | 319/75923 [01:33<3:42:34,  5.66it/s]"
     ]
    },
    {
     "name": "stdout",
     "output_type": "stream",
     "text": [
      "file not done yet ../data/raw/scBam/CB_CACCAGGTCCTCTAGC-*.bam\n",
      "file not done yet ../data/raw/scBam/CB_GGTGCGTGTATGAATG-*.bam\n"
     ]
    },
    {
     "name": "stderr",
     "output_type": "stream",
     "text": [
      "\r",
      "  0%|          | 320/75923 [01:34<6:08:24,  3.42it/s]"
     ]
    },
    {
     "name": "stdout",
     "output_type": "stream",
     "text": [
      "file not done yet ../data/raw/scBam/CB_TGCCCTAAGGTGTGGT-*.bam\n"
     ]
    },
    {
     "name": "stderr",
     "output_type": "stream",
     "text": [
      "  0%|          | 322/75923 [01:34<5:03:54,  4.15it/s]"
     ]
    },
    {
     "name": "stdout",
     "output_type": "stream",
     "text": [
      "file not done yet ../data/raw/scBam/CB_TAGCCGGAGAGGGATA-*.bam\n",
      "file not done yet ../data/raw/scBam/CB_CACAAACAGGACTGGT-*.bam\n"
     ]
    },
    {
     "name": "stderr",
     "output_type": "stream",
     "text": [
      "  0%|          | 324/75923 [01:34<4:12:27,  4.99it/s]"
     ]
    },
    {
     "name": "stdout",
     "output_type": "stream",
     "text": [
      "file not done yet ../data/raw/scBam/CB_CACCAGGTCTCCCTGA-*.bam\n",
      "file not done yet ../data/raw/scBam/CB_TGGGAAGAGGGTGTTG-*.bam\n"
     ]
    },
    {
     "name": "stderr",
     "output_type": "stream",
     "text": [
      "  0%|          | 326/75923 [01:35<3:37:50,  5.78it/s]"
     ]
    },
    {
     "name": "stdout",
     "output_type": "stream",
     "text": [
      "file not done yet ../data/raw/scBam/CB_AGGTCCGTCATGTCCC-*.bam\n",
      "file not done yet ../data/raw/scBam/CB_TCAACGAGTCTCTCTG-*.bam\n"
     ]
    },
    {
     "name": "stderr",
     "output_type": "stream",
     "text": [
      "  0%|          | 328/75923 [01:35<3:44:15,  5.62it/s]"
     ]
    },
    {
     "name": "stdout",
     "output_type": "stream",
     "text": [
      "file not done yet ../data/raw/scBam/CB_TAGAGCTGTCCTAGCG-*.bam\n",
      "file not done yet ../data/raw/scBam/CB_CGCTGGAAGGTGCACA-*.bam\n"
     ]
    },
    {
     "name": "stderr",
     "output_type": "stream",
     "text": [
      "  0%|          | 330/75923 [01:35<3:38:02,  5.78it/s]"
     ]
    },
    {
     "name": "stdout",
     "output_type": "stream",
     "text": [
      "file not done yet ../data/raw/scBam/CB_GAAGCAGAGCTGCCCA-*.bam\n",
      "file not done yet ../data/raw/scBam/CB_GGCGACTTCAAACCGT-*.bam\n"
     ]
    },
    {
     "name": "stderr",
     "output_type": "stream",
     "text": [
      "  0%|          | 332/75923 [01:36<3:36:29,  5.82it/s]"
     ]
    },
    {
     "name": "stdout",
     "output_type": "stream",
     "text": [
      "file not done yet ../data/raw/scBam/CB_CTGTGCTTCGTTTATC-*.bam\n",
      "file not done yet ../data/raw/scBam/CB_GAAATGAAGACCACGA-*.bam\n"
     ]
    },
    {
     "name": "stderr",
     "output_type": "stream",
     "text": [
      "  0%|          | 334/75923 [01:36<3:36:54,  5.81it/s]"
     ]
    },
    {
     "name": "stdout",
     "output_type": "stream",
     "text": [
      "file not done yet ../data/raw/scBam/CB_TGCCAAAAGTAGCCGA-*.bam\n",
      "file not done yet ../data/raw/scBam/CB_CTCGTCACACAGGTTT-*.bam\n"
     ]
    },
    {
     "name": "stderr",
     "output_type": "stream",
     "text": [
      "  0%|          | 336/75923 [01:37<3:47:04,  5.55it/s]"
     ]
    },
    {
     "name": "stdout",
     "output_type": "stream",
     "text": [
      "file not done yet ../data/raw/scBam/CB_CATCAAGCACAGCGTC-*.bam\n",
      "file not done yet ../data/raw/scBam/CB_TCAGGATGTTCAACCA-*.bam\n"
     ]
    },
    {
     "name": "stderr",
     "output_type": "stream",
     "text": [
      "  0%|          | 338/75923 [01:37<3:24:30,  6.16it/s]"
     ]
    },
    {
     "name": "stdout",
     "output_type": "stream",
     "text": [
      "file not done yet ../data/raw/scBam/CB_CAAGTTGAGTACGCGA-*.bam\n",
      "file not done yet ../data/raw/scBam/CB_GACTGCGAGTTGCAGG-*.bam\n"
     ]
    },
    {
     "name": "stderr",
     "output_type": "stream",
     "text": [
      "  0%|          | 340/75923 [01:37<3:50:56,  5.45it/s]"
     ]
    },
    {
     "name": "stdout",
     "output_type": "stream",
     "text": [
      "file not done yet ../data/raw/scBam/CB_GCGAGAAAGTAGATGT-*.bam\n",
      "file not done yet ../data/raw/scBam/CB_CAGTCCTTCATGTAGC-*.bam\n"
     ]
    },
    {
     "name": "stderr",
     "output_type": "stream",
     "text": [
      "  0%|          | 342/75923 [01:38<3:51:05,  5.45it/s]"
     ]
    },
    {
     "name": "stdout",
     "output_type": "stream",
     "text": [
      "file not done yet ../data/raw/scBam/CB_GCATGCGGTCCAAGTT-*.bam\n",
      "file not done yet ../data/raw/scBam/CB_GGGCACTTCTGCAAGT-*.bam\n"
     ]
    },
    {
     "name": "stderr",
     "output_type": "stream",
     "text": [
      "\r",
      "  0%|          | 343/75923 [01:38<3:56:29,  5.33it/s]"
     ]
    },
    {
     "name": "stdout",
     "output_type": "stream",
     "text": [
      "file not done yet ../data/raw/scBam/CB_GTGTTAGAGCTATGCT-*.bam\n"
     ]
    },
    {
     "name": "stderr",
     "output_type": "stream",
     "text": [
      "\r",
      "  0%|          | 344/75923 [01:38<4:36:39,  4.55it/s]"
     ]
    },
    {
     "name": "stdout",
     "output_type": "stream",
     "text": [
      "file not done yet ../data/raw/scBam/CB_GCAATCAGTGAGTATA-*.bam\n",
      "python /home/isshamie/software/mito-genotyping/exampleProcessing//01_pileup_counts.py ../data/raw/scBam/CB_AACGTTGAGACCTTTG-1.bam ../data/raw/scPileup/CB_AACGTTGAGACCTTTG-1 16571 0 AACGTTGAGACCTTTG-1.bam 0\n"
     ]
    },
    {
     "name": "stderr",
     "output_type": "stream",
     "text": [
      "  0%|          | 347/75923 [01:40<7:48:04,  2.69it/s] "
     ]
    },
    {
     "name": "stdout",
     "output_type": "stream",
     "text": [
      "file not done yet ../data/raw/scBam/CB_AGAGTGGTCCTTTCGG-*.bam\n",
      "file not done yet ../data/raw/scBam/CB_TTCGAAGAGTGTGGCA-*.bam\n"
     ]
    },
    {
     "name": "stderr",
     "output_type": "stream",
     "text": [
      "  0%|          | 349/75923 [01:40<5:36:14,  3.75it/s]"
     ]
    },
    {
     "name": "stdout",
     "output_type": "stream",
     "text": [
      "file not done yet ../data/raw/scBam/CB_GAGCAGATCCCTCAGT-*.bam\n",
      "file not done yet ../data/raw/scBam/CB_CACCTTGGTCACCCAG-*.bam\n"
     ]
    },
    {
     "name": "stderr",
     "output_type": "stream",
     "text": [
      "  0%|          | 351/75923 [01:41<4:54:44,  4.27it/s]"
     ]
    },
    {
     "name": "stdout",
     "output_type": "stream",
     "text": [
      "file not done yet ../data/raw/scBam/CB_ACTGAACGTAGAGTGC-*.bam\n",
      "file not done yet ../data/raw/scBam/CB_CCTTTCTTCCTGCTTG-*.bam\n"
     ]
    },
    {
     "name": "stderr",
     "output_type": "stream",
     "text": [
      "  0%|          | 353/75923 [01:41<3:45:46,  5.58it/s]"
     ]
    },
    {
     "name": "stdout",
     "output_type": "stream",
     "text": [
      "file not done yet ../data/raw/scBam/CB_CATCGAAAGAAGGTGA-*.bam\n",
      "file not done yet ../data/raw/scBam/CB_GATGAGGTCAACGGGA-*.bam\n"
     ]
    },
    {
     "name": "stderr",
     "output_type": "stream",
     "text": [
      "  0%|          | 355/75923 [01:41<3:27:23,  6.07it/s]"
     ]
    },
    {
     "name": "stdout",
     "output_type": "stream",
     "text": [
      "file not done yet ../data/raw/scBam/CB_TGCCCTAGTGTTGGGA-*.bam\n",
      "file not done yet ../data/raw/scBam/CB_ACTTTCACATCGGGTC-*.bam\n"
     ]
    },
    {
     "name": "stderr",
     "output_type": "stream",
     "text": [
      "  0%|          | 357/75923 [01:42<3:29:46,  6.00it/s]"
     ]
    },
    {
     "name": "stdout",
     "output_type": "stream",
     "text": [
      "file not done yet ../data/raw/scBam/CB_TGAGAGGGTGTGCCTG-*.bam\n",
      "file not done yet ../data/raw/scBam/CB_GGGAGATAGTCTCGGC-*.bam\n"
     ]
    },
    {
     "name": "stderr",
     "output_type": "stream",
     "text": [
      "  0%|          | 359/75923 [01:42<3:34:38,  5.87it/s]"
     ]
    },
    {
     "name": "stdout",
     "output_type": "stream",
     "text": [
      "file not done yet ../data/raw/scBam/CB_TCATTTGAGCGACGTA-*.bam\n",
      "file not done yet ../data/raw/scBam/CB_GTGCAGCCATGTAAGA-*.bam\n"
     ]
    },
    {
     "name": "stderr",
     "output_type": "stream",
     "text": [
      "  0%|          | 361/75923 [01:42<3:48:24,  5.51it/s]"
     ]
    },
    {
     "name": "stdout",
     "output_type": "stream",
     "text": [
      "file not done yet ../data/raw/scBam/CB_GGCGTGTGTTGGTTTG-*.bam\n",
      "file not done yet ../data/raw/scBam/CB_TGCTACCAGTGGAGAA-*.bam\n"
     ]
    },
    {
     "name": "stderr",
     "output_type": "stream",
     "text": [
      "  0%|          | 363/75923 [01:43<3:33:29,  5.90it/s]"
     ]
    },
    {
     "name": "stdout",
     "output_type": "stream",
     "text": [
      "file not done yet ../data/raw/scBam/CB_TCGCGTTCAACACCTA-*.bam\n",
      "file not done yet ../data/raw/scBam/CB_AGATTGCGTCTCTCGT-*.bam\n"
     ]
    },
    {
     "name": "stderr",
     "output_type": "stream",
     "text": [
      "  0%|          | 365/75923 [01:43<3:24:43,  6.15it/s]"
     ]
    },
    {
     "name": "stdout",
     "output_type": "stream",
     "text": [
      "file not done yet ../data/raw/scBam/CB_GTGCATATCATCGCTC-*.bam\n",
      "file not done yet ../data/raw/scBam/CB_GCGACCAAGGATCGCA-*.bam\n"
     ]
    },
    {
     "name": "stderr",
     "output_type": "stream",
     "text": [
      "\r",
      "  0%|          | 366/75923 [01:43<3:25:32,  6.13it/s]"
     ]
    },
    {
     "name": "stdout",
     "output_type": "stream",
     "text": [
      "file not done yet ../data/raw/scBam/CB_CAGCTAAGTATGCTTG-*.bam\n",
      "python /home/isshamie/software/mito-genotyping/exampleProcessing//01_pileup_counts.py ../data/raw/scBam/CB_AACCATGGTGTCCTCT-1.bam ../data/raw/scPileup/CB_AACCATGGTGTCCTCT-1 16571 0 AACCATGGTGTCCTCT-1.bam 0\n"
     ]
    },
    {
     "name": "stderr",
     "output_type": "stream",
     "text": [
      "\r",
      "  0%|          | 367/75923 [01:45<14:53:47,  1.41it/s]"
     ]
    },
    {
     "name": "stdout",
     "output_type": "stream",
     "text": [
      "python /home/isshamie/software/mito-genotyping/exampleProcessing//01_pileup_counts.py ../data/raw/scBam/CB_AACCGCGTCGAACGGA-1.bam ../data/raw/scPileup/CB_AACCGCGTCGAACGGA-1 16571 0 AACCGCGTCGAACGGA-1.bam 0\n"
     ]
    },
    {
     "name": "stderr",
     "output_type": "stream",
     "text": [
      "  0%|          | 373/75923 [01:46<9:05:21,  2.31it/s] "
     ]
    },
    {
     "name": "stdout",
     "output_type": "stream",
     "text": [
      "file not done yet ../data/raw/scBam/CB_CGGAGCTAGCGCTCCA-*.bam\n",
      "file not done yet ../data/raw/scBam/CB_GACTGCGTCATTTGGG-*.bam\n",
      "file not done yet ../data/raw/scBam/CB_TGCGTGGCACATAACC-*.bam\n",
      "file not done yet ../data/raw/scBam/CB_TTGGAACGTACCATCA-*.bam\n",
      "file not done yet ../data/raw/scBam/CB_TAGTTGGTCAGCTTAG-*.bam\n",
      "file not done yet ../data/raw/scBam/CB_CGATGGCCAAGTAGTA-*.bam\n"
     ]
    },
    {
     "name": "stderr",
     "output_type": "stream",
     "text": [
      "\r",
      "  0%|          | 375/75923 [01:47<6:57:42,  3.01it/s]"
     ]
    },
    {
     "name": "stdout",
     "output_type": "stream",
     "text": [
      "file not done yet ../data/raw/scBam/CB_CATATGGAGAGACTAT-*.bam\n",
      "file not done yet ../data/raw/scBam/CB_GAACATCAGTCTCCTC-*.bam\n"
     ]
    },
    {
     "name": "stderr",
     "output_type": "stream",
     "text": [
      "\r",
      "  0%|          | 377/75923 [01:47<5:59:23,  3.50it/s]"
     ]
    },
    {
     "name": "stdout",
     "output_type": "stream",
     "text": [
      "file not done yet ../data/raw/scBam/CB_CCCAATCGTCAGATAA-*.bam\n",
      "file not done yet ../data/raw/scBam/CB_CTAGAGTCATCTACGA-*.bam\n"
     ]
    },
    {
     "name": "stderr",
     "output_type": "stream",
     "text": [
      "\r",
      "  0%|          | 379/75923 [01:47<5:08:42,  4.08it/s]"
     ]
    },
    {
     "name": "stdout",
     "output_type": "stream",
     "text": [
      "file not done yet ../data/raw/scBam/CB_AGCGTATGTATTACCG-*.bam\n"
     ]
    },
    {
     "name": "stderr",
     "output_type": "stream",
     "text": [
      "\r",
      "  1%|          | 380/75923 [01:47<5:11:20,  4.04it/s]"
     ]
    },
    {
     "name": "stdout",
     "output_type": "stream",
     "text": [
      "file not done yet ../data/raw/scBam/CB_CTTAACTGTCTTGTCC-*.bam\n"
     ]
    },
    {
     "name": "stderr",
     "output_type": "stream",
     "text": [
      "\r",
      "  1%|          | 381/75923 [01:48<5:12:15,  4.03it/s]"
     ]
    },
    {
     "name": "stdout",
     "output_type": "stream",
     "text": [
      "file not done yet ../data/raw/scBam/CB_ATCCGAAAGGGATGGG-*.bam\n"
     ]
    },
    {
     "name": "stderr",
     "output_type": "stream",
     "text": [
      "\r",
      "  1%|          | 382/75923 [01:48<4:58:47,  4.21it/s]"
     ]
    },
    {
     "name": "stdout",
     "output_type": "stream",
     "text": [
      "file not done yet ../data/raw/scBam/CB_CGGACGTAGTGGACGT-*.bam\n"
     ]
    },
    {
     "name": "stderr",
     "output_type": "stream",
     "text": [
      "  1%|          | 384/75923 [01:48<4:30:47,  4.65it/s]"
     ]
    },
    {
     "name": "stdout",
     "output_type": "stream",
     "text": [
      "file not done yet ../data/raw/scBam/CB_GGCCGATAGAGTAATC-*.bam\n",
      "file not done yet ../data/raw/scBam/CB_TGGCTGGGTCCAGTGC-*.bam\n"
     ]
    },
    {
     "name": "stderr",
     "output_type": "stream",
     "text": [
      "\r",
      "  1%|          | 385/75923 [01:48<4:06:59,  5.10it/s]"
     ]
    },
    {
     "name": "stdout",
     "output_type": "stream",
     "text": [
      "file not done yet ../data/raw/scBam/CB_ATTGGACAGGGTCTCC-*.bam\n",
      "python /home/isshamie/software/mito-genotyping/exampleProcessing//01_pileup_counts.py ../data/raw/scBam/CB_AACTCTTTCAGTGTTG-1.bam ../data/raw/scPileup/CB_AACTCTTTCAGTGTTG-1 16571 0 AACTCTTTCAGTGTTG-1.bam 0\n"
     ]
    },
    {
     "name": "stderr",
     "output_type": "stream",
     "text": [
      "  1%|          | 388/75923 [01:51<8:40:19,  2.42it/s] "
     ]
    },
    {
     "name": "stdout",
     "output_type": "stream",
     "text": [
      "file not done yet ../data/raw/scBam/CB_CTGGTCTTCAGCTGGC-*.bam\n",
      "file not done yet ../data/raw/scBam/CB_CATATTCAGCGACGTA-*.bam\n"
     ]
    },
    {
     "name": "stderr",
     "output_type": "stream",
     "text": [
      "\r",
      "  1%|          | 389/75923 [01:51<7:03:56,  2.97it/s]"
     ]
    },
    {
     "name": "stdout",
     "output_type": "stream",
     "text": [
      "file not done yet ../data/raw/scBam/CB_GTCGTAAAGGCCCGTT-*.bam\n",
      "python /home/isshamie/software/mito-genotyping/exampleProcessing//01_pileup_counts.py ../data/raw/scBam/CB_AAGTCTGTCTATCGCC-1.bam ../data/raw/scPileup/CB_AAGTCTGTCTATCGCC-1 16571 0 AAGTCTGTCTATCGCC-1.bam 0\n"
     ]
    },
    {
     "name": "stderr",
     "output_type": "stream",
     "text": [
      "  1%|          | 392/75923 [01:53<9:34:06,  2.19it/s] "
     ]
    },
    {
     "name": "stdout",
     "output_type": "stream",
     "text": [
      "file not done yet ../data/raw/scBam/CB_CATATTCTCAGAGCTT-*.bam\n",
      "file not done yet ../data/raw/scBam/CB_GCCAAATGTAGAGGAA-*.bam\n"
     ]
    },
    {
     "name": "stderr",
     "output_type": "stream",
     "text": [
      "  1%|          | 394/75923 [01:53<6:22:38,  3.29it/s]"
     ]
    },
    {
     "name": "stdout",
     "output_type": "stream",
     "text": [
      "file not done yet ../data/raw/scBam/CB_GACTAACCATAGAAAC-*.bam\n",
      "file not done yet ../data/raw/scBam/CB_GGGCACTCATTGGGCC-*.bam\n"
     ]
    },
    {
     "name": "stderr",
     "output_type": "stream",
     "text": [
      "  1%|          | 396/75923 [01:53<4:50:01,  4.34it/s]"
     ]
    },
    {
     "name": "stdout",
     "output_type": "stream",
     "text": [
      "file not done yet ../data/raw/scBam/CB_TCATTTGCAAGCCTAT-*.bam\n",
      "file not done yet ../data/raw/scBam/CB_CACCTTGGTCTGCGGT-*.bam\n"
     ]
    },
    {
     "name": "stderr",
     "output_type": "stream",
     "text": [
      "  1%|          | 398/75923 [01:54<3:49:43,  5.48it/s]"
     ]
    },
    {
     "name": "stdout",
     "output_type": "stream",
     "text": [
      "file not done yet ../data/raw/scBam/CB_GCTCTGTTCACATACG-*.bam\n",
      "file not done yet ../data/raw/scBam/CB_AGACGTTAGTCTCCTC-*.bam\n",
      "python /home/isshamie/software/mito-genotyping/exampleProcessing//01_pileup_counts.py ../data/raw/scBam/CB_ACACCGGCATCGATTG-1.bam ../data/raw/scPileup/CB_ACACCGGCATCGATTG-1 16571 0 ACACCGGCATCGATTG-1.bam 0\n"
     ]
    },
    {
     "name": "stderr",
     "output_type": "stream",
     "text": [
      "  1%|          | 401/75923 [01:55<6:23:03,  3.29it/s]"
     ]
    },
    {
     "name": "stdout",
     "output_type": "stream",
     "text": [
      "file not done yet ../data/raw/scBam/CB_TGGCTGGGTTGGTGGA-*.bam\n",
      "file not done yet ../data/raw/scBam/CB_TGCCAAACAATCCGAT-*.bam\n"
     ]
    },
    {
     "name": "stderr",
     "output_type": "stream",
     "text": [
      "\r",
      "  1%|          | 402/75923 [01:55<5:33:47,  3.77it/s]"
     ]
    },
    {
     "name": "stdout",
     "output_type": "stream",
     "text": [
      "file not done yet ../data/raw/scBam/CB_AGCGTCGGTCAATACC-*.bam\n",
      "python /home/isshamie/software/mito-genotyping/exampleProcessing//01_pileup_counts.py ../data/raw/scBam/CB_AAATGCCAGGACGAAA-1.bam ../data/raw/scPileup/CB_AAATGCCAGGACGAAA-1 16571 0 AAATGCCAGGACGAAA-1.bam 0\n"
     ]
    },
    {
     "name": "stderr",
     "output_type": "stream",
     "text": [
      "  1%|          | 405/75923 [01:57<8:48:30,  2.38it/s] "
     ]
    },
    {
     "name": "stdout",
     "output_type": "stream",
     "text": [
      "file not done yet ../data/raw/scBam/CB_ACCGTAAGTTCTGAAC-*.bam\n",
      "file not done yet ../data/raw/scBam/CB_CAAGATCGTTTCGCTC-*.bam\n"
     ]
    },
    {
     "name": "stderr",
     "output_type": "stream",
     "text": [
      "  1%|          | 407/75923 [01:58<6:01:45,  3.48it/s]"
     ]
    },
    {
     "name": "stdout",
     "output_type": "stream",
     "text": [
      "file not done yet ../data/raw/scBam/CB_ATGCGATAGAACAATC-*.bam\n",
      "file not done yet ../data/raw/scBam/CB_GCGCGATAGCAATATG-*.bam\n"
     ]
    },
    {
     "name": "stderr",
     "output_type": "stream",
     "text": [
      "  1%|          | 409/75923 [01:58<4:42:56,  4.45it/s]"
     ]
    },
    {
     "name": "stdout",
     "output_type": "stream",
     "text": [
      "file not done yet ../data/raw/scBam/CB_ACCGTAATCTCCGGTT-*.bam\n",
      "file not done yet ../data/raw/scBam/CB_TTGAACGTCTTGTTTG-*.bam\n"
     ]
    },
    {
     "name": "stderr",
     "output_type": "stream",
     "text": [
      "  1%|          | 411/75923 [01:58<3:57:26,  5.30it/s]"
     ]
    },
    {
     "name": "stdout",
     "output_type": "stream",
     "text": [
      "file not done yet ../data/raw/scBam/CB_GCGACCAAGAAGCCCA-*.bam\n",
      "file not done yet ../data/raw/scBam/CB_TCGTAGACACCTTGTC-*.bam\n"
     ]
    },
    {
     "name": "stderr",
     "output_type": "stream",
     "text": [
      "  1%|          | 413/75923 [01:59<3:48:39,  5.50it/s]"
     ]
    },
    {
     "name": "stdout",
     "output_type": "stream",
     "text": [
      "file not done yet ../data/raw/scBam/CB_AGCTCCTTCTCAACTT-*.bam\n",
      "file not done yet ../data/raw/scBam/CB_TTGAACGCATCGTCGG-*.bam\n"
     ]
    },
    {
     "name": "stderr",
     "output_type": "stream",
     "text": [
      "  1%|          | 415/75923 [01:59<3:51:23,  5.44it/s]"
     ]
    },
    {
     "name": "stdout",
     "output_type": "stream",
     "text": [
      "file not done yet ../data/raw/scBam/CB_TGGCTGGAGGGTGTTG-*.bam\n",
      "file not done yet ../data/raw/scBam/CB_CGGAGCTTCGCCCTTA-*.bam\n"
     ]
    },
    {
     "name": "stderr",
     "output_type": "stream",
     "text": [
      "\r",
      "  1%|          | 416/75923 [01:59<4:21:01,  4.82it/s]"
     ]
    },
    {
     "name": "stdout",
     "output_type": "stream",
     "text": [
      "file not done yet ../data/raw/scBam/CB_TAAGTGCAGACAGACC-*.bam\n"
     ]
    },
    {
     "name": "stderr",
     "output_type": "stream",
     "text": [
      "\r",
      "  1%|          | 417/75923 [01:59<4:19:12,  4.85it/s]"
     ]
    },
    {
     "name": "stdout",
     "output_type": "stream",
     "text": [
      "file not done yet ../data/raw/scBam/CB_TGCGCAGTCTTTACGT-*.bam\n",
      "python /home/isshamie/software/mito-genotyping/exampleProcessing//01_pileup_counts.py ../data/raw/scBam/CB_AACCGCGAGAATAGGG-1.bam ../data/raw/scPileup/CB_AACCGCGAGAATAGGG-1 16571 0 AACCGCGAGAATAGGG-1.bam 0\n"
     ]
    },
    {
     "name": "stderr",
     "output_type": "stream",
     "text": [
      "  1%|          | 420/75923 [02:01<8:15:54,  2.54it/s] "
     ]
    },
    {
     "name": "stdout",
     "output_type": "stream",
     "text": [
      "file not done yet ../data/raw/scBam/CB_ACGGCCAGTCCGAATT-*.bam\n",
      "file not done yet ../data/raw/scBam/CB_GAGGTGAGTACTCAAC-*.bam\n"
     ]
    },
    {
     "name": "stderr",
     "output_type": "stream",
     "text": [
      "  1%|          | 422/75923 [02:02<5:38:13,  3.72it/s]"
     ]
    },
    {
     "name": "stdout",
     "output_type": "stream",
     "text": [
      "file not done yet ../data/raw/scBam/CB_CAAGTTGGTTCCGGCA-*.bam\n",
      "file not done yet ../data/raw/scBam/CB_CAAGATCGTTCACGGC-*.bam\n"
     ]
    },
    {
     "name": "stderr",
     "output_type": "stream",
     "text": [
      "\r",
      "  1%|          | 423/75923 [02:02<4:50:43,  4.33it/s]"
     ]
    },
    {
     "name": "stdout",
     "output_type": "stream",
     "text": [
      "file not done yet ../data/raw/scBam/CB_CATTATCTCGCCAGCA-*.bam\n",
      "python /home/isshamie/software/mito-genotyping/exampleProcessing//01_pileup_counts.py ../data/raw/scBam/CB_AAAGCAACACGGCCAT-1.bam ../data/raw/scPileup/CB_AAAGCAACACGGCCAT-1 16571 0 AAAGCAACACGGCCAT-1.bam 0\n"
     ]
    },
    {
     "name": "stderr",
     "output_type": "stream",
     "text": [
      "  1%|          | 425/75923 [02:04<12:34:53,  1.67it/s]"
     ]
    },
    {
     "name": "stdout",
     "output_type": "stream",
     "text": [
      "file not done yet ../data/raw/scBam/CB_CTTAACTTCCGAACGC-*.bam\n"
     ]
    },
    {
     "name": "stderr",
     "output_type": "stream",
     "text": [
      "  1%|          | 427/75923 [02:05<10:29:57,  2.00it/s]"
     ]
    },
    {
     "name": "stdout",
     "output_type": "stream",
     "text": [
      "file not done yet ../data/raw/scBam/CB_TATCTCACAGCGTAAG-*.bam\n",
      "file not done yet ../data/raw/scBam/CB_GGCTGGTCAAGACACG-*.bam\n",
      "python /home/isshamie/software/mito-genotyping/exampleProcessing//01_pileup_counts.py ../data/raw/scBam/CB_AACTCCCTCAGAAATG-1.bam ../data/raw/scPileup/CB_AACTCCCTCAGAAATG-1 16571 0 AACTCCCTCAGAAATG-1.bam 0\n"
     ]
    },
    {
     "name": "stderr",
     "output_type": "stream",
     "text": [
      "  1%|          | 430/75923 [02:07<10:37:57,  1.97it/s]"
     ]
    },
    {
     "name": "stdout",
     "output_type": "stream",
     "text": [
      "file not done yet ../data/raw/scBam/CB_CGCCAAGGTCCTGCTT-*.bam\n",
      "file not done yet ../data/raw/scBam/CB_GCACTCTAGAGGTTGC-*.bam\n"
     ]
    },
    {
     "name": "stderr",
     "output_type": "stream",
     "text": [
      "  1%|          | 432/75923 [02:07<6:57:17,  3.02it/s] "
     ]
    },
    {
     "name": "stdout",
     "output_type": "stream",
     "text": [
      "file not done yet ../data/raw/scBam/CB_GTACTCCTCCAGTATG-*.bam\n",
      "file not done yet ../data/raw/scBam/CB_CCTCTGAAGAGTAATC-*.bam\n"
     ]
    },
    {
     "name": "stderr",
     "output_type": "stream",
     "text": [
      "  1%|          | 434/75923 [02:08<4:57:30,  4.23it/s]"
     ]
    },
    {
     "name": "stdout",
     "output_type": "stream",
     "text": [
      "file not done yet ../data/raw/scBam/CB_CAGCAGCGTATTCTCT-*.bam\n",
      "file not done yet ../data/raw/scBam/CB_GAACATCTCCCATTAT-*.bam\n"
     ]
    },
    {
     "name": "stderr",
     "output_type": "stream",
     "text": [
      "  1%|          | 436/75923 [02:08<4:20:20,  4.83it/s]"
     ]
    },
    {
     "name": "stdout",
     "output_type": "stream",
     "text": [
      "file not done yet ../data/raw/scBam/CB_TAAGCGTAGTGTGAAT-*.bam\n",
      "file not done yet ../data/raw/scBam/CB_CTCGGGATCGGAAACG-*.bam\n"
     ]
    },
    {
     "name": "stderr",
     "output_type": "stream",
     "text": [
      "  1%|          | 438/75923 [02:08<3:56:34,  5.32it/s]"
     ]
    },
    {
     "name": "stdout",
     "output_type": "stream",
     "text": [
      "file not done yet ../data/raw/scBam/CB_CCAGCGACAAGCCTAT-*.bam\n",
      "file not done yet ../data/raw/scBam/CB_AGCAGCCAGCGATATA-*.bam\n"
     ]
    },
    {
     "name": "stderr",
     "output_type": "stream",
     "text": [
      "\r",
      "  1%|          | 439/75923 [02:08<3:51:02,  5.45it/s]"
     ]
    },
    {
     "name": "stdout",
     "output_type": "stream",
     "text": [
      "file not done yet ../data/raw/scBam/CB_GGAACTTAGAAACCGC-*.bam\n"
     ]
    },
    {
     "name": "stderr",
     "output_type": "stream",
     "text": [
      "\r",
      "  1%|          | 440/75923 [02:09<4:08:04,  5.07it/s]"
     ]
    },
    {
     "name": "stdout",
     "output_type": "stream",
     "text": [
      "file not done yet ../data/raw/scBam/CB_GGGTTGCTCCGCGGTA-*.bam\n"
     ]
    },
    {
     "name": "stderr",
     "output_type": "stream",
     "text": [
      "  1%|          | 442/75923 [02:09<4:10:07,  5.03it/s]"
     ]
    },
    {
     "name": "stdout",
     "output_type": "stream",
     "text": [
      "file not done yet ../data/raw/scBam/CB_CTTTGCGGTGTAATGA-*.bam\n",
      "file not done yet ../data/raw/scBam/CB_CAAGTTGCATTTGCCC-*.bam\n"
     ]
    },
    {
     "name": "stderr",
     "output_type": "stream",
     "text": [
      "  1%|          | 444/75923 [02:09<3:42:15,  5.66it/s]"
     ]
    },
    {
     "name": "stdout",
     "output_type": "stream",
     "text": [
      "file not done yet ../data/raw/scBam/CB_TAAGAGACAACGATGG-*.bam\n",
      "file not done yet ../data/raw/scBam/CB_ATCGAGTTCATCACCC-*.bam\n"
     ]
    },
    {
     "name": "stderr",
     "output_type": "stream",
     "text": [
      "\r",
      "  1%|          | 445/75923 [02:10<3:43:16,  5.63it/s]"
     ]
    },
    {
     "name": "stdout",
     "output_type": "stream",
     "text": [
      "file not done yet ../data/raw/scBam/CB_CGCGGTACAACGATCT-*.bam\n"
     ]
    },
    {
     "name": "stderr",
     "output_type": "stream",
     "text": [
      "\r",
      "  1%|          | 446/75923 [02:10<3:54:03,  5.37it/s]"
     ]
    },
    {
     "name": "stdout",
     "output_type": "stream",
     "text": [
      "file not done yet ../data/raw/scBam/CB_GATCGATTCTCGCATC-*.bam\n"
     ]
    },
    {
     "name": "stderr",
     "output_type": "stream",
     "text": [
      "\r",
      "  1%|          | 447/75923 [02:10<4:27:48,  4.70it/s]"
     ]
    },
    {
     "name": "stdout",
     "output_type": "stream",
     "text": [
      "file not done yet ../data/raw/scBam/CB_AGTGTCAGTTCCATGA-*.bam\n"
     ]
    },
    {
     "name": "stderr",
     "output_type": "stream",
     "text": [
      "\r",
      "  1%|          | 448/75923 [02:10<4:26:40,  4.72it/s]"
     ]
    },
    {
     "name": "stdout",
     "output_type": "stream",
     "text": [
      "file not done yet ../data/raw/scBam/CB_CTTCTCTTCCGTCATC-*.bam\n"
     ]
    },
    {
     "name": "stderr",
     "output_type": "stream",
     "text": [
      "  1%|          | 450/75923 [02:11<4:16:43,  4.90it/s]"
     ]
    },
    {
     "name": "stdout",
     "output_type": "stream",
     "text": [
      "file not done yet ../data/raw/scBam/CB_ATCTACTAGCCACGCT-*.bam\n",
      "file not done yet ../data/raw/scBam/CB_CCTAAAGGTCGGCACT-*.bam\n"
     ]
    },
    {
     "name": "stderr",
     "output_type": "stream",
     "text": [
      "  1%|          | 452/75923 [02:11<3:58:57,  5.26it/s]"
     ]
    },
    {
     "name": "stdout",
     "output_type": "stream",
     "text": [
      "file not done yet ../data/raw/scBam/CB_TGAGAGGGTGTATGGG-*.bam\n",
      "file not done yet ../data/raw/scBam/CB_CAAGAAATCGAGGTAG-*.bam\n"
     ]
    },
    {
     "name": "stderr",
     "output_type": "stream",
     "text": [
      "  1%|          | 454/75923 [02:11<3:45:11,  5.59it/s]"
     ]
    },
    {
     "name": "stdout",
     "output_type": "stream",
     "text": [
      "file not done yet ../data/raw/scBam/CB_GCAAACTTCACATACG-*.bam\n",
      "file not done yet ../data/raw/scBam/CB_TGAAAGAGTTCAACCA-*.bam\n"
     ]
    },
    {
     "name": "stderr",
     "output_type": "stream",
     "text": [
      "\r",
      "  1%|          | 455/75923 [02:12<3:56:45,  5.31it/s]"
     ]
    },
    {
     "name": "stdout",
     "output_type": "stream",
     "text": [
      "file not done yet ../data/raw/scBam/CB_GCGAGAAAGTGAATTG-*.bam\n"
     ]
    },
    {
     "name": "stderr",
     "output_type": "stream",
     "text": [
      "\r",
      "  1%|          | 456/75923 [02:12<4:06:57,  5.09it/s]"
     ]
    },
    {
     "name": "stdout",
     "output_type": "stream",
     "text": [
      "file not done yet ../data/raw/scBam/CB_TGACTAGGTGGCGAAT-*.bam\n"
     ]
    },
    {
     "name": "stderr",
     "output_type": "stream",
     "text": [
      "  1%|          | 458/75923 [02:12<4:11:17,  5.01it/s]"
     ]
    },
    {
     "name": "stdout",
     "output_type": "stream",
     "text": [
      "file not done yet ../data/raw/scBam/CB_CTACATTGTTACGTCA-*.bam\n",
      "file not done yet ../data/raw/scBam/CB_TCGGTAAGTCGTGGCT-*.bam\n"
     ]
    },
    {
     "name": "stderr",
     "output_type": "stream",
     "text": [
      "\r",
      "  1%|          | 459/75923 [02:12<3:52:38,  5.41it/s]"
     ]
    },
    {
     "name": "stdout",
     "output_type": "stream",
     "text": [
      "file not done yet ../data/raw/scBam/CB_CTTACCGGTAAATGAC-*.bam\n"
     ]
    },
    {
     "name": "stderr",
     "output_type": "stream",
     "text": [
      "  1%|          | 461/75923 [02:13<4:00:46,  5.22it/s]"
     ]
    },
    {
     "name": "stdout",
     "output_type": "stream",
     "text": [
      "file not done yet ../data/raw/scBam/CB_ATTCTACAGGCGCTCT-*.bam\n",
      "file not done yet ../data/raw/scBam/CB_CTTAGGATCGGTCCGA-*.bam\n"
     ]
    },
    {
     "name": "stderr",
     "output_type": "stream",
     "text": [
      "  1%|          | 463/75923 [02:13<3:46:36,  5.55it/s]"
     ]
    },
    {
     "name": "stdout",
     "output_type": "stream",
     "text": [
      "file not done yet ../data/raw/scBam/CB_ACATCAGGTTTGACTG-*.bam\n",
      "file not done yet ../data/raw/scBam/CB_GCGCAGTAGAGCTTCT-*.bam\n"
     ]
    },
    {
     "name": "stderr",
     "output_type": "stream",
     "text": [
      "  1%|          | 465/75923 [02:13<3:28:02,  6.05it/s]"
     ]
    },
    {
     "name": "stdout",
     "output_type": "stream",
     "text": [
      "file not done yet ../data/raw/scBam/CB_ACGGGCTTCCCTCTTT-*.bam\n",
      "file not done yet ../data/raw/scBam/CB_CTACATTGTAGCTAAA-*.bam\n"
     ]
    },
    {
     "name": "stderr",
     "output_type": "stream",
     "text": [
      "  1%|          | 467/75923 [02:14<3:33:17,  5.90it/s]"
     ]
    },
    {
     "name": "stdout",
     "output_type": "stream",
     "text": [
      "file not done yet ../data/raw/scBam/CB_AGGGATGAGCACGCCT-*.bam\n",
      "file not done yet ../data/raw/scBam/CB_CTACCCAAGACTAGGC-*.bam\n"
     ]
    },
    {
     "name": "stderr",
     "output_type": "stream",
     "text": [
      "\r",
      "  1%|          | 468/75923 [02:14<3:26:48,  6.08it/s]"
     ]
    },
    {
     "name": "stdout",
     "output_type": "stream",
     "text": [
      "file not done yet ../data/raw/scBam/CB_CAGTCCTCAGATGGGT-*.bam\n"
     ]
    },
    {
     "name": "stderr",
     "output_type": "stream",
     "text": [
      "  1%|          | 470/75923 [02:14<3:48:37,  5.50it/s]"
     ]
    },
    {
     "name": "stdout",
     "output_type": "stream",
     "text": [
      "file not done yet ../data/raw/scBam/CB_CGCGGTACACCCTATC-*.bam\n",
      "file not done yet ../data/raw/scBam/CB_TACCTATTCAGGTTCA-*.bam\n"
     ]
    },
    {
     "name": "stderr",
     "output_type": "stream",
     "text": [
      "  1%|          | 472/75923 [02:15<3:38:11,  5.76it/s]"
     ]
    },
    {
     "name": "stdout",
     "output_type": "stream",
     "text": [
      "file not done yet ../data/raw/scBam/CB_CCTAAAGAGTGACATA-*.bam\n",
      "file not done yet ../data/raw/scBam/CB_TACTCATGTAAACCTC-*.bam\n"
     ]
    },
    {
     "name": "stderr",
     "output_type": "stream",
     "text": [
      "  1%|          | 474/75923 [02:15<3:33:36,  5.89it/s]"
     ]
    },
    {
     "name": "stdout",
     "output_type": "stream",
     "text": [
      "file not done yet ../data/raw/scBam/CB_CTCTACGCAGAAGCAC-*.bam\n",
      "file not done yet ../data/raw/scBam/CB_GCTTCCACATACTACG-*.bam\n"
     ]
    },
    {
     "name": "stderr",
     "output_type": "stream",
     "text": [
      "\r",
      "  1%|          | 475/75923 [02:15<3:27:11,  6.07it/s]"
     ]
    },
    {
     "name": "stdout",
     "output_type": "stream",
     "text": [
      "file not done yet ../data/raw/scBam/CB_GACAGAGAGCTGTCTA-*.bam\n"
     ]
    },
    {
     "name": "stderr",
     "output_type": "stream",
     "text": [
      "  1%|          | 477/75923 [02:16<3:56:19,  5.32it/s]"
     ]
    },
    {
     "name": "stdout",
     "output_type": "stream",
     "text": [
      "file not done yet ../data/raw/scBam/CB_ACATGGTGTCATGCAT-*.bam\n",
      "file not done yet ../data/raw/scBam/CB_CTAGTGAAGGTGCTAG-*.bam\n"
     ]
    },
    {
     "name": "stderr",
     "output_type": "stream",
     "text": [
      "  1%|          | 479/75923 [02:16<3:38:47,  5.75it/s]"
     ]
    },
    {
     "name": "stdout",
     "output_type": "stream",
     "text": [
      "file not done yet ../data/raw/scBam/CB_TATTACCAGAGATGAG-*.bam\n",
      "file not done yet ../data/raw/scBam/CB_CTTGGCTTCCTCTAGC-*.bam\n"
     ]
    },
    {
     "name": "stderr",
     "output_type": "stream",
     "text": [
      "  1%|          | 481/75923 [02:16<3:32:33,  5.92it/s]"
     ]
    },
    {
     "name": "stdout",
     "output_type": "stream",
     "text": [
      "file not done yet ../data/raw/scBam/CB_GATGAGGTCCTGCTTG-*.bam\n",
      "file not done yet ../data/raw/scBam/CB_ACCCACTGTGTGTGCC-*.bam\n"
     ]
    },
    {
     "name": "stderr",
     "output_type": "stream",
     "text": [
      "  1%|          | 483/75923 [02:17<3:42:01,  5.66it/s]"
     ]
    },
    {
     "name": "stdout",
     "output_type": "stream",
     "text": [
      "file not done yet ../data/raw/scBam/CB_GAGTCCGTCCCAACGG-*.bam\n",
      "file not done yet ../data/raw/scBam/CB_CATGGCGGTTAAGTAG-*.bam\n"
     ]
    },
    {
     "name": "stderr",
     "output_type": "stream",
     "text": [
      "\r",
      "  1%|          | 484/75923 [02:17<3:41:07,  5.69it/s]"
     ]
    },
    {
     "name": "stdout",
     "output_type": "stream",
     "text": [
      "file not done yet ../data/raw/scBam/CB_CTAAGACGTTCCGGCA-*.bam\n",
      "python /home/isshamie/software/mito-genotyping/exampleProcessing//01_pileup_counts.py ../data/raw/scBam/CB_AATCCAGTCGTAGGTT-1.bam ../data/raw/scPileup/CB_AATCCAGTCGTAGGTT-1 16571 0 AATCCAGTCGTAGGTT-1.bam 0\n"
     ]
    },
    {
     "name": "stderr",
     "output_type": "stream",
     "text": [
      "  1%|          | 486/75923 [02:18<9:32:43,  2.20it/s] "
     ]
    },
    {
     "name": "stdout",
     "output_type": "stream",
     "text": [
      "file not done yet ../data/raw/scBam/CB_GCTGCAGCAGCTGTAT-*.bam\n",
      "python /home/isshamie/software/mito-genotyping/exampleProcessing//01_pileup_counts.py ../data/raw/scBam/CB_AAGCCGCGTATGAAAC-1.bam ../data/raw/scPileup/CB_AAGCCGCGTATGAAAC-1 16571 0 AAGCCGCGTATGAAAC-1.bam 0\n"
     ]
    },
    {
     "name": "stderr",
     "output_type": "stream",
     "text": [
      "  1%|          | 489/75923 [02:21<11:33:31,  1.81it/s]"
     ]
    },
    {
     "name": "stdout",
     "output_type": "stream",
     "text": [
      "file not done yet ../data/raw/scBam/CB_TGTCCCACAGAGCCAA-*.bam\n",
      "file not done yet ../data/raw/scBam/CB_CTGTGCTGTGCTGTAT-*.bam\n"
     ]
    },
    {
     "name": "stderr",
     "output_type": "stream",
     "text": [
      "  1%|          | 491/75923 [02:21<7:37:15,  2.75it/s] "
     ]
    },
    {
     "name": "stdout",
     "output_type": "stream",
     "text": [
      "file not done yet ../data/raw/scBam/CB_CACTCCAGTTGATTCG-*.bam\n",
      "file not done yet ../data/raw/scBam/CB_CGATGTAGTGGGTATG-*.bam\n"
     ]
    },
    {
     "name": "stderr",
     "output_type": "stream",
     "text": [
      "  1%|          | 493/75923 [02:22<5:38:42,  3.71it/s]"
     ]
    },
    {
     "name": "stdout",
     "output_type": "stream",
     "text": [
      "file not done yet ../data/raw/scBam/CB_GTTTCTACAACACGCC-*.bam\n",
      "file not done yet ../data/raw/scBam/CB_CCTTACGTCAACACCA-*.bam\n"
     ]
    },
    {
     "name": "stderr",
     "output_type": "stream",
     "text": [
      "  1%|          | 495/75923 [02:22<4:40:50,  4.48it/s]"
     ]
    },
    {
     "name": "stdout",
     "output_type": "stream",
     "text": [
      "file not done yet ../data/raw/scBam/CB_TCAATCTTCTGTCTAT-*.bam\n",
      "file not done yet ../data/raw/scBam/CB_ACGATGTGTAGCGCAA-*.bam\n"
     ]
    },
    {
     "name": "stderr",
     "output_type": "stream",
     "text": [
      "  1%|          | 497/75923 [02:22<4:15:22,  4.92it/s]"
     ]
    },
    {
     "name": "stdout",
     "output_type": "stream",
     "text": [
      "file not done yet ../data/raw/scBam/CB_ATGCGATCAGGACCCT-*.bam\n",
      "file not done yet ../data/raw/scBam/CB_ATCTGCCCAATCTACG-*.bam\n"
     ]
    },
    {
     "name": "stderr",
     "output_type": "stream",
     "text": [
      "\r",
      "  1%|          | 498/75923 [02:22<4:12:22,  4.98it/s]"
     ]
    },
    {
     "name": "stdout",
     "output_type": "stream",
     "text": [
      "file not done yet ../data/raw/scBam/CB_GTCTTCGGTAGAGCTG-*.bam\n"
     ]
    },
    {
     "name": "stderr",
     "output_type": "stream",
     "text": [
      "  1%|          | 500/75923 [02:23<4:08:48,  5.05it/s]"
     ]
    },
    {
     "name": "stdout",
     "output_type": "stream",
     "text": [
      "file not done yet ../data/raw/scBam/CB_AGATTGCAGTGTTGAA-*.bam\n",
      "file not done yet ../data/raw/scBam/CB_TCCCGATCACAACGCC-*.bam\n"
     ]
    },
    {
     "name": "stderr",
     "output_type": "stream",
     "text": [
      "\r",
      "  1%|          | 501/75923 [02:23<4:14:31,  4.94it/s]"
     ]
    },
    {
     "name": "stdout",
     "output_type": "stream",
     "text": [
      "file not done yet ../data/raw/scBam/CB_TGATTTCTCTAGCACA-*.bam\n",
      "python /home/isshamie/software/mito-genotyping/exampleProcessing//01_pileup_counts.py ../data/raw/scBam/CB_ACACCAATCAGATAAG-1.bam ../data/raw/scPileup/CB_ACACCAATCAGATAAG-1 16571 0 ACACCAATCAGATAAG-1.bam 0\n"
     ]
    },
    {
     "name": "stderr",
     "output_type": "stream",
     "text": [
      "  1%|          | 504/75923 [02:26<9:42:46,  2.16it/s] "
     ]
    },
    {
     "name": "stdout",
     "output_type": "stream",
     "text": [
      "file not done yet ../data/raw/scBam/CB_TGACGGCCAAGCTGGA-*.bam\n",
      "file not done yet ../data/raw/scBam/CB_CCATTCGTCCATGAGT-*.bam\n"
     ]
    },
    {
     "name": "stderr",
     "output_type": "stream",
     "text": [
      "  1%|          | 506/75923 [02:26<6:33:55,  3.19it/s]"
     ]
    },
    {
     "name": "stdout",
     "output_type": "stream",
     "text": [
      "file not done yet ../data/raw/scBam/CB_GACGGCTCACTAAGTC-*.bam\n",
      "file not done yet ../data/raw/scBam/CB_TAAACCGGTTACTGAC-*.bam\n"
     ]
    },
    {
     "name": "stderr",
     "output_type": "stream",
     "text": [
      "  1%|          | 508/75923 [02:26<4:54:24,  4.27it/s]"
     ]
    },
    {
     "name": "stdout",
     "output_type": "stream",
     "text": [
      "file not done yet ../data/raw/scBam/CB_GTGCTTCAGGCAATTA-*.bam\n",
      "file not done yet ../data/raw/scBam/CB_GAGGTGATCATCTGTT-*.bam\n"
     ]
    },
    {
     "name": "stderr",
     "output_type": "stream",
     "text": [
      "  1%|          | 510/75923 [02:26<4:03:49,  5.15it/s]"
     ]
    },
    {
     "name": "stdout",
     "output_type": "stream",
     "text": [
      "file not done yet ../data/raw/scBam/CB_GCATACATCTGGCGAC-*.bam\n",
      "file not done yet ../data/raw/scBam/CB_CGTTAGAGTAGTAGTA-*.bam\n",
      "file not done yet ../data/raw/scBam/CB_CTCAGAATCCTTAATC-*.bam\n"
     ]
    },
    {
     "name": "stderr",
     "output_type": "stream",
     "text": [
      "  1%|          | 518/75923 [02:27<2:19:44,  8.99it/s]"
     ]
    },
    {
     "name": "stdout",
     "output_type": "stream",
     "text": [
      "file not done yet ../data/raw/scBam/CB_GGGAATGTCCCAACGG-*.bam\n",
      "file not done yet ../data/raw/scBam/CB_CGGTTAATCTTCGGTC-*.bam\n",
      "file not done yet ../data/raw/scBam/CB_ACTTGTTCACCCAGTG-*.bam\n",
      "file not done yet ../data/raw/scBam/CB_ACTTGTTAGCCGTCGT-*.bam\n",
      "file not done yet ../data/raw/scBam/CB_TACTCGCAGTACCGGA-*.bam\n",
      "file not done yet ../data/raw/scBam/CB_ACTTGTTGTTACGACT-*.bam\n",
      "file not done yet ../data/raw/scBam/CB_TTTATGCGTCGATTGT-*.bam\n"
     ]
    },
    {
     "name": "stderr",
     "output_type": "stream",
     "text": [
      "\r",
      "  1%|          | 522/75923 [02:27<1:49:59, 11.42it/s]"
     ]
    },
    {
     "name": "stdout",
     "output_type": "stream",
     "text": [
      "file not done yet ../data/raw/scBam/CB_TCAACGAAGAATTCCC-*.bam\n",
      "file not done yet ../data/raw/scBam/CB_CACTCCACAGCGAACA-*.bam\n",
      "file not done yet ../data/raw/scBam/CB_CATATGGTCGGCATCG-*.bam\n",
      "file not done yet ../data/raw/scBam/CB_GACTAACGTCTAAAGA-*.bam\n",
      "file not done yet ../data/raw/scBam/CB_ATCTGCCCACCAGGTC-*.bam\n",
      "file not done yet ../data/raw/scBam/CB_TGCCCATAGAGGGCTT-*.bam\n",
      "file not done yet ../data/raw/scBam/CB_GACCTGGTCAAGCCTA-*.bam\n"
     ]
    },
    {
     "name": "stderr",
     "output_type": "stream",
     "text": [
      "\r",
      "  1%|          | 526/75923 [02:27<1:29:28, 14.05it/s]"
     ]
    },
    {
     "name": "stdout",
     "output_type": "stream",
     "text": [
      "file not done yet ../data/raw/scBam/CB_GCATGCGGTGCGGTAA-*.bam\n",
      "file not done yet ../data/raw/scBam/CB_GGTGAAGCAATTCCTT-*.bam\n"
     ]
    },
    {
     "name": "stderr",
     "output_type": "stream",
     "text": [
      "\r",
      "  1%|          | 529/75923 [02:27<1:53:32, 11.07it/s]"
     ]
    },
    {
     "name": "stdout",
     "output_type": "stream",
     "text": [
      "file not done yet ../data/raw/scBam/CB_CTTAGGAGTGCACGAA-*.bam\n",
      "file not done yet ../data/raw/scBam/CB_TTGGAACAGTAGCCGA-*.bam\n"
     ]
    },
    {
     "name": "stderr",
     "output_type": "stream",
     "text": [
      "\r",
      "  1%|          | 531/75923 [02:28<2:23:15,  8.77it/s]"
     ]
    },
    {
     "name": "stdout",
     "output_type": "stream",
     "text": [
      "file not done yet ../data/raw/scBam/CB_GTGTTAGGTAGAAGGA-*.bam\n",
      "file not done yet ../data/raw/scBam/CB_CATTCGCTCTTACCTA-*.bam\n",
      "file not done yet ../data/raw/scBam/CB_AGCGGTCAGTTAGCGG-*.bam\n"
     ]
    },
    {
     "name": "stderr",
     "output_type": "stream",
     "text": [
      "\r",
      "  1%|          | 533/75923 [02:28<2:17:12,  9.16it/s]"
     ]
    },
    {
     "name": "stdout",
     "output_type": "stream",
     "text": [
      "file not done yet ../data/raw/scBam/CB_CGTCCATCAGACAAAT-*.bam\n",
      "file not done yet ../data/raw/scBam/CB_CTGGTCTCACAGACAG-*.bam\n"
     ]
    },
    {
     "name": "stderr",
     "output_type": "stream",
     "text": [
      "\r",
      "  1%|          | 535/75923 [02:28<2:38:00,  7.95it/s]"
     ]
    },
    {
     "name": "stdout",
     "output_type": "stream",
     "text": [
      "file not done yet ../data/raw/scBam/CB_CGTCTACAGCGTGAAC-*.bam\n"
     ]
    },
    {
     "name": "stderr",
     "output_type": "stream",
     "text": [
      "\r",
      "  1%|          | 537/75923 [02:29<3:03:35,  6.84it/s]"
     ]
    },
    {
     "name": "stdout",
     "output_type": "stream",
     "text": [
      "file not done yet ../data/raw/scBam/CB_TCGGGACCATACTCTT-*.bam\n",
      "file not done yet ../data/raw/scBam/CB_TACTTACAGATATACG-*.bam\n"
     ]
    },
    {
     "name": "stderr",
     "output_type": "stream",
     "text": [
      "  1%|          | 539/75923 [02:29<3:19:06,  6.31it/s]"
     ]
    },
    {
     "name": "stdout",
     "output_type": "stream",
     "text": [
      "file not done yet ../data/raw/scBam/CB_ATAAGAGGTCATGCCG-*.bam\n",
      "file not done yet ../data/raw/scBam/CB_TCTGGAAGTAGCGCTC-*.bam\n"
     ]
    },
    {
     "name": "stderr",
     "output_type": "stream",
     "text": [
      "  1%|          | 541/75923 [02:29<3:48:32,  5.50it/s]"
     ]
    },
    {
     "name": "stdout",
     "output_type": "stream",
     "text": [
      "file not done yet ../data/raw/scBam/CB_GTCACGGGTCCTCTTG-*.bam\n",
      "file not done yet ../data/raw/scBam/CB_ACGCCAGCAGCCAATT-*.bam\n"
     ]
    },
    {
     "name": "stderr",
     "output_type": "stream",
     "text": [
      "\r",
      "  1%|          | 542/75923 [02:30<3:59:31,  5.25it/s]"
     ]
    },
    {
     "name": "stdout",
     "output_type": "stream",
     "text": [
      "file not done yet ../data/raw/scBam/CB_GAAACTCGTAGCGATG-*.bam\n"
     ]
    },
    {
     "name": "stderr",
     "output_type": "stream",
     "text": [
      "\r",
      "  1%|          | 543/75923 [02:30<4:16:22,  4.90it/s]"
     ]
    },
    {
     "name": "stdout",
     "output_type": "stream",
     "text": [
      "file not done yet ../data/raw/scBam/CB_TATTACCTCTTGAGGT-*.bam\n"
     ]
    },
    {
     "name": "stderr",
     "output_type": "stream",
     "text": [
      "\r",
      "  1%|          | 544/75923 [02:30<4:17:50,  4.87it/s]"
     ]
    },
    {
     "name": "stdout",
     "output_type": "stream",
     "text": [
      "file not done yet ../data/raw/scBam/CB_GAACGGAGTCTCCCTA-*.bam\n"
     ]
    },
    {
     "name": "stderr",
     "output_type": "stream",
     "text": [
      "\r",
      "  1%|          | 545/75923 [02:30<4:20:20,  4.83it/s]"
     ]
    },
    {
     "name": "stdout",
     "output_type": "stream",
     "text": [
      "file not done yet ../data/raw/scBam/CB_TCAATCTAGTGAACGC-*.bam\n"
     ]
    },
    {
     "name": "stderr",
     "output_type": "stream",
     "text": [
      "  1%|          | 547/75923 [02:31<4:13:08,  4.96it/s]"
     ]
    },
    {
     "name": "stdout",
     "output_type": "stream",
     "text": [
      "file not done yet ../data/raw/scBam/CB_CCCTCCTCAGACAAGC-*.bam\n",
      "file not done yet ../data/raw/scBam/CB_TGTGGTAGTTCAGGCC-*.bam\n"
     ]
    },
    {
     "name": "stderr",
     "output_type": "stream",
     "text": [
      "\r",
      "  1%|          | 548/75923 [02:31<4:09:32,  5.03it/s]"
     ]
    },
    {
     "name": "stdout",
     "output_type": "stream",
     "text": [
      "file not done yet ../data/raw/scBam/CB_CTGCGGATCCGAACGC-*.bam\n",
      "python /home/isshamie/software/mito-genotyping/exampleProcessing//01_pileup_counts.py ../data/raw/scBam/CB_AATCCAGAGGGAGTAA-1.bam ../data/raw/scPileup/CB_AATCCAGAGGGAGTAA-1 16571 0 AATCCAGAGGGAGTAA-1.bam 0\n"
     ]
    },
    {
     "name": "stderr",
     "output_type": "stream",
     "text": [
      "  1%|          | 551/75923 [02:33<7:48:19,  2.68it/s] "
     ]
    },
    {
     "name": "stdout",
     "output_type": "stream",
     "text": [
      "file not done yet ../data/raw/scBam/CB_ATTGGTGCATCATCCC-*.bam\n",
      "file not done yet ../data/raw/scBam/CB_TGGGCGTAGATACACA-*.bam\n"
     ]
    },
    {
     "name": "stderr",
     "output_type": "stream",
     "text": [
      "\r",
      "  1%|          | 552/75923 [02:33<6:27:18,  3.24it/s]"
     ]
    },
    {
     "name": "stdout",
     "output_type": "stream",
     "text": [
      "file not done yet ../data/raw/scBam/CB_CTTAACTAGTTAGCGG-*.bam\n"
     ]
    },
    {
     "name": "stderr",
     "output_type": "stream",
     "text": [
      "  1%|          | 554/75923 [02:33<5:01:36,  4.16it/s]"
     ]
    },
    {
     "name": "stdout",
     "output_type": "stream",
     "text": [
      "file not done yet ../data/raw/scBam/CB_GAGCAGACAAGGCTCC-*.bam\n",
      "file not done yet ../data/raw/scBam/CB_TGCCAAACATTAGCCA-*.bam\n"
     ]
    },
    {
     "name": "stderr",
     "output_type": "stream",
     "text": [
      "  1%|          | 556/75923 [02:34<4:22:10,  4.79it/s]"
     ]
    },
    {
     "name": "stdout",
     "output_type": "stream",
     "text": [
      "file not done yet ../data/raw/scBam/CB_ACGGGCTAGAGTACAT-*.bam\n",
      "file not done yet ../data/raw/scBam/CB_CAAGTTGTCTTGTTTG-*.bam\n"
     ]
    },
    {
     "name": "stderr",
     "output_type": "stream",
     "text": [
      "\r",
      "  1%|          | 557/75923 [02:34<3:54:27,  5.36it/s]"
     ]
    },
    {
     "name": "stdout",
     "output_type": "stream",
     "text": [
      "file not done yet ../data/raw/scBam/CB_TACAGTGCATTGCGGC-*.bam\n"
     ]
    },
    {
     "name": "stderr",
     "output_type": "stream",
     "text": [
      "\r",
      "  1%|          | 558/75923 [02:34<4:10:27,  5.02it/s]"
     ]
    },
    {
     "name": "stdout",
     "output_type": "stream",
     "text": [
      "file not done yet ../data/raw/scBam/CB_CTCGGGAGTGTCCTCT-*.bam\n"
     ]
    },
    {
     "name": "stderr",
     "output_type": "stream",
     "text": [
      "\r",
      "  1%|          | 559/75923 [02:34<4:12:12,  4.98it/s]"
     ]
    },
    {
     "name": "stdout",
     "output_type": "stream",
     "text": [
      "file not done yet ../data/raw/scBam/CB_ATCATCTCAGCTGGCT-*.bam\n",
      "python /home/isshamie/software/mito-genotyping/exampleProcessing//01_pileup_counts.py ../data/raw/scBam/CB_AAAGCAATCCTTGGTC-1.bam ../data/raw/scPileup/CB_AAAGCAATCCTTGGTC-1 16571 0 AAAGCAATCCTTGGTC-1.bam 0\n"
     ]
    },
    {
     "name": "stderr",
     "output_type": "stream",
     "text": [
      "  1%|          | 562/75923 [02:36<8:58:57,  2.33it/s] "
     ]
    },
    {
     "name": "stdout",
     "output_type": "stream",
     "text": [
      "file not done yet ../data/raw/scBam/CB_ACGCCGATCGTGACAT-*.bam\n",
      "file not done yet ../data/raw/scBam/CB_CGAACATAGGAATTAC-*.bam\n"
     ]
    },
    {
     "name": "stderr",
     "output_type": "stream",
     "text": [
      "  1%|          | 564/75923 [02:37<6:01:12,  3.48it/s]"
     ]
    },
    {
     "name": "stdout",
     "output_type": "stream",
     "text": [
      "file not done yet ../data/raw/scBam/CB_AGCCTAAGTTCAGTAC-*.bam\n",
      "file not done yet ../data/raw/scBam/CB_GCCAAATTCATGTCCC-*.bam\n"
     ]
    },
    {
     "name": "stderr",
     "output_type": "stream",
     "text": [
      "  1%|          | 566/75923 [02:37<4:42:20,  4.45it/s]"
     ]
    },
    {
     "name": "stdout",
     "output_type": "stream",
     "text": [
      "file not done yet ../data/raw/scBam/CB_TCACAAGAGTACTTGC-*.bam\n",
      "file not done yet ../data/raw/scBam/CB_TCAGCAAAGAGTCTGG-*.bam\n"
     ]
    },
    {
     "name": "stderr",
     "output_type": "stream",
     "text": [
      "  1%|          | 568/75923 [02:37<3:49:05,  5.48it/s]"
     ]
    },
    {
     "name": "stdout",
     "output_type": "stream",
     "text": [
      "file not done yet ../data/raw/scBam/CB_CTCGAGGGTAAAGGAG-*.bam\n",
      "file not done yet ../data/raw/scBam/CB_ACATCAGTCAGCTCTC-*.bam\n"
     ]
    },
    {
     "name": "stderr",
     "output_type": "stream",
     "text": [
      "\r",
      "  1%|          | 569/75923 [02:37<3:43:03,  5.63it/s]"
     ]
    },
    {
     "name": "stdout",
     "output_type": "stream",
     "text": [
      "file not done yet ../data/raw/scBam/CB_TAAACCGCAAGGTTCT-*.bam\n"
     ]
    },
    {
     "name": "stderr",
     "output_type": "stream",
     "text": [
      "  1%|          | 571/75923 [02:38<3:46:22,  5.55it/s]"
     ]
    },
    {
     "name": "stdout",
     "output_type": "stream",
     "text": [
      "file not done yet ../data/raw/scBam/CB_ACGGGTCAGAGTGAGA-*.bam\n",
      "file not done yet ../data/raw/scBam/CB_CTAACTTCAGGAACGT-*.bam\n"
     ]
    },
    {
     "name": "stderr",
     "output_type": "stream",
     "text": [
      "  1%|          | 573/75923 [02:38<3:42:20,  5.65it/s]"
     ]
    },
    {
     "name": "stdout",
     "output_type": "stream",
     "text": [
      "file not done yet ../data/raw/scBam/CB_CGTCTACTCGGCGGTT-*.bam\n",
      "file not done yet ../data/raw/scBam/CB_CTGATAGGTTCCACAA-*.bam\n"
     ]
    },
    {
     "name": "stderr",
     "output_type": "stream",
     "text": [
      "  1%|          | 575/75923 [02:39<3:49:51,  5.46it/s]"
     ]
    },
    {
     "name": "stdout",
     "output_type": "stream",
     "text": [
      "file not done yet ../data/raw/scBam/CB_GGGCACTCACGTAAGG-*.bam\n",
      "file not done yet ../data/raw/scBam/CB_CGGGTCAGTGCACGAA-*.bam\n"
     ]
    },
    {
     "name": "stderr",
     "output_type": "stream",
     "text": [
      "  1%|          | 577/75923 [02:39<3:40:44,  5.69it/s]"
     ]
    },
    {
     "name": "stdout",
     "output_type": "stream",
     "text": [
      "file not done yet ../data/raw/scBam/CB_TCTGGAATCCACGTTC-*.bam\n",
      "file not done yet ../data/raw/scBam/CB_TCAGATGAGAACTGTA-*.bam\n"
     ]
    },
    {
     "name": "stderr",
     "output_type": "stream",
     "text": [
      "  1%|          | 579/75923 [02:39<3:32:31,  5.91it/s]"
     ]
    },
    {
     "name": "stdout",
     "output_type": "stream",
     "text": [
      "file not done yet ../data/raw/scBam/CB_CGCCAAGAGCAATATG-*.bam\n",
      "file not done yet ../data/raw/scBam/CB_TTCTACAGTGATGATA-*.bam\n"
     ]
    },
    {
     "name": "stderr",
     "output_type": "stream",
     "text": [
      "  1%|          | 581/75923 [02:40<3:36:17,  5.81it/s]"
     ]
    },
    {
     "name": "stdout",
     "output_type": "stream",
     "text": [
      "file not done yet ../data/raw/scBam/CB_GAAGCAGGTCGTGGCT-*.bam\n",
      "file not done yet ../data/raw/scBam/CB_GTCCTCAGTAGCCTAT-*.bam\n"
     ]
    },
    {
     "name": "stderr",
     "output_type": "stream",
     "text": [
      "\r",
      "  1%|          | 582/75923 [02:40<3:50:55,  5.44it/s]"
     ]
    },
    {
     "name": "stdout",
     "output_type": "stream",
     "text": [
      "file not done yet ../data/raw/scBam/CB_TCAATCTTCCGCGGTA-*.bam\n"
     ]
    },
    {
     "name": "stderr",
     "output_type": "stream",
     "text": [
      "  1%|          | 584/75923 [02:40<3:49:38,  5.47it/s]"
     ]
    },
    {
     "name": "stdout",
     "output_type": "stream",
     "text": [
      "file not done yet ../data/raw/scBam/CB_AGTAGTCAGGGTTCCC-*.bam\n",
      "file not done yet ../data/raw/scBam/CB_ACTGAACCAGCTTCGG-*.bam\n"
     ]
    },
    {
     "name": "stderr",
     "output_type": "stream",
     "text": [
      "  1%|          | 586/75923 [02:41<3:52:43,  5.40it/s]"
     ]
    },
    {
     "name": "stdout",
     "output_type": "stream",
     "text": [
      "file not done yet ../data/raw/scBam/CB_GAAACTCGTTCGCTAA-*.bam\n",
      "file not done yet ../data/raw/scBam/CB_CGGAGTCTCGCAGGCT-*.bam\n"
     ]
    },
    {
     "name": "stderr",
     "output_type": "stream",
     "text": [
      "  1%|          | 588/75923 [02:41<4:03:16,  5.16it/s]"
     ]
    },
    {
     "name": "stdout",
     "output_type": "stream",
     "text": [
      "file not done yet ../data/raw/scBam/CB_GTATCTTAGATAGCAT-*.bam\n",
      "file not done yet ../data/raw/scBam/CB_TTTGTCATCAAACGGG-*.bam\n"
     ]
    },
    {
     "name": "stderr",
     "output_type": "stream",
     "text": [
      "  1%|          | 590/75923 [02:41<3:46:48,  5.54it/s]"
     ]
    },
    {
     "name": "stdout",
     "output_type": "stream",
     "text": [
      "file not done yet ../data/raw/scBam/CB_CCCTCCTTCTGGCGTG-*.bam\n",
      "file not done yet ../data/raw/scBam/CB_TTCTCAACACGAGAGT-*.bam\n"
     ]
    },
    {
     "name": "stderr",
     "output_type": "stream",
     "text": [
      "  1%|          | 592/75923 [02:42<3:37:16,  5.78it/s]"
     ]
    },
    {
     "name": "stdout",
     "output_type": "stream",
     "text": [
      "file not done yet ../data/raw/scBam/CB_CGACCTTTCTGGCGTG-*.bam\n",
      "file not done yet ../data/raw/scBam/CB_GCAATCATCACAAACC-*.bam\n"
     ]
    },
    {
     "name": "stderr",
     "output_type": "stream",
     "text": [
      "\r",
      "  1%|          | 593/75923 [02:42<3:47:24,  5.52it/s]"
     ]
    },
    {
     "name": "stdout",
     "output_type": "stream",
     "text": [
      "file not done yet ../data/raw/scBam/CB_GGTGAAGTCTCTTATG-*.bam\n"
     ]
    },
    {
     "name": "stderr",
     "output_type": "stream",
     "text": [
      "  1%|          | 595/75923 [02:42<3:45:45,  5.56it/s]"
     ]
    },
    {
     "name": "stdout",
     "output_type": "stream",
     "text": [
      "file not done yet ../data/raw/scBam/CB_GTGCATAGTACTTGAC-*.bam\n",
      "file not done yet ../data/raw/scBam/CB_TAAACCGGTTGCTCCT-*.bam\n"
     ]
    },
    {
     "name": "stderr",
     "output_type": "stream",
     "text": [
      "  1%|          | 597/75923 [02:43<3:31:10,  5.94it/s]"
     ]
    },
    {
     "name": "stdout",
     "output_type": "stream",
     "text": [
      "file not done yet ../data/raw/scBam/CB_CTTACCGCATGCATGT-*.bam\n",
      "file not done yet ../data/raw/scBam/CB_ATAAGAGCAGCCTTTC-*.bam\n"
     ]
    },
    {
     "name": "stderr",
     "output_type": "stream",
     "text": [
      "\r",
      "  1%|          | 598/75923 [02:43<3:51:40,  5.42it/s]"
     ]
    },
    {
     "name": "stdout",
     "output_type": "stream",
     "text": [
      "file not done yet ../data/raw/scBam/CB_GATGAGGGTCATGCAT-*.bam\n"
     ]
    },
    {
     "name": "stderr",
     "output_type": "stream",
     "text": [
      "  1%|          | 600/75923 [02:43<4:03:27,  5.16it/s]"
     ]
    },
    {
     "name": "stdout",
     "output_type": "stream",
     "text": [
      "file not done yet ../data/raw/scBam/CB_ACCCACTGTTGAGTTC-*.bam\n",
      "file not done yet ../data/raw/scBam/CB_CTCGGGACATGGTTGT-*.bam\n",
      "python /home/isshamie/software/mito-genotyping/exampleProcessing//01_pileup_counts.py ../data/raw/scBam/CB_AACTCAGAGGCCCTCA-1.bam ../data/raw/scPileup/CB_AACTCAGAGGCCCTCA-1 16571 0 AACTCAGAGGCCCTCA-1.bam 0\n"
     ]
    },
    {
     "name": "stderr",
     "output_type": "stream",
     "text": [
      "  1%|          | 603/75923 [02:45<8:17:35,  2.52it/s] "
     ]
    },
    {
     "name": "stdout",
     "output_type": "stream",
     "text": [
      "file not done yet ../data/raw/scBam/CB_TGTCCCAGTCCTGCTT-*.bam\n",
      "file not done yet ../data/raw/scBam/CB_CGCTGGAAGAGTAAGG-*.bam\n"
     ]
    },
    {
     "name": "stderr",
     "output_type": "stream",
     "text": [
      "\r",
      "  1%|          | 604/75923 [02:45<6:56:02,  3.02it/s]"
     ]
    },
    {
     "name": "stdout",
     "output_type": "stream",
     "text": [
      "file not done yet ../data/raw/scBam/CB_ACGCCGATCCTTGGTC-*.bam\n",
      "python /home/isshamie/software/mito-genotyping/exampleProcessing//01_pileup_counts.py ../data/raw/scBam/CB_AAACCTGTCACTCTTA-1.bam ../data/raw/scPileup/CB_AAACCTGTCACTCTTA-1 16571 0 AAACCTGTCACTCTTA-1.bam 0\n"
     ]
    },
    {
     "name": "stderr",
     "output_type": "stream",
     "text": [
      "  1%|          | 607/75923 [02:48<11:24:19,  1.83it/s]"
     ]
    },
    {
     "name": "stdout",
     "output_type": "stream",
     "text": [
      "file not done yet ../data/raw/scBam/CB_GGATTACTCGGTGTCG-*.bam\n",
      "file not done yet ../data/raw/scBam/CB_TCTATTGTCTGCTGCT-*.bam\n"
     ]
    },
    {
     "name": "stderr",
     "output_type": "stream",
     "text": [
      "  1%|          | 609/75923 [02:48<7:30:48,  2.78it/s] "
     ]
    },
    {
     "name": "stdout",
     "output_type": "stream",
     "text": [
      "file not done yet ../data/raw/scBam/CB_TGACTAGTCGTCCGTT-*.bam\n",
      "file not done yet ../data/raw/scBam/CB_TGAGGGAAGATCACGG-*.bam\n"
     ]
    },
    {
     "name": "stderr",
     "output_type": "stream",
     "text": [
      "  1%|          | 611/75923 [02:49<5:35:33,  3.74it/s]"
     ]
    },
    {
     "name": "stdout",
     "output_type": "stream",
     "text": [
      "file not done yet ../data/raw/scBam/CB_TTGAACGGTTATCACG-*.bam\n",
      "file not done yet ../data/raw/scBam/CB_ATCGAGTTCGGTGTCG-*.bam\n"
     ]
    },
    {
     "name": "stderr",
     "output_type": "stream",
     "text": [
      "  1%|          | 613/75923 [02:49<4:36:11,  4.54it/s]"
     ]
    },
    {
     "name": "stdout",
     "output_type": "stream",
     "text": [
      "file not done yet ../data/raw/scBam/CB_GAACGGACATTCCTCG-*.bam\n",
      "file not done yet ../data/raw/scBam/CB_CTAGAGTAGAGTAAGG-*.bam\n"
     ]
    },
    {
     "name": "stderr",
     "output_type": "stream",
     "text": [
      "  1%|          | 615/75923 [02:49<4:20:07,  4.83it/s]"
     ]
    },
    {
     "name": "stdout",
     "output_type": "stream",
     "text": [
      "file not done yet ../data/raw/scBam/CB_AGCTCTCAGGTCGGAT-*.bam\n",
      "file not done yet ../data/raw/scBam/CB_TGCACCTTCGTTGACA-*.bam\n"
     ]
    },
    {
     "name": "stderr",
     "output_type": "stream",
     "text": [
      "\r",
      "  1%|          | 616/75923 [02:50<4:18:24,  4.86it/s]"
     ]
    },
    {
     "name": "stdout",
     "output_type": "stream",
     "text": [
      "file not done yet ../data/raw/scBam/CB_GTCACGGCATGGATGG-*.bam\n",
      "python /home/isshamie/software/mito-genotyping/exampleProcessing//01_pileup_counts.py ../data/raw/scBam/CB_ACACCAATCCGAAGAG-1.bam ../data/raw/scPileup/CB_ACACCAATCCGAAGAG-1 16571 0 ACACCAATCCGAAGAG-1.bam 0\n"
     ]
    },
    {
     "name": "stderr",
     "output_type": "stream",
     "text": [
      "  1%|          | 619/75923 [02:52<9:07:22,  2.29it/s] "
     ]
    },
    {
     "name": "stdout",
     "output_type": "stream",
     "text": [
      "file not done yet ../data/raw/scBam/CB_AGGGATGGTCGGGTCT-*.bam\n",
      "file not done yet ../data/raw/scBam/CB_AGTGGGACAATAGAGT-*.bam\n"
     ]
    },
    {
     "name": "stderr",
     "output_type": "stream",
     "text": [
      "  1%|          | 621/75923 [02:52<6:05:53,  3.43it/s]"
     ]
    },
    {
     "name": "stdout",
     "output_type": "stream",
     "text": [
      "file not done yet ../data/raw/scBam/CB_AGCTCTCGTCTAGGTT-*.bam\n",
      "file not done yet ../data/raw/scBam/CB_GCCTCTAAGGCTCAGA-*.bam\n"
     ]
    },
    {
     "name": "stderr",
     "output_type": "stream",
     "text": [
      "  1%|          | 623/75923 [02:53<5:00:32,  4.18it/s]"
     ]
    },
    {
     "name": "stdout",
     "output_type": "stream",
     "text": [
      "file not done yet ../data/raw/scBam/CB_ATAAGAGTCGGAAATA-*.bam\n",
      "file not done yet ../data/raw/scBam/CB_TGACGGCTCGGATGTT-*.bam\n"
     ]
    },
    {
     "name": "stderr",
     "output_type": "stream",
     "text": [
      "\r",
      "  1%|          | 624/75923 [02:53<4:25:12,  4.73it/s]"
     ]
    },
    {
     "name": "stdout",
     "output_type": "stream",
     "text": [
      "file not done yet ../data/raw/scBam/CB_CCTACACGTAAGTGGC-*.bam\n"
     ]
    },
    {
     "name": "stderr",
     "output_type": "stream",
     "text": [
      "  1%|          | 626/75923 [02:53<4:10:40,  5.01it/s]"
     ]
    },
    {
     "name": "stdout",
     "output_type": "stream",
     "text": [
      "file not done yet ../data/raw/scBam/CB_CAACCTCAGCGTTTAC-*.bam\n",
      "file not done yet ../data/raw/scBam/CB_ATCATCTGTGGTAACG-*.bam\n"
     ]
    },
    {
     "name": "stderr",
     "output_type": "stream",
     "text": [
      "  1%|          | 628/75923 [02:54<3:43:10,  5.62it/s]"
     ]
    },
    {
     "name": "stdout",
     "output_type": "stream",
     "text": [
      "file not done yet ../data/raw/scBam/CB_CAGATCAAGCGTTTAC-*.bam\n",
      "file not done yet ../data/raw/scBam/CB_ACGTCAAAGCGTCTAT-*.bam\n"
     ]
    },
    {
     "name": "stderr",
     "output_type": "stream",
     "text": [
      "  1%|          | 630/75923 [02:54<4:08:38,  5.05it/s]"
     ]
    },
    {
     "name": "stdout",
     "output_type": "stream",
     "text": [
      "file not done yet ../data/raw/scBam/CB_CATGACAAGATATGGT-*.bam\n",
      "file not done yet ../data/raw/scBam/CB_CGACTTCAGGATGTAT-*.bam\n"
     ]
    },
    {
     "name": "stderr",
     "output_type": "stream",
     "text": [
      "  1%|          | 632/75923 [02:54<3:53:30,  5.37it/s]"
     ]
    },
    {
     "name": "stdout",
     "output_type": "stream",
     "text": [
      "file not done yet ../data/raw/scBam/CB_CTGAAACCATGTAAGA-*.bam\n",
      "file not done yet ../data/raw/scBam/CB_CTGCGGATCTCTTATG-*.bam\n"
     ]
    },
    {
     "name": "stderr",
     "output_type": "stream",
     "text": [
      "  1%|          | 634/75923 [02:55<3:36:35,  5.79it/s]"
     ]
    },
    {
     "name": "stdout",
     "output_type": "stream",
     "text": [
      "file not done yet ../data/raw/scBam/CB_ACATGGTTCACGCATA-*.bam\n",
      "file not done yet ../data/raw/scBam/CB_GTTCGGGAGGCGTACA-*.bam\n",
      "python /home/isshamie/software/mito-genotyping/exampleProcessing//01_pileup_counts.py ../data/raw/scBam/CB_ACAGCCGCAGTCAGCC-1.bam ../data/raw/scPileup/CB_ACAGCCGCAGTCAGCC-1 16571 0 ACAGCCGCAGTCAGCC-1.bam 0\n"
     ]
    },
    {
     "name": "stderr",
     "output_type": "stream",
     "text": [
      "  1%|          | 636/75923 [02:56<10:18:55,  2.03it/s]"
     ]
    },
    {
     "name": "stdout",
     "output_type": "stream",
     "text": [
      "file not done yet ../data/raw/scBam/CB_TTGTAGGCAGATAATG-*.bam\n",
      "python /home/isshamie/software/mito-genotyping/exampleProcessing//01_pileup_counts.py ../data/raw/scBam/CB_AAGTCTGCAAATTGCC-1.bam ../data/raw/scPileup/CB_AAGTCTGCAAATTGCC-1 16571 0 AAGTCTGCAAATTGCC-1.bam 0\n"
     ]
    },
    {
     "name": "stderr",
     "output_type": "stream",
     "text": [
      "  1%|          | 639/75923 [02:58<9:53:50,  2.11it/s] "
     ]
    },
    {
     "name": "stdout",
     "output_type": "stream",
     "text": [
      "file not done yet ../data/raw/scBam/CB_CTCTGGTCAGACAGGT-*.bam\n",
      "file not done yet ../data/raw/scBam/CB_GATCAGTTCTTCATGT-*.bam\n"
     ]
    },
    {
     "name": "stderr",
     "output_type": "stream",
     "text": [
      "  1%|          | 641/75923 [02:59<6:38:58,  3.14it/s]"
     ]
    },
    {
     "name": "stdout",
     "output_type": "stream",
     "text": [
      "file not done yet ../data/raw/scBam/CB_GTAGGCCTCAGGATCT-*.bam\n",
      "file not done yet ../data/raw/scBam/CB_GGCAATTTCTTATCTG-*.bam\n"
     ]
    },
    {
     "name": "stderr",
     "output_type": "stream",
     "text": [
      "\r",
      "  1%|          | 642/75923 [02:59<5:44:01,  3.65it/s]"
     ]
    },
    {
     "name": "stdout",
     "output_type": "stream",
     "text": [
      "file not done yet ../data/raw/scBam/CB_CTCGAAAAGCTCAACT-*.bam\n"
     ]
    },
    {
     "name": "stderr",
     "output_type": "stream",
     "text": [
      "  1%|          | 644/75923 [02:59<4:57:52,  4.21it/s]"
     ]
    },
    {
     "name": "stdout",
     "output_type": "stream",
     "text": [
      "file not done yet ../data/raw/scBam/CB_GTCGTAAAGCTCTCGG-*.bam\n",
      "file not done yet ../data/raw/scBam/CB_TCTATTGGTTGTCTTT-*.bam\n"
     ]
    },
    {
     "name": "stderr",
     "output_type": "stream",
     "text": [
      "\r",
      "  1%|          | 645/75923 [02:59<4:30:56,  4.63it/s]"
     ]
    },
    {
     "name": "stdout",
     "output_type": "stream",
     "text": [
      "file not done yet ../data/raw/scBam/CB_CACTCCAAGCTCAACT-*.bam\n"
     ]
    },
    {
     "name": "stderr",
     "output_type": "stream",
     "text": [
      "  1%|          | 648/75923 [03:00<3:46:29,  5.54it/s]"
     ]
    },
    {
     "name": "stdout",
     "output_type": "stream",
     "text": [
      "file not done yet ../data/raw/scBam/CB_TCAGCTCGTCTAGCGC-*.bam\n",
      "file not done yet ../data/raw/scBam/CB_CCTACACGTGCACGAA-*.bam\n",
      "file not done yet ../data/raw/scBam/CB_CGAGCACCACATTAGC-*.bam\n"
     ]
    },
    {
     "name": "stderr",
     "output_type": "stream",
     "text": [
      "  1%|          | 650/75923 [03:00<3:38:23,  5.74it/s]"
     ]
    },
    {
     "name": "stdout",
     "output_type": "stream",
     "text": [
      "file not done yet ../data/raw/scBam/CB_GTGTTAGTCGGCTACG-*.bam\n",
      "file not done yet ../data/raw/scBam/CB_CAAGGCCCATTATCTC-*.bam\n"
     ]
    },
    {
     "name": "stderr",
     "output_type": "stream",
     "text": [
      "  1%|          | 652/75923 [03:01<3:42:13,  5.65it/s]"
     ]
    },
    {
     "name": "stdout",
     "output_type": "stream",
     "text": [
      "file not done yet ../data/raw/scBam/CB_TACGGGCCAGATGAGC-*.bam\n",
      "file not done yet ../data/raw/scBam/CB_GGAACTTCAACGATCT-*.bam\n"
     ]
    },
    {
     "name": "stderr",
     "output_type": "stream",
     "text": [
      "  1%|          | 654/75923 [03:01<3:27:26,  6.05it/s]"
     ]
    },
    {
     "name": "stdout",
     "output_type": "stream",
     "text": [
      "file not done yet ../data/raw/scBam/CB_GTGCTTCGTCGGGTCT-*.bam\n",
      "file not done yet ../data/raw/scBam/CB_GTAACTGCAGCGTAAG-*.bam\n"
     ]
    },
    {
     "name": "stderr",
     "output_type": "stream",
     "text": [
      "  1%|          | 656/75923 [03:01<3:55:06,  5.34it/s]"
     ]
    },
    {
     "name": "stdout",
     "output_type": "stream",
     "text": [
      "file not done yet ../data/raw/scBam/CB_AGCATACCACGTAAGG-*.bam\n",
      "file not done yet ../data/raw/scBam/CB_GGAGCAAGTGCCTGGT-*.bam\n"
     ]
    },
    {
     "name": "stderr",
     "output_type": "stream",
     "text": [
      "  1%|          | 658/75923 [03:02<3:43:03,  5.62it/s]"
     ]
    },
    {
     "name": "stdout",
     "output_type": "stream",
     "text": [
      "file not done yet ../data/raw/scBam/CB_GTTACAGTCTCCCTGA-*.bam\n",
      "file not done yet ../data/raw/scBam/CB_ACGATGTGTTGAGTTC-*.bam\n"
     ]
    },
    {
     "name": "stderr",
     "output_type": "stream",
     "text": [
      "  1%|          | 660/75923 [03:02<3:46:28,  5.54it/s]"
     ]
    },
    {
     "name": "stdout",
     "output_type": "stream",
     "text": [
      "file not done yet ../data/raw/scBam/CB_TTGCCGTCAGCCTATA-*.bam\n",
      "file not done yet ../data/raw/scBam/CB_GACTACAGTTCAACCA-*.bam\n"
     ]
    },
    {
     "name": "stderr",
     "output_type": "stream",
     "text": [
      "  1%|          | 662/75923 [03:02<4:22:51,  4.77it/s]"
     ]
    },
    {
     "name": "stdout",
     "output_type": "stream",
     "text": [
      "file not done yet ../data/raw/scBam/CB_CAGTAACAGAGCTGGT-*.bam\n",
      "file not done yet ../data/raw/scBam/CB_CTGTGCTTCATGCATG-*.bam\n"
     ]
    },
    {
     "name": "stderr",
     "output_type": "stream",
     "text": [
      "  1%|          | 664/75923 [03:03<4:11:38,  4.98it/s]"
     ]
    },
    {
     "name": "stdout",
     "output_type": "stream",
     "text": [
      "file not done yet ../data/raw/scBam/CB_GGATTACTCAGAGGTG-*.bam\n",
      "file not done yet ../data/raw/scBam/CB_TACGGTAAGTGACATA-*.bam\n"
     ]
    },
    {
     "name": "stderr",
     "output_type": "stream",
     "text": [
      "  1%|          | 666/75923 [03:03<3:46:12,  5.54it/s]"
     ]
    },
    {
     "name": "stdout",
     "output_type": "stream",
     "text": [
      "file not done yet ../data/raw/scBam/CB_CACACAACACGACGAA-*.bam\n",
      "file not done yet ../data/raw/scBam/CB_CACATTTAGTACTTGC-*.bam\n"
     ]
    },
    {
     "name": "stderr",
     "output_type": "stream",
     "text": [
      "\r",
      "  1%|          | 667/75923 [03:03<3:59:05,  5.25it/s]"
     ]
    },
    {
     "name": "stdout",
     "output_type": "stream",
     "text": [
      "file not done yet ../data/raw/scBam/CB_AGTGAGGTCGGAAATA-*.bam\n"
     ]
    },
    {
     "name": "stderr",
     "output_type": "stream",
     "text": [
      "  1%|          | 669/75923 [03:04<3:55:18,  5.33it/s]"
     ]
    },
    {
     "name": "stdout",
     "output_type": "stream",
     "text": [
      "file not done yet ../data/raw/scBam/CB_GGTGAAGGTGGTCTCG-*.bam\n",
      "file not done yet ../data/raw/scBam/CB_TCATTACTCATTCACT-*.bam\n",
      "python /home/isshamie/software/mito-genotyping/exampleProcessing//01_pileup_counts.py ../data/raw/scBam/CB_ACACCGGTCCTTGGTC-1.bam ../data/raw/scPileup/CB_ACACCGGTCCTTGGTC-1 16571 0 ACACCGGTCCTTGGTC-1.bam 0\n"
     ]
    },
    {
     "name": "stderr",
     "output_type": "stream",
     "text": [
      "  1%|          | 671/75923 [03:05<8:46:01,  2.38it/s] "
     ]
    },
    {
     "name": "stdout",
     "output_type": "stream",
     "text": [
      "file not done yet ../data/raw/scBam/CB_GCGACCAGTACTCGCG-*.bam\n"
     ]
    },
    {
     "name": "stderr",
     "output_type": "stream",
     "text": [
      "\r",
      "  1%|          | 672/75923 [03:06<9:34:56,  2.18it/s]"
     ]
    },
    {
     "name": "stdout",
     "output_type": "stream",
     "text": [
      "file not done yet ../data/raw/scBam/CB_CATTCGCGTATCAGTC-*.bam\n"
     ]
    },
    {
     "name": "stderr",
     "output_type": "stream",
     "text": [
      "\r",
      "  1%|          | 673/75923 [03:06<8:44:59,  2.39it/s]"
     ]
    },
    {
     "name": "stdout",
     "output_type": "stream",
     "text": [
      "file not done yet ../data/raw/scBam/CB_GACCTGGCAATTGCTG-*.bam\n"
     ]
    },
    {
     "name": "stderr",
     "output_type": "stream",
     "text": [
      "  1%|          | 675/75923 [03:07<6:26:26,  3.25it/s]"
     ]
    },
    {
     "name": "stdout",
     "output_type": "stream",
     "text": [
      "file not done yet ../data/raw/scBam/CB_CGCTTCACAAAGGTGC-*.bam\n",
      "file not done yet ../data/raw/scBam/CB_TGCCCTAGTTCAGCGC-*.bam\n"
     ]
    },
    {
     "name": "stderr",
     "output_type": "stream",
     "text": [
      "  1%|          | 677/75923 [03:07<5:04:01,  4.13it/s]"
     ]
    },
    {
     "name": "stdout",
     "output_type": "stream",
     "text": [
      "file not done yet ../data/raw/scBam/CB_TAGAGCTAGAGAGCTC-*.bam\n",
      "file not done yet ../data/raw/scBam/CB_CTCGTCATCATACGGT-*.bam\n"
     ]
    },
    {
     "name": "stderr",
     "output_type": "stream",
     "text": [
      "  1%|          | 679/75923 [03:07<4:22:33,  4.78it/s]"
     ]
    },
    {
     "name": "stdout",
     "output_type": "stream",
     "text": [
      "file not done yet ../data/raw/scBam/CB_GGGCACTGTGTGACGA-*.bam\n",
      "file not done yet ../data/raw/scBam/CB_ATCTGCCGTGAGGCTA-*.bam\n"
     ]
    },
    {
     "name": "stderr",
     "output_type": "stream",
     "text": [
      "  1%|          | 681/75923 [03:08<4:11:07,  4.99it/s]"
     ]
    },
    {
     "name": "stdout",
     "output_type": "stream",
     "text": [
      "file not done yet ../data/raw/scBam/CB_TGCCCATAGGGTCTCC-*.bam\n",
      "file not done yet ../data/raw/scBam/CB_CTCGTCAGTTGTCGCG-*.bam\n"
     ]
    },
    {
     "name": "stderr",
     "output_type": "stream",
     "text": [
      "  1%|          | 683/75923 [03:08<3:58:40,  5.25it/s]"
     ]
    },
    {
     "name": "stdout",
     "output_type": "stream",
     "text": [
      "file not done yet ../data/raw/scBam/CB_AGCGGTCGTTCAGTAC-*.bam\n",
      "file not done yet ../data/raw/scBam/CB_TAGAGCTCAAGTTGTC-*.bam\n"
     ]
    },
    {
     "name": "stderr",
     "output_type": "stream",
     "text": [
      "  1%|          | 685/75923 [03:08<4:05:24,  5.11it/s]"
     ]
    },
    {
     "name": "stdout",
     "output_type": "stream",
     "text": [
      "file not done yet ../data/raw/scBam/CB_GGCAATTCACTAAGTC-*.bam\n",
      "file not done yet ../data/raw/scBam/CB_AGTCTTTCACGCCAGT-*.bam\n"
     ]
    },
    {
     "name": "stderr",
     "output_type": "stream",
     "text": [
      "\r",
      "  1%|          | 686/75923 [03:09<3:50:39,  5.44it/s]"
     ]
    },
    {
     "name": "stdout",
     "output_type": "stream",
     "text": [
      "file not done yet ../data/raw/scBam/CB_CGGAGCTAGCGCCTTG-*.bam\n"
     ]
    },
    {
     "name": "stderr",
     "output_type": "stream",
     "text": [
      "  1%|          | 688/75923 [03:09<3:35:03,  5.83it/s]"
     ]
    },
    {
     "name": "stdout",
     "output_type": "stream",
     "text": [
      "file not done yet ../data/raw/scBam/CB_CGATTGACATGCAACT-*.bam\n",
      "file not done yet ../data/raw/scBam/CB_GCGCAACAGCCATCGC-*.bam\n"
     ]
    },
    {
     "name": "stderr",
     "output_type": "stream",
     "text": [
      "  1%|          | 690/75923 [03:09<3:28:40,  6.01it/s]"
     ]
    },
    {
     "name": "stdout",
     "output_type": "stream",
     "text": [
      "file not done yet ../data/raw/scBam/CB_AGCCTAAGTATCACCA-*.bam\n",
      "file not done yet ../data/raw/scBam/CB_GCTGGGTCATCGGTTA-*.bam\n"
     ]
    },
    {
     "name": "stderr",
     "output_type": "stream",
     "text": [
      "\r",
      "  1%|          | 691/75923 [03:09<3:36:15,  5.80it/s]"
     ]
    },
    {
     "name": "stdout",
     "output_type": "stream",
     "text": [
      "file not done yet ../data/raw/scBam/CB_ACGATACTCGGCGCAT-*.bam\n",
      "python /home/isshamie/software/mito-genotyping/exampleProcessing//01_pileup_counts.py ../data/raw/scBam/CB_AACTTTCCATTTCAGG-1.bam ../data/raw/scPileup/CB_AACTTTCCATTTCAGG-1 16571 0 AACTTTCCATTTCAGG-1.bam 0\n"
     ]
    },
    {
     "name": "stderr",
     "output_type": "stream",
     "text": [
      "  1%|          | 694/75923 [03:11<7:55:54,  2.63it/s] "
     ]
    },
    {
     "name": "stdout",
     "output_type": "stream",
     "text": [
      "file not done yet ../data/raw/scBam/CB_CGTAGCGTCGCAGGCT-*.bam\n",
      "file not done yet ../data/raw/scBam/CB_CTTAGGAAGGGATCTG-*.bam\n"
     ]
    },
    {
     "name": "stderr",
     "output_type": "stream",
     "text": [
      "  1%|          | 696/75923 [03:12<5:45:58,  3.62it/s]"
     ]
    },
    {
     "name": "stdout",
     "output_type": "stream",
     "text": [
      "file not done yet ../data/raw/scBam/CB_GGATTACTCCACTGGG-*.bam\n",
      "file not done yet ../data/raw/scBam/CB_CAGAGAGGTTCCGTCT-*.bam\n",
      "python /home/isshamie/software/mito-genotyping/exampleProcessing//01_pileup_counts.py ../data/raw/scBam/CB_AACACGTTCTCGATGA-1.bam ../data/raw/scPileup/CB_AACACGTTCTCGATGA-1 16571 0 AACACGTTCTCGATGA-1.bam 0\n"
     ]
    },
    {
     "name": "stderr",
     "output_type": "stream",
     "text": [
      "  1%|          | 699/75923 [03:14<8:52:21,  2.36it/s] "
     ]
    },
    {
     "name": "stdout",
     "output_type": "stream",
     "text": [
      "file not done yet ../data/raw/scBam/CB_CCTTCGAAGCCGGTAA-*.bam\n",
      "file not done yet ../data/raw/scBam/CB_CTAGTGAAGGAGTCTG-*.bam\n"
     ]
    },
    {
     "name": "stderr",
     "output_type": "stream",
     "text": [
      "  1%|          | 701/75923 [03:14<5:49:06,  3.59it/s]"
     ]
    },
    {
     "name": "stdout",
     "output_type": "stream",
     "text": [
      "file not done yet ../data/raw/scBam/CB_CTGCGGATCTCCGGTT-*.bam\n",
      "file not done yet ../data/raw/scBam/CB_GGAACTTTCCACGTGG-*.bam\n"
     ]
    },
    {
     "name": "stderr",
     "output_type": "stream",
     "text": [
      "  1%|          | 703/75923 [03:14<4:20:34,  4.81it/s]"
     ]
    },
    {
     "name": "stdout",
     "output_type": "stream",
     "text": [
      "file not done yet ../data/raw/scBam/CB_ACGAGCCGTCCCGACA-*.bam\n",
      "file not done yet ../data/raw/scBam/CB_AGCTCTCCACCAGTTA-*.bam\n"
     ]
    },
    {
     "name": "stderr",
     "output_type": "stream",
     "text": [
      "  1%|          | 705/75923 [03:15<3:36:00,  5.80it/s]"
     ]
    },
    {
     "name": "stdout",
     "output_type": "stream",
     "text": [
      "file not done yet ../data/raw/scBam/CB_TTGCGTCGTAGCTTGT-*.bam\n",
      "file not done yet ../data/raw/scBam/CB_AGAGCGAGTGTATGGG-*.bam\n"
     ]
    },
    {
     "name": "stderr",
     "output_type": "stream",
     "text": [
      "  1%|          | 707/75923 [03:15<3:40:19,  5.69it/s]"
     ]
    },
    {
     "name": "stdout",
     "output_type": "stream",
     "text": [
      "file not done yet ../data/raw/scBam/CB_ATCATCTCATGGATGG-*.bam\n",
      "file not done yet ../data/raw/scBam/CB_CGGACTGCACACGCTG-*.bam\n"
     ]
    },
    {
     "name": "stderr",
     "output_type": "stream",
     "text": [
      "  1%|          | 709/75923 [03:15<3:32:25,  5.90it/s]"
     ]
    },
    {
     "name": "stdout",
     "output_type": "stream",
     "text": [
      "file not done yet ../data/raw/scBam/CB_CTGCGGACACAGCGTC-*.bam\n",
      "file not done yet ../data/raw/scBam/CB_GGACAGACAAGTACCT-*.bam\n"
     ]
    },
    {
     "name": "stderr",
     "output_type": "stream",
     "text": [
      "  1%|          | 711/75923 [03:16<3:53:18,  5.37it/s]"
     ]
    },
    {
     "name": "stdout",
     "output_type": "stream",
     "text": [
      "file not done yet ../data/raw/scBam/CB_CGTAGGCGTAGCTAAA-*.bam\n",
      "file not done yet ../data/raw/scBam/CB_GTAACTGCAGGAACGT-*.bam\n"
     ]
    },
    {
     "name": "stderr",
     "output_type": "stream",
     "text": [
      "  1%|          | 713/75923 [03:16<4:01:22,  5.19it/s]"
     ]
    },
    {
     "name": "stdout",
     "output_type": "stream",
     "text": [
      "file not done yet ../data/raw/scBam/CB_TACGGGCCACTGTTAG-*.bam\n",
      "file not done yet ../data/raw/scBam/CB_GGCAATTAGAGCCTAG-*.bam\n"
     ]
    },
    {
     "name": "stderr",
     "output_type": "stream",
     "text": [
      "  1%|          | 715/75923 [03:16<3:36:04,  5.80it/s]"
     ]
    },
    {
     "name": "stdout",
     "output_type": "stream",
     "text": [
      "file not done yet ../data/raw/scBam/CB_TAAGCGTTCTGCGACG-*.bam\n",
      "file not done yet ../data/raw/scBam/CB_ACTGTCCGTACGCTGC-*.bam\n"
     ]
    },
    {
     "name": "stderr",
     "output_type": "stream",
     "text": [
      "  1%|          | 717/75923 [03:17<3:45:29,  5.56it/s]"
     ]
    },
    {
     "name": "stdout",
     "output_type": "stream",
     "text": [
      "file not done yet ../data/raw/scBam/CB_GTGTTAGGTCGGGTCT-*.bam\n",
      "file not done yet ../data/raw/scBam/CB_TGTGTTTTCACTTCAT-*.bam\n"
     ]
    },
    {
     "name": "stderr",
     "output_type": "stream",
     "text": [
      "  1%|          | 719/75923 [03:17<3:36:54,  5.78it/s]"
     ]
    },
    {
     "name": "stdout",
     "output_type": "stream",
     "text": [
      "file not done yet ../data/raw/scBam/CB_CGCGGTAGTTTAAGCC-*.bam\n",
      "file not done yet ../data/raw/scBam/CB_TTCCCAGCATCCTAGA-*.bam\n"
     ]
    },
    {
     "name": "stderr",
     "output_type": "stream",
     "text": [
      "  1%|          | 721/75923 [03:17<3:42:29,  5.63it/s]"
     ]
    },
    {
     "name": "stdout",
     "output_type": "stream",
     "text": [
      "file not done yet ../data/raw/scBam/CB_CAGTAACCAGTTCCCT-*.bam\n",
      "file not done yet ../data/raw/scBam/CB_TCGTACCCAGTAAGAT-*.bam\n"
     ]
    },
    {
     "name": "stderr",
     "output_type": "stream",
     "text": [
      "  1%|          | 723/75923 [03:18<3:35:58,  5.80it/s]"
     ]
    },
    {
     "name": "stdout",
     "output_type": "stream",
     "text": [
      "file not done yet ../data/raw/scBam/CB_ATCCGAATCCTTTACA-*.bam\n",
      "file not done yet ../data/raw/scBam/CB_CCCAATCCAGGAATGC-*.bam\n"
     ]
    },
    {
     "name": "stderr",
     "output_type": "stream",
     "text": [
      "  1%|          | 725/75923 [03:18<3:49:13,  5.47it/s]"
     ]
    },
    {
     "name": "stdout",
     "output_type": "stream",
     "text": [
      "file not done yet ../data/raw/scBam/CB_ACGAGCCTCGGAGCAA-*.bam\n",
      "file not done yet ../data/raw/scBam/CB_CACCACTAGAATTGTG-*.bam\n"
     ]
    },
    {
     "name": "stderr",
     "output_type": "stream",
     "text": [
      "\r",
      "  1%|          | 726/75923 [03:18<3:51:36,  5.41it/s]"
     ]
    },
    {
     "name": "stdout",
     "output_type": "stream",
     "text": [
      "file not done yet ../data/raw/scBam/CB_ATAAGAGAGTGGTCCC-*.bam\n"
     ]
    },
    {
     "name": "stderr",
     "output_type": "stream",
     "text": [
      "\r",
      "  1%|          | 727/75923 [03:19<4:16:25,  4.89it/s]"
     ]
    },
    {
     "name": "stdout",
     "output_type": "stream",
     "text": [
      "file not done yet ../data/raw/scBam/CB_CCCTCCTGTAGGACAC-*.bam\n"
     ]
    },
    {
     "name": "stderr",
     "output_type": "stream",
     "text": [
      "\r",
      "  1%|          | 728/75923 [03:19<4:18:27,  4.85it/s]"
     ]
    },
    {
     "name": "stdout",
     "output_type": "stream",
     "text": [
      "file not done yet ../data/raw/scBam/CB_TTAGGCAAGGGTTCCC-*.bam\n"
     ]
    },
    {
     "name": "stderr",
     "output_type": "stream",
     "text": [
      "  1%|          | 730/75923 [03:19<3:58:49,  5.25it/s]"
     ]
    },
    {
     "name": "stdout",
     "output_type": "stream",
     "text": [
      "file not done yet ../data/raw/scBam/CB_CGCTGGATCTAACCGA-*.bam\n",
      "file not done yet ../data/raw/scBam/CB_CCTTTCTCATGCATGT-*.bam\n"
     ]
    },
    {
     "name": "stderr",
     "output_type": "stream",
     "text": [
      "  1%|          | 732/75923 [03:20<4:01:24,  5.19it/s]"
     ]
    },
    {
     "name": "stdout",
     "output_type": "stream",
     "text": [
      "file not done yet ../data/raw/scBam/CB_TATGCCCAGCTGATAA-*.bam\n",
      "file not done yet ../data/raw/scBam/CB_CCTACCATCTCCAACC-*.bam\n"
     ]
    },
    {
     "name": "stderr",
     "output_type": "stream",
     "text": [
      "  1%|          | 734/75923 [03:20<3:43:02,  5.62it/s]"
     ]
    },
    {
     "name": "stdout",
     "output_type": "stream",
     "text": [
      "file not done yet ../data/raw/scBam/CB_CATCGGGGTATAGGTA-*.bam\n",
      "file not done yet ../data/raw/scBam/CB_GGCGTGTGTGCATCTA-*.bam\n",
      "python /home/isshamie/software/mito-genotyping/exampleProcessing//01_pileup_counts.py ../data/raw/scBam/CB_AACACGTTCTTGCCGT-1.bam ../data/raw/scPileup/CB_AACACGTTCTTGCCGT-1 16571 0 AACACGTTCTTGCCGT-1.bam 0\n"
     ]
    },
    {
     "name": "stderr",
     "output_type": "stream",
     "text": [
      "  1%|          | 737/75923 [03:22<10:02:16,  2.08it/s]"
     ]
    },
    {
     "name": "stdout",
     "output_type": "stream",
     "text": [
      "file not done yet ../data/raw/scBam/CB_TTTCCTCCAACGATCT-*.bam\n",
      "file not done yet ../data/raw/scBam/CB_TGAGCCGAGGCGACAT-*.bam\n"
     ]
    },
    {
     "name": "stderr",
     "output_type": "stream",
     "text": [
      "\r",
      "  1%|          | 738/75923 [03:23<8:10:42,  2.55it/s] "
     ]
    },
    {
     "name": "stdout",
     "output_type": "stream",
     "text": [
      "file not done yet ../data/raw/scBam/CB_CTCGTCACATCCTAGA-*.bam\n"
     ]
    },
    {
     "name": "stderr",
     "output_type": "stream",
     "text": [
      "  1%|          | 740/75923 [03:23<5:59:44,  3.48it/s]"
     ]
    },
    {
     "name": "stdout",
     "output_type": "stream",
     "text": [
      "file not done yet ../data/raw/scBam/CB_CAAGAAATCGAACTGT-*.bam\n",
      "file not done yet ../data/raw/scBam/CB_GTCTTCGGTCCGAAGA-*.bam\n"
     ]
    },
    {
     "name": "stderr",
     "output_type": "stream",
     "text": [
      "  1%|          | 742/75923 [03:23<4:46:00,  4.38it/s]"
     ]
    },
    {
     "name": "stdout",
     "output_type": "stream",
     "text": [
      "file not done yet ../data/raw/scBam/CB_CGTAGGCTCCTTTCTC-*.bam\n",
      "file not done yet ../data/raw/scBam/CB_CGCTATCTCTGGGCCA-*.bam\n"
     ]
    },
    {
     "name": "stderr",
     "output_type": "stream",
     "text": [
      "  1%|          | 744/75923 [03:24<4:01:57,  5.18it/s]"
     ]
    },
    {
     "name": "stdout",
     "output_type": "stream",
     "text": [
      "file not done yet ../data/raw/scBam/CB_CGATCGGTCTACGAGT-*.bam\n",
      "file not done yet ../data/raw/scBam/CB_CAGAATCGTCCAGTTA-*.bam\n"
     ]
    },
    {
     "name": "stderr",
     "output_type": "stream",
     "text": [
      "  1%|          | 746/75923 [03:24<4:04:46,  5.12it/s]"
     ]
    },
    {
     "name": "stdout",
     "output_type": "stream",
     "text": [
      "file not done yet ../data/raw/scBam/CB_AGCGTATAGAGGGATA-*.bam\n",
      "file not done yet ../data/raw/scBam/CB_GCATGTAGTAAGGGCT-*.bam\n"
     ]
    },
    {
     "name": "stderr",
     "output_type": "stream",
     "text": [
      "  1%|          | 748/75923 [03:24<3:49:01,  5.47it/s]"
     ]
    },
    {
     "name": "stdout",
     "output_type": "stream",
     "text": [
      "file not done yet ../data/raw/scBam/CB_CGACCTTGTTCACGGC-*.bam\n",
      "file not done yet ../data/raw/scBam/CB_TCGCGTTGTATCTGCA-*.bam\n"
     ]
    },
    {
     "name": "stderr",
     "output_type": "stream",
     "text": [
      "  1%|          | 750/75923 [03:25<3:42:49,  5.62it/s]"
     ]
    },
    {
     "name": "stdout",
     "output_type": "stream",
     "text": [
      "file not done yet ../data/raw/scBam/CB_GTCTTCGGTTAAGAAC-*.bam\n",
      "file not done yet ../data/raw/scBam/CB_AGGCCACCACATCCAA-*.bam\n"
     ]
    },
    {
     "name": "stderr",
     "output_type": "stream",
     "text": [
      "\r",
      "  1%|          | 751/75923 [03:25<3:34:52,  5.83it/s]"
     ]
    },
    {
     "name": "stdout",
     "output_type": "stream",
     "text": [
      "file not done yet ../data/raw/scBam/CB_CGAACATAGACGACGT-*.bam\n",
      "python /home/isshamie/software/mito-genotyping/exampleProcessing//01_pileup_counts.py ../data/raw/scBam/CB_AAAGATGTCAACGGCC-1.bam ../data/raw/scPileup/CB_AAAGATGTCAACGGCC-1 16571 0 AAAGATGTCAACGGCC-1.bam 0\n"
     ]
    },
    {
     "name": "stderr",
     "output_type": "stream",
     "text": [
      "  1%|          | 753/75923 [03:27<10:55:13,  1.91it/s]"
     ]
    },
    {
     "name": "stdout",
     "output_type": "stream",
     "text": [
      "file not done yet ../data/raw/scBam/CB_TCACAAGGTTTCGCTC-*.bam\n"
     ]
    },
    {
     "name": "stderr",
     "output_type": "stream",
     "text": [
      "  1%|          | 756/75923 [03:27<5:54:59,  3.53it/s] "
     ]
    },
    {
     "name": "stdout",
     "output_type": "stream",
     "text": [
      "file not done yet ../data/raw/scBam/CB_CAACCAAAGGATGCGT-*.bam\n",
      "file not done yet ../data/raw/scBam/CB_CGTCAGGTCCTGCTTG-*.bam\n",
      "file not done yet ../data/raw/scBam/CB_CGCTATCGTGTTCTTT-*.bam\n"
     ]
    },
    {
     "name": "stderr",
     "output_type": "stream",
     "text": [
      "  1%|          | 758/75923 [03:28<4:36:18,  4.53it/s]"
     ]
    },
    {
     "name": "stdout",
     "output_type": "stream",
     "text": [
      "file not done yet ../data/raw/scBam/CB_TAGGCATCAGTGACAG-*.bam\n",
      "file not done yet ../data/raw/scBam/CB_GTAGTCAAGATCACGG-*.bam\n"
     ]
    },
    {
     "name": "stderr",
     "output_type": "stream",
     "text": [
      "  1%|          | 760/75923 [03:28<4:16:20,  4.89it/s]"
     ]
    },
    {
     "name": "stdout",
     "output_type": "stream",
     "text": [
      "file not done yet ../data/raw/scBam/CB_CTTAGGAAGGGCTTGA-*.bam\n",
      "file not done yet ../data/raw/scBam/CB_GTGTTAGTCAGCAACT-*.bam\n"
     ]
    },
    {
     "name": "stderr",
     "output_type": "stream",
     "text": [
      "  1%|          | 762/75923 [03:28<3:53:30,  5.36it/s]"
     ]
    },
    {
     "name": "stdout",
     "output_type": "stream",
     "text": [
      "file not done yet ../data/raw/scBam/CB_GAAACTCTCGGCCGAT-*.bam\n",
      "file not done yet ../data/raw/scBam/CB_TTAGGACCAAGCCGCT-*.bam\n"
     ]
    },
    {
     "name": "stderr",
     "output_type": "stream",
     "text": [
      "  1%|          | 764/75923 [03:29<3:48:53,  5.47it/s]"
     ]
    },
    {
     "name": "stdout",
     "output_type": "stream",
     "text": [
      "file not done yet ../data/raw/scBam/CB_ACTATCTTCAGAGACG-*.bam\n",
      "file not done yet ../data/raw/scBam/CB_CGAACATCACCCAGTG-*.bam\n"
     ]
    },
    {
     "name": "stderr",
     "output_type": "stream",
     "text": [
      "  1%|          | 766/75923 [03:29<3:32:01,  5.91it/s]"
     ]
    },
    {
     "name": "stdout",
     "output_type": "stream",
     "text": [
      "file not done yet ../data/raw/scBam/CB_GTGTGCGCATATGGTC-*.bam\n",
      "file not done yet ../data/raw/scBam/CB_CTCACACTCTGTTGAG-*.bam\n"
     ]
    },
    {
     "name": "stderr",
     "output_type": "stream",
     "text": [
      "  1%|          | 768/75923 [03:29<3:19:05,  6.29it/s]"
     ]
    },
    {
     "name": "stdout",
     "output_type": "stream",
     "text": [
      "file not done yet ../data/raw/scBam/CB_ACATCAGAGGCTCAGA-*.bam\n",
      "file not done yet ../data/raw/scBam/CB_TGCGCAGGTAGCTCCG-*.bam\n"
     ]
    },
    {
     "name": "stderr",
     "output_type": "stream",
     "text": [
      "  1%|          | 770/75923 [03:30<3:08:29,  6.65it/s]"
     ]
    },
    {
     "name": "stdout",
     "output_type": "stream",
     "text": [
      "file not done yet ../data/raw/scBam/CB_GAGGTGAAGATCTGCT-*.bam\n",
      "file not done yet ../data/raw/scBam/CB_CGCGGTAGTACAGACG-*.bam\n"
     ]
    },
    {
     "name": "stderr",
     "output_type": "stream",
     "text": [
      "  1%|          | 772/75923 [03:30<3:10:56,  6.56it/s]"
     ]
    },
    {
     "name": "stdout",
     "output_type": "stream",
     "text": [
      "file not done yet ../data/raw/scBam/CB_GCATGATTCCGCTGTT-*.bam\n",
      "file not done yet ../data/raw/scBam/CB_ATCTGCCTCATTGCCC-*.bam\n"
     ]
    },
    {
     "name": "stderr",
     "output_type": "stream",
     "text": [
      "  1%|          | 774/75923 [03:30<3:23:02,  6.17it/s]"
     ]
    },
    {
     "name": "stdout",
     "output_type": "stream",
     "text": [
      "file not done yet ../data/raw/scBam/CB_GACTAACAGTGCCATT-*.bam\n",
      "file not done yet ../data/raw/scBam/CB_TTGACTTTCAAGGCTT-*.bam\n"
     ]
    },
    {
     "name": "stderr",
     "output_type": "stream",
     "text": [
      "\r",
      "  1%|          | 775/75923 [03:31<3:15:22,  6.41it/s]"
     ]
    },
    {
     "name": "stdout",
     "output_type": "stream",
     "text": [
      "file not done yet ../data/raw/scBam/CB_AGATCTGTCTACTTAC-*.bam\n"
     ]
    },
    {
     "name": "stderr",
     "output_type": "stream",
     "text": [
      "  1%|          | 778/75923 [03:31<3:31:58,  5.91it/s]"
     ]
    },
    {
     "name": "stdout",
     "output_type": "stream",
     "text": [
      "file not done yet ../data/raw/scBam/CB_GCATACACAAACGCGA-*.bam\n",
      "file not done yet ../data/raw/scBam/CB_GCTGCAGCAGCCTATA-*.bam\n",
      "file not done yet ../data/raw/scBam/CB_TCAGGTACACGAAATA-*.bam\n"
     ]
    },
    {
     "name": "stderr",
     "output_type": "stream",
     "text": [
      "\r",
      "  1%|          | 779/75923 [03:31<3:41:34,  5.65it/s]"
     ]
    },
    {
     "name": "stdout",
     "output_type": "stream",
     "text": [
      "file not done yet ../data/raw/scBam/CB_GCACTCTTCTAACCGA-*.bam\n"
     ]
    },
    {
     "name": "stderr",
     "output_type": "stream",
     "text": [
      "  1%|          | 781/75923 [03:32<3:41:01,  5.67it/s]"
     ]
    },
    {
     "name": "stdout",
     "output_type": "stream",
     "text": [
      "file not done yet ../data/raw/scBam/CB_CATGGCGTCATAACCG-*.bam\n",
      "file not done yet ../data/raw/scBam/CB_CGGACACTCAAACAAG-*.bam\n"
     ]
    },
    {
     "name": "stderr",
     "output_type": "stream",
     "text": [
      "  1%|          | 783/75923 [03:32<3:51:04,  5.42it/s]"
     ]
    },
    {
     "name": "stdout",
     "output_type": "stream",
     "text": [
      "file not done yet ../data/raw/scBam/CB_GCATGCGGTCTAAAGA-*.bam\n",
      "file not done yet ../data/raw/scBam/CB_ACCCACTGTACAAGTA-*.bam\n"
     ]
    },
    {
     "name": "stderr",
     "output_type": "stream",
     "text": [
      "  1%|          | 785/75923 [03:32<3:35:41,  5.81it/s]"
     ]
    },
    {
     "name": "stdout",
     "output_type": "stream",
     "text": [
      "file not done yet ../data/raw/scBam/CB_CTGCTGTAGCGGCTTC-*.bam\n",
      "file not done yet ../data/raw/scBam/CB_TGCACCTCACATCCGG-*.bam\n"
     ]
    },
    {
     "name": "stderr",
     "output_type": "stream",
     "text": [
      "  1%|          | 787/75923 [03:33<3:44:00,  5.59it/s]"
     ]
    },
    {
     "name": "stdout",
     "output_type": "stream",
     "text": [
      "file not done yet ../data/raw/scBam/CB_GTCCTCAAGTAGCCGA-*.bam\n",
      "file not done yet ../data/raw/scBam/CB_CACACAAAGCTAGTTC-*.bam\n"
     ]
    },
    {
     "name": "stderr",
     "output_type": "stream",
     "text": [
      "  1%|          | 789/75923 [03:33<3:42:20,  5.63it/s]"
     ]
    },
    {
     "name": "stdout",
     "output_type": "stream",
     "text": [
      "file not done yet ../data/raw/scBam/CB_TGAAAGAGTTGTACAC-*.bam\n",
      "file not done yet ../data/raw/scBam/CB_CTTCTCTTCGTCCGTT-*.bam\n"
     ]
    },
    {
     "name": "stderr",
     "output_type": "stream",
     "text": [
      "  1%|          | 791/75923 [03:33<3:29:39,  5.97it/s]"
     ]
    },
    {
     "name": "stdout",
     "output_type": "stream",
     "text": [
      "file not done yet ../data/raw/scBam/CB_CACATTTAGCAAATCA-*.bam\n",
      "file not done yet ../data/raw/scBam/CB_TCACGAAAGTGGGATC-*.bam\n"
     ]
    },
    {
     "name": "stderr",
     "output_type": "stream",
     "text": [
      "  1%|          | 793/75923 [03:34<3:17:04,  6.35it/s]"
     ]
    },
    {
     "name": "stdout",
     "output_type": "stream",
     "text": [
      "file not done yet ../data/raw/scBam/CB_GACCTGGTCAGAGACG-*.bam\n",
      "file not done yet ../data/raw/scBam/CB_CTGGTCTGTTGGTAAA-*.bam\n",
      "python /home/isshamie/software/mito-genotyping/exampleProcessing//01_pileup_counts.py ../data/raw/scBam/CB_AAACCTGCAGTGGAGT-1.bam ../data/raw/scPileup/CB_AAACCTGCAGTGGAGT-1 16571 0 AAACCTGCAGTGGAGT-1.bam 0\n"
     ]
    },
    {
     "name": "stderr",
     "output_type": "stream",
     "text": [
      "  1%|          | 796/75923 [03:35<7:21:40,  2.83it/s] "
     ]
    },
    {
     "name": "stdout",
     "output_type": "stream",
     "text": [
      "file not done yet ../data/raw/scBam/CB_ATCTGCCTCTTGGGTA-*.bam\n",
      "file not done yet ../data/raw/scBam/CB_GACTGCGTCATGTGGT-*.bam\n"
     ]
    },
    {
     "name": "stderr",
     "output_type": "stream",
     "text": [
      "  1%|          | 798/75923 [03:36<5:28:23,  3.81it/s]"
     ]
    },
    {
     "name": "stdout",
     "output_type": "stream",
     "text": [
      "file not done yet ../data/raw/scBam/CB_ACTTTCAGTCACAAGG-*.bam\n",
      "file not done yet ../data/raw/scBam/CB_CGGACGTCAATGAAAC-*.bam\n"
     ]
    },
    {
     "name": "stderr",
     "output_type": "stream",
     "text": [
      "  1%|          | 800/75923 [03:36<4:28:45,  4.66it/s]"
     ]
    },
    {
     "name": "stdout",
     "output_type": "stream",
     "text": [
      "file not done yet ../data/raw/scBam/CB_TGTGGTAGTCAGAGGT-*.bam\n",
      "file not done yet ../data/raw/scBam/CB_CTACACCTCAGCACAT-*.bam\n",
      "python /home/isshamie/software/mito-genotyping/exampleProcessing//01_pileup_counts.py ../data/raw/scBam/CB_ACACTGAGTTTGTGTG-1.bam ../data/raw/scPileup/CB_ACACTGAGTTTGTGTG-1 16571 0 ACACTGAGTTTGTGTG-1.bam 0\n"
     ]
    },
    {
     "name": "stderr",
     "output_type": "stream",
     "text": [
      "  1%|          | 803/75923 [03:38<9:33:55,  2.18it/s] "
     ]
    },
    {
     "name": "stdout",
     "output_type": "stream",
     "text": [
      "file not done yet ../data/raw/scBam/CB_TTCGGTCCAGGGATTG-*.bam\n",
      "file not done yet ../data/raw/scBam/CB_GATGCTACAAGGGTCA-*.bam\n"
     ]
    },
    {
     "name": "stderr",
     "output_type": "stream",
     "text": [
      "  1%|          | 805/75923 [03:39<6:31:54,  3.19it/s]"
     ]
    },
    {
     "name": "stdout",
     "output_type": "stream",
     "text": [
      "file not done yet ../data/raw/scBam/CB_GGCAATTCATACGCCG-*.bam\n",
      "file not done yet ../data/raw/scBam/CB_ACCGTAACACCGCTAG-*.bam\n"
     ]
    },
    {
     "name": "stderr",
     "output_type": "stream",
     "text": [
      "  1%|          | 807/75923 [03:39<4:49:52,  4.32it/s]"
     ]
    },
    {
     "name": "stdout",
     "output_type": "stream",
     "text": [
      "file not done yet ../data/raw/scBam/CB_GGCGTGTGTGAGCGAT-*.bam\n",
      "file not done yet ../data/raw/scBam/CB_TGAGCCGCAGGTCGTC-*.bam\n"
     ]
    },
    {
     "name": "stderr",
     "output_type": "stream",
     "text": [
      "  1%|          | 809/75923 [03:39<4:09:19,  5.02it/s]"
     ]
    },
    {
     "name": "stdout",
     "output_type": "stream",
     "text": [
      "file not done yet ../data/raw/scBam/CB_GTGCGGTAGTACATGA-*.bam\n",
      "file not done yet ../data/raw/scBam/CB_TAAGCGTCATTGTGCA-*.bam\n"
     ]
    },
    {
     "name": "stderr",
     "output_type": "stream",
     "text": [
      "  1%|          | 811/75923 [03:40<3:44:32,  5.58it/s]"
     ]
    },
    {
     "name": "stdout",
     "output_type": "stream",
     "text": [
      "file not done yet ../data/raw/scBam/CB_AGAATAGAGCTAGTCT-*.bam\n",
      "file not done yet ../data/raw/scBam/CB_TGCTGCTGTCAAAGCG-*.bam\n"
     ]
    },
    {
     "name": "stderr",
     "output_type": "stream",
     "text": [
      "\r",
      "  1%|          | 812/75923 [03:40<3:35:40,  5.80it/s]"
     ]
    },
    {
     "name": "stdout",
     "output_type": "stream",
     "text": [
      "file not done yet ../data/raw/scBam/CB_GCTTCCATCCCAAGAT-*.bam\n"
     ]
    },
    {
     "name": "stderr",
     "output_type": "stream",
     "text": [
      "\r",
      "  1%|          | 813/75923 [03:40<3:56:54,  5.28it/s]"
     ]
    },
    {
     "name": "stdout",
     "output_type": "stream",
     "text": [
      "file not done yet ../data/raw/scBam/CB_CACCAGGTCGGTTAAC-*.bam\n"
     ]
    },
    {
     "name": "stderr",
     "output_type": "stream",
     "text": [
      "  1%|          | 815/75923 [03:41<4:07:36,  5.06it/s]"
     ]
    },
    {
     "name": "stdout",
     "output_type": "stream",
     "text": [
      "file not done yet ../data/raw/scBam/CB_TCTTCGGTCTGCAGTA-*.bam\n",
      "file not done yet ../data/raw/scBam/CB_CAGCCGAAGAGCTGCA-*.bam\n"
     ]
    },
    {
     "name": "stderr",
     "output_type": "stream",
     "text": [
      "  1%|          | 817/75923 [03:41<3:47:18,  5.51it/s]"
     ]
    },
    {
     "name": "stdout",
     "output_type": "stream",
     "text": [
      "file not done yet ../data/raw/scBam/CB_TTTGGTTCAAGGACAC-*.bam\n",
      "file not done yet ../data/raw/scBam/CB_TTCCCAGGTCAAAGCG-*.bam\n",
      "python /home/isshamie/software/mito-genotyping/exampleProcessing//01_pileup_counts.py ../data/raw/scBam/CB_AAGGTTCAGTCCGGTC-1.bam ../data/raw/scPileup/CB_AAGGTTCAGTCCGGTC-1 16571 0 AAGGTTCAGTCCGGTC-1.bam 0\n"
     ]
    },
    {
     "name": "stderr",
     "output_type": "stream",
     "text": [
      "  1%|          | 820/75923 [03:43<9:27:42,  2.20it/s] "
     ]
    },
    {
     "name": "stdout",
     "output_type": "stream",
     "text": [
      "file not done yet ../data/raw/scBam/CB_CAAGGCCGTCGAACAG-*.bam\n",
      "file not done yet ../data/raw/scBam/CB_CACAAACGTCCTGCTT-*.bam\n"
     ]
    },
    {
     "name": "stderr",
     "output_type": "stream",
     "text": [
      "  1%|          | 822/75923 [03:44<6:37:53,  3.15it/s]"
     ]
    },
    {
     "name": "stdout",
     "output_type": "stream",
     "text": [
      "file not done yet ../data/raw/scBam/CB_GCATGTATCTGAGTGT-*.bam\n",
      "file not done yet ../data/raw/scBam/CB_GTGCAGCGTGGTCCGT-*.bam\n"
     ]
    },
    {
     "name": "stderr",
     "output_type": "stream",
     "text": [
      "  1%|          | 824/75923 [03:44<5:10:44,  4.03it/s]"
     ]
    },
    {
     "name": "stdout",
     "output_type": "stream",
     "text": [
      "file not done yet ../data/raw/scBam/CB_ACTTTCATCGCGCCAA-*.bam\n",
      "file not done yet ../data/raw/scBam/CB_CAGCATAAGTTACGGG-*.bam\n"
     ]
    },
    {
     "name": "stderr",
     "output_type": "stream",
     "text": [
      "  1%|          | 826/75923 [03:44<4:19:07,  4.83it/s]"
     ]
    },
    {
     "name": "stdout",
     "output_type": "stream",
     "text": [
      "file not done yet ../data/raw/scBam/CB_TGATTTCAGGACAGAA-*.bam\n",
      "file not done yet ../data/raw/scBam/CB_GTGTGCGCATCTATGG-*.bam\n"
     ]
    },
    {
     "name": "stderr",
     "output_type": "stream",
     "text": [
      "\r",
      "  1%|          | 827/75923 [03:45<4:07:26,  5.06it/s]"
     ]
    },
    {
     "name": "stdout",
     "output_type": "stream",
     "text": [
      "file not done yet ../data/raw/scBam/CB_GTGTTAGGTCAGGACA-*.bam\n"
     ]
    },
    {
     "name": "stderr",
     "output_type": "stream",
     "text": [
      "\r",
      "  1%|          | 828/75923 [03:45<4:22:43,  4.76it/s]"
     ]
    },
    {
     "name": "stdout",
     "output_type": "stream",
     "text": [
      "file not done yet ../data/raw/scBam/CB_GCGAGAATCTGGTGTA-*.bam\n",
      "python /home/isshamie/software/mito-genotyping/exampleProcessing//01_pileup_counts.py ../data/raw/scBam/CB_AACTCTTCACAGGCCT-1.bam ../data/raw/scPileup/CB_AACTCTTCACAGGCCT-1 16571 0 AACTCTTCACAGGCCT-1.bam 0\n"
     ]
    },
    {
     "name": "stderr",
     "output_type": "stream",
     "text": [
      "  1%|          | 831/75923 [03:47<9:34:57,  2.18it/s] "
     ]
    },
    {
     "name": "stdout",
     "output_type": "stream",
     "text": [
      "file not done yet ../data/raw/scBam/CB_GCTCTGTAGGAGTTTA-*.bam\n",
      "file not done yet ../data/raw/scBam/CB_GGCTCGAAGAGTACCG-*.bam\n"
     ]
    },
    {
     "name": "stderr",
     "output_type": "stream",
     "text": [
      "  1%|          | 833/75923 [03:48<6:27:49,  3.23it/s]"
     ]
    },
    {
     "name": "stdout",
     "output_type": "stream",
     "text": [
      "file not done yet ../data/raw/scBam/CB_CTGGTCTCACTAGTAC-*.bam\n",
      "file not done yet ../data/raw/scBam/CB_CGATGGCTCTGTCAAG-*.bam\n"
     ]
    },
    {
     "name": "stderr",
     "output_type": "stream",
     "text": [
      "\r",
      "  1%|          | 834/75923 [03:48<5:38:06,  3.70it/s]"
     ]
    },
    {
     "name": "stdout",
     "output_type": "stream",
     "text": [
      "file not done yet ../data/raw/scBam/CB_ACGAGCCCAAGTTGTC-*.bam\n"
     ]
    },
    {
     "name": "stderr",
     "output_type": "stream",
     "text": [
      "\r",
      "  1%|          | 835/75923 [03:48<5:22:11,  3.88it/s]"
     ]
    },
    {
     "name": "stdout",
     "output_type": "stream",
     "text": [
      "file not done yet ../data/raw/scBam/CB_CCTTACGAGAGGGATA-*.bam\n"
     ]
    },
    {
     "name": "stderr",
     "output_type": "stream",
     "text": [
      "  1%|          | 837/75923 [03:48<4:36:47,  4.52it/s]"
     ]
    },
    {
     "name": "stdout",
     "output_type": "stream",
     "text": [
      "file not done yet ../data/raw/scBam/CB_TACCTATAGATCGATA-*.bam\n",
      "file not done yet ../data/raw/scBam/CB_GGGAGATAGCCCAACC-*.bam\n"
     ]
    },
    {
     "name": "stderr",
     "output_type": "stream",
     "text": [
      "\r",
      "  1%|          | 838/75923 [03:49<4:25:02,  4.72it/s]"
     ]
    },
    {
     "name": "stdout",
     "output_type": "stream",
     "text": [
      "file not done yet ../data/raw/scBam/CB_GTGCTTCGTTACCGAT-*.bam\n"
     ]
    },
    {
     "name": "stderr",
     "output_type": "stream",
     "text": [
      "\r",
      "  1%|          | 839/75923 [03:49<4:41:55,  4.44it/s]"
     ]
    },
    {
     "name": "stdout",
     "output_type": "stream",
     "text": [
      "file not done yet ../data/raw/scBam/CB_GGGAATGAGATAGTCA-*.bam\n",
      "python /home/isshamie/software/mito-genotyping/exampleProcessing//01_pileup_counts.py ../data/raw/scBam/CB_AAGACCTAGAAGGACA-1.bam ../data/raw/scPileup/CB_AAGACCTAGAAGGACA-1 16571 0 AAGACCTAGAAGGACA-1.bam 0\n"
     ]
    },
    {
     "name": "stderr",
     "output_type": "stream",
     "text": [
      "  1%|          | 841/75923 [03:51<14:19:39,  1.46it/s]"
     ]
    },
    {
     "name": "stdout",
     "output_type": "stream",
     "text": [
      "file not done yet ../data/raw/scBam/CB_ATCACGATCCTAGTGA-*.bam\n"
     ]
    },
    {
     "name": "stderr",
     "output_type": "stream",
     "text": [
      "\r",
      "  1%|          | 842/75923 [03:52<11:27:27,  1.82it/s]"
     ]
    },
    {
     "name": "stdout",
     "output_type": "stream",
     "text": [
      "file not done yet ../data/raw/scBam/CB_GTCACAAGTACCGAGA-*.bam\n"
     ]
    },
    {
     "name": "stderr",
     "output_type": "stream",
     "text": [
      "\r",
      "  1%|          | 843/75923 [03:52<9:18:37,  2.24it/s] "
     ]
    },
    {
     "name": "stdout",
     "output_type": "stream",
     "text": [
      "file not done yet ../data/raw/scBam/CB_CACAGTACACGGCGTT-*.bam\n"
     ]
    },
    {
     "name": "stderr",
     "output_type": "stream",
     "text": [
      "  1%|          | 846/75923 [03:52<5:26:28,  3.83it/s]"
     ]
    },
    {
     "name": "stdout",
     "output_type": "stream",
     "text": [
      "file not done yet ../data/raw/scBam/CB_ACGATACCATTTGCTT-*.bam\n",
      "file not done yet ../data/raw/scBam/CB_TGTGGTATCTCCTATA-*.bam\n",
      "file not done yet ../data/raw/scBam/CB_TGTGTTTTCTGGCGAC-*.bam\n"
     ]
    },
    {
     "name": "stderr",
     "output_type": "stream",
     "text": [
      "  1%|          | 848/75923 [03:53<4:28:28,  4.66it/s]"
     ]
    },
    {
     "name": "stdout",
     "output_type": "stream",
     "text": [
      "file not done yet ../data/raw/scBam/CB_GCAAACTGTTCAGTAC-*.bam\n",
      "file not done yet ../data/raw/scBam/CB_CGTCTACGTTGTCGCG-*.bam\n"
     ]
    },
    {
     "name": "stderr",
     "output_type": "stream",
     "text": [
      "  1%|          | 850/75923 [03:53<4:48:56,  4.33it/s]"
     ]
    },
    {
     "name": "stdout",
     "output_type": "stream",
     "text": [
      "file not done yet ../data/raw/scBam/CB_TACGGGCGTCTAACGT-*.bam\n",
      "file not done yet ../data/raw/scBam/CB_TACCTATCACCACCAG-*.bam\n"
     ]
    },
    {
     "name": "stderr",
     "output_type": "stream",
     "text": [
      "  1%|          | 852/75923 [03:54<4:18:15,  4.84it/s]"
     ]
    },
    {
     "name": "stdout",
     "output_type": "stream",
     "text": [
      "file not done yet ../data/raw/scBam/CB_TATCAGGTCTGAGTGT-*.bam\n",
      "file not done yet ../data/raw/scBam/CB_CCAGCGAGTTTGTTGG-*.bam\n"
     ]
    },
    {
     "name": "stderr",
     "output_type": "stream",
     "text": [
      "  1%|          | 854/75923 [03:54<3:53:49,  5.35it/s]"
     ]
    },
    {
     "name": "stdout",
     "output_type": "stream",
     "text": [
      "file not done yet ../data/raw/scBam/CB_ACGGGCTAGGGCACTA-*.bam\n",
      "file not done yet ../data/raw/scBam/CB_ATAGACCCACACCGCA-*.bam\n"
     ]
    },
    {
     "name": "stderr",
     "output_type": "stream",
     "text": [
      "\r",
      "  1%|          | 855/75923 [03:54<3:53:36,  5.36it/s]"
     ]
    },
    {
     "name": "stdout",
     "output_type": "stream",
     "text": [
      "file not done yet ../data/raw/scBam/CB_TATGCCCTCCGCTGTT-*.bam\n"
     ]
    },
    {
     "name": "stderr",
     "output_type": "stream",
     "text": [
      "  1%|          | 857/75923 [03:55<3:49:24,  5.45it/s]"
     ]
    },
    {
     "name": "stdout",
     "output_type": "stream",
     "text": [
      "file not done yet ../data/raw/scBam/CB_CTCTAATAGTACGCCC-*.bam\n",
      "file not done yet ../data/raw/scBam/CB_TACGGATAGCCACGTC-*.bam\n"
     ]
    },
    {
     "name": "stderr",
     "output_type": "stream",
     "text": [
      "\r",
      "  1%|          | 858/75923 [03:55<3:41:43,  5.64it/s]"
     ]
    },
    {
     "name": "stdout",
     "output_type": "stream",
     "text": [
      "file not done yet ../data/raw/scBam/CB_CTTAACTGTTGGTGGA-*.bam\n"
     ]
    },
    {
     "name": "stderr",
     "output_type": "stream",
     "text": [
      "  1%|          | 860/75923 [03:55<3:54:48,  5.33it/s]"
     ]
    },
    {
     "name": "stdout",
     "output_type": "stream",
     "text": [
      "file not done yet ../data/raw/scBam/CB_TGGCGCATCCAACCAA-*.bam\n",
      "file not done yet ../data/raw/scBam/CB_TACGGGCGTCGTCTTC-*.bam\n"
     ]
    },
    {
     "name": "stderr",
     "output_type": "stream",
     "text": [
      "  1%|          | 862/75923 [03:55<3:46:59,  5.51it/s]"
     ]
    },
    {
     "name": "stdout",
     "output_type": "stream",
     "text": [
      "file not done yet ../data/raw/scBam/CB_CGACTTCCAGCTTCGG-*.bam\n",
      "file not done yet ../data/raw/scBam/CB_CTTAGGATCACCTTAT-*.bam\n"
     ]
    },
    {
     "name": "stderr",
     "output_type": "stream",
     "text": [
      "  1%|          | 864/75923 [03:56<3:54:55,  5.33it/s]"
     ]
    },
    {
     "name": "stdout",
     "output_type": "stream",
     "text": [
      "file not done yet ../data/raw/scBam/CB_CGTCCATAGTTTCCTT-*.bam\n",
      "file not done yet ../data/raw/scBam/CB_TGTCCCATCTTGCAAG-*.bam\n"
     ]
    },
    {
     "name": "stderr",
     "output_type": "stream",
     "text": [
      "  1%|          | 866/75923 [03:56<3:48:26,  5.48it/s]"
     ]
    },
    {
     "name": "stdout",
     "output_type": "stream",
     "text": [
      "file not done yet ../data/raw/scBam/CB_TTCGAAGGTAAGTGTA-*.bam\n",
      "file not done yet ../data/raw/scBam/CB_GGGCATCAGTGGGATC-*.bam\n"
     ]
    },
    {
     "name": "stderr",
     "output_type": "stream",
     "text": [
      "  1%|          | 868/75923 [03:57<3:40:29,  5.67it/s]"
     ]
    },
    {
     "name": "stdout",
     "output_type": "stream",
     "text": [
      "file not done yet ../data/raw/scBam/CB_CGGACGTTCTGTACGA-*.bam\n",
      "file not done yet ../data/raw/scBam/CB_CCCTCCTGTACCTACA-*.bam\n"
     ]
    },
    {
     "name": "stderr",
     "output_type": "stream",
     "text": [
      "  1%|          | 870/75923 [03:57<3:43:14,  5.60it/s]"
     ]
    },
    {
     "name": "stdout",
     "output_type": "stream",
     "text": [
      "file not done yet ../data/raw/scBam/CB_GTCTTCGCAATGGACG-*.bam\n",
      "file not done yet ../data/raw/scBam/CB_GGGACCTTCAGTTGAC-*.bam\n"
     ]
    },
    {
     "name": "stderr",
     "output_type": "stream",
     "text": [
      "  1%|          | 872/75923 [03:57<3:51:00,  5.41it/s]"
     ]
    },
    {
     "name": "stdout",
     "output_type": "stream",
     "text": [
      "file not done yet ../data/raw/scBam/CB_ATCCGAAAGCTGAACG-*.bam\n",
      "file not done yet ../data/raw/scBam/CB_TCACAAGGTGCTGTAT-*.bam\n"
     ]
    },
    {
     "name": "stderr",
     "output_type": "stream",
     "text": [
      "\r",
      "  1%|          | 873/75923 [03:57<3:37:22,  5.75it/s]"
     ]
    },
    {
     "name": "stdout",
     "output_type": "stream",
     "text": [
      "file not done yet ../data/raw/scBam/CB_TAGACCAAGAGCTGGT-*.bam\n"
     ]
    },
    {
     "name": "stderr",
     "output_type": "stream",
     "text": [
      "  1%|          | 875/75923 [03:58<3:51:07,  5.41it/s]"
     ]
    },
    {
     "name": "stdout",
     "output_type": "stream",
     "text": [
      "file not done yet ../data/raw/scBam/CB_CGTTAGAGTGGTAACG-*.bam\n",
      "file not done yet ../data/raw/scBam/CB_CTGCTGTTCGGCGCTA-*.bam\n"
     ]
    },
    {
     "name": "stderr",
     "output_type": "stream",
     "text": [
      "  1%|          | 877/75923 [03:58<4:02:31,  5.16it/s]"
     ]
    },
    {
     "name": "stdout",
     "output_type": "stream",
     "text": [
      "file not done yet ../data/raw/scBam/CB_ATCTACTCAACTGGCC-*.bam\n",
      "file not done yet ../data/raw/scBam/CB_TCTGGAAGTAAATACG-*.bam\n"
     ]
    },
    {
     "name": "stderr",
     "output_type": "stream",
     "text": [
      "\r",
      "  1%|          | 878/75923 [03:58<3:55:29,  5.31it/s]"
     ]
    },
    {
     "name": "stdout",
     "output_type": "stream",
     "text": [
      "file not done yet ../data/raw/scBam/CB_TCTGGAAAGTGCCAGA-*.bam\n"
     ]
    },
    {
     "name": "stderr",
     "output_type": "stream",
     "text": [
      "  1%|          | 880/75923 [03:59<3:47:14,  5.50it/s]"
     ]
    },
    {
     "name": "stdout",
     "output_type": "stream",
     "text": [
      "file not done yet ../data/raw/scBam/CB_TAGTTGGAGCAACGGT-*.bam\n",
      "file not done yet ../data/raw/scBam/CB_ATGCGATCAAACTGTC-*.bam\n"
     ]
    },
    {
     "name": "stderr",
     "output_type": "stream",
     "text": [
      "  1%|          | 882/75923 [03:59<3:38:46,  5.72it/s]"
     ]
    },
    {
     "name": "stdout",
     "output_type": "stream",
     "text": [
      "file not done yet ../data/raw/scBam/CB_AGGGAGTAGGTAGCCA-*.bam\n",
      "file not done yet ../data/raw/scBam/CB_GGAGCAAGTGTGAATA-*.bam\n"
     ]
    },
    {
     "name": "stderr",
     "output_type": "stream",
     "text": [
      "\r",
      "  1%|          | 883/75923 [03:59<3:32:34,  5.88it/s]"
     ]
    },
    {
     "name": "stdout",
     "output_type": "stream",
     "text": [
      "file not done yet ../data/raw/scBam/CB_TCGAGGCCAAACGCGA-*.bam\n",
      "python /home/isshamie/software/mito-genotyping/exampleProcessing//01_pileup_counts.py ../data/raw/scBam/CB_ACATACGGTACCATCA-1.bam ../data/raw/scPileup/CB_ACATACGGTACCATCA-1 16571 0 ACATACGGTACCATCA-1.bam 0\n"
     ]
    },
    {
     "name": "stderr",
     "output_type": "stream",
     "text": [
      "  1%|          | 886/75923 [04:01<5:44:23,  3.63it/s]"
     ]
    },
    {
     "name": "stdout",
     "output_type": "stream",
     "text": [
      "file not done yet ../data/raw/scBam/CB_TGTGGTAGTGAGGGAG-*.bam\n",
      "file not done yet ../data/raw/scBam/CB_CCATTCGGTTCGTTGA-*.bam\n"
     ]
    },
    {
     "name": "stderr",
     "output_type": "stream",
     "text": [
      "  1%|          | 888/75923 [04:01<4:29:59,  4.63it/s]"
     ]
    },
    {
     "name": "stdout",
     "output_type": "stream",
     "text": [
      "file not done yet ../data/raw/scBam/CB_TACTCATTCTTAGCCC-*.bam\n",
      "file not done yet ../data/raw/scBam/CB_CCTACCATCCTAGGGC-*.bam\n"
     ]
    },
    {
     "name": "stderr",
     "output_type": "stream",
     "text": [
      "  1%|          | 890/75923 [04:01<3:48:51,  5.46it/s]"
     ]
    },
    {
     "name": "stdout",
     "output_type": "stream",
     "text": [
      "file not done yet ../data/raw/scBam/CB_TACACGACACAAGTAA-*.bam\n",
      "file not done yet ../data/raw/scBam/CB_GTACGTACAAGAGTCG-*.bam\n"
     ]
    },
    {
     "name": "stderr",
     "output_type": "stream",
     "text": [
      "  1%|          | 892/75923 [04:01<3:32:12,  5.89it/s]"
     ]
    },
    {
     "name": "stdout",
     "output_type": "stream",
     "text": [
      "file not done yet ../data/raw/scBam/CB_GCGCAGTAGTCATGCT-*.bam\n",
      "file not done yet ../data/raw/scBam/CB_TGACTTTCAAGTCTGT-*.bam\n"
     ]
    },
    {
     "name": "stderr",
     "output_type": "stream",
     "text": [
      "  1%|          | 894/75923 [04:02<3:32:36,  5.88it/s]"
     ]
    },
    {
     "name": "stdout",
     "output_type": "stream",
     "text": [
      "file not done yet ../data/raw/scBam/CB_GATGAAATCAATCACG-*.bam\n",
      "file not done yet ../data/raw/scBam/CB_AGTCTTTGTTGTGGAG-*.bam\n"
     ]
    },
    {
     "name": "stderr",
     "output_type": "stream",
     "text": [
      "  1%|          | 896/75923 [04:02<3:33:40,  5.85it/s]"
     ]
    },
    {
     "name": "stdout",
     "output_type": "stream",
     "text": [
      "file not done yet ../data/raw/scBam/CB_GTCCTCAAGGCACATG-*.bam\n",
      "file not done yet ../data/raw/scBam/CB_CATCGGGAGATGCGAC-*.bam\n"
     ]
    },
    {
     "name": "stderr",
     "output_type": "stream",
     "text": [
      "  1%|          | 898/75923 [04:02<3:13:27,  6.46it/s]"
     ]
    },
    {
     "name": "stdout",
     "output_type": "stream",
     "text": [
      "file not done yet ../data/raw/scBam/CB_TTTGCGCGTCAGAATA-*.bam\n",
      "file not done yet ../data/raw/scBam/CB_TAAGTGCCAATCGAAA-*.bam\n"
     ]
    },
    {
     "name": "stderr",
     "output_type": "stream",
     "text": [
      "  1%|          | 900/75923 [04:03<3:06:01,  6.72it/s]"
     ]
    },
    {
     "name": "stdout",
     "output_type": "stream",
     "text": [
      "file not done yet ../data/raw/scBam/CB_GCGCAACCACACAGAG-*.bam\n",
      "file not done yet ../data/raw/scBam/CB_CCGTTCATCAGTGCAT-*.bam\n"
     ]
    },
    {
     "name": "stderr",
     "output_type": "stream",
     "text": [
      "  1%|          | 902/75923 [04:03<3:18:55,  6.29it/s]"
     ]
    },
    {
     "name": "stdout",
     "output_type": "stream",
     "text": [
      "file not done yet ../data/raw/scBam/CB_TGACAACGTTAAGGGC-*.bam\n",
      "file not done yet ../data/raw/scBam/CB_CGATGTAAGGTAGCTG-*.bam\n"
     ]
    },
    {
     "name": "stderr",
     "output_type": "stream",
     "text": [
      "  1%|          | 904/75923 [04:03<3:24:33,  6.11it/s]"
     ]
    },
    {
     "name": "stdout",
     "output_type": "stream",
     "text": [
      "file not done yet ../data/raw/scBam/CB_GCCTCTAGTAAGGATT-*.bam\n",
      "file not done yet ../data/raw/scBam/CB_CAGGTGCTCAGCGACC-*.bam\n"
     ]
    },
    {
     "name": "stderr",
     "output_type": "stream",
     "text": [
      "  1%|          | 906/75923 [04:04<3:30:16,  5.95it/s]"
     ]
    },
    {
     "name": "stdout",
     "output_type": "stream",
     "text": [
      "file not done yet ../data/raw/scBam/CB_TCGCGTTCATCGGAAG-*.bam\n",
      "file not done yet ../data/raw/scBam/CB_TTATGCTCATTTGCCC-*.bam\n",
      "python /home/isshamie/software/mito-genotyping/exampleProcessing//01_pileup_counts.py ../data/raw/scBam/CB_ACACTGACAGGTTTCA-1.bam ../data/raw/scPileup/CB_ACACTGACAGGTTTCA-1 16571 0 ACACTGACAGGTTTCA-1.bam 0\n"
     ]
    },
    {
     "name": "stderr",
     "output_type": "stream",
     "text": [
      "  1%|          | 909/75923 [04:06<9:14:21,  2.26it/s] "
     ]
    },
    {
     "name": "stdout",
     "output_type": "stream",
     "text": [
      "file not done yet ../data/raw/scBam/CB_TACCTATCATGCAATC-*.bam\n",
      "file not done yet ../data/raw/scBam/CB_CGGTTAATCGTTTAGG-*.bam\n"
     ]
    },
    {
     "name": "stderr",
     "output_type": "stream",
     "text": [
      "  1%|          | 911/75923 [04:06<6:37:32,  3.14it/s]"
     ]
    },
    {
     "name": "stdout",
     "output_type": "stream",
     "text": [
      "file not done yet ../data/raw/scBam/CB_GCTGCGATCTAAGCCA-*.bam\n",
      "file not done yet ../data/raw/scBam/CB_CATCAAGAGCCGGTAA-*.bam\n"
     ]
    },
    {
     "name": "stderr",
     "output_type": "stream",
     "text": [
      "  1%|          | 913/75923 [04:07<5:03:12,  4.12it/s]"
     ]
    },
    {
     "name": "stdout",
     "output_type": "stream",
     "text": [
      "file not done yet ../data/raw/scBam/CB_CAGCATAAGCGTTGCC-*.bam\n",
      "file not done yet ../data/raw/scBam/CB_CAACTAGAGAAACCGC-*.bam\n"
     ]
    },
    {
     "name": "stderr",
     "output_type": "stream",
     "text": [
      "\r",
      "  1%|          | 914/75923 [04:07<6:18:08,  3.31it/s]"
     ]
    },
    {
     "name": "stdout",
     "output_type": "stream",
     "text": [
      "file not done yet ../data/raw/scBam/CB_TCCACACCACGACTCG-*.bam\n"
     ]
    },
    {
     "name": "stderr",
     "output_type": "stream",
     "text": [
      "  1%|          | 916/75923 [04:08<5:20:13,  3.90it/s]"
     ]
    },
    {
     "name": "stdout",
     "output_type": "stream",
     "text": [
      "file not done yet ../data/raw/scBam/CB_TGACTAGGTATTACCG-*.bam\n",
      "file not done yet ../data/raw/scBam/CB_TGCTGCTCACAGATTC-*.bam\n"
     ]
    },
    {
     "name": "stderr",
     "output_type": "stream",
     "text": [
      "\r",
      "  1%|          | 917/75923 [04:08<5:01:04,  4.15it/s]"
     ]
    },
    {
     "name": "stdout",
     "output_type": "stream",
     "text": [
      "file not done yet ../data/raw/scBam/CB_CTCGTCATCCGTCAAA-*.bam\n",
      "python /home/isshamie/software/mito-genotyping/exampleProcessing//01_pileup_counts.py ../data/raw/scBam/CB_ACAGCTACAATCCGAT-1.bam ../data/raw/scPileup/CB_ACAGCTACAATCCGAT-1 16571 0 ACAGCTACAATCCGAT-1.bam 0\n"
     ]
    },
    {
     "name": "stderr",
     "output_type": "stream",
     "text": [
      "  1%|          | 920/75923 [04:10<10:21:49,  2.01it/s]"
     ]
    },
    {
     "name": "stdout",
     "output_type": "stream",
     "text": [
      "file not done yet ../data/raw/scBam/CB_GTCAAGTTCACCCTCA-*.bam\n",
      "file not done yet ../data/raw/scBam/CB_AGCTCTCAGTAATCCC-*.bam\n"
     ]
    },
    {
     "name": "stderr",
     "output_type": "stream",
     "text": [
      "  1%|          | 922/75923 [04:11<6:39:08,  3.13it/s] "
     ]
    },
    {
     "name": "stdout",
     "output_type": "stream",
     "text": [
      "file not done yet ../data/raw/scBam/CB_CTAACTTTCGGAAACG-*.bam\n",
      "file not done yet ../data/raw/scBam/CB_CAGCTGGTCTAGAGTC-*.bam\n"
     ]
    },
    {
     "name": "stderr",
     "output_type": "stream",
     "text": [
      "  1%|          | 924/75923 [04:11<4:42:02,  4.43it/s]"
     ]
    },
    {
     "name": "stdout",
     "output_type": "stream",
     "text": [
      "file not done yet ../data/raw/scBam/CB_ACTGTCCCATCGATTG-*.bam\n",
      "file not done yet ../data/raw/scBam/CB_TAAACCGCATGGTTGT-*.bam\n"
     ]
    },
    {
     "name": "stderr",
     "output_type": "stream",
     "text": [
      "  1%|          | 926/75923 [04:11<4:03:22,  5.14it/s]"
     ]
    },
    {
     "name": "stdout",
     "output_type": "stream",
     "text": [
      "file not done yet ../data/raw/scBam/CB_ACGCCAGAGCCGATTT-*.bam\n",
      "file not done yet ../data/raw/scBam/CB_AGTAGTCTCACTTACT-*.bam\n"
     ]
    },
    {
     "name": "stderr",
     "output_type": "stream",
     "text": [
      "  1%|          | 928/75923 [04:12<3:47:59,  5.48it/s]"
     ]
    },
    {
     "name": "stdout",
     "output_type": "stream",
     "text": [
      "file not done yet ../data/raw/scBam/CB_CAACCAACACAGACTT-*.bam\n",
      "file not done yet ../data/raw/scBam/CB_CGAGAAGGTTGAACTC-*.bam\n"
     ]
    },
    {
     "name": "stderr",
     "output_type": "stream",
     "text": [
      "\r",
      "  1%|          | 929/75923 [04:12<3:41:31,  5.64it/s]"
     ]
    },
    {
     "name": "stdout",
     "output_type": "stream",
     "text": [
      "file not done yet ../data/raw/scBam/CB_TAGAGCTCAGTAAGAT-*.bam\n"
     ]
    },
    {
     "name": "stderr",
     "output_type": "stream",
     "text": [
      "  1%|          | 931/75923 [04:12<4:04:14,  5.12it/s]"
     ]
    },
    {
     "name": "stdout",
     "output_type": "stream",
     "text": [
      "file not done yet ../data/raw/scBam/CB_TCAGGTACATCTATGG-*.bam\n",
      "file not done yet ../data/raw/scBam/CB_TACGGGCCAGGTCGTC-*.bam\n"
     ]
    },
    {
     "name": "stderr",
     "output_type": "stream",
     "text": [
      "  1%|          | 933/75923 [04:13<3:58:03,  5.25it/s]"
     ]
    },
    {
     "name": "stdout",
     "output_type": "stream",
     "text": [
      "file not done yet ../data/raw/scBam/CB_CAGCATAAGGGTTTCT-*.bam\n",
      "file not done yet ../data/raw/scBam/CB_CGAATGTCAAACTGCT-*.bam\n"
     ]
    },
    {
     "name": "stderr",
     "output_type": "stream",
     "text": [
      "  1%|          | 935/75923 [04:13<4:00:28,  5.20it/s]"
     ]
    },
    {
     "name": "stdout",
     "output_type": "stream",
     "text": [
      "file not done yet ../data/raw/scBam/CB_CTCGAAAAGGGTTTCT-*.bam\n",
      "file not done yet ../data/raw/scBam/CB_TGGCGCACAAGGTTCT-*.bam\n"
     ]
    },
    {
     "name": "stderr",
     "output_type": "stream",
     "text": [
      "\r",
      "  1%|          | 936/75923 [04:13<4:08:17,  5.03it/s]"
     ]
    },
    {
     "name": "stdout",
     "output_type": "stream",
     "text": [
      "file not done yet ../data/raw/scBam/CB_GTAACTGAGACAATAC-*.bam\n",
      "python /home/isshamie/software/mito-genotyping/exampleProcessing//01_pileup_counts.py ../data/raw/scBam/CB_AACTGGTGTATAGTAG-1.bam ../data/raw/scPileup/CB_AACTGGTGTATAGTAG-1 16571 0 AACTGGTGTATAGTAG-1.bam 0\n"
     ]
    },
    {
     "name": "stderr",
     "output_type": "stream",
     "text": [
      "  1%|          | 938/75923 [04:19<27:00:03,  1.30s/it]"
     ]
    },
    {
     "name": "stdout",
     "output_type": "stream",
     "text": [
      "file not done yet ../data/raw/scBam/CB_CACACCTGTGAAATCA-*.bam\n"
     ]
    },
    {
     "name": "stderr",
     "output_type": "stream",
     "text": [
      "  1%|          | 940/75923 [04:19<15:14:52,  1.37it/s]"
     ]
    },
    {
     "name": "stdout",
     "output_type": "stream",
     "text": [
      "file not done yet ../data/raw/scBam/CB_TACGGATCAGCGTCCA-*.bam\n",
      "file not done yet ../data/raw/scBam/CB_TCAGCAAGTGGTAACG-*.bam\n"
     ]
    },
    {
     "name": "stderr",
     "output_type": "stream",
     "text": [
      "  1%|          | 942/75923 [04:20<9:03:28,  2.30it/s] "
     ]
    },
    {
     "name": "stdout",
     "output_type": "stream",
     "text": [
      "file not done yet ../data/raw/scBam/CB_TGCGGGTAGTTAGCGG-*.bam\n",
      "file not done yet ../data/raw/scBam/CB_TCTATTGTCTCTAGGA-*.bam\n"
     ]
    },
    {
     "name": "stderr",
     "output_type": "stream",
     "text": [
      "  1%|          | 944/75923 [04:20<6:11:21,  3.37it/s]"
     ]
    },
    {
     "name": "stdout",
     "output_type": "stream",
     "text": [
      "file not done yet ../data/raw/scBam/CB_ACGTCAAGTGCTAGCC-*.bam\n",
      "file not done yet ../data/raw/scBam/CB_CAACCTCAGACGCAAC-*.bam\n"
     ]
    },
    {
     "name": "stderr",
     "output_type": "stream",
     "text": [
      "  1%|          | 946/75923 [04:20<5:07:48,  4.06it/s]"
     ]
    },
    {
     "name": "stdout",
     "output_type": "stream",
     "text": [
      "file not done yet ../data/raw/scBam/CB_CTAGTGACAGCCTGTG-*.bam\n",
      "file not done yet ../data/raw/scBam/CB_CATTCGCAGAGCTGCA-*.bam\n"
     ]
    },
    {
     "name": "stderr",
     "output_type": "stream",
     "text": [
      "  1%|          | 948/75923 [04:21<4:39:34,  4.47it/s]"
     ]
    },
    {
     "name": "stdout",
     "output_type": "stream",
     "text": [
      "file not done yet ../data/raw/scBam/CB_TACACGACAGTGGAGT-*.bam\n",
      "file not done yet ../data/raw/scBam/CB_GCGACCAGTACGCACC-*.bam\n"
     ]
    },
    {
     "name": "stderr",
     "output_type": "stream",
     "text": [
      "  1%|▏         | 950/75923 [04:21<4:17:08,  4.86it/s]"
     ]
    },
    {
     "name": "stdout",
     "output_type": "stream",
     "text": [
      "file not done yet ../data/raw/scBam/CB_AGCGGTCGTCTCTTAT-*.bam\n",
      "file not done yet ../data/raw/scBam/CB_CCTTCCCTCACATACG-*.bam\n"
     ]
    },
    {
     "name": "stderr",
     "output_type": "stream",
     "text": [
      "  1%|▏         | 952/75923 [04:22<4:11:23,  4.97it/s]"
     ]
    },
    {
     "name": "stdout",
     "output_type": "stream",
     "text": [
      "file not done yet ../data/raw/scBam/CB_CACAAACTCGGCATCG-*.bam\n",
      "file not done yet ../data/raw/scBam/CB_GGACAGAGTCCAGTAT-*.bam\n"
     ]
    },
    {
     "name": "stderr",
     "output_type": "stream",
     "text": [
      "\r",
      "  1%|▏         | 953/75923 [04:22<4:11:57,  4.96it/s]"
     ]
    },
    {
     "name": "stdout",
     "output_type": "stream",
     "text": [
      "file not done yet ../data/raw/scBam/CB_GGGTCTGAGAAACGAG-*.bam\n"
     ]
    },
    {
     "name": "stderr",
     "output_type": "stream",
     "text": [
      "  1%|▏         | 955/75923 [04:22<4:08:00,  5.04it/s]"
     ]
    },
    {
     "name": "stdout",
     "output_type": "stream",
     "text": [
      "file not done yet ../data/raw/scBam/CB_GACCTGGGTCCCTTGT-*.bam\n",
      "file not done yet ../data/raw/scBam/CB_GTGGGTCAGCCGCCTA-*.bam\n"
     ]
    },
    {
     "name": "stderr",
     "output_type": "stream",
     "text": [
      "  1%|▏         | 957/75923 [04:22<3:47:35,  5.49it/s]"
     ]
    },
    {
     "name": "stdout",
     "output_type": "stream",
     "text": [
      "file not done yet ../data/raw/scBam/CB_GCGACCATCTCTAGGA-*.bam\n",
      "file not done yet ../data/raw/scBam/CB_AGTCTTTCACAAGACG-*.bam\n",
      "python /home/isshamie/software/mito-genotyping/exampleProcessing//01_pileup_counts.py ../data/raw/scBam/CB_AAACCTGCACAGGTTT-1.bam ../data/raw/scPileup/CB_AAACCTGCACAGGTTT-1 16571 0 AAACCTGCACAGGTTT-1.bam 0\n"
     ]
    },
    {
     "name": "stderr",
     "output_type": "stream",
     "text": [
      "  1%|▏         | 960/75923 [04:24<7:15:35,  2.87it/s] "
     ]
    },
    {
     "name": "stdout",
     "output_type": "stream",
     "text": [
      "file not done yet ../data/raw/scBam/CB_TTGCGTCAGACCACGA-*.bam\n",
      "file not done yet ../data/raw/scBam/CB_TGAGGGACATTGAGCT-*.bam\n"
     ]
    },
    {
     "name": "stderr",
     "output_type": "stream",
     "text": [
      "  1%|▏         | 962/75923 [04:25<5:29:11,  3.80it/s]"
     ]
    },
    {
     "name": "stdout",
     "output_type": "stream",
     "text": [
      "file not done yet ../data/raw/scBam/CB_GTGTTAGCACTTCGAA-*.bam\n",
      "file not done yet ../data/raw/scBam/CB_TGTGTTTTCTCAAACG-*.bam\n"
     ]
    },
    {
     "name": "stderr",
     "output_type": "stream",
     "text": [
      "  1%|▏         | 964/75923 [04:25<4:22:31,  4.76it/s]"
     ]
    },
    {
     "name": "stdout",
     "output_type": "stream",
     "text": [
      "file not done yet ../data/raw/scBam/CB_GAACATCCACAGAGGT-*.bam\n",
      "file not done yet ../data/raw/scBam/CB_TCAGATGAGAGATGAG-*.bam\n"
     ]
    },
    {
     "name": "stderr",
     "output_type": "stream",
     "text": [
      "  1%|▏         | 966/75923 [04:25<4:16:44,  4.87it/s]"
     ]
    },
    {
     "name": "stdout",
     "output_type": "stream",
     "text": [
      "file not done yet ../data/raw/scBam/CB_CGGTTAAAGTCGCCGT-*.bam\n",
      "file not done yet ../data/raw/scBam/CB_AGGGAGTCATTCGACA-*.bam\n"
     ]
    },
    {
     "name": "stderr",
     "output_type": "stream",
     "text": [
      "  1%|▏         | 968/75923 [04:26<4:19:29,  4.81it/s]"
     ]
    },
    {
     "name": "stdout",
     "output_type": "stream",
     "text": [
      "file not done yet ../data/raw/scBam/CB_TACGGTACAATGACCT-*.bam\n",
      "file not done yet ../data/raw/scBam/CB_TCTCATAGTTTGCATG-*.bam\n"
     ]
    },
    {
     "name": "stderr",
     "output_type": "stream",
     "text": [
      "\r",
      "  1%|▏         | 969/75923 [04:26<4:03:36,  5.13it/s]"
     ]
    },
    {
     "name": "stdout",
     "output_type": "stream",
     "text": [
      "file not done yet ../data/raw/scBam/CB_GTGAAGGTCCATTCTA-*.bam\n",
      "python /home/isshamie/software/mito-genotyping/exampleProcessing//01_pileup_counts.py ../data/raw/scBam/CB_AACCGCGGTACTTGAC-1.bam ../data/raw/scPileup/CB_AACCGCGGTACTTGAC-1 16571 0 AACCGCGGTACTTGAC-1.bam 0\n"
     ]
    },
    {
     "name": "stderr",
     "output_type": "stream",
     "text": [
      "  1%|▏         | 972/75923 [04:27<6:47:32,  3.07it/s] "
     ]
    },
    {
     "name": "stdout",
     "output_type": "stream",
     "text": [
      "file not done yet ../data/raw/scBam/CB_AGCTCCTTCATGTAGC-*.bam\n",
      "file not done yet ../data/raw/scBam/CB_CGATGTACATCGGAAG-*.bam\n"
     ]
    },
    {
     "name": "stderr",
     "output_type": "stream",
     "text": [
      "\r",
      "  1%|▏         | 973/75923 [04:27<5:44:22,  3.63it/s]"
     ]
    },
    {
     "name": "stdout",
     "output_type": "stream",
     "text": [
      "file not done yet ../data/raw/scBam/CB_TAGACCAGTTGTCTTT-*.bam\n"
     ]
    },
    {
     "name": "stderr",
     "output_type": "stream",
     "text": [
      "\r",
      "  1%|▏         | 974/75923 [04:28<5:32:52,  3.75it/s]"
     ]
    },
    {
     "name": "stdout",
     "output_type": "stream",
     "text": [
      "file not done yet ../data/raw/scBam/CB_GAAGCAGAGAGGTTGC-*.bam\n",
      "python /home/isshamie/software/mito-genotyping/exampleProcessing//01_pileup_counts.py ../data/raw/scBam/CB_ACACCGGTCCAGTAGT-1.bam ../data/raw/scPileup/CB_ACACCGGTCCAGTAGT-1 16571 0 ACACCGGTCCAGTAGT-1.bam 0\n"
     ]
    },
    {
     "name": "stderr",
     "output_type": "stream",
     "text": [
      "  1%|▏         | 976/75923 [04:30<12:03:39,  1.73it/s]"
     ]
    },
    {
     "name": "stdout",
     "output_type": "stream",
     "text": [
      "file not done yet ../data/raw/scBam/CB_CATCGAAAGTACGTAA-*.bam\n",
      "python /home/isshamie/software/mito-genotyping/exampleProcessing//01_pileup_counts.py ../data/raw/scBam/CB_AAGGCAGAGATCGGGT-1.bam ../data/raw/scPileup/CB_AAGGCAGAGATCGGGT-1 16571 0 AAGGCAGAGATCGGGT-1.bam 0\n"
     ]
    },
    {
     "name": "stderr",
     "output_type": "stream",
     "text": [
      "  1%|▏         | 978/75923 [04:32<14:34:22,  1.43it/s]"
     ]
    },
    {
     "name": "stdout",
     "output_type": "stream",
     "text": [
      "file not done yet ../data/raw/scBam/CB_TGACTTTGTTCTGTTT-*.bam\n"
     ]
    },
    {
     "name": "stderr",
     "output_type": "stream",
     "text": [
      "  1%|▏         | 980/75923 [04:32<9:02:37,  2.30it/s] "
     ]
    },
    {
     "name": "stdout",
     "output_type": "stream",
     "text": [
      "file not done yet ../data/raw/scBam/CB_GTTACAGAGCTGATAA-*.bam\n",
      "file not done yet ../data/raw/scBam/CB_GGCCGATTCGGAATCT-*.bam\n"
     ]
    },
    {
     "name": "stderr",
     "output_type": "stream",
     "text": [
      "  1%|▏         | 982/75923 [04:32<6:13:47,  3.34it/s]"
     ]
    },
    {
     "name": "stdout",
     "output_type": "stream",
     "text": [
      "file not done yet ../data/raw/scBam/CB_GTCACAAAGTGCGATG-*.bam\n",
      "file not done yet ../data/raw/scBam/CB_GTTCTCGTCATAACCG-*.bam\n"
     ]
    },
    {
     "name": "stderr",
     "output_type": "stream",
     "text": [
      "\r",
      "  1%|▏         | 983/75923 [04:33<5:46:02,  3.61it/s]"
     ]
    },
    {
     "name": "stdout",
     "output_type": "stream",
     "text": [
      "file not done yet ../data/raw/scBam/CB_CTTAGGATCAGTGCAT-*.bam\n",
      "python /home/isshamie/software/mito-genotyping/exampleProcessing//01_pileup_counts.py ../data/raw/scBam/CB_AACTCTTTCCAGATCA-1.bam ../data/raw/scPileup/CB_AACTCTTTCCAGATCA-1 16571 0 AACTCTTTCCAGATCA-1.bam 0\n"
     ]
    },
    {
     "name": "stderr",
     "output_type": "stream",
     "text": [
      "  1%|▏         | 986/75923 [04:34<8:08:28,  2.56it/s] "
     ]
    },
    {
     "name": "stdout",
     "output_type": "stream",
     "text": [
      "file not done yet ../data/raw/scBam/CB_GTCGTAAGTGAACCTT-*.bam\n",
      "file not done yet ../data/raw/scBam/CB_CGGTTAAAGAGGTTAT-*.bam\n"
     ]
    },
    {
     "name": "stderr",
     "output_type": "stream",
     "text": [
      "  1%|▏         | 988/75923 [04:35<5:57:06,  3.50it/s]"
     ]
    },
    {
     "name": "stdout",
     "output_type": "stream",
     "text": [
      "file not done yet ../data/raw/scBam/CB_GCACTCTCATACTACG-*.bam\n",
      "file not done yet ../data/raw/scBam/CB_GGAACTTAGTATGACA-*.bam\n"
     ]
    },
    {
     "name": "stderr",
     "output_type": "stream",
     "text": [
      "  1%|▏         | 990/75923 [04:35<4:45:08,  4.38it/s]"
     ]
    },
    {
     "name": "stdout",
     "output_type": "stream",
     "text": [
      "file not done yet ../data/raw/scBam/CB_CCTCTGAGTGAACCTT-*.bam\n",
      "file not done yet ../data/raw/scBam/CB_GTAACGTCATGACGGA-*.bam\n"
     ]
    },
    {
     "name": "stderr",
     "output_type": "stream",
     "text": [
      "  1%|▏         | 992/75923 [04:35<4:01:00,  5.18it/s]"
     ]
    },
    {
     "name": "stdout",
     "output_type": "stream",
     "text": [
      "file not done yet ../data/raw/scBam/CB_TGGCTGGGTAAGTTCC-*.bam\n",
      "file not done yet ../data/raw/scBam/CB_ACGCAGCAGGGATGGG-*.bam\n"
     ]
    },
    {
     "name": "stderr",
     "output_type": "stream",
     "text": [
      "  1%|▏         | 994/75923 [04:36<3:46:33,  5.51it/s]"
     ]
    },
    {
     "name": "stdout",
     "output_type": "stream",
     "text": [
      "file not done yet ../data/raw/scBam/CB_TTCTCCTCATCCGGGT-*.bam\n",
      "file not done yet ../data/raw/scBam/CB_CTGATAGTCGGCGCAT-*.bam\n"
     ]
    },
    {
     "name": "stderr",
     "output_type": "stream",
     "text": [
      "  1%|▏         | 996/75923 [04:36<3:30:44,  5.93it/s]"
     ]
    },
    {
     "name": "stdout",
     "output_type": "stream",
     "text": [
      "file not done yet ../data/raw/scBam/CB_ACGCCAGCAGCCTGTG-*.bam\n",
      "file not done yet ../data/raw/scBam/CB_TCTTCGGCACGCGAAA-*.bam\n"
     ]
    },
    {
     "name": "stderr",
     "output_type": "stream",
     "text": [
      "\r",
      "  1%|▏         | 997/75923 [04:36<3:41:53,  5.63it/s]"
     ]
    },
    {
     "name": "stdout",
     "output_type": "stream",
     "text": [
      "file not done yet ../data/raw/scBam/CB_AGCTTGAGTCTAGCGC-*.bam\n",
      "python /home/isshamie/software/mito-genotyping/exampleProcessing//01_pileup_counts.py ../data/raw/scBam/CB_AAACGGGGTCGCGTGT-1.bam ../data/raw/scPileup/CB_AAACGGGGTCGCGTGT-1 16571 0 AAACGGGGTCGCGTGT-1.bam 0\n"
     ]
    },
    {
     "name": "stderr",
     "output_type": "stream",
     "text": [
      "  1%|▏         | 1000/75923 [04:39<9:36:13,  2.17it/s]"
     ]
    },
    {
     "name": "stdout",
     "output_type": "stream",
     "text": [
      "file not done yet ../data/raw/scBam/CB_TATTACCCAGACACTT-*.bam\n",
      "file not done yet ../data/raw/scBam/CB_AGGCCGTTCGTACCGG-*.bam\n"
     ]
    },
    {
     "name": "stderr",
     "output_type": "stream",
     "text": [
      "  1%|▏         | 1002/75923 [04:39<6:21:25,  3.27it/s]"
     ]
    },
    {
     "name": "stdout",
     "output_type": "stream",
     "text": [
      "file not done yet ../data/raw/scBam/CB_TGAGCATTCCAGATCA-*.bam\n",
      "file not done yet ../data/raw/scBam/CB_GACAGAGAGACCCACC-*.bam\n"
     ]
    },
    {
     "name": "stderr",
     "output_type": "stream",
     "text": [
      "  1%|▏         | 1004/75923 [04:39<4:39:56,  4.46it/s]"
     ]
    },
    {
     "name": "stdout",
     "output_type": "stream",
     "text": [
      "file not done yet ../data/raw/scBam/CB_AGCTCCTGTTCACGGC-*.bam\n",
      "file not done yet ../data/raw/scBam/CB_CAGGTGCAGATCCGAG-*.bam\n"
     ]
    },
    {
     "name": "stderr",
     "output_type": "stream",
     "text": [
      "  1%|▏         | 1006/75923 [04:40<3:50:29,  5.42it/s]"
     ]
    },
    {
     "name": "stdout",
     "output_type": "stream",
     "text": [
      "file not done yet ../data/raw/scBam/CB_ACGAGGATCACAAACC-*.bam\n",
      "file not done yet ../data/raw/scBam/CB_GGAGCAACAACGATCT-*.bam\n"
     ]
    },
    {
     "name": "stderr",
     "output_type": "stream",
     "text": [
      "  1%|▏         | 1008/75923 [04:40<3:30:12,  5.94it/s]"
     ]
    },
    {
     "name": "stdout",
     "output_type": "stream",
     "text": [
      "file not done yet ../data/raw/scBam/CB_GTTCGGGGTCGCATAT-*.bam\n",
      "file not done yet ../data/raw/scBam/CB_GAAGCAGGTAGGACAC-*.bam\n"
     ]
    },
    {
     "name": "stderr",
     "output_type": "stream",
     "text": [
      "\r",
      "  1%|▏         | 1009/75923 [04:40<4:01:48,  5.16it/s]"
     ]
    },
    {
     "name": "stdout",
     "output_type": "stream",
     "text": [
      "file not done yet ../data/raw/scBam/CB_CGTCAGGTCACGCGGT-*.bam\n",
      "python /home/isshamie/software/mito-genotyping/exampleProcessing//01_pileup_counts.py ../data/raw/scBam/CB_AAACCTGAGTGCGATG-1.bam ../data/raw/scPileup/CB_AAACCTGAGTGCGATG-1 16571 0 AAACCTGAGTGCGATG-1.bam 0\n"
     ]
    },
    {
     "name": "stderr",
     "output_type": "stream",
     "text": [
      "\r",
      "  1%|▏         | 1010/75923 [04:42<14:17:26,  1.46it/s]"
     ]
    },
    {
     "name": "stdout",
     "output_type": "stream",
     "text": [
      "python /home/isshamie/software/mito-genotyping/exampleProcessing//01_pileup_counts.py ../data/raw/scBam/CB_AAGCCGCTCAGGCGAA-1.bam ../data/raw/scPileup/CB_AAGCCGCTCAGGCGAA-1 16571 0 AAGCCGCTCAGGCGAA-1.bam 0\n"
     ]
    },
    {
     "name": "stderr",
     "output_type": "stream",
     "text": [
      "  1%|▏         | 1013/75923 [04:44<12:51:44,  1.62it/s]"
     ]
    },
    {
     "name": "stdout",
     "output_type": "stream",
     "text": [
      "file not done yet ../data/raw/scBam/CB_TTATGCTAGCTAGTTC-*.bam\n",
      "file not done yet ../data/raw/scBam/CB_CTTAGGATCTGCGACG-*.bam\n"
     ]
    },
    {
     "name": "stderr",
     "output_type": "stream",
     "text": [
      "  1%|▏         | 1015/75923 [04:45<7:55:18,  2.63it/s] "
     ]
    },
    {
     "name": "stdout",
     "output_type": "stream",
     "text": [
      "file not done yet ../data/raw/scBam/CB_TTATGCTGTATATCCG-*.bam\n",
      "file not done yet ../data/raw/scBam/CB_GGACAAGAGAAGGACA-*.bam\n"
     ]
    },
    {
     "name": "stderr",
     "output_type": "stream",
     "text": [
      "  1%|▏         | 1017/75923 [04:45<5:30:12,  3.78it/s]"
     ]
    },
    {
     "name": "stdout",
     "output_type": "stream",
     "text": [
      "file not done yet ../data/raw/scBam/CB_CGTCCATGTACTCTCC-*.bam\n",
      "file not done yet ../data/raw/scBam/CB_CACCAGGGTTTGGCGC-*.bam\n",
      "python /home/isshamie/software/mito-genotyping/exampleProcessing//01_pileup_counts.py ../data/raw/scBam/CB_AAAGTAGCAGGATCGA-1.bam ../data/raw/scPileup/CB_AAAGTAGCAGGATCGA-1 16571 0 AAAGTAGCAGGATCGA-1.bam 0\n"
     ]
    },
    {
     "name": "stderr",
     "output_type": "stream",
     "text": [
      "  1%|▏         | 1020/75923 [04:47<9:48:05,  2.12it/s] "
     ]
    },
    {
     "name": "stdout",
     "output_type": "stream",
     "text": [
      "file not done yet ../data/raw/scBam/CB_ATGTGTGTCAAAGACA-*.bam\n",
      "file not done yet ../data/raw/scBam/CB_TCGTACCAGTGAACGC-*.bam\n"
     ]
    },
    {
     "name": "stderr",
     "output_type": "stream",
     "text": [
      "  1%|▏         | 1022/75923 [04:48<6:34:04,  3.17it/s]"
     ]
    },
    {
     "name": "stdout",
     "output_type": "stream",
     "text": [
      "file not done yet ../data/raw/scBam/CB_GTCACGGAGAACAATC-*.bam\n",
      "file not done yet ../data/raw/scBam/CB_GGGCATCCACGGTAGA-*.bam\n"
     ]
    },
    {
     "name": "stderr",
     "output_type": "stream",
     "text": [
      "  1%|▏         | 1024/75923 [04:48<4:54:09,  4.24it/s]"
     ]
    },
    {
     "name": "stdout",
     "output_type": "stream",
     "text": [
      "file not done yet ../data/raw/scBam/CB_CGTCACTGTTGTCTTT-*.bam\n",
      "file not done yet ../data/raw/scBam/CB_GCTGCAGCAGGAACGT-*.bam\n"
     ]
    },
    {
     "name": "stderr",
     "output_type": "stream",
     "text": [
      "  1%|▏         | 1026/75923 [04:48<4:09:41,  5.00it/s]"
     ]
    },
    {
     "name": "stdout",
     "output_type": "stream",
     "text": [
      "file not done yet ../data/raw/scBam/CB_CTTAACTAGGGTGTGT-*.bam\n",
      "file not done yet ../data/raw/scBam/CB_CAGAATCTCTGATTCT-*.bam\n",
      "python /home/isshamie/software/mito-genotyping/exampleProcessing//01_pileup_counts.py ../data/raw/scBam/CB_AATCCAGGTTAAGACA-1.bam ../data/raw/scPileup/CB_AATCCAGGTTAAGACA-1 16571 0 AATCCAGGTTAAGACA-1.bam 0\n"
     ]
    },
    {
     "name": "stderr",
     "output_type": "stream",
     "text": [
      "  1%|▏         | 1029/75923 [04:52<11:47:13,  1.76it/s]"
     ]
    },
    {
     "name": "stdout",
     "output_type": "stream",
     "text": [
      "file not done yet ../data/raw/scBam/CB_CTCGAAAAGGTGCTTT-*.bam\n",
      "file not done yet ../data/raw/scBam/CB_TTGCGTCTCGGCGGTT-*.bam\n"
     ]
    },
    {
     "name": "stderr",
     "output_type": "stream",
     "text": [
      "  1%|▏         | 1031/75923 [04:52<7:25:49,  2.80it/s] "
     ]
    },
    {
     "name": "stdout",
     "output_type": "stream",
     "text": [
      "file not done yet ../data/raw/scBam/CB_GTCGTAAAGACAATAC-*.bam\n",
      "file not done yet ../data/raw/scBam/CB_CTCAGAAGTCAATGTC-*.bam\n"
     ]
    },
    {
     "name": "stderr",
     "output_type": "stream",
     "text": [
      "  1%|▏         | 1033/75923 [04:52<5:11:56,  4.00it/s]"
     ]
    },
    {
     "name": "stdout",
     "output_type": "stream",
     "text": [
      "file not done yet ../data/raw/scBam/CB_CGTTGGGAGGGTATCG-*.bam\n",
      "file not done yet ../data/raw/scBam/CB_TCGCGAGAGCTAAACA-*.bam\n"
     ]
    },
    {
     "name": "stderr",
     "output_type": "stream",
     "text": [
      "  1%|▏         | 1035/75923 [04:52<4:11:45,  4.96it/s]"
     ]
    },
    {
     "name": "stdout",
     "output_type": "stream",
     "text": [
      "file not done yet ../data/raw/scBam/CB_CATGGCGGTGGTCTCG-*.bam\n",
      "file not done yet ../data/raw/scBam/CB_CGGCTAGCATGGGAAC-*.bam\n"
     ]
    },
    {
     "name": "stderr",
     "output_type": "stream",
     "text": [
      "  1%|▏         | 1037/75923 [04:53<3:45:28,  5.54it/s]"
     ]
    },
    {
     "name": "stdout",
     "output_type": "stream",
     "text": [
      "file not done yet ../data/raw/scBam/CB_GTCTCGTGTGAACCTT-*.bam\n",
      "file not done yet ../data/raw/scBam/CB_TGACTAGAGGGTGTTG-*.bam\n"
     ]
    },
    {
     "name": "stderr",
     "output_type": "stream",
     "text": [
      "  1%|▏         | 1039/75923 [04:53<3:56:17,  5.28it/s]"
     ]
    },
    {
     "name": "stdout",
     "output_type": "stream",
     "text": [
      "file not done yet ../data/raw/scBam/CB_CTCGGGAAGATGTGTA-*.bam\n",
      "file not done yet ../data/raw/scBam/CB_CACAAACGTTAGAACA-*.bam\n"
     ]
    },
    {
     "name": "stderr",
     "output_type": "stream",
     "text": [
      "  1%|▏         | 1041/75923 [04:54<3:58:36,  5.23it/s]"
     ]
    },
    {
     "name": "stdout",
     "output_type": "stream",
     "text": [
      "file not done yet ../data/raw/scBam/CB_CACTCCAGTACCATCA-*.bam\n",
      "file not done yet ../data/raw/scBam/CB_TCAGATGGTCCGAACC-*.bam\n"
     ]
    },
    {
     "name": "stderr",
     "output_type": "stream",
     "text": [
      "  1%|▏         | 1043/75923 [04:54<3:51:07,  5.40it/s]"
     ]
    },
    {
     "name": "stdout",
     "output_type": "stream",
     "text": [
      "file not done yet ../data/raw/scBam/CB_CGCTATCGTGTTTGGT-*.bam\n",
      "file not done yet ../data/raw/scBam/CB_CGGACACCATGACATC-*.bam\n"
     ]
    },
    {
     "name": "stderr",
     "output_type": "stream",
     "text": [
      "  1%|▏         | 1045/75923 [04:54<3:33:59,  5.83it/s]"
     ]
    },
    {
     "name": "stdout",
     "output_type": "stream",
     "text": [
      "file not done yet ../data/raw/scBam/CB_TTCTACATCCTCAATT-*.bam\n",
      "file not done yet ../data/raw/scBam/CB_GATCAGTAGGATGGTC-*.bam\n",
      "python /home/isshamie/software/mito-genotyping/exampleProcessing//01_pileup_counts.py ../data/raw/scBam/CB_ACACCCTCACATGTGT-1.bam ../data/raw/scPileup/CB_ACACCCTCACATGTGT-1 16571 0 ACACCCTCACATGTGT-1.bam 0\n"
     ]
    },
    {
     "name": "stderr",
     "output_type": "stream",
     "text": [
      "  1%|▏         | 1048/75923 [04:56<7:24:48,  2.81it/s] "
     ]
    },
    {
     "name": "stdout",
     "output_type": "stream",
     "text": [
      "file not done yet ../data/raw/scBam/CB_AGACGTTAGAGGTTGC-*.bam\n",
      "file not done yet ../data/raw/scBam/CB_AGTGTCACAATACGCT-*.bam\n"
     ]
    },
    {
     "name": "stderr",
     "output_type": "stream",
     "text": [
      "  1%|▏         | 1050/75923 [04:56<5:11:28,  4.01it/s]"
     ]
    },
    {
     "name": "stdout",
     "output_type": "stream",
     "text": [
      "file not done yet ../data/raw/scBam/CB_AGCAGCCAGTTGTAGA-*.bam\n",
      "file not done yet ../data/raw/scBam/CB_CGACCTTCATCTCCCA-*.bam\n"
     ]
    },
    {
     "name": "stderr",
     "output_type": "stream",
     "text": [
      "\r",
      "  1%|▏         | 1051/75923 [04:56<4:29:21,  4.63it/s]"
     ]
    },
    {
     "name": "stdout",
     "output_type": "stream",
     "text": [
      "file not done yet ../data/raw/scBam/CB_TCAACGAAGAGCTATA-*.bam\n"
     ]
    },
    {
     "name": "stderr",
     "output_type": "stream",
     "text": [
      "  1%|▏         | 1053/75923 [04:57<3:56:32,  5.28it/s]"
     ]
    },
    {
     "name": "stdout",
     "output_type": "stream",
     "text": [
      "file not done yet ../data/raw/scBam/CB_TGCGCAGGTACAGACG-*.bam\n",
      "file not done yet ../data/raw/scBam/CB_CGTTAGATCACGCATA-*.bam\n"
     ]
    },
    {
     "name": "stderr",
     "output_type": "stream",
     "text": [
      "\r",
      "  1%|▏         | 1054/75923 [04:57<4:03:15,  5.13it/s]"
     ]
    },
    {
     "name": "stdout",
     "output_type": "stream",
     "text": [
      "file not done yet ../data/raw/scBam/CB_TAAGAGAAGCTGTTCA-*.bam\n"
     ]
    },
    {
     "name": "stderr",
     "output_type": "stream",
     "text": [
      "  1%|▏         | 1056/75923 [04:57<3:43:59,  5.57it/s]"
     ]
    },
    {
     "name": "stdout",
     "output_type": "stream",
     "text": [
      "file not done yet ../data/raw/scBam/CB_TCTGAGACAATGGTCT-*.bam\n",
      "file not done yet ../data/raw/scBam/CB_GGAACTTAGGACTGGT-*.bam\n"
     ]
    },
    {
     "name": "stderr",
     "output_type": "stream",
     "text": [
      "  1%|▏         | 1058/75923 [04:58<3:22:34,  6.16it/s]"
     ]
    },
    {
     "name": "stdout",
     "output_type": "stream",
     "text": [
      "file not done yet ../data/raw/scBam/CB_TCAACGAAGCGAAGGG-*.bam\n",
      "file not done yet ../data/raw/scBam/CB_ATCATCTAGCTGCAAG-*.bam\n"
     ]
    },
    {
     "name": "stderr",
     "output_type": "stream",
     "text": [
      "\r",
      "  1%|▏         | 1059/75923 [04:58<3:39:33,  5.68it/s]"
     ]
    },
    {
     "name": "stdout",
     "output_type": "stream",
     "text": [
      "file not done yet ../data/raw/scBam/CB_ACTTACTTCGCCCTTA-*.bam\n"
     ]
    },
    {
     "name": "stderr",
     "output_type": "stream",
     "text": [
      "  1%|▏         | 1061/75923 [04:58<3:59:55,  5.20it/s]"
     ]
    },
    {
     "name": "stdout",
     "output_type": "stream",
     "text": [
      "file not done yet ../data/raw/scBam/CB_CCTTTCTCAGTAGAGC-*.bam\n",
      "file not done yet ../data/raw/scBam/CB_CTGAAACTCAGCGATT-*.bam\n"
     ]
    },
    {
     "name": "stderr",
     "output_type": "stream",
     "text": [
      "  1%|▏         | 1063/75923 [04:59<3:48:53,  5.45it/s]"
     ]
    },
    {
     "name": "stdout",
     "output_type": "stream",
     "text": [
      "file not done yet ../data/raw/scBam/CB_AGAATAGAGAGGTACC-*.bam\n",
      "file not done yet ../data/raw/scBam/CB_CCATGTCGTACCGGCT-*.bam\n"
     ]
    },
    {
     "name": "stderr",
     "output_type": "stream",
     "text": [
      "\r",
      "  1%|▏         | 1064/75923 [04:59<3:39:51,  5.67it/s]"
     ]
    },
    {
     "name": "stdout",
     "output_type": "stream",
     "text": [
      "file not done yet ../data/raw/scBam/CB_CTACGTCTCTTGCCGT-*.bam\n"
     ]
    },
    {
     "name": "stderr",
     "output_type": "stream",
     "text": [
      "\r",
      "  1%|▏         | 1065/75923 [04:59<4:46:57,  4.35it/s]"
     ]
    },
    {
     "name": "stdout",
     "output_type": "stream",
     "text": [
      "file not done yet ../data/raw/scBam/CB_GCGCAGTTCCTGTACC-*.bam\n"
     ]
    },
    {
     "name": "stderr",
     "output_type": "stream",
     "text": [
      "\r",
      "  1%|▏         | 1066/75923 [05:00<6:57:21,  2.99it/s]"
     ]
    },
    {
     "name": "stdout",
     "output_type": "stream",
     "text": [
      "file not done yet ../data/raw/scBam/CB_GAATGAATCGAACTGT-*.bam\n"
     ]
    },
    {
     "name": "stderr",
     "output_type": "stream",
     "text": [
      "\r",
      "  1%|▏         | 1067/75923 [05:00<9:37:58,  2.16it/s]"
     ]
    },
    {
     "name": "stdout",
     "output_type": "stream",
     "text": [
      "file not done yet ../data/raw/scBam/CB_CTGAAACTCTATGTGG-*.bam\n"
     ]
    },
    {
     "name": "stderr",
     "output_type": "stream",
     "text": [
      "\r",
      "  1%|▏         | 1068/75923 [05:01<9:14:01,  2.25it/s]"
     ]
    },
    {
     "name": "stdout",
     "output_type": "stream",
     "text": [
      "file not done yet ../data/raw/scBam/CB_AGAGTGGTCTAAGCCA-*.bam\n"
     ]
    },
    {
     "name": "stderr",
     "output_type": "stream",
     "text": [
      "  1%|▏         | 1070/75923 [05:01<6:46:46,  3.07it/s]"
     ]
    },
    {
     "name": "stdout",
     "output_type": "stream",
     "text": [
      "file not done yet ../data/raw/scBam/CB_GCGCAACTCAGCCTAA-*.bam\n",
      "file not done yet ../data/raw/scBam/CB_GTCCTCAAGCCCTAAT-*.bam\n"
     ]
    },
    {
     "name": "stderr",
     "output_type": "stream",
     "text": [
      "  1%|▏         | 1072/75923 [05:02<4:53:37,  4.25it/s]"
     ]
    },
    {
     "name": "stdout",
     "output_type": "stream",
     "text": [
      "file not done yet ../data/raw/scBam/CB_AGAGCGACAGACAAGC-*.bam\n",
      "file not done yet ../data/raw/scBam/CB_GTGAAGGAGTTCGATC-*.bam\n"
     ]
    },
    {
     "name": "stderr",
     "output_type": "stream",
     "text": [
      "  1%|▏         | 1074/75923 [05:02<4:07:27,  5.04it/s]"
     ]
    },
    {
     "name": "stdout",
     "output_type": "stream",
     "text": [
      "file not done yet ../data/raw/scBam/CB_CGGCTAGTCAGCTTAG-*.bam\n",
      "file not done yet ../data/raw/scBam/CB_CAAGTTGCATGGTTGT-*.bam\n"
     ]
    },
    {
     "name": "stderr",
     "output_type": "stream",
     "text": [
      "  1%|▏         | 1076/75923 [05:02<3:49:38,  5.43it/s]"
     ]
    },
    {
     "name": "stdout",
     "output_type": "stream",
     "text": [
      "file not done yet ../data/raw/scBam/CB_ATCGAGTAGTGCTGCC-*.bam\n",
      "file not done yet ../data/raw/scBam/CB_CGTGAGCGTTGTCTTT-*.bam\n"
     ]
    },
    {
     "name": "stderr",
     "output_type": "stream",
     "text": [
      "\r",
      "  1%|▏         | 1077/75923 [05:02<3:37:46,  5.73it/s]"
     ]
    },
    {
     "name": "stdout",
     "output_type": "stream",
     "text": [
      "file not done yet ../data/raw/scBam/CB_ATAGACCAGACTCGGA-*.bam\n"
     ]
    },
    {
     "name": "stderr",
     "output_type": "stream",
     "text": [
      "  1%|▏         | 1080/75923 [05:03<3:28:41,  5.98it/s]"
     ]
    },
    {
     "name": "stdout",
     "output_type": "stream",
     "text": [
      "file not done yet ../data/raw/scBam/CB_CGTCAGGAGACAAAGG-*.bam\n",
      "file not done yet ../data/raw/scBam/CB_TTCGAAGGTATGGTTC-*.bam\n",
      "file not done yet ../data/raw/scBam/CB_TACGGTACAGGGAGAG-*.bam\n"
     ]
    },
    {
     "name": "stderr",
     "output_type": "stream",
     "text": [
      "\r",
      "  1%|▏         | 1081/75923 [05:03<3:23:57,  6.12it/s]"
     ]
    },
    {
     "name": "stdout",
     "output_type": "stream",
     "text": [
      "file not done yet ../data/raw/scBam/CB_CAACCTCTCACCGGGT-*.bam\n"
     ]
    },
    {
     "name": "stderr",
     "output_type": "stream",
     "text": [
      "\r",
      "  1%|▏         | 1082/75923 [05:04<5:17:14,  3.93it/s]"
     ]
    },
    {
     "name": "stdout",
     "output_type": "stream",
     "text": [
      "file not done yet ../data/raw/scBam/CB_GGAACTTAGCAGGCTA-*.bam\n"
     ]
    },
    {
     "name": "stderr",
     "output_type": "stream",
     "text": [
      "  1%|▏         | 1084/75923 [05:04<5:07:43,  4.05it/s]"
     ]
    },
    {
     "name": "stdout",
     "output_type": "stream",
     "text": [
      "file not done yet ../data/raw/scBam/CB_TGAGGGAAGCTAGTCT-*.bam\n",
      "file not done yet ../data/raw/scBam/CB_CACACCTAGGCTATCT-*.bam\n"
     ]
    },
    {
     "name": "stderr",
     "output_type": "stream",
     "text": [
      "\r",
      "  1%|▏         | 1085/75923 [05:04<4:40:53,  4.44it/s]"
     ]
    },
    {
     "name": "stdout",
     "output_type": "stream",
     "text": [
      "file not done yet ../data/raw/scBam/CB_TCCACACTCTGAGGGA-*.bam\n"
     ]
    },
    {
     "name": "stderr",
     "output_type": "stream",
     "text": [
      "  1%|▏         | 1087/75923 [05:05<4:15:45,  4.88it/s]"
     ]
    },
    {
     "name": "stdout",
     "output_type": "stream",
     "text": [
      "file not done yet ../data/raw/scBam/CB_CCTCAGTAGTACACCT-*.bam\n",
      "file not done yet ../data/raw/scBam/CB_CATATTCAGTCCGTAT-*.bam\n"
     ]
    },
    {
     "name": "stderr",
     "output_type": "stream",
     "text": [
      "  1%|▏         | 1089/75923 [05:05<4:03:55,  5.11it/s]"
     ]
    },
    {
     "name": "stdout",
     "output_type": "stream",
     "text": [
      "file not done yet ../data/raw/scBam/CB_CTCGAGGAGGTAAACT-*.bam\n",
      "file not done yet ../data/raw/scBam/CB_CCTACCACACAGCGTC-*.bam\n"
     ]
    },
    {
     "name": "stderr",
     "output_type": "stream",
     "text": [
      "  1%|▏         | 1091/75923 [05:05<3:40:57,  5.64it/s]"
     ]
    },
    {
     "name": "stdout",
     "output_type": "stream",
     "text": [
      "file not done yet ../data/raw/scBam/CB_CGTTCTGAGTCTTGCA-*.bam\n",
      "file not done yet ../data/raw/scBam/CB_GTGAAGGCATGCCACG-*.bam\n"
     ]
    },
    {
     "name": "stderr",
     "output_type": "stream",
     "text": [
      "  1%|▏         | 1093/75923 [05:06<3:28:27,  5.98it/s]"
     ]
    },
    {
     "name": "stdout",
     "output_type": "stream",
     "text": [
      "file not done yet ../data/raw/scBam/CB_TATGCCCGTCGGCACT-*.bam\n",
      "file not done yet ../data/raw/scBam/CB_CATATGGTCTCTGCTG-*.bam\n"
     ]
    },
    {
     "name": "stderr",
     "output_type": "stream",
     "text": [
      "  1%|▏         | 1095/75923 [05:06<3:48:56,  5.45it/s]"
     ]
    },
    {
     "name": "stdout",
     "output_type": "stream",
     "text": [
      "file not done yet ../data/raw/scBam/CB_CCTACACGTCTCATCC-*.bam\n",
      "file not done yet ../data/raw/scBam/CB_ATCATCTCAGGGTTAG-*.bam\n"
     ]
    },
    {
     "name": "stderr",
     "output_type": "stream",
     "text": [
      "  1%|▏         | 1097/75923 [05:06<3:38:53,  5.70it/s]"
     ]
    },
    {
     "name": "stdout",
     "output_type": "stream",
     "text": [
      "file not done yet ../data/raw/scBam/CB_GAATAAGTCCCTAATT-*.bam\n",
      "file not done yet ../data/raw/scBam/CB_TTAGGCAGTCCTCCAT-*.bam\n",
      "python /home/isshamie/software/mito-genotyping/exampleProcessing//01_pileup_counts.py ../data/raw/scBam/CB_AAGACCTTCTAACTCT-1.bam ../data/raw/scPileup/CB_AAGACCTTCTAACTCT-1 16571 0 AAGACCTTCTAACTCT-1.bam 0\n"
     ]
    },
    {
     "name": "stderr",
     "output_type": "stream",
     "text": [
      "  1%|▏         | 1100/75923 [05:09<8:55:15,  2.33it/s] "
     ]
    },
    {
     "name": "stdout",
     "output_type": "stream",
     "text": [
      "file not done yet ../data/raw/scBam/CB_TAGCCGGAGGTACTCT-*.bam\n",
      "file not done yet ../data/raw/scBam/CB_GGAACTTAGACTTGAA-*.bam\n"
     ]
    },
    {
     "name": "stderr",
     "output_type": "stream",
     "text": [
      "\r",
      "  1%|▏         | 1101/75923 [05:09<7:11:40,  2.89it/s]"
     ]
    },
    {
     "name": "stdout",
     "output_type": "stream",
     "text": [
      "file not done yet ../data/raw/scBam/CB_ACTGATGTCACCCGAG-*.bam\n"
     ]
    },
    {
     "name": "stderr",
     "output_type": "stream",
     "text": [
      "  1%|▏         | 1103/75923 [05:09<5:38:44,  3.68it/s]"
     ]
    },
    {
     "name": "stdout",
     "output_type": "stream",
     "text": [
      "file not done yet ../data/raw/scBam/CB_TTTATGCTCCACTCCA-*.bam\n",
      "file not done yet ../data/raw/scBam/CB_CTACGTCGTTCTCATT-*.bam\n"
     ]
    },
    {
     "name": "stderr",
     "output_type": "stream",
     "text": [
      "  1%|▏         | 1105/75923 [05:10<4:41:17,  4.43it/s]"
     ]
    },
    {
     "name": "stdout",
     "output_type": "stream",
     "text": [
      "file not done yet ../data/raw/scBam/CB_GCATGATCACGGTAAG-*.bam\n",
      "file not done yet ../data/raw/scBam/CB_GGGCATCAGCACACAG-*.bam\n"
     ]
    },
    {
     "name": "stderr",
     "output_type": "stream",
     "text": [
      "  1%|▏         | 1107/75923 [05:10<4:26:42,  4.68it/s]"
     ]
    },
    {
     "name": "stdout",
     "output_type": "stream",
     "text": [
      "file not done yet ../data/raw/scBam/CB_CACTCCACAAAGGAAG-*.bam\n",
      "file not done yet ../data/raw/scBam/CB_GCAATCAGTCATATCG-*.bam\n"
     ]
    },
    {
     "name": "stderr",
     "output_type": "stream",
     "text": [
      "\r",
      "  1%|▏         | 1108/75923 [05:10<4:06:56,  5.05it/s]"
     ]
    },
    {
     "name": "stdout",
     "output_type": "stream",
     "text": [
      "file not done yet ../data/raw/scBam/CB_CCAATCCTCAGCTCGG-*.bam\n"
     ]
    },
    {
     "name": "stderr",
     "output_type": "stream",
     "text": [
      "  1%|▏         | 1110/75923 [05:11<4:19:10,  4.81it/s]"
     ]
    },
    {
     "name": "stdout",
     "output_type": "stream",
     "text": [
      "file not done yet ../data/raw/scBam/CB_CACAAACAGTGAAGTT-*.bam\n",
      "file not done yet ../data/raw/scBam/CB_CTCTAATGTGTGACCC-*.bam\n"
     ]
    },
    {
     "name": "stderr",
     "output_type": "stream",
     "text": [
      "\r",
      "  1%|▏         | 1111/75923 [05:11<4:09:35,  5.00it/s]"
     ]
    },
    {
     "name": "stdout",
     "output_type": "stream",
     "text": [
      "file not done yet ../data/raw/scBam/CB_CATTCGCAGATGTAAC-*.bam\n",
      "python /home/isshamie/software/mito-genotyping/exampleProcessing//01_pileup_counts.py ../data/raw/scBam/CB_AAACGGGGTGAGGCTA-1.bam ../data/raw/scPileup/CB_AAACGGGGTGAGGCTA-1 16571 0 AAACGGGGTGAGGCTA-1.bam 0\n"
     ]
    },
    {
     "name": "stderr",
     "output_type": "stream",
     "text": [
      "  1%|▏         | 1114/75923 [05:13<7:29:45,  2.77it/s] "
     ]
    },
    {
     "name": "stdout",
     "output_type": "stream",
     "text": [
      "file not done yet ../data/raw/scBam/CB_AGTGTCAAGTAGCCGA-*.bam\n",
      "file not done yet ../data/raw/scBam/CB_ACGAGGAAGACTGTAA-*.bam\n"
     ]
    },
    {
     "name": "stderr",
     "output_type": "stream",
     "text": [
      "  1%|▏         | 1116/75923 [05:13<5:28:13,  3.80it/s]"
     ]
    },
    {
     "name": "stdout",
     "output_type": "stream",
     "text": [
      "file not done yet ../data/raw/scBam/CB_CACAGGCTCCAGATCA-*.bam\n",
      "file not done yet ../data/raw/scBam/CB_ACGAGGATCACAGTAC-*.bam\n"
     ]
    },
    {
     "name": "stderr",
     "output_type": "stream",
     "text": [
      "  1%|▏         | 1118/75923 [05:13<4:30:50,  4.60it/s]"
     ]
    },
    {
     "name": "stdout",
     "output_type": "stream",
     "text": [
      "file not done yet ../data/raw/scBam/CB_ACTGATGTCTGTTTGT-*.bam\n",
      "file not done yet ../data/raw/scBam/CB_AGGGAGTGTAGGCTGA-*.bam\n"
     ]
    },
    {
     "name": "stderr",
     "output_type": "stream",
     "text": [
      "\r",
      "  1%|▏         | 1119/75923 [05:13<4:23:42,  4.73it/s]"
     ]
    },
    {
     "name": "stdout",
     "output_type": "stream",
     "text": [
      "file not done yet ../data/raw/scBam/CB_AGCCTAAAGTTACGGG-*.bam\n"
     ]
    },
    {
     "name": "stderr",
     "output_type": "stream",
     "text": [
      "\r",
      "  1%|▏         | 1120/75923 [05:14<4:34:19,  4.54it/s]"
     ]
    },
    {
     "name": "stdout",
     "output_type": "stream",
     "text": [
      "file not done yet ../data/raw/scBam/CB_GATCTAGTCAAACAAG-*.bam\n",
      "python /home/isshamie/software/mito-genotyping/exampleProcessing//01_pileup_counts.py ../data/raw/scBam/CB_AACTGGTGTACACCGC-1.bam ../data/raw/scPileup/CB_AACTGGTGTACACCGC-1 16571 0 AACTGGTGTACACCGC-1.bam 0\n"
     ]
    },
    {
     "name": "stderr",
     "output_type": "stream",
     "text": [
      "  1%|▏         | 1123/75923 [05:16<8:15:36,  2.52it/s] "
     ]
    },
    {
     "name": "stdout",
     "output_type": "stream",
     "text": [
      "file not done yet ../data/raw/scBam/CB_GTATTCTAGTACATGA-*.bam\n",
      "file not done yet ../data/raw/scBam/CB_TAAGAGACAGATTGCT-*.bam\n"
     ]
    },
    {
     "name": "stderr",
     "output_type": "stream",
     "text": [
      "  1%|▏         | 1125/75923 [05:16<5:58:23,  3.48it/s]"
     ]
    },
    {
     "name": "stdout",
     "output_type": "stream",
     "text": [
      "file not done yet ../data/raw/scBam/CB_CCGTACTCAGGGAGAG-*.bam\n",
      "file not done yet ../data/raw/scBam/CB_CACAAACTCTTCTGGC-*.bam\n"
     ]
    },
    {
     "name": "stderr",
     "output_type": "stream",
     "text": [
      "  1%|▏         | 1127/75923 [05:16<4:43:16,  4.40it/s]"
     ]
    },
    {
     "name": "stdout",
     "output_type": "stream",
     "text": [
      "file not done yet ../data/raw/scBam/CB_TAAGCGTTCAGCCTAA-*.bam\n",
      "file not done yet ../data/raw/scBam/CB_TTTATGCTCACTATTC-*.bam\n"
     ]
    },
    {
     "name": "stderr",
     "output_type": "stream",
     "text": [
      "  1%|▏         | 1129/75923 [05:17<4:12:02,  4.95it/s]"
     ]
    },
    {
     "name": "stdout",
     "output_type": "stream",
     "text": [
      "file not done yet ../data/raw/scBam/CB_CCGGGATCAGGGTTAG-*.bam\n",
      "file not done yet ../data/raw/scBam/CB_GAAATGAAGTCTCAAC-*.bam\n"
     ]
    },
    {
     "name": "stderr",
     "output_type": "stream",
     "text": [
      "  1%|▏         | 1131/75923 [05:17<3:52:26,  5.36it/s]"
     ]
    },
    {
     "name": "stdout",
     "output_type": "stream",
     "text": [
      "file not done yet ../data/raw/scBam/CB_CTAGAGTCACCACGTG-*.bam\n",
      "file not done yet ../data/raw/scBam/CB_CTCCTAGTCAAGATCC-*.bam\n"
     ]
    },
    {
     "name": "stderr",
     "output_type": "stream",
     "text": [
      "\r",
      "  1%|▏         | 1132/75923 [05:17<3:50:21,  5.41it/s]"
     ]
    },
    {
     "name": "stdout",
     "output_type": "stream",
     "text": [
      "file not done yet ../data/raw/scBam/CB_TCGCGTTAGGACCACA-*.bam\n"
     ]
    },
    {
     "name": "stderr",
     "output_type": "stream",
     "text": [
      "\r",
      "  1%|▏         | 1133/75923 [05:17<4:06:25,  5.06it/s]"
     ]
    },
    {
     "name": "stdout",
     "output_type": "stream",
     "text": [
      "file not done yet ../data/raw/scBam/CB_CCTATTAGTCTAACGT-*.bam\n"
     ]
    },
    {
     "name": "stderr",
     "output_type": "stream",
     "text": [
      "  1%|▏         | 1135/75923 [05:18<4:07:42,  5.03it/s]"
     ]
    },
    {
     "name": "stdout",
     "output_type": "stream",
     "text": [
      "file not done yet ../data/raw/scBam/CB_TACTTACTCGCACTCT-*.bam\n",
      "file not done yet ../data/raw/scBam/CB_CTGTGCTTCGCATGAT-*.bam\n"
     ]
    },
    {
     "name": "stderr",
     "output_type": "stream",
     "text": [
      "  1%|▏         | 1137/75923 [05:18<4:08:14,  5.02it/s]"
     ]
    },
    {
     "name": "stdout",
     "output_type": "stream",
     "text": [
      "file not done yet ../data/raw/scBam/CB_CTAACTTAGCTCTCGG-*.bam\n",
      "file not done yet ../data/raw/scBam/CB_CGGAGCTGTGATAAGT-*.bam\n"
     ]
    },
    {
     "name": "stderr",
     "output_type": "stream",
     "text": [
      "\r",
      "  1%|▏         | 1138/75923 [05:18<4:05:18,  5.08it/s]"
     ]
    },
    {
     "name": "stdout",
     "output_type": "stream",
     "text": [
      "file not done yet ../data/raw/scBam/CB_TGGCGCAGTGAGGGAG-*.bam\n"
     ]
    },
    {
     "name": "stderr",
     "output_type": "stream",
     "text": [
      "\r",
      "  2%|▏         | 1139/75923 [05:19<4:20:41,  4.78it/s]"
     ]
    },
    {
     "name": "stdout",
     "output_type": "stream",
     "text": [
      "file not done yet ../data/raw/scBam/CB_AGGTCCGTCTGGCGAC-*.bam\n"
     ]
    },
    {
     "name": "stderr",
     "output_type": "stream",
     "text": [
      "  2%|▏         | 1141/75923 [05:19<4:20:24,  4.79it/s]"
     ]
    },
    {
     "name": "stdout",
     "output_type": "stream",
     "text": [
      "file not done yet ../data/raw/scBam/CB_GCATGCGAGCTAACAA-*.bam\n",
      "file not done yet ../data/raw/scBam/CB_CTGTGCTAGGACAGAA-*.bam\n"
     ]
    },
    {
     "name": "stderr",
     "output_type": "stream",
     "text": [
      "\r",
      "  2%|▏         | 1142/75923 [05:19<4:09:12,  5.00it/s]"
     ]
    },
    {
     "name": "stdout",
     "output_type": "stream",
     "text": [
      "file not done yet ../data/raw/scBam/CB_TAGGCATAGGTGCTAG-*.bam\n"
     ]
    },
    {
     "name": "stderr",
     "output_type": "stream",
     "text": [
      "\r",
      "  2%|▏         | 1143/75923 [05:19<4:14:33,  4.90it/s]"
     ]
    },
    {
     "name": "stdout",
     "output_type": "stream",
     "text": [
      "file not done yet ../data/raw/scBam/CB_AGAATAGTCCCATTAT-*.bam\n"
     ]
    },
    {
     "name": "stderr",
     "output_type": "stream",
     "text": [
      "  2%|▏         | 1145/75923 [05:20<4:15:06,  4.89it/s]"
     ]
    },
    {
     "name": "stdout",
     "output_type": "stream",
     "text": [
      "file not done yet ../data/raw/scBam/CB_TGCCCATTCTTTAGGG-*.bam\n",
      "file not done yet ../data/raw/scBam/CB_CTAATGGGTACGCACC-*.bam\n"
     ]
    },
    {
     "name": "stderr",
     "output_type": "stream",
     "text": [
      "  2%|▏         | 1147/75923 [05:20<3:57:08,  5.26it/s]"
     ]
    },
    {
     "name": "stdout",
     "output_type": "stream",
     "text": [
      "file not done yet ../data/raw/scBam/CB_TACTTACAGCTGGAAC-*.bam\n",
      "file not done yet ../data/raw/scBam/CB_GTTACAGGTGCCTTGG-*.bam\n"
     ]
    },
    {
     "name": "stderr",
     "output_type": "stream",
     "text": [
      "\r",
      "  2%|▏         | 1148/75923 [05:20<3:46:55,  5.49it/s]"
     ]
    },
    {
     "name": "stdout",
     "output_type": "stream",
     "text": [
      "file not done yet ../data/raw/scBam/CB_GGGAGATTCGCGCCAA-*.bam\n"
     ]
    },
    {
     "name": "stderr",
     "output_type": "stream",
     "text": [
      "  2%|▏         | 1150/75923 [05:21<4:12:25,  4.94it/s]"
     ]
    },
    {
     "name": "stdout",
     "output_type": "stream",
     "text": [
      "file not done yet ../data/raw/scBam/CB_TGTGTTTTCCGCGTTT-*.bam\n",
      "file not done yet ../data/raw/scBam/CB_GGACAGATCGGTCCGA-*.bam\n"
     ]
    },
    {
     "name": "stderr",
     "output_type": "stream",
     "text": [
      "\r",
      "  2%|▏         | 1151/75923 [05:21<4:05:10,  5.08it/s]"
     ]
    },
    {
     "name": "stdout",
     "output_type": "stream",
     "text": [
      "file not done yet ../data/raw/scBam/CB_CTGATCCTCCTCTAGC-*.bam\n"
     ]
    },
    {
     "name": "stderr",
     "output_type": "stream",
     "text": [
      "  2%|▏         | 1154/75923 [05:22<3:44:11,  5.56it/s]"
     ]
    },
    {
     "name": "stdout",
     "output_type": "stream",
     "text": [
      "file not done yet ../data/raw/scBam/CB_CATATTCGTCTTCAAG-*.bam\n",
      "file not done yet ../data/raw/scBam/CB_TGGTTAGGTGGTGTAG-*.bam\n",
      "file not done yet ../data/raw/scBam/CB_GGCTGGTGTACTTGAC-*.bam\n"
     ]
    },
    {
     "name": "stderr",
     "output_type": "stream",
     "text": [
      "\r",
      "  2%|▏         | 1155/75923 [05:22<3:57:45,  5.24it/s]"
     ]
    },
    {
     "name": "stdout",
     "output_type": "stream",
     "text": [
      "file not done yet ../data/raw/scBam/CB_GAAACTCCACGCCAGT-*.bam\n"
     ]
    },
    {
     "name": "stderr",
     "output_type": "stream",
     "text": [
      "  2%|▏         | 1158/75923 [05:22<4:04:56,  5.09it/s]"
     ]
    },
    {
     "name": "stdout",
     "output_type": "stream",
     "text": [
      "file not done yet ../data/raw/scBam/CB_CAACCTCCAACACCCG-*.bam\n",
      "file not done yet ../data/raw/scBam/CB_CGAATGTAGACTGTAA-*.bam\n",
      "file not done yet ../data/raw/scBam/CB_TACGGGCCACCGTTGG-*.bam\n"
     ]
    },
    {
     "name": "stderr",
     "output_type": "stream",
     "text": [
      "\r",
      "  2%|▏         | 1159/75923 [05:23<4:27:20,  4.66it/s]"
     ]
    },
    {
     "name": "stdout",
     "output_type": "stream",
     "text": [
      "file not done yet ../data/raw/scBam/CB_GTGCATAGTTTAGCTG-*.bam\n"
     ]
    },
    {
     "name": "stderr",
     "output_type": "stream",
     "text": [
      "\r",
      "  2%|▏         | 1160/75923 [05:23<4:37:43,  4.49it/s]"
     ]
    },
    {
     "name": "stdout",
     "output_type": "stream",
     "text": [
      "file not done yet ../data/raw/scBam/CB_CCCAGTTAGCGTTTAC-*.bam\n"
     ]
    },
    {
     "name": "stderr",
     "output_type": "stream",
     "text": [
      "\r",
      "  2%|▏         | 1161/75923 [05:23<4:51:57,  4.27it/s]"
     ]
    },
    {
     "name": "stdout",
     "output_type": "stream",
     "text": [
      "file not done yet ../data/raw/scBam/CB_TCGGTAAAGCTGCAAG-*.bam\n"
     ]
    },
    {
     "name": "stderr",
     "output_type": "stream",
     "text": [
      "  2%|▏         | 1163/75923 [05:24<4:35:00,  4.53it/s]"
     ]
    },
    {
     "name": "stdout",
     "output_type": "stream",
     "text": [
      "file not done yet ../data/raw/scBam/CB_CGTGTCTAGTGAACAT-*.bam\n",
      "file not done yet ../data/raw/scBam/CB_GTAGTCAGTAGAGGAA-*.bam\n"
     ]
    },
    {
     "name": "stderr",
     "output_type": "stream",
     "text": [
      "  2%|▏         | 1165/75923 [05:24<3:56:25,  5.27it/s]"
     ]
    },
    {
     "name": "stdout",
     "output_type": "stream",
     "text": [
      "file not done yet ../data/raw/scBam/CB_GGTGAAGAGACTCGGA-*.bam\n",
      "file not done yet ../data/raw/scBam/CB_GTCTCGTCAGACAAGC-*.bam\n"
     ]
    },
    {
     "name": "stderr",
     "output_type": "stream",
     "text": [
      "  2%|▏         | 1167/75923 [05:24<4:03:49,  5.11it/s]"
     ]
    },
    {
     "name": "stdout",
     "output_type": "stream",
     "text": [
      "file not done yet ../data/raw/scBam/CB_GGAATAATCTACCTGC-*.bam\n",
      "file not done yet ../data/raw/scBam/CB_GTGAAGGCATCGTCGG-*.bam\n",
      "python /home/isshamie/software/mito-genotyping/exampleProcessing//01_pileup_counts.py ../data/raw/scBam/CB_ACATACGGTGAGGGTT-1.bam ../data/raw/scPileup/CB_ACATACGGTGAGGGTT-1 16571 0 ACATACGGTGAGGGTT-1.bam 0\n"
     ]
    },
    {
     "name": "stderr",
     "output_type": "stream",
     "text": [
      "  2%|▏         | 1170/75923 [05:26<6:15:07,  3.32it/s]"
     ]
    },
    {
     "name": "stdout",
     "output_type": "stream",
     "text": [
      "file not done yet ../data/raw/scBam/CB_TTGTAGGAGCTGCAAG-*.bam\n",
      "file not done yet ../data/raw/scBam/CB_CTTAACTTCGTTGACA-*.bam\n"
     ]
    },
    {
     "name": "stderr",
     "output_type": "stream",
     "text": [
      "\r",
      "  2%|▏         | 1171/75923 [05:26<5:20:54,  3.88it/s]"
     ]
    },
    {
     "name": "stdout",
     "output_type": "stream",
     "text": [
      "file not done yet ../data/raw/scBam/CB_AGGGTGACAAACGTGG-*.bam\n"
     ]
    },
    {
     "name": "stderr",
     "output_type": "stream",
     "text": [
      "  2%|▏         | 1173/75923 [05:26<4:30:14,  4.61it/s]"
     ]
    },
    {
     "name": "stdout",
     "output_type": "stream",
     "text": [
      "file not done yet ../data/raw/scBam/CB_TGGCTGGTCCATGAAC-*.bam\n",
      "file not done yet ../data/raw/scBam/CB_CTCAGAACATGGAATA-*.bam\n"
     ]
    },
    {
     "name": "stderr",
     "output_type": "stream",
     "text": [
      "  2%|▏         | 1175/75923 [05:27<3:53:19,  5.34it/s]"
     ]
    },
    {
     "name": "stdout",
     "output_type": "stream",
     "text": [
      "file not done yet ../data/raw/scBam/CB_CATCGAAGTCTGGTCG-*.bam\n",
      "file not done yet ../data/raw/scBam/CB_GCGGGTTGTACAGTTC-*.bam\n"
     ]
    },
    {
     "name": "stderr",
     "output_type": "stream",
     "text": [
      "  2%|▏         | 1177/75923 [05:27<4:00:17,  5.18it/s]"
     ]
    },
    {
     "name": "stdout",
     "output_type": "stream",
     "text": [
      "file not done yet ../data/raw/scBam/CB_CATATGGGTCGCGAAA-*.bam\n",
      "file not done yet ../data/raw/scBam/CB_GTTAAGCCACCGAAAG-*.bam\n"
     ]
    },
    {
     "name": "stderr",
     "output_type": "stream",
     "text": [
      "  2%|▏         | 1179/75923 [05:27<4:11:13,  4.96it/s]"
     ]
    },
    {
     "name": "stdout",
     "output_type": "stream",
     "text": [
      "file not done yet ../data/raw/scBam/CB_CTCACACGTAGTAGTA-*.bam\n",
      "file not done yet ../data/raw/scBam/CB_CCGTTCAGTTCCGGCA-*.bam\n"
     ]
    },
    {
     "name": "stderr",
     "output_type": "stream",
     "text": [
      "  2%|▏         | 1181/75923 [05:28<4:07:52,  5.03it/s]"
     ]
    },
    {
     "name": "stdout",
     "output_type": "stream",
     "text": [
      "file not done yet ../data/raw/scBam/CB_AGATTGCAGGAATCGC-*.bam\n",
      "file not done yet ../data/raw/scBam/CB_CACCACTCACACGCTG-*.bam\n",
      "python /home/isshamie/software/mito-genotyping/exampleProcessing//01_pileup_counts.py ../data/raw/scBam/CB_AAGACCTAGACGCAAC-1.bam ../data/raw/scPileup/CB_AAGACCTAGACGCAAC-1 16571 0 AAGACCTAGACGCAAC-1.bam 0\n"
     ]
    },
    {
     "name": "stderr",
     "output_type": "stream",
     "text": [
      "  2%|▏         | 1184/75923 [05:29<7:06:12,  2.92it/s] "
     ]
    },
    {
     "name": "stdout",
     "output_type": "stream",
     "text": [
      "file not done yet ../data/raw/scBam/CB_ACCGTAATCGTCCAGG-*.bam\n",
      "file not done yet ../data/raw/scBam/CB_CGAACATTCGGTTAAC-*.bam\n"
     ]
    },
    {
     "name": "stderr",
     "output_type": "stream",
     "text": [
      "  2%|▏         | 1186/75923 [05:30<5:22:31,  3.86it/s]"
     ]
    },
    {
     "name": "stdout",
     "output_type": "stream",
     "text": [
      "file not done yet ../data/raw/scBam/CB_CATCCACCAAGCCCAC-*.bam\n",
      "file not done yet ../data/raw/scBam/CB_TACGGTACAGCCTTTC-*.bam\n"
     ]
    },
    {
     "name": "stderr",
     "output_type": "stream",
     "text": [
      "  2%|▏         | 1188/75923 [05:30<4:38:45,  4.47it/s]"
     ]
    },
    {
     "name": "stdout",
     "output_type": "stream",
     "text": [
      "file not done yet ../data/raw/scBam/CB_GTCCTCAAGTGACATA-*.bam\n",
      "file not done yet ../data/raw/scBam/CB_CAGATCATCTGTCCGT-*.bam\n"
     ]
    },
    {
     "name": "stderr",
     "output_type": "stream",
     "text": [
      "  2%|▏         | 1190/75923 [05:30<4:15:23,  4.88it/s]"
     ]
    },
    {
     "name": "stdout",
     "output_type": "stream",
     "text": [
      "file not done yet ../data/raw/scBam/CB_CTGCTGTGTTCACCTC-*.bam\n",
      "file not done yet ../data/raw/scBam/CB_TTGGAACGTCGCGGTT-*.bam\n"
     ]
    },
    {
     "name": "stderr",
     "output_type": "stream",
     "text": [
      "\r",
      "  2%|▏         | 1191/75923 [05:31<4:07:02,  5.04it/s]"
     ]
    },
    {
     "name": "stdout",
     "output_type": "stream",
     "text": [
      "file not done yet ../data/raw/scBam/CB_CTTCTCTAGGGAGTAA-*.bam\n"
     ]
    },
    {
     "name": "stderr",
     "output_type": "stream",
     "text": [
      "  2%|▏         | 1194/75923 [05:31<4:11:38,  4.95it/s]"
     ]
    },
    {
     "name": "stdout",
     "output_type": "stream",
     "text": [
      "file not done yet ../data/raw/scBam/CB_ATCTACTGTATAGGGC-*.bam\n",
      "file not done yet ../data/raw/scBam/CB_GCAAACTAGATGCCAG-*.bam\n",
      "file not done yet ../data/raw/scBam/CB_GCACATAGTGTAATGA-*.bam\n"
     ]
    },
    {
     "name": "stderr",
     "output_type": "stream",
     "text": [
      "\r",
      "  2%|▏         | 1195/75923 [05:32<4:18:12,  4.82it/s]"
     ]
    },
    {
     "name": "stdout",
     "output_type": "stream",
     "text": [
      "file not done yet ../data/raw/scBam/CB_AGGCCACTCGCAAACT-*.bam\n"
     ]
    },
    {
     "name": "stderr",
     "output_type": "stream",
     "text": [
      "  2%|▏         | 1197/75923 [05:32<4:16:18,  4.86it/s]"
     ]
    },
    {
     "name": "stdout",
     "output_type": "stream",
     "text": [
      "file not done yet ../data/raw/scBam/CB_TGCCCTATCACAGGCC-*.bam\n",
      "file not done yet ../data/raw/scBam/CB_TTGCCGTCACTCTGTC-*.bam\n"
     ]
    },
    {
     "name": "stderr",
     "output_type": "stream",
     "text": [
      "\r",
      "  2%|▏         | 1198/75923 [05:32<4:04:53,  5.09it/s]"
     ]
    },
    {
     "name": "stdout",
     "output_type": "stream",
     "text": [
      "file not done yet ../data/raw/scBam/CB_TGGTTAGAGTGCAAGC-*.bam\n"
     ]
    },
    {
     "name": "stderr",
     "output_type": "stream",
     "text": [
      "\r",
      "  2%|▏         | 1199/75923 [05:32<4:11:28,  4.95it/s]"
     ]
    },
    {
     "name": "stdout",
     "output_type": "stream",
     "text": [
      "file not done yet ../data/raw/scBam/CB_TTCTACAAGCCGTCGT-*.bam\n",
      "python /home/isshamie/software/mito-genotyping/exampleProcessing//01_pileup_counts.py ../data/raw/scBam/CB_ACAGCTATCTGAGGGA-1.bam ../data/raw/scPileup/CB_ACAGCTATCTGAGGGA-1 16571 0 ACAGCTATCTGAGGGA-1.bam 0\n"
     ]
    },
    {
     "name": "stderr",
     "output_type": "stream",
     "text": [
      "  2%|▏         | 1202/75923 [05:34<7:22:35,  2.81it/s] "
     ]
    },
    {
     "name": "stdout",
     "output_type": "stream",
     "text": [
      "file not done yet ../data/raw/scBam/CB_CATCGGGTCATCATTC-*.bam\n",
      "file not done yet ../data/raw/scBam/CB_CGTCTACAGCAGCGTA-*.bam\n"
     ]
    },
    {
     "name": "stderr",
     "output_type": "stream",
     "text": [
      "  2%|▏         | 1204/75923 [05:34<5:28:51,  3.79it/s]"
     ]
    },
    {
     "name": "stdout",
     "output_type": "stream",
     "text": [
      "file not done yet ../data/raw/scBam/CB_TATCTCACAAAGGTGC-*.bam\n",
      "file not done yet ../data/raw/scBam/CB_TTTACTGGTGCGAAAC-*.bam\n"
     ]
    },
    {
     "name": "stderr",
     "output_type": "stream",
     "text": [
      "\r",
      "  2%|▏         | 1205/75923 [05:35<7:17:10,  2.85it/s]"
     ]
    },
    {
     "name": "stdout",
     "output_type": "stream",
     "text": [
      "file not done yet ../data/raw/scBam/CB_CAACTAGGTCAGCTAT-*.bam\n"
     ]
    },
    {
     "name": "stderr",
     "output_type": "stream",
     "text": [
      "  2%|▏         | 1207/75923 [05:35<6:11:30,  3.35it/s]"
     ]
    },
    {
     "name": "stdout",
     "output_type": "stream",
     "text": [
      "file not done yet ../data/raw/scBam/CB_CAGCATAGTTCGTCTC-*.bam\n",
      "file not done yet ../data/raw/scBam/CB_CGATGTATCGCTTAGA-*.bam\n"
     ]
    },
    {
     "name": "stderr",
     "output_type": "stream",
     "text": [
      "\r",
      "  2%|▏         | 1208/75923 [05:36<5:35:10,  3.72it/s]"
     ]
    },
    {
     "name": "stdout",
     "output_type": "stream",
     "text": [
      "file not done yet ../data/raw/scBam/CB_CACATTTTCAACCAAC-*.bam\n"
     ]
    },
    {
     "name": "stderr",
     "output_type": "stream",
     "text": [
      "  2%|▏         | 1211/75923 [05:36<4:28:07,  4.64it/s]"
     ]
    },
    {
     "name": "stdout",
     "output_type": "stream",
     "text": [
      "file not done yet ../data/raw/scBam/CB_CCAATCCGTTGGAGGT-*.bam\n",
      "file not done yet ../data/raw/scBam/CB_TCGTACCCATGTTCCC-*.bam\n",
      "file not done yet ../data/raw/scBam/CB_GACTACACAGCTCGCA-*.bam\n"
     ]
    },
    {
     "name": "stderr",
     "output_type": "stream",
     "text": [
      "  2%|▏         | 1213/75923 [05:37<4:19:44,  4.79it/s]"
     ]
    },
    {
     "name": "stdout",
     "output_type": "stream",
     "text": [
      "file not done yet ../data/raw/scBam/CB_ACGATGTGTTAAGGGC-*.bam\n",
      "file not done yet ../data/raw/scBam/CB_ATTATCCTCAACACGT-*.bam\n"
     ]
    },
    {
     "name": "stderr",
     "output_type": "stream",
     "text": [
      "  2%|▏         | 1215/75923 [05:37<3:57:03,  5.25it/s]"
     ]
    },
    {
     "name": "stdout",
     "output_type": "stream",
     "text": [
      "file not done yet ../data/raw/scBam/CB_GGTATTGTCGCGTTTC-*.bam\n",
      "file not done yet ../data/raw/scBam/CB_ACTGAGTCAGCTGCTG-*.bam\n"
     ]
    },
    {
     "name": "stderr",
     "output_type": "stream",
     "text": [
      "  2%|▏         | 1217/75923 [05:37<3:48:23,  5.45it/s]"
     ]
    },
    {
     "name": "stdout",
     "output_type": "stream",
     "text": [
      "file not done yet ../data/raw/scBam/CB_ACTTACTTCAGTCAGT-*.bam\n",
      "file not done yet ../data/raw/scBam/CB_TACTTACCACGGCGTT-*.bam\n"
     ]
    },
    {
     "name": "stderr",
     "output_type": "stream",
     "text": [
      "  2%|▏         | 1219/75923 [05:38<3:40:49,  5.64it/s]"
     ]
    },
    {
     "name": "stdout",
     "output_type": "stream",
     "text": [
      "file not done yet ../data/raw/scBam/CB_TAGAGCTCATCCGTGG-*.bam\n",
      "file not done yet ../data/raw/scBam/CB_CAGCTAATCAATACCG-*.bam\n"
     ]
    },
    {
     "name": "stderr",
     "output_type": "stream",
     "text": [
      "  2%|▏         | 1221/75923 [05:38<3:51:19,  5.38it/s]"
     ]
    },
    {
     "name": "stdout",
     "output_type": "stream",
     "text": [
      "file not done yet ../data/raw/scBam/CB_GGGTTGCTCTCGCATC-*.bam\n",
      "file not done yet ../data/raw/scBam/CB_CCTCTGATCAGAGCTT-*.bam\n"
     ]
    },
    {
     "name": "stderr",
     "output_type": "stream",
     "text": [
      "  2%|▏         | 1223/75923 [05:38<3:49:27,  5.43it/s]"
     ]
    },
    {
     "name": "stdout",
     "output_type": "stream",
     "text": [
      "file not done yet ../data/raw/scBam/CB_CGGAGCTAGAAGGGTA-*.bam\n",
      "file not done yet ../data/raw/scBam/CB_CAAGGCCCATGGGACA-*.bam\n"
     ]
    },
    {
     "name": "stderr",
     "output_type": "stream",
     "text": [
      "  2%|▏         | 1225/75923 [05:39<3:47:41,  5.47it/s]"
     ]
    },
    {
     "name": "stdout",
     "output_type": "stream",
     "text": [
      "file not done yet ../data/raw/scBam/CB_GGGTTGCAGGGCTTCC-*.bam\n",
      "file not done yet ../data/raw/scBam/CB_TGCTGCTTCGGTTCGG-*.bam\n"
     ]
    },
    {
     "name": "stderr",
     "output_type": "stream",
     "text": [
      "  2%|▏         | 1227/75923 [05:39<3:45:32,  5.52it/s]"
     ]
    },
    {
     "name": "stdout",
     "output_type": "stream",
     "text": [
      "file not done yet ../data/raw/scBam/CB_TGTGGTAGTTCCACTC-*.bam\n",
      "file not done yet ../data/raw/scBam/CB_GGCAATTTCAGCACAT-*.bam\n"
     ]
    },
    {
     "name": "stderr",
     "output_type": "stream",
     "text": [
      "  2%|▏         | 1229/75923 [05:40<3:53:44,  5.33it/s]"
     ]
    },
    {
     "name": "stdout",
     "output_type": "stream",
     "text": [
      "file not done yet ../data/raw/scBam/CB_CTTAGGAGTACAGTGG-*.bam\n",
      "file not done yet ../data/raw/scBam/CB_AGAGTGGGTCCGAGTC-*.bam\n"
     ]
    },
    {
     "name": "stderr",
     "output_type": "stream",
     "text": [
      "  2%|▏         | 1231/75923 [05:40<4:03:59,  5.10it/s]"
     ]
    },
    {
     "name": "stdout",
     "output_type": "stream",
     "text": [
      "file not done yet ../data/raw/scBam/CB_TAGGCATCATTAGGCT-*.bam\n",
      "file not done yet ../data/raw/scBam/CB_CTAGTGACATTCTTAC-*.bam\n"
     ]
    },
    {
     "name": "stderr",
     "output_type": "stream",
     "text": [
      "\r",
      "  2%|▏         | 1232/75923 [05:40<4:10:21,  4.97it/s]"
     ]
    },
    {
     "name": "stdout",
     "output_type": "stream",
     "text": [
      "file not done yet ../data/raw/scBam/CB_TGTGGTACAGCCTTGG-*.bam\n"
     ]
    },
    {
     "name": "stderr",
     "output_type": "stream",
     "text": [
      "  2%|▏         | 1234/75923 [05:41<4:24:56,  4.70it/s]"
     ]
    },
    {
     "name": "stdout",
     "output_type": "stream",
     "text": [
      "file not done yet ../data/raw/scBam/CB_GTGCTTCTCCCTAACC-*.bam\n",
      "file not done yet ../data/raw/scBam/CB_CTAGTGAAGCTATGCT-*.bam\n"
     ]
    },
    {
     "name": "stderr",
     "output_type": "stream",
     "text": [
      "  2%|▏         | 1236/75923 [05:41<4:07:56,  5.02it/s]"
     ]
    },
    {
     "name": "stdout",
     "output_type": "stream",
     "text": [
      "file not done yet ../data/raw/scBam/CB_CCTAGCTGTTCGTCTC-*.bam\n",
      "file not done yet ../data/raw/scBam/CB_AGCGTCGAGTACACCT-*.bam\n"
     ]
    },
    {
     "name": "stderr",
     "output_type": "stream",
     "text": [
      "  2%|▏         | 1238/75923 [05:41<4:12:02,  4.94it/s]"
     ]
    },
    {
     "name": "stdout",
     "output_type": "stream",
     "text": [
      "file not done yet ../data/raw/scBam/CB_GTCGTAAAGTGTGGCA-*.bam\n",
      "file not done yet ../data/raw/scBam/CB_GCGACCATCAGGTTCA-*.bam\n"
     ]
    },
    {
     "name": "stderr",
     "output_type": "stream",
     "text": [
      "\r",
      "  2%|▏         | 1239/75923 [05:42<3:59:37,  5.19it/s]"
     ]
    },
    {
     "name": "stdout",
     "output_type": "stream",
     "text": [
      "file not done yet ../data/raw/scBam/CB_GAGTCCGTCAAACCGT-*.bam\n"
     ]
    },
    {
     "name": "stderr",
     "output_type": "stream",
     "text": [
      "  2%|▏         | 1241/75923 [05:42<4:08:48,  5.00it/s]"
     ]
    },
    {
     "name": "stdout",
     "output_type": "stream",
     "text": [
      "file not done yet ../data/raw/scBam/CB_GCATGATCATGCAATC-*.bam\n",
      "file not done yet ../data/raw/scBam/CB_TGCACCTAGAGAACAG-*.bam\n"
     ]
    },
    {
     "name": "stderr",
     "output_type": "stream",
     "text": [
      "  2%|▏         | 1243/75923 [05:42<4:10:45,  4.96it/s]"
     ]
    },
    {
     "name": "stdout",
     "output_type": "stream",
     "text": [
      "file not done yet ../data/raw/scBam/CB_CGTCACTAGACTTGAA-*.bam\n",
      "file not done yet ../data/raw/scBam/CB_TTAGTTCTCCGTAGTA-*.bam\n"
     ]
    },
    {
     "name": "stderr",
     "output_type": "stream",
     "text": [
      "\r",
      "  2%|▏         | 1244/75923 [05:43<4:03:56,  5.10it/s]"
     ]
    },
    {
     "name": "stdout",
     "output_type": "stream",
     "text": [
      "file not done yet ../data/raw/scBam/CB_TCTATTGGTCAATGTC-*.bam\n"
     ]
    },
    {
     "name": "stderr",
     "output_type": "stream",
     "text": [
      "\r",
      "  2%|▏         | 1245/75923 [05:43<4:19:18,  4.80it/s]"
     ]
    },
    {
     "name": "stdout",
     "output_type": "stream",
     "text": [
      "file not done yet ../data/raw/scBam/CB_TCAGGTAAGGGTGTGT-*.bam\n"
     ]
    },
    {
     "name": "stderr",
     "output_type": "stream",
     "text": [
      "\r",
      "  2%|▏         | 1246/75923 [05:43<4:16:48,  4.85it/s]"
     ]
    },
    {
     "name": "stdout",
     "output_type": "stream",
     "text": [
      "file not done yet ../data/raw/scBam/CB_TAAGTGCTCTGCTGCT-*.bam\n"
     ]
    },
    {
     "name": "stderr",
     "output_type": "stream",
     "text": [
      "\r",
      "  2%|▏         | 1247/75923 [05:43<4:26:28,  4.67it/s]"
     ]
    },
    {
     "name": "stdout",
     "output_type": "stream",
     "text": [
      "file not done yet ../data/raw/scBam/CB_GAAACTCAGTCATCCA-*.bam\n"
     ]
    },
    {
     "name": "stderr",
     "output_type": "stream",
     "text": [
      "\r",
      "  2%|▏         | 1248/75923 [05:43<4:26:16,  4.67it/s]"
     ]
    },
    {
     "name": "stdout",
     "output_type": "stream",
     "text": [
      "file not done yet ../data/raw/scBam/CB_TAGCCGGCAATCTGCA-*.bam\n"
     ]
    },
    {
     "name": "stderr",
     "output_type": "stream",
     "text": [
      "  2%|▏         | 1250/75923 [05:44<4:17:31,  4.83it/s]"
     ]
    },
    {
     "name": "stdout",
     "output_type": "stream",
     "text": [
      "file not done yet ../data/raw/scBam/CB_TCAACGATCTCAAGTG-*.bam\n",
      "file not done yet ../data/raw/scBam/CB_CAAGTTGAGGATTCGG-*.bam\n"
     ]
    },
    {
     "name": "stderr",
     "output_type": "stream",
     "text": [
      "\r",
      "  2%|▏         | 1251/75923 [05:44<4:18:53,  4.81it/s]"
     ]
    },
    {
     "name": "stdout",
     "output_type": "stream",
     "text": [
      "file not done yet ../data/raw/scBam/CB_CGACCTTTCTGATTCT-*.bam\n"
     ]
    },
    {
     "name": "stderr",
     "output_type": "stream",
     "text": [
      "\r",
      "  2%|▏         | 1252/75923 [05:44<4:20:33,  4.78it/s]"
     ]
    },
    {
     "name": "stdout",
     "output_type": "stream",
     "text": [
      "file not done yet ../data/raw/scBam/CB_TTGCCGTGTACGACCC-*.bam\n",
      "python /home/isshamie/software/mito-genotyping/exampleProcessing//01_pileup_counts.py ../data/raw/scBam/CB_ACACCGGTCTCTAGGA-1.bam ../data/raw/scPileup/CB_ACACCGGTCTCTAGGA-1 16571 0 ACACCGGTCTCTAGGA-1.bam 0\n"
     ]
    },
    {
     "name": "stderr",
     "output_type": "stream",
     "text": [
      "  2%|▏         | 1255/75923 [05:46<8:23:37,  2.47it/s] "
     ]
    },
    {
     "name": "stdout",
     "output_type": "stream",
     "text": [
      "file not done yet ../data/raw/scBam/CB_CAGAGAGGTGATAAAC-*.bam\n",
      "file not done yet ../data/raw/scBam/CB_ATGCGATTCAAACGGG-*.bam\n"
     ]
    },
    {
     "name": "stderr",
     "output_type": "stream",
     "text": [
      "\r",
      "  2%|▏         | 1256/75923 [05:47<7:21:07,  2.82it/s]"
     ]
    },
    {
     "name": "stdout",
     "output_type": "stream",
     "text": [
      "file not done yet ../data/raw/scBam/CB_CACACTCCAGGGTACA-*.bam\n"
     ]
    },
    {
     "name": "stderr",
     "output_type": "stream",
     "text": [
      "  2%|▏         | 1259/75923 [05:47<5:20:03,  3.89it/s]"
     ]
    },
    {
     "name": "stdout",
     "output_type": "stream",
     "text": [
      "file not done yet ../data/raw/scBam/CB_CAGATCAAGACCGGAT-*.bam\n",
      "file not done yet ../data/raw/scBam/CB_CGACTTCAGACTACAA-*.bam\n",
      "file not done yet ../data/raw/scBam/CB_ACTGAGTCACCACCAG-*.bam\n"
     ]
    },
    {
     "name": "stderr",
     "output_type": "stream",
     "text": [
      "  2%|▏         | 1261/75923 [05:48<4:37:54,  4.48it/s]"
     ]
    },
    {
     "name": "stdout",
     "output_type": "stream",
     "text": [
      "file not done yet ../data/raw/scBam/CB_GTTACAGAGCAGGCTA-*.bam\n",
      "file not done yet ../data/raw/scBam/CB_AGCATACTCTTTACAC-*.bam\n"
     ]
    },
    {
     "name": "stderr",
     "output_type": "stream",
     "text": [
      "\r",
      "  2%|▏         | 1262/75923 [05:48<4:32:25,  4.57it/s]"
     ]
    },
    {
     "name": "stdout",
     "output_type": "stream",
     "text": [
      "file not done yet ../data/raw/scBam/CB_GTGCAGCGTCTAGCGC-*.bam\n",
      "python /home/isshamie/software/mito-genotyping/exampleProcessing//01_pileup_counts.py ../data/raw/scBam/CB_ACACCGGAGCATCATC-1.bam ../data/raw/scPileup/CB_ACACCGGAGCATCATC-1 16571 0 ACACCGGAGCATCATC-1.bam 0\n"
     ]
    },
    {
     "name": "stderr",
     "output_type": "stream",
     "text": [
      "  2%|▏         | 1265/75923 [05:50<8:01:26,  2.58it/s] "
     ]
    },
    {
     "name": "stdout",
     "output_type": "stream",
     "text": [
      "file not done yet ../data/raw/scBam/CB_CACACTCTCTTTAGTC-*.bam\n",
      "file not done yet ../data/raw/scBam/CB_AGAGTGGCATGGAATA-*.bam\n"
     ]
    },
    {
     "name": "stderr",
     "output_type": "stream",
     "text": [
      "\r",
      "  2%|▏         | 1266/75923 [05:50<6:38:54,  3.12it/s]"
     ]
    },
    {
     "name": "stdout",
     "output_type": "stream",
     "text": [
      "file not done yet ../data/raw/scBam/CB_CTCGGAGGTAGAGCTG-*.bam\n"
     ]
    },
    {
     "name": "stderr",
     "output_type": "stream",
     "text": [
      "  2%|▏         | 1268/75923 [05:50<5:21:49,  3.87it/s]"
     ]
    },
    {
     "name": "stdout",
     "output_type": "stream",
     "text": [
      "file not done yet ../data/raw/scBam/CB_TTGCGTCTCATTGCCC-*.bam\n",
      "file not done yet ../data/raw/scBam/CB_AGATTGCTCTTGCCGT-*.bam\n",
      "python /home/isshamie/software/mito-genotyping/exampleProcessing//01_pileup_counts.py ../data/raw/scBam/CB_AACTCCCAGCTCCTTC-1.bam ../data/raw/scPileup/CB_AACTCCCAGCTCCTTC-1 16571 0 AACTCCCAGCTCCTTC-1.bam 0\n"
     ]
    },
    {
     "name": "stderr",
     "output_type": "stream",
     "text": [
      "  2%|▏         | 1270/75923 [05:52<9:30:34,  2.18it/s] "
     ]
    },
    {
     "name": "stdout",
     "output_type": "stream",
     "text": [
      "file not done yet ../data/raw/scBam/CB_ACGGAGAAGGACCACA-*.bam\n",
      "python /home/isshamie/software/mito-genotyping/exampleProcessing//01_pileup_counts.py ../data/raw/scBam/CB_ACATCAGTCACCGTAA-1.bam ../data/raw/scPileup/CB_ACATCAGTCACCGTAA-1 16571 0 ACATCAGTCACCGTAA-1.bam 0\n"
     ]
    },
    {
     "name": "stderr",
     "output_type": "stream",
     "text": [
      "  2%|▏         | 1272/75923 [05:53<11:15:43,  1.84it/s]"
     ]
    },
    {
     "name": "stdout",
     "output_type": "stream",
     "text": [
      "file not done yet ../data/raw/scBam/CB_TTTATGCAGGACACCA-*.bam\n"
     ]
    },
    {
     "name": "stderr",
     "output_type": "stream",
     "text": [
      "  2%|▏         | 1275/75923 [05:54<6:06:23,  3.40it/s] "
     ]
    },
    {
     "name": "stdout",
     "output_type": "stream",
     "text": [
      "file not done yet ../data/raw/scBam/CB_TGAAAGAAGCTCCTCT-*.bam\n",
      "file not done yet ../data/raw/scBam/CB_GCAAACTAGCTGATAA-*.bam\n",
      "file not done yet ../data/raw/scBam/CB_GGCGACTTCATAACCG-*.bam\n"
     ]
    },
    {
     "name": "stderr",
     "output_type": "stream",
     "text": [
      "\r",
      "  2%|▏         | 1276/75923 [05:54<5:20:49,  3.88it/s]"
     ]
    },
    {
     "name": "stdout",
     "output_type": "stream",
     "text": [
      "file not done yet ../data/raw/scBam/CB_GCGAGAATCACAGGCC-*.bam\n"
     ]
    },
    {
     "name": "stderr",
     "output_type": "stream",
     "text": [
      "\r",
      "  2%|▏         | 1277/75923 [05:54<5:04:29,  4.09it/s]"
     ]
    },
    {
     "name": "stdout",
     "output_type": "stream",
     "text": [
      "file not done yet ../data/raw/scBam/CB_CGATTGATCTACTTAC-*.bam\n"
     ]
    },
    {
     "name": "stderr",
     "output_type": "stream",
     "text": [
      "  2%|▏         | 1279/75923 [05:54<4:19:02,  4.80it/s]"
     ]
    },
    {
     "name": "stdout",
     "output_type": "stream",
     "text": [
      "file not done yet ../data/raw/scBam/CB_TACGGTAAGCCAGGAT-*.bam\n",
      "file not done yet ../data/raw/scBam/CB_TGAGGGAGTTCTGTTT-*.bam\n",
      "python /home/isshamie/software/mito-genotyping/exampleProcessing//01_pileup_counts.py ../data/raw/scBam/CB_ACACCAACAAGGCTCC-1.bam ../data/raw/scPileup/CB_ACACCAACAAGGCTCC-1 16571 0 ACACCAACAAGGCTCC-1.bam 0\n"
     ]
    },
    {
     "name": "stderr",
     "output_type": "stream",
     "text": [
      "  2%|▏         | 1281/75923 [05:57<12:26:53,  1.67it/s]"
     ]
    },
    {
     "name": "stdout",
     "output_type": "stream",
     "text": [
      "file not done yet ../data/raw/scBam/CB_CGTAGCGTCTTCATGT-*.bam\n"
     ]
    },
    {
     "name": "stderr",
     "output_type": "stream",
     "text": [
      "  2%|▏         | 1284/75923 [05:57<6:58:17,  2.97it/s] "
     ]
    },
    {
     "name": "stdout",
     "output_type": "stream",
     "text": [
      "file not done yet ../data/raw/scBam/CB_CAACTAGCATGGTTGT-*.bam\n",
      "file not done yet ../data/raw/scBam/CB_AGAGCGAAGCTATGCT-*.bam\n",
      "file not done yet ../data/raw/scBam/CB_TTTACTGCATGTCTCC-*.bam\n"
     ]
    },
    {
     "name": "stderr",
     "output_type": "stream",
     "text": [
      "\r",
      "  2%|▏         | 1285/75923 [05:57<5:57:26,  3.48it/s]"
     ]
    },
    {
     "name": "stdout",
     "output_type": "stream",
     "text": [
      "file not done yet ../data/raw/scBam/CB_GTGCATAGTAGCTTGT-*.bam\n"
     ]
    },
    {
     "name": "stderr",
     "output_type": "stream",
     "text": [
      "  2%|▏         | 1287/75923 [05:58<5:01:06,  4.13it/s]"
     ]
    },
    {
     "name": "stdout",
     "output_type": "stream",
     "text": [
      "file not done yet ../data/raw/scBam/CB_ATGAGGGCATGCAACT-*.bam\n",
      "file not done yet ../data/raw/scBam/CB_TAGCCGGCATTCCTCG-*.bam\n"
     ]
    },
    {
     "name": "stderr",
     "output_type": "stream",
     "text": [
      "  2%|▏         | 1289/75923 [05:58<4:22:23,  4.74it/s]"
     ]
    },
    {
     "name": "stdout",
     "output_type": "stream",
     "text": [
      "file not done yet ../data/raw/scBam/CB_CCACGGAAGGCTAGAC-*.bam\n",
      "file not done yet ../data/raw/scBam/CB_CTTAACTTCGTCGTTC-*.bam\n"
     ]
    },
    {
     "name": "stderr",
     "output_type": "stream",
     "text": [
      "  2%|▏         | 1291/75923 [05:59<3:50:55,  5.39it/s]"
     ]
    },
    {
     "name": "stdout",
     "output_type": "stream",
     "text": [
      "file not done yet ../data/raw/scBam/CB_CGATGTAAGGCCCGTT-*.bam\n",
      "file not done yet ../data/raw/scBam/CB_GGAAAGCAGCTAGTGG-*.bam\n"
     ]
    },
    {
     "name": "stderr",
     "output_type": "stream",
     "text": [
      "  2%|▏         | 1293/75923 [05:59<3:37:26,  5.72it/s]"
     ]
    },
    {
     "name": "stdout",
     "output_type": "stream",
     "text": [
      "file not done yet ../data/raw/scBam/CB_GATCGATAGGCATGGT-*.bam\n",
      "file not done yet ../data/raw/scBam/CB_CGGACGTTCACTTACT-*.bam\n"
     ]
    },
    {
     "name": "stderr",
     "output_type": "stream",
     "text": [
      "  2%|▏         | 1295/75923 [05:59<3:38:21,  5.70it/s]"
     ]
    },
    {
     "name": "stdout",
     "output_type": "stream",
     "text": [
      "file not done yet ../data/raw/scBam/CB_CAGATCACACTAGTAC-*.bam\n",
      "file not done yet ../data/raw/scBam/CB_GTGCTTCGTACAGCAG-*.bam\n"
     ]
    },
    {
     "name": "stderr",
     "output_type": "stream",
     "text": [
      "  2%|▏         | 1297/75923 [06:00<3:29:09,  5.95it/s]"
     ]
    },
    {
     "name": "stdout",
     "output_type": "stream",
     "text": [
      "file not done yet ../data/raw/scBam/CB_GTGCGGTCACGAAATA-*.bam\n",
      "file not done yet ../data/raw/scBam/CB_CGGACGTCATCACAAC-*.bam\n"
     ]
    },
    {
     "name": "stderr",
     "output_type": "stream",
     "text": [
      "  2%|▏         | 1299/75923 [06:00<3:28:05,  5.98it/s]"
     ]
    },
    {
     "name": "stdout",
     "output_type": "stream",
     "text": [
      "file not done yet ../data/raw/scBam/CB_CGATTGAAGGTGATAT-*.bam\n",
      "file not done yet ../data/raw/scBam/CB_TTGCCGTCAGATCGGA-*.bam\n",
      "python /home/isshamie/software/mito-genotyping/exampleProcessing//01_pileup_counts.py ../data/raw/scBam/CB_AACTCCCAGGTAGCCA-1.bam ../data/raw/scPileup/CB_AACTCCCAGGTAGCCA-1 16571 0 AACTCCCAGGTAGCCA-1.bam 0\n"
     ]
    },
    {
     "name": "stderr",
     "output_type": "stream",
     "text": [
      "\r",
      "  2%|▏         | 1300/75923 [06:02<18:32:06,  1.12it/s]"
     ]
    },
    {
     "name": "stdout",
     "output_type": "stream",
     "text": [
      "python /home/isshamie/software/mito-genotyping/exampleProcessing//01_pileup_counts.py ../data/raw/scBam/CB_AACCATGAGTACGTAA-1.bam ../data/raw/scPileup/CB_AACCATGAGTACGTAA-1 16571 0 AACCATGAGTACGTAA-1.bam 0\n"
     ]
    },
    {
     "name": "stderr",
     "output_type": "stream",
     "text": [
      "  2%|▏         | 1302/75923 [06:04<16:49:05,  1.23it/s]"
     ]
    },
    {
     "name": "stdout",
     "output_type": "stream",
     "text": [
      "file not done yet ../data/raw/scBam/CB_GCAAACTAGCCTCGTG-*.bam\n",
      "python /home/isshamie/software/mito-genotyping/exampleProcessing//01_pileup_counts.py ../data/raw/scBam/CB_AAGACCTTCAGCTGGC-1.bam ../data/raw/scPileup/CB_AAGACCTTCAGCTGGC-1 16571 0 AAGACCTTCAGCTGGC-1.bam 0\n"
     ]
    },
    {
     "name": "stderr",
     "output_type": "stream",
     "text": [
      "  2%|▏         | 1305/75923 [06:07<14:31:03,  1.43it/s]"
     ]
    },
    {
     "name": "stdout",
     "output_type": "stream",
     "text": [
      "file not done yet ../data/raw/scBam/CB_CGCTATCCAATCTACG-*.bam\n",
      "file not done yet ../data/raw/scBam/CB_TAAGCGTGTCACCCAG-*.bam\n"
     ]
    },
    {
     "name": "stderr",
     "output_type": "stream",
     "text": [
      "  2%|▏         | 1307/75923 [06:07<8:43:45,  2.37it/s] "
     ]
    },
    {
     "name": "stdout",
     "output_type": "stream",
     "text": [
      "file not done yet ../data/raw/scBam/CB_ATTTCTGGTCGAGTTT-*.bam\n",
      "file not done yet ../data/raw/scBam/CB_TCAATCTGTGCGCTTG-*.bam\n"
     ]
    },
    {
     "name": "stderr",
     "output_type": "stream",
     "text": [
      "  2%|▏         | 1309/75923 [06:07<5:49:58,  3.55it/s]"
     ]
    },
    {
     "name": "stdout",
     "output_type": "stream",
     "text": [
      "file not done yet ../data/raw/scBam/CB_GGACATTCATACCATG-*.bam\n",
      "file not done yet ../data/raw/scBam/CB_GATCGCGCATCAGTCA-*.bam\n"
     ]
    },
    {
     "name": "stderr",
     "output_type": "stream",
     "text": [
      "  2%|▏         | 1311/75923 [06:08<4:31:08,  4.59it/s]"
     ]
    },
    {
     "name": "stdout",
     "output_type": "stream",
     "text": [
      "file not done yet ../data/raw/scBam/CB_TGCGTGGTCTACGAGT-*.bam\n",
      "file not done yet ../data/raw/scBam/CB_GCTGCAGTCGCGTAGC-*.bam\n"
     ]
    },
    {
     "name": "stderr",
     "output_type": "stream",
     "text": [
      "  2%|▏         | 1313/75923 [06:08<4:05:43,  5.06it/s]"
     ]
    },
    {
     "name": "stdout",
     "output_type": "stream",
     "text": [
      "file not done yet ../data/raw/scBam/CB_ATCTGCCTCAGTTGAC-*.bam\n",
      "file not done yet ../data/raw/scBam/CB_GATGAGGTCAGCCTAA-*.bam\n"
     ]
    },
    {
     "name": "stderr",
     "output_type": "stream",
     "text": [
      "  2%|▏         | 1315/75923 [06:08<3:28:17,  5.97it/s]"
     ]
    },
    {
     "name": "stdout",
     "output_type": "stream",
     "text": [
      "file not done yet ../data/raw/scBam/CB_TGGCGCAAGTCCTCCT-*.bam\n",
      "file not done yet ../data/raw/scBam/CB_GTAACTGCAGACAGGT-*.bam\n"
     ]
    },
    {
     "name": "stderr",
     "output_type": "stream",
     "text": [
      "  2%|▏         | 1317/75923 [06:09<3:34:56,  5.79it/s]"
     ]
    },
    {
     "name": "stdout",
     "output_type": "stream",
     "text": [
      "file not done yet ../data/raw/scBam/CB_TCATTTGGTCTTGATG-*.bam\n",
      "file not done yet ../data/raw/scBam/CB_AGCAGCCCATAAGACA-*.bam\n"
     ]
    },
    {
     "name": "stderr",
     "output_type": "stream",
     "text": [
      "  2%|▏         | 1319/75923 [06:09<3:40:27,  5.64it/s]"
     ]
    },
    {
     "name": "stdout",
     "output_type": "stream",
     "text": [
      "file not done yet ../data/raw/scBam/CB_CGCCAAGAGTGTACGG-*.bam\n",
      "file not done yet ../data/raw/scBam/CB_CGCTATCGTTCCCTTG-*.bam\n"
     ]
    },
    {
     "name": "stderr",
     "output_type": "stream",
     "text": [
      "\r",
      "  2%|▏         | 1320/75923 [06:09<3:48:32,  5.44it/s]"
     ]
    },
    {
     "name": "stdout",
     "output_type": "stream",
     "text": [
      "file not done yet ../data/raw/scBam/CB_TTTATGCAGAGCTGCA-*.bam\n",
      "python /home/isshamie/software/mito-genotyping/exampleProcessing//01_pileup_counts.py ../data/raw/scBam/CB_AACTTTCAGCTCCTCT-1.bam ../data/raw/scPileup/CB_AACTTTCAGCTCCTCT-1 16571 0 AACTTTCAGCTCCTCT-1.bam 0\n"
     ]
    },
    {
     "name": "stderr",
     "output_type": "stream",
     "text": [
      "  2%|▏         | 1322/75923 [06:11<10:18:03,  2.01it/s]"
     ]
    },
    {
     "name": "stdout",
     "output_type": "stream",
     "text": [
      "file not done yet ../data/raw/scBam/CB_TCTCTAACAGGCAGTA-*.bam\n"
     ]
    },
    {
     "name": "stderr",
     "output_type": "stream",
     "text": [
      "  2%|▏         | 1324/75923 [06:11<7:03:46,  2.93it/s] "
     ]
    },
    {
     "name": "stdout",
     "output_type": "stream",
     "text": [
      "file not done yet ../data/raw/scBam/CB_GTTCTCGAGAGCTGCA-*.bam\n",
      "file not done yet ../data/raw/scBam/CB_GGAGCAATCGTGGACC-*.bam\n"
     ]
    },
    {
     "name": "stderr",
     "output_type": "stream",
     "text": [
      "\r",
      "  2%|▏         | 1325/75923 [06:12<6:02:33,  3.43it/s]"
     ]
    },
    {
     "name": "stdout",
     "output_type": "stream",
     "text": [
      "file not done yet ../data/raw/scBam/CB_CAGCCGACACGGCCAT-*.bam\n"
     ]
    },
    {
     "name": "stderr",
     "output_type": "stream",
     "text": [
      "  2%|▏         | 1327/75923 [06:12<4:54:49,  4.22it/s]"
     ]
    },
    {
     "name": "stdout",
     "output_type": "stream",
     "text": [
      "file not done yet ../data/raw/scBam/CB_CGGAGCTGTCTGGAGA-*.bam\n",
      "file not done yet ../data/raw/scBam/CB_TTGCGTCTCTTAGCCC-*.bam\n"
     ]
    },
    {
     "name": "stderr",
     "output_type": "stream",
     "text": [
      "  2%|▏         | 1329/75923 [06:12<4:21:14,  4.76it/s]"
     ]
    },
    {
     "name": "stdout",
     "output_type": "stream",
     "text": [
      "file not done yet ../data/raw/scBam/CB_GTACTCCCACAAGACG-*.bam\n",
      "file not done yet ../data/raw/scBam/CB_CATCCACAGTGACTCT-*.bam\n"
     ]
    },
    {
     "name": "stderr",
     "output_type": "stream",
     "text": [
      "  2%|▏         | 1331/75923 [06:13<3:52:46,  5.34it/s]"
     ]
    },
    {
     "name": "stdout",
     "output_type": "stream",
     "text": [
      "file not done yet ../data/raw/scBam/CB_TTCTTAGAGATCGATA-*.bam\n",
      "file not done yet ../data/raw/scBam/CB_TGCCCTACAAGTTGTC-*.bam\n"
     ]
    },
    {
     "name": "stderr",
     "output_type": "stream",
     "text": [
      "\r",
      "  2%|▏         | 1332/75923 [06:13<3:48:20,  5.44it/s]"
     ]
    },
    {
     "name": "stdout",
     "output_type": "stream",
     "text": [
      "file not done yet ../data/raw/scBam/CB_GATCAGTAGTCCGTAT-*.bam\n"
     ]
    },
    {
     "name": "stderr",
     "output_type": "stream",
     "text": [
      "  2%|▏         | 1334/75923 [06:13<3:55:47,  5.27it/s]"
     ]
    },
    {
     "name": "stdout",
     "output_type": "stream",
     "text": [
      "file not done yet ../data/raw/scBam/CB_ATCGAGTTCCAATGGT-*.bam\n",
      "file not done yet ../data/raw/scBam/CB_ATTACTCGTCTCCCTA-*.bam\n"
     ]
    },
    {
     "name": "stderr",
     "output_type": "stream",
     "text": [
      "\r",
      "  2%|▏         | 1335/75923 [06:14<4:06:53,  5.04it/s]"
     ]
    },
    {
     "name": "stdout",
     "output_type": "stream",
     "text": [
      "file not done yet ../data/raw/scBam/CB_TACGGTATCCCTTGCA-*.bam\n",
      "python /home/isshamie/software/mito-genotyping/exampleProcessing//01_pileup_counts.py ../data/raw/scBam/CB_AACTCCCCACCATGTA-1.bam ../data/raw/scPileup/CB_AACTCCCCACCATGTA-1 16571 0 AACTCCCCACCATGTA-1.bam 0\n"
     ]
    },
    {
     "name": "stderr",
     "output_type": "stream",
     "text": [
      "  2%|▏         | 1337/75923 [06:15<9:18:06,  2.23it/s] "
     ]
    },
    {
     "name": "stdout",
     "output_type": "stream",
     "text": [
      "file not done yet ../data/raw/scBam/CB_TGAGAGGCATGCTAGT-*.bam\n",
      "file not done yet ../data/raw/scBam/CB_ACTGTCCCAGGTCCAC-*.bam\n",
      "python /home/isshamie/software/mito-genotyping/exampleProcessing//01_pileup_counts.py ../data/raw/scBam/CB_AACTCCCGTGTTAAGA-1.bam ../data/raw/scPileup/CB_AACTCCCGTGTTAAGA-1 16571 0 AACTCCCGTGTTAAGA-1.bam 0\n"
     ]
    },
    {
     "name": "stderr",
     "output_type": "stream",
     "text": [
      "  2%|▏         | 1341/75923 [06:16<6:33:03,  3.16it/s]"
     ]
    },
    {
     "name": "stdout",
     "output_type": "stream",
     "text": [
      "file not done yet ../data/raw/scBam/CB_CGGTTAAAGAGTCGGT-*.bam\n",
      "file not done yet ../data/raw/scBam/CB_ACGGGCTTCTGCCAGG-*.bam\n"
     ]
    },
    {
     "name": "stderr",
     "output_type": "stream",
     "text": [
      "\r",
      "  2%|▏         | 1342/75923 [06:17<5:42:23,  3.63it/s]"
     ]
    },
    {
     "name": "stdout",
     "output_type": "stream",
     "text": [
      "file not done yet ../data/raw/scBam/CB_CTGCGGATCAAGCCTA-*.bam\n",
      "python /home/isshamie/software/mito-genotyping/exampleProcessing//01_pileup_counts.py ../data/raw/scBam/CB_AACTCTTGTTGTTTGG-1.bam ../data/raw/scPileup/CB_AACTCTTGTTGTTTGG-1 16571 0 AACTCTTGTTGTTTGG-1.bam 0\n"
     ]
    },
    {
     "name": "stderr",
     "output_type": "stream",
     "text": [
      "  2%|▏         | 1345/75923 [06:18<8:07:04,  2.55it/s] "
     ]
    },
    {
     "name": "stdout",
     "output_type": "stream",
     "text": [
      "file not done yet ../data/raw/scBam/CB_GTAGTCATCCAAAGTC-*.bam\n",
      "file not done yet ../data/raw/scBam/CB_TGGACGCCAGATCGGA-*.bam\n"
     ]
    },
    {
     "name": "stderr",
     "output_type": "stream",
     "text": [
      "  2%|▏         | 1347/75923 [06:19<5:43:59,  3.61it/s]"
     ]
    },
    {
     "name": "stdout",
     "output_type": "stream",
     "text": [
      "file not done yet ../data/raw/scBam/CB_TGCCCATGTGACAAAT-*.bam\n",
      "file not done yet ../data/raw/scBam/CB_GCATGCGGTCTAGCGC-*.bam\n"
     ]
    },
    {
     "name": "stderr",
     "output_type": "stream",
     "text": [
      "\r",
      "  2%|▏         | 1348/75923 [06:19<5:06:46,  4.05it/s]"
     ]
    },
    {
     "name": "stdout",
     "output_type": "stream",
     "text": [
      "file not done yet ../data/raw/scBam/CB_GCAGTTAAGGCTAGGT-*.bam\n",
      "python /home/isshamie/software/mito-genotyping/exampleProcessing//01_pileup_counts.py ../data/raw/scBam/CB_AACTCCCTCTTAGCCC-1.bam ../data/raw/scPileup/CB_AACTCCCTCTTAGCCC-1 16571 0 AACTCCCTCTTAGCCC-1.bam 0\n"
     ]
    },
    {
     "name": "stderr",
     "output_type": "stream",
     "text": [
      "  2%|▏         | 1350/75923 [06:22<15:41:54,  1.32it/s]"
     ]
    },
    {
     "name": "stdout",
     "output_type": "stream",
     "text": [
      "file not done yet ../data/raw/scBam/CB_TAGCCGGGTCATGCCG-*.bam\n",
      "python /home/isshamie/software/mito-genotyping/exampleProcessing//01_pileup_counts.py ../data/raw/scBam/CB_AACACGTGTAATCGTC-1.bam ../data/raw/scPileup/CB_AACACGTGTAATCGTC-1 16571 0 AACACGTGTAATCGTC-1.bam 0\n"
     ]
    },
    {
     "name": "stderr",
     "output_type": "stream",
     "text": [
      "  2%|▏         | 1352/75923 [06:23<13:23:16,  1.55it/s]"
     ]
    },
    {
     "name": "stdout",
     "output_type": "stream",
     "text": [
      "file not done yet ../data/raw/scBam/CB_GGAAAGCCATTTCACT-*.bam\n"
     ]
    },
    {
     "name": "stderr",
     "output_type": "stream",
     "text": [
      "  2%|▏         | 1354/75923 [06:24<8:42:57,  2.38it/s] "
     ]
    },
    {
     "name": "stdout",
     "output_type": "stream",
     "text": [
      "file not done yet ../data/raw/scBam/CB_TTGTAGGAGGCATGGT-*.bam\n",
      "file not done yet ../data/raw/scBam/CB_TACTTGTTCGCAAACT-*.bam\n"
     ]
    },
    {
     "name": "stderr",
     "output_type": "stream",
     "text": [
      "  2%|▏         | 1356/75923 [06:24<6:35:12,  3.14it/s]"
     ]
    },
    {
     "name": "stdout",
     "output_type": "stream",
     "text": [
      "file not done yet ../data/raw/scBam/CB_GATGAGGAGACCACGA-*.bam\n",
      "file not done yet ../data/raw/scBam/CB_CTAGAGTGTCCATGAT-*.bam\n",
      "python /home/isshamie/software/mito-genotyping/exampleProcessing//01_pileup_counts.py ../data/raw/scBam/CB_AACACGTGTTACAGAA-1.bam ../data/raw/scPileup/CB_AACACGTGTTACAGAA-1 16571 0 AACACGTGTTACAGAA-1.bam 0\n"
     ]
    },
    {
     "name": "stderr",
     "output_type": "stream",
     "text": [
      "  2%|▏         | 1359/75923 [06:26<8:17:09,  2.50it/s] "
     ]
    },
    {
     "name": "stdout",
     "output_type": "stream",
     "text": [
      "file not done yet ../data/raw/scBam/CB_TTGTAGGAGTGTACTC-*.bam\n",
      "file not done yet ../data/raw/scBam/CB_GCATGATTCAACACCA-*.bam\n"
     ]
    },
    {
     "name": "stderr",
     "output_type": "stream",
     "text": [
      "\r",
      "  2%|▏         | 1360/75923 [06:26<6:43:14,  3.08it/s]"
     ]
    },
    {
     "name": "stdout",
     "output_type": "stream",
     "text": [
      "file not done yet ../data/raw/scBam/CB_GTCGTAAGTTGATTGC-*.bam\n"
     ]
    },
    {
     "name": "stderr",
     "output_type": "stream",
     "text": [
      "\r",
      "  2%|▏         | 1361/75923 [06:26<6:04:10,  3.41it/s]"
     ]
    },
    {
     "name": "stdout",
     "output_type": "stream",
     "text": [
      "file not done yet ../data/raw/scBam/CB_CCCAGTTGTGTTTGTG-*.bam\n"
     ]
    },
    {
     "name": "stderr",
     "output_type": "stream",
     "text": [
      "  2%|▏         | 1363/75923 [06:26<4:56:18,  4.19it/s]"
     ]
    },
    {
     "name": "stdout",
     "output_type": "stream",
     "text": [
      "file not done yet ../data/raw/scBam/CB_CAGCGACGTGTCGCTG-*.bam\n",
      "file not done yet ../data/raw/scBam/CB_CAGCAGCAGCCCGAAA-*.bam\n"
     ]
    },
    {
     "name": "stderr",
     "output_type": "stream",
     "text": [
      "  2%|▏         | 1365/75923 [06:27<4:15:11,  4.87it/s]"
     ]
    },
    {
     "name": "stdout",
     "output_type": "stream",
     "text": [
      "file not done yet ../data/raw/scBam/CB_CGTCAGGTCTTGACGA-*.bam\n",
      "file not done yet ../data/raw/scBam/CB_GGCCGATAGACCTTTG-*.bam\n"
     ]
    },
    {
     "name": "stderr",
     "output_type": "stream",
     "text": [
      "\r",
      "  2%|▏         | 1366/75923 [06:27<3:59:45,  5.18it/s]"
     ]
    },
    {
     "name": "stdout",
     "output_type": "stream",
     "text": [
      "file not done yet ../data/raw/scBam/CB_CCGTACTCAAGAAAGG-*.bam\n"
     ]
    },
    {
     "name": "stderr",
     "output_type": "stream",
     "text": [
      "  2%|▏         | 1368/75923 [06:27<3:56:47,  5.25it/s]"
     ]
    },
    {
     "name": "stdout",
     "output_type": "stream",
     "text": [
      "file not done yet ../data/raw/scBam/CB_GCCAAATGTCTAGCGC-*.bam\n",
      "file not done yet ../data/raw/scBam/CB_CCACTACCACAAGTAA-*.bam\n",
      "file not done yet ../data/raw/scBam/CB_ATCATCTGTAATCGTC-*.bam\n"
     ]
    },
    {
     "name": "stderr",
     "output_type": "stream",
     "text": [
      "\r",
      "  2%|▏         | 1372/75923 [06:28<2:59:15,  6.93it/s]"
     ]
    },
    {
     "name": "stdout",
     "output_type": "stream",
     "text": [
      "file not done yet ../data/raw/scBam/CB_ACCCACTAGACACTAA-*.bam\n",
      "file not done yet ../data/raw/scBam/CB_TGTCCCAGTGCCTGCA-*.bam\n",
      "file not done yet ../data/raw/scBam/CB_CAAGATCCAAATCCGT-*.bam\n",
      "file not done yet ../data/raw/scBam/CB_GCGCAACTCTGTTTGT-*.bam\n"
     ]
    },
    {
     "name": "stderr",
     "output_type": "stream",
     "text": [
      "\r",
      "  2%|▏         | 1374/75923 [06:28<3:14:33,  6.39it/s]"
     ]
    },
    {
     "name": "stdout",
     "output_type": "stream",
     "text": [
      "file not done yet ../data/raw/scBam/CB_AGTGAGGAGAGTAATC-*.bam\n",
      "file not done yet ../data/raw/scBam/CB_TGGGCGTGTGCTAGCC-*.bam\n"
     ]
    },
    {
     "name": "stderr",
     "output_type": "stream",
     "text": [
      "  2%|▏         | 1377/75923 [06:29<3:48:54,  5.43it/s]"
     ]
    },
    {
     "name": "stdout",
     "output_type": "stream",
     "text": [
      "file not done yet ../data/raw/scBam/CB_CGGTTAACAAGTCATC-*.bam\n",
      "file not done yet ../data/raw/scBam/CB_TGCTACCTCAAGCCTA-*.bam\n"
     ]
    },
    {
     "name": "stderr",
     "output_type": "stream",
     "text": [
      "  2%|▏         | 1379/75923 [06:29<3:42:50,  5.58it/s]"
     ]
    },
    {
     "name": "stdout",
     "output_type": "stream",
     "text": [
      "file not done yet ../data/raw/scBam/CB_GATCAGTAGGAGCGAG-*.bam\n",
      "file not done yet ../data/raw/scBam/CB_TATTACCGTGTTAAGA-*.bam\n",
      "python /home/isshamie/software/mito-genotyping/exampleProcessing//01_pileup_counts.py ../data/raw/scBam/CB_ACAGCCGAGCGCCTTG-1.bam ../data/raw/scPileup/CB_ACAGCCGAGCGCCTTG-1 16571 0 ACAGCCGAGCGCCTTG-1.bam 0\n"
     ]
    },
    {
     "name": "stderr",
     "output_type": "stream",
     "text": [
      "\r",
      "  2%|▏         | 1380/75923 [06:30<9:26:25,  2.19it/s]"
     ]
    },
    {
     "name": "stdout",
     "output_type": "stream",
     "text": [
      "python /home/isshamie/software/mito-genotyping/exampleProcessing//01_pileup_counts.py ../data/raw/scBam/CB_ACAGCTATCATTGCGA-1.bam ../data/raw/scPileup/CB_ACAGCTATCATTGCGA-1 16571 0 ACAGCTATCATTGCGA-1.bam 0\n"
     ]
    },
    {
     "name": "stderr",
     "output_type": "stream",
     "text": [
      "  2%|▏         | 1382/75923 [06:33<17:30:20,  1.18it/s]"
     ]
    },
    {
     "name": "stdout",
     "output_type": "stream",
     "text": [
      "file not done yet ../data/raw/scBam/CB_CAGCGACGTGCATCTA-*.bam\n",
      "python /home/isshamie/software/mito-genotyping/exampleProcessing//01_pileup_counts.py ../data/raw/scBam/CB_AAGTCTGTCTCTGAGA-1.bam ../data/raw/scPileup/CB_AAGTCTGTCTCTGAGA-1 16571 0 AAGTCTGTCTCTGAGA-1.bam 0\n"
     ]
    },
    {
     "name": "stderr",
     "output_type": "stream",
     "text": [
      "  2%|▏         | 1384/75923 [06:35<17:04:14,  1.21it/s]"
     ]
    },
    {
     "name": "stdout",
     "output_type": "stream",
     "text": [
      "file not done yet ../data/raw/scBam/CB_CGTGTCTCAAAGGAAG-*.bam\n"
     ]
    },
    {
     "name": "stderr",
     "output_type": "stream",
     "text": [
      "\r",
      "  2%|▏         | 1385/75923 [06:35<13:16:08,  1.56it/s]"
     ]
    },
    {
     "name": "stdout",
     "output_type": "stream",
     "text": [
      "file not done yet ../data/raw/scBam/CB_GCATACATCTCCTATA-*.bam\n"
     ]
    },
    {
     "name": "stderr",
     "output_type": "stream",
     "text": [
      "  2%|▏         | 1387/75923 [06:35<8:27:31,  2.45it/s] "
     ]
    },
    {
     "name": "stdout",
     "output_type": "stream",
     "text": [
      "file not done yet ../data/raw/scBam/CB_CCTTCCCGTCTCTTAT-*.bam\n",
      "file not done yet ../data/raw/scBam/CB_ATCACGAAGCTCCCAG-*.bam\n"
     ]
    },
    {
     "name": "stderr",
     "output_type": "stream",
     "text": [
      "  2%|▏         | 1389/75923 [06:36<6:02:37,  3.43it/s]"
     ]
    },
    {
     "name": "stdout",
     "output_type": "stream",
     "text": [
      "file not done yet ../data/raw/scBam/CB_TGGTTCCCATTACCTT-*.bam\n",
      "file not done yet ../data/raw/scBam/CB_GTACGTAAGTGATCGG-*.bam\n"
     ]
    },
    {
     "name": "stderr",
     "output_type": "stream",
     "text": [
      "\r",
      "  2%|▏         | 1390/75923 [06:36<8:21:12,  2.48it/s]"
     ]
    },
    {
     "name": "stdout",
     "output_type": "stream",
     "text": [
      "file not done yet ../data/raw/scBam/CB_GACTGCGAGGCCCGTT-*.bam\n"
     ]
    },
    {
     "name": "stderr",
     "output_type": "stream",
     "text": [
      "\r",
      "  2%|▏         | 1391/75923 [06:37<7:49:01,  2.65it/s]"
     ]
    },
    {
     "name": "stdout",
     "output_type": "stream",
     "text": [
      "file not done yet ../data/raw/scBam/CB_TACACGATCCGAGCCA-*.bam\n",
      "python /home/isshamie/software/mito-genotyping/exampleProcessing//01_pileup_counts.py ../data/raw/scBam/CB_AAGGCAGTCCACGTGG-1.bam ../data/raw/scPileup/CB_AAGGCAGTCCACGTGG-1 16571 0 AAGGCAGTCCACGTGG-1.bam 0\n"
     ]
    },
    {
     "name": "stderr",
     "output_type": "stream",
     "text": [
      "  2%|▏         | 1394/75923 [06:39<10:03:02,  2.06it/s]"
     ]
    },
    {
     "name": "stdout",
     "output_type": "stream",
     "text": [
      "file not done yet ../data/raw/scBam/CB_CATCGAAGTTACCAGT-*.bam\n",
      "file not done yet ../data/raw/scBam/CB_CGTCCATAGGACGAAA-*.bam\n"
     ]
    },
    {
     "name": "stderr",
     "output_type": "stream",
     "text": [
      "  2%|▏         | 1396/75923 [06:39<6:44:27,  3.07it/s] "
     ]
    },
    {
     "name": "stdout",
     "output_type": "stream",
     "text": [
      "file not done yet ../data/raw/scBam/CB_CGGCTAGTCCTTTACA-*.bam\n",
      "file not done yet ../data/raw/scBam/CB_GTTCATTCAACCGCCA-*.bam\n"
     ]
    },
    {
     "name": "stderr",
     "output_type": "stream",
     "text": [
      "  2%|▏         | 1398/75923 [06:40<5:08:42,  4.02it/s]"
     ]
    },
    {
     "name": "stdout",
     "output_type": "stream",
     "text": [
      "file not done yet ../data/raw/scBam/CB_TCGAGGCTCAGGCAAG-*.bam\n",
      "file not done yet ../data/raw/scBam/CB_ATCCGAATCAAAGTAG-*.bam\n"
     ]
    },
    {
     "name": "stderr",
     "output_type": "stream",
     "text": [
      "  2%|▏         | 1400/75923 [06:40<4:25:38,  4.68it/s]"
     ]
    },
    {
     "name": "stdout",
     "output_type": "stream",
     "text": [
      "file not done yet ../data/raw/scBam/CB_CATGGCGGTTCGGGCT-*.bam\n",
      "file not done yet ../data/raw/scBam/CB_TTCTCCTGTAGCGCTC-*.bam\n"
     ]
    },
    {
     "name": "stderr",
     "output_type": "stream",
     "text": [
      "  2%|▏         | 1402/75923 [06:40<3:54:20,  5.30it/s]"
     ]
    },
    {
     "name": "stdout",
     "output_type": "stream",
     "text": [
      "file not done yet ../data/raw/scBam/CB_TCAGATGGTCCATCCT-*.bam\n",
      "file not done yet ../data/raw/scBam/CB_GTGAAGGTCTTGTATC-*.bam\n"
     ]
    },
    {
     "name": "stderr",
     "output_type": "stream",
     "text": [
      "  2%|▏         | 1404/75923 [06:41<3:44:17,  5.54it/s]"
     ]
    },
    {
     "name": "stdout",
     "output_type": "stream",
     "text": [
      "file not done yet ../data/raw/scBam/CB_CGCGGTAAGACGACGT-*.bam\n",
      "file not done yet ../data/raw/scBam/CB_GTTCGGGTCAGGTTCA-*.bam\n"
     ]
    },
    {
     "name": "stderr",
     "output_type": "stream",
     "text": [
      "  2%|▏         | 1406/75923 [06:41<4:01:44,  5.14it/s]"
     ]
    },
    {
     "name": "stdout",
     "output_type": "stream",
     "text": [
      "file not done yet ../data/raw/scBam/CB_ATCCACCCAATGCCAT-*.bam\n",
      "file not done yet ../data/raw/scBam/CB_GGCAATTTCCACGCAG-*.bam\n"
     ]
    },
    {
     "name": "stderr",
     "output_type": "stream",
     "text": [
      "  2%|▏         | 1408/75923 [06:41<4:14:04,  4.89it/s]"
     ]
    },
    {
     "name": "stdout",
     "output_type": "stream",
     "text": [
      "file not done yet ../data/raw/scBam/CB_GACTACATCTGTCCGT-*.bam\n",
      "file not done yet ../data/raw/scBam/CB_TTAGGCATCCGTAGTA-*.bam\n"
     ]
    },
    {
     "name": "stderr",
     "output_type": "stream",
     "text": [
      "\r",
      "  2%|▏         | 1409/75923 [06:42<4:14:16,  4.88it/s]"
     ]
    },
    {
     "name": "stdout",
     "output_type": "stream",
     "text": [
      "file not done yet ../data/raw/scBam/CB_CTCTAATCATCAGTAC-*.bam\n"
     ]
    },
    {
     "name": "stderr",
     "output_type": "stream",
     "text": [
      "  2%|▏         | 1412/75923 [06:42<4:16:59,  4.83it/s]"
     ]
    },
    {
     "name": "stdout",
     "output_type": "stream",
     "text": [
      "file not done yet ../data/raw/scBam/CB_AGTGTCACATCGGTTA-*.bam\n",
      "file not done yet ../data/raw/scBam/CB_TAGCCGGAGCATGGCA-*.bam\n",
      "file not done yet ../data/raw/scBam/CB_CATATTCGTTTGTGTG-*.bam\n"
     ]
    },
    {
     "name": "stderr",
     "output_type": "stream",
     "text": [
      "  2%|▏         | 1414/75923 [06:43<3:56:44,  5.25it/s]"
     ]
    },
    {
     "name": "stdout",
     "output_type": "stream",
     "text": [
      "file not done yet ../data/raw/scBam/CB_GACACGCTCCGTTGTC-*.bam\n",
      "file not done yet ../data/raw/scBam/CB_GGACAGAAGGGAACGG-*.bam\n"
     ]
    },
    {
     "name": "stderr",
     "output_type": "stream",
     "text": [
      "  2%|▏         | 1416/75923 [06:43<3:57:18,  5.23it/s]"
     ]
    },
    {
     "name": "stdout",
     "output_type": "stream",
     "text": [
      "file not done yet ../data/raw/scBam/CB_GCGCGATAGTACACCT-*.bam\n",
      "file not done yet ../data/raw/scBam/CB_GGGATGAAGTGAACAT-*.bam\n"
     ]
    },
    {
     "name": "stderr",
     "output_type": "stream",
     "text": [
      "  2%|▏         | 1418/75923 [06:43<3:50:20,  5.39it/s]"
     ]
    },
    {
     "name": "stdout",
     "output_type": "stream",
     "text": [
      "file not done yet ../data/raw/scBam/CB_TGGCGCACAATGACCT-*.bam\n",
      "file not done yet ../data/raw/scBam/CB_ATCATCTCAAGGACTG-*.bam\n"
     ]
    },
    {
     "name": "stderr",
     "output_type": "stream",
     "text": [
      "  2%|▏         | 1420/75923 [06:44<3:51:03,  5.37it/s]"
     ]
    },
    {
     "name": "stdout",
     "output_type": "stream",
     "text": [
      "file not done yet ../data/raw/scBam/CB_TCGTAGAGTTGGGACA-*.bam\n",
      "file not done yet ../data/raw/scBam/CB_CACATAGAGTCCATAC-*.bam\n"
     ]
    },
    {
     "name": "stderr",
     "output_type": "stream",
     "text": [
      "  2%|▏         | 1422/75923 [06:44<3:53:59,  5.31it/s]"
     ]
    },
    {
     "name": "stdout",
     "output_type": "stream",
     "text": [
      "file not done yet ../data/raw/scBam/CB_TATCAGGTCACTATTC-*.bam\n",
      "file not done yet ../data/raw/scBam/CB_ATAGACCGTCATCGGC-*.bam\n"
     ]
    },
    {
     "name": "stderr",
     "output_type": "stream",
     "text": [
      "\r",
      "  2%|▏         | 1423/75923 [06:44<3:45:37,  5.50it/s]"
     ]
    },
    {
     "name": "stdout",
     "output_type": "stream",
     "text": [
      "file not done yet ../data/raw/scBam/CB_TTCGAAGCATATGAGA-*.bam\n",
      "python /home/isshamie/software/mito-genotyping/exampleProcessing//01_pileup_counts.py ../data/raw/scBam/CB_ACATGGTCACGTCAGC-1.bam ../data/raw/scPileup/CB_ACATGGTCACGTCAGC-1 16571 0 ACATGGTCACGTCAGC-1.bam 0\n"
     ]
    },
    {
     "name": "stderr",
     "output_type": "stream",
     "text": [
      "  2%|▏         | 1425/75923 [06:47<13:27:51,  1.54it/s]"
     ]
    },
    {
     "name": "stdout",
     "output_type": "stream",
     "text": [
      "file not done yet ../data/raw/scBam/CB_CTCGAAAAGATGAGAG-*.bam\n"
     ]
    },
    {
     "name": "stderr",
     "output_type": "stream",
     "text": [
      "\r",
      "  2%|▏         | 1426/75923 [07:50<403:18:03, 19.49s/it]"
     ]
    },
    {
     "name": "stdout",
     "output_type": "stream",
     "text": [
      "file not done yet ../data/raw/scBam/CB_CCCAGTTAGGCATGGT-*.bam\n"
     ]
    },
    {
     "name": "stderr",
     "output_type": "stream",
     "text": [
      "\r",
      "  2%|▏         | 1427/75923 [07:51<284:51:06, 13.77s/it]"
     ]
    },
    {
     "name": "stdout",
     "output_type": "stream",
     "text": [
      "file not done yet ../data/raw/scBam/CB_TGACGGCGTGACTCAT-*.bam\n"
     ]
    },
    {
     "name": "stderr",
     "output_type": "stream",
     "text": [
      "\r",
      "  2%|▏         | 1428/75923 [07:51<200:40:27,  9.70s/it]"
     ]
    },
    {
     "name": "stdout",
     "output_type": "stream",
     "text": [
      "file not done yet ../data/raw/scBam/CB_ATCGAGTTCACATACG-*.bam\n",
      "python /home/isshamie/software/mito-genotyping/exampleProcessing//01_pileup_counts.py ../data/raw/scBam/CB_ACACCAAAGGATGTAT-1.bam ../data/raw/scPileup/CB_ACACCAAAGGATGTAT-1 16571 0 ACACCAAAGGATGTAT-1.bam 0\n"
     ]
    },
    {
     "name": "stderr",
     "output_type": "stream",
     "text": [
      "  2%|▏         | 1431/75923 [07:53<76:31:33,  3.70s/it] "
     ]
    },
    {
     "name": "stdout",
     "output_type": "stream",
     "text": [
      "file not done yet ../data/raw/scBam/CB_TGACAACGTATTAGCC-*.bam\n",
      "file not done yet ../data/raw/scBam/CB_TTAGGACAGAGTCTGG-*.bam\n"
     ]
    },
    {
     "name": "stderr",
     "output_type": "stream",
     "text": [
      "  2%|▏         | 1433/75923 [07:54<39:11:59,  1.89s/it]"
     ]
    },
    {
     "name": "stdout",
     "output_type": "stream",
     "text": [
      "file not done yet ../data/raw/scBam/CB_ATGGGAGCATTCCTGC-*.bam\n",
      "file not done yet ../data/raw/scBam/CB_GAATGAATCACTGGGC-*.bam\n"
     ]
    },
    {
     "name": "stderr",
     "output_type": "stream",
     "text": [
      "\r",
      "  2%|▏         | 1434/75923 [07:54<28:47:26,  1.39s/it]"
     ]
    },
    {
     "name": "stdout",
     "output_type": "stream",
     "text": [
      "file not done yet ../data/raw/scBam/CB_GAACCTACAGACGCAA-*.bam\n"
     ]
    },
    {
     "name": "stderr",
     "output_type": "stream",
     "text": [
      "  2%|▏         | 1436/75923 [07:54<16:14:07,  1.27it/s]"
     ]
    },
    {
     "name": "stdout",
     "output_type": "stream",
     "text": [
      "file not done yet ../data/raw/scBam/CB_GGGAGATTCTGCTGTC-*.bam\n",
      "file not done yet ../data/raw/scBam/CB_CAAGAAACACTTCTGC-*.bam\n"
     ]
    },
    {
     "name": "stderr",
     "output_type": "stream",
     "text": [
      "\r",
      "  2%|▏         | 1437/75923 [07:54<12:18:38,  1.68it/s]"
     ]
    },
    {
     "name": "stdout",
     "output_type": "stream",
     "text": [
      "file not done yet ../data/raw/scBam/CB_TCTTCGGGTCATCCCT-*.bam\n"
     ]
    },
    {
     "name": "stderr",
     "output_type": "stream",
     "text": [
      "\r",
      "  2%|▏         | 1438/75923 [07:55<9:56:26,  2.08it/s] "
     ]
    },
    {
     "name": "stdout",
     "output_type": "stream",
     "text": [
      "file not done yet ../data/raw/scBam/CB_TACTTGTCACAGGTTT-*.bam\n"
     ]
    },
    {
     "name": "stderr",
     "output_type": "stream",
     "text": [
      "\r",
      "  2%|▏         | 1439/75923 [07:55<8:16:51,  2.50it/s]"
     ]
    },
    {
     "name": "stdout",
     "output_type": "stream",
     "text": [
      "file not done yet ../data/raw/scBam/CB_GTCCTCAGTTCAACCA-*.bam\n"
     ]
    },
    {
     "name": "stderr",
     "output_type": "stream",
     "text": [
      "  2%|▏         | 1441/75923 [07:55<6:09:13,  3.36it/s]"
     ]
    },
    {
     "name": "stdout",
     "output_type": "stream",
     "text": [
      "file not done yet ../data/raw/scBam/CB_CGTCACTAGAGACTTA-*.bam\n",
      "file not done yet ../data/raw/scBam/CB_ACTTGTTTCGATGAGG-*.bam\n"
     ]
    },
    {
     "name": "stderr",
     "output_type": "stream",
     "text": [
      "  2%|▏         | 1443/75923 [07:55<4:51:48,  4.25it/s]"
     ]
    },
    {
     "name": "stdout",
     "output_type": "stream",
     "text": [
      "file not done yet ../data/raw/scBam/CB_GCGACCAGTTCACCTC-*.bam\n",
      "file not done yet ../data/raw/scBam/CB_TCAGCTCAGTGGGTTG-*.bam\n"
     ]
    },
    {
     "name": "stderr",
     "output_type": "stream",
     "text": [
      "\r",
      "  2%|▏         | 1444/75923 [07:56<4:33:03,  4.55it/s]"
     ]
    },
    {
     "name": "stdout",
     "output_type": "stream",
     "text": [
      "file not done yet ../data/raw/scBam/CB_CATCGAATCGGAAACG-*.bam\n"
     ]
    },
    {
     "name": "stderr",
     "output_type": "stream",
     "text": [
      "  2%|▏         | 1446/75923 [07:56<4:11:30,  4.94it/s]"
     ]
    },
    {
     "name": "stdout",
     "output_type": "stream",
     "text": [
      "file not done yet ../data/raw/scBam/CB_GTCATTTTCACCACCT-*.bam\n",
      "file not done yet ../data/raw/scBam/CB_CATCAGACAATGAAAC-*.bam\n"
     ]
    },
    {
     "name": "stderr",
     "output_type": "stream",
     "text": [
      "  2%|▏         | 1448/75923 [07:56<3:43:13,  5.56it/s]"
     ]
    },
    {
     "name": "stdout",
     "output_type": "stream",
     "text": [
      "file not done yet ../data/raw/scBam/CB_TGAGAGGTCTCCGGTT-*.bam\n",
      "file not done yet ../data/raw/scBam/CB_GAATAAGGTGGGTCAA-*.bam\n"
     ]
    },
    {
     "name": "stderr",
     "output_type": "stream",
     "text": [
      "  2%|▏         | 1450/75923 [07:57<3:52:55,  5.33it/s]"
     ]
    },
    {
     "name": "stdout",
     "output_type": "stream",
     "text": [
      "file not done yet ../data/raw/scBam/CB_CAGCTGGTCAGGTAAA-*.bam\n",
      "file not done yet ../data/raw/scBam/CB_GGTGCGTGTGGACGAT-*.bam\n",
      "python /home/isshamie/software/mito-genotyping/exampleProcessing//01_pileup_counts.py ../data/raw/scBam/CB_ACACCAATCCAGTAGT-1.bam ../data/raw/scPileup/CB_ACACCAATCCAGTAGT-1 16571 0 ACACCAATCCAGTAGT-1.bam 0\n"
     ]
    },
    {
     "name": "stderr",
     "output_type": "stream",
     "text": [
      "  2%|▏         | 1453/75923 [08:00<10:53:13,  1.90it/s]"
     ]
    },
    {
     "name": "stdout",
     "output_type": "stream",
     "text": [
      "file not done yet ../data/raw/scBam/CB_ACTGCTCGTTCGCGAC-*.bam\n",
      "file not done yet ../data/raw/scBam/CB_GCTGCGATCCTTGCCA-*.bam\n"
     ]
    },
    {
     "name": "stderr",
     "output_type": "stream",
     "text": [
      "  2%|▏         | 1455/75923 [08:00<7:08:47,  2.89it/s] "
     ]
    },
    {
     "name": "stdout",
     "output_type": "stream",
     "text": [
      "file not done yet ../data/raw/scBam/CB_AGGCCGTCATCGGAAG-*.bam\n",
      "file not done yet ../data/raw/scBam/CB_TTGGCAATCCGGGTGT-*.bam\n"
     ]
    },
    {
     "name": "stderr",
     "output_type": "stream",
     "text": [
      "  2%|▏         | 1457/75923 [08:00<5:18:26,  3.90it/s]"
     ]
    },
    {
     "name": "stdout",
     "output_type": "stream",
     "text": [
      "file not done yet ../data/raw/scBam/CB_TAGTTGGTCTGGAGCC-*.bam\n",
      "file not done yet ../data/raw/scBam/CB_CTGAAGTTCGTACGGC-*.bam\n"
     ]
    },
    {
     "name": "stderr",
     "output_type": "stream",
     "text": [
      "\r",
      "  2%|▏         | 1458/75923 [08:00<4:47:07,  4.32it/s]"
     ]
    },
    {
     "name": "stdout",
     "output_type": "stream",
     "text": [
      "file not done yet ../data/raw/scBam/CB_CACTCCAGTTGAACTC-*.bam\n"
     ]
    },
    {
     "name": "stderr",
     "output_type": "stream",
     "text": [
      "  2%|▏         | 1460/75923 [08:01<4:17:26,  4.82it/s]"
     ]
    },
    {
     "name": "stdout",
     "output_type": "stream",
     "text": [
      "file not done yet ../data/raw/scBam/CB_GGTGTTAAGAGACTTA-*.bam\n",
      "file not done yet ../data/raw/scBam/CB_ACGGGTCAGCGTGAAC-*.bam\n"
     ]
    },
    {
     "name": "stderr",
     "output_type": "stream",
     "text": [
      "  2%|▏         | 1462/75923 [08:01<3:49:43,  5.40it/s]"
     ]
    },
    {
     "name": "stdout",
     "output_type": "stream",
     "text": [
      "file not done yet ../data/raw/scBam/CB_ACGGCCACACGTCAGC-*.bam\n",
      "file not done yet ../data/raw/scBam/CB_TGAAAGACAGTGACAG-*.bam\n",
      "python /home/isshamie/software/mito-genotyping/exampleProcessing//01_pileup_counts.py ../data/raw/scBam/CB_AAGGTTCTCCTGCAGG-1.bam ../data/raw/scPileup/CB_AAGGTTCTCCTGCAGG-1 16571 0 AAGGTTCTCCTGCAGG-1.bam 0\n"
     ]
    },
    {
     "name": "stderr",
     "output_type": "stream",
     "text": [
      "  2%|▏         | 1465/75923 [08:03<7:55:32,  2.61it/s] "
     ]
    },
    {
     "name": "stdout",
     "output_type": "stream",
     "text": [
      "file not done yet ../data/raw/scBam/CB_TGGTTCCTCACGGTTA-*.bam\n",
      "file not done yet ../data/raw/scBam/CB_GAAGCAGTCATGCATG-*.bam\n"
     ]
    },
    {
     "name": "stderr",
     "output_type": "stream",
     "text": [
      "\r",
      "  2%|▏         | 1466/75923 [08:03<6:35:00,  3.14it/s]"
     ]
    },
    {
     "name": "stdout",
     "output_type": "stream",
     "text": [
      "file not done yet ../data/raw/scBam/CB_CTCAGAACATGGTCTA-*.bam\n"
     ]
    },
    {
     "name": "stderr",
     "output_type": "stream",
     "text": [
      "\r",
      "  2%|▏         | 1467/75923 [08:03<5:52:35,  3.52it/s]"
     ]
    },
    {
     "name": "stdout",
     "output_type": "stream",
     "text": [
      "file not done yet ../data/raw/scBam/CB_ACGGCCATCTAGCACA-*.bam\n"
     ]
    },
    {
     "name": "stderr",
     "output_type": "stream",
     "text": [
      "  2%|▏         | 1469/75923 [08:04<4:53:17,  4.23it/s]"
     ]
    },
    {
     "name": "stdout",
     "output_type": "stream",
     "text": [
      "file not done yet ../data/raw/scBam/CB_GCACATATCATTGCCC-*.bam\n",
      "file not done yet ../data/raw/scBam/CB_CACACCTGTGCCTGGT-*.bam\n"
     ]
    },
    {
     "name": "stderr",
     "output_type": "stream",
     "text": [
      "  2%|▏         | 1471/75923 [08:04<4:29:30,  4.60it/s]"
     ]
    },
    {
     "name": "stdout",
     "output_type": "stream",
     "text": [
      "file not done yet ../data/raw/scBam/CB_AGTGAGGCACATGACT-*.bam\n",
      "file not done yet ../data/raw/scBam/CB_GTCGTAATCAGTTAGC-*.bam\n"
     ]
    },
    {
     "name": "stderr",
     "output_type": "stream",
     "text": [
      "\r",
      "  2%|▏         | 1472/75923 [08:04<4:23:34,  4.71it/s]"
     ]
    },
    {
     "name": "stdout",
     "output_type": "stream",
     "text": [
      "file not done yet ../data/raw/scBam/CB_ACTGAACAGGTGTGGT-*.bam\n"
     ]
    },
    {
     "name": "stderr",
     "output_type": "stream",
     "text": [
      "  2%|▏         | 1474/75923 [08:05<4:41:19,  4.41it/s]"
     ]
    },
    {
     "name": "stdout",
     "output_type": "stream",
     "text": [
      "file not done yet ../data/raw/scBam/CB_TTGAACGCAAGCGCTC-*.bam\n",
      "file not done yet ../data/raw/scBam/CB_ACCTTTAGTTCCACGG-*.bam\n"
     ]
    },
    {
     "name": "stderr",
     "output_type": "stream",
     "text": [
      "\r",
      "  2%|▏         | 1475/75923 [08:05<4:56:27,  4.19it/s]"
     ]
    },
    {
     "name": "stdout",
     "output_type": "stream",
     "text": [
      "file not done yet ../data/raw/scBam/CB_GTTTCTAAGTAGATGT-*.bam\n",
      "file not done yet ../data/raw/scBam/CB_AGTGAGGGTGCGAAAC-*.bam\n"
     ]
    },
    {
     "name": "stderr",
     "output_type": "stream",
     "text": [
      "  2%|▏         | 1477/75923 [08:06<4:19:02,  4.79it/s]"
     ]
    },
    {
     "name": "stdout",
     "output_type": "stream",
     "text": [
      "file not done yet ../data/raw/scBam/CB_CAGTAACTCTCAAGTG-*.bam\n"
     ]
    },
    {
     "name": "stderr",
     "output_type": "stream",
     "text": [
      "  2%|▏         | 1479/75923 [08:06<4:17:23,  4.82it/s]"
     ]
    },
    {
     "name": "stdout",
     "output_type": "stream",
     "text": [
      "file not done yet ../data/raw/scBam/CB_GGCTGGTCAGGCGATA-*.bam\n",
      "file not done yet ../data/raw/scBam/CB_GCTGGGTAGGCAGGTT-*.bam\n"
     ]
    },
    {
     "name": "stderr",
     "output_type": "stream",
     "text": [
      "  2%|▏         | 1481/75923 [08:06<3:58:47,  5.20it/s]"
     ]
    },
    {
     "name": "stdout",
     "output_type": "stream",
     "text": [
      "file not done yet ../data/raw/scBam/CB_TCTGGAACACAAGCCC-*.bam\n",
      "file not done yet ../data/raw/scBam/CB_AGACGTTGTCTAGTCA-*.bam\n"
     ]
    },
    {
     "name": "stderr",
     "output_type": "stream",
     "text": [
      "  2%|▏         | 1483/75923 [08:07<3:41:18,  5.61it/s]"
     ]
    },
    {
     "name": "stdout",
     "output_type": "stream",
     "text": [
      "file not done yet ../data/raw/scBam/CB_TCAACGACAGCAGTTT-*.bam\n",
      "file not done yet ../data/raw/scBam/CB_GCGGGTTGTCACAAGG-*.bam\n"
     ]
    },
    {
     "name": "stderr",
     "output_type": "stream",
     "text": [
      "\r",
      "  2%|▏         | 1484/75923 [08:07<3:49:46,  5.40it/s]"
     ]
    },
    {
     "name": "stdout",
     "output_type": "stream",
     "text": [
      "file not done yet ../data/raw/scBam/CB_CCCAATCTCCCAGGTG-*.bam\n"
     ]
    },
    {
     "name": "stderr",
     "output_type": "stream",
     "text": [
      "\r",
      "  2%|▏         | 1485/75923 [08:07<3:56:42,  5.24it/s]"
     ]
    },
    {
     "name": "stdout",
     "output_type": "stream",
     "text": [
      "file not done yet ../data/raw/scBam/CB_GCTCCTAAGAGGTACC-*.bam\n"
     ]
    },
    {
     "name": "stderr",
     "output_type": "stream",
     "text": [
      "  2%|▏         | 1487/75923 [08:07<3:48:41,  5.42it/s]"
     ]
    },
    {
     "name": "stdout",
     "output_type": "stream",
     "text": [
      "file not done yet ../data/raw/scBam/CB_GAAGCAGAGCCGATTT-*.bam\n",
      "file not done yet ../data/raw/scBam/CB_GTTCATTCAGTAAGAT-*.bam\n"
     ]
    },
    {
     "name": "stderr",
     "output_type": "stream",
     "text": [
      "  2%|▏         | 1489/75923 [08:08<3:37:41,  5.70it/s]"
     ]
    },
    {
     "name": "stdout",
     "output_type": "stream",
     "text": [
      "file not done yet ../data/raw/scBam/CB_GCGCAACAGTAGGCCA-*.bam\n",
      "file not done yet ../data/raw/scBam/CB_GGCAATTTCAAACCGT-*.bam\n"
     ]
    },
    {
     "name": "stderr",
     "output_type": "stream",
     "text": [
      "\r",
      "  2%|▏         | 1490/75923 [08:08<3:51:36,  5.36it/s]"
     ]
    },
    {
     "name": "stdout",
     "output_type": "stream",
     "text": [
      "file not done yet ../data/raw/scBam/CB_CACAAACAGCACGCCT-*.bam\n",
      "file not done yet ../data/raw/scBam/CB_ATAGACCGTACTCAAC-*.bam\n"
     ]
    },
    {
     "name": "stderr",
     "output_type": "stream",
     "text": [
      "  2%|▏         | 1493/75923 [08:09<3:54:28,  5.29it/s]"
     ]
    },
    {
     "name": "stdout",
     "output_type": "stream",
     "text": [
      "file not done yet ../data/raw/scBam/CB_GCACATAGTTACGCGC-*.bam\n",
      "file not done yet ../data/raw/scBam/CB_TGCACCTAGCTCTCGG-*.bam\n"
     ]
    },
    {
     "name": "stderr",
     "output_type": "stream",
     "text": [
      "  2%|▏         | 1495/75923 [08:09<3:51:20,  5.36it/s]"
     ]
    },
    {
     "name": "stdout",
     "output_type": "stream",
     "text": [
      "file not done yet ../data/raw/scBam/CB_TGCCCTAAGACGACGT-*.bam\n",
      "file not done yet ../data/raw/scBam/CB_TGGTTAGTCCGAATGT-*.bam\n"
     ]
    },
    {
     "name": "stderr",
     "output_type": "stream",
     "text": [
      "  2%|▏         | 1497/75923 [08:09<3:39:49,  5.64it/s]"
     ]
    },
    {
     "name": "stdout",
     "output_type": "stream",
     "text": [
      "file not done yet ../data/raw/scBam/CB_CCAGCGACAGAGCCAA-*.bam\n",
      "file not done yet ../data/raw/scBam/CB_TTATGCTCATGCTAGT-*.bam\n"
     ]
    },
    {
     "name": "stderr",
     "output_type": "stream",
     "text": [
      "  2%|▏         | 1499/75923 [08:10<3:36:29,  5.73it/s]"
     ]
    },
    {
     "name": "stdout",
     "output_type": "stream",
     "text": [
      "file not done yet ../data/raw/scBam/CB_CGCTTCACAGCGTTCG-*.bam\n",
      "file not done yet ../data/raw/scBam/CB_GATCAGTGTCTTGTCC-*.bam\n"
     ]
    },
    {
     "name": "stderr",
     "output_type": "stream",
     "text": [
      "\r",
      "  2%|▏         | 1500/75923 [08:10<3:50:27,  5.38it/s]"
     ]
    },
    {
     "name": "stdout",
     "output_type": "stream",
     "text": [
      "file not done yet ../data/raw/scBam/CB_AGAATAGTCTGCGTAA-*.bam\n",
      "python /home/isshamie/software/mito-genotyping/exampleProcessing//01_pileup_counts.py ../data/raw/scBam/CB_AAACCTGGTTATGCGT-1.bam ../data/raw/scPileup/CB_AAACCTGGTTATGCGT-1 16571 0 AAACCTGGTTATGCGT-1.bam 0\n"
     ]
    },
    {
     "name": "stderr",
     "output_type": "stream",
     "text": [
      "  2%|▏         | 1502/75923 [08:12<11:21:48,  1.82it/s]"
     ]
    },
    {
     "name": "stdout",
     "output_type": "stream",
     "text": [
      "file not done yet ../data/raw/scBam/CB_CGCTATCAGTGGTAAT-*.bam\n"
     ]
    },
    {
     "name": "stderr",
     "output_type": "stream",
     "text": [
      "  2%|▏         | 1504/75923 [08:12<7:41:51,  2.69it/s] "
     ]
    },
    {
     "name": "stdout",
     "output_type": "stream",
     "text": [
      "file not done yet ../data/raw/scBam/CB_GGCGTGTTCGGGAGTA-*.bam\n",
      "file not done yet ../data/raw/scBam/CB_CAACCAATCTCTGCTG-*.bam\n"
     ]
    },
    {
     "name": "stderr",
     "output_type": "stream",
     "text": [
      "\r",
      "  2%|▏         | 1505/75923 [08:13<6:39:12,  3.11it/s]"
     ]
    },
    {
     "name": "stdout",
     "output_type": "stream",
     "text": [
      "file not done yet ../data/raw/scBam/CB_TGGACGCAGTGAAGTT-*.bam\n",
      "python /home/isshamie/software/mito-genotyping/exampleProcessing//01_pileup_counts.py ../data/raw/scBam/CB_ACAGCCGTCGGATGTT-1.bam ../data/raw/scPileup/CB_ACAGCCGTCGGATGTT-1 16571 0 ACAGCCGTCGGATGTT-1.bam 0\n"
     ]
    },
    {
     "name": "stderr",
     "output_type": "stream",
     "text": [
      "  2%|▏         | 1508/75923 [08:14<8:41:36,  2.38it/s] "
     ]
    },
    {
     "name": "stdout",
     "output_type": "stream",
     "text": [
      "file not done yet ../data/raw/scBam/CB_TGGTTAGGTACAGTGG-*.bam\n",
      "file not done yet ../data/raw/scBam/CB_TCAGCTCAGTCATGCT-*.bam\n"
     ]
    },
    {
     "name": "stderr",
     "output_type": "stream",
     "text": [
      "  2%|▏         | 1510/75923 [08:15<6:03:46,  3.41it/s]"
     ]
    },
    {
     "name": "stdout",
     "output_type": "stream",
     "text": [
      "file not done yet ../data/raw/scBam/CB_CGTGTAAGTCTCTTAT-*.bam\n",
      "file not done yet ../data/raw/scBam/CB_GTACTTTCAGCTTAAC-*.bam\n"
     ]
    },
    {
     "name": "stderr",
     "output_type": "stream",
     "text": [
      "  2%|▏         | 1512/75923 [08:15<4:50:12,  4.27it/s]"
     ]
    },
    {
     "name": "stdout",
     "output_type": "stream",
     "text": [
      "file not done yet ../data/raw/scBam/CB_TACTTGTTCGATGAGG-*.bam\n",
      "file not done yet ../data/raw/scBam/CB_TATGCCCTCAGCTCGG-*.bam\n"
     ]
    },
    {
     "name": "stderr",
     "output_type": "stream",
     "text": [
      "  2%|▏         | 1514/75923 [08:15<3:59:59,  5.17it/s]"
     ]
    },
    {
     "name": "stdout",
     "output_type": "stream",
     "text": [
      "file not done yet ../data/raw/scBam/CB_GTCATTTAGCCAACAG-*.bam\n",
      "file not done yet ../data/raw/scBam/CB_TCCACACTCATGTAGC-*.bam\n"
     ]
    },
    {
     "name": "stderr",
     "output_type": "stream",
     "text": [
      "\r",
      "  2%|▏         | 1515/75923 [08:16<3:45:47,  5.49it/s]"
     ]
    },
    {
     "name": "stdout",
     "output_type": "stream",
     "text": [
      "file not done yet ../data/raw/scBam/CB_AGTCTTTGTGTAATGA-*.bam\n"
     ]
    },
    {
     "name": "stderr",
     "output_type": "stream",
     "text": [
      "  2%|▏         | 1517/75923 [08:16<3:49:25,  5.41it/s]"
     ]
    },
    {
     "name": "stdout",
     "output_type": "stream",
     "text": [
      "file not done yet ../data/raw/scBam/CB_GGCAATTAGCGCTCCA-*.bam\n",
      "file not done yet ../data/raw/scBam/CB_TTCTACAGTCTCCCTA-*.bam\n",
      "file not done yet ../data/raw/scBam/CB_TGATTTCGTTACGACT-*.bam\n"
     ]
    },
    {
     "name": "stderr",
     "output_type": "stream",
     "text": [
      "  2%|▏         | 1519/75923 [08:16<3:42:48,  5.57it/s]"
     ]
    },
    {
     "name": "stdout",
     "output_type": "stream",
     "text": [
      "file not done yet ../data/raw/scBam/CB_TTGGCAAGTCGGCTCA-*.bam\n"
     ]
    },
    {
     "name": "stderr",
     "output_type": "stream",
     "text": [
      "  2%|▏         | 1522/75923 [08:17<3:52:45,  5.33it/s]"
     ]
    },
    {
     "name": "stdout",
     "output_type": "stream",
     "text": [
      "file not done yet ../data/raw/scBam/CB_GAAATGAGTCGCGTGT-*.bam\n",
      "file not done yet ../data/raw/scBam/CB_TTAACTCGTGAACCTT-*.bam\n",
      "file not done yet ../data/raw/scBam/CB_TTCTACAGTGTGCCTG-*.bam\n"
     ]
    },
    {
     "name": "stderr",
     "output_type": "stream",
     "text": [
      "  2%|▏         | 1524/75923 [08:17<4:03:49,  5.09it/s]"
     ]
    },
    {
     "name": "stdout",
     "output_type": "stream",
     "text": [
      "file not done yet ../data/raw/scBam/CB_CATGGCGTCGTTACAG-*.bam\n",
      "file not done yet ../data/raw/scBam/CB_TGTCCCATCTCGCATC-*.bam\n"
     ]
    },
    {
     "name": "stderr",
     "output_type": "stream",
     "text": [
      "\r",
      "  2%|▏         | 1525/75923 [08:17<3:51:46,  5.35it/s]"
     ]
    },
    {
     "name": "stdout",
     "output_type": "stream",
     "text": [
      "file not done yet ../data/raw/scBam/CB_CAGCATACACCACGTG-*.bam\n"
     ]
    },
    {
     "name": "stderr",
     "output_type": "stream",
     "text": [
      "  2%|▏         | 1527/75923 [08:18<3:52:28,  5.33it/s]"
     ]
    },
    {
     "name": "stdout",
     "output_type": "stream",
     "text": [
      "file not done yet ../data/raw/scBam/CB_CTCGGAGTCAGTGCAT-*.bam\n",
      "file not done yet ../data/raw/scBam/CB_TCTATTGGTGAAATCA-*.bam\n"
     ]
    },
    {
     "name": "stderr",
     "output_type": "stream",
     "text": [
      "\r",
      "  2%|▏         | 1528/75923 [08:18<4:11:16,  4.93it/s]"
     ]
    },
    {
     "name": "stdout",
     "output_type": "stream",
     "text": [
      "file not done yet ../data/raw/scBam/CB_ATTACTCAGGGTATCG-*.bam\n",
      "python /home/isshamie/software/mito-genotyping/exampleProcessing//01_pileup_counts.py ../data/raw/scBam/CB_ACAGCCGGTATATGGA-1.bam ../data/raw/scPileup/CB_ACAGCCGGTATATGGA-1 16571 0 ACAGCCGGTATATGGA-1.bam 0\n"
     ]
    },
    {
     "name": "stderr",
     "output_type": "stream",
     "text": [
      "  2%|▏         | 1530/75923 [08:20<11:03:47,  1.87it/s]"
     ]
    },
    {
     "name": "stdout",
     "output_type": "stream",
     "text": [
      "file not done yet ../data/raw/scBam/CB_CTACCCAAGAGACTAT-*.bam\n",
      "python /home/isshamie/software/mito-genotyping/exampleProcessing//01_pileup_counts.py ../data/raw/scBam/CB_ACATGGTCAGCTCGCA-1.bam ../data/raw/scPileup/CB_ACATGGTCAGCTCGCA-1 16571 0 ACATGGTCAGCTCGCA-1.bam 0\n"
     ]
    },
    {
     "name": "stderr",
     "output_type": "stream",
     "text": [
      "  2%|▏         | 1532/75923 [08:22<14:54:42,  1.39it/s]"
     ]
    },
    {
     "name": "stdout",
     "output_type": "stream",
     "text": [
      "file not done yet ../data/raw/scBam/CB_GCTTCCACACCAGGCT-*.bam\n"
     ]
    },
    {
     "name": "stderr",
     "output_type": "stream",
     "text": [
      "\r",
      "  2%|▏         | 1533/75923 [08:22<11:48:40,  1.75it/s]"
     ]
    },
    {
     "name": "stdout",
     "output_type": "stream",
     "text": [
      "file not done yet ../data/raw/scBam/CB_TCGCGTTTCACCTTAT-*.bam\n"
     ]
    },
    {
     "name": "stderr",
     "output_type": "stream",
     "text": [
      "  2%|▏         | 1535/75923 [08:23<7:53:12,  2.62it/s] "
     ]
    },
    {
     "name": "stdout",
     "output_type": "stream",
     "text": [
      "file not done yet ../data/raw/scBam/CB_GAATGAATCACGCATA-*.bam\n",
      "file not done yet ../data/raw/scBam/CB_CTGATAGGTGCAGACA-*.bam\n"
     ]
    },
    {
     "name": "stderr",
     "output_type": "stream",
     "text": [
      "  2%|▏         | 1537/75923 [08:23<5:52:14,  3.52it/s]"
     ]
    },
    {
     "name": "stdout",
     "output_type": "stream",
     "text": [
      "file not done yet ../data/raw/scBam/CB_GAATGAAAGTGAAGTT-*.bam\n",
      "file not done yet ../data/raw/scBam/CB_CCGGGATTCCGAGCCA-*.bam\n"
     ]
    },
    {
     "name": "stderr",
     "output_type": "stream",
     "text": [
      "\r",
      "  2%|▏         | 1538/75923 [08:23<5:04:01,  4.08it/s]"
     ]
    },
    {
     "name": "stdout",
     "output_type": "stream",
     "text": [
      "file not done yet ../data/raw/scBam/CB_GGTGCGTTCCTGCAGG-*.bam\n"
     ]
    },
    {
     "name": "stderr",
     "output_type": "stream",
     "text": [
      "  2%|▏         | 1540/75923 [08:24<4:40:22,  4.42it/s]"
     ]
    },
    {
     "name": "stdout",
     "output_type": "stream",
     "text": [
      "file not done yet ../data/raw/scBam/CB_ACGCAGCGTGCACCAC-*.bam\n",
      "file not done yet ../data/raw/scBam/CB_TGCGCAGTCTTTACAC-*.bam\n"
     ]
    },
    {
     "name": "stderr",
     "output_type": "stream",
     "text": [
      "\r",
      "  2%|▏         | 1541/75923 [08:24<4:35:48,  4.49it/s]"
     ]
    },
    {
     "name": "stdout",
     "output_type": "stream",
     "text": [
      "file not done yet ../data/raw/scBam/CB_TCTTTCCAGAGCTATA-*.bam\n"
     ]
    },
    {
     "name": "stderr",
     "output_type": "stream",
     "text": [
      "\r",
      "  2%|▏         | 1542/75923 [08:24<4:43:01,  4.38it/s]"
     ]
    },
    {
     "name": "stdout",
     "output_type": "stream",
     "text": [
      "file not done yet ../data/raw/scBam/CB_TTCGGTCTCCCTCTTT-*.bam\n"
     ]
    },
    {
     "name": "stderr",
     "output_type": "stream",
     "text": [
      "\r",
      "  2%|▏         | 1543/75923 [08:24<4:46:15,  4.33it/s]"
     ]
    },
    {
     "name": "stdout",
     "output_type": "stream",
     "text": [
      "file not done yet ../data/raw/scBam/CB_GCAATCAAGTTGTAGA-*.bam\n"
     ]
    },
    {
     "name": "stderr",
     "output_type": "stream",
     "text": [
      "  2%|▏         | 1545/75923 [08:25<4:27:53,  4.63it/s]"
     ]
    },
    {
     "name": "stdout",
     "output_type": "stream",
     "text": [
      "file not done yet ../data/raw/scBam/CB_CAAGGCCGTATAGGTA-*.bam\n",
      "file not done yet ../data/raw/scBam/CB_CCTATTACAGTAAGCG-*.bam\n"
     ]
    },
    {
     "name": "stderr",
     "output_type": "stream",
     "text": [
      "\r",
      "  2%|▏         | 1546/75923 [08:25<4:33:38,  4.53it/s]"
     ]
    },
    {
     "name": "stdout",
     "output_type": "stream",
     "text": [
      "file not done yet ../data/raw/scBam/CB_GCGACCAAGCATGGCA-*.bam\n"
     ]
    },
    {
     "name": "stderr",
     "output_type": "stream",
     "text": [
      "\r",
      "  2%|▏         | 1547/75923 [08:25<4:40:41,  4.42it/s]"
     ]
    },
    {
     "name": "stdout",
     "output_type": "stream",
     "text": [
      "file not done yet ../data/raw/scBam/CB_GCATGATTCAGTACGT-*.bam\n",
      "python /home/isshamie/software/mito-genotyping/exampleProcessing//01_pileup_counts.py ../data/raw/scBam/CB_AAATGCCCAATGACCT-1.bam ../data/raw/scPileup/CB_AAATGCCCAATGACCT-1 16571 0 AAATGCCCAATGACCT-1.bam 0\n"
     ]
    },
    {
     "name": "stderr",
     "output_type": "stream",
     "text": [
      "  2%|▏         | 1549/75923 [08:28<12:18:37,  1.68it/s]"
     ]
    },
    {
     "name": "stdout",
     "output_type": "stream",
     "text": [
      "file not done yet ../data/raw/scBam/CB_CGTAGCGAGGTAAACT-*.bam\n"
     ]
    },
    {
     "name": "stderr",
     "output_type": "stream",
     "text": [
      "  2%|▏         | 1552/75923 [08:28<6:48:10,  3.04it/s] "
     ]
    },
    {
     "name": "stdout",
     "output_type": "stream",
     "text": [
      "file not done yet ../data/raw/scBam/CB_GAAACTCCAGTCGATT-*.bam\n",
      "file not done yet ../data/raw/scBam/CB_TCCACACCACCTCGGA-*.bam\n",
      "file not done yet ../data/raw/scBam/CB_TCTTCGGCACTTAACG-*.bam\n"
     ]
    },
    {
     "name": "stderr",
     "output_type": "stream",
     "text": [
      "\r",
      "  2%|▏         | 1553/75923 [08:28<5:40:21,  3.64it/s]"
     ]
    },
    {
     "name": "stdout",
     "output_type": "stream",
     "text": [
      "file not done yet ../data/raw/scBam/CB_CTGAAGTAGATCCGAG-*.bam\n"
     ]
    },
    {
     "name": "stderr",
     "output_type": "stream",
     "text": [
      "  2%|▏         | 1556/75923 [08:29<4:27:00,  4.64it/s]"
     ]
    },
    {
     "name": "stdout",
     "output_type": "stream",
     "text": [
      "file not done yet ../data/raw/scBam/CB_GAAGCAGGTGGTGTAG-*.bam\n",
      "file not done yet ../data/raw/scBam/CB_GCGCAACAGCCCGAAA-*.bam\n",
      "file not done yet ../data/raw/scBam/CB_GGAAAGCCATAGACTC-*.bam\n"
     ]
    },
    {
     "name": "stderr",
     "output_type": "stream",
     "text": [
      "\r",
      "  2%|▏         | 1557/75923 [08:29<4:04:15,  5.07it/s]"
     ]
    },
    {
     "name": "stdout",
     "output_type": "stream",
     "text": [
      "file not done yet ../data/raw/scBam/CB_CAGCAGCGTCTAGGTT-*.bam\n"
     ]
    },
    {
     "name": "stderr",
     "output_type": "stream",
     "text": [
      "  2%|▏         | 1559/75923 [08:29<3:55:13,  5.27it/s]"
     ]
    },
    {
     "name": "stdout",
     "output_type": "stream",
     "text": [
      "file not done yet ../data/raw/scBam/CB_AGGGTGAGTCAACTGT-*.bam\n",
      "file not done yet ../data/raw/scBam/CB_CATTCGCAGCGCTTAT-*.bam\n"
     ]
    },
    {
     "name": "stderr",
     "output_type": "stream",
     "text": [
      "  2%|▏         | 1561/75923 [08:30<3:51:32,  5.35it/s]"
     ]
    },
    {
     "name": "stdout",
     "output_type": "stream",
     "text": [
      "file not done yet ../data/raw/scBam/CB_CTAACTTAGTCGATAA-*.bam\n",
      "file not done yet ../data/raw/scBam/CB_CTTCTCTTCCTTTCTC-*.bam\n"
     ]
    },
    {
     "name": "stderr",
     "output_type": "stream",
     "text": [
      "  2%|▏         | 1563/75923 [08:30<3:46:21,  5.48it/s]"
     ]
    },
    {
     "name": "stdout",
     "output_type": "stream",
     "text": [
      "file not done yet ../data/raw/scBam/CB_TTGGAACTCCTTAATC-*.bam\n",
      "file not done yet ../data/raw/scBam/CB_CTTCTCTTCGCTGATA-*.bam\n"
     ]
    },
    {
     "name": "stderr",
     "output_type": "stream",
     "text": [
      "  2%|▏         | 1565/75923 [08:30<3:51:32,  5.35it/s]"
     ]
    },
    {
     "name": "stdout",
     "output_type": "stream",
     "text": [
      "file not done yet ../data/raw/scBam/CB_AGTGGGAAGTTCGCAT-*.bam\n",
      "file not done yet ../data/raw/scBam/CB_TACTCGCGTATGGTTC-*.bam\n"
     ]
    },
    {
     "name": "stderr",
     "output_type": "stream",
     "text": [
      "  2%|▏         | 1567/75923 [08:31<4:00:39,  5.15it/s]"
     ]
    },
    {
     "name": "stdout",
     "output_type": "stream",
     "text": [
      "file not done yet ../data/raw/scBam/CB_TCAGGTAGTTACGACT-*.bam\n",
      "file not done yet ../data/raw/scBam/CB_CCCTCCTTCACCGGGT-*.bam\n"
     ]
    },
    {
     "name": "stderr",
     "output_type": "stream",
     "text": [
      "\r",
      "  2%|▏         | 1568/75923 [08:31<3:56:50,  5.23it/s]"
     ]
    },
    {
     "name": "stdout",
     "output_type": "stream",
     "text": [
      "file not done yet ../data/raw/scBam/CB_CGGTTAAGTCTGGAGA-*.bam\n"
     ]
    },
    {
     "name": "stderr",
     "output_type": "stream",
     "text": [
      "\r",
      "  2%|▏         | 1569/75923 [08:31<4:22:12,  4.73it/s]"
     ]
    },
    {
     "name": "stdout",
     "output_type": "stream",
     "text": [
      "file not done yet ../data/raw/scBam/CB_GGGACCTAGCTCCCAG-*.bam\n"
     ]
    },
    {
     "name": "stderr",
     "output_type": "stream",
     "text": [
      "  2%|▏         | 1571/75923 [08:32<4:02:25,  5.11it/s]"
     ]
    },
    {
     "name": "stdout",
     "output_type": "stream",
     "text": [
      "file not done yet ../data/raw/scBam/CB_GGTATTGCACTTCGAA-*.bam\n",
      "file not done yet ../data/raw/scBam/CB_CGTTAGATCTTAGAGC-*.bam\n",
      "python /home/isshamie/software/mito-genotyping/exampleProcessing//01_pileup_counts.py ../data/raw/scBam/CB_AACTCAGGTTAAGACA-1.bam ../data/raw/scPileup/CB_AACTCAGGTTAAGACA-1 16571 0 AACTCAGGTTAAGACA-1.bam 0\n"
     ]
    },
    {
     "name": "stderr",
     "output_type": "stream",
     "text": [
      "  2%|▏         | 1573/75923 [08:33<9:10:44,  2.25it/s] "
     ]
    },
    {
     "name": "stdout",
     "output_type": "stream",
     "text": [
      "file not done yet ../data/raw/scBam/CB_CTCGTCAGTCTAGTGT-*.bam\n"
     ]
    },
    {
     "name": "stderr",
     "output_type": "stream",
     "text": [
      "\r",
      "  2%|▏         | 1574/75923 [08:33<7:41:59,  2.68it/s]"
     ]
    },
    {
     "name": "stdout",
     "output_type": "stream",
     "text": [
      "file not done yet ../data/raw/scBam/CB_GTGCTTCGTCATCCCT-*.bam\n"
     ]
    },
    {
     "name": "stderr",
     "output_type": "stream",
     "text": [
      "  2%|▏         | 1576/75923 [08:34<5:49:33,  3.54it/s]"
     ]
    },
    {
     "name": "stdout",
     "output_type": "stream",
     "text": [
      "file not done yet ../data/raw/scBam/CB_CGATTGAGTAAACCTC-*.bam\n",
      "file not done yet ../data/raw/scBam/CB_TACGGATGTCGCATCG-*.bam\n"
     ]
    },
    {
     "name": "stderr",
     "output_type": "stream",
     "text": [
      "  2%|▏         | 1578/75923 [08:34<4:57:37,  4.16it/s]"
     ]
    },
    {
     "name": "stdout",
     "output_type": "stream",
     "text": [
      "file not done yet ../data/raw/scBam/CB_GACGTGCGTAAATACG-*.bam\n",
      "file not done yet ../data/raw/scBam/CB_AGAGCTTTCCTAGTGA-*.bam\n"
     ]
    },
    {
     "name": "stderr",
     "output_type": "stream",
     "text": [
      "\r",
      "  2%|▏         | 1579/75923 [08:34<4:46:06,  4.33it/s]"
     ]
    },
    {
     "name": "stdout",
     "output_type": "stream",
     "text": [
      "file not done yet ../data/raw/scBam/CB_TCTTTCCAGTACACCT-*.bam\n"
     ]
    },
    {
     "name": "stderr",
     "output_type": "stream",
     "text": [
      "\r",
      "  2%|▏         | 1580/75923 [08:35<4:42:06,  4.39it/s]"
     ]
    },
    {
     "name": "stdout",
     "output_type": "stream",
     "text": [
      "file not done yet ../data/raw/scBam/CB_GTTAAGCTCCAACCAA-*.bam\n"
     ]
    },
    {
     "name": "stderr",
     "output_type": "stream",
     "text": [
      "\r",
      "  2%|▏         | 1581/75923 [08:35<4:58:17,  4.15it/s]"
     ]
    },
    {
     "name": "stdout",
     "output_type": "stream",
     "text": [
      "file not done yet ../data/raw/scBam/CB_TACTTGTGTATATGGA-*.bam\n"
     ]
    },
    {
     "name": "stderr",
     "output_type": "stream",
     "text": [
      "  2%|▏         | 1583/75923 [08:35<4:36:14,  4.49it/s]"
     ]
    },
    {
     "name": "stdout",
     "output_type": "stream",
     "text": [
      "file not done yet ../data/raw/scBam/CB_CTTCTCTGTAAGTGGC-*.bam\n",
      "file not done yet ../data/raw/scBam/CB_CGAGAAGTCGGTCTAA-*.bam\n"
     ]
    },
    {
     "name": "stderr",
     "output_type": "stream",
     "text": [
      "\r",
      "  2%|▏         | 1584/75923 [08:36<4:18:05,  4.80it/s]"
     ]
    },
    {
     "name": "stdout",
     "output_type": "stream",
     "text": [
      "file not done yet ../data/raw/scBam/CB_CGACCTTCACAGACTT-*.bam\n",
      "python /home/isshamie/software/mito-genotyping/exampleProcessing//01_pileup_counts.py ../data/raw/scBam/CB_AAGCCGCAGCAGGCTA-1.bam ../data/raw/scPileup/CB_AAGCCGCAGCAGGCTA-1 16571 0 AAGCCGCAGCAGGCTA-1.bam 0\n"
     ]
    },
    {
     "name": "stderr",
     "output_type": "stream",
     "text": [
      "  2%|▏         | 1587/75923 [08:37<8:05:58,  2.55it/s] "
     ]
    },
    {
     "name": "stdout",
     "output_type": "stream",
     "text": [
      "file not done yet ../data/raw/scBam/CB_TTGAACGGTAGATTAG-*.bam\n",
      "file not done yet ../data/raw/scBam/CB_GTTAAGCAGAACTCGG-*.bam\n"
     ]
    },
    {
     "name": "stderr",
     "output_type": "stream",
     "text": [
      "\r",
      "  2%|▏         | 1588/75923 [08:38<7:00:27,  2.95it/s]"
     ]
    },
    {
     "name": "stdout",
     "output_type": "stream",
     "text": [
      "file not done yet ../data/raw/scBam/CB_GAGTCCGTCCCATTTA-*.bam\n"
     ]
    },
    {
     "name": "stderr",
     "output_type": "stream",
     "text": [
      "  2%|▏         | 1590/75923 [08:38<5:38:37,  3.66it/s]"
     ]
    },
    {
     "name": "stdout",
     "output_type": "stream",
     "text": [
      "file not done yet ../data/raw/scBam/CB_TAGTGGTCACGTTGGC-*.bam\n",
      "file not done yet ../data/raw/scBam/CB_TACCTTAAGTGGGATC-*.bam\n"
     ]
    },
    {
     "name": "stderr",
     "output_type": "stream",
     "text": [
      "\r",
      "  2%|▏         | 1591/75923 [08:38<5:06:15,  4.05it/s]"
     ]
    },
    {
     "name": "stdout",
     "output_type": "stream",
     "text": [
      "file not done yet ../data/raw/scBam/CB_TGCGGGTTCTTCATGT-*.bam\n"
     ]
    },
    {
     "name": "stderr",
     "output_type": "stream",
     "text": [
      "\r",
      "  2%|▏         | 1592/75923 [08:39<5:13:15,  3.95it/s]"
     ]
    },
    {
     "name": "stdout",
     "output_type": "stream",
     "text": [
      "file not done yet ../data/raw/scBam/CB_CCTTTCTTCAAACCAC-*.bam\n"
     ]
    },
    {
     "name": "stderr",
     "output_type": "stream",
     "text": [
      "  2%|▏         | 1594/75923 [08:39<4:40:15,  4.42it/s]"
     ]
    },
    {
     "name": "stdout",
     "output_type": "stream",
     "text": [
      "file not done yet ../data/raw/scBam/CB_CAGTAACAGTGGGATC-*.bam\n",
      "file not done yet ../data/raw/scBam/CB_GTAGGCCAGGGATGGG-*.bam\n"
     ]
    },
    {
     "name": "stderr",
     "output_type": "stream",
     "text": [
      "  2%|▏         | 1596/75923 [08:39<4:04:16,  5.07it/s]"
     ]
    },
    {
     "name": "stdout",
     "output_type": "stream",
     "text": [
      "file not done yet ../data/raw/scBam/CB_CTAGTGACAGGCTGAA-*.bam\n",
      "file not done yet ../data/raw/scBam/CB_GTTAAGCTCTACTATC-*.bam\n"
     ]
    },
    {
     "name": "stderr",
     "output_type": "stream",
     "text": [
      "  2%|▏         | 1598/75923 [08:40<3:51:39,  5.35it/s]"
     ]
    },
    {
     "name": "stdout",
     "output_type": "stream",
     "text": [
      "file not done yet ../data/raw/scBam/CB_TAAGTGCCATTCTCAT-*.bam\n",
      "file not done yet ../data/raw/scBam/CB_CCTCAGTAGCCCAGCT-*.bam\n"
     ]
    },
    {
     "name": "stderr",
     "output_type": "stream",
     "text": [
      "  2%|▏         | 1600/75923 [08:40<3:40:53,  5.61it/s]"
     ]
    },
    {
     "name": "stdout",
     "output_type": "stream",
     "text": [
      "file not done yet ../data/raw/scBam/CB_AGGCCACTCCGCAGTG-*.bam\n",
      "file not done yet ../data/raw/scBam/CB_CACACTCAGAGTAATC-*.bam\n"
     ]
    },
    {
     "name": "stderr",
     "output_type": "stream",
     "text": [
      "\r",
      "  2%|▏         | 1601/75923 [08:40<4:04:18,  5.07it/s]"
     ]
    },
    {
     "name": "stdout",
     "output_type": "stream",
     "text": [
      "file not done yet ../data/raw/scBam/CB_GGGTTGCAGGACGAAA-*.bam\n"
     ]
    },
    {
     "name": "stderr",
     "output_type": "stream",
     "text": [
      "\r",
      "  2%|▏         | 1602/75923 [08:41<4:24:19,  4.69it/s]"
     ]
    },
    {
     "name": "stdout",
     "output_type": "stream",
     "text": [
      "file not done yet ../data/raw/scBam/CB_CTAGCCTTCACTTATC-*.bam\n"
     ]
    },
    {
     "name": "stderr",
     "output_type": "stream",
     "text": [
      "  2%|▏         | 1604/75923 [08:41<4:21:04,  4.74it/s]"
     ]
    },
    {
     "name": "stdout",
     "output_type": "stream",
     "text": [
      "file not done yet ../data/raw/scBam/CB_ATGCGATCACGCTTTC-*.bam\n",
      "file not done yet ../data/raw/scBam/CB_CGGTTAAAGATCGATA-*.bam\n",
      "python /home/isshamie/software/mito-genotyping/exampleProcessing//01_pileup_counts.py ../data/raw/scBam/CB_AATCGGTCAAACCCAT-1.bam ../data/raw/scPileup/CB_AATCGGTCAAACCCAT-1 16571 0 AATCGGTCAAACCCAT-1.bam 0\n"
     ]
    },
    {
     "name": "stderr",
     "output_type": "stream",
     "text": [
      "  2%|▏         | 1607/75923 [08:43<7:43:59,  2.67it/s] "
     ]
    },
    {
     "name": "stdout",
     "output_type": "stream",
     "text": [
      "file not done yet ../data/raw/scBam/CB_TTCTCCTTCATCTGCC-*.bam\n",
      "file not done yet ../data/raw/scBam/CB_CCTTCCCGTAGTGAAT-*.bam\n"
     ]
    },
    {
     "name": "stderr",
     "output_type": "stream",
     "text": [
      "\r",
      "  2%|▏         | 1608/75923 [08:43<6:39:55,  3.10it/s]"
     ]
    },
    {
     "name": "stdout",
     "output_type": "stream",
     "text": [
      "file not done yet ../data/raw/scBam/CB_GTCACAACATTTGCCC-*.bam\n"
     ]
    },
    {
     "name": "stderr",
     "output_type": "stream",
     "text": [
      "\r",
      "  2%|▏         | 1609/75923 [08:43<6:08:40,  3.36it/s]"
     ]
    },
    {
     "name": "stdout",
     "output_type": "stream",
     "text": [
      "file not done yet ../data/raw/scBam/CB_CCAGCGATCAACACAC-*.bam\n"
     ]
    },
    {
     "name": "stderr",
     "output_type": "stream",
     "text": [
      "\r",
      "  2%|▏         | 1610/75923 [08:43<5:40:42,  3.64it/s]"
     ]
    },
    {
     "name": "stdout",
     "output_type": "stream",
     "text": [
      "file not done yet ../data/raw/scBam/CB_GGATGTTGTCATGCCG-*.bam\n"
     ]
    },
    {
     "name": "stderr",
     "output_type": "stream",
     "text": [
      "  2%|▏         | 1612/75923 [08:44<4:55:14,  4.19it/s]"
     ]
    },
    {
     "name": "stdout",
     "output_type": "stream",
     "text": [
      "file not done yet ../data/raw/scBam/CB_AGGGAGTCATTTGCTT-*.bam\n",
      "file not done yet ../data/raw/scBam/CB_TACGGTACAATGGAGC-*.bam\n"
     ]
    },
    {
     "name": "stderr",
     "output_type": "stream",
     "text": [
      "  2%|▏         | 1614/75923 [08:44<4:25:27,  4.67it/s]"
     ]
    },
    {
     "name": "stdout",
     "output_type": "stream",
     "text": [
      "file not done yet ../data/raw/scBam/CB_GCGCAACCAGCTATTG-*.bam\n",
      "file not done yet ../data/raw/scBam/CB_ATGTGTGCATCGGAAG-*.bam\n"
     ]
    },
    {
     "name": "stderr",
     "output_type": "stream",
     "text": [
      "\r",
      "  2%|▏         | 1615/75923 [08:44<4:33:14,  4.53it/s]"
     ]
    },
    {
     "name": "stdout",
     "output_type": "stream",
     "text": [
      "file not done yet ../data/raw/scBam/CB_CTACGTCAGATGGCGT-*.bam\n"
     ]
    },
    {
     "name": "stderr",
     "output_type": "stream",
     "text": [
      "\r",
      "  2%|▏         | 1616/75923 [08:45<4:26:00,  4.66it/s]"
     ]
    },
    {
     "name": "stdout",
     "output_type": "stream",
     "text": [
      "file not done yet ../data/raw/scBam/CB_GACGGCTAGCCGGTAA-*.bam\n"
     ]
    },
    {
     "name": "stderr",
     "output_type": "stream",
     "text": [
      "  2%|▏         | 1618/75923 [08:45<4:16:57,  4.82it/s]"
     ]
    },
    {
     "name": "stdout",
     "output_type": "stream",
     "text": [
      "file not done yet ../data/raw/scBam/CB_GGCAATTTCAGTGTTG-*.bam\n",
      "file not done yet ../data/raw/scBam/CB_TGCGCAGTCGTTTAGG-*.bam\n"
     ]
    },
    {
     "name": "stderr",
     "output_type": "stream",
     "text": [
      "\r",
      "  2%|▏         | 1619/75923 [08:45<4:24:45,  4.68it/s]"
     ]
    },
    {
     "name": "stdout",
     "output_type": "stream",
     "text": [
      "file not done yet ../data/raw/scBam/CB_TGCCCTAGTTGCCTCT-*.bam\n"
     ]
    },
    {
     "name": "stderr",
     "output_type": "stream",
     "text": [
      "\r",
      "  2%|▏         | 1620/75923 [08:45<4:31:29,  4.56it/s]"
     ]
    },
    {
     "name": "stdout",
     "output_type": "stream",
     "text": [
      "file not done yet ../data/raw/scBam/CB_GTATTCTTCCATTCTA-*.bam\n",
      "python /home/isshamie/software/mito-genotyping/exampleProcessing//01_pileup_counts.py ../data/raw/scBam/CB_ACCAGTAAGATGCGAC-1.bam ../data/raw/scPileup/CB_ACCAGTAAGATGCGAC-1 16571 0 ACCAGTAAGATGCGAC-1.bam 0\n"
     ]
    },
    {
     "name": "stderr",
     "output_type": "stream",
     "text": [
      "\r",
      "  2%|▏         | 1621/75923 [08:53<48:43:09,  2.36s/it]"
     ]
    },
    {
     "name": "stdout",
     "output_type": "stream",
     "text": [
      "python /home/isshamie/software/mito-genotyping/exampleProcessing//01_pileup_counts.py ../data/raw/scBam/CB_AATCGGTTCCAGAGGA-1.bam ../data/raw/scPileup/CB_AATCGGTTCCAGAGGA-1 16571 0 AATCGGTTCCAGAGGA-1.bam 0\n"
     ]
    },
    {
     "name": "stderr",
     "output_type": "stream",
     "text": [
      "  2%|▏         | 1623/75923 [08:54<31:27:04,  1.52s/it]"
     ]
    },
    {
     "name": "stdout",
     "output_type": "stream",
     "text": [
      "file not done yet ../data/raw/scBam/CB_CCTACACAGAAGGCCT-*.bam\n"
     ]
    },
    {
     "name": "stderr",
     "output_type": "stream",
     "text": [
      "\r",
      "  2%|▏         | 1624/75923 [08:55<23:20:23,  1.13s/it]"
     ]
    },
    {
     "name": "stdout",
     "output_type": "stream",
     "text": [
      "file not done yet ../data/raw/scBam/CB_CATCAGAAGTCTCGGC-*.bam\n"
     ]
    },
    {
     "name": "stderr",
     "output_type": "stream",
     "text": [
      "\r",
      "  2%|▏         | 1625/75923 [08:55<17:40:04,  1.17it/s]"
     ]
    },
    {
     "name": "stdout",
     "output_type": "stream",
     "text": [
      "file not done yet ../data/raw/scBam/CB_CGTCTACAGTGACATA-*.bam\n"
     ]
    },
    {
     "name": "stderr",
     "output_type": "stream",
     "text": [
      "  2%|▏         | 1627/75923 [08:55<10:51:32,  1.90it/s]"
     ]
    },
    {
     "name": "stdout",
     "output_type": "stream",
     "text": [
      "file not done yet ../data/raw/scBam/CB_TCAGATGCATTGCGGC-*.bam\n",
      "file not done yet ../data/raw/scBam/CB_AGTGGGAAGACAATAC-*.bam\n"
     ]
    },
    {
     "name": "stderr",
     "output_type": "stream",
     "text": [
      "  2%|▏         | 1629/75923 [08:56<7:01:10,  2.94it/s] "
     ]
    },
    {
     "name": "stdout",
     "output_type": "stream",
     "text": [
      "file not done yet ../data/raw/scBam/CB_TCTGAGAGTAGCGCTC-*.bam\n",
      "file not done yet ../data/raw/scBam/CB_ATCCGAAAGCGTTCCG-*.bam\n",
      "file not done yet ../data/raw/scBam/CB_ATCACGATCGTTGCCT-*.bam\n",
      "file not done yet ../data/raw/scBam/CB_AGACGTTCATGTCGAT-*.bam\n",
      "file not done yet ../data/raw/scBam/CB_TTCTCCTCACCTCGGA-*.bam\n",
      "python /home/isshamie/software/mito-genotyping/exampleProcessing//01_pileup_counts.py ../data/raw/scBam/CB_AACGTTGAGCGACGTA-1.bam ../data/raw/scPileup/CB_AACGTTGAGCGACGTA-1 16571 0 AACGTTGAGCGACGTA-1.bam 0\n"
     ]
    },
    {
     "name": "stderr",
     "output_type": "stream",
     "text": [
      "  2%|▏         | 1634/75923 [08:57<6:05:16,  3.39it/s]"
     ]
    },
    {
     "name": "stdout",
     "output_type": "stream",
     "text": [
      "file not done yet ../data/raw/scBam/CB_GTATCTTAGGTAGCTG-*.bam\n"
     ]
    },
    {
     "name": "stderr",
     "output_type": "stream",
     "text": [
      "  2%|▏         | 1636/75923 [08:58<5:05:36,  4.05it/s]"
     ]
    },
    {
     "name": "stdout",
     "output_type": "stream",
     "text": [
      "file not done yet ../data/raw/scBam/CB_TCAGGATGTTCTGTTT-*.bam\n",
      "file not done yet ../data/raw/scBam/CB_AGTGTCATCGGATGTT-*.bam\n"
     ]
    },
    {
     "name": "stderr",
     "output_type": "stream",
     "text": [
      "  2%|▏         | 1638/75923 [08:58<4:28:44,  4.61it/s]"
     ]
    },
    {
     "name": "stdout",
     "output_type": "stream",
     "text": [
      "file not done yet ../data/raw/scBam/CB_TTAGTTCAGGGATGGG-*.bam\n",
      "file not done yet ../data/raw/scBam/CB_CCACTACGTACAGTGG-*.bam\n"
     ]
    },
    {
     "name": "stderr",
     "output_type": "stream",
     "text": [
      "  2%|▏         | 1640/75923 [08:58<4:14:29,  4.86it/s]"
     ]
    },
    {
     "name": "stdout",
     "output_type": "stream",
     "text": [
      "file not done yet ../data/raw/scBam/CB_CTAATGGCAATTGCTG-*.bam\n",
      "file not done yet ../data/raw/scBam/CB_AGAATAGGTCACTGGC-*.bam\n"
     ]
    },
    {
     "name": "stderr",
     "output_type": "stream",
     "text": [
      "  2%|▏         | 1642/75923 [08:59<4:08:38,  4.98it/s]"
     ]
    },
    {
     "name": "stdout",
     "output_type": "stream",
     "text": [
      "file not done yet ../data/raw/scBam/CB_TGCCAAATCATTGCCC-*.bam\n",
      "file not done yet ../data/raw/scBam/CB_TACCTATGTAGTAGTA-*.bam\n",
      "python /home/isshamie/software/mito-genotyping/exampleProcessing//01_pileup_counts.py ../data/raw/scBam/CB_AAGGTTCAGGTGCAAC-1.bam ../data/raw/scPileup/CB_AAGGTTCAGGTGCAAC-1 16571 0 AAGGTTCAGGTGCAAC-1.bam 0\n"
     ]
    },
    {
     "name": "stderr",
     "output_type": "stream",
     "text": [
      "  2%|▏         | 1644/75923 [09:01<10:45:14,  1.92it/s]"
     ]
    },
    {
     "name": "stdout",
     "output_type": "stream",
     "text": [
      "file not done yet ../data/raw/scBam/CB_CTGGTCTCAGATGAGC-*.bam\n"
     ]
    },
    {
     "name": "stderr",
     "output_type": "stream",
     "text": [
      "  2%|▏         | 1646/75923 [09:01<7:19:23,  2.82it/s] "
     ]
    },
    {
     "name": "stdout",
     "output_type": "stream",
     "text": [
      "file not done yet ../data/raw/scBam/CB_CGTTGGGCATGTTGAC-*.bam\n",
      "file not done yet ../data/raw/scBam/CB_CCAGCGAGTGAGGCTA-*.bam\n"
     ]
    },
    {
     "name": "stderr",
     "output_type": "stream",
     "text": [
      "\r",
      "  2%|▏         | 1647/75923 [09:01<6:05:51,  3.38it/s]"
     ]
    },
    {
     "name": "stdout",
     "output_type": "stream",
     "text": [
      "file not done yet ../data/raw/scBam/CB_GATCAGTGTGGGTCAA-*.bam\n"
     ]
    },
    {
     "name": "stderr",
     "output_type": "stream",
     "text": [
      "\r",
      "  2%|▏         | 1648/75923 [09:01<5:32:27,  3.72it/s]"
     ]
    },
    {
     "name": "stdout",
     "output_type": "stream",
     "text": [
      "file not done yet ../data/raw/scBam/CB_GCTTGAAGTGTTGAGG-*.bam\n",
      "python /home/isshamie/software/mito-genotyping/exampleProcessing//01_pileup_counts.py ../data/raw/scBam/CB_AAAGTAGAGGCGTACA-1.bam ../data/raw/scPileup/CB_AAAGTAGAGGCGTACA-1 16571 0 AAAGTAGAGGCGTACA-1.bam 0\n"
     ]
    },
    {
     "name": "stderr",
     "output_type": "stream",
     "text": [
      "  2%|▏         | 1650/75923 [09:03<11:50:22,  1.74it/s]"
     ]
    },
    {
     "name": "stdout",
     "output_type": "stream",
     "text": [
      "file not done yet ../data/raw/scBam/CB_TCTTCGGCATCAGTCA-*.bam\n"
     ]
    },
    {
     "name": "stderr",
     "output_type": "stream",
     "text": [
      "\r",
      "  2%|▏         | 1651/75923 [09:04<9:36:15,  2.15it/s] "
     ]
    },
    {
     "name": "stdout",
     "output_type": "stream",
     "text": [
      "file not done yet ../data/raw/scBam/CB_CGCTGGAGTATATGGA-*.bam\n"
     ]
    },
    {
     "name": "stderr",
     "output_type": "stream",
     "text": [
      "  2%|▏         | 1654/75923 [09:04<5:54:14,  3.49it/s]"
     ]
    },
    {
     "name": "stdout",
     "output_type": "stream",
     "text": [
      "file not done yet ../data/raw/scBam/CB_ACGGAGAAGAGGGCTT-*.bam\n",
      "file not done yet ../data/raw/scBam/CB_TCAGGTACAGACGTAG-*.bam\n",
      "file not done yet ../data/raw/scBam/CB_TGAGCCGTCATATCGG-*.bam\n"
     ]
    },
    {
     "name": "stderr",
     "output_type": "stream",
     "text": [
      "  2%|▏         | 1656/75923 [09:05<4:35:45,  4.49it/s]"
     ]
    },
    {
     "name": "stdout",
     "output_type": "stream",
     "text": [
      "file not done yet ../data/raw/scBam/CB_AGTGAGGTCACTCTTA-*.bam\n",
      "file not done yet ../data/raw/scBam/CB_ATTACTCCAAAGCGGT-*.bam\n",
      "python /home/isshamie/software/mito-genotyping/exampleProcessing//01_pileup_counts.py ../data/raw/scBam/CB_ACACCAATCACCGTAA-1.bam ../data/raw/scPileup/CB_ACACCAATCACCGTAA-1 16571 0 ACACCAATCACCGTAA-1.bam 0\n"
     ]
    },
    {
     "name": "stderr",
     "output_type": "stream",
     "text": [
      "  2%|▏         | 1658/75923 [09:06<9:08:30,  2.26it/s] "
     ]
    },
    {
     "name": "stdout",
     "output_type": "stream",
     "text": [
      "file not done yet ../data/raw/scBam/CB_CAGCTAACACACCGCA-*.bam\n"
     ]
    },
    {
     "name": "stderr",
     "output_type": "stream",
     "text": [
      "\r",
      "  2%|▏         | 1659/75923 [09:06<7:42:55,  2.67it/s]"
     ]
    },
    {
     "name": "stdout",
     "output_type": "stream",
     "text": [
      "file not done yet ../data/raw/scBam/CB_CAGAGAGGTACACCGC-*.bam\n"
     ]
    },
    {
     "name": "stderr",
     "output_type": "stream",
     "text": [
      "  2%|▏         | 1661/75923 [09:07<6:00:15,  3.44it/s]"
     ]
    },
    {
     "name": "stdout",
     "output_type": "stream",
     "text": [
      "file not done yet ../data/raw/scBam/CB_CATGACATCGCGATCG-*.bam\n",
      "file not done yet ../data/raw/scBam/CB_GAATAAGCACATCCGG-*.bam\n"
     ]
    },
    {
     "name": "stderr",
     "output_type": "stream",
     "text": [
      "  2%|▏         | 1663/75923 [09:07<4:51:29,  4.25it/s]"
     ]
    },
    {
     "name": "stdout",
     "output_type": "stream",
     "text": [
      "file not done yet ../data/raw/scBam/CB_AGAGCTTAGGACAGAA-*.bam\n",
      "file not done yet ../data/raw/scBam/CB_CACATTTCAGTAAGAT-*.bam\n"
     ]
    },
    {
     "name": "stderr",
     "output_type": "stream",
     "text": [
      "  2%|▏         | 1665/75923 [09:07<4:01:23,  5.13it/s]"
     ]
    },
    {
     "name": "stdout",
     "output_type": "stream",
     "text": [
      "file not done yet ../data/raw/scBam/CB_CGTGAGCAGTCCTCCT-*.bam\n",
      "file not done yet ../data/raw/scBam/CB_CTCTACGTCCGAATGT-*.bam\n"
     ]
    },
    {
     "name": "stderr",
     "output_type": "stream",
     "text": [
      "  2%|▏         | 1667/75923 [09:08<4:13:37,  4.88it/s]"
     ]
    },
    {
     "name": "stdout",
     "output_type": "stream",
     "text": [
      "file not done yet ../data/raw/scBam/CB_GACTGCGGTATCACCA-*.bam\n",
      "file not done yet ../data/raw/scBam/CB_CATCAAGAGGAATGGA-*.bam\n"
     ]
    },
    {
     "name": "stderr",
     "output_type": "stream",
     "text": [
      "\r",
      "  2%|▏         | 1668/75923 [09:08<4:37:58,  4.45it/s]"
     ]
    },
    {
     "name": "stdout",
     "output_type": "stream",
     "text": [
      "file not done yet ../data/raw/scBam/CB_GTGTGCGCAATGGACG-*.bam\n"
     ]
    },
    {
     "name": "stderr",
     "output_type": "stream",
     "text": [
      "\r",
      "  2%|▏         | 1669/75923 [09:08<4:43:58,  4.36it/s]"
     ]
    },
    {
     "name": "stdout",
     "output_type": "stream",
     "text": [
      "file not done yet ../data/raw/scBam/CB_GCGCAGTTCCATTCTA-*.bam\n"
     ]
    },
    {
     "name": "stderr",
     "output_type": "stream",
     "text": [
      "  2%|▏         | 1671/75923 [09:09<4:26:48,  4.64it/s]"
     ]
    },
    {
     "name": "stdout",
     "output_type": "stream",
     "text": [
      "file not done yet ../data/raw/scBam/CB_ATCGAGTAGACCGGAT-*.bam\n",
      "file not done yet ../data/raw/scBam/CB_CTCGTACGTGCAGACA-*.bam\n"
     ]
    },
    {
     "name": "stderr",
     "output_type": "stream",
     "text": [
      "  2%|▏         | 1673/75923 [09:09<4:13:47,  4.88it/s]"
     ]
    },
    {
     "name": "stdout",
     "output_type": "stream",
     "text": [
      "file not done yet ../data/raw/scBam/CB_TCATTTGGTCCGAAGA-*.bam\n",
      "file not done yet ../data/raw/scBam/CB_AGCATACGTCCGTCAG-*.bam\n"
     ]
    },
    {
     "name": "stderr",
     "output_type": "stream",
     "text": [
      "  2%|▏         | 1675/75923 [09:10<4:11:48,  4.91it/s]"
     ]
    },
    {
     "name": "stdout",
     "output_type": "stream",
     "text": [
      "file not done yet ../data/raw/scBam/CB_TCCCGATCAGATGGGT-*.bam\n",
      "file not done yet ../data/raw/scBam/CB_TACACGATCTCAAGTG-*.bam\n"
     ]
    },
    {
     "name": "stderr",
     "output_type": "stream",
     "text": [
      "  2%|▏         | 1677/75923 [09:10<4:08:30,  4.98it/s]"
     ]
    },
    {
     "name": "stdout",
     "output_type": "stream",
     "text": [
      "file not done yet ../data/raw/scBam/CB_TTTACTGAGCCATCGC-*.bam\n",
      "file not done yet ../data/raw/scBam/CB_TTTACTGGTACCGTTA-*.bam\n"
     ]
    },
    {
     "name": "stderr",
     "output_type": "stream",
     "text": [
      "  2%|▏         | 1679/75923 [09:10<3:56:37,  5.23it/s]"
     ]
    },
    {
     "name": "stdout",
     "output_type": "stream",
     "text": [
      "file not done yet ../data/raw/scBam/CB_AGAATAGAGCCAACAG-*.bam\n",
      "file not done yet ../data/raw/scBam/CB_CCGGGATCAAGCCCAC-*.bam\n"
     ]
    },
    {
     "name": "stderr",
     "output_type": "stream",
     "text": [
      "\r",
      "  2%|▏         | 1680/75923 [09:11<4:04:50,  5.05it/s]"
     ]
    },
    {
     "name": "stdout",
     "output_type": "stream",
     "text": [
      "file not done yet ../data/raw/scBam/CB_GTAACTGTCGGACAAG-*.bam\n"
     ]
    },
    {
     "name": "stderr",
     "output_type": "stream",
     "text": [
      "  2%|▏         | 1682/75923 [09:11<4:05:57,  5.03it/s]"
     ]
    },
    {
     "name": "stdout",
     "output_type": "stream",
     "text": [
      "file not done yet ../data/raw/scBam/CB_CCACCTAAGGCAATTA-*.bam\n",
      "file not done yet ../data/raw/scBam/CB_CAAGAAACAGCTGCTG-*.bam\n"
     ]
    },
    {
     "name": "stderr",
     "output_type": "stream",
     "text": [
      "\r",
      "  2%|▏         | 1683/75923 [09:11<4:38:12,  4.45it/s]"
     ]
    },
    {
     "name": "stdout",
     "output_type": "stream",
     "text": [
      "file not done yet ../data/raw/scBam/CB_GCGCAGTAGTGCCATT-*.bam\n"
     ]
    },
    {
     "name": "stderr",
     "output_type": "stream",
     "text": [
      "  2%|▏         | 1685/75923 [09:12<4:29:28,  4.59it/s]"
     ]
    },
    {
     "name": "stdout",
     "output_type": "stream",
     "text": [
      "file not done yet ../data/raw/scBam/CB_CCAATCCCAGTCTTCC-*.bam\n",
      "file not done yet ../data/raw/scBam/CB_TCTTTCCTCGGATGGA-*.bam\n"
     ]
    },
    {
     "name": "stderr",
     "output_type": "stream",
     "text": [
      "  2%|▏         | 1687/75923 [09:12<4:14:05,  4.87it/s]"
     ]
    },
    {
     "name": "stdout",
     "output_type": "stream",
     "text": [
      "file not done yet ../data/raw/scBam/CB_TCAGATGAGCAATATG-*.bam\n",
      "file not done yet ../data/raw/scBam/CB_CTCGGGATCGAATCCA-*.bam\n"
     ]
    },
    {
     "name": "stderr",
     "output_type": "stream",
     "text": [
      "  2%|▏         | 1689/75923 [09:13<4:15:38,  4.84it/s]"
     ]
    },
    {
     "name": "stdout",
     "output_type": "stream",
     "text": [
      "file not done yet ../data/raw/scBam/CB_ACGGGTCCATACGCTA-*.bam\n",
      "file not done yet ../data/raw/scBam/CB_GACGCGTGTACCGGCT-*.bam\n"
     ]
    },
    {
     "name": "stderr",
     "output_type": "stream",
     "text": [
      "  2%|▏         | 1691/75923 [09:13<3:48:23,  5.42it/s]"
     ]
    },
    {
     "name": "stdout",
     "output_type": "stream",
     "text": [
      "file not done yet ../data/raw/scBam/CB_CCATTCGGTTGCTCCT-*.bam\n",
      "file not done yet ../data/raw/scBam/CB_GACGTGCCAGGAATGC-*.bam\n"
     ]
    },
    {
     "name": "stderr",
     "output_type": "stream",
     "text": [
      "  2%|▏         | 1693/75923 [09:13<3:39:03,  5.65it/s]"
     ]
    },
    {
     "name": "stdout",
     "output_type": "stream",
     "text": [
      "file not done yet ../data/raw/scBam/CB_ATCATCTTCACCATAG-*.bam\n",
      "file not done yet ../data/raw/scBam/CB_ACGCCGATCCCAACGG-*.bam\n"
     ]
    },
    {
     "name": "stderr",
     "output_type": "stream",
     "text": [
      "\r",
      "  2%|▏         | 1694/75923 [09:13<3:51:23,  5.35it/s]"
     ]
    },
    {
     "name": "stdout",
     "output_type": "stream",
     "text": [
      "file not done yet ../data/raw/scBam/CB_TGATTTCGTAAATGAC-*.bam\n"
     ]
    },
    {
     "name": "stderr",
     "output_type": "stream",
     "text": [
      "  2%|▏         | 1696/75923 [09:14<4:01:35,  5.12it/s]"
     ]
    },
    {
     "name": "stdout",
     "output_type": "stream",
     "text": [
      "file not done yet ../data/raw/scBam/CB_CCACTACTCCTAGAAC-*.bam\n",
      "file not done yet ../data/raw/scBam/CB_CTCGGGATCGAACGGA-*.bam\n"
     ]
    },
    {
     "name": "stderr",
     "output_type": "stream",
     "text": [
      "  2%|▏         | 1698/75923 [09:14<3:47:43,  5.43it/s]"
     ]
    },
    {
     "name": "stdout",
     "output_type": "stream",
     "text": [
      "file not done yet ../data/raw/scBam/CB_GGTATTGAGCCGATTT-*.bam\n",
      "file not done yet ../data/raw/scBam/CB_GTATTCTCAACGATGG-*.bam\n"
     ]
    },
    {
     "name": "stderr",
     "output_type": "stream",
     "text": [
      "\r",
      "  2%|▏         | 1699/75923 [09:14<3:38:45,  5.66it/s]"
     ]
    },
    {
     "name": "stdout",
     "output_type": "stream",
     "text": [
      "file not done yet ../data/raw/scBam/CB_AGAGCGATCAACGGCC-*.bam\n"
     ]
    },
    {
     "name": "stderr",
     "output_type": "stream",
     "text": [
      "  2%|▏         | 1701/75923 [09:15<3:51:18,  5.35it/s]"
     ]
    },
    {
     "name": "stdout",
     "output_type": "stream",
     "text": [
      "file not done yet ../data/raw/scBam/CB_CATCAAGAGAGCCTAG-*.bam\n",
      "file not done yet ../data/raw/scBam/CB_AGACGTTGTTATGTGC-*.bam\n"
     ]
    },
    {
     "name": "stderr",
     "output_type": "stream",
     "text": [
      "  2%|▏         | 1703/75923 [09:15<3:47:59,  5.43it/s]"
     ]
    },
    {
     "name": "stdout",
     "output_type": "stream",
     "text": [
      "file not done yet ../data/raw/scBam/CB_TAAACCGTCCAGAAGG-*.bam\n",
      "file not done yet ../data/raw/scBam/CB_TGCCCATGTTGTTTGG-*.bam\n"
     ]
    },
    {
     "name": "stderr",
     "output_type": "stream",
     "text": [
      "  2%|▏         | 1705/75923 [09:15<3:27:18,  5.97it/s]"
     ]
    },
    {
     "name": "stdout",
     "output_type": "stream",
     "text": [
      "file not done yet ../data/raw/scBam/CB_CCTATTAAGGCTCTTA-*.bam\n",
      "file not done yet ../data/raw/scBam/CB_CGTTCTGAGACAAGCC-*.bam\n",
      "python /home/isshamie/software/mito-genotyping/exampleProcessing//01_pileup_counts.py ../data/raw/scBam/CB_AAGGCAGAGTCCAGGA-1.bam ../data/raw/scPileup/CB_AAGGCAGAGTCCAGGA-1 16571 0 AAGGCAGAGTCCAGGA-1.bam 0\n"
     ]
    },
    {
     "name": "stderr",
     "output_type": "stream",
     "text": [
      "  2%|▏         | 1707/75923 [09:17<9:56:57,  2.07it/s] "
     ]
    },
    {
     "name": "stdout",
     "output_type": "stream",
     "text": [
      "file not done yet ../data/raw/scBam/CB_AGCTCTCCAAAGTCAA-*.bam\n",
      "python /home/isshamie/software/mito-genotyping/exampleProcessing//01_pileup_counts.py ../data/raw/scBam/CB_ACCAGTAAGATGTTAG-1.bam ../data/raw/scPileup/CB_ACCAGTAAGATGTTAG-1 16571 0 ACCAGTAAGATGTTAG-1.bam 0\n"
     ]
    },
    {
     "name": "stderr",
     "output_type": "stream",
     "text": [
      "  2%|▏         | 1709/75923 [09:19<13:41:56,  1.50it/s]"
     ]
    },
    {
     "name": "stdout",
     "output_type": "stream",
     "text": [
      "file not done yet ../data/raw/scBam/CB_TGCCAAAAGTCTCCTC-*.bam\n"
     ]
    },
    {
     "name": "stderr",
     "output_type": "stream",
     "text": [
      "\r",
      "  2%|▏         | 1710/75923 [09:19<11:08:46,  1.85it/s]"
     ]
    },
    {
     "name": "stdout",
     "output_type": "stream",
     "text": [
      "file not done yet ../data/raw/scBam/CB_GTGAAGGCAATGGATA-*.bam\n",
      "python /home/isshamie/software/mito-genotyping/exampleProcessing//01_pileup_counts.py ../data/raw/scBam/CB_AAGGCAGAGAGTACCG-1.bam ../data/raw/scPileup/CB_AAGGCAGAGAGTACCG-1 16571 0 AAGGCAGAGAGTACCG-1.bam 0\n"
     ]
    },
    {
     "name": "stderr",
     "output_type": "stream",
     "text": [
      "  2%|▏         | 1713/75923 [09:21<10:24:06,  1.98it/s]"
     ]
    },
    {
     "name": "stdout",
     "output_type": "stream",
     "text": [
      "file not done yet ../data/raw/scBam/CB_CGTCTACAGGCGATAC-*.bam\n",
      "file not done yet ../data/raw/scBam/CB_GTGCAGCGTTATGCGT-*.bam\n"
     ]
    },
    {
     "name": "stderr",
     "output_type": "stream",
     "text": [
      "\r",
      "  2%|▏         | 1714/75923 [09:22<8:38:33,  2.39it/s] "
     ]
    },
    {
     "name": "stdout",
     "output_type": "stream",
     "text": [
      "file not done yet ../data/raw/scBam/CB_TCTGGAAAGCAGCCTC-*.bam\n"
     ]
    },
    {
     "name": "stderr",
     "output_type": "stream",
     "text": [
      "  2%|▏         | 1717/75923 [09:22<5:29:29,  3.75it/s]"
     ]
    },
    {
     "name": "stdout",
     "output_type": "stream",
     "text": [
      "file not done yet ../data/raw/scBam/CB_TACGGATTCGCAAGCC-*.bam\n",
      "file not done yet ../data/raw/scBam/CB_CCTAAAGCAGCTGCTG-*.bam\n",
      "file not done yet ../data/raw/scBam/CB_CACTCCACACATCCGG-*.bam\n"
     ]
    },
    {
     "name": "stderr",
     "output_type": "stream",
     "text": [
      "  2%|▏         | 1719/75923 [09:22<4:27:23,  4.63it/s]"
     ]
    },
    {
     "name": "stdout",
     "output_type": "stream",
     "text": [
      "file not done yet ../data/raw/scBam/CB_GAGTCCGCAGGGAGAG-*.bam\n",
      "file not done yet ../data/raw/scBam/CB_ATCATGGTCGGCGCAT-*.bam\n"
     ]
    },
    {
     "name": "stderr",
     "output_type": "stream",
     "text": [
      "  2%|▏         | 1721/75923 [09:23<4:01:26,  5.12it/s]"
     ]
    },
    {
     "name": "stdout",
     "output_type": "stream",
     "text": [
      "file not done yet ../data/raw/scBam/CB_CACATAGAGCCTTGAT-*.bam\n",
      "file not done yet ../data/raw/scBam/CB_CGAGCCACAGGTGGAT-*.bam\n",
      "python /home/isshamie/software/mito-genotyping/exampleProcessing//01_pileup_counts.py ../data/raw/scBam/CB_ACAGCTAAGTCGATAA-1.bam ../data/raw/scPileup/CB_ACAGCTAAGTCGATAA-1 16571 0 ACAGCTAAGTCGATAA-1.bam 0\n"
     ]
    },
    {
     "name": "stderr",
     "output_type": "stream",
     "text": [
      "  2%|▏         | 1724/75923 [09:25<8:52:43,  2.32it/s] "
     ]
    },
    {
     "name": "stdout",
     "output_type": "stream",
     "text": [
      "file not done yet ../data/raw/scBam/CB_TGGCTGGGTATAGGGC-*.bam\n",
      "file not done yet ../data/raw/scBam/CB_CCGGGATGTGGACGAT-*.bam\n",
      "python /home/isshamie/software/mito-genotyping/exampleProcessing//01_pileup_counts.py ../data/raw/scBam/CB_AAGGAGCGTTCCCGAG-1.bam ../data/raw/scPileup/CB_AAGGAGCGTTCCCGAG-1 16571 0 AAGGAGCGTTCCCGAG-1.bam 0\n"
     ]
    },
    {
     "name": "stderr",
     "output_type": "stream",
     "text": [
      "  2%|▏         | 1727/75923 [09:27<8:47:31,  2.34it/s] "
     ]
    },
    {
     "name": "stdout",
     "output_type": "stream",
     "text": [
      "file not done yet ../data/raw/scBam/CB_ACGAGCCGTGTGACGA-*.bam\n",
      "file not done yet ../data/raw/scBam/CB_AGGTCATAGCTAGTGG-*.bam\n"
     ]
    },
    {
     "name": "stderr",
     "output_type": "stream",
     "text": [
      "  2%|▏         | 1735/75923 [09:27<4:38:53,  4.43it/s]"
     ]
    },
    {
     "name": "stdout",
     "output_type": "stream",
     "text": [
      "file not done yet ../data/raw/scBam/CB_CCTTACGGTGCAACGA-*.bam\n",
      "file not done yet ../data/raw/scBam/CB_CAGCAGCTCGCATGGC-*.bam\n",
      "file not done yet ../data/raw/scBam/CB_GATCTAGTCAGCTCTC-*.bam\n",
      "file not done yet ../data/raw/scBam/CB_AGTGAGGTCCGTCATC-*.bam\n",
      "file not done yet ../data/raw/scBam/CB_TCGGTAAAGTCAATAG-*.bam\n",
      "file not done yet ../data/raw/scBam/CB_GCATACAAGATACACA-*.bam\n",
      "file not done yet ../data/raw/scBam/CB_TCTATTGAGTCGTACT-*.bam\n",
      "file not done yet ../data/raw/scBam/CB_TGCTGCTAGACGCTTT-*.bam\n",
      "file not done yet ../data/raw/scBam/CB_GGAGCAAGTACAGTTC-*.bam\n",
      "python /home/isshamie/software/mito-genotyping/exampleProcessing//01_pileup_counts.py ../data/raw/scBam/CB_AAACGGGCATTGGGCC-1.bam ../data/raw/scPileup/CB_AAACGGGCATTGGGCC-1 16571 0 AAACGGGCATTGGGCC-1.bam 0\n"
     ]
    },
    {
     "name": "stderr",
     "output_type": "stream",
     "text": [
      "\r",
      "  2%|▏         | 1737/75923 [09:28<7:08:11,  2.89it/s]"
     ]
    },
    {
     "name": "stdout",
     "output_type": "stream",
     "text": [
      "file not done yet ../data/raw/scBam/CB_CTACATTGTCTCACCT-*.bam\n"
     ]
    },
    {
     "name": "stderr",
     "output_type": "stream",
     "text": [
      "\r",
      "  2%|▏         | 1739/75923 [09:29<6:18:11,  3.27it/s]"
     ]
    },
    {
     "name": "stdout",
     "output_type": "stream",
     "text": [
      "file not done yet ../data/raw/scBam/CB_ATTACTCTCATGCATG-*.bam\n"
     ]
    },
    {
     "name": "stderr",
     "output_type": "stream",
     "text": [
      "\r",
      "  2%|▏         | 1741/75923 [09:29<5:45:04,  3.58it/s]"
     ]
    },
    {
     "name": "stdout",
     "output_type": "stream",
     "text": [
      "file not done yet ../data/raw/scBam/CB_GACCTGGTCCCTAACC-*.bam\n",
      "file not done yet ../data/raw/scBam/CB_GTCGTAAAGAGAGCTC-*.bam\n"
     ]
    },
    {
     "name": "stderr",
     "output_type": "stream",
     "text": [
      "\r",
      "  2%|▏         | 1742/75923 [09:29<5:22:38,  3.83it/s]"
     ]
    },
    {
     "name": "stdout",
     "output_type": "stream",
     "text": [
      "file not done yet ../data/raw/scBam/CB_GATGCTATCGGAATCT-*.bam\n",
      "python /home/isshamie/software/mito-genotyping/exampleProcessing//01_pileup_counts.py ../data/raw/scBam/CB_AACTTTCAGTTAGCGG-1.bam ../data/raw/scPileup/CB_AACTTTCAGTTAGCGG-1 16571 0 AACTTTCAGTTAGCGG-1.bam 0\n"
     ]
    },
    {
     "name": "stderr",
     "output_type": "stream",
     "text": [
      "  2%|▏         | 1744/75923 [09:31<10:53:00,  1.89it/s]"
     ]
    },
    {
     "name": "stdout",
     "output_type": "stream",
     "text": [
      "file not done yet ../data/raw/scBam/CB_TGACTAGCACCTCGTT-*.bam\n"
     ]
    },
    {
     "name": "stderr",
     "output_type": "stream",
     "text": [
      "\r",
      "  2%|▏         | 1745/75923 [09:31<8:55:17,  2.31it/s] "
     ]
    },
    {
     "name": "stdout",
     "output_type": "stream",
     "text": [
      "file not done yet ../data/raw/scBam/CB_TCTTTCCGTGCGAAAC-*.bam\n"
     ]
    },
    {
     "name": "stderr",
     "output_type": "stream",
     "text": [
      "\r",
      "  2%|▏         | 1746/75923 [09:31<7:31:59,  2.74it/s]"
     ]
    },
    {
     "name": "stdout",
     "output_type": "stream",
     "text": [
      "file not done yet ../data/raw/scBam/CB_GAACATCGTCTCTTAT-*.bam\n"
     ]
    },
    {
     "name": "stderr",
     "output_type": "stream",
     "text": [
      "\r",
      "  2%|▏         | 1747/75923 [09:32<6:46:31,  3.04it/s]"
     ]
    },
    {
     "name": "stdout",
     "output_type": "stream",
     "text": [
      "file not done yet ../data/raw/scBam/CB_TATCAGGCATTGGGCC-*.bam\n"
     ]
    },
    {
     "name": "stderr",
     "output_type": "stream",
     "text": [
      "\r",
      "  2%|▏         | 1748/75923 [09:32<6:06:59,  3.37it/s]"
     ]
    },
    {
     "name": "stdout",
     "output_type": "stream",
     "text": [
      "file not done yet ../data/raw/scBam/CB_TAGTTGGGTCATGCAT-*.bam\n",
      "python /home/isshamie/software/mito-genotyping/exampleProcessing//01_pileup_counts.py ../data/raw/scBam/CB_ACAGCTACACCACCAG-1.bam ../data/raw/scPileup/CB_ACAGCTACACCACCAG-1 16571 0 ACAGCTACACCACCAG-1.bam 0\n"
     ]
    },
    {
     "name": "stderr",
     "output_type": "stream",
     "text": [
      "  2%|▏         | 1751/75923 [09:35<12:31:57,  1.64it/s]"
     ]
    },
    {
     "name": "stdout",
     "output_type": "stream",
     "text": [
      "file not done yet ../data/raw/scBam/CB_GTACGTAGTCGCGTGT-*.bam\n",
      "file not done yet ../data/raw/scBam/CB_GGTGAAGCATTTGCCC-*.bam\n"
     ]
    },
    {
     "name": "stderr",
     "output_type": "stream",
     "text": [
      "  2%|▏         | 1753/75923 [09:35<8:02:19,  2.56it/s] "
     ]
    },
    {
     "name": "stdout",
     "output_type": "stream",
     "text": [
      "file not done yet ../data/raw/scBam/CB_CCTCAGTAGGAATCGC-*.bam\n",
      "file not done yet ../data/raw/scBam/CB_GCAATCATCAGCGATT-*.bam\n"
     ]
    },
    {
     "name": "stderr",
     "output_type": "stream",
     "text": [
      "  2%|▏         | 1755/75923 [09:36<5:54:39,  3.49it/s]"
     ]
    },
    {
     "name": "stdout",
     "output_type": "stream",
     "text": [
      "file not done yet ../data/raw/scBam/CB_GGACATTCATTGAGCT-*.bam\n",
      "file not done yet ../data/raw/scBam/CB_ACGGAGATCTGTGCAA-*.bam\n",
      "python /home/isshamie/software/mito-genotyping/exampleProcessing//01_pileup_counts.py ../data/raw/scBam/CB_AACCGCGAGTCACGCC-1.bam ../data/raw/scPileup/CB_AACCGCGAGTCACGCC-1 16571 0 AACCGCGAGTCACGCC-1.bam 0\n"
     ]
    },
    {
     "name": "stderr",
     "output_type": "stream",
     "text": [
      "  2%|▏         | 1758/75923 [09:39<11:23:14,  1.81it/s]"
     ]
    },
    {
     "name": "stdout",
     "output_type": "stream",
     "text": [
      "file not done yet ../data/raw/scBam/CB_CTCTAATGTATGCTTG-*.bam\n",
      "file not done yet ../data/raw/scBam/CB_GCAGCCACATCACCCT-*.bam\n"
     ]
    },
    {
     "name": "stderr",
     "output_type": "stream",
     "text": [
      "\r",
      "  2%|▏         | 1759/75923 [09:39<9:15:47,  2.22it/s] "
     ]
    },
    {
     "name": "stdout",
     "output_type": "stream",
     "text": [
      "file not done yet ../data/raw/scBam/CB_GACAGAGCAAGGCTCC-*.bam\n"
     ]
    },
    {
     "name": "stderr",
     "output_type": "stream",
     "text": [
      "\r",
      "  2%|▏         | 1760/75923 [09:39<7:54:56,  2.60it/s]"
     ]
    },
    {
     "name": "stdout",
     "output_type": "stream",
     "text": [
      "file not done yet ../data/raw/scBam/CB_AGGTCCGGTTCCATGA-*.bam\n"
     ]
    },
    {
     "name": "stderr",
     "output_type": "stream",
     "text": [
      "\r",
      "  2%|▏         | 1761/75923 [09:39<6:55:12,  2.98it/s]"
     ]
    },
    {
     "name": "stdout",
     "output_type": "stream",
     "text": [
      "file not done yet ../data/raw/scBam/CB_CTTGGCTCAATGGACG-*.bam\n"
     ]
    },
    {
     "name": "stderr",
     "output_type": "stream",
     "text": [
      "  2%|▏         | 1763/75923 [09:40<5:27:28,  3.77it/s]"
     ]
    },
    {
     "name": "stdout",
     "output_type": "stream",
     "text": [
      "file not done yet ../data/raw/scBam/CB_CGATGTAGTAAGGGAA-*.bam\n",
      "file not done yet ../data/raw/scBam/CB_GCAGTTACACACGCTG-*.bam\n"
     ]
    },
    {
     "name": "stderr",
     "output_type": "stream",
     "text": [
      "\r",
      "  2%|▏         | 1764/75923 [09:40<5:19:06,  3.87it/s]"
     ]
    },
    {
     "name": "stdout",
     "output_type": "stream",
     "text": [
      "file not done yet ../data/raw/scBam/CB_GGGTTGCGTAGTAGTA-*.bam\n"
     ]
    },
    {
     "name": "stderr",
     "output_type": "stream",
     "text": [
      "\r",
      "  2%|▏         | 1765/75923 [09:40<5:05:19,  4.05it/s]"
     ]
    },
    {
     "name": "stdout",
     "output_type": "stream",
     "text": [
      "file not done yet ../data/raw/scBam/CB_TTAGTTCGTCAACTGT-*.bam\n"
     ]
    },
    {
     "name": "stderr",
     "output_type": "stream",
     "text": [
      "\r",
      "  2%|▏         | 1766/75923 [09:40<4:55:49,  4.18it/s]"
     ]
    },
    {
     "name": "stdout",
     "output_type": "stream",
     "text": [
      "file not done yet ../data/raw/scBam/CB_CTCGGAGCAAGTAATG-*.bam\n"
     ]
    },
    {
     "name": "stderr",
     "output_type": "stream",
     "text": [
      "  2%|▏         | 1768/75923 [09:41<4:50:52,  4.25it/s]"
     ]
    },
    {
     "name": "stdout",
     "output_type": "stream",
     "text": [
      "file not done yet ../data/raw/scBam/CB_GTGAAGGTCAACGGGA-*.bam\n",
      "file not done yet ../data/raw/scBam/CB_ATGCGATTCCGCGGTA-*.bam\n"
     ]
    },
    {
     "name": "stderr",
     "output_type": "stream",
     "text": [
      "\r",
      "  2%|▏         | 1769/75923 [09:41<4:38:47,  4.43it/s]"
     ]
    },
    {
     "name": "stdout",
     "output_type": "stream",
     "text": [
      "file not done yet ../data/raw/scBam/CB_TCTCATAAGATGTCGG-*.bam\n"
     ]
    },
    {
     "name": "stderr",
     "output_type": "stream",
     "text": [
      "  2%|▏         | 1771/75923 [09:41<4:22:39,  4.71it/s]"
     ]
    },
    {
     "name": "stdout",
     "output_type": "stream",
     "text": [
      "file not done yet ../data/raw/scBam/CB_ATGCGATAGTCGTACT-*.bam\n",
      "file not done yet ../data/raw/scBam/CB_GCATGTAGTCTCCACT-*.bam\n"
     ]
    },
    {
     "name": "stderr",
     "output_type": "stream",
     "text": [
      "  2%|▏         | 1773/75923 [09:42<3:51:21,  5.34it/s]"
     ]
    },
    {
     "name": "stdout",
     "output_type": "stream",
     "text": [
      "file not done yet ../data/raw/scBam/CB_GACAGAGAGCTAGGCA-*.bam\n",
      "file not done yet ../data/raw/scBam/CB_TGAGGGATCTCTAAGG-*.bam\n"
     ]
    },
    {
     "name": "stderr",
     "output_type": "stream",
     "text": [
      "  2%|▏         | 1775/75923 [09:42<3:51:24,  5.34it/s]"
     ]
    },
    {
     "name": "stdout",
     "output_type": "stream",
     "text": [
      "file not done yet ../data/raw/scBam/CB_CGCTATCAGCCCTAAT-*.bam\n",
      "file not done yet ../data/raw/scBam/CB_GCTCTGTAGATATGCA-*.bam\n"
     ]
    },
    {
     "name": "stderr",
     "output_type": "stream",
     "text": [
      "  2%|▏         | 1777/75923 [09:42<3:31:38,  5.84it/s]"
     ]
    },
    {
     "name": "stdout",
     "output_type": "stream",
     "text": [
      "file not done yet ../data/raw/scBam/CB_GTTAAGCGTCGTGGCT-*.bam\n",
      "file not done yet ../data/raw/scBam/CB_GGCTGGTAGTGGTAAT-*.bam\n"
     ]
    },
    {
     "name": "stderr",
     "output_type": "stream",
     "text": [
      "\r",
      "  2%|▏         | 1778/75923 [09:43<3:55:13,  5.25it/s]"
     ]
    },
    {
     "name": "stdout",
     "output_type": "stream",
     "text": [
      "file not done yet ../data/raw/scBam/CB_GGGTCTGTCGAATGCT-*.bam\n"
     ]
    },
    {
     "name": "stderr",
     "output_type": "stream",
     "text": [
      "  2%|▏         | 1780/75923 [09:43<3:57:43,  5.20it/s]"
     ]
    },
    {
     "name": "stdout",
     "output_type": "stream",
     "text": [
      "file not done yet ../data/raw/scBam/CB_GTCACGGCACCCATTC-*.bam\n",
      "file not done yet ../data/raw/scBam/CB_TGACAACTCAGCATGT-*.bam\n"
     ]
    },
    {
     "name": "stderr",
     "output_type": "stream",
     "text": [
      "\r",
      "  2%|▏         | 1781/75923 [09:43<4:20:23,  4.75it/s]"
     ]
    },
    {
     "name": "stdout",
     "output_type": "stream",
     "text": [
      "file not done yet ../data/raw/scBam/CB_GGATGTTTCCCGGATG-*.bam\n"
     ]
    },
    {
     "name": "stderr",
     "output_type": "stream",
     "text": [
      "  2%|▏         | 1783/75923 [09:44<4:10:10,  4.94it/s]"
     ]
    },
    {
     "name": "stdout",
     "output_type": "stream",
     "text": [
      "file not done yet ../data/raw/scBam/CB_CTAAGACGTAAGAGAG-*.bam\n",
      "file not done yet ../data/raw/scBam/CB_GACCTGGGTCTAACGT-*.bam\n"
     ]
    },
    {
     "name": "stderr",
     "output_type": "stream",
     "text": [
      "  2%|▏         | 1785/75923 [09:44<3:43:43,  5.52it/s]"
     ]
    },
    {
     "name": "stdout",
     "output_type": "stream",
     "text": [
      "file not done yet ../data/raw/scBam/CB_ACGCCGAGTATGGTTC-*.bam\n",
      "file not done yet ../data/raw/scBam/CB_GTACGTAGTTTAGGAA-*.bam\n"
     ]
    },
    {
     "name": "stderr",
     "output_type": "stream",
     "text": [
      "  2%|▏         | 1787/75923 [09:44<3:34:06,  5.77it/s]"
     ]
    },
    {
     "name": "stdout",
     "output_type": "stream",
     "text": [
      "file not done yet ../data/raw/scBam/CB_TCCCGATTCGTCTGCT-*.bam\n",
      "file not done yet ../data/raw/scBam/CB_CTCAGAAGTCTCTCTG-*.bam\n"
     ]
    },
    {
     "name": "stderr",
     "output_type": "stream",
     "text": [
      "  2%|▏         | 1789/75923 [09:45<3:40:55,  5.59it/s]"
     ]
    },
    {
     "name": "stdout",
     "output_type": "stream",
     "text": [
      "file not done yet ../data/raw/scBam/CB_CGAACATCAGGACGTA-*.bam\n",
      "file not done yet ../data/raw/scBam/CB_GCACATAGTTACAGAA-*.bam\n"
     ]
    },
    {
     "name": "stderr",
     "output_type": "stream",
     "text": [
      "\r",
      "  2%|▏         | 1790/75923 [09:45<3:50:30,  5.36it/s]"
     ]
    },
    {
     "name": "stdout",
     "output_type": "stream",
     "text": [
      "file not done yet ../data/raw/scBam/CB_CCTTACGGTGTCGCTG-*.bam\n"
     ]
    },
    {
     "name": "stderr",
     "output_type": "stream",
     "text": [
      "\r",
      "  2%|▏         | 1791/75923 [09:45<4:00:01,  5.15it/s]"
     ]
    },
    {
     "name": "stdout",
     "output_type": "stream",
     "text": [
      "file not done yet ../data/raw/scBam/CB_CACCTTGGTGCAGGTA-*.bam\n"
     ]
    },
    {
     "name": "stderr",
     "output_type": "stream",
     "text": [
      "\r",
      "  2%|▏         | 1792/75923 [09:45<4:05:51,  5.03it/s]"
     ]
    },
    {
     "name": "stdout",
     "output_type": "stream",
     "text": [
      "file not done yet ../data/raw/scBam/CB_GGCCGATTCACTTATC-*.bam\n",
      "python /home/isshamie/software/mito-genotyping/exampleProcessing//01_pileup_counts.py ../data/raw/scBam/CB_AAGGAGCCAGTGGGAT-1.bam ../data/raw/scPileup/CB_AAGGAGCCAGTGGGAT-1 16571 0 AAGGAGCCAGTGGGAT-1.bam 0\n"
     ]
    },
    {
     "name": "stderr",
     "output_type": "stream",
     "text": [
      "  2%|▏         | 1794/75923 [09:47<10:27:13,  1.97it/s]"
     ]
    },
    {
     "name": "stdout",
     "output_type": "stream",
     "text": [
      "file not done yet ../data/raw/scBam/CB_AGAGTGGTCCAGAAGG-*.bam\n"
     ]
    },
    {
     "name": "stderr",
     "output_type": "stream",
     "text": [
      "\r",
      "  2%|▏         | 1795/75923 [09:48<8:44:59,  2.35it/s] "
     ]
    },
    {
     "name": "stdout",
     "output_type": "stream",
     "text": [
      "file not done yet ../data/raw/scBam/CB_CAAGATCCATAAGACA-*.bam\n"
     ]
    },
    {
     "name": "stderr",
     "output_type": "stream",
     "text": [
      "\r",
      "  2%|▏         | 1796/75923 [09:48<7:23:36,  2.79it/s]"
     ]
    },
    {
     "name": "stdout",
     "output_type": "stream",
     "text": [
      "file not done yet ../data/raw/scBam/CB_CTCTAATAGAGGGCTT-*.bam\n",
      "python /home/isshamie/software/mito-genotyping/exampleProcessing//01_pileup_counts.py ../data/raw/scBam/CB_AACTCCCTCGCAAGCC-1.bam ../data/raw/scPileup/CB_AACTCCCTCGCAAGCC-1 16571 0 AACTCCCTCGCAAGCC-1.bam 0\n"
     ]
    },
    {
     "name": "stderr",
     "output_type": "stream",
     "text": [
      "  2%|▏         | 1798/75923 [09:49<10:37:07,  1.94it/s]"
     ]
    },
    {
     "name": "stdout",
     "output_type": "stream",
     "text": [
      "file not done yet ../data/raw/scBam/CB_CGACCTTCATAGTAAG-*.bam\n"
     ]
    },
    {
     "name": "stderr",
     "output_type": "stream",
     "text": [
      "  2%|▏         | 1800/75923 [09:50<7:19:32,  2.81it/s] "
     ]
    },
    {
     "name": "stdout",
     "output_type": "stream",
     "text": [
      "file not done yet ../data/raw/scBam/CB_ATCCACCGTGAGCGAT-*.bam\n",
      "file not done yet ../data/raw/scBam/CB_TGGCGCATCCTTTCGG-*.bam\n"
     ]
    },
    {
     "name": "stderr",
     "output_type": "stream",
     "text": [
      "\r",
      "  2%|▏         | 1801/75923 [09:50<6:21:05,  3.24it/s]"
     ]
    },
    {
     "name": "stdout",
     "output_type": "stream",
     "text": [
      "file not done yet ../data/raw/scBam/CB_TGGCGCATCCCTAATT-*.bam\n"
     ]
    },
    {
     "name": "stderr",
     "output_type": "stream",
     "text": [
      "\r",
      "  2%|▏         | 1802/75923 [09:50<5:45:37,  3.57it/s]"
     ]
    },
    {
     "name": "stdout",
     "output_type": "stream",
     "text": [
      "file not done yet ../data/raw/scBam/CB_CATCGAATCCACTGGG-*.bam\n"
     ]
    },
    {
     "name": "stderr",
     "output_type": "stream",
     "text": [
      "\r",
      "  2%|▏         | 1803/75923 [09:50<5:37:18,  3.66it/s]"
     ]
    },
    {
     "name": "stdout",
     "output_type": "stream",
     "text": [
      "file not done yet ../data/raw/scBam/CB_CGCCAAGAGGCAGGTT-*.bam\n"
     ]
    },
    {
     "name": "stderr",
     "output_type": "stream",
     "text": [
      "  2%|▏         | 1805/75923 [09:51<4:41:00,  4.40it/s]"
     ]
    },
    {
     "name": "stdout",
     "output_type": "stream",
     "text": [
      "file not done yet ../data/raw/scBam/CB_TTGCGTCGTATTACCG-*.bam\n",
      "file not done yet ../data/raw/scBam/CB_CAGCCGAGTCAAAGCG-*.bam\n"
     ]
    },
    {
     "name": "stderr",
     "output_type": "stream",
     "text": [
      "  2%|▏         | 1807/75923 [09:51<4:18:14,  4.78it/s]"
     ]
    },
    {
     "name": "stdout",
     "output_type": "stream",
     "text": [
      "file not done yet ../data/raw/scBam/CB_TACTTACTCTTGTCAT-*.bam\n",
      "file not done yet ../data/raw/scBam/CB_TGGTTCCTCGCGCCAA-*.bam\n"
     ]
    },
    {
     "name": "stderr",
     "output_type": "stream",
     "text": [
      "\r",
      "  2%|▏         | 1808/75923 [09:51<4:15:51,  4.83it/s]"
     ]
    },
    {
     "name": "stdout",
     "output_type": "stream",
     "text": [
      "file not done yet ../data/raw/scBam/CB_TGCGCAGTCGTTACGA-*.bam\n"
     ]
    },
    {
     "name": "stderr",
     "output_type": "stream",
     "text": [
      "\r",
      "  2%|▏         | 1809/75923 [09:51<4:15:53,  4.83it/s]"
     ]
    },
    {
     "name": "stdout",
     "output_type": "stream",
     "text": [
      "file not done yet ../data/raw/scBam/CB_TACTTGTGTGACAAAT-*.bam\n",
      "python /home/isshamie/software/mito-genotyping/exampleProcessing//01_pileup_counts.py ../data/raw/scBam/CB_AAACCTGTCTGGTTCC-1.bam ../data/raw/scPileup/CB_AAACCTGTCTGGTTCC-1 16571 0 AAACCTGTCTGGTTCC-1.bam 0\n"
     ]
    },
    {
     "name": "stderr",
     "output_type": "stream",
     "text": [
      "  2%|▏         | 1812/75923 [09:53<7:10:45,  2.87it/s] "
     ]
    },
    {
     "name": "stdout",
     "output_type": "stream",
     "text": [
      "file not done yet ../data/raw/scBam/CB_CTAGCCTGTCCTCCAT-*.bam\n",
      "file not done yet ../data/raw/scBam/CB_GCACATAAGTAGCGGT-*.bam\n"
     ]
    },
    {
     "name": "stderr",
     "output_type": "stream",
     "text": [
      "  2%|▏         | 1814/75923 [09:53<5:21:12,  3.85it/s]"
     ]
    },
    {
     "name": "stdout",
     "output_type": "stream",
     "text": [
      "file not done yet ../data/raw/scBam/CB_ATTGGTGTCTCCGGTT-*.bam\n",
      "file not done yet ../data/raw/scBam/CB_GTAACTGCAAGCTGAG-*.bam\n"
     ]
    },
    {
     "name": "stderr",
     "output_type": "stream",
     "text": [
      "\r",
      "  2%|▏         | 1815/75923 [09:54<4:55:53,  4.17it/s]"
     ]
    },
    {
     "name": "stdout",
     "output_type": "stream",
     "text": [
      "file not done yet ../data/raw/scBam/CB_GTTTCTAAGGGTTCCC-*.bam\n"
     ]
    },
    {
     "name": "stderr",
     "output_type": "stream",
     "text": [
      "\r",
      "  2%|▏         | 1816/75923 [09:54<5:02:59,  4.08it/s]"
     ]
    },
    {
     "name": "stdout",
     "output_type": "stream",
     "text": [
      "file not done yet ../data/raw/scBam/CB_CAACCTCCATGAACCT-*.bam\n"
     ]
    },
    {
     "name": "stderr",
     "output_type": "stream",
     "text": [
      "  2%|▏         | 1818/75923 [09:55<7:01:10,  2.93it/s]"
     ]
    },
    {
     "name": "stdout",
     "output_type": "stream",
     "text": [
      "file not done yet ../data/raw/scBam/CB_CTGCTGTAGCGAGAAA-*.bam\n",
      "file not done yet ../data/raw/scBam/CB_CTAGTGAGTGTGGCTC-*.bam\n",
      "python /home/isshamie/software/mito-genotyping/exampleProcessing//01_pileup_counts.py ../data/raw/scBam/CB_AAGCCGCCAGAAGCAC-1.bam ../data/raw/scPileup/CB_AAGCCGCCAGAAGCAC-1 16571 0 AAGCCGCCAGAAGCAC-1.bam 0\n"
     ]
    },
    {
     "name": "stderr",
     "output_type": "stream",
     "text": [
      "  2%|▏         | 1821/75923 [09:57<11:27:27,  1.80it/s]"
     ]
    },
    {
     "name": "stdout",
     "output_type": "stream",
     "text": [
      "file not done yet ../data/raw/scBam/CB_CTGTGCTAGCCAGTAG-*.bam\n",
      "file not done yet ../data/raw/scBam/CB_GTGTGCGCAGTAGAGC-*.bam\n"
     ]
    },
    {
     "name": "stderr",
     "output_type": "stream",
     "text": [
      "  2%|▏         | 1823/75923 [09:58<7:42:13,  2.67it/s] "
     ]
    },
    {
     "name": "stdout",
     "output_type": "stream",
     "text": [
      "file not done yet ../data/raw/scBam/CB_TTCCCAGAGCCCTAAT-*.bam\n",
      "file not done yet ../data/raw/scBam/CB_GCCAAATCAGCCTGTG-*.bam\n"
     ]
    },
    {
     "name": "stderr",
     "output_type": "stream",
     "text": [
      "\r",
      "  2%|▏         | 1824/75923 [09:58<7:01:20,  2.93it/s]"
     ]
    },
    {
     "name": "stdout",
     "output_type": "stream",
     "text": [
      "file not done yet ../data/raw/scBam/CB_TATCAGGCACTACAGT-*.bam\n",
      "python /home/isshamie/software/mito-genotyping/exampleProcessing//01_pileup_counts.py ../data/raw/scBam/CB_AAATGCCTCAGTTGAC-1.bam ../data/raw/scPileup/CB_AAATGCCTCAGTTGAC-1 16571 0 AAATGCCTCAGTTGAC-1.bam 0\n"
     ]
    },
    {
     "name": "stderr",
     "output_type": "stream",
     "text": [
      "  2%|▏         | 1827/75923 [10:00<9:09:35,  2.25it/s] "
     ]
    },
    {
     "name": "stdout",
     "output_type": "stream",
     "text": [
      "file not done yet ../data/raw/scBam/CB_GTTTCTACAGGCTGAA-*.bam\n",
      "file not done yet ../data/raw/scBam/CB_TACAGTGAGCCTATGT-*.bam\n",
      "file not done yet ../data/raw/scBam/CB_GCTCCTAGTTATGCGT-*.bam\n",
      "file not done yet ../data/raw/scBam/CB_ATTATCCTCAGCTGGC-*.bam\n"
     ]
    },
    {
     "name": "stderr",
     "output_type": "stream",
     "text": [
      "\r",
      "  2%|▏         | 1830/75923 [10:00<6:59:32,  2.94it/s]"
     ]
    },
    {
     "name": "stdout",
     "output_type": "stream",
     "text": [
      "file not done yet ../data/raw/scBam/CB_GCAGTTACACCAACCG-*.bam\n"
     ]
    },
    {
     "name": "stderr",
     "output_type": "stream",
     "text": [
      "\r",
      "  2%|▏         | 1831/75923 [10:01<6:23:35,  3.22it/s]"
     ]
    },
    {
     "name": "stdout",
     "output_type": "stream",
     "text": [
      "file not done yet ../data/raw/scBam/CB_CGGGTCAGTTAGTGGG-*.bam\n"
     ]
    },
    {
     "name": "stderr",
     "output_type": "stream",
     "text": [
      "\r",
      "  2%|▏         | 1832/75923 [10:01<5:50:18,  3.52it/s]"
     ]
    },
    {
     "name": "stdout",
     "output_type": "stream",
     "text": [
      "file not done yet ../data/raw/scBam/CB_ACGGCCAGTAGCGTAG-*.bam\n"
     ]
    },
    {
     "name": "stderr",
     "output_type": "stream",
     "text": [
      "\r",
      "  2%|▏         | 1833/75923 [10:01<5:22:38,  3.83it/s]"
     ]
    },
    {
     "name": "stdout",
     "output_type": "stream",
     "text": [
      "file not done yet ../data/raw/scBam/CB_GATCTAGGTGAAAGAG-*.bam\n"
     ]
    },
    {
     "name": "stderr",
     "output_type": "stream",
     "text": [
      "\r",
      "  2%|▏         | 1834/75923 [10:01<5:16:10,  3.91it/s]"
     ]
    },
    {
     "name": "stdout",
     "output_type": "stream",
     "text": [
      "file not done yet ../data/raw/scBam/CB_CACACCTGTTTGACAC-*.bam\n"
     ]
    },
    {
     "name": "stderr",
     "output_type": "stream",
     "text": [
      "\r",
      "  2%|▏         | 1835/75923 [10:01<5:05:05,  4.05it/s]"
     ]
    },
    {
     "name": "stdout",
     "output_type": "stream",
     "text": [
      "file not done yet ../data/raw/scBam/CB_TTTACTGAGCTACCGC-*.bam\n"
     ]
    },
    {
     "name": "stderr",
     "output_type": "stream",
     "text": [
      "\r",
      "  2%|▏         | 1836/75923 [10:02<5:07:36,  4.01it/s]"
     ]
    },
    {
     "name": "stdout",
     "output_type": "stream",
     "text": [
      "file not done yet ../data/raw/scBam/CB_GTACTCCGTTTAAGCC-*.bam\n"
     ]
    },
    {
     "name": "stderr",
     "output_type": "stream",
     "text": [
      "\r",
      "  2%|▏         | 1837/75923 [10:02<4:57:12,  4.15it/s]"
     ]
    },
    {
     "name": "stdout",
     "output_type": "stream",
     "text": [
      "file not done yet ../data/raw/scBam/CB_TACTTACAGCTAAACA-*.bam\n"
     ]
    },
    {
     "name": "stderr",
     "output_type": "stream",
     "text": [
      "\r",
      "  2%|▏         | 1838/75923 [10:02<5:03:07,  4.07it/s]"
     ]
    },
    {
     "name": "stdout",
     "output_type": "stream",
     "text": [
      "file not done yet ../data/raw/scBam/CB_GGACGTCTCCGTCATC-*.bam\n"
     ]
    },
    {
     "name": "stderr",
     "output_type": "stream",
     "text": [
      "  2%|▏         | 1840/75923 [10:03<4:26:42,  4.63it/s]"
     ]
    },
    {
     "name": "stdout",
     "output_type": "stream",
     "text": [
      "file not done yet ../data/raw/scBam/CB_CGATGGCGTATATGAG-*.bam\n",
      "file not done yet ../data/raw/scBam/CB_ATTATCCCAGCTGTGC-*.bam\n"
     ]
    },
    {
     "name": "stderr",
     "output_type": "stream",
     "text": [
      "  2%|▏         | 1842/75923 [10:03<4:11:48,  4.90it/s]"
     ]
    },
    {
     "name": "stdout",
     "output_type": "stream",
     "text": [
      "file not done yet ../data/raw/scBam/CB_CCACCTATCGTTTATC-*.bam\n",
      "file not done yet ../data/raw/scBam/CB_TTGCCGTCACACGCTG-*.bam\n",
      "file not done yet ../data/raw/scBam/CB_AGCGTCGCACGACGAA-*.bam\n"
     ]
    },
    {
     "name": "stderr",
     "output_type": "stream",
     "text": [
      "  2%|▏         | 1845/75923 [10:04<4:06:26,  5.01it/s]"
     ]
    },
    {
     "name": "stdout",
     "output_type": "stream",
     "text": [
      "file not done yet ../data/raw/scBam/CB_TCCCGATCATATACGC-*.bam\n",
      "file not done yet ../data/raw/scBam/CB_GCAAACTTCGCCAAAT-*.bam\n"
     ]
    },
    {
     "name": "stderr",
     "output_type": "stream",
     "text": [
      "\r",
      "  2%|▏         | 1846/75923 [10:04<4:24:04,  4.68it/s]"
     ]
    },
    {
     "name": "stdout",
     "output_type": "stream",
     "text": [
      "file not done yet ../data/raw/scBam/CB_TACTCATGTTTACTCT-*.bam\n"
     ]
    },
    {
     "name": "stderr",
     "output_type": "stream",
     "text": [
      "\r",
      "  2%|▏         | 1847/75923 [10:04<4:24:43,  4.66it/s]"
     ]
    },
    {
     "name": "stdout",
     "output_type": "stream",
     "text": [
      "file not done yet ../data/raw/scBam/CB_GGGCATCGTACCCAAT-*.bam\n"
     ]
    },
    {
     "name": "stderr",
     "output_type": "stream",
     "text": [
      "  2%|▏         | 1849/75923 [10:04<4:13:29,  4.87it/s]"
     ]
    },
    {
     "name": "stdout",
     "output_type": "stream",
     "text": [
      "file not done yet ../data/raw/scBam/CB_CCTTTCTAGGTAAACT-*.bam\n",
      "file not done yet ../data/raw/scBam/CB_CACCACTCAGGAATCG-*.bam\n"
     ]
    },
    {
     "name": "stderr",
     "output_type": "stream",
     "text": [
      "  2%|▏         | 1851/75923 [10:05<4:01:55,  5.10it/s]"
     ]
    },
    {
     "name": "stdout",
     "output_type": "stream",
     "text": [
      "file not done yet ../data/raw/scBam/CB_ACGGGTCAGCTAGTTC-*.bam\n",
      "file not done yet ../data/raw/scBam/CB_ACGGGCTTCATCTGCC-*.bam\n"
     ]
    },
    {
     "name": "stderr",
     "output_type": "stream",
     "text": [
      "\r",
      "  2%|▏         | 1852/75923 [10:05<4:11:45,  4.90it/s]"
     ]
    },
    {
     "name": "stdout",
     "output_type": "stream",
     "text": [
      "file not done yet ../data/raw/scBam/CB_GTGCGGTAGTTAGCGG-*.bam\n"
     ]
    },
    {
     "name": "stderr",
     "output_type": "stream",
     "text": [
      "\r",
      "  2%|▏         | 1853/75923 [10:05<4:20:10,  4.74it/s]"
     ]
    },
    {
     "name": "stdout",
     "output_type": "stream",
     "text": [
      "file not done yet ../data/raw/scBam/CB_GCTTGAACAGGAATCG-*.bam\n"
     ]
    },
    {
     "name": "stderr",
     "output_type": "stream",
     "text": [
      "  2%|▏         | 1855/75923 [10:06<4:07:40,  4.98it/s]"
     ]
    },
    {
     "name": "stdout",
     "output_type": "stream",
     "text": [
      "file not done yet ../data/raw/scBam/CB_ATTTCTGCAGGGAGAG-*.bam\n",
      "file not done yet ../data/raw/scBam/CB_TACGGATCATGTCTCC-*.bam\n"
     ]
    },
    {
     "name": "stderr",
     "output_type": "stream",
     "text": [
      "  2%|▏         | 1857/75923 [10:06<4:13:07,  4.88it/s]"
     ]
    },
    {
     "name": "stdout",
     "output_type": "stream",
     "text": [
      "file not done yet ../data/raw/scBam/CB_CTACGTCAGTGGGTTG-*.bam\n",
      "file not done yet ../data/raw/scBam/CB_CCGGTAGTCTTGCAAG-*.bam\n"
     ]
    },
    {
     "name": "stderr",
     "output_type": "stream",
     "text": [
      "  2%|▏         | 1859/75923 [10:06<4:03:58,  5.06it/s]"
     ]
    },
    {
     "name": "stdout",
     "output_type": "stream",
     "text": [
      "file not done yet ../data/raw/scBam/CB_TGGCCAGAGTTGCAGG-*.bam\n",
      "file not done yet ../data/raw/scBam/CB_GGCAATTGTTACGCGC-*.bam\n",
      "python /home/isshamie/software/mito-genotyping/exampleProcessing//01_pileup_counts.py ../data/raw/scBam/CB_AAAGCAATCTCGCTTG-1.bam ../data/raw/scPileup/CB_AAAGCAATCTCGCTTG-1 16571 0 AAAGCAATCTCGCTTG-1.bam 0\n"
     ]
    },
    {
     "name": "stderr",
     "output_type": "stream",
     "text": [
      "  2%|▏         | 1862/75923 [10:09<10:52:00,  1.89it/s]"
     ]
    },
    {
     "name": "stdout",
     "output_type": "stream",
     "text": [
      "file not done yet ../data/raw/scBam/CB_GCTGGGTGTGCTGTAT-*.bam\n",
      "file not done yet ../data/raw/scBam/CB_TCAACGATCATTTGGG-*.bam\n"
     ]
    },
    {
     "name": "stderr",
     "output_type": "stream",
     "text": [
      "\r",
      "  2%|▏         | 1863/75923 [10:10<8:58:35,  2.29it/s] "
     ]
    },
    {
     "name": "stdout",
     "output_type": "stream",
     "text": [
      "file not done yet ../data/raw/scBam/CB_CACAGGCGTGGCGAAT-*.bam\n",
      "python /home/isshamie/software/mito-genotyping/exampleProcessing//01_pileup_counts.py ../data/raw/scBam/CB_AAAGCAACACCATGTA-1.bam ../data/raw/scPileup/CB_AAAGCAACACCATGTA-1 16571 0 AAAGCAACACCATGTA-1.bam 0\n"
     ]
    },
    {
     "name": "stderr",
     "output_type": "stream",
     "text": [
      "  2%|▏         | 1866/75923 [10:11<8:38:43,  2.38it/s] "
     ]
    },
    {
     "name": "stdout",
     "output_type": "stream",
     "text": [
      "file not done yet ../data/raw/scBam/CB_CGTGTAATCTGCAAGT-*.bam\n",
      "file not done yet ../data/raw/scBam/CB_CTCTACGTCTCCAGGG-*.bam\n"
     ]
    },
    {
     "name": "stderr",
     "output_type": "stream",
     "text": [
      "  2%|▏         | 1868/75923 [10:11<6:15:20,  3.29it/s]"
     ]
    },
    {
     "name": "stdout",
     "output_type": "stream",
     "text": [
      "file not done yet ../data/raw/scBam/CB_TGGCGCAAGCTGCGAA-*.bam\n",
      "file not done yet ../data/raw/scBam/CB_CCTTACGCATTTCACT-*.bam\n"
     ]
    },
    {
     "name": "stderr",
     "output_type": "stream",
     "text": [
      "\r",
      "  2%|▏         | 1869/75923 [10:12<5:41:34,  3.61it/s]"
     ]
    },
    {
     "name": "stdout",
     "output_type": "stream",
     "text": [
      "file not done yet ../data/raw/scBam/CB_GCATGCGGTTTGTTGG-*.bam\n",
      "python /home/isshamie/software/mito-genotyping/exampleProcessing//01_pileup_counts.py ../data/raw/scBam/CB_AACCGCGTCTTGTATC-1.bam ../data/raw/scPileup/CB_AACCGCGTCTTGTATC-1 16571 0 AACCGCGTCTTGTATC-1.bam 0\n"
     ]
    },
    {
     "name": "stderr",
     "output_type": "stream",
     "text": [
      "  2%|▏         | 1872/75923 [10:13<8:06:14,  2.54it/s] "
     ]
    },
    {
     "name": "stdout",
     "output_type": "stream",
     "text": [
      "file not done yet ../data/raw/scBam/CB_CGGCTAGTCTTCGAGA-*.bam\n",
      "file not done yet ../data/raw/scBam/CB_TTTCCTCTCGACAGCC-*.bam\n"
     ]
    },
    {
     "name": "stderr",
     "output_type": "stream",
     "text": [
      "\r",
      "  2%|▏         | 1873/75923 [10:14<7:04:43,  2.91it/s]"
     ]
    },
    {
     "name": "stdout",
     "output_type": "stream",
     "text": [
      "file not done yet ../data/raw/scBam/CB_GGCAATTCAGAGCCAA-*.bam\n"
     ]
    },
    {
     "name": "stderr",
     "output_type": "stream",
     "text": [
      "\r",
      "  2%|▏         | 1874/75923 [10:14<6:15:38,  3.29it/s]"
     ]
    },
    {
     "name": "stdout",
     "output_type": "stream",
     "text": [
      "file not done yet ../data/raw/scBam/CB_GGAAAGCCAAGCCGTC-*.bam\n"
     ]
    },
    {
     "name": "stderr",
     "output_type": "stream",
     "text": [
      "\r",
      "  2%|▏         | 1875/75923 [10:14<5:46:26,  3.56it/s]"
     ]
    },
    {
     "name": "stdout",
     "output_type": "stream",
     "text": [
      "file not done yet ../data/raw/scBam/CB_GTCATTTCACCCATGG-*.bam\n"
     ]
    },
    {
     "name": "stderr",
     "output_type": "stream",
     "text": [
      "\r",
      "  2%|▏         | 1876/75923 [10:14<5:30:07,  3.74it/s]"
     ]
    },
    {
     "name": "stdout",
     "output_type": "stream",
     "text": [
      "file not done yet ../data/raw/scBam/CB_CGTTCTGGTACTCTCC-*.bam\n"
     ]
    },
    {
     "name": "stderr",
     "output_type": "stream",
     "text": [
      "\r",
      "  2%|▏         | 1877/75923 [10:15<5:25:03,  3.80it/s]"
     ]
    },
    {
     "name": "stdout",
     "output_type": "stream",
     "text": [
      "file not done yet ../data/raw/scBam/CB_AGAATAGAGTTCCACA-*.bam\n"
     ]
    },
    {
     "name": "stderr",
     "output_type": "stream",
     "text": [
      "\r",
      "  2%|▏         | 1878/75923 [10:15<5:10:18,  3.98it/s]"
     ]
    },
    {
     "name": "stdout",
     "output_type": "stream",
     "text": [
      "file not done yet ../data/raw/scBam/CB_TTCTCCTCATGTCTCC-*.bam\n"
     ]
    },
    {
     "name": "stderr",
     "output_type": "stream",
     "text": [
      "  2%|▏         | 1880/75923 [10:15<4:42:45,  4.36it/s]"
     ]
    },
    {
     "name": "stdout",
     "output_type": "stream",
     "text": [
      "file not done yet ../data/raw/scBam/CB_GGCCGATCATACGCTA-*.bam\n",
      "file not done yet ../data/raw/scBam/CB_CTCACACCACGCATCG-*.bam\n"
     ]
    },
    {
     "name": "stderr",
     "output_type": "stream",
     "text": [
      "  2%|▏         | 1882/75923 [10:16<4:23:56,  4.68it/s]"
     ]
    },
    {
     "name": "stdout",
     "output_type": "stream",
     "text": [
      "file not done yet ../data/raw/scBam/CB_AGATCTGGTCGAAAGC-*.bam\n",
      "file not done yet ../data/raw/scBam/CB_ACGATACAGTTTAGGA-*.bam\n"
     ]
    },
    {
     "name": "stderr",
     "output_type": "stream",
     "text": [
      "\r",
      "  2%|▏         | 1883/75923 [10:16<4:45:25,  4.32it/s]"
     ]
    },
    {
     "name": "stdout",
     "output_type": "stream",
     "text": [
      "file not done yet ../data/raw/scBam/CB_GGACAGATCACAACGT-*.bam\n"
     ]
    },
    {
     "name": "stderr",
     "output_type": "stream",
     "text": [
      "\r",
      "  2%|▏         | 1884/75923 [10:16<4:49:33,  4.26it/s]"
     ]
    },
    {
     "name": "stdout",
     "output_type": "stream",
     "text": [
      "file not done yet ../data/raw/scBam/CB_TGCACCTCAGGAACGT-*.bam\n"
     ]
    },
    {
     "name": "stderr",
     "output_type": "stream",
     "text": [
      "  2%|▏         | 1886/75923 [10:17<4:28:18,  4.60it/s]"
     ]
    },
    {
     "name": "stdout",
     "output_type": "stream",
     "text": [
      "file not done yet ../data/raw/scBam/CB_CAGATCACATTGGCGC-*.bam\n",
      "file not done yet ../data/raw/scBam/CB_ATAGACCAGTACCGGA-*.bam\n"
     ]
    },
    {
     "name": "stderr",
     "output_type": "stream",
     "text": [
      "\r",
      "  2%|▏         | 1887/75923 [10:17<4:30:52,  4.56it/s]"
     ]
    },
    {
     "name": "stdout",
     "output_type": "stream",
     "text": [
      "file not done yet ../data/raw/scBam/CB_TCAGGATAGTGGGCTA-*.bam\n"
     ]
    },
    {
     "name": "stderr",
     "output_type": "stream",
     "text": [
      "  2%|▏         | 1889/75923 [10:17<4:13:18,  4.87it/s]"
     ]
    },
    {
     "name": "stdout",
     "output_type": "stream",
     "text": [
      "file not done yet ../data/raw/scBam/CB_ACTGCTCCATCACCCT-*.bam\n",
      "file not done yet ../data/raw/scBam/CB_GTATCTTAGCGAAGGG-*.bam\n"
     ]
    },
    {
     "name": "stderr",
     "output_type": "stream",
     "text": [
      "\r",
      "  2%|▏         | 1890/75923 [10:17<4:19:27,  4.76it/s]"
     ]
    },
    {
     "name": "stdout",
     "output_type": "stream",
     "text": [
      "file not done yet ../data/raw/scBam/CB_GACACGCCAATGTAAG-*.bam\n"
     ]
    },
    {
     "name": "stderr",
     "output_type": "stream",
     "text": [
      "\r",
      "  2%|▏         | 1891/75923 [10:18<4:43:11,  4.36it/s]"
     ]
    },
    {
     "name": "stdout",
     "output_type": "stream",
     "text": [
      "file not done yet ../data/raw/scBam/CB_AGGTCATTCTACGAGT-*.bam\n"
     ]
    },
    {
     "name": "stderr",
     "output_type": "stream",
     "text": [
      "\r",
      "  2%|▏         | 1892/75923 [10:18<4:38:10,  4.44it/s]"
     ]
    },
    {
     "name": "stdout",
     "output_type": "stream",
     "text": [
      "file not done yet ../data/raw/scBam/CB_CTTACCGCACTTGGAT-*.bam\n"
     ]
    },
    {
     "name": "stderr",
     "output_type": "stream",
     "text": [
      "  2%|▏         | 1894/75923 [10:18<4:29:16,  4.58it/s]"
     ]
    },
    {
     "name": "stdout",
     "output_type": "stream",
     "text": [
      "file not done yet ../data/raw/scBam/CB_CATCGGGAGTCGCCGT-*.bam\n",
      "file not done yet ../data/raw/scBam/CB_CAGCGACGTCCTCCAT-*.bam\n"
     ]
    },
    {
     "name": "stderr",
     "output_type": "stream",
     "text": [
      "  2%|▏         | 1896/75923 [10:19<4:08:20,  4.97it/s]"
     ]
    },
    {
     "name": "stdout",
     "output_type": "stream",
     "text": [
      "file not done yet ../data/raw/scBam/CB_CGACCTTTCCGGCACA-*.bam\n",
      "file not done yet ../data/raw/scBam/CB_CCTCTGAAGTTTAGGA-*.bam\n"
     ]
    },
    {
     "name": "stderr",
     "output_type": "stream",
     "text": [
      "  2%|▏         | 1898/75923 [10:19<3:40:18,  5.60it/s]"
     ]
    },
    {
     "name": "stdout",
     "output_type": "stream",
     "text": [
      "file not done yet ../data/raw/scBam/CB_CACAGGCCAGATAATG-*.bam\n",
      "file not done yet ../data/raw/scBam/CB_TGGTTAGCATCCCATC-*.bam\n"
     ]
    },
    {
     "name": "stderr",
     "output_type": "stream",
     "text": [
      "\r",
      "  3%|▎         | 1899/75923 [10:19<3:43:42,  5.52it/s]"
     ]
    },
    {
     "name": "stdout",
     "output_type": "stream",
     "text": [
      "file not done yet ../data/raw/scBam/CB_TGCCCTATCATGCAAC-*.bam\n"
     ]
    },
    {
     "name": "stderr",
     "output_type": "stream",
     "text": [
      "\r",
      "  3%|▎         | 1900/75923 [10:19<4:05:43,  5.02it/s]"
     ]
    },
    {
     "name": "stdout",
     "output_type": "stream",
     "text": [
      "file not done yet ../data/raw/scBam/CB_AGGGAGTGTACAGACG-*.bam\n"
     ]
    },
    {
     "name": "stderr",
     "output_type": "stream",
     "text": [
      "  3%|▎         | 1902/75923 [10:20<4:17:09,  4.80it/s]"
     ]
    },
    {
     "name": "stdout",
     "output_type": "stream",
     "text": [
      "file not done yet ../data/raw/scBam/CB_GCGCGATAGTGAAGAG-*.bam\n",
      "file not done yet ../data/raw/scBam/CB_CTCATTAGTTAGGGTG-*.bam\n",
      "python /home/isshamie/software/mito-genotyping/exampleProcessing//01_pileup_counts.py ../data/raw/scBam/CB_AAAGCAAAGCGCTTAT-1.bam ../data/raw/scPileup/CB_AAAGCAAAGCGCTTAT-1 16571 0 AAAGCAAAGCGCTTAT-1.bam 0\n"
     ]
    },
    {
     "name": "stderr",
     "output_type": "stream",
     "text": [
      "  3%|▎         | 1905/75923 [10:21<6:37:40,  3.10it/s]"
     ]
    },
    {
     "name": "stdout",
     "output_type": "stream",
     "text": [
      "file not done yet ../data/raw/scBam/CB_AGTAGTCAGTCAAGGC-*.bam\n",
      "file not done yet ../data/raw/scBam/CB_ACGGCCAGTAGCTAAA-*.bam\n"
     ]
    },
    {
     "name": "stderr",
     "output_type": "stream",
     "text": [
      "\r",
      "  3%|▎         | 1906/75923 [10:21<5:50:25,  3.52it/s]"
     ]
    },
    {
     "name": "stdout",
     "output_type": "stream",
     "text": [
      "file not done yet ../data/raw/scBam/CB_TTAGGACGTCTCCCTA-*.bam\n"
     ]
    },
    {
     "name": "stderr",
     "output_type": "stream",
     "text": [
      "\r",
      "  3%|▎         | 1907/75923 [10:22<5:27:03,  3.77it/s]"
     ]
    },
    {
     "name": "stdout",
     "output_type": "stream",
     "text": [
      "file not done yet ../data/raw/scBam/CB_GTGTGCGTCCGCTGTT-*.bam\n"
     ]
    },
    {
     "name": "stderr",
     "output_type": "stream",
     "text": [
      "  3%|▎         | 1909/75923 [10:22<4:48:57,  4.27it/s]"
     ]
    },
    {
     "name": "stdout",
     "output_type": "stream",
     "text": [
      "file not done yet ../data/raw/scBam/CB_CTTAACTGTCAGTGGA-*.bam\n",
      "file not done yet ../data/raw/scBam/CB_GTACGTAAGCAGGTCA-*.bam\n",
      "python /home/isshamie/software/mito-genotyping/exampleProcessing//01_pileup_counts.py ../data/raw/scBam/CB_AACTCTTCATCCGGGT-1.bam ../data/raw/scPileup/CB_AACTCTTCATCCGGGT-1 16571 0 AACTCTTCATCCGGGT-1.bam 0\n"
     ]
    },
    {
     "name": "stderr",
     "output_type": "stream",
     "text": [
      "  3%|▎         | 1912/75923 [10:24<7:13:06,  2.85it/s] "
     ]
    },
    {
     "name": "stdout",
     "output_type": "stream",
     "text": [
      "file not done yet ../data/raw/scBam/CB_CTAGTGAAGTCTCCTC-*.bam\n",
      "file not done yet ../data/raw/scBam/CB_GATCGTATCGTCCAGG-*.bam\n"
     ]
    },
    {
     "name": "stderr",
     "output_type": "stream",
     "text": [
      "\r",
      "  3%|▎         | 1913/75923 [10:24<6:23:35,  3.22it/s]"
     ]
    },
    {
     "name": "stdout",
     "output_type": "stream",
     "text": [
      "file not done yet ../data/raw/scBam/CB_TTCGAAGGTTAGGGTG-*.bam\n"
     ]
    },
    {
     "name": "stderr",
     "output_type": "stream",
     "text": [
      "\r",
      "  3%|▎         | 1914/75923 [10:24<5:46:29,  3.56it/s]"
     ]
    },
    {
     "name": "stdout",
     "output_type": "stream",
     "text": [
      "file not done yet ../data/raw/scBam/CB_AGTGGGAAGACTAGGC-*.bam\n"
     ]
    },
    {
     "name": "stderr",
     "output_type": "stream",
     "text": [
      "  3%|▎         | 1916/75923 [10:24<4:57:13,  4.15it/s]"
     ]
    },
    {
     "name": "stdout",
     "output_type": "stream",
     "text": [
      "file not done yet ../data/raw/scBam/CB_TACTTGTAGCGTCAAG-*.bam\n",
      "file not done yet ../data/raw/scBam/CB_ACTGTCCGTGCAGGTA-*.bam\n"
     ]
    },
    {
     "name": "stderr",
     "output_type": "stream",
     "text": [
      "  3%|▎         | 1918/75923 [10:25<4:22:00,  4.71it/s]"
     ]
    },
    {
     "name": "stdout",
     "output_type": "stream",
     "text": [
      "file not done yet ../data/raw/scBam/CB_ATCCACCGTTCGTGAT-*.bam\n",
      "file not done yet ../data/raw/scBam/CB_ACGGGCTTCATGTGGT-*.bam\n"
     ]
    },
    {
     "name": "stderr",
     "output_type": "stream",
     "text": [
      "\r",
      "  3%|▎         | 1919/75923 [10:25<6:24:25,  3.21it/s]"
     ]
    },
    {
     "name": "stdout",
     "output_type": "stream",
     "text": [
      "file not done yet ../data/raw/scBam/CB_GGACAAGAGGTACTCT-*.bam\n"
     ]
    },
    {
     "name": "stderr",
     "output_type": "stream",
     "text": [
      "  3%|▎         | 1921/75923 [10:26<5:55:31,  3.47it/s]"
     ]
    },
    {
     "name": "stdout",
     "output_type": "stream",
     "text": [
      "file not done yet ../data/raw/scBam/CB_CCTAAAGGTTAAAGAC-*.bam\n",
      "file not done yet ../data/raw/scBam/CB_GGAACTTAGCTAGGCA-*.bam\n"
     ]
    },
    {
     "name": "stderr",
     "output_type": "stream",
     "text": [
      "  3%|▎         | 1923/75923 [10:26<4:57:09,  4.15it/s]"
     ]
    },
    {
     "name": "stdout",
     "output_type": "stream",
     "text": [
      "file not done yet ../data/raw/scBam/CB_TTATGCTGTGTTTGTG-*.bam\n",
      "file not done yet ../data/raw/scBam/CB_CCCAGTTAGGTGTGGT-*.bam\n"
     ]
    },
    {
     "name": "stderr",
     "output_type": "stream",
     "text": [
      "\r",
      "  3%|▎         | 1924/75923 [10:27<4:42:52,  4.36it/s]"
     ]
    },
    {
     "name": "stdout",
     "output_type": "stream",
     "text": [
      "file not done yet ../data/raw/scBam/CB_TCAGATGCAGGAACGT-*.bam\n"
     ]
    },
    {
     "name": "stderr",
     "output_type": "stream",
     "text": [
      "\r",
      "  3%|▎         | 1925/75923 [10:27<4:37:21,  4.45it/s]"
     ]
    },
    {
     "name": "stdout",
     "output_type": "stream",
     "text": [
      "file not done yet ../data/raw/scBam/CB_CCTAAAGGTTTGACAC-*.bam\n"
     ]
    },
    {
     "name": "stderr",
     "output_type": "stream",
     "text": [
      "  3%|▎         | 1928/75923 [10:27<4:00:52,  5.12it/s]"
     ]
    },
    {
     "name": "stdout",
     "output_type": "stream",
     "text": [
      "file not done yet ../data/raw/scBam/CB_TGAGAGGTCGGTCTAA-*.bam\n",
      "file not done yet ../data/raw/scBam/CB_TGCCCATCAAATACAG-*.bam\n",
      "file not done yet ../data/raw/scBam/CB_CCAGCGATCAACACGT-*.bam\n"
     ]
    },
    {
     "name": "stderr",
     "output_type": "stream",
     "text": [
      "  3%|▎         | 1930/75923 [10:28<3:44:02,  5.50it/s]"
     ]
    },
    {
     "name": "stdout",
     "output_type": "stream",
     "text": [
      "file not done yet ../data/raw/scBam/CB_TGATTTCAGTGTACGG-*.bam\n",
      "file not done yet ../data/raw/scBam/CB_TAAACCGAGCTCCCAG-*.bam\n"
     ]
    },
    {
     "name": "stderr",
     "output_type": "stream",
     "text": [
      "\r",
      "  3%|▎         | 1931/75923 [10:28<3:54:24,  5.26it/s]"
     ]
    },
    {
     "name": "stdout",
     "output_type": "stream",
     "text": [
      "file not done yet ../data/raw/scBam/CB_TGACGGCGTCGCGTGT-*.bam\n"
     ]
    },
    {
     "name": "stderr",
     "output_type": "stream",
     "text": [
      "\r",
      "  3%|▎         | 1932/75923 [10:28<4:14:00,  4.85it/s]"
     ]
    },
    {
     "name": "stdout",
     "output_type": "stream",
     "text": [
      "file not done yet ../data/raw/scBam/CB_CGATCGGCAGCTTCGG-*.bam\n"
     ]
    },
    {
     "name": "stderr",
     "output_type": "stream",
     "text": [
      "  3%|▎         | 1935/75923 [10:29<3:59:38,  5.15it/s]"
     ]
    },
    {
     "name": "stdout",
     "output_type": "stream",
     "text": [
      "file not done yet ../data/raw/scBam/CB_CACATTTAGGTCATCT-*.bam\n",
      "file not done yet ../data/raw/scBam/CB_TTCGGTCCATTTCAGG-*.bam\n",
      "file not done yet ../data/raw/scBam/CB_AGCGTATAGATATACG-*.bam\n"
     ]
    },
    {
     "name": "stderr",
     "output_type": "stream",
     "text": [
      "  3%|▎         | 1937/75923 [10:29<3:57:19,  5.20it/s]"
     ]
    },
    {
     "name": "stdout",
     "output_type": "stream",
     "text": [
      "file not done yet ../data/raw/scBam/CB_GACCAATTCCGAGCCA-*.bam\n",
      "file not done yet ../data/raw/scBam/CB_CTGTTTATCTTTAGTC-*.bam\n"
     ]
    },
    {
     "name": "stderr",
     "output_type": "stream",
     "text": [
      "  3%|▎         | 1939/75923 [10:29<3:36:46,  5.69it/s]"
     ]
    },
    {
     "name": "stdout",
     "output_type": "stream",
     "text": [
      "file not done yet ../data/raw/scBam/CB_CATCGGGGTAAGTTCC-*.bam\n",
      "file not done yet ../data/raw/scBam/CB_CCTAAAGGTATCGCAT-*.bam\n"
     ]
    },
    {
     "name": "stderr",
     "output_type": "stream",
     "text": [
      "  3%|▎         | 1941/75923 [10:30<3:26:57,  5.96it/s]"
     ]
    },
    {
     "name": "stdout",
     "output_type": "stream",
     "text": [
      "file not done yet ../data/raw/scBam/CB_TAAGTGCAGTTGTAGA-*.bam\n",
      "file not done yet ../data/raw/scBam/CB_ACGCCAGCACGAAGCA-*.bam\n"
     ]
    },
    {
     "name": "stderr",
     "output_type": "stream",
     "text": [
      "  3%|▎         | 1943/75923 [10:30<3:24:36,  6.03it/s]"
     ]
    },
    {
     "name": "stdout",
     "output_type": "stream",
     "text": [
      "file not done yet ../data/raw/scBam/CB_GTTCATTAGATCCTGT-*.bam\n",
      "file not done yet ../data/raw/scBam/CB_GACGTTAGTTACCAGT-*.bam\n"
     ]
    },
    {
     "name": "stderr",
     "output_type": "stream",
     "text": [
      "  3%|▎         | 1945/75923 [10:30<3:33:34,  5.77it/s]"
     ]
    },
    {
     "name": "stdout",
     "output_type": "stream",
     "text": [
      "file not done yet ../data/raw/scBam/CB_TGCGTGGTCATAAAGG-*.bam\n",
      "file not done yet ../data/raw/scBam/CB_TACACGAAGTGTTTGC-*.bam\n",
      "python /home/isshamie/software/mito-genotyping/exampleProcessing//01_pileup_counts.py ../data/raw/scBam/CB_ACACCCTGTTAAGTAG-1.bam ../data/raw/scPileup/CB_ACACCCTGTTAAGTAG-1 16571 0 ACACCCTGTTAAGTAG-1.bam 0\n"
     ]
    },
    {
     "name": "stderr",
     "output_type": "stream",
     "text": [
      "  3%|▎         | 1948/75923 [10:33<8:52:43,  2.31it/s] "
     ]
    },
    {
     "name": "stdout",
     "output_type": "stream",
     "text": [
      "file not done yet ../data/raw/scBam/CB_ATTGGTGCAGCGAACA-*.bam\n",
      "file not done yet ../data/raw/scBam/CB_GCTCTGTCAGGGCATA-*.bam\n"
     ]
    },
    {
     "name": "stderr",
     "output_type": "stream",
     "text": [
      "\r",
      "  3%|▎         | 1949/75923 [10:33<7:20:08,  2.80it/s]"
     ]
    },
    {
     "name": "stdout",
     "output_type": "stream",
     "text": [
      "file not done yet ../data/raw/scBam/CB_CCACCTACACAAGACG-*.bam\n"
     ]
    },
    {
     "name": "stderr",
     "output_type": "stream",
     "text": [
      "  3%|▎         | 1951/75923 [10:33<5:51:36,  3.51it/s]"
     ]
    },
    {
     "name": "stdout",
     "output_type": "stream",
     "text": [
      "file not done yet ../data/raw/scBam/CB_AGTTGGTTCGCCTGAG-*.bam\n",
      "file not done yet ../data/raw/scBam/CB_CTAGCCTCAGCTGCTG-*.bam\n"
     ]
    },
    {
     "name": "stderr",
     "output_type": "stream",
     "text": [
      "\r",
      "  3%|▎         | 1952/75923 [10:33<5:07:26,  4.01it/s]"
     ]
    },
    {
     "name": "stdout",
     "output_type": "stream",
     "text": [
      "file not done yet ../data/raw/scBam/CB_CTCTGGTAGAGCTATA-*.bam\n"
     ]
    },
    {
     "name": "stderr",
     "output_type": "stream",
     "text": [
      "\r",
      "  3%|▎         | 1953/75923 [10:34<4:50:30,  4.24it/s]"
     ]
    },
    {
     "name": "stdout",
     "output_type": "stream",
     "text": [
      "file not done yet ../data/raw/scBam/CB_GACGGCTCAGGGTATG-*.bam\n"
     ]
    },
    {
     "name": "stderr",
     "output_type": "stream",
     "text": [
      "\r",
      "  3%|▎         | 1954/75923 [10:34<4:44:42,  4.33it/s]"
     ]
    },
    {
     "name": "stdout",
     "output_type": "stream",
     "text": [
      "file not done yet ../data/raw/scBam/CB_CGAATGTCAAGGTTTC-*.bam\n"
     ]
    },
    {
     "name": "stderr",
     "output_type": "stream",
     "text": [
      "  3%|▎         | 1957/75923 [10:34<4:08:51,  4.95it/s]"
     ]
    },
    {
     "name": "stdout",
     "output_type": "stream",
     "text": [
      "file not done yet ../data/raw/scBam/CB_GAATAAGAGCAGCGTA-*.bam\n",
      "file not done yet ../data/raw/scBam/CB_CGGAGCTGTACAGTTC-*.bam\n",
      "file not done yet ../data/raw/scBam/CB_TAAGAGAGTCCGAAGA-*.bam\n"
     ]
    },
    {
     "name": "stderr",
     "output_type": "stream",
     "text": [
      "  3%|▎         | 1959/75923 [10:35<3:59:06,  5.16it/s]"
     ]
    },
    {
     "name": "stdout",
     "output_type": "stream",
     "text": [
      "file not done yet ../data/raw/scBam/CB_AGCATACCATTCGACA-*.bam\n",
      "file not done yet ../data/raw/scBam/CB_GATGAGGTCGTAGGTT-*.bam\n"
     ]
    },
    {
     "name": "stderr",
     "output_type": "stream",
     "text": [
      "  3%|▎         | 1961/75923 [10:35<3:49:00,  5.38it/s]"
     ]
    },
    {
     "name": "stdout",
     "output_type": "stream",
     "text": [
      "file not done yet ../data/raw/scBam/CB_CTAGCCTGTATCACCA-*.bam\n",
      "file not done yet ../data/raw/scBam/CB_CAACCTCTCTACTCAT-*.bam\n"
     ]
    },
    {
     "name": "stderr",
     "output_type": "stream",
     "text": [
      "  3%|▎         | 1963/75923 [10:36<3:44:30,  5.49it/s]"
     ]
    },
    {
     "name": "stdout",
     "output_type": "stream",
     "text": [
      "file not done yet ../data/raw/scBam/CB_TGGCTGGGTACTTGAC-*.bam\n",
      "file not done yet ../data/raw/scBam/CB_CACATTTTCGCCAGCA-*.bam\n"
     ]
    },
    {
     "name": "stderr",
     "output_type": "stream",
     "text": [
      "  3%|▎         | 1965/75923 [10:36<3:55:12,  5.24it/s]"
     ]
    },
    {
     "name": "stdout",
     "output_type": "stream",
     "text": [
      "file not done yet ../data/raw/scBam/CB_TCATTACTCGGAATCT-*.bam\n",
      "file not done yet ../data/raw/scBam/CB_CTGCTGTGTAGGACAC-*.bam\n"
     ]
    },
    {
     "name": "stderr",
     "output_type": "stream",
     "text": [
      "\r",
      "  3%|▎         | 1966/75923 [10:36<3:59:49,  5.14it/s]"
     ]
    },
    {
     "name": "stdout",
     "output_type": "stream",
     "text": [
      "file not done yet ../data/raw/scBam/CB_CAGTCCTCAAGGTGTG-*.bam\n",
      "python /home/isshamie/software/mito-genotyping/exampleProcessing//01_pileup_counts.py ../data/raw/scBam/CB_ACATGGTTCCCAGGTG-1.bam ../data/raw/scPileup/CB_ACATGGTTCCCAGGTG-1 16571 0 ACATGGTTCCCAGGTG-1.bam 0\n"
     ]
    },
    {
     "name": "stderr",
     "output_type": "stream",
     "text": [
      "\r",
      "  3%|▎         | 1967/75923 [10:38<15:44:11,  1.31it/s]"
     ]
    },
    {
     "name": "stdout",
     "output_type": "stream",
     "text": [
      "python /home/isshamie/software/mito-genotyping/exampleProcessing//01_pileup_counts.py ../data/raw/scBam/CB_AATCCAGCACTCTGTC-1.bam ../data/raw/scPileup/CB_AATCCAGCACTCTGTC-1 16571 0 AATCCAGCACTCTGTC-1.bam 0\n"
     ]
    },
    {
     "name": "stderr",
     "output_type": "stream",
     "text": [
      "  3%|▎         | 1969/75923 [10:45<37:36:25,  1.83s/it]"
     ]
    },
    {
     "name": "stdout",
     "output_type": "stream",
     "text": [
      "file not done yet ../data/raw/scBam/CB_CAACTAGCATTTGCCC-*.bam\n",
      "python /home/isshamie/software/mito-genotyping/exampleProcessing//01_pileup_counts.py ../data/raw/scBam/CB_AAGTCTGTCTTAACCT-1.bam ../data/raw/scPileup/CB_AAGTCTGTCTTAACCT-1 16571 0 AAGTCTGTCTTAACCT-1.bam 0\n"
     ]
    },
    {
     "name": "stderr",
     "output_type": "stream",
     "text": [
      "  3%|▎         | 1972/75923 [10:47<18:32:17,  1.11it/s]"
     ]
    },
    {
     "name": "stdout",
     "output_type": "stream",
     "text": [
      "file not done yet ../data/raw/scBam/CB_GTGAAGGCATGCTGGC-*.bam\n",
      "file not done yet ../data/raw/scBam/CB_ACGAGGATCACCTCGT-*.bam\n"
     ]
    },
    {
     "name": "stderr",
     "output_type": "stream",
     "text": [
      "  3%|▎         | 1974/75923 [10:47<10:54:36,  1.88it/s]"
     ]
    },
    {
     "name": "stdout",
     "output_type": "stream",
     "text": [
      "file not done yet ../data/raw/scBam/CB_TGGACGCAGTACGCGA-*.bam\n",
      "file not done yet ../data/raw/scBam/CB_GTAGGCCGTCATTAGC-*.bam\n"
     ]
    },
    {
     "name": "stderr",
     "output_type": "stream",
     "text": [
      "  3%|▎         | 1976/75923 [10:47<7:17:07,  2.82it/s] "
     ]
    },
    {
     "name": "stdout",
     "output_type": "stream",
     "text": [
      "file not done yet ../data/raw/scBam/CB_GTGTTAGCAAGGCTCC-*.bam\n",
      "file not done yet ../data/raw/scBam/CB_GTTTCTAAGCTGCCCA-*.bam\n"
     ]
    },
    {
     "name": "stderr",
     "output_type": "stream",
     "text": [
      "  3%|▎         | 1978/75923 [10:48<5:30:36,  3.73it/s]"
     ]
    },
    {
     "name": "stdout",
     "output_type": "stream",
     "text": [
      "file not done yet ../data/raw/scBam/CB_CATTATCGTCGTTGTA-*.bam\n",
      "file not done yet ../data/raw/scBam/CB_CTGCGGACAGAGTGTG-*.bam\n"
     ]
    },
    {
     "name": "stderr",
     "output_type": "stream",
     "text": [
      "  3%|▎         | 1980/75923 [10:48<4:34:07,  4.50it/s]"
     ]
    },
    {
     "name": "stdout",
     "output_type": "stream",
     "text": [
      "file not done yet ../data/raw/scBam/CB_AGTAGTCTCGTGGTCG-*.bam\n",
      "file not done yet ../data/raw/scBam/CB_TTTGTCAAGACATAAC-*.bam\n"
     ]
    },
    {
     "name": "stderr",
     "output_type": "stream",
     "text": [
      "  3%|▎         | 1982/75923 [10:48<4:01:01,  5.11it/s]"
     ]
    },
    {
     "name": "stdout",
     "output_type": "stream",
     "text": [
      "file not done yet ../data/raw/scBam/CB_ATCCGAACAGGGTATG-*.bam\n",
      "file not done yet ../data/raw/scBam/CB_TGCTGCTGTACATCCA-*.bam\n"
     ]
    },
    {
     "name": "stderr",
     "output_type": "stream",
     "text": [
      "  3%|▎         | 1984/75923 [10:49<4:00:55,  5.11it/s]"
     ]
    },
    {
     "name": "stdout",
     "output_type": "stream",
     "text": [
      "file not done yet ../data/raw/scBam/CB_CACAGGCTCGGCTTGG-*.bam\n",
      "file not done yet ../data/raw/scBam/CB_AGCGGTCTCTTAGAGC-*.bam\n"
     ]
    },
    {
     "name": "stderr",
     "output_type": "stream",
     "text": [
      "  3%|▎         | 1986/75923 [10:49<3:56:41,  5.21it/s]"
     ]
    },
    {
     "name": "stdout",
     "output_type": "stream",
     "text": [
      "file not done yet ../data/raw/scBam/CB_CTCTAATAGTGTACTC-*.bam\n",
      "file not done yet ../data/raw/scBam/CB_GTTAAGCGTTTGACAC-*.bam\n",
      "python /home/isshamie/software/mito-genotyping/exampleProcessing//01_pileup_counts.py ../data/raw/scBam/CB_ACATACGTCAATCACG-1.bam ../data/raw/scPileup/CB_ACATACGTCAATCACG-1 16571 0 ACATACGTCAATCACG-1.bam 0\n"
     ]
    },
    {
     "name": "stderr",
     "output_type": "stream",
     "text": [
      "  3%|▎         | 1988/75923 [10:51<8:44:38,  2.35it/s] "
     ]
    },
    {
     "name": "stdout",
     "output_type": "stream",
     "text": [
      "file not done yet ../data/raw/scBam/CB_TCGTACCTCCGGCACA-*.bam\n"
     ]
    },
    {
     "name": "stderr",
     "output_type": "stream",
     "text": [
      "\r",
      "  3%|▎         | 1989/75923 [10:51<7:25:50,  2.76it/s]"
     ]
    },
    {
     "name": "stdout",
     "output_type": "stream",
     "text": [
      "file not done yet ../data/raw/scBam/CB_CCCAATCGTTTGCATG-*.bam\n"
     ]
    },
    {
     "name": "stderr",
     "output_type": "stream",
     "text": [
      "\r",
      "  3%|▎         | 1990/75923 [10:51<6:27:46,  3.18it/s]"
     ]
    },
    {
     "name": "stdout",
     "output_type": "stream",
     "text": [
      "file not done yet ../data/raw/scBam/CB_TCAACGAAGACACGAC-*.bam\n"
     ]
    },
    {
     "name": "stderr",
     "output_type": "stream",
     "text": [
      "\r",
      "  3%|▎         | 1991/75923 [10:51<5:52:50,  3.49it/s]"
     ]
    },
    {
     "name": "stdout",
     "output_type": "stream",
     "text": [
      "file not done yet ../data/raw/scBam/CB_TTTGCGCAGCAATATG-*.bam\n"
     ]
    },
    {
     "name": "stderr",
     "output_type": "stream",
     "text": [
      "\r",
      "  3%|▎         | 1992/75923 [10:52<5:32:13,  3.71it/s]"
     ]
    },
    {
     "name": "stdout",
     "output_type": "stream",
     "text": [
      "file not done yet ../data/raw/scBam/CB_AGAATAGGTCCAACTA-*.bam\n"
     ]
    },
    {
     "name": "stderr",
     "output_type": "stream",
     "text": [
      "  3%|▎         | 1994/75923 [10:52<4:56:06,  4.16it/s]"
     ]
    },
    {
     "name": "stdout",
     "output_type": "stream",
     "text": [
      "file not done yet ../data/raw/scBam/CB_GCATGTACAGAGCCAA-*.bam\n",
      "file not done yet ../data/raw/scBam/CB_AGCTTGATCTTAACCT-*.bam\n"
     ]
    },
    {
     "name": "stderr",
     "output_type": "stream",
     "text": [
      "\r",
      "  3%|▎         | 1995/75923 [10:52<4:39:25,  4.41it/s]"
     ]
    },
    {
     "name": "stdout",
     "output_type": "stream",
     "text": [
      "file not done yet ../data/raw/scBam/CB_ACTATCTTCGGTCCGA-*.bam\n"
     ]
    },
    {
     "name": "stderr",
     "output_type": "stream",
     "text": [
      "  3%|▎         | 1997/75923 [10:53<4:25:45,  4.64it/s]"
     ]
    },
    {
     "name": "stdout",
     "output_type": "stream",
     "text": [
      "file not done yet ../data/raw/scBam/CB_CGTGTCTAGGTGGGTT-*.bam\n",
      "file not done yet ../data/raw/scBam/CB_CAGCAGCAGGAGTTGC-*.bam\n"
     ]
    },
    {
     "name": "stderr",
     "output_type": "stream",
     "text": [
      "  3%|▎         | 1999/75923 [10:53<4:15:11,  4.83it/s]"
     ]
    },
    {
     "name": "stdout",
     "output_type": "stream",
     "text": [
      "file not done yet ../data/raw/scBam/CB_AGCATACCAATGACCT-*.bam\n",
      "file not done yet ../data/raw/scBam/CB_CGTAGGCTCTGTTTGT-*.bam\n"
     ]
    },
    {
     "name": "stderr",
     "output_type": "stream",
     "text": [
      "  3%|▎         | 2001/75923 [10:53<3:47:31,  5.41it/s]"
     ]
    },
    {
     "name": "stdout",
     "output_type": "stream",
     "text": [
      "file not done yet ../data/raw/scBam/CB_CAGAGAGTCAGAGCTT-*.bam\n",
      "file not done yet ../data/raw/scBam/CB_GAACGGACACATGGGA-*.bam\n"
     ]
    },
    {
     "name": "stderr",
     "output_type": "stream",
     "text": [
      "  3%|▎         | 2003/75923 [10:54<3:47:20,  5.42it/s]"
     ]
    },
    {
     "name": "stdout",
     "output_type": "stream",
     "text": [
      "file not done yet ../data/raw/scBam/CB_CTACACCGTCGCGTGT-*.bam\n",
      "file not done yet ../data/raw/scBam/CB_TCAATCTTCCTTGGTC-*.bam\n"
     ]
    },
    {
     "name": "stderr",
     "output_type": "stream",
     "text": [
      "  3%|▎         | 2005/75923 [10:54<3:58:55,  5.16it/s]"
     ]
    },
    {
     "name": "stdout",
     "output_type": "stream",
     "text": [
      "file not done yet ../data/raw/scBam/CB_AGGGTGAGTACTTGAC-*.bam\n",
      "file not done yet ../data/raw/scBam/CB_CACCACTTCTCTGAGA-*.bam\n"
     ]
    },
    {
     "name": "stderr",
     "output_type": "stream",
     "text": [
      "  3%|▎         | 2007/75923 [10:55<4:01:29,  5.10it/s]"
     ]
    },
    {
     "name": "stdout",
     "output_type": "stream",
     "text": [
      "file not done yet ../data/raw/scBam/CB_GCTGCTTCATATACCG-*.bam\n",
      "file not done yet ../data/raw/scBam/CB_CTGCCTAAGGTAGCCA-*.bam\n"
     ]
    },
    {
     "name": "stderr",
     "output_type": "stream",
     "text": [
      "  3%|▎         | 2009/75923 [10:55<3:49:34,  5.37it/s]"
     ]
    },
    {
     "name": "stdout",
     "output_type": "stream",
     "text": [
      "file not done yet ../data/raw/scBam/CB_CTAGTGAGTTATGTGC-*.bam\n",
      "file not done yet ../data/raw/scBam/CB_GTCTTCGTCCAATGGT-*.bam\n"
     ]
    },
    {
     "name": "stderr",
     "output_type": "stream",
     "text": [
      "\r",
      "  3%|▎         | 2010/75923 [10:55<3:58:53,  5.16it/s]"
     ]
    },
    {
     "name": "stdout",
     "output_type": "stream",
     "text": [
      "file not done yet ../data/raw/scBam/CB_TTGGAACAGGCAGTCA-*.bam\n"
     ]
    },
    {
     "name": "stderr",
     "output_type": "stream",
     "text": [
      "  3%|▎         | 2012/75923 [10:56<3:57:36,  5.18it/s]"
     ]
    },
    {
     "name": "stdout",
     "output_type": "stream",
     "text": [
      "file not done yet ../data/raw/scBam/CB_ATCATCTCATCTGGTA-*.bam\n",
      "file not done yet ../data/raw/scBam/CB_CATTCGCGTTACAGAA-*.bam\n"
     ]
    },
    {
     "name": "stderr",
     "output_type": "stream",
     "text": [
      "\r",
      "  3%|▎         | 2013/75923 [10:56<7:21:56,  2.79it/s]"
     ]
    },
    {
     "name": "stdout",
     "output_type": "stream",
     "text": [
      "file not done yet ../data/raw/scBam/CB_GTACGTACAGATGAGC-*.bam\n"
     ]
    },
    {
     "name": "stderr",
     "output_type": "stream",
     "text": [
      "\r",
      "  3%|▎         | 2014/75923 [10:57<7:21:18,  2.79it/s]"
     ]
    },
    {
     "name": "stdout",
     "output_type": "stream",
     "text": [
      "file not done yet ../data/raw/scBam/CB_GCTTCCACACATTAGC-*.bam\n"
     ]
    },
    {
     "name": "stderr",
     "output_type": "stream",
     "text": [
      "\r",
      "  3%|▎         | 2015/75923 [10:57<6:33:14,  3.13it/s]"
     ]
    },
    {
     "name": "stdout",
     "output_type": "stream",
     "text": [
      "file not done yet ../data/raw/scBam/CB_TATGCCCTCGTTGACA-*.bam\n"
     ]
    },
    {
     "name": "stderr",
     "output_type": "stream",
     "text": [
      "\r",
      "  3%|▎         | 2016/75923 [10:57<5:59:07,  3.43it/s]"
     ]
    },
    {
     "name": "stdout",
     "output_type": "stream",
     "text": [
      "file not done yet ../data/raw/scBam/CB_TCATTTGAGTGTTAGA-*.bam\n"
     ]
    },
    {
     "name": "stderr",
     "output_type": "stream",
     "text": [
      "\r",
      "  3%|▎         | 2017/75923 [10:57<5:38:12,  3.64it/s]"
     ]
    },
    {
     "name": "stdout",
     "output_type": "stream",
     "text": [
      "file not done yet ../data/raw/scBam/CB_CGTGAGCGTAATAGCA-*.bam\n"
     ]
    },
    {
     "name": "stderr",
     "output_type": "stream",
     "text": [
      "  3%|▎         | 2019/75923 [10:58<4:50:33,  4.24it/s]"
     ]
    },
    {
     "name": "stdout",
     "output_type": "stream",
     "text": [
      "file not done yet ../data/raw/scBam/CB_CACATAGTCCTGCCAT-*.bam\n",
      "file not done yet ../data/raw/scBam/CB_CGAATGTTCCTCAACC-*.bam\n"
     ]
    },
    {
     "name": "stderr",
     "output_type": "stream",
     "text": [
      "  3%|▎         | 2021/75923 [10:58<4:23:59,  4.67it/s]"
     ]
    },
    {
     "name": "stdout",
     "output_type": "stream",
     "text": [
      "file not done yet ../data/raw/scBam/CB_TTTACTGCAGTCGATT-*.bam\n",
      "file not done yet ../data/raw/scBam/CB_CATATGGAGCCACGTC-*.bam\n"
     ]
    },
    {
     "name": "stderr",
     "output_type": "stream",
     "text": [
      "  3%|▎         | 2023/75923 [10:59<4:19:22,  4.75it/s]"
     ]
    },
    {
     "name": "stdout",
     "output_type": "stream",
     "text": [
      "file not done yet ../data/raw/scBam/CB_ATCCGAAAGCGCTCCA-*.bam\n",
      "file not done yet ../data/raw/scBam/CB_CGTAGCGCATCATCCC-*.bam\n"
     ]
    },
    {
     "name": "stderr",
     "output_type": "stream",
     "text": [
      "  3%|▎         | 2025/75923 [10:59<3:56:44,  5.20it/s]"
     ]
    },
    {
     "name": "stdout",
     "output_type": "stream",
     "text": [
      "file not done yet ../data/raw/scBam/CB_CGAGAAGGTTAGTGGG-*.bam\n",
      "file not done yet ../data/raw/scBam/CB_CACACTCCATGCCACG-*.bam\n"
     ]
    },
    {
     "name": "stderr",
     "output_type": "stream",
     "text": [
      "  3%|▎         | 2027/75923 [10:59<4:17:37,  4.78it/s]"
     ]
    },
    {
     "name": "stdout",
     "output_type": "stream",
     "text": [
      "file not done yet ../data/raw/scBam/CB_AGGGTGACACAAGCCC-*.bam\n",
      "file not done yet ../data/raw/scBam/CB_CATCAAGCACCTTGTC-*.bam\n"
     ]
    },
    {
     "name": "stderr",
     "output_type": "stream",
     "text": [
      "\r",
      "  3%|▎         | 2028/75923 [11:00<4:23:21,  4.68it/s]"
     ]
    },
    {
     "name": "stdout",
     "output_type": "stream",
     "text": [
      "file not done yet ../data/raw/scBam/CB_CGTTGGGGTCGTTGTA-*.bam\n"
     ]
    },
    {
     "name": "stderr",
     "output_type": "stream",
     "text": [
      "\r",
      "  3%|▎         | 2029/75923 [11:00<4:26:26,  4.62it/s]"
     ]
    },
    {
     "name": "stdout",
     "output_type": "stream",
     "text": [
      "file not done yet ../data/raw/scBam/CB_CTGCGGATCTGCCAGG-*.bam\n"
     ]
    },
    {
     "name": "stderr",
     "output_type": "stream",
     "text": [
      "\r",
      "  3%|▎         | 2030/75923 [11:00<4:31:21,  4.54it/s]"
     ]
    },
    {
     "name": "stdout",
     "output_type": "stream",
     "text": [
      "file not done yet ../data/raw/scBam/CB_GCCTCTATCAAACCAC-*.bam\n"
     ]
    },
    {
     "name": "stderr",
     "output_type": "stream",
     "text": [
      "\r",
      "  3%|▎         | 2031/75923 [11:00<4:35:50,  4.46it/s]"
     ]
    },
    {
     "name": "stdout",
     "output_type": "stream",
     "text": [
      "file not done yet ../data/raw/scBam/CB_ATCCGAACAATGACCT-*.bam\n"
     ]
    },
    {
     "name": "stderr",
     "output_type": "stream",
     "text": [
      "\r",
      "  3%|▎         | 2032/75923 [11:00<4:43:30,  4.34it/s]"
     ]
    },
    {
     "name": "stdout",
     "output_type": "stream",
     "text": [
      "file not done yet ../data/raw/scBam/CB_GAACGGACACCGAATT-*.bam\n"
     ]
    },
    {
     "name": "stderr",
     "output_type": "stream",
     "text": [
      "\r",
      "  3%|▎         | 2033/75923 [11:01<4:41:25,  4.38it/s]"
     ]
    },
    {
     "name": "stdout",
     "output_type": "stream",
     "text": [
      "file not done yet ../data/raw/scBam/CB_TCGTAGACAGATCGGA-*.bam\n"
     ]
    },
    {
     "name": "stderr",
     "output_type": "stream",
     "text": [
      "\r",
      "  3%|▎         | 2034/75923 [11:01<4:48:14,  4.27it/s]"
     ]
    },
    {
     "name": "stdout",
     "output_type": "stream",
     "text": [
      "file not done yet ../data/raw/scBam/CB_GACCAATCAGCGTCCA-*.bam\n"
     ]
    },
    {
     "name": "stderr",
     "output_type": "stream",
     "text": [
      "\r",
      "  3%|▎         | 2035/75923 [11:01<4:55:48,  4.16it/s]"
     ]
    },
    {
     "name": "stdout",
     "output_type": "stream",
     "text": [
      "file not done yet ../data/raw/scBam/CB_GCATGTATCATATCGG-*.bam\n"
     ]
    },
    {
     "name": "stderr",
     "output_type": "stream",
     "text": [
      "\r",
      "  3%|▎         | 2036/75923 [11:01<4:52:25,  4.21it/s]"
     ]
    },
    {
     "name": "stdout",
     "output_type": "stream",
     "text": [
      "file not done yet ../data/raw/scBam/CB_CGGACGTTCTGGTATG-*.bam\n"
     ]
    },
    {
     "name": "stderr",
     "output_type": "stream",
     "text": [
      "\r",
      "  3%|▎         | 2037/75923 [11:02<4:51:24,  4.23it/s]"
     ]
    },
    {
     "name": "stdout",
     "output_type": "stream",
     "text": [
      "file not done yet ../data/raw/scBam/CB_AGTGTCAAGGGATCTG-*.bam\n"
     ]
    },
    {
     "name": "stderr",
     "output_type": "stream",
     "text": [
      "\r",
      "  3%|▎         | 2038/75923 [11:02<4:46:57,  4.29it/s]"
     ]
    },
    {
     "name": "stdout",
     "output_type": "stream",
     "text": [
      "file not done yet ../data/raw/scBam/CB_GACCTGGTCCGAATGT-*.bam\n"
     ]
    },
    {
     "name": "stderr",
     "output_type": "stream",
     "text": [
      "\r",
      "  3%|▎         | 2039/75923 [11:02<4:48:39,  4.27it/s]"
     ]
    },
    {
     "name": "stdout",
     "output_type": "stream",
     "text": [
      "file not done yet ../data/raw/scBam/CB_TGGGCGTGTAACGCGA-*.bam\n"
     ]
    },
    {
     "name": "stderr",
     "output_type": "stream",
     "text": [
      "\r",
      "  3%|▎         | 2040/75923 [11:02<4:52:36,  4.21it/s]"
     ]
    },
    {
     "name": "stdout",
     "output_type": "stream",
     "text": [
      "file not done yet ../data/raw/scBam/CB_ATAGACCGTTAAAGTG-*.bam\n"
     ]
    },
    {
     "name": "stderr",
     "output_type": "stream",
     "text": [
      "  3%|▎         | 2042/75923 [11:03<4:34:03,  4.49it/s]"
     ]
    },
    {
     "name": "stdout",
     "output_type": "stream",
     "text": [
      "file not done yet ../data/raw/scBam/CB_ACGGGTCTCCGAACGC-*.bam\n",
      "file not done yet ../data/raw/scBam/CB_CAGCGACCACCTTGTC-*.bam\n",
      "python /home/isshamie/software/mito-genotyping/exampleProcessing//01_pileup_counts.py ../data/raw/scBam/CB_ACCAGTAGTCTGCCAG-1.bam ../data/raw/scPileup/CB_ACCAGTAGTCTGCCAG-1 16571 0 ACCAGTAGTCTGCCAG-1.bam 0\n"
     ]
    },
    {
     "name": "stderr",
     "output_type": "stream",
     "text": [
      "  3%|▎         | 2045/75923 [11:06<11:16:13,  1.82it/s]"
     ]
    },
    {
     "name": "stdout",
     "output_type": "stream",
     "text": [
      "file not done yet ../data/raw/scBam/CB_CTAATGGGTACCTACA-*.bam\n",
      "file not done yet ../data/raw/scBam/CB_ATCGAGTAGAAACCTA-*.bam\n"
     ]
    },
    {
     "name": "stderr",
     "output_type": "stream",
     "text": [
      "\r",
      "  3%|▎         | 2046/75923 [11:06<9:00:38,  2.28it/s] "
     ]
    },
    {
     "name": "stdout",
     "output_type": "stream",
     "text": [
      "file not done yet ../data/raw/scBam/CB_TCTTTCCGTATTAGCC-*.bam\n",
      "python /home/isshamie/software/mito-genotyping/exampleProcessing//01_pileup_counts.py ../data/raw/scBam/CB_AACTGGTAGCAAATCA-1.bam ../data/raw/scPileup/CB_AACTGGTAGCAAATCA-1 16571 0 AACTGGTAGCAAATCA-1.bam 0\n"
     ]
    },
    {
     "name": "stderr",
     "output_type": "stream",
     "text": [
      "  3%|▎         | 2048/75923 [11:07<11:28:43,  1.79it/s]"
     ]
    },
    {
     "name": "stdout",
     "output_type": "stream",
     "text": [
      "file not done yet ../data/raw/scBam/CB_CAGATCAAGATCGGGT-*.bam\n"
     ]
    },
    {
     "name": "stderr",
     "output_type": "stream",
     "text": [
      "  3%|▎         | 2050/75923 [11:08<7:43:09,  2.66it/s] "
     ]
    },
    {
     "name": "stdout",
     "output_type": "stream",
     "text": [
      "file not done yet ../data/raw/scBam/CB_TCGCGTTTCTGTACGA-*.bam\n",
      "file not done yet ../data/raw/scBam/CB_CGTTAGAAGAGTAATC-*.bam\n"
     ]
    },
    {
     "name": "stderr",
     "output_type": "stream",
     "text": [
      "\r",
      "  3%|▎         | 2051/75923 [11:08<6:46:25,  3.03it/s]"
     ]
    },
    {
     "name": "stdout",
     "output_type": "stream",
     "text": [
      "file not done yet ../data/raw/scBam/CB_CACAGGCGTCATTAGC-*.bam\n"
     ]
    },
    {
     "name": "stderr",
     "output_type": "stream",
     "text": [
      "\r",
      "  3%|▎         | 2052/75923 [11:08<6:15:34,  3.28it/s]"
     ]
    },
    {
     "name": "stdout",
     "output_type": "stream",
     "text": [
      "file not done yet ../data/raw/scBam/CB_TAAGCGTTCTCCCTGA-*.bam\n"
     ]
    },
    {
     "name": "stderr",
     "output_type": "stream",
     "text": [
      "\r",
      "  3%|▎         | 2053/75923 [11:09<5:50:09,  3.52it/s]"
     ]
    },
    {
     "name": "stdout",
     "output_type": "stream",
     "text": [
      "file not done yet ../data/raw/scBam/CB_TTGAACGGTACAGCAG-*.bam\n"
     ]
    },
    {
     "name": "stderr",
     "output_type": "stream",
     "text": [
      "\r",
      "  3%|▎         | 2054/75923 [11:09<5:27:29,  3.76it/s]"
     ]
    },
    {
     "name": "stdout",
     "output_type": "stream",
     "text": [
      "file not done yet ../data/raw/scBam/CB_CGATTGATCTCTTATG-*.bam\n"
     ]
    },
    {
     "name": "stderr",
     "output_type": "stream",
     "text": [
      "  3%|▎         | 2056/75923 [11:09<4:42:45,  4.35it/s]"
     ]
    },
    {
     "name": "stdout",
     "output_type": "stream",
     "text": [
      "file not done yet ../data/raw/scBam/CB_GCAGTTAGTTCCCTTG-*.bam\n",
      "file not done yet ../data/raw/scBam/CB_GGGTTGCAGGCTAGAC-*.bam\n"
     ]
    },
    {
     "name": "stderr",
     "output_type": "stream",
     "text": [
      "\r",
      "  3%|▎         | 2057/75923 [11:09<4:57:33,  4.14it/s]"
     ]
    },
    {
     "name": "stdout",
     "output_type": "stream",
     "text": [
      "file not done yet ../data/raw/scBam/CB_AGATTGCGTACGCTGC-*.bam\n"
     ]
    },
    {
     "name": "stderr",
     "output_type": "stream",
     "text": [
      "\r",
      "  3%|▎         | 2058/75923 [11:10<4:49:35,  4.25it/s]"
     ]
    },
    {
     "name": "stdout",
     "output_type": "stream",
     "text": [
      "file not done yet ../data/raw/scBam/CB_GCGCCAAGTAACGCGA-*.bam\n"
     ]
    },
    {
     "name": "stderr",
     "output_type": "stream",
     "text": [
      "\r",
      "  3%|▎         | 2059/75923 [11:10<4:37:47,  4.43it/s]"
     ]
    },
    {
     "name": "stdout",
     "output_type": "stream",
     "text": [
      "file not done yet ../data/raw/scBam/CB_CTAACTTCAATTGCTG-*.bam\n"
     ]
    },
    {
     "name": "stderr",
     "output_type": "stream",
     "text": [
      "  3%|▎         | 2061/75923 [11:10<4:27:22,  4.60it/s]"
     ]
    },
    {
     "name": "stdout",
     "output_type": "stream",
     "text": [
      "file not done yet ../data/raw/scBam/CB_GATCGCGTCACTTCAT-*.bam\n",
      "file not done yet ../data/raw/scBam/CB_ACGATGTTCCGATATG-*.bam\n"
     ]
    },
    {
     "name": "stderr",
     "output_type": "stream",
     "text": [
      "\r",
      "  3%|▎         | 2062/75923 [11:11<4:31:20,  4.54it/s]"
     ]
    },
    {
     "name": "stdout",
     "output_type": "stream",
     "text": [
      "file not done yet ../data/raw/scBam/CB_GGACGTCTCAACTCTT-*.bam\n"
     ]
    },
    {
     "name": "stderr",
     "output_type": "stream",
     "text": [
      "\r",
      "  3%|▎         | 2063/75923 [11:11<4:34:50,  4.48it/s]"
     ]
    },
    {
     "name": "stdout",
     "output_type": "stream",
     "text": [
      "file not done yet ../data/raw/scBam/CB_ATCATGGTCAGCCTAA-*.bam\n"
     ]
    },
    {
     "name": "stderr",
     "output_type": "stream",
     "text": [
      "  3%|▎         | 2065/75923 [11:11<4:15:40,  4.81it/s]"
     ]
    },
    {
     "name": "stdout",
     "output_type": "stream",
     "text": [
      "file not done yet ../data/raw/scBam/CB_TTATGCTAGCTGAAAT-*.bam\n",
      "file not done yet ../data/raw/scBam/CB_CAACCAAAGCTAACAA-*.bam\n"
     ]
    },
    {
     "name": "stderr",
     "output_type": "stream",
     "text": [
      "\r",
      "  3%|▎         | 2066/75923 [11:11<4:17:05,  4.79it/s]"
     ]
    },
    {
     "name": "stdout",
     "output_type": "stream",
     "text": [
      "file not done yet ../data/raw/scBam/CB_TTGCGTCCATACGCTA-*.bam\n"
     ]
    },
    {
     "name": "stderr",
     "output_type": "stream",
     "text": [
      "\r",
      "  3%|▎         | 2067/75923 [11:12<4:18:42,  4.76it/s]"
     ]
    },
    {
     "name": "stdout",
     "output_type": "stream",
     "text": [
      "file not done yet ../data/raw/scBam/CB_CACATTTCAACTGGCC-*.bam\n"
     ]
    },
    {
     "name": "stderr",
     "output_type": "stream",
     "text": [
      "  3%|▎         | 2069/75923 [11:12<4:14:37,  4.83it/s]"
     ]
    },
    {
     "name": "stdout",
     "output_type": "stream",
     "text": [
      "file not done yet ../data/raw/scBam/CB_TCTTCGGAGGCGTACA-*.bam\n",
      "file not done yet ../data/raw/scBam/CB_TGCCAAATCATCGCTC-*.bam\n"
     ]
    },
    {
     "name": "stderr",
     "output_type": "stream",
     "text": [
      "\r",
      "  3%|▎         | 2070/75923 [11:12<4:20:23,  4.73it/s]"
     ]
    },
    {
     "name": "stdout",
     "output_type": "stream",
     "text": [
      "file not done yet ../data/raw/scBam/CB_GAATGAAAGTGGGTTG-*.bam\n"
     ]
    },
    {
     "name": "stderr",
     "output_type": "stream",
     "text": [
      "\r",
      "  3%|▎         | 2071/75923 [11:12<4:43:26,  4.34it/s]"
     ]
    },
    {
     "name": "stdout",
     "output_type": "stream",
     "text": [
      "file not done yet ../data/raw/scBam/CB_CAGAGAGAGCAGACTG-*.bam\n"
     ]
    },
    {
     "name": "stderr",
     "output_type": "stream",
     "text": [
      "\r",
      "  3%|▎         | 2072/75923 [11:13<4:37:57,  4.43it/s]"
     ]
    },
    {
     "name": "stdout",
     "output_type": "stream",
     "text": [
      "file not done yet ../data/raw/scBam/CB_CTTAGGATCGCCATAA-*.bam\n"
     ]
    },
    {
     "name": "stderr",
     "output_type": "stream",
     "text": [
      "\r",
      "  3%|▎         | 2073/75923 [11:13<4:36:45,  4.45it/s]"
     ]
    },
    {
     "name": "stdout",
     "output_type": "stream",
     "text": [
      "file not done yet ../data/raw/scBam/CB_ACGCAGCCATTAGGCT-*.bam\n"
     ]
    },
    {
     "name": "stderr",
     "output_type": "stream",
     "text": [
      "\r",
      "  3%|▎         | 2074/75923 [11:13<4:45:20,  4.31it/s]"
     ]
    },
    {
     "name": "stdout",
     "output_type": "stream",
     "text": [
      "file not done yet ../data/raw/scBam/CB_TCTTCGGCAATTCCTT-*.bam\n",
      "python /home/isshamie/software/mito-genotyping/exampleProcessing//01_pileup_counts.py ../data/raw/scBam/CB_ACCAGTATCGCGGATC-1.bam ../data/raw/scPileup/CB_ACCAGTATCGCGGATC-1 16571 0 ACCAGTATCGCGGATC-1.bam 0\n"
     ]
    },
    {
     "name": "stderr",
     "output_type": "stream",
     "text": [
      "  3%|▎         | 2076/75923 [11:15<12:34:12,  1.63it/s]"
     ]
    },
    {
     "name": "stdout",
     "output_type": "stream",
     "text": [
      "file not done yet ../data/raw/scBam/CB_GTCTCGTAGCCAGTTT-*.bam\n"
     ]
    },
    {
     "name": "stderr",
     "output_type": "stream",
     "text": [
      "\r",
      "  3%|▎         | 2077/75923 [11:16<10:10:47,  2.02it/s]"
     ]
    },
    {
     "name": "stdout",
     "output_type": "stream",
     "text": [
      "file not done yet ../data/raw/scBam/CB_CGTGAGCGTCTCTTAT-*.bam\n"
     ]
    },
    {
     "name": "stderr",
     "output_type": "stream",
     "text": [
      "\r",
      "  3%|▎         | 2078/75923 [11:16<8:34:57,  2.39it/s] "
     ]
    },
    {
     "name": "stdout",
     "output_type": "stream",
     "text": [
      "file not done yet ../data/raw/scBam/CB_TACACGATCACCCTCA-*.bam\n"
     ]
    },
    {
     "name": "stderr",
     "output_type": "stream",
     "text": [
      "  3%|▎         | 2080/75923 [11:16<6:16:30,  3.27it/s]"
     ]
    },
    {
     "name": "stdout",
     "output_type": "stream",
     "text": [
      "file not done yet ../data/raw/scBam/CB_CCCATACAGTAGGCCA-*.bam\n",
      "file not done yet ../data/raw/scBam/CB_TTTACTGAGAAACGCC-*.bam\n"
     ]
    },
    {
     "name": "stderr",
     "output_type": "stream",
     "text": [
      "\r",
      "  3%|▎         | 2081/75923 [11:17<5:41:43,  3.60it/s]"
     ]
    },
    {
     "name": "stdout",
     "output_type": "stream",
     "text": [
      "file not done yet ../data/raw/scBam/CB_TGACGGCAGACTAGGC-*.bam\n"
     ]
    },
    {
     "name": "stderr",
     "output_type": "stream",
     "text": [
      "\r",
      "  3%|▎         | 2082/75923 [11:17<5:23:45,  3.80it/s]"
     ]
    },
    {
     "name": "stdout",
     "output_type": "stream",
     "text": [
      "file not done yet ../data/raw/scBam/CB_TCTTTCCGTGAACCTT-*.bam\n"
     ]
    },
    {
     "name": "stderr",
     "output_type": "stream",
     "text": [
      "\r",
      "  3%|▎         | 2083/75923 [11:17<5:11:36,  3.95it/s]"
     ]
    },
    {
     "name": "stdout",
     "output_type": "stream",
     "text": [
      "file not done yet ../data/raw/scBam/CB_AGTAGTCTCTCCAACC-*.bam\n"
     ]
    },
    {
     "name": "stderr",
     "output_type": "stream",
     "text": [
      "\r",
      "  3%|▎         | 2084/75923 [11:17<4:58:46,  4.12it/s]"
     ]
    },
    {
     "name": "stdout",
     "output_type": "stream",
     "text": [
      "file not done yet ../data/raw/scBam/CB_CGTTCTGAGTCCGTAT-*.bam\n"
     ]
    },
    {
     "name": "stderr",
     "output_type": "stream",
     "text": [
      "  3%|▎         | 2086/75923 [11:18<4:49:44,  4.25it/s]"
     ]
    },
    {
     "name": "stdout",
     "output_type": "stream",
     "text": [
      "file not done yet ../data/raw/scBam/CB_CATCAAGAGTGGTAAT-*.bam\n",
      "file not done yet ../data/raw/scBam/CB_TAGCCGGCATGAGCGA-*.bam\n"
     ]
    },
    {
     "name": "stderr",
     "output_type": "stream",
     "text": [
      "\r",
      "  3%|▎         | 2087/75923 [11:18<4:40:50,  4.38it/s]"
     ]
    },
    {
     "name": "stdout",
     "output_type": "stream",
     "text": [
      "file not done yet ../data/raw/scBam/CB_TAGTTGGTCATTTGGG-*.bam\n",
      "python /home/isshamie/software/mito-genotyping/exampleProcessing//01_pileup_counts.py ../data/raw/scBam/CB_AAATGCCCATGACGGA-1.bam ../data/raw/scPileup/CB_AAATGCCCATGACGGA-1 16571 0 AAATGCCCATGACGGA-1.bam 0\n"
     ]
    },
    {
     "name": "stderr",
     "output_type": "stream",
     "text": [
      "  3%|▎         | 2089/75923 [11:19<9:28:39,  2.16it/s] "
     ]
    },
    {
     "name": "stdout",
     "output_type": "stream",
     "text": [
      "file not done yet ../data/raw/scBam/CB_CACAGGCCATGTCGAT-*.bam\n",
      "python /home/isshamie/software/mito-genotyping/exampleProcessing//01_pileup_counts.py ../data/raw/scBam/CB_ACCAGTAAGGCATTGG-1.bam ../data/raw/scPileup/CB_ACCAGTAAGGCATTGG-1 16571 0 ACCAGTAAGGCATTGG-1.bam 0\n"
     ]
    },
    {
     "name": "stderr",
     "output_type": "stream",
     "text": [
      "  3%|▎         | 2092/75923 [11:22<11:06:23,  1.85it/s]"
     ]
    },
    {
     "name": "stdout",
     "output_type": "stream",
     "text": [
      "file not done yet ../data/raw/scBam/CB_CCTATTAAGGGTGTGT-*.bam\n",
      "file not done yet ../data/raw/scBam/CB_ATTCTACAGAAGGCCT-*.bam\n"
     ]
    },
    {
     "name": "stderr",
     "output_type": "stream",
     "text": [
      "\r",
      "  3%|▎         | 2093/75923 [11:22<8:45:28,  2.34it/s] "
     ]
    },
    {
     "name": "stdout",
     "output_type": "stream",
     "text": [
      "file not done yet ../data/raw/scBam/CB_GTCACAACAATTGCTG-*.bam\n",
      "python /home/isshamie/software/mito-genotyping/exampleProcessing//01_pileup_counts.py ../data/raw/scBam/CB_AATCGGTTCTCTTGAT-1.bam ../data/raw/scPileup/CB_AATCGGTTCTCTTGAT-1 16571 0 AATCGGTTCTCTTGAT-1.bam 0\n"
     ]
    },
    {
     "name": "stderr",
     "output_type": "stream",
     "text": [
      "  3%|▎         | 2096/75923 [11:23<8:10:35,  2.51it/s] "
     ]
    },
    {
     "name": "stdout",
     "output_type": "stream",
     "text": [
      "file not done yet ../data/raw/scBam/CB_GTGCGGTCAGGACCCT-*.bam\n",
      "file not done yet ../data/raw/scBam/CB_CTCTAATGTCGCATAT-*.bam\n"
     ]
    },
    {
     "name": "stderr",
     "output_type": "stream",
     "text": [
      "\r",
      "  3%|▎         | 2097/75923 [11:24<6:55:08,  2.96it/s]"
     ]
    },
    {
     "name": "stdout",
     "output_type": "stream",
     "text": [
      "file not done yet ../data/raw/scBam/CB_CACCACTAGTTCCACA-*.bam\n"
     ]
    },
    {
     "name": "stderr",
     "output_type": "stream",
     "text": [
      "  3%|▎         | 2099/75923 [11:24<5:30:45,  3.72it/s]"
     ]
    },
    {
     "name": "stdout",
     "output_type": "stream",
     "text": [
      "file not done yet ../data/raw/scBam/CB_ATCACGACAATAAGCA-*.bam\n",
      "file not done yet ../data/raw/scBam/CB_CCACTACTCTTAGCCC-*.bam\n"
     ]
    },
    {
     "name": "stderr",
     "output_type": "stream",
     "text": [
      "\r",
      "  3%|▎         | 2100/75923 [11:24<5:16:22,  3.89it/s]"
     ]
    },
    {
     "name": "stdout",
     "output_type": "stream",
     "text": [
      "file not done yet ../data/raw/scBam/CB_CGGACGTGTATAGTAG-*.bam\n"
     ]
    },
    {
     "name": "stderr",
     "output_type": "stream",
     "text": [
      "  3%|▎         | 2102/75923 [11:25<4:44:22,  4.33it/s]"
     ]
    },
    {
     "name": "stdout",
     "output_type": "stream",
     "text": [
      "file not done yet ../data/raw/scBam/CB_GACGTGCTCTAACCGA-*.bam\n",
      "file not done yet ../data/raw/scBam/CB_AGCTCTCCAATCAGAA-*.bam\n"
     ]
    },
    {
     "name": "stderr",
     "output_type": "stream",
     "text": [
      "\r",
      "  3%|▎         | 2103/75923 [11:25<4:30:39,  4.55it/s]"
     ]
    },
    {
     "name": "stdout",
     "output_type": "stream",
     "text": [
      "file not done yet ../data/raw/scBam/CB_CGGAGTCCAGACGCCT-*.bam\n"
     ]
    },
    {
     "name": "stderr",
     "output_type": "stream",
     "text": [
      "\r",
      "  3%|▎         | 2104/75923 [11:25<4:26:02,  4.62it/s]"
     ]
    },
    {
     "name": "stdout",
     "output_type": "stream",
     "text": [
      "file not done yet ../data/raw/scBam/CB_TAAACCGTCGCGCCAA-*.bam\n"
     ]
    },
    {
     "name": "stderr",
     "output_type": "stream",
     "text": [
      "\r",
      "  3%|▎         | 2105/75923 [11:25<4:39:45,  4.40it/s]"
     ]
    },
    {
     "name": "stdout",
     "output_type": "stream",
     "text": [
      "file not done yet ../data/raw/scBam/CB_CACAGTAGTTTGCATG-*.bam\n"
     ]
    },
    {
     "name": "stderr",
     "output_type": "stream",
     "text": [
      "\r",
      "  3%|▎         | 2106/75923 [11:26<4:33:15,  4.50it/s]"
     ]
    },
    {
     "name": "stdout",
     "output_type": "stream",
     "text": [
      "file not done yet ../data/raw/scBam/CB_GTCGTAAAGAGTGACC-*.bam\n"
     ]
    },
    {
     "name": "stderr",
     "output_type": "stream",
     "text": [
      "\r",
      "  3%|▎         | 2107/75923 [11:26<4:50:12,  4.24it/s]"
     ]
    },
    {
     "name": "stdout",
     "output_type": "stream",
     "text": [
      "file not done yet ../data/raw/scBam/CB_GACAGAGCACCAGTTA-*.bam\n"
     ]
    },
    {
     "name": "stderr",
     "output_type": "stream",
     "text": [
      "\r",
      "  3%|▎         | 2108/75923 [11:26<4:49:33,  4.25it/s]"
     ]
    },
    {
     "name": "stdout",
     "output_type": "stream",
     "text": [
      "file not done yet ../data/raw/scBam/CB_GTGCGGTAGAGGGATA-*.bam\n"
     ]
    },
    {
     "name": "stderr",
     "output_type": "stream",
     "text": [
      "\r",
      "  3%|▎         | 2109/75923 [11:26<4:55:32,  4.16it/s]"
     ]
    },
    {
     "name": "stdout",
     "output_type": "stream",
     "text": [
      "file not done yet ../data/raw/scBam/CB_ACGGGCTCAAAGGAAG-*.bam\n",
      "python /home/isshamie/software/mito-genotyping/exampleProcessing//01_pileup_counts.py ../data/raw/scBam/CB_ACAGCTAAGAGGGATA-1.bam ../data/raw/scPileup/CB_ACAGCTAAGAGGGATA-1 16571 0 ACAGCTAAGAGGGATA-1.bam 0\n"
     ]
    },
    {
     "name": "stderr",
     "output_type": "stream",
     "text": [
      "  3%|▎         | 2111/75923 [11:28<10:49:56,  1.89it/s]"
     ]
    },
    {
     "name": "stdout",
     "output_type": "stream",
     "text": [
      "file not done yet ../data/raw/scBam/CB_CAACTAGCATCCTAGA-*.bam\n"
     ]
    },
    {
     "name": "stderr",
     "output_type": "stream",
     "text": [
      "\r",
      "  3%|▎         | 2112/75923 [11:28<8:51:35,  2.31it/s] "
     ]
    },
    {
     "name": "stdout",
     "output_type": "stream",
     "text": [
      "file not done yet ../data/raw/scBam/CB_GGCTGGTTCGTACCGG-*.bam\n",
      "python /home/isshamie/software/mito-genotyping/exampleProcessing//01_pileup_counts.py ../data/raw/scBam/CB_AACCGCGTCTGCGACG-1.bam ../data/raw/scPileup/CB_AACCGCGTCTGCGACG-1 16571 0 AACCGCGTCTGCGACG-1.bam 0\n"
     ]
    },
    {
     "name": "stderr",
     "output_type": "stream",
     "text": [
      "  3%|▎         | 2115/75923 [11:31<10:32:25,  1.95it/s]"
     ]
    },
    {
     "name": "stdout",
     "output_type": "stream",
     "text": [
      "file not done yet ../data/raw/scBam/CB_TTGACTTTCCTCTAGC-*.bam\n",
      "file not done yet ../data/raw/scBam/CB_GTAGTCAGTGAGTGAC-*.bam\n"
     ]
    },
    {
     "name": "stderr",
     "output_type": "stream",
     "text": [
      "  3%|▎         | 2117/75923 [11:31<7:02:10,  2.91it/s] "
     ]
    },
    {
     "name": "stdout",
     "output_type": "stream",
     "text": [
      "file not done yet ../data/raw/scBam/CB_TGACTTTCAAGGGTCA-*.bam\n",
      "file not done yet ../data/raw/scBam/CB_CTCACACTCACTATTC-*.bam\n",
      "python /home/isshamie/software/mito-genotyping/exampleProcessing//01_pileup_counts.py ../data/raw/scBam/CB_AACTGGTGTGAAAGAG-1.bam ../data/raw/scPileup/CB_AACTGGTGTGAAAGAG-1 16571 0 AACTGGTGTGAAAGAG-1.bam 0\n"
     ]
    },
    {
     "name": "stderr",
     "output_type": "stream",
     "text": [
      "  3%|▎         | 2120/75923 [11:33<9:07:57,  2.24it/s] "
     ]
    },
    {
     "name": "stdout",
     "output_type": "stream",
     "text": [
      "file not done yet ../data/raw/scBam/CB_CTCGGGAAGAGAACAG-*.bam\n",
      "file not done yet ../data/raw/scBam/CB_ACGAGGAGTGACTCAT-*.bam\n"
     ]
    },
    {
     "name": "stderr",
     "output_type": "stream",
     "text": [
      "  3%|▎         | 2122/75923 [11:33<6:21:13,  3.23it/s]"
     ]
    },
    {
     "name": "stdout",
     "output_type": "stream",
     "text": [
      "file not done yet ../data/raw/scBam/CB_TCCACACGTCGAAAGC-*.bam\n",
      "file not done yet ../data/raw/scBam/CB_CGAGCCAAGAATTCCC-*.bam\n"
     ]
    },
    {
     "name": "stderr",
     "output_type": "stream",
     "text": [
      "  3%|▎         | 2124/75923 [11:34<5:23:08,  3.81it/s]"
     ]
    },
    {
     "name": "stdout",
     "output_type": "stream",
     "text": [
      "file not done yet ../data/raw/scBam/CB_CTCGAAAAGCAGATCG-*.bam\n",
      "file not done yet ../data/raw/scBam/CB_CATCCACCAGGCAGTA-*.bam\n"
     ]
    },
    {
     "name": "stderr",
     "output_type": "stream",
     "text": [
      "\r",
      "  3%|▎         | 2125/75923 [11:34<4:52:38,  4.20it/s]"
     ]
    },
    {
     "name": "stdout",
     "output_type": "stream",
     "text": [
      "file not done yet ../data/raw/scBam/CB_TTAACTCGTATAGGTA-*.bam\n"
     ]
    },
    {
     "name": "stderr",
     "output_type": "stream",
     "text": [
      "\r",
      "  3%|▎         | 2126/75923 [11:34<4:42:34,  4.35it/s]"
     ]
    },
    {
     "name": "stdout",
     "output_type": "stream",
     "text": [
      "file not done yet ../data/raw/scBam/CB_AGGGATGGTTGCTCCT-*.bam\n"
     ]
    },
    {
     "name": "stderr",
     "output_type": "stream",
     "text": [
      "  3%|▎         | 2128/75923 [11:34<4:35:49,  4.46it/s]"
     ]
    },
    {
     "name": "stdout",
     "output_type": "stream",
     "text": [
      "file not done yet ../data/raw/scBam/CB_GTCCTCAAGACGCACA-*.bam\n",
      "file not done yet ../data/raw/scBam/CB_CTACGTCGTCGCATCG-*.bam\n"
     ]
    },
    {
     "name": "stderr",
     "output_type": "stream",
     "text": [
      "\r",
      "  3%|▎         | 2129/75923 [11:35<4:33:23,  4.50it/s]"
     ]
    },
    {
     "name": "stdout",
     "output_type": "stream",
     "text": [
      "file not done yet ../data/raw/scBam/CB_TTCTACATCCACGTTC-*.bam\n"
     ]
    },
    {
     "name": "stderr",
     "output_type": "stream",
     "text": [
      "  3%|▎         | 2131/75923 [11:35<4:24:50,  4.64it/s]"
     ]
    },
    {
     "name": "stdout",
     "output_type": "stream",
     "text": [
      "file not done yet ../data/raw/scBam/CB_CTCTAATAGCGTGTCC-*.bam\n",
      "file not done yet ../data/raw/scBam/CB_GGAATAAAGGGAACGG-*.bam\n"
     ]
    },
    {
     "name": "stderr",
     "output_type": "stream",
     "text": [
      "\r",
      "  3%|▎         | 2132/75923 [11:35<4:23:15,  4.67it/s]"
     ]
    },
    {
     "name": "stdout",
     "output_type": "stream",
     "text": [
      "file not done yet ../data/raw/scBam/CB_AGCTCCTAGCGAAGGG-*.bam\n"
     ]
    },
    {
     "name": "stderr",
     "output_type": "stream",
     "text": [
      "  3%|▎         | 2134/75923 [11:36<4:15:33,  4.81it/s]"
     ]
    },
    {
     "name": "stdout",
     "output_type": "stream",
     "text": [
      "file not done yet ../data/raw/scBam/CB_CTTGGCTTCTTTAGTC-*.bam\n",
      "file not done yet ../data/raw/scBam/CB_GGAAAGCGTGCAACTT-*.bam\n"
     ]
    },
    {
     "name": "stderr",
     "output_type": "stream",
     "text": [
      "\r",
      "  3%|▎         | 2135/75923 [11:36<4:13:50,  4.84it/s]"
     ]
    },
    {
     "name": "stdout",
     "output_type": "stream",
     "text": [
      "file not done yet ../data/raw/scBam/CB_ATTATCCAGCCAGTAG-*.bam\n"
     ]
    },
    {
     "name": "stderr",
     "output_type": "stream",
     "text": [
      "  3%|▎         | 2137/75923 [11:36<4:12:33,  4.87it/s]"
     ]
    },
    {
     "name": "stdout",
     "output_type": "stream",
     "text": [
      "file not done yet ../data/raw/scBam/CB_TCATTTGAGCTGCGAA-*.bam\n",
      "file not done yet ../data/raw/scBam/CB_CGGCTAGAGGGTCGAT-*.bam\n"
     ]
    },
    {
     "name": "stderr",
     "output_type": "stream",
     "text": [
      "  3%|▎         | 2139/75923 [11:37<4:00:18,  5.12it/s]"
     ]
    },
    {
     "name": "stdout",
     "output_type": "stream",
     "text": [
      "file not done yet ../data/raw/scBam/CB_CGCGTTTGTCTGCAAT-*.bam\n",
      "file not done yet ../data/raw/scBam/CB_CCCAGTTGTAATCACC-*.bam\n"
     ]
    },
    {
     "name": "stderr",
     "output_type": "stream",
     "text": [
      "  3%|▎         | 2141/75923 [11:37<4:07:29,  4.97it/s]"
     ]
    },
    {
     "name": "stdout",
     "output_type": "stream",
     "text": [
      "file not done yet ../data/raw/scBam/CB_TGTTCCGGTGCGATAG-*.bam\n",
      "file not done yet ../data/raw/scBam/CB_ACGTCAAAGCACGCCT-*.bam\n"
     ]
    },
    {
     "name": "stderr",
     "output_type": "stream",
     "text": [
      "\r",
      "  3%|▎         | 2142/75923 [11:37<4:14:26,  4.83it/s]"
     ]
    },
    {
     "name": "stdout",
     "output_type": "stream",
     "text": [
      "file not done yet ../data/raw/scBam/CB_TGACGGCTCGCACTCT-*.bam\n"
     ]
    },
    {
     "name": "stderr",
     "output_type": "stream",
     "text": [
      "  3%|▎         | 2144/75923 [11:38<4:16:52,  4.79it/s]"
     ]
    },
    {
     "name": "stdout",
     "output_type": "stream",
     "text": [
      "file not done yet ../data/raw/scBam/CB_GCGCCAATCGCGATCG-*.bam\n",
      "file not done yet ../data/raw/scBam/CB_TCATTTGCATTTGCTT-*.bam\n"
     ]
    },
    {
     "name": "stderr",
     "output_type": "stream",
     "text": [
      "  3%|▎         | 2146/75923 [11:38<3:50:42,  5.33it/s]"
     ]
    },
    {
     "name": "stdout",
     "output_type": "stream",
     "text": [
      "file not done yet ../data/raw/scBam/CB_ACTGTCCTCCGCGGTA-*.bam\n",
      "file not done yet ../data/raw/scBam/CB_GTTAAGCAGTCGATAA-*.bam\n"
     ]
    },
    {
     "name": "stderr",
     "output_type": "stream",
     "text": [
      "\r",
      "  3%|▎         | 2147/75923 [11:38<3:57:14,  5.18it/s]"
     ]
    },
    {
     "name": "stdout",
     "output_type": "stream",
     "text": [
      "file not done yet ../data/raw/scBam/CB_CGGGTCAGTGTGCCTG-*.bam\n"
     ]
    },
    {
     "name": "stderr",
     "output_type": "stream",
     "text": [
      "  3%|▎         | 2149/75923 [11:39<3:53:04,  5.28it/s]"
     ]
    },
    {
     "name": "stdout",
     "output_type": "stream",
     "text": [
      "file not done yet ../data/raw/scBam/CB_GAACATCTCGAGAACG-*.bam\n",
      "file not done yet ../data/raw/scBam/CB_CCTAAAGGTTTGTTGG-*.bam\n"
     ]
    },
    {
     "name": "stderr",
     "output_type": "stream",
     "text": [
      "\r",
      "  3%|▎         | 2150/75923 [11:39<3:55:18,  5.23it/s]"
     ]
    },
    {
     "name": "stdout",
     "output_type": "stream",
     "text": [
      "file not done yet ../data/raw/scBam/CB_GGATGTTCAGGGTTAG-*.bam\n"
     ]
    },
    {
     "name": "stderr",
     "output_type": "stream",
     "text": [
      "\r",
      "  3%|▎         | 2151/75923 [11:39<4:30:44,  4.54it/s]"
     ]
    },
    {
     "name": "stdout",
     "output_type": "stream",
     "text": [
      "file not done yet ../data/raw/scBam/CB_CAACCTCAGAGAACAG-*.bam\n"
     ]
    },
    {
     "name": "stderr",
     "output_type": "stream",
     "text": [
      "  3%|▎         | 2153/75923 [11:40<4:12:41,  4.87it/s]"
     ]
    },
    {
     "name": "stdout",
     "output_type": "stream",
     "text": [
      "file not done yet ../data/raw/scBam/CB_CAAGATCGTCGTGGCT-*.bam\n",
      "file not done yet ../data/raw/scBam/CB_CTTTGCGGTGCTTCTC-*.bam\n"
     ]
    },
    {
     "name": "stderr",
     "output_type": "stream",
     "text": [
      "\r",
      "  3%|▎         | 2154/75923 [11:40<4:05:20,  5.01it/s]"
     ]
    },
    {
     "name": "stdout",
     "output_type": "stream",
     "text": [
      "file not done yet ../data/raw/scBam/CB_TCACGAAAGATGCCAG-*.bam\n"
     ]
    },
    {
     "name": "stderr",
     "output_type": "stream",
     "text": [
      "  3%|▎         | 2156/75923 [11:40<4:05:06,  5.02it/s]"
     ]
    },
    {
     "name": "stdout",
     "output_type": "stream",
     "text": [
      "file not done yet ../data/raw/scBam/CB_ACGCAGCCAGGATCGA-*.bam\n",
      "file not done yet ../data/raw/scBam/CB_CTGATCCTCAACGGGA-*.bam\n"
     ]
    },
    {
     "name": "stderr",
     "output_type": "stream",
     "text": [
      "  3%|▎         | 2158/75923 [11:41<3:51:43,  5.31it/s]"
     ]
    },
    {
     "name": "stdout",
     "output_type": "stream",
     "text": [
      "file not done yet ../data/raw/scBam/CB_GATCGATTCTTGTACT-*.bam\n",
      "file not done yet ../data/raw/scBam/CB_ACTGAACTCGTACCGG-*.bam\n"
     ]
    },
    {
     "name": "stderr",
     "output_type": "stream",
     "text": [
      "\r",
      "  3%|▎         | 2159/75923 [11:41<4:01:30,  5.09it/s]"
     ]
    },
    {
     "name": "stdout",
     "output_type": "stream",
     "text": [
      "file not done yet ../data/raw/scBam/CB_CCTATTATCAAACCGT-*.bam\n"
     ]
    },
    {
     "name": "stderr",
     "output_type": "stream",
     "text": [
      "  3%|▎         | 2161/75923 [11:41<4:10:59,  4.90it/s]"
     ]
    },
    {
     "name": "stdout",
     "output_type": "stream",
     "text": [
      "file not done yet ../data/raw/scBam/CB_CATTCGCAGGATGGAA-*.bam\n",
      "file not done yet ../data/raw/scBam/CB_GTCATTTCATCGTCGG-*.bam\n"
     ]
    },
    {
     "name": "stderr",
     "output_type": "stream",
     "text": [
      "\r",
      "  3%|▎         | 2162/75923 [11:41<4:12:41,  4.87it/s]"
     ]
    },
    {
     "name": "stdout",
     "output_type": "stream",
     "text": [
      "file not done yet ../data/raw/scBam/CB_ACTATCTCAGACGTAG-*.bam\n"
     ]
    },
    {
     "name": "stderr",
     "output_type": "stream",
     "text": [
      "\r",
      "  3%|▎         | 2163/75923 [11:42<4:17:24,  4.78it/s]"
     ]
    },
    {
     "name": "stdout",
     "output_type": "stream",
     "text": [
      "file not done yet ../data/raw/scBam/CB_GCAATCATCCCTAACC-*.bam\n"
     ]
    },
    {
     "name": "stderr",
     "output_type": "stream",
     "text": [
      "\r",
      "  3%|▎         | 2164/75923 [11:42<4:18:54,  4.75it/s]"
     ]
    },
    {
     "name": "stdout",
     "output_type": "stream",
     "text": [
      "file not done yet ../data/raw/scBam/CB_GTACTTTAGTTCCACA-*.bam\n"
     ]
    },
    {
     "name": "stderr",
     "output_type": "stream",
     "text": [
      "  3%|▎         | 2166/75923 [11:42<4:11:26,  4.89it/s]"
     ]
    },
    {
     "name": "stdout",
     "output_type": "stream",
     "text": [
      "file not done yet ../data/raw/scBam/CB_GACGTGCGTTATCACG-*.bam\n",
      "file not done yet ../data/raw/scBam/CB_TAAACCGGTAAGAGAG-*.bam\n"
     ]
    },
    {
     "name": "stderr",
     "output_type": "stream",
     "text": [
      "\r",
      "  3%|▎         | 2167/75923 [11:42<4:02:33,  5.07it/s]"
     ]
    },
    {
     "name": "stdout",
     "output_type": "stream",
     "text": [
      "file not done yet ../data/raw/scBam/CB_CCGTTCAGTAGCTGCC-*.bam\n"
     ]
    },
    {
     "name": "stderr",
     "output_type": "stream",
     "text": [
      "\r",
      "  3%|▎         | 2168/75923 [11:43<4:06:10,  4.99it/s]"
     ]
    },
    {
     "name": "stdout",
     "output_type": "stream",
     "text": [
      "file not done yet ../data/raw/scBam/CB_AGGCCGTCACGGATAG-*.bam\n"
     ]
    },
    {
     "name": "stderr",
     "output_type": "stream",
     "text": [
      "  3%|▎         | 2170/75923 [11:43<4:18:01,  4.76it/s]"
     ]
    },
    {
     "name": "stdout",
     "output_type": "stream",
     "text": [
      "file not done yet ../data/raw/scBam/CB_TAAGAGAAGAGATGAG-*.bam\n",
      "file not done yet ../data/raw/scBam/CB_TGTTCCGAGCCTTGAT-*.bam\n"
     ]
    },
    {
     "name": "stderr",
     "output_type": "stream",
     "text": [
      "\r",
      "  3%|▎         | 2171/75923 [11:43<4:19:04,  4.74it/s]"
     ]
    },
    {
     "name": "stdout",
     "output_type": "stream",
     "text": [
      "file not done yet ../data/raw/scBam/CB_GATCGCGAGCTTCGCG-*.bam\n"
     ]
    },
    {
     "name": "stderr",
     "output_type": "stream",
     "text": [
      "\r",
      "  3%|▎         | 2172/75923 [11:44<4:35:37,  4.46it/s]"
     ]
    },
    {
     "name": "stdout",
     "output_type": "stream",
     "text": [
      "file not done yet ../data/raw/scBam/CB_ACTGTCCGTATAAACG-*.bam\n"
     ]
    },
    {
     "name": "stderr",
     "output_type": "stream",
     "text": [
      "\r",
      "  3%|▎         | 2173/75923 [11:44<4:51:27,  4.22it/s]"
     ]
    },
    {
     "name": "stdout",
     "output_type": "stream",
     "text": [
      "file not done yet ../data/raw/scBam/CB_CGTGAGCGTAAGTTCC-*.bam\n"
     ]
    },
    {
     "name": "stderr",
     "output_type": "stream",
     "text": [
      "\r",
      "  3%|▎         | 2174/75923 [11:44<4:50:45,  4.23it/s]"
     ]
    },
    {
     "name": "stdout",
     "output_type": "stream",
     "text": [
      "file not done yet ../data/raw/scBam/CB_GTAGGCCTCCACGACG-*.bam\n"
     ]
    },
    {
     "name": "stderr",
     "output_type": "stream",
     "text": [
      "  3%|▎         | 2176/75923 [11:44<4:25:47,  4.62it/s]"
     ]
    },
    {
     "name": "stdout",
     "output_type": "stream",
     "text": [
      "file not done yet ../data/raw/scBam/CB_CATGGCGTCGGATGGA-*.bam\n",
      "file not done yet ../data/raw/scBam/CB_TGCGGGTGTCAAAGAT-*.bam\n"
     ]
    },
    {
     "name": "stderr",
     "output_type": "stream",
     "text": [
      "\r",
      "  3%|▎         | 2177/75923 [11:45<4:13:36,  4.85it/s]"
     ]
    },
    {
     "name": "stdout",
     "output_type": "stream",
     "text": [
      "file not done yet ../data/raw/scBam/CB_CGTCCATTCCTATGTT-*.bam\n",
      "python /home/isshamie/software/mito-genotyping/exampleProcessing//01_pileup_counts.py ../data/raw/scBam/CB_AATCCAGAGCTAGCCC-1.bam ../data/raw/scPileup/CB_AATCCAGAGCTAGCCC-1 16571 0 AATCCAGAGCTAGCCC-1.bam 0\n"
     ]
    },
    {
     "name": "stderr",
     "output_type": "stream",
     "text": [
      "  3%|▎         | 2179/75923 [11:46<10:02:29,  2.04it/s]"
     ]
    },
    {
     "name": "stdout",
     "output_type": "stream",
     "text": [
      "file not done yet ../data/raw/scBam/CB_ACGTCAAGTGCAGGTA-*.bam\n",
      "file not done yet ../data/raw/scBam/CB_GGCCGATGTACCATCA-*.bam\n"
     ]
    },
    {
     "name": "stderr",
     "output_type": "stream",
     "text": [
      "\r",
      "  3%|▎         | 2181/75923 [11:47<7:53:12,  2.60it/s] "
     ]
    },
    {
     "name": "stdout",
     "output_type": "stream",
     "text": [
      "file not done yet ../data/raw/scBam/CB_TTCTTAGTCCTTAATC-*.bam\n",
      "python /home/isshamie/software/mito-genotyping/exampleProcessing//01_pileup_counts.py ../data/raw/scBam/CB_AAAGCAAGTTAAGGGC-1.bam ../data/raw/scPileup/CB_AAAGCAAGTTAAGGGC-1 16571 0 AAAGCAAGTTAAGGGC-1.bam 0\n"
     ]
    },
    {
     "name": "stderr",
     "output_type": "stream",
     "text": [
      "  3%|▎         | 2183/75923 [11:48<12:05:34,  1.69it/s]"
     ]
    },
    {
     "name": "stdout",
     "output_type": "stream",
     "text": [
      "file not done yet ../data/raw/scBam/CB_TCAGCTCAGTCCTCCT-*.bam\n"
     ]
    },
    {
     "name": "stderr",
     "output_type": "stream",
     "text": [
      "\r",
      "  3%|▎         | 2184/75923 [11:49<9:50:39,  2.08it/s] "
     ]
    },
    {
     "name": "stdout",
     "output_type": "stream",
     "text": [
      "file not done yet ../data/raw/scBam/CB_TAGAGCTGTACTTGAC-*.bam\n",
      "python /home/isshamie/software/mito-genotyping/exampleProcessing//01_pileup_counts.py ../data/raw/scBam/CB_ACCGTAAAGCGTAATA-1.bam ../data/raw/scPileup/CB_ACCGTAAAGCGTAATA-1 16571 0 ACCGTAAAGCGTAATA-1.bam 0\n"
     ]
    },
    {
     "name": "stderr",
     "output_type": "stream",
     "text": [
      "  3%|▎         | 2186/75923 [11:52<20:50:12,  1.02s/it]"
     ]
    },
    {
     "name": "stdout",
     "output_type": "stream",
     "text": [
      "file not done yet ../data/raw/scBam/CB_ACGGGTCCAGGAACGT-*.bam\n"
     ]
    },
    {
     "name": "stderr",
     "output_type": "stream",
     "text": [
      "  3%|▎         | 2188/75923 [11:53<12:14:00,  1.67it/s]"
     ]
    },
    {
     "name": "stdout",
     "output_type": "stream",
     "text": [
      "file not done yet ../data/raw/scBam/CB_CAAGGCCCACACCGAC-*.bam\n",
      "file not done yet ../data/raw/scBam/CB_TACACGACAATCAGAA-*.bam\n",
      "python /home/isshamie/software/mito-genotyping/exampleProcessing//01_pileup_counts.py ../data/raw/scBam/CB_ACGAGCCGTACAGTTC-1.bam ../data/raw/scPileup/CB_ACGAGCCGTACAGTTC-1 16571 0 ACGAGCCGTACAGTTC-1.bam 0\n"
     ]
    },
    {
     "name": "stderr",
     "output_type": "stream",
     "text": [
      "\r",
      "  3%|▎         | 2189/75923 [11:54<18:06:48,  1.13it/s]"
     ]
    },
    {
     "name": "stdout",
     "output_type": "stream",
     "text": [
      "python /home/isshamie/software/mito-genotyping/exampleProcessing//01_pileup_counts.py ../data/raw/scBam/CB_ACCGTAACATGTCCTC-1.bam ../data/raw/scPileup/CB_ACCGTAACATGTCCTC-1 16571 0 ACCGTAACATGTCCTC-1.bam 0\n"
     ]
    },
    {
     "name": "stderr",
     "output_type": "stream",
     "text": [
      "  3%|▎         | 2191/75923 [11:56<16:43:36,  1.22it/s]"
     ]
    },
    {
     "name": "stdout",
     "output_type": "stream",
     "text": [
      "file not done yet ../data/raw/scBam/CB_TCGGTAACACAACGTT-*.bam\n"
     ]
    },
    {
     "name": "stderr",
     "output_type": "stream",
     "text": [
      "\r",
      "  3%|▎         | 2192/75923 [11:56<13:04:22,  1.57it/s]"
     ]
    },
    {
     "name": "stdout",
     "output_type": "stream",
     "text": [
      "file not done yet ../data/raw/scBam/CB_CACAAACTCCTTGACC-*.bam\n"
     ]
    },
    {
     "name": "stderr",
     "output_type": "stream",
     "text": [
      "\r",
      "  3%|▎         | 2193/75923 [11:56<10:34:27,  1.94it/s]"
     ]
    },
    {
     "name": "stdout",
     "output_type": "stream",
     "text": [
      "file not done yet ../data/raw/scBam/CB_CGTTAGAGTAGCGCTC-*.bam\n"
     ]
    },
    {
     "name": "stderr",
     "output_type": "stream",
     "text": [
      "  3%|▎         | 2196/75923 [11:57<6:30:55,  3.14it/s] "
     ]
    },
    {
     "name": "stdout",
     "output_type": "stream",
     "text": [
      "file not done yet ../data/raw/scBam/CB_ATTGGTGGTAGGGACT-*.bam\n",
      "file not done yet ../data/raw/scBam/CB_GGGATGAAGGTGCACA-*.bam\n",
      "file not done yet ../data/raw/scBam/CB_ACTGAACTCCTTCAAT-*.bam\n"
     ]
    },
    {
     "name": "stderr",
     "output_type": "stream",
     "text": [
      "\r",
      "  3%|▎         | 2197/75923 [11:57<5:48:01,  3.53it/s]"
     ]
    },
    {
     "name": "stdout",
     "output_type": "stream",
     "text": [
      "file not done yet ../data/raw/scBam/CB_GCAATCAAGTCGTACT-*.bam\n"
     ]
    },
    {
     "name": "stderr",
     "output_type": "stream",
     "text": [
      "  3%|▎         | 2200/75923 [11:58<4:39:03,  4.40it/s]"
     ]
    },
    {
     "name": "stdout",
     "output_type": "stream",
     "text": [
      "file not done yet ../data/raw/scBam/CB_CAGCATATCGGACAAG-*.bam\n",
      "file not done yet ../data/raw/scBam/CB_GTACTCCAGCGGATCA-*.bam\n",
      "file not done yet ../data/raw/scBam/CB_TCAGCTCAGTAGCCGA-*.bam\n"
     ]
    },
    {
     "name": "stderr",
     "output_type": "stream",
     "text": [
      "  3%|▎         | 2202/75923 [11:58<4:22:55,  4.67it/s]"
     ]
    },
    {
     "name": "stdout",
     "output_type": "stream",
     "text": [
      "file not done yet ../data/raw/scBam/CB_CGTTCTGTCCTTTCGG-*.bam\n",
      "file not done yet ../data/raw/scBam/CB_GGTGTTAGTCTCATCC-*.bam\n"
     ]
    },
    {
     "name": "stderr",
     "output_type": "stream",
     "text": [
      "\r",
      "  3%|▎         | 2203/75923 [11:59<4:16:44,  4.79it/s]"
     ]
    },
    {
     "name": "stdout",
     "output_type": "stream",
     "text": [
      "file not done yet ../data/raw/scBam/CB_CATATGGAGGGATCTG-*.bam\n"
     ]
    },
    {
     "name": "stderr",
     "output_type": "stream",
     "text": [
      "  3%|▎         | 2205/75923 [11:59<4:12:02,  4.87it/s]"
     ]
    },
    {
     "name": "stdout",
     "output_type": "stream",
     "text": [
      "file not done yet ../data/raw/scBam/CB_GCAGCCAAGCGATATA-*.bam\n",
      "file not done yet ../data/raw/scBam/CB_TGATTTCGTCCAGTGC-*.bam\n"
     ]
    },
    {
     "name": "stderr",
     "output_type": "stream",
     "text": [
      "\r",
      "  3%|▎         | 2206/75923 [11:59<4:15:51,  4.80it/s]"
     ]
    },
    {
     "name": "stdout",
     "output_type": "stream",
     "text": [
      "file not done yet ../data/raw/scBam/CB_CGTTGGGCACGTCTCT-*.bam\n"
     ]
    },
    {
     "name": "stderr",
     "output_type": "stream",
     "text": [
      "\r",
      "  3%|▎         | 2207/75923 [11:59<4:26:21,  4.61it/s]"
     ]
    },
    {
     "name": "stdout",
     "output_type": "stream",
     "text": [
      "file not done yet ../data/raw/scBam/CB_GACTGCGCAACGATGG-*.bam\n"
     ]
    },
    {
     "name": "stderr",
     "output_type": "stream",
     "text": [
      "\r",
      "  3%|▎         | 2208/75923 [12:00<4:33:42,  4.49it/s]"
     ]
    },
    {
     "name": "stdout",
     "output_type": "stream",
     "text": [
      "file not done yet ../data/raw/scBam/CB_GTAGGCCGTTCGTGAT-*.bam\n"
     ]
    },
    {
     "name": "stderr",
     "output_type": "stream",
     "text": [
      "\r",
      "  3%|▎         | 2209/75923 [12:00<4:30:33,  4.54it/s]"
     ]
    },
    {
     "name": "stdout",
     "output_type": "stream",
     "text": [
      "file not done yet ../data/raw/scBam/CB_CGTGAGCGTTCTCATT-*.bam\n"
     ]
    },
    {
     "name": "stderr",
     "output_type": "stream",
     "text": [
      "\r",
      "  3%|▎         | 2210/75923 [12:00<4:37:52,  4.42it/s]"
     ]
    },
    {
     "name": "stdout",
     "output_type": "stream",
     "text": [
      "file not done yet ../data/raw/scBam/CB_CATCCACCAATCTACG-*.bam\n"
     ]
    },
    {
     "name": "stderr",
     "output_type": "stream",
     "text": [
      "\r",
      "  3%|▎         | 2211/75923 [12:00<4:35:21,  4.46it/s]"
     ]
    },
    {
     "name": "stdout",
     "output_type": "stream",
     "text": [
      "file not done yet ../data/raw/scBam/CB_GGACAGACATGAACCT-*.bam\n"
     ]
    },
    {
     "name": "stderr",
     "output_type": "stream",
     "text": [
      "  3%|▎         | 2213/75923 [12:01<4:30:53,  4.54it/s]"
     ]
    },
    {
     "name": "stdout",
     "output_type": "stream",
     "text": [
      "file not done yet ../data/raw/scBam/CB_TACACGAGTAGCGTAG-*.bam\n",
      "file not done yet ../data/raw/scBam/CB_CCGTACTCAATGGAAT-*.bam\n"
     ]
    },
    {
     "name": "stderr",
     "output_type": "stream",
     "text": [
      "\r",
      "  3%|▎         | 2214/75923 [12:01<4:24:19,  4.65it/s]"
     ]
    },
    {
     "name": "stdout",
     "output_type": "stream",
     "text": [
      "file not done yet ../data/raw/scBam/CB_AGAGCGAAGTCGTACT-*.bam\n"
     ]
    },
    {
     "name": "stderr",
     "output_type": "stream",
     "text": [
      "\r",
      "  3%|▎         | 2215/75923 [12:01<4:29:59,  4.55it/s]"
     ]
    },
    {
     "name": "stdout",
     "output_type": "stream",
     "text": [
      "file not done yet ../data/raw/scBam/CB_CTCTGGTTCACCGGGT-*.bam\n"
     ]
    },
    {
     "name": "stderr",
     "output_type": "stream",
     "text": [
      "\r",
      "  3%|▎         | 2216/75923 [12:01<4:26:36,  4.61it/s]"
     ]
    },
    {
     "name": "stdout",
     "output_type": "stream",
     "text": [
      "file not done yet ../data/raw/scBam/CB_GTGTTAGAGATACACA-*.bam\n"
     ]
    },
    {
     "name": "stderr",
     "output_type": "stream",
     "text": [
      "\r",
      "  3%|▎         | 2217/75923 [12:02<4:26:21,  4.61it/s]"
     ]
    },
    {
     "name": "stdout",
     "output_type": "stream",
     "text": [
      "file not done yet ../data/raw/scBam/CB_GCACTCTCATTCTTAC-*.bam\n",
      "python /home/isshamie/software/mito-genotyping/exampleProcessing//01_pileup_counts.py ../data/raw/scBam/CB_AACTGGTCAGTAAGAT-1.bam ../data/raw/scPileup/CB_AACTGGTCAGTAAGAT-1 16571 0 AACTGGTCAGTAAGAT-1.bam 0\n"
     ]
    },
    {
     "name": "stderr",
     "output_type": "stream",
     "text": [
      "  3%|▎         | 2220/75923 [12:04<10:29:34,  1.95it/s]"
     ]
    },
    {
     "name": "stdout",
     "output_type": "stream",
     "text": [
      "file not done yet ../data/raw/scBam/CB_GACGTTAAGAGACTAT-*.bam\n",
      "file not done yet ../data/raw/scBam/CB_TTGCGTCTCTGTCTCG-*.bam\n"
     ]
    },
    {
     "name": "stderr",
     "output_type": "stream",
     "text": [
      "\r",
      "  3%|▎         | 2221/75923 [12:05<8:48:56,  2.32it/s] "
     ]
    },
    {
     "name": "stdout",
     "output_type": "stream",
     "text": [
      "file not done yet ../data/raw/scBam/CB_GGTGAAGCAAACGTGG-*.bam\n"
     ]
    },
    {
     "name": "stderr",
     "output_type": "stream",
     "text": [
      "\r",
      "  3%|▎         | 2222/75923 [12:05<7:34:00,  2.71it/s]"
     ]
    },
    {
     "name": "stdout",
     "output_type": "stream",
     "text": [
      "file not done yet ../data/raw/scBam/CB_GTACGTAAGAGTCGGT-*.bam\n"
     ]
    },
    {
     "name": "stderr",
     "output_type": "stream",
     "text": [
      "\r",
      "  3%|▎         | 2223/75923 [12:05<6:35:10,  3.11it/s]"
     ]
    },
    {
     "name": "stdout",
     "output_type": "stream",
     "text": [
      "file not done yet ../data/raw/scBam/CB_TAGCCGGTCGTAGGTT-*.bam\n",
      "python /home/isshamie/software/mito-genotyping/exampleProcessing//01_pileup_counts.py ../data/raw/scBam/CB_ACACCCTGTGCCTGCA-1.bam ../data/raw/scPileup/CB_ACACCCTGTGCCTGCA-1 16571 0 ACACCCTGTGCCTGCA-1.bam 0\n"
     ]
    },
    {
     "name": "stderr",
     "output_type": "stream",
     "text": [
      "  3%|▎         | 2225/75923 [12:07<10:41:31,  1.91it/s]"
     ]
    },
    {
     "name": "stdout",
     "output_type": "stream",
     "text": [
      "file not done yet ../data/raw/scBam/CB_GATGAGGCACCTCGGA-*.bam\n"
     ]
    },
    {
     "name": "stderr",
     "output_type": "stream",
     "text": [
      "\r",
      "  3%|▎         | 2226/75923 [12:07<8:45:33,  2.34it/s] "
     ]
    },
    {
     "name": "stdout",
     "output_type": "stream",
     "text": [
      "file not done yet ../data/raw/scBam/CB_AGTAGTCAGCGATATA-*.bam\n"
     ]
    },
    {
     "name": "stderr",
     "output_type": "stream",
     "text": [
      "  3%|▎         | 2229/75923 [12:07<5:25:46,  3.77it/s]"
     ]
    },
    {
     "name": "stdout",
     "output_type": "stream",
     "text": [
      "file not done yet ../data/raw/scBam/CB_AGGGAGTAGGTGATAT-*.bam\n",
      "file not done yet ../data/raw/scBam/CB_CTGTTTATCCGTCAAA-*.bam\n",
      "file not done yet ../data/raw/scBam/CB_GAAATGAAGCAACGGT-*.bam\n",
      "python /home/isshamie/software/mito-genotyping/exampleProcessing//01_pileup_counts.py ../data/raw/scBam/CB_AACTCTTCACGAAAGC-1.bam ../data/raw/scPileup/CB_AACTCTTCACGAAAGC-1 16571 0 AACTCTTCACGAAAGC-1.bam 0\n"
     ]
    },
    {
     "name": "stderr",
     "output_type": "stream",
     "text": [
      "  3%|▎         | 2232/75923 [12:09<8:24:31,  2.43it/s] "
     ]
    },
    {
     "name": "stdout",
     "output_type": "stream",
     "text": [
      "file not done yet ../data/raw/scBam/CB_GAATGAATCTAGCACA-*.bam\n",
      "file not done yet ../data/raw/scBam/CB_ACTATCTGTTTAAGCC-*.bam\n"
     ]
    },
    {
     "name": "stderr",
     "output_type": "stream",
     "text": [
      "  3%|▎         | 2234/75923 [12:10<6:03:50,  3.38it/s]"
     ]
    },
    {
     "name": "stdout",
     "output_type": "stream",
     "text": [
      "file not done yet ../data/raw/scBam/CB_TGTGGTAGTGTAATGA-*.bam\n",
      "file not done yet ../data/raw/scBam/CB_TGCCAAAAGTCTCAAC-*.bam\n"
     ]
    },
    {
     "name": "stderr",
     "output_type": "stream",
     "text": [
      "\r",
      "  3%|▎         | 2235/75923 [12:10<5:32:24,  3.69it/s]"
     ]
    },
    {
     "name": "stdout",
     "output_type": "stream",
     "text": [
      "file not done yet ../data/raw/scBam/CB_GATTCAGGTCGGCATC-*.bam\n"
     ]
    },
    {
     "name": "stderr",
     "output_type": "stream",
     "text": [
      "\r",
      "  3%|▎         | 2236/75923 [12:10<5:17:00,  3.87it/s]"
     ]
    },
    {
     "name": "stdout",
     "output_type": "stream",
     "text": [
      "file not done yet ../data/raw/scBam/CB_GAAATGACATTCTTAC-*.bam\n"
     ]
    },
    {
     "name": "stderr",
     "output_type": "stream",
     "text": [
      "\r",
      "  3%|▎         | 2237/75923 [12:11<6:31:56,  3.13it/s]"
     ]
    },
    {
     "name": "stdout",
     "output_type": "stream",
     "text": [
      "file not done yet ../data/raw/scBam/CB_TGTGGTACACGGATAG-*.bam\n"
     ]
    },
    {
     "name": "stderr",
     "output_type": "stream",
     "text": [
      "\r",
      "  3%|▎         | 2238/75923 [12:11<5:56:43,  3.44it/s]"
     ]
    },
    {
     "name": "stdout",
     "output_type": "stream",
     "text": [
      "file not done yet ../data/raw/scBam/CB_AGGCCACCAAGAGGCT-*.bam\n"
     ]
    },
    {
     "name": "stderr",
     "output_type": "stream",
     "text": [
      "  3%|▎         | 2240/75923 [12:11<4:53:11,  4.19it/s]"
     ]
    },
    {
     "name": "stdout",
     "output_type": "stream",
     "text": [
      "file not done yet ../data/raw/scBam/CB_CGTTCTGTCCCATTAT-*.bam\n",
      "file not done yet ../data/raw/scBam/CB_CGTGAGCCACTCGACG-*.bam\n"
     ]
    },
    {
     "name": "stderr",
     "output_type": "stream",
     "text": [
      "  3%|▎         | 2242/75923 [12:12<4:21:18,  4.70it/s]"
     ]
    },
    {
     "name": "stdout",
     "output_type": "stream",
     "text": [
      "file not done yet ../data/raw/scBam/CB_CATCCACCACCTCGGA-*.bam\n",
      "file not done yet ../data/raw/scBam/CB_ACTTGTTGTACAGTGG-*.bam\n"
     ]
    },
    {
     "name": "stderr",
     "output_type": "stream",
     "text": [
      "\r",
      "  3%|▎         | 2243/75923 [12:12<4:12:13,  4.87it/s]"
     ]
    },
    {
     "name": "stdout",
     "output_type": "stream",
     "text": [
      "file not done yet ../data/raw/scBam/CB_GCGGGTTCATGAGCGA-*.bam\n",
      "python /home/isshamie/software/mito-genotyping/exampleProcessing//01_pileup_counts.py ../data/raw/scBam/CB_AACACGTGTCTGCCAG-1.bam ../data/raw/scPileup/CB_AACACGTGTCTGCCAG-1 16571 0 AACACGTGTCTGCCAG-1.bam 0\n"
     ]
    },
    {
     "name": "stderr",
     "output_type": "stream",
     "text": [
      "  3%|▎         | 2245/75923 [12:14<10:32:18,  1.94it/s]"
     ]
    },
    {
     "name": "stdout",
     "output_type": "stream",
     "text": [
      "file not done yet ../data/raw/scBam/CB_GTCACAAGTCTTCGTC-*.bam\n"
     ]
    },
    {
     "name": "stderr",
     "output_type": "stream",
     "text": [
      "  3%|▎         | 2247/75923 [12:14<7:18:05,  2.80it/s] "
     ]
    },
    {
     "name": "stdout",
     "output_type": "stream",
     "text": [
      "file not done yet ../data/raw/scBam/CB_TTGCCGTCACCAGGCT-*.bam\n",
      "file not done yet ../data/raw/scBam/CB_CAAGATCAGGATGCGT-*.bam\n"
     ]
    },
    {
     "name": "stderr",
     "output_type": "stream",
     "text": [
      "  3%|▎         | 2249/75923 [12:14<5:22:18,  3.81it/s]"
     ]
    },
    {
     "name": "stdout",
     "output_type": "stream",
     "text": [
      "file not done yet ../data/raw/scBam/CB_TACCTTAGTCCTCTTG-*.bam\n",
      "file not done yet ../data/raw/scBam/CB_CCCAATCCAAGAAGAG-*.bam\n"
     ]
    },
    {
     "name": "stderr",
     "output_type": "stream",
     "text": [
      "  3%|▎         | 2251/75923 [12:15<4:38:36,  4.41it/s]"
     ]
    },
    {
     "name": "stdout",
     "output_type": "stream",
     "text": [
      "file not done yet ../data/raw/scBam/CB_TTGACTTGTATATCCG-*.bam\n",
      "file not done yet ../data/raw/scBam/CB_CACAGTATCACATACG-*.bam\n",
      "python /home/isshamie/software/mito-genotyping/exampleProcessing//01_pileup_counts.py ../data/raw/scBam/CB_ACGAGGAAGTGCGATG-1.bam ../data/raw/scPileup/CB_ACGAGGAAGTGCGATG-1 16571 0 ACGAGGAAGTGCGATG-1.bam 0\n"
     ]
    },
    {
     "name": "stderr",
     "output_type": "stream",
     "text": [
      "  3%|▎         | 2253/75923 [12:17<10:32:33,  1.94it/s]"
     ]
    },
    {
     "name": "stdout",
     "output_type": "stream",
     "text": [
      "file not done yet ../data/raw/scBam/CB_AGGGAGTCACACAGAG-*.bam\n"
     ]
    },
    {
     "name": "stderr",
     "output_type": "stream",
     "text": [
      "\r",
      "  3%|▎         | 2254/75923 [12:17<8:50:02,  2.32it/s] "
     ]
    },
    {
     "name": "stdout",
     "output_type": "stream",
     "text": [
      "file not done yet ../data/raw/scBam/CB_CAGAGAGCACAGGTTT-*.bam\n"
     ]
    },
    {
     "name": "stderr",
     "output_type": "stream",
     "text": [
      "\r",
      "  3%|▎         | 2255/75923 [12:17<7:36:44,  2.69it/s]"
     ]
    },
    {
     "name": "stdout",
     "output_type": "stream",
     "text": [
      "file not done yet ../data/raw/scBam/CB_CTGCTGTTCGCAAACT-*.bam\n"
     ]
    },
    {
     "name": "stderr",
     "output_type": "stream",
     "text": [
      "  3%|▎         | 2257/75923 [12:17<5:46:53,  3.54it/s]"
     ]
    },
    {
     "name": "stdout",
     "output_type": "stream",
     "text": [
      "file not done yet ../data/raw/scBam/CB_TATTACCTCTTTAGTC-*.bam\n",
      "file not done yet ../data/raw/scBam/CB_TGTATTCTCAGTTGAC-*.bam\n"
     ]
    },
    {
     "name": "stderr",
     "output_type": "stream",
     "text": [
      "\r",
      "  3%|▎         | 2258/75923 [12:18<5:02:21,  4.06it/s]"
     ]
    },
    {
     "name": "stdout",
     "output_type": "stream",
     "text": [
      "file not done yet ../data/raw/scBam/CB_CGTTGGGGTCCATCCT-*.bam\n"
     ]
    },
    {
     "name": "stderr",
     "output_type": "stream",
     "text": [
      "  3%|▎         | 2260/75923 [12:18<4:52:17,  4.20it/s]"
     ]
    },
    {
     "name": "stdout",
     "output_type": "stream",
     "text": [
      "file not done yet ../data/raw/scBam/CB_TACGGTATCAGCATGT-*.bam\n",
      "file not done yet ../data/raw/scBam/CB_CAGCAGCCATCCCATC-*.bam\n"
     ]
    },
    {
     "name": "stderr",
     "output_type": "stream",
     "text": [
      "\r",
      "  3%|▎         | 2261/75923 [12:18<5:10:51,  3.95it/s]"
     ]
    },
    {
     "name": "stdout",
     "output_type": "stream",
     "text": [
      "file not done yet ../data/raw/scBam/CB_GACAGAGCACACTGCG-*.bam\n"
     ]
    },
    {
     "name": "stderr",
     "output_type": "stream",
     "text": [
      "\r",
      "  3%|▎         | 2262/75923 [12:19<4:56:17,  4.14it/s]"
     ]
    },
    {
     "name": "stdout",
     "output_type": "stream",
     "text": [
      "file not done yet ../data/raw/scBam/CB_ATTTCTGAGTGCTGCC-*.bam\n",
      "python /home/isshamie/software/mito-genotyping/exampleProcessing//01_pileup_counts.py ../data/raw/scBam/CB_ACCGTAAGTCTGCGGT-1.bam ../data/raw/scPileup/CB_ACCGTAAGTCTGCGGT-1 16571 0 ACCGTAAGTCTGCGGT-1.bam 0\n"
     ]
    },
    {
     "name": "stderr",
     "output_type": "stream",
     "text": [
      "  3%|▎         | 2265/75923 [12:22<12:28:29,  1.64it/s]"
     ]
    },
    {
     "name": "stdout",
     "output_type": "stream",
     "text": [
      "file not done yet ../data/raw/scBam/CB_CTTGGCTCACTGTGTA-*.bam\n",
      "file not done yet ../data/raw/scBam/CB_ACGGCCAAGAAGAAGC-*.bam\n"
     ]
    },
    {
     "name": "stderr",
     "output_type": "stream",
     "text": [
      "  3%|▎         | 2267/75923 [12:22<8:06:02,  2.53it/s] "
     ]
    },
    {
     "name": "stdout",
     "output_type": "stream",
     "text": [
      "file not done yet ../data/raw/scBam/CB_CAAGGCCGTCAGAATA-*.bam\n",
      "file not done yet ../data/raw/scBam/CB_TGACTAGGTGACTCAT-*.bam\n"
     ]
    },
    {
     "name": "stderr",
     "output_type": "stream",
     "text": [
      "\r",
      "  3%|▎         | 2268/75923 [12:22<6:43:44,  3.04it/s]"
     ]
    },
    {
     "name": "stdout",
     "output_type": "stream",
     "text": [
      "file not done yet ../data/raw/scBam/CB_CTAAGACGTAATTGGA-*.bam\n"
     ]
    },
    {
     "name": "stderr",
     "output_type": "stream",
     "text": [
      "  3%|▎         | 2270/75923 [12:23<5:14:41,  3.90it/s]"
     ]
    },
    {
     "name": "stdout",
     "output_type": "stream",
     "text": [
      "file not done yet ../data/raw/scBam/CB_GGACAGACACTACAGT-*.bam\n",
      "file not done yet ../data/raw/scBam/CB_ATCTGCCTCTGTTGAG-*.bam\n"
     ]
    },
    {
     "name": "stderr",
     "output_type": "stream",
     "text": [
      "\r",
      "  3%|▎         | 2271/75923 [12:23<5:08:21,  3.98it/s]"
     ]
    },
    {
     "name": "stdout",
     "output_type": "stream",
     "text": [
      "file not done yet ../data/raw/scBam/CB_TGGCGCAGTAAGGATT-*.bam\n"
     ]
    },
    {
     "name": "stderr",
     "output_type": "stream",
     "text": [
      "\r",
      "  3%|▎         | 2272/75923 [12:23<5:00:45,  4.08it/s]"
     ]
    },
    {
     "name": "stdout",
     "output_type": "stream",
     "text": [
      "file not done yet ../data/raw/scBam/CB_CGTAGGCCATGAAGTA-*.bam\n"
     ]
    },
    {
     "name": "stderr",
     "output_type": "stream",
     "text": [
      "\r",
      "  3%|▎         | 2273/75923 [12:23<4:55:51,  4.15it/s]"
     ]
    },
    {
     "name": "stdout",
     "output_type": "stream",
     "text": [
      "file not done yet ../data/raw/scBam/CB_CTCAGAAGTTCACGGC-*.bam\n"
     ]
    },
    {
     "name": "stderr",
     "output_type": "stream",
     "text": [
      "\r",
      "  3%|▎         | 2274/75923 [12:24<4:46:53,  4.28it/s]"
     ]
    },
    {
     "name": "stdout",
     "output_type": "stream",
     "text": [
      "file not done yet ../data/raw/scBam/CB_ATAACGCCATGCATGT-*.bam\n"
     ]
    },
    {
     "name": "stderr",
     "output_type": "stream",
     "text": [
      "\r",
      "  3%|▎         | 2275/75923 [12:24<4:55:53,  4.15it/s]"
     ]
    },
    {
     "name": "stdout",
     "output_type": "stream",
     "text": [
      "file not done yet ../data/raw/scBam/CB_TGACAACCATGGTCAT-*.bam\n"
     ]
    },
    {
     "name": "stderr",
     "output_type": "stream",
     "text": [
      "  3%|▎         | 2277/75923 [12:24<4:39:18,  4.39it/s]"
     ]
    },
    {
     "name": "stdout",
     "output_type": "stream",
     "text": [
      "file not done yet ../data/raw/scBam/CB_TGCGCAGGTGAACCTT-*.bam\n",
      "file not done yet ../data/raw/scBam/CB_AGAGCTTGTTCAGACT-*.bam\n"
     ]
    },
    {
     "name": "stderr",
     "output_type": "stream",
     "text": [
      "\r",
      "  3%|▎         | 2278/75923 [12:25<4:44:09,  4.32it/s]"
     ]
    },
    {
     "name": "stdout",
     "output_type": "stream",
     "text": [
      "file not done yet ../data/raw/scBam/CB_TACGGTACAGGCGATA-*.bam\n"
     ]
    },
    {
     "name": "stderr",
     "output_type": "stream",
     "text": [
      "\r",
      "  3%|▎         | 2279/75923 [12:25<4:38:58,  4.40it/s]"
     ]
    },
    {
     "name": "stdout",
     "output_type": "stream",
     "text": [
      "file not done yet ../data/raw/scBam/CB_ACGGAGAAGCGTTTAC-*.bam\n",
      "python /home/isshamie/software/mito-genotyping/exampleProcessing//01_pileup_counts.py ../data/raw/scBam/CB_ACATGGTTCCCTTGTG-1.bam ../data/raw/scPileup/CB_ACATGGTTCCCTTGTG-1 16571 0 ACATGGTTCCCTTGTG-1.bam 0\n"
     ]
    },
    {
     "name": "stderr",
     "output_type": "stream",
     "text": [
      "  3%|▎         | 2281/75923 [12:27<10:52:03,  1.88it/s]"
     ]
    },
    {
     "name": "stdout",
     "output_type": "stream",
     "text": [
      "file not done yet ../data/raw/scBam/CB_CTACATTCAAGCGTAG-*.bam\n",
      "python /home/isshamie/software/mito-genotyping/exampleProcessing//01_pileup_counts.py ../data/raw/scBam/CB_AACTCAGGTTTAGGAA-1.bam ../data/raw/scPileup/CB_AACTCAGGTTTAGGAA-1 16571 0 AACTCAGGTTTAGGAA-1.bam 0\n"
     ]
    },
    {
     "name": "stderr",
     "output_type": "stream",
     "text": [
      "  3%|▎         | 2283/75923 [12:29<13:25:39,  1.52it/s]"
     ]
    },
    {
     "name": "stdout",
     "output_type": "stream",
     "text": [
      "file not done yet ../data/raw/scBam/CB_CTGCGGATCTCTGAGA-*.bam\n"
     ]
    },
    {
     "name": "stderr",
     "output_type": "stream",
     "text": [
      "\r",
      "  3%|▎         | 2284/75923 [12:29<10:39:55,  1.92it/s]"
     ]
    },
    {
     "name": "stdout",
     "output_type": "stream",
     "text": [
      "file not done yet ../data/raw/scBam/CB_CAAGAAACACTTACGA-*.bam\n"
     ]
    },
    {
     "name": "stderr",
     "output_type": "stream",
     "text": [
      "\r",
      "  3%|▎         | 2285/75923 [12:29<8:50:16,  2.31it/s] "
     ]
    },
    {
     "name": "stdout",
     "output_type": "stream",
     "text": [
      "file not done yet ../data/raw/scBam/CB_CTGCCTAAGCTAGTGG-*.bam\n"
     ]
    },
    {
     "name": "stderr",
     "output_type": "stream",
     "text": [
      "  3%|▎         | 2287/75923 [12:29<6:27:34,  3.17it/s]"
     ]
    },
    {
     "name": "stdout",
     "output_type": "stream",
     "text": [
      "file not done yet ../data/raw/scBam/CB_TGCGCAGAGACTGTAA-*.bam\n",
      "file not done yet ../data/raw/scBam/CB_GCGCCAACACTTCGAA-*.bam\n"
     ]
    },
    {
     "name": "stderr",
     "output_type": "stream",
     "text": [
      "\r",
      "  3%|▎         | 2288/75923 [12:30<5:49:44,  3.51it/s]"
     ]
    },
    {
     "name": "stdout",
     "output_type": "stream",
     "text": [
      "file not done yet ../data/raw/scBam/CB_GCTCTGTTCGCGCCAA-*.bam\n"
     ]
    },
    {
     "name": "stderr",
     "output_type": "stream",
     "text": [
      "\r",
      "  3%|▎         | 2289/75923 [12:30<5:30:50,  3.71it/s]"
     ]
    },
    {
     "name": "stdout",
     "output_type": "stream",
     "text": [
      "file not done yet ../data/raw/scBam/CB_GACGCGTTCGGAGCAA-*.bam\n"
     ]
    },
    {
     "name": "stderr",
     "output_type": "stream",
     "text": [
      "\r",
      "  3%|▎         | 2290/75923 [12:30<5:20:18,  3.83it/s]"
     ]
    },
    {
     "name": "stdout",
     "output_type": "stream",
     "text": [
      "file not done yet ../data/raw/scBam/CB_CATGCCTGTTATTCTC-*.bam\n",
      "python /home/isshamie/software/mito-genotyping/exampleProcessing//01_pileup_counts.py ../data/raw/scBam/CB_AACTTTCGTCAGTGGA-1.bam ../data/raw/scPileup/CB_AACTTTCGTCAGTGGA-1 16571 0 AACTTTCGTCAGTGGA-1.bam 0\n"
     ]
    },
    {
     "name": "stderr",
     "output_type": "stream",
     "text": [
      "\r",
      "  3%|▎         | 2291/75923 [12:32<13:23:48,  1.53it/s]"
     ]
    },
    {
     "name": "stdout",
     "output_type": "stream",
     "text": [
      "python /home/isshamie/software/mito-genotyping/exampleProcessing//01_pileup_counts.py ../data/raw/scBam/CB_AAAGTAGTCCACGCAG-1.bam ../data/raw/scPileup/CB_AAAGTAGTCCACGCAG-1 16571 0 AAAGTAGTCCACGCAG-1.bam 0\n"
     ]
    },
    {
     "name": "stderr",
     "output_type": "stream",
     "text": [
      "  3%|▎         | 2293/75923 [12:33<14:30:59,  1.41it/s]"
     ]
    },
    {
     "name": "stdout",
     "output_type": "stream",
     "text": [
      "file not done yet ../data/raw/scBam/CB_TCGTACCTCTGCCCTA-*.bam\n"
     ]
    },
    {
     "name": "stderr",
     "output_type": "stream",
     "text": [
      "\r",
      "  3%|▎         | 2294/75923 [12:34<13:53:04,  1.47it/s]"
     ]
    },
    {
     "name": "stdout",
     "output_type": "stream",
     "text": [
      "file not done yet ../data/raw/scBam/CB_TGCCAAACAAGACGTG-*.bam\n"
     ]
    },
    {
     "name": "stderr",
     "output_type": "stream",
     "text": [
      "\r",
      "  3%|▎         | 2295/75923 [12:34<12:06:24,  1.69it/s]"
     ]
    },
    {
     "name": "stdout",
     "output_type": "stream",
     "text": [
      "file not done yet ../data/raw/scBam/CB_CATGCCTCACTCAGGC-*.bam\n"
     ]
    },
    {
     "name": "stderr",
     "output_type": "stream",
     "text": [
      "\r",
      "  3%|▎         | 2296/75923 [12:35<10:28:18,  1.95it/s]"
     ]
    },
    {
     "name": "stdout",
     "output_type": "stream",
     "text": [
      "file not done yet ../data/raw/scBam/CB_GCGCCAAAGTGAACGC-*.bam\n"
     ]
    },
    {
     "name": "stderr",
     "output_type": "stream",
     "text": [
      "  3%|▎         | 2298/75923 [12:35<7:30:03,  2.73it/s] "
     ]
    },
    {
     "name": "stdout",
     "output_type": "stream",
     "text": [
      "file not done yet ../data/raw/scBam/CB_GCTGCAGTCGCAAACT-*.bam\n",
      "file not done yet ../data/raw/scBam/CB_CACATAGGTACTTAGC-*.bam\n"
     ]
    },
    {
     "name": "stderr",
     "output_type": "stream",
     "text": [
      "\r",
      "  3%|▎         | 2299/75923 [12:35<6:45:32,  3.03it/s]"
     ]
    },
    {
     "name": "stdout",
     "output_type": "stream",
     "text": [
      "file not done yet ../data/raw/scBam/CB_GCAATCACACGGTGTC-*.bam\n"
     ]
    },
    {
     "name": "stderr",
     "output_type": "stream",
     "text": [
      "  3%|▎         | 2301/75923 [12:36<5:28:12,  3.74it/s]"
     ]
    },
    {
     "name": "stdout",
     "output_type": "stream",
     "text": [
      "file not done yet ../data/raw/scBam/CB_AGGCCACGTGCAGTAG-*.bam\n",
      "file not done yet ../data/raw/scBam/CB_CGCTTCAAGACAAGCC-*.bam\n"
     ]
    },
    {
     "name": "stderr",
     "output_type": "stream",
     "text": [
      "  3%|▎         | 2303/75923 [12:36<4:53:34,  4.18it/s]"
     ]
    },
    {
     "name": "stdout",
     "output_type": "stream",
     "text": [
      "file not done yet ../data/raw/scBam/CB_GGCGTGTCACTTCTGC-*.bam\n",
      "file not done yet ../data/raw/scBam/CB_CCTTTCTGTTCATGGT-*.bam\n"
     ]
    },
    {
     "name": "stderr",
     "output_type": "stream",
     "text": [
      "\r",
      "  3%|▎         | 2304/75923 [12:37<5:12:56,  3.92it/s]"
     ]
    },
    {
     "name": "stdout",
     "output_type": "stream",
     "text": [
      "file not done yet ../data/raw/scBam/CB_ACTTGTTAGGCATGGT-*.bam\n"
     ]
    },
    {
     "name": "stderr",
     "output_type": "stream",
     "text": [
      "  3%|▎         | 2306/75923 [12:37<4:56:46,  4.13it/s]"
     ]
    },
    {
     "name": "stdout",
     "output_type": "stream",
     "text": [
      "file not done yet ../data/raw/scBam/CB_GTTCATTCAGCTGCTG-*.bam\n",
      "file not done yet ../data/raw/scBam/CB_TGTATTCAGTATCGAA-*.bam\n",
      "python /home/isshamie/software/mito-genotyping/exampleProcessing//01_pileup_counts.py ../data/raw/scBam/CB_AAGGCAGTCGGTTAAC-1.bam ../data/raw/scPileup/CB_AAGGCAGTCGGTTAAC-1 16571 0 AAGGCAGTCGGTTAAC-1.bam 0\n"
     ]
    },
    {
     "name": "stderr",
     "output_type": "stream",
     "text": [
      "  3%|▎         | 2309/75923 [12:39<8:38:48,  2.36it/s] "
     ]
    },
    {
     "name": "stdout",
     "output_type": "stream",
     "text": [
      "file not done yet ../data/raw/scBam/CB_AGCCTAATCGTAGGAG-*.bam\n",
      "file not done yet ../data/raw/scBam/CB_CCGGTAGAGCGCCTCA-*.bam\n"
     ]
    },
    {
     "name": "stderr",
     "output_type": "stream",
     "text": [
      "\r",
      "  3%|▎         | 2310/75923 [12:39<7:26:57,  2.74it/s]"
     ]
    },
    {
     "name": "stdout",
     "output_type": "stream",
     "text": [
      "file not done yet ../data/raw/scBam/CB_CGGTTAACAAGCCTAT-*.bam\n",
      "python /home/isshamie/software/mito-genotyping/exampleProcessing//01_pileup_counts.py ../data/raw/scBam/CB_AAAGATGCAGTAAGAT-1.bam ../data/raw/scPileup/CB_AAAGATGCAGTAAGAT-1 16571 0 AAAGATGCAGTAAGAT-1.bam 0\n"
     ]
    },
    {
     "name": "stderr",
     "output_type": "stream",
     "text": [
      "  3%|▎         | 2313/75923 [12:42<10:04:30,  2.03it/s]"
     ]
    },
    {
     "name": "stdout",
     "output_type": "stream",
     "text": [
      "file not done yet ../data/raw/scBam/CB_CGAGAAGCAGGGAGAG-*.bam\n",
      "file not done yet ../data/raw/scBam/CB_ACTTACTTCTCATTCA-*.bam\n",
      "python /home/isshamie/software/mito-genotyping/exampleProcessing//01_pileup_counts.py ../data/raw/scBam/CB_ACACCCTAGAATGTGT-1.bam ../data/raw/scPileup/CB_ACACCCTAGAATGTGT-1 16571 0 ACACCCTAGAATGTGT-1.bam 0\n"
     ]
    },
    {
     "name": "stderr",
     "output_type": "stream",
     "text": [
      "\r",
      "  3%|▎         | 2314/75923 [12:43<15:39:20,  1.31it/s]"
     ]
    },
    {
     "name": "stdout",
     "output_type": "stream",
     "text": [
      "python /home/isshamie/software/mito-genotyping/exampleProcessing//01_pileup_counts.py ../data/raw/scBam/CB_AACTTTCAGGTAGCTG-1.bam ../data/raw/scPileup/CB_AACTTTCAGGTAGCTG-1 16571 0 AACTTTCAGGTAGCTG-1.bam 0\n"
     ]
    },
    {
     "name": "stderr",
     "output_type": "stream",
     "text": [
      "  3%|▎         | 2316/75923 [12:45<16:47:32,  1.22it/s]"
     ]
    },
    {
     "name": "stdout",
     "output_type": "stream",
     "text": [
      "file not done yet ../data/raw/scBam/CB_TTTGCGCTCTCAACTT-*.bam\n",
      "python /home/isshamie/software/mito-genotyping/exampleProcessing//01_pileup_counts.py ../data/raw/scBam/CB_ACCAGTACACAGGTTT-1.bam ../data/raw/scPileup/CB_ACCAGTACACAGGTTT-1 16571 0 ACCAGTACACAGGTTT-1.bam 0\n"
     ]
    },
    {
     "name": "stderr",
     "output_type": "stream",
     "text": [
      "  3%|▎         | 2318/75923 [12:47<17:15:52,  1.18it/s]"
     ]
    },
    {
     "name": "stdout",
     "output_type": "stream",
     "text": [
      "file not done yet ../data/raw/scBam/CB_GGGCACTAGTGCGATG-*.bam\n"
     ]
    },
    {
     "name": "stderr",
     "output_type": "stream",
     "text": [
      "\r",
      "  3%|▎         | 2319/75923 [12:47<13:43:57,  1.49it/s]"
     ]
    },
    {
     "name": "stdout",
     "output_type": "stream",
     "text": [
      "file not done yet ../data/raw/scBam/CB_CATCGAATCTGCCAGG-*.bam\n"
     ]
    },
    {
     "name": "stderr",
     "output_type": "stream",
     "text": [
      "  3%|▎         | 2321/75923 [12:48<8:48:49,  2.32it/s] "
     ]
    },
    {
     "name": "stdout",
     "output_type": "stream",
     "text": [
      "file not done yet ../data/raw/scBam/CB_TCGCGAGCATACCATG-*.bam\n",
      "file not done yet ../data/raw/scBam/CB_CTTACCGTCCGTTGTC-*.bam\n"
     ]
    },
    {
     "name": "stderr",
     "output_type": "stream",
     "text": [
      "\r",
      "  3%|▎         | 2322/75923 [12:48<7:42:32,  2.65it/s]"
     ]
    },
    {
     "name": "stdout",
     "output_type": "stream",
     "text": [
      "file not done yet ../data/raw/scBam/CB_TATTACCGTGAAGGCT-*.bam\n"
     ]
    },
    {
     "name": "stderr",
     "output_type": "stream",
     "text": [
      "  3%|▎         | 2324/75923 [12:48<5:51:08,  3.49it/s]"
     ]
    },
    {
     "name": "stdout",
     "output_type": "stream",
     "text": [
      "file not done yet ../data/raw/scBam/CB_TTCTACAAGATGTGTA-*.bam\n",
      "file not done yet ../data/raw/scBam/CB_CCTTACGGTTCAGGCC-*.bam\n"
     ]
    },
    {
     "name": "stderr",
     "output_type": "stream",
     "text": [
      "\r",
      "  3%|▎         | 2325/75923 [12:48<5:24:52,  3.78it/s]"
     ]
    },
    {
     "name": "stdout",
     "output_type": "stream",
     "text": [
      "file not done yet ../data/raw/scBam/CB_TGATTTCGTAAATGTG-*.bam\n"
     ]
    },
    {
     "name": "stderr",
     "output_type": "stream",
     "text": [
      "\r",
      "  3%|▎         | 2326/75923 [12:49<5:08:19,  3.98it/s]"
     ]
    },
    {
     "name": "stdout",
     "output_type": "stream",
     "text": [
      "file not done yet ../data/raw/scBam/CB_CTGGTCTGTCAAAGAT-*.bam\n",
      "python /home/isshamie/software/mito-genotyping/exampleProcessing//01_pileup_counts.py ../data/raw/scBam/CB_ACATGGTTCTGCGACG-1.bam ../data/raw/scPileup/CB_ACATGGTTCTGCGACG-1 16571 0 ACATGGTTCTGCGACG-1.bam 0\n"
     ]
    },
    {
     "name": "stderr",
     "output_type": "stream",
     "text": [
      "  3%|▎         | 2328/75923 [12:51<14:44:30,  1.39it/s]"
     ]
    },
    {
     "name": "stdout",
     "output_type": "stream",
     "text": [
      "file not done yet ../data/raw/scBam/CB_CGTCAGGTCATAGCAC-*.bam\n"
     ]
    },
    {
     "name": "stderr",
     "output_type": "stream",
     "text": [
      "\r",
      "  3%|▎         | 2329/75923 [12:52<11:43:34,  1.74it/s]"
     ]
    },
    {
     "name": "stdout",
     "output_type": "stream",
     "text": [
      "file not done yet ../data/raw/scBam/CB_CATATGGGTACGAAAT-*.bam\n"
     ]
    },
    {
     "name": "stderr",
     "output_type": "stream",
     "text": [
      "  3%|▎         | 2331/75923 [12:52<7:55:52,  2.58it/s] "
     ]
    },
    {
     "name": "stdout",
     "output_type": "stream",
     "text": [
      "file not done yet ../data/raw/scBam/CB_CTACCCACACCAGGTC-*.bam\n",
      "file not done yet ../data/raw/scBam/CB_ATCATCTCATTGGGCC-*.bam\n"
     ]
    },
    {
     "name": "stderr",
     "output_type": "stream",
     "text": [
      "\r",
      "  3%|▎         | 2332/75923 [12:52<6:52:41,  2.97it/s]"
     ]
    },
    {
     "name": "stdout",
     "output_type": "stream",
     "text": [
      "file not done yet ../data/raw/scBam/CB_ACTTTCAAGCGCTCCA-*.bam\n"
     ]
    },
    {
     "name": "stderr",
     "output_type": "stream",
     "text": [
      "  3%|▎         | 2334/75923 [12:53<5:26:40,  3.75it/s]"
     ]
    },
    {
     "name": "stdout",
     "output_type": "stream",
     "text": [
      "file not done yet ../data/raw/scBam/CB_ACTATCTGTAGCGTGA-*.bam\n",
      "file not done yet ../data/raw/scBam/CB_TAGACCAGTCAGGACA-*.bam\n"
     ]
    },
    {
     "name": "stderr",
     "output_type": "stream",
     "text": [
      "\r",
      "  3%|▎         | 2335/75923 [12:53<5:04:52,  4.02it/s]"
     ]
    },
    {
     "name": "stdout",
     "output_type": "stream",
     "text": [
      "file not done yet ../data/raw/scBam/CB_GGGTTGCCAGGGCATA-*.bam\n"
     ]
    },
    {
     "name": "stderr",
     "output_type": "stream",
     "text": [
      "\r",
      "  3%|▎         | 2336/75923 [12:53<4:56:20,  4.14it/s]"
     ]
    },
    {
     "name": "stdout",
     "output_type": "stream",
     "text": [
      "file not done yet ../data/raw/scBam/CB_CCTTTCTGTTCCGTCT-*.bam\n"
     ]
    },
    {
     "name": "stderr",
     "output_type": "stream",
     "text": [
      "  3%|▎         | 2338/75923 [12:54<4:29:30,  4.55it/s]"
     ]
    },
    {
     "name": "stdout",
     "output_type": "stream",
     "text": [
      "file not done yet ../data/raw/scBam/CB_CGTAGGCGTTACGCGC-*.bam\n",
      "file not done yet ../data/raw/scBam/CB_CTAGCCTCAGCTCGAC-*.bam\n"
     ]
    },
    {
     "name": "stderr",
     "output_type": "stream",
     "text": [
      "\r",
      "  3%|▎         | 2339/75923 [12:54<4:32:33,  4.50it/s]"
     ]
    },
    {
     "name": "stdout",
     "output_type": "stream",
     "text": [
      "file not done yet ../data/raw/scBam/CB_AGTAGTCAGGCGCTCT-*.bam\n"
     ]
    },
    {
     "name": "stderr",
     "output_type": "stream",
     "text": [
      "\r",
      "  3%|▎         | 2340/75923 [12:54<4:34:52,  4.46it/s]"
     ]
    },
    {
     "name": "stdout",
     "output_type": "stream",
     "text": [
      "file not done yet ../data/raw/scBam/CB_CTCCTAGGTAGGCTGA-*.bam\n"
     ]
    },
    {
     "name": "stderr",
     "output_type": "stream",
     "text": [
      "\r",
      "  3%|▎         | 2341/75923 [12:54<4:41:14,  4.36it/s]"
     ]
    },
    {
     "name": "stdout",
     "output_type": "stream",
     "text": [
      "file not done yet ../data/raw/scBam/CB_CACTCCAAGTATTGGA-*.bam\n"
     ]
    },
    {
     "name": "stderr",
     "output_type": "stream",
     "text": [
      "\r",
      "  3%|▎         | 2342/75923 [12:54<4:31:06,  4.52it/s]"
     ]
    },
    {
     "name": "stdout",
     "output_type": "stream",
     "text": [
      "file not done yet ../data/raw/scBam/CB_TACACGACAGACGCTC-*.bam\n"
     ]
    },
    {
     "name": "stderr",
     "output_type": "stream",
     "text": [
      "\r",
      "  3%|▎         | 2343/75923 [12:55<4:37:12,  4.42it/s]"
     ]
    },
    {
     "name": "stdout",
     "output_type": "stream",
     "text": [
      "file not done yet ../data/raw/scBam/CB_CCAGCGAGTTACCAGT-*.bam\n"
     ]
    },
    {
     "name": "stderr",
     "output_type": "stream",
     "text": [
      "  3%|▎         | 2345/75923 [12:55<4:28:03,  4.57it/s]"
     ]
    },
    {
     "name": "stdout",
     "output_type": "stream",
     "text": [
      "file not done yet ../data/raw/scBam/CB_GCGCCAAGTTACGACT-*.bam\n",
      "file not done yet ../data/raw/scBam/CB_CTCATTACAGGATCGA-*.bam\n",
      "python /home/isshamie/software/mito-genotyping/exampleProcessing//01_pileup_counts.py ../data/raw/scBam/CB_AAAGCAAGTGTTGAGG-1.bam ../data/raw/scPileup/CB_AAAGCAAGTGTTGAGG-1 16571 0 AAAGCAAGTGTTGAGG-1.bam 0\n"
     ]
    },
    {
     "name": "stderr",
     "output_type": "stream",
     "text": [
      "  3%|▎         | 2347/75923 [12:57<10:57:43,  1.86it/s]"
     ]
    },
    {
     "name": "stdout",
     "output_type": "stream",
     "text": [
      "file not done yet ../data/raw/scBam/CB_CTAACTTCAAGAAAGG-*.bam\n"
     ]
    },
    {
     "name": "stderr",
     "output_type": "stream",
     "text": [
      "\r",
      "  3%|▎         | 2348/75923 [12:57<8:55:37,  2.29it/s] "
     ]
    },
    {
     "name": "stdout",
     "output_type": "stream",
     "text": [
      "file not done yet ../data/raw/scBam/CB_GAAGCAGGTGCAGACA-*.bam\n"
     ]
    },
    {
     "name": "stderr",
     "output_type": "stream",
     "text": [
      "  3%|▎         | 2350/75923 [12:58<6:28:06,  3.16it/s]"
     ]
    },
    {
     "name": "stdout",
     "output_type": "stream",
     "text": [
      "file not done yet ../data/raw/scBam/CB_GTGTGCGGTAGCTCCG-*.bam\n",
      "file not done yet ../data/raw/scBam/CB_TCGTACCTCATAGCAC-*.bam\n"
     ]
    },
    {
     "name": "stderr",
     "output_type": "stream",
     "text": [
      "\r",
      "  3%|▎         | 2351/75923 [12:58<5:41:06,  3.59it/s]"
     ]
    },
    {
     "name": "stdout",
     "output_type": "stream",
     "text": [
      "file not done yet ../data/raw/scBam/CB_CGTCCATAGTCGAGTG-*.bam\n"
     ]
    },
    {
     "name": "stderr",
     "output_type": "stream",
     "text": [
      "\r",
      "  3%|▎         | 2352/75923 [12:58<5:30:34,  3.71it/s]"
     ]
    },
    {
     "name": "stdout",
     "output_type": "stream",
     "text": [
      "file not done yet ../data/raw/scBam/CB_GAGCAGATCACATGCA-*.bam\n"
     ]
    },
    {
     "name": "stderr",
     "output_type": "stream",
     "text": [
      "\r",
      "  3%|▎         | 2353/75923 [12:58<5:22:37,  3.80it/s]"
     ]
    },
    {
     "name": "stdout",
     "output_type": "stream",
     "text": [
      "file not done yet ../data/raw/scBam/CB_AGGGATGGTGGTGTAG-*.bam\n"
     ]
    },
    {
     "name": "stderr",
     "output_type": "stream",
     "text": [
      "\r",
      "  3%|▎         | 2354/75923 [12:59<5:10:11,  3.95it/s]"
     ]
    },
    {
     "name": "stdout",
     "output_type": "stream",
     "text": [
      "file not done yet ../data/raw/scBam/CB_ATCATGGTCTATCGCC-*.bam\n"
     ]
    },
    {
     "name": "stderr",
     "output_type": "stream",
     "text": [
      "\r",
      "  3%|▎         | 2355/75923 [12:59<5:11:45,  3.93it/s]"
     ]
    },
    {
     "name": "stdout",
     "output_type": "stream",
     "text": [
      "file not done yet ../data/raw/scBam/CB_TCTCTAATCATAGCAC-*.bam\n",
      "file not done yet ../data/raw/scBam/CB_CTGTGCTAGCAGGTCA-*.bam\n"
     ]
    },
    {
     "name": "stderr",
     "output_type": "stream",
     "text": [
      "  3%|▎         | 2357/75923 [12:59<5:04:36,  4.03it/s]"
     ]
    },
    {
     "name": "stdout",
     "output_type": "stream",
     "text": [
      "file not done yet ../data/raw/scBam/CB_TCCACACGTTGAGTTC-*.bam\n"
     ]
    },
    {
     "name": "stderr",
     "output_type": "stream",
     "text": [
      "\r",
      "  3%|▎         | 2358/75923 [13:00<5:02:33,  4.05it/s]"
     ]
    },
    {
     "name": "stdout",
     "output_type": "stream",
     "text": [
      "file not done yet ../data/raw/scBam/CB_TCACAAGGTACAAGTA-*.bam\n"
     ]
    },
    {
     "name": "stderr",
     "output_type": "stream",
     "text": [
      "\r",
      "  3%|▎         | 2359/75923 [13:00<4:56:41,  4.13it/s]"
     ]
    },
    {
     "name": "stdout",
     "output_type": "stream",
     "text": [
      "file not done yet ../data/raw/scBam/CB_TGACTTTTCTTCTGGC-*.bam\n"
     ]
    },
    {
     "name": "stderr",
     "output_type": "stream",
     "text": [
      "\r",
      "  3%|▎         | 2360/75923 [13:00<4:49:49,  4.23it/s]"
     ]
    },
    {
     "name": "stdout",
     "output_type": "stream",
     "text": [
      "file not done yet ../data/raw/scBam/CB_ATTACTCGTTCGCTAA-*.bam\n",
      "python /home/isshamie/software/mito-genotyping/exampleProcessing//01_pileup_counts.py ../data/raw/scBam/CB_AAGCCGCCAGTTAACC-1.bam ../data/raw/scPileup/CB_AAGCCGCCAGTTAACC-1 16571 0 AAGCCGCCAGTTAACC-1.bam 0\n"
     ]
    },
    {
     "name": "stderr",
     "output_type": "stream",
     "text": [
      "  3%|▎         | 2363/75923 [13:02<9:12:50,  2.22it/s] "
     ]
    },
    {
     "name": "stdout",
     "output_type": "stream",
     "text": [
      "file not done yet ../data/raw/scBam/CB_AGATCTGCAGGAATGC-*.bam\n",
      "file not done yet ../data/raw/scBam/CB_CGTAGGCGTTTGTGTG-*.bam\n"
     ]
    },
    {
     "name": "stderr",
     "output_type": "stream",
     "text": [
      "\r",
      "  3%|▎         | 2364/75923 [13:02<7:32:38,  2.71it/s]"
     ]
    },
    {
     "name": "stdout",
     "output_type": "stream",
     "text": [
      "file not done yet ../data/raw/scBam/CB_ACGGAGATCAGTTAGC-*.bam\n"
     ]
    },
    {
     "name": "stderr",
     "output_type": "stream",
     "text": [
      "\r",
      "  3%|▎         | 2365/75923 [13:03<6:46:27,  3.02it/s]"
     ]
    },
    {
     "name": "stdout",
     "output_type": "stream",
     "text": [
      "file not done yet ../data/raw/scBam/CB_GATCGATGTACGAAAT-*.bam\n"
     ]
    },
    {
     "name": "stderr",
     "output_type": "stream",
     "text": [
      "\r",
      "  3%|▎         | 2366/75923 [13:03<6:00:21,  3.40it/s]"
     ]
    },
    {
     "name": "stdout",
     "output_type": "stream",
     "text": [
      "file not done yet ../data/raw/scBam/CB_GCATGCGGTGTGAATA-*.bam\n"
     ]
    }
   ],
   "source": [
    "maxBP = 16571\n",
    "base_qual = 0\n",
    "alignment_quality = 0\n",
    "for CB in tqdm(CB_read_200):\n",
    "    bamfile = f\"{join(IN,'CB_' + CB + '-*.bam')}\"\n",
    "    if len(glob.glob(bamfile)) == 0:\n",
    "        print(f\"file not done yet {bamfile}\")\n",
    "        continue\n",
    "    bamfile = glob.glob(bamfile)[0]\n",
    "    outpre = join(OUT_DIR, os.path.basename(bamfile.replace(\".bam\",\"\")))\n",
    "    sample = os.path.basename(bamfile).split(\"_\")[-1]  \n",
    "    cmd = f\"python {FUNC_PATH}/01_pileup_counts.py {bamfile} {outpre} {maxBP} {base_qual} {sample} {alignment_quality}\"\n",
    "    print(cmd)\n",
    "    os.system(cmd)\n",
    "    "
   ]
  }
 ],
 "metadata": {
  "kernelspec": {
   "display_name": "Python 3",
   "language": "python",
   "name": "python3"
  },
  "language_info": {
   "codemirror_mode": {
    "name": "ipython",
    "version": 3
   },
   "file_extension": ".py",
   "mimetype": "text/x-python",
   "name": "python",
   "nbconvert_exporter": "python",
   "pygments_lexer": "ipython3",
   "version": "3.7.3"
  }
 },
 "nbformat": 4,
 "nbformat_minor": 2
}
