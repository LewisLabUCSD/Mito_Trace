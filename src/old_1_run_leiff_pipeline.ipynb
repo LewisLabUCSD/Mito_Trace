{
 "cells": [
  {
   "cell_type": "markdown",
   "metadata": {},
   "source": [
    "## This is with the wrong naming of the files (so nothing inherently wrong), where the numbers are saved instead of the barcode, and they are in data/raw/scBam_testCB* instead of in the scBam_test folder"
   ]
  },
  {
   "cell_type": "code",
   "execution_count": 17,
   "metadata": {
    "ExecuteTime": {
     "end_time": "2019-12-24T03:55:55.827076Z",
     "start_time": "2019-12-24T03:55:55.808162Z"
    }
   },
   "outputs": [],
   "source": [
    "import glob\n",
    "import os\n",
    "import pandas as pd\n",
    "from tqdm import tqdm\n",
    "import numpy as np\n",
    "import pysam\n",
    "import time\n",
    "from collections import defaultdict\n",
    "import pickle\n",
    "import matplotlib.pyplot as plt\n",
    "import seaborn as sns\n",
    "import subprocess\n",
    "%matplotlib inline\n",
    "\n",
    "from os.path import join"
   ]
  },
  {
   "cell_type": "code",
   "execution_count": 2,
   "metadata": {
    "ExecuteTime": {
     "end_time": "2019-12-24T03:46:58.690106Z",
     "start_time": "2019-12-24T03:46:58.686510Z"
    }
   },
   "outputs": [],
   "source": [
    "BAM = \"../data/raw/14515X1.MT.bam\"\n",
    "BARCODES = \"../data/raw/Human2_002_Barcodes.txt\"\n",
    "NUM_CORES = 32\n",
    "IN = \"../data/scBam_test\"\n",
    "OUT_DIR = \"../data/pileup/\"\n",
    "BARCODE_INFO = \"../data/scBam/barcode_data.p\""
   ]
  },
  {
   "cell_type": "code",
   "execution_count": 3,
   "metadata": {
    "ExecuteTime": {
     "end_time": "2019-12-24T03:47:00.801978Z",
     "start_time": "2019-12-24T03:46:58.692498Z"
    }
   },
   "outputs": [],
   "source": [
    "files = glob.glob(\"../data/raw/scBam_test*bam\")"
   ]
  },
  {
   "cell_type": "code",
   "execution_count": null,
   "metadata": {
    "ExecuteTime": {
     "start_time": "2019-12-24T04:02:47.945Z"
    },
    "scrolled": true
   },
   "outputs": [
    {
     "name": "stderr",
     "output_type": "stream",
     "text": [
      "  1%|          | 2161/295614 [03:19<7:54:01, 10.32it/s] "
     ]
    }
   ],
   "source": [
    "over_200 = set()\n",
    "for i in tqdm(files):\n",
    "    output = subprocess.check_output(f\"samtools view {i} | wc -l\", shell=True, universal_newlines=True )\n",
    "    if int(output.strip()) >= 200:\n",
    "        over_200.add(i)"
   ]
  },
  {
   "cell_type": "markdown",
   "metadata": {},
   "source": [
    "## Calculate coverage of each position "
   ]
  },
  {
   "cell_type": "code",
   "execution_count": null,
   "metadata": {
    "ExecuteTime": {
     "start_time": "2019-12-24T04:58:38.080Z"
    }
   },
   "outputs": [],
   "source": [
    "CB_read_200[0]\n"
   ]
  },
  {
   "cell_type": "code",
   "execution_count": null,
   "metadata": {
    "ExecuteTime": {
     "start_time": "2019-12-24T05:37:01.456Z"
    }
   },
   "outputs": [],
   "source": [
    "over_200"
   ]
  },
  {
   "cell_type": "code",
   "execution_count": null,
   "metadata": {},
   "outputs": [],
   "source": [
    "#python 01_pileup_counts.py raw_data/mt_singles-BM0828-HSC-frozen-151027-90.st.bam processed_data/BM0820_HSC_90 16571 0 BM0820_HSC_90 0\n"
   ]
  },
  {
   "cell_type": "code",
   "execution_count": null,
   "metadata": {
    "ExecuteTime": {
     "start_time": "2019-12-24T05:52:41.571Z"
    }
   },
   "outputs": [],
   "source": [
    "maxBP = 16571\n",
    "base_qual = 0\n",
    "alignment_quality = 0\n",
    "for f in tqdm(over_200):\n",
    "    bamfile = f\n",
    "    outpre = join(OUT_DIR, os.path.basename(bamfile.replace(\".bam\",\"\")))\n",
    "    sample = os.path.basename(bamfile).split(\"_\")[-1]  \n",
    "    cmd = f\"python {FUNC_PATH}/01_pileup_counts.py {bamfile} {outpre} {maxBP} {base_qual} {sample} {alignment_quality}\"\n",
    "    print(cmd)\n",
    "    os.system(cmd)\n",
    "    "
   ]
  }
 ],
 "metadata": {
  "kernelspec": {
   "display_name": "Python 3",
   "language": "python",
   "name": "python3"
  },
  "language_info": {
   "codemirror_mode": {
    "name": "ipython",
    "version": 3
   },
   "file_extension": ".py",
   "mimetype": "text/x-python",
   "name": "python",
   "nbconvert_exporter": "python",
   "pygments_lexer": "ipython3",
   "version": "3.7.3"
  }
 },
 "nbformat": 4,
 "nbformat_minor": 2
}
