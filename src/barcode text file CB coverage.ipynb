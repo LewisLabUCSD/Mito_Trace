{
 "cells": [
  {
   "cell_type": "markdown",
   "metadata": {},
   "source": [
    "# Create a heatmap of cells-by-position to see if reads concentrate to certain positions"
   ]
  },
  {
   "cell_type": "code",
   "execution_count": 47,
   "metadata": {
    "ExecuteTime": {
     "end_time": "2020-01-14T21:15:43.428535Z",
     "start_time": "2020-01-14T21:15:43.392965Z"
    }
   },
   "outputs": [],
   "source": [
    "import glob\n",
    "import os\n",
    "import pandas as pd\n",
    "from tqdm import tqdm\n",
    "import numpy as np\n",
    "import pysam\n",
    "import time\n",
    "from collections import defaultdict\n",
    "import pickle\n",
    "import matplotlib.pyplot as plt\n",
    "import seaborn as sns\n",
    "import subprocess\n",
    "%matplotlib inline\n",
    "import seaborn as sns\n",
    "from os.path import join\n",
    "from plot_CB_coverage import plot_coverage_barcode_file"
   ]
  },
  {
   "cell_type": "code",
   "execution_count": 2,
   "metadata": {
    "ExecuteTime": {
     "end_time": "2020-01-14T20:27:10.189757Z",
     "start_time": "2020-01-14T20:27:10.186494Z"
    }
   },
   "outputs": [],
   "source": [
    "from numpanpar import parallel_df as pardf"
   ]
  },
  {
   "cell_type": "code",
   "execution_count": 49,
   "metadata": {
    "ExecuteTime": {
     "end_time": "2020-01-14T21:17:21.068361Z",
     "start_time": "2020-01-14T21:17:21.063812Z"
    }
   },
   "outputs": [],
   "source": [
    "BARCODE_INFO = \"../data/processed/A/A_barcode_data.p\"\n",
    "maxBP = 16571\n",
    "PILEUP_DIR = \"../data/processed/A/A_scPileup_200/\"\n",
    "BARCODE_TEXT = \"../data/raw/GSM3271867/barcodes/GSE117131_Zhu_SC-10X_human_annotation.txt\"\n",
    "BARCODE_TEXT_MOUSE = \"../data/raw/GSM3271867/barcodes/GSE117131_Zhu_SC-10X_mouse_annotation.txt\"\n",
    "SAVEFIG = \"../figures/A/Abarcode_MT_CB.png\"\n",
    "SAVEFIG_HIST = \"../figures/A/Abarcode_MT_hist.png\""
   ]
  },
  {
   "cell_type": "code",
   "execution_count": 50,
   "metadata": {
    "ExecuteTime": {
     "end_time": "2020-01-14T21:17:26.354056Z",
     "start_time": "2020-01-14T21:17:23.228113Z"
    }
   },
   "outputs": [
    {
     "name": "stdout",
     "output_type": "stream",
     "text": [
      "Human1_001\n",
      "Human1_001\n",
      "Human1_001\n",
      "Human1_001\n",
      "Human1_001\n",
      "Human1_001\n",
      "Human1_001\n",
      "Human1_001\n",
      "Human1_001\n",
      "Human1_001\n",
      "Human1_001\n",
      "Human1_001\n",
      "Human1_001\n",
      "Human1_001\n",
      "Human1_001\n",
      "Human1_001\n",
      "Human1_001\n",
      "Human1_001\n",
      "Human1_001\n",
      "Human1_001\n",
      "Human1_001\n",
      "Human1_001\n",
      "Human1_001\n",
      "Human1_001\n",
      "Human1_001\n",
      "Human1_001\n",
      "Human1_001\n",
      "Human1_001\n",
      "Human1_001\n",
      "Human1_001\n",
      "Human1_001\n",
      "Human1_001\n",
      "Human1_001\n",
      "Human1_001\n",
      "Human1_001\n",
      "Human1_001\n",
      "Human1_001\n",
      "Human1_001\n",
      "Human1_001\n",
      "Human1_001\n",
      "Human1_001\n",
      "Human1_001\n",
      "Human1_001\n",
      "Human1_001\n",
      "Human1_001\n",
      "Human1_001\n",
      "Human1_001\n",
      "Human1_001\n",
      "Human1_001\n",
      "Human1_001\n",
      "Human1_001\n",
      "Human1_001\n",
      "Human1_001\n",
      "Human1_001\n",
      "Human1_001\n",
      "Human1_001\n",
      "Human1_001\n",
      "Human1_001\n",
      "Human1_001\n",
      "Human1_001\n",
      "Human1_001\n",
      "Human1_001\n",
      "Human1_001\n",
      "Human1_001\n",
      "Human1_001\n",
      "Human1_001\n",
      "Human1_001\n",
      "Human1_001\n",
      "Human1_001\n",
      "Human1_001\n",
      "Human1_001\n",
      "Human1_001\n",
      "Human1_001\n",
      "Human1_001\n",
      "Human1_001\n",
      "Human1_001\n",
      "Human1_001\n",
      "Human1_001\n",
      "Human1_001\n",
      "Human1_001\n",
      "Human1_001\n",
      "Human1_001\n",
      "Human1_001\n",
      "Human1_001\n",
      "Human1_001\n",
      "Human1_001\n",
      "Human1_001\n",
      "Human1_001\n",
      "Human1_001\n",
      "Human1_001\n",
      "Human1_001\n",
      "Human1_001\n",
      "Human1_001\n",
      "Human1_001\n",
      "Human1_001\n",
      "Human1_001\n",
      "Human1_001\n",
      "Human1_001\n",
      "Human1_001\n",
      "Human1_001\n",
      "Human1_001\n",
      "Human1_001\n",
      "Human1_001\n",
      "Human1_001\n",
      "Human1_001\n",
      "Human1_001\n",
      "Human1_001\n",
      "Human1_001\n",
      "Human1_001\n",
      "Human1_001\n",
      "Human1_001\n",
      "Human1_001\n",
      "Human1_001\n",
      "Human1_001\n",
      "Human1_001\n",
      "Human1_001\n",
      "Human1_001\n",
      "Human1_001\n",
      "Human1_001\n",
      "Human1_001\n",
      "Human1_001\n",
      "Human1_001\n",
      "Human1_001\n",
      "Human1_001\n",
      "Human1_001\n",
      "Human1_001\n",
      "Human1_001\n",
      "Human1_001\n",
      "Human1_001\n",
      "Human1_001\n",
      "Human1_001\n",
      "Human1_001\n",
      "Human1_001\n",
      "Human1_001\n",
      "Human1_001\n",
      "Human1_001\n",
      "Human1_001\n",
      "Human1_001\n",
      "Human1_001\n",
      "Human1_001\n",
      "Human1_001\n",
      "Human1_001\n",
      "Human1_001\n",
      "Mouse_Tumor1_001\n",
      "Mouse_Tumor1_001\n",
      "Mouse_Tumor1_001\n",
      "Mouse_Tumor1_001\n",
      "Mouse_Tumor1_001\n",
      "Mouse_Tumor1_001\n",
      "Mouse_Tumor1_001\n",
      "Mouse_Tumor1_001\n",
      "Mouse_Tumor1_001\n",
      "Mouse_Tumor1_001\n",
      "Mouse_Tumor1_001\n",
      "Mouse_Tumor1_001\n",
      "Mouse_Tumor1_001\n",
      "Mouse_Tumor1_001\n",
      "Mouse_Tumor1_001\n",
      "Mouse_Tumor1_001\n",
      "Mouse_Tumor1_001\n",
      "Mouse_Tumor1_001\n",
      "Mouse_Tumor1_001\n",
      "Mouse_Tumor1_001\n",
      "Mouse_Tumor1_001\n",
      "Mouse_Tumor1_001\n",
      "Mouse_Tumor1_001\n",
      "Mouse_Tumor1_001\n",
      "Mouse_Tumor1_001\n",
      "Mouse_Tumor1_001\n",
      "Mouse_Tumor1_001\n",
      "Mouse_Tumor1_001\n",
      "Mouse_Tumor1_001\n",
      "Mouse_Tumor1_001\n",
      "Mouse_Tumor1_001\n",
      "Mouse_Tumor1_001\n",
      "Mouse_Tumor1_001\n",
      "Mouse_Tumor1_001\n",
      "Mouse_Tumor1_001\n",
      "Mouse_Tumor1_001\n",
      "Mouse_Tumor1_001\n",
      "Mouse_Tumor1_001\n",
      "Mouse_Tumor1_001\n",
      "Mouse_Tumor1_001\n",
      "Mouse_Tumor1_001\n",
      "Mouse_Tumor1_001\n",
      "Mouse_Tumor1_001\n",
      "Mouse_Tumor1_001\n",
      "Mouse_Tumor1_001\n",
      "Mouse_Tumor1_001\n",
      "Mouse_Tumor1_001\n",
      "Mouse_Tumor1_001\n",
      "Mouse_Tumor1_001\n",
      "Mouse_Tumor1_001\n",
      "Mouse_Tumor1_001\n",
      "Mouse_Tumor1_001\n",
      "Mouse_Tumor1_001\n",
      "Mouse_Tumor1_001\n",
      "Mouse_Tumor1_001\n",
      "Mouse_Tumor1_001\n",
      "Mouse_Tumor1_001\n",
      "Mouse_Tumor1_001\n",
      "Mouse_Tumor1_001\n",
      "Mouse_Tumor1_001\n",
      "Mouse_Tumor1_001\n",
      "Mouse_Tumor1_001\n",
      "Mouse_Tumor1_001\n",
      "Mouse_Tumor1_001\n",
      "Mouse_Tumor1_001\n",
      "Mouse_Tumor1_001\n",
      "Mouse_Tumor1_001\n",
      "Mouse_Tumor1_001\n",
      "Mouse_Tumor1_001\n",
      "Mouse_Tumor1_001\n",
      "Mouse_Tumor1_001\n",
      "Mouse_Tumor1_001\n",
      "Mouse_Tumor1_001\n",
      "Mouse_Tumor1_001\n",
      "Mouse_Tumor1_001\n",
      "Mouse_Tumor1_001\n",
      "Mouse_Tumor1_001\n",
      "Mouse_Tumor1_001\n",
      "Mouse_Tumor1_001\n",
      "Mouse_Tumor1_001\n",
      "Mouse_Tumor1_001\n",
      "Mouse_Tumor1_001\n",
      "Mouse_Tumor1_001\n",
      "Mouse_Tumor1_001\n",
      "Mouse_Tumor1_001\n",
      "Mouse_Tumor1_001\n",
      "Mouse_Tumor1_001\n",
      "Mouse_Tumor1_001\n",
      "Mouse_Tumor1_001\n",
      "Mouse_Tumor1_001\n",
      "Mouse_Tumor1_001\n",
      "Mouse_Tumor1_001\n",
      "Mouse_Tumor1_001\n",
      "Mouse_Tumor1_001\n",
      "Mouse_Tumor1_001\n",
      "Mouse_Tumor1_001\n",
      "Mouse_Tumor1_001\n",
      "Mouse_Tumor1_001\n",
      "Mouse_Tumor1_001\n",
      "Mouse_Tumor1_001\n",
      "Mouse_Tumor1_001\n",
      "Mouse_Tumor1_001\n",
      "Mouse_Tumor1_001\n",
      "Mouse_Tumor1_001\n",
      "Mouse_Tumor1_001\n",
      "Mouse_Tumor1_001\n",
      "Mouse_Tumor1_001\n",
      "Mouse_Tumor1_001\n",
      "Mouse_Tumor1_001\n",
      "Mouse_Tumor1_001\n",
      "Mouse_Tumor1_001\n",
      "Mouse_Tumor1_001\n",
      "Mouse_Tumor1_001\n",
      "Mouse_Tumor1_001\n",
      "Mouse_Tumor1_001\n",
      "Mouse_Tumor1_001\n",
      "Mouse_Tumor1_001\n",
      "Mouse_Tumor1_001\n",
      "Mouse_Tumor1_001\n",
      "Mouse_Tumor1_001\n",
      "Mouse_Tumor1_001\n",
      "Mouse_Tumor1_001\n",
      "Mouse_Tumor1_001\n",
      "Mouse_Tumor1_001\n",
      "Mouse_Tumor1_001\n",
      "Mouse_Tumor1_001\n",
      "Mouse_Tumor1_001\n",
      "Mouse_Tumor1_001\n",
      "Mouse_Tumor1_001\n",
      "Mouse_Tumor1_001\n",
      "Mouse_Tumor1_001\n",
      "Mouse_Tumor1_001\n",
      "Mouse_Tumor1_001\n",
      "Mouse_Tumor1_001\n",
      "Mouse_Tumor1_001\n",
      "Mouse_Tumor1_001\n",
      "Mouse_Tumor1_001\n",
      "Mouse_Tumor1_001\n",
      "Mouse_Tumor1_001\n",
      "Mouse_Tumor1_001\n",
      "Mouse_Tumor1_001\n",
      "Mouse_Tumor1_001\n",
      "Mouse_Tumor1_001\n",
      "Mouse_Tumor1_001\n",
      "Mouse_Tumor1_001\n",
      "Mouse_Tumor1_001\n",
      "Mouse_Tumor1_001\n",
      "Mouse_Tumor1_001\n",
      "Mouse_Tumor1_001\n",
      "Mouse_Tumor1_001\n",
      "Mouse_Tumor1_001\n",
      "Mouse_Tumor1_001\n",
      "Mouse_Tumor1_001\n",
      "Mouse_Tumor1_001\n",
      "Mouse_Tumor1_001\n",
      "Mouse_Tumor1_001\n",
      "Mouse_Tumor1_001\n",
      "Mouse_Tumor1_001\n",
      "Mouse_Tumor1_001\n",
      "Mouse_Tumor1_001\n",
      "Mouse_Tumor1_001\n",
      "Mouse_Tumor1_001\n",
      "Mouse_Tumor1_001\n",
      "Mouse_Tumor1_001\n",
      "Mouse_Tumor1_001\n",
      "Mouse_Tumor1_001\n",
      "Mouse_Tumor1_001\n",
      "Mouse_Tumor1_001\n",
      "Mouse_Tumor1_001\n",
      "Mouse_Tumor1_001\n",
      "Mouse_Tumor1_001\n",
      "Mouse_Tumor1_001\n",
      "Mouse_Tumor1_001\n",
      "Mouse_Tumor1_001\n",
      "Mouse_Tumor1_001\n",
      "Mouse_Tumor1_001\n",
      "Mouse_Tumor1_001\n",
      "Mouse_Tumor1_001\n",
      "Mouse_Tumor1_001\n",
      "Mouse_Tumor1_001\n",
      "Mouse_Tumor1_001\n",
      "Mouse_Tumor1_001\n",
      "Mouse_Tumor1_001\n",
      "Mouse_Tumor1_001\n",
      "Mouse_Tumor1_001\n",
      "Mouse_Tumor1_001\n",
      "Mouse_Tumor1_001\n",
      "Mouse_Tumor1_001\n",
      "Mouse_Tumor1_001\n",
      "Mouse_Tumor1_001\n",
      "Mouse_Tumor1_001\n",
      "Mouse_Tumor1_001\n",
      "Mouse_Tumor1_001\n",
      "Mouse_Tumor1_001\n",
      "Mouse_Tumor1_001\n",
      "Mouse_Tumor1_001\n",
      "Mouse_Tumor1_001\n",
      "Mouse_Tumor1_001\n",
      "Mouse_Tumor1_001\n",
      "Mouse_Tumor1_001\n",
      "Mouse_Tumor1_001\n",
      "Mouse_Tumor1_001\n",
      "Mouse_Tumor1_001\n",
      "Mouse_Tumor1_001\n",
      "Mouse_Tumor1_001\n",
      "Mouse_Tumor1_001\n",
      "Mouse_Tumor1_001\n",
      "Mouse_Tumor1_001\n",
      "Mouse_Tumor1_001\n",
      "Mouse_Tumor1_001\n",
      "Mouse_Tumor1_001\n",
      "Mouse_Tumor1_001\n",
      "Mouse_Tumor1_001\n",
      "Mouse_Tumor1_001\n",
      "Mouse_Tumor1_001\n",
      "Mouse_Tumor1_001\n",
      "Mouse_Tumor1_001\n",
      "Mouse_Tumor1_001\n",
      "Mouse_Tumor1_001\n",
      "Mouse_Tumor1_001\n",
      "Mouse_Tumor1_001\n",
      "Mouse_Tumor1_001\n",
      "Mouse_Tumor1_001\n",
      "Mouse_Tumor1_001\n",
      "Mouse_Tumor1_001\n",
      "Mouse_Tumor1_001\n",
      "Mouse_Tumor1_001\n",
      "Mouse_Tumor1_001\n",
      "Mouse_Tumor1_001\n",
      "Mouse_Tumor1_001\n",
      "Mouse_Tumor1_001\n",
      "Mouse_Tumor1_001\n",
      "Mouse_Tumor1_001\n",
      "Mouse_Tumor1_001\n",
      "Mouse_Tumor1_001\n",
      "Mouse_Tumor1_001\n",
      "Mouse_Tumor1_001\n",
      "Mouse_Tumor1_001\n",
      "Mouse_Tumor1_001\n",
      "Mouse_Tumor1_001\n",
      "Mouse_Tumor1_001\n",
      "Mouse_Tumor1_001\n",
      "Mouse_Tumor1_001\n",
      "Mouse_Tumor1_001\n",
      "Mouse_Tumor1_001\n",
      "Mouse_Tumor1_001\n",
      "Mouse_Tumor1_001\n",
      "Mouse_Tumor1_001\n",
      "Mouse_Tumor1_001\n",
      "Mouse_Tumor1_001\n",
      "Mouse_Tumor1_001\n",
      "Mouse_Tumor1_001\n",
      "Mouse_Tumor1_001\n",
      "Mouse_Tumor1_001\n",
      "Mouse_Tumor1_001\n",
      "Mouse_Tumor1_001\n",
      "Mouse_Tumor1_001\n",
      "Mouse_Tumor1_001\n",
      "Mouse_Tumor1_001\n",
      "Mouse_Tumor1_001\n",
      "Mouse_Tumor1_001\n",
      "Mouse_Tumor1_001\n",
      "Mouse_Tumor1_001\n",
      "Mouse_Tumor1_001\n",
      "Mouse_Tumor1_001\n",
      "Mouse_Tumor1_001\n",
      "Mouse_Tumor1_001\n",
      "Mouse_Tumor1_001\n",
      "Mouse_Tumor1_001\n",
      "Mouse_Tumor1_001\n",
      "Mouse_Tumor1_001\n",
      "Mouse_Tumor1_001\n",
      "Mouse_Tumor1_001\n",
      "Mouse_Tumor1_001\n",
      "Mouse_Tumor1_001\n",
      "Mouse_Tumor1_001\n",
      "Mouse_Tumor1_001\n",
      "Mouse_Tumor1_001\n",
      "Mouse_Tumor1_001\n",
      "Mouse_Tumor1_001\n",
      "Mouse_Tumor1_001\n",
      "Mouse_Tumor1_001\n",
      "Mouse_Tumor1_001\n",
      "Mouse_Tumor1_001\n",
      "Mouse_Tumor1_001\n",
      "Mouse_Tumor1_001\n",
      "Mouse_Tumor1_001\n",
      "Mouse_Tumor1_001\n",
      "Mouse_Tumor1_001\n",
      "Mouse_Tumor1_001\n",
      "Mouse_Tumor1_001\n",
      "Mouse_Tumor1_001\n",
      "Mouse_Tumor1_001\n",
      "Mouse_Tumor1_001\n",
      "Mouse_Tumor1_001\n",
      "Mouse_Tumor1_001\n",
      "Mouse_Tumor1_001\n",
      "Mouse_Tumor1_001\n",
      "Mouse_Tumor1_001\n",
      "Mouse_Tumor1_001\n",
      "Mouse_Tumor1_001\n",
      "Mouse_Tumor1_001\n",
      "Mouse_Tumor1_001\n",
      "Mouse_Tumor1_001\n",
      "Mouse_Tumor1_001\n",
      "Mouse_Tumor1_001\n",
      "Mouse_Tumor1_001\n",
      "Mouse_Tumor1_001\n",
      "Mouse_Tumor1_001\n",
      "Mouse_Tumor1_001\n",
      "Mouse_Tumor1_001\n",
      "Mouse_Tumor1_001\n",
      "Mouse_Tumor1_001\n",
      "Mouse_Tumor1_001\n",
      "Mouse_Tumor1_001\n",
      "Mouse_Tumor1_001\n",
      "Mouse_Tumor1_001\n",
      "Mouse_Tumor1_001\n",
      "Mouse_Tumor1_001\n",
      "Mouse_Tumor1_001\n",
      "Mouse_Tumor1_001\n",
      "Mouse_Tumor1_001\n",
      "Mouse_Tumor1_001\n",
      "Mouse_Tumor1_001\n",
      "Mouse_Tumor1_001\n",
      "Mouse_Tumor1_001\n",
      "Mouse_Tumor1_001\n",
      "Mouse_Tumor1_001\n",
      "Mouse_Tumor1_001\n",
      "Mouse_Tumor1_001\n",
      "Mouse_Tumor1_001\n",
      "Mouse_Tumor1_001\n",
      "Mouse_Tumor1_001\n",
      "Mouse_Tumor1_001\n",
      "Mouse_Tumor1_001\n",
      "Mouse_Tumor1_001\n",
      "Mouse_Tumor1_001\n",
      "Mouse_Tumor1_001\n",
      "Mouse_Tumor1_001\n",
      "Mouse_Tumor1_001\n",
      "Mouse_Tumor1_001\n",
      "Mouse_Tumor1_001\n",
      "Mouse_Tumor1_001\n",
      "Mouse_Tumor1_001\n",
      "Mouse_Tumor1_001\n",
      "Mouse_Tumor1_001\n",
      "Mouse_Tumor1_001\n",
      "Mouse_Tumor1_001\n",
      "Mouse_Tumor1_001\n",
      "Mouse_Tumor1_001\n",
      "Mouse_Tumor1_001\n",
      "Mouse_Tumor1_001\n",
      "Mouse_Tumor1_001\n",
      "Mouse_Tumor1_001\n",
      "Mouse_Tumor1_001\n",
      "Mouse_Tumor1_001\n",
      "Mouse_Tumor1_001\n",
      "Mouse_Tumor1_001\n",
      "Mouse_Tumor1_001\n",
      "Mouse_Tumor1_001\n",
      "Mouse_Tumor1_001\n",
      "Mouse_Tumor1_001\n",
      "Mouse_Tumor1_001\n",
      "Mouse_Tumor1_001\n",
      "Mouse_Tumor1_001\n",
      "Mouse_Tumor1_001\n",
      "Mouse_Tumor1_001\n",
      "Mouse_Tumor1_001\n",
      "Mouse_Tumor1_001\n",
      "Mouse_Tumor1_001\n",
      "Mouse_Tumor1_001\n",
      "Mouse_Tumor1_001\n",
      "Mouse_Tumor1_001\n",
      "Mouse_Tumor1_001\n",
      "Mouse_Tumor1_001\n",
      "Mouse_Tumor1_001\n",
      "Mouse_Tumor1_001\n",
      "Mouse_Tumor1_001\n",
      "Mouse_Tumor1_001\n",
      "Mouse_Tumor1_001\n",
      "Mouse_Tumor1_001\n",
      "Mouse_Tumor1_001\n",
      "Mouse_Tumor1_001\n",
      "Mouse_Tumor1_001\n",
      "Mouse_Tumor1_001\n",
      "Mouse_Tumor1_001\n",
      "Mouse_Tumor1_001\n",
      "Mouse_Tumor1_001\n",
      "Mouse_Tumor1_001\n",
      "Mouse_Tumor1_001\n",
      "Mouse_Tumor1_001\n",
      "Mouse_Tumor1_001\n",
      "Mouse_Tumor1_001\n",
      "Mouse_Tumor1_001\n",
      "Mouse_Tumor1_001\n",
      "Mouse_Tumor1_001\n",
      "Mouse_Tumor1_001\n",
      "Mouse_Tumor1_001\n",
      "Mouse_Tumor1_001\n",
      "Mouse_Tumor1_001\n",
      "Mouse_Tumor1_001\n",
      "Mouse_Tumor1_001\n",
      "Mouse_Tumor1_001\n",
      "Mouse_Tumor1_001\n",
      "Mouse_Tumor1_001\n",
      "Mouse_Tumor1_001\n",
      "Mouse_Tumor1_001\n",
      "Mouse_Tumor1_001\n",
      "Mouse_Tumor1_001\n",
      "Mouse_Tumor1_001\n",
      "Mouse_Tumor1_001\n",
      "Mouse_Tumor1_001\n",
      "Mouse_Tumor1_001\n",
      "Mouse_Tumor1_001\n",
      "Mouse_Tumor1_001\n",
      "Mouse_Tumor1_001\n",
      "Mouse_Tumor1_001\n",
      "Mouse_Tumor1_001\n",
      "Mouse_Tumor1_001\n",
      "Mouse_Tumor1_001\n",
      "Mouse_Tumor1_001\n",
      "Mouse_Tumor1_001\n",
      "Mouse_Tumor1_001\n",
      "Mouse_Tumor1_001\n",
      "Mouse_Tumor1_001\n",
      "Mouse_Tumor1_001\n",
      "Mouse_Tumor1_001\n",
      "Mouse_Tumor1_001\n",
      "Mouse_Tumor1_001\n",
      "Mouse_Tumor1_001\n",
      "Mouse_Tumor1_001\n"
     ]
    },
    {
     "data": {
      "image/png": "[encoded data removed]",
      "text/plain": [
       "<Figure size 432x288 with 1 Axes>"
      ]
     },
     "metadata": {
      "needs_background": "light"
     },
     "output_type": "display_data"
    }
   ],
   "source": [
    "plot_coverage_barcode_file(BARCODE_INFO,\n",
    "                           [BARCODE_TEXT, BARCODE_TEXT_MOUSE], \n",
    "                           f_save=SAVEFIG, maxBP=16571)\n"
   ]
  },
  {
   "cell_type": "code",
   "execution_count": null,
   "metadata": {},
   "outputs": [],
   "source": []
  },
  {
   "cell_type": "markdown",
   "metadata": {},
   "source": [
    "## Load CB's, get ones that have over average read coverage of 1x"
   ]
  },
  {
   "cell_type": "code",
   "execution_count": 4,
   "metadata": {
    "ExecuteTime": {
     "end_time": "2020-01-14T20:27:10.557419Z",
     "start_time": "2020-01-14T20:27:10.200404Z"
    }
   },
   "outputs": [],
   "source": [
    "[CR_read_number,CB_read_number,BC_read_number, barcodes, corrected_barcodes, barcode_pairs] = pickle.load(open(BARCODE_INFO,\"rb\"))"
   ]
  },
  {
   "cell_type": "markdown",
   "metadata": {},
   "source": [
    "# Load barcode text file"
   ]
  },
  {
   "cell_type": "markdown",
   "metadata": {},
   "source": [
    "## Without mouse barcode"
   ]
  },
  {
   "cell_type": "code",
   "execution_count": 5,
   "metadata": {
    "ExecuteTime": {
     "end_time": "2020-01-14T20:27:10.591267Z",
     "start_time": "2020-01-14T20:27:10.559215Z"
    },
    "scrolled": true
   },
   "outputs": [
    {
     "data": {
      "text/html": [
       "<div>\n",
       "<style scoped>\n",
       "    .dataframe tbody tr th:only-of-type {\n",
       "        vertical-align: middle;\n",
       "    }\n",
       "\n",
       "    .dataframe tbody tr th {\n",
       "        vertical-align: top;\n",
       "    }\n",
       "\n",
       "    .dataframe thead th {\n",
       "        text-align: right;\n",
       "    }\n",
       "</style>\n",
       "<table border=\"1\" class=\"dataframe\">\n",
       "  <thead>\n",
       "    <tr style=\"text-align: right;\">\n",
       "      <th></th>\n",
       "      <th>Barcode</th>\n",
       "      <th>Sample.Name</th>\n",
       "    </tr>\n",
       "  </thead>\n",
       "  <tbody>\n",
       "    <tr>\n",
       "      <th>1</th>\n",
       "      <td>AAAGATGAGGGTATCG.1</td>\n",
       "      <td>Human1_001</td>\n",
       "    </tr>\n",
       "    <tr>\n",
       "      <th>2</th>\n",
       "      <td>AAATGCCAGTACATGA.1</td>\n",
       "      <td>Human1_001</td>\n",
       "    </tr>\n",
       "    <tr>\n",
       "      <th>3</th>\n",
       "      <td>AACCATGCATCACGAT.1</td>\n",
       "      <td>Human1_001</td>\n",
       "    </tr>\n",
       "    <tr>\n",
       "      <th>4</th>\n",
       "      <td>AACGTTGTCTATGTGG.1</td>\n",
       "      <td>Human1_001</td>\n",
       "    </tr>\n",
       "    <tr>\n",
       "      <th>5</th>\n",
       "      <td>AACTCCCGTCTCTCGT.1</td>\n",
       "      <td>Human1_001</td>\n",
       "    </tr>\n",
       "    <tr>\n",
       "      <th>...</th>\n",
       "      <td>...</td>\n",
       "      <td>...</td>\n",
       "    </tr>\n",
       "    <tr>\n",
       "      <th>2071</th>\n",
       "      <td>TTTGGTTCATACAGCT.4</td>\n",
       "      <td>Human2_002</td>\n",
       "    </tr>\n",
       "    <tr>\n",
       "      <th>2072</th>\n",
       "      <td>TTTGGTTTCCTCTAGC.4</td>\n",
       "      <td>Human2_002</td>\n",
       "    </tr>\n",
       "    <tr>\n",
       "      <th>2073</th>\n",
       "      <td>TTTGTCAAGCTTCGCG.4</td>\n",
       "      <td>Human2_002</td>\n",
       "    </tr>\n",
       "    <tr>\n",
       "      <th>2074</th>\n",
       "      <td>TTTGTCAGTAGGCATG.4</td>\n",
       "      <td>Human2_002</td>\n",
       "    </tr>\n",
       "    <tr>\n",
       "      <th>2075</th>\n",
       "      <td>TTTGTCAGTCCGAACC.4</td>\n",
       "      <td>Human2_002</td>\n",
       "    </tr>\n",
       "  </tbody>\n",
       "</table>\n",
       "<p>2075 rows × 2 columns</p>\n",
       "</div>"
      ],
      "text/plain": [
       "                 Barcode Sample.Name\n",
       "1     AAAGATGAGGGTATCG.1  Human1_001\n",
       "2     AAATGCCAGTACATGA.1  Human1_001\n",
       "3     AACCATGCATCACGAT.1  Human1_001\n",
       "4     AACGTTGTCTATGTGG.1  Human1_001\n",
       "5     AACTCCCGTCTCTCGT.1  Human1_001\n",
       "...                  ...         ...\n",
       "2071  TTTGGTTCATACAGCT.4  Human2_002\n",
       "2072  TTTGGTTTCCTCTAGC.4  Human2_002\n",
       "2073  TTTGTCAAGCTTCGCG.4  Human2_002\n",
       "2074  TTTGTCAGTAGGCATG.4  Human2_002\n",
       "2075  TTTGTCAGTCCGAACC.4  Human2_002\n",
       "\n",
       "[2075 rows x 2 columns]"
      ]
     },
     "execution_count": 5,
     "metadata": {},
     "output_type": "execute_result"
    }
   ],
   "source": [
    "barcode_text = pd.read_csv(BARCODE_TEXT, sep=\"\\t\", index_col=0)\n",
    "#barcode_text_mouse = pd.read_csv(BARCODE_TEXT_MOUSE, sep=\"\\t\", index_col=0)\n",
    "\n",
    "#barcode_text = pd.concat((barcode_text,barcode_text_mouse ))\n",
    "barcode_text"
   ]
  },
  {
   "cell_type": "code",
   "execution_count": 6,
   "metadata": {
    "ExecuteTime": {
     "end_time": "2020-01-14T20:27:10.597209Z",
     "start_time": "2020-01-14T20:27:10.592886Z"
    }
   },
   "outputs": [
    {
     "name": "stdout",
     "output_type": "stream",
     "text": [
      "2075\n",
      "2075\n"
     ]
    }
   ],
   "source": [
    "print(len(barcode_text[\"Barcode\"].unique()))\n",
    "\n",
    "print(len(barcode_text))"
   ]
  },
  {
   "cell_type": "code",
   "execution_count": 9,
   "metadata": {
    "ExecuteTime": {
     "end_time": "2020-01-14T20:27:13.371538Z",
     "start_time": "2020-01-14T20:27:13.214233Z"
    }
   },
   "outputs": [
    {
     "name": "stdout",
     "output_type": "stream",
     "text": [
      "Human1_001\n",
      "Human1_001\n",
      "Human1_001\n",
      "Human1_001\n",
      "Human1_001\n",
      "Human1_001\n",
      "Human1_001\n",
      "Human1_001\n",
      "Human1_001\n",
      "Human1_001\n",
      "Human1_001\n",
      "Human1_001\n",
      "Human1_001\n",
      "Human1_001\n",
      "Human1_001\n",
      "Human1_001\n",
      "Human1_001\n",
      "Human1_001\n",
      "Human1_001\n",
      "Human1_001\n",
      "Human1_001\n",
      "Human1_001\n",
      "Human1_001\n",
      "Human1_001\n",
      "Human1_001\n",
      "Human1_001\n",
      "Human1_001\n",
      "Human1_001\n",
      "Human1_001\n",
      "Human1_001\n",
      "Human1_001\n",
      "Human1_001\n",
      "Human1_001\n",
      "Human1_001\n",
      "Human1_001\n",
      "Human1_001\n",
      "Human1_001\n",
      "Human1_001\n",
      "Human1_001\n",
      "Human1_001\n",
      "Human1_001\n",
      "Human1_001\n",
      "Human1_001\n",
      "Human1_001\n",
      "Human1_001\n",
      "Human1_001\n",
      "Human1_001\n",
      "Human1_001\n",
      "Human1_001\n",
      "Human1_001\n",
      "Human1_001\n",
      "Human1_001\n",
      "Human1_001\n",
      "Human1_001\n",
      "Human1_001\n",
      "Human1_001\n",
      "Human1_001\n",
      "Human1_001\n",
      "Human1_001\n",
      "Human1_001\n",
      "Human1_001\n",
      "Human1_001\n",
      "Human1_001\n",
      "Human1_001\n",
      "Human1_001\n",
      "Human1_001\n",
      "Human1_001\n",
      "Human1_001\n",
      "Human1_001\n",
      "Human1_001\n",
      "Human1_001\n",
      "Human1_001\n",
      "Human1_001\n",
      "Human1_001\n",
      "Human1_001\n",
      "Human1_001\n",
      "Human1_001\n",
      "Human1_001\n",
      "Human1_001\n",
      "Human1_001\n",
      "Human1_001\n",
      "Human1_001\n",
      "Human1_001\n",
      "Human1_001\n",
      "Human1_001\n",
      "Human1_001\n",
      "Human1_001\n",
      "Human1_001\n",
      "Human1_001\n",
      "Human1_001\n",
      "Human1_001\n",
      "Human1_001\n",
      "Human1_001\n",
      "Human1_001\n",
      "Human1_001\n",
      "Human1_001\n",
      "Human1_001\n",
      "Human1_001\n",
      "Human1_001\n",
      "Human1_001\n",
      "Human1_001\n",
      "Human1_001\n",
      "Human1_001\n",
      "Human1_001\n",
      "Human1_001\n",
      "Human1_001\n",
      "Human1_001\n",
      "Human1_001\n",
      "Human1_001\n",
      "Human1_001\n",
      "Human1_001\n",
      "Human1_001\n",
      "Human1_001\n",
      "Human1_001\n",
      "Human1_001\n",
      "Human1_001\n",
      "Human1_001\n",
      "Human1_001\n",
      "Human1_001\n",
      "Human1_001\n",
      "Human1_001\n",
      "Human1_001\n",
      "Human1_001\n",
      "Human1_001\n",
      "Human1_001\n",
      "Human1_001\n",
      "Human1_001\n",
      "Human1_001\n",
      "Human1_001\n",
      "Human1_001\n",
      "Human1_001\n",
      "Human1_001\n",
      "Human1_001\n",
      "Human1_001\n",
      "Human1_001\n",
      "Human1_001\n",
      "Human1_001\n",
      "Human1_001\n",
      "Human1_001\n",
      "Human1_001\n",
      "Human1_001\n",
      "Human1_001\n",
      "Human1_001\n",
      "143\n",
      "143\n"
     ]
    }
   ],
   "source": [
    "CB_read_MT = dict()\n",
    "cb = 0\n",
    "for i in barcode_text[\"Barcode\"].values:\n",
    "    i = i.replace(\".\", \"-\")\n",
    "    #print(i)\n",
    "    if i in CB_read_number:\n",
    "        curr = barcode_text[barcode_text[\"Barcode\"] == i.replace(\"-\",\".\")]\n",
    "        #print(barcode_text[barcode_text[\"Barcode\"] == i.replace(\"-\",\".\")])\n",
    "        #print(i)\n",
    "        \n",
    "        print(curr[\"Sample.Name\"].values[0])\n",
    "        if curr[\"Sample.Name\"].values[0] == \"Human2_002\":\n",
    "            print(\"Here\")\n",
    "        cb += 1  \n",
    "        #if CB_read_number[i]*100 >= maxBP:\n",
    "        CB_read_MT[i] = CB_read_number[i] #*100\n",
    "        \n",
    "        \n",
    "print(cb)\n",
    "print(len(CB_read_MT))"
   ]
  },
  {
   "cell_type": "code",
   "execution_count": 12,
   "metadata": {
    "ExecuteTime": {
     "end_time": "2020-01-14T20:28:12.506691Z",
     "start_time": "2020-01-14T20:28:12.292126Z"
    },
    "scrolled": true
   },
   "outputs": [
    {
     "data": {
      "text/plain": [
       "Text(0.5, 1.0, 'Reads per cell histogram')"
      ]
     },
     "execution_count": 12,
     "metadata": {},
     "output_type": "execute_result"
    },
    {
     "data": {
      "image/png": "[encoded data removed]",
      "text/plain": [
       "<Figure size 432x288 with 1 Axes>"
      ]
     },
     "metadata": {
      "needs_background": "light"
     },
     "output_type": "display_data"
    }
   ],
   "source": [
    "plt.hist(list(CB_read_MT.values()))#, bins=7000,)\n",
    "#plt.xlim([-1,100]);\n",
    "plt.title(\"Reads per cell histogram\")"
   ]
  },
  {
   "cell_type": "markdown",
   "metadata": {},
   "source": [
    "## Create matrix and load in values from scPileup"
   ]
  },
  {
   "cell_type": "code",
   "execution_count": 13,
   "metadata": {
    "ExecuteTime": {
     "end_time": "2020-01-14T20:28:18.856421Z",
     "start_time": "2020-01-14T20:28:18.849501Z"
    }
   },
   "outputs": [],
   "source": [
    "def fill_df_coverage(df, pileup_dir, is_par=False):\n",
    "    not_done = []\n",
    "    for ind in tqdm(df.index):\n",
    "        f = glob.glob(os.path.join(pileup_dir,\"CB_\" + ind + \".coverage.txt\"))\n",
    "        if len(f) == 0:  \n",
    "            print(\"Not here\")\n",
    "            not_done.append(ind)\n",
    "        else:\n",
    "            curr = pd.read_csv(f[0], header=None)\n",
    "            for _, val in curr.iterrows():\n",
    "                df.loc[ind, val[0]] = val[2]\n",
    "    print(f\"Number of missing files: {len(not_done)}\")\n",
    "    return df"
   ]
  },
  {
   "cell_type": "code",
   "execution_count": 14,
   "metadata": {
    "ExecuteTime": {
     "end_time": "2020-01-14T20:28:20.144703Z",
     "start_time": "2020-01-14T20:28:18.858185Z"
    },
    "scrolled": true
   },
   "outputs": [
    {
     "data": {
      "text/html": [
       "<div>\n",
       "<style scoped>\n",
       "    .dataframe tbody tr th:only-of-type {\n",
       "        vertical-align: middle;\n",
       "    }\n",
       "\n",
       "    .dataframe tbody tr th {\n",
       "        vertical-align: top;\n",
       "    }\n",
       "\n",
       "    .dataframe thead th {\n",
       "        text-align: right;\n",
       "    }\n",
       "</style>\n",
       "<table border=\"1\" class=\"dataframe\">\n",
       "  <thead>\n",
       "    <tr style=\"text-align: right;\">\n",
       "      <th></th>\n",
       "      <th>1</th>\n",
       "      <th>2</th>\n",
       "      <th>3</th>\n",
       "      <th>4</th>\n",
       "      <th>5</th>\n",
       "      <th>6</th>\n",
       "      <th>7</th>\n",
       "      <th>8</th>\n",
       "      <th>9</th>\n",
       "      <th>10</th>\n",
       "      <th>...</th>\n",
       "      <th>16562</th>\n",
       "      <th>16563</th>\n",
       "      <th>16564</th>\n",
       "      <th>16565</th>\n",
       "      <th>16566</th>\n",
       "      <th>16567</th>\n",
       "      <th>16568</th>\n",
       "      <th>16569</th>\n",
       "      <th>16570</th>\n",
       "      <th>16571</th>\n",
       "    </tr>\n",
       "  </thead>\n",
       "  <tbody>\n",
       "    <tr>\n",
       "      <th>AAATGCCAGTACATGA-1</th>\n",
       "      <td>0.0</td>\n",
       "      <td>0.0</td>\n",
       "      <td>0.0</td>\n",
       "      <td>0.0</td>\n",
       "      <td>0.0</td>\n",
       "      <td>0.0</td>\n",
       "      <td>0.0</td>\n",
       "      <td>0.0</td>\n",
       "      <td>0.0</td>\n",
       "      <td>0.0</td>\n",
       "      <td>...</td>\n",
       "      <td>0.0</td>\n",
       "      <td>0.0</td>\n",
       "      <td>0.0</td>\n",
       "      <td>0.0</td>\n",
       "      <td>0.0</td>\n",
       "      <td>0.0</td>\n",
       "      <td>0.0</td>\n",
       "      <td>0.0</td>\n",
       "      <td>0.0</td>\n",
       "      <td>0.0</td>\n",
       "    </tr>\n",
       "    <tr>\n",
       "      <th>AACTGGTTCACATACG-1</th>\n",
       "      <td>0.0</td>\n",
       "      <td>0.0</td>\n",
       "      <td>0.0</td>\n",
       "      <td>0.0</td>\n",
       "      <td>0.0</td>\n",
       "      <td>0.0</td>\n",
       "      <td>0.0</td>\n",
       "      <td>0.0</td>\n",
       "      <td>0.0</td>\n",
       "      <td>0.0</td>\n",
       "      <td>...</td>\n",
       "      <td>0.0</td>\n",
       "      <td>0.0</td>\n",
       "      <td>0.0</td>\n",
       "      <td>0.0</td>\n",
       "      <td>0.0</td>\n",
       "      <td>0.0</td>\n",
       "      <td>0.0</td>\n",
       "      <td>0.0</td>\n",
       "      <td>0.0</td>\n",
       "      <td>0.0</td>\n",
       "    </tr>\n",
       "    <tr>\n",
       "      <th>ACCGTAAAGAATTCCC-1</th>\n",
       "      <td>0.0</td>\n",
       "      <td>0.0</td>\n",
       "      <td>0.0</td>\n",
       "      <td>0.0</td>\n",
       "      <td>0.0</td>\n",
       "      <td>0.0</td>\n",
       "      <td>0.0</td>\n",
       "      <td>0.0</td>\n",
       "      <td>0.0</td>\n",
       "      <td>0.0</td>\n",
       "      <td>...</td>\n",
       "      <td>0.0</td>\n",
       "      <td>0.0</td>\n",
       "      <td>0.0</td>\n",
       "      <td>0.0</td>\n",
       "      <td>0.0</td>\n",
       "      <td>0.0</td>\n",
       "      <td>0.0</td>\n",
       "      <td>0.0</td>\n",
       "      <td>0.0</td>\n",
       "      <td>0.0</td>\n",
       "    </tr>\n",
       "    <tr>\n",
       "      <th>ACGATACCACGTCAGC-1</th>\n",
       "      <td>0.0</td>\n",
       "      <td>0.0</td>\n",
       "      <td>0.0</td>\n",
       "      <td>0.0</td>\n",
       "      <td>0.0</td>\n",
       "      <td>0.0</td>\n",
       "      <td>0.0</td>\n",
       "      <td>0.0</td>\n",
       "      <td>0.0</td>\n",
       "      <td>0.0</td>\n",
       "      <td>...</td>\n",
       "      <td>0.0</td>\n",
       "      <td>0.0</td>\n",
       "      <td>0.0</td>\n",
       "      <td>0.0</td>\n",
       "      <td>0.0</td>\n",
       "      <td>0.0</td>\n",
       "      <td>0.0</td>\n",
       "      <td>0.0</td>\n",
       "      <td>0.0</td>\n",
       "      <td>0.0</td>\n",
       "    </tr>\n",
       "    <tr>\n",
       "      <th>ACGATGTCAGTCACTA-1</th>\n",
       "      <td>0.0</td>\n",
       "      <td>0.0</td>\n",
       "      <td>0.0</td>\n",
       "      <td>0.0</td>\n",
       "      <td>0.0</td>\n",
       "      <td>0.0</td>\n",
       "      <td>0.0</td>\n",
       "      <td>0.0</td>\n",
       "      <td>0.0</td>\n",
       "      <td>0.0</td>\n",
       "      <td>...</td>\n",
       "      <td>0.0</td>\n",
       "      <td>0.0</td>\n",
       "      <td>0.0</td>\n",
       "      <td>0.0</td>\n",
       "      <td>0.0</td>\n",
       "      <td>0.0</td>\n",
       "      <td>0.0</td>\n",
       "      <td>0.0</td>\n",
       "      <td>0.0</td>\n",
       "      <td>0.0</td>\n",
       "    </tr>\n",
       "    <tr>\n",
       "      <th>...</th>\n",
       "      <td>...</td>\n",
       "      <td>...</td>\n",
       "      <td>...</td>\n",
       "      <td>...</td>\n",
       "      <td>...</td>\n",
       "      <td>...</td>\n",
       "      <td>...</td>\n",
       "      <td>...</td>\n",
       "      <td>...</td>\n",
       "      <td>...</td>\n",
       "      <td>...</td>\n",
       "      <td>...</td>\n",
       "      <td>...</td>\n",
       "      <td>...</td>\n",
       "      <td>...</td>\n",
       "      <td>...</td>\n",
       "      <td>...</td>\n",
       "      <td>...</td>\n",
       "      <td>...</td>\n",
       "      <td>...</td>\n",
       "      <td>...</td>\n",
       "    </tr>\n",
       "    <tr>\n",
       "      <th>TTCGGTCAGCTAGTTC-1</th>\n",
       "      <td>0.0</td>\n",
       "      <td>0.0</td>\n",
       "      <td>0.0</td>\n",
       "      <td>0.0</td>\n",
       "      <td>0.0</td>\n",
       "      <td>0.0</td>\n",
       "      <td>0.0</td>\n",
       "      <td>0.0</td>\n",
       "      <td>0.0</td>\n",
       "      <td>0.0</td>\n",
       "      <td>...</td>\n",
       "      <td>0.0</td>\n",
       "      <td>0.0</td>\n",
       "      <td>0.0</td>\n",
       "      <td>0.0</td>\n",
       "      <td>0.0</td>\n",
       "      <td>0.0</td>\n",
       "      <td>0.0</td>\n",
       "      <td>0.0</td>\n",
       "      <td>0.0</td>\n",
       "      <td>0.0</td>\n",
       "    </tr>\n",
       "    <tr>\n",
       "      <th>TTCGGTCTCAATCTCT-1</th>\n",
       "      <td>0.0</td>\n",
       "      <td>0.0</td>\n",
       "      <td>0.0</td>\n",
       "      <td>0.0</td>\n",
       "      <td>0.0</td>\n",
       "      <td>0.0</td>\n",
       "      <td>0.0</td>\n",
       "      <td>0.0</td>\n",
       "      <td>0.0</td>\n",
       "      <td>0.0</td>\n",
       "      <td>...</td>\n",
       "      <td>0.0</td>\n",
       "      <td>0.0</td>\n",
       "      <td>0.0</td>\n",
       "      <td>0.0</td>\n",
       "      <td>0.0</td>\n",
       "      <td>0.0</td>\n",
       "      <td>0.0</td>\n",
       "      <td>0.0</td>\n",
       "      <td>0.0</td>\n",
       "      <td>0.0</td>\n",
       "    </tr>\n",
       "    <tr>\n",
       "      <th>TTCTACACACGAAATA-1</th>\n",
       "      <td>0.0</td>\n",
       "      <td>0.0</td>\n",
       "      <td>0.0</td>\n",
       "      <td>0.0</td>\n",
       "      <td>0.0</td>\n",
       "      <td>0.0</td>\n",
       "      <td>0.0</td>\n",
       "      <td>0.0</td>\n",
       "      <td>0.0</td>\n",
       "      <td>0.0</td>\n",
       "      <td>...</td>\n",
       "      <td>0.0</td>\n",
       "      <td>0.0</td>\n",
       "      <td>0.0</td>\n",
       "      <td>0.0</td>\n",
       "      <td>0.0</td>\n",
       "      <td>0.0</td>\n",
       "      <td>0.0</td>\n",
       "      <td>0.0</td>\n",
       "      <td>0.0</td>\n",
       "      <td>0.0</td>\n",
       "    </tr>\n",
       "    <tr>\n",
       "      <th>TTGCGTCCAGCTGCTG-1</th>\n",
       "      <td>0.0</td>\n",
       "      <td>0.0</td>\n",
       "      <td>0.0</td>\n",
       "      <td>0.0</td>\n",
       "      <td>0.0</td>\n",
       "      <td>0.0</td>\n",
       "      <td>0.0</td>\n",
       "      <td>0.0</td>\n",
       "      <td>0.0</td>\n",
       "      <td>0.0</td>\n",
       "      <td>...</td>\n",
       "      <td>0.0</td>\n",
       "      <td>0.0</td>\n",
       "      <td>0.0</td>\n",
       "      <td>0.0</td>\n",
       "      <td>0.0</td>\n",
       "      <td>0.0</td>\n",
       "      <td>0.0</td>\n",
       "      <td>0.0</td>\n",
       "      <td>0.0</td>\n",
       "      <td>0.0</td>\n",
       "    </tr>\n",
       "    <tr>\n",
       "      <th>TTTACTGTCATCACCC-1</th>\n",
       "      <td>0.0</td>\n",
       "      <td>0.0</td>\n",
       "      <td>0.0</td>\n",
       "      <td>0.0</td>\n",
       "      <td>0.0</td>\n",
       "      <td>0.0</td>\n",
       "      <td>0.0</td>\n",
       "      <td>0.0</td>\n",
       "      <td>0.0</td>\n",
       "      <td>0.0</td>\n",
       "      <td>...</td>\n",
       "      <td>0.0</td>\n",
       "      <td>0.0</td>\n",
       "      <td>0.0</td>\n",
       "      <td>0.0</td>\n",
       "      <td>0.0</td>\n",
       "      <td>0.0</td>\n",
       "      <td>0.0</td>\n",
       "      <td>0.0</td>\n",
       "      <td>0.0</td>\n",
       "      <td>0.0</td>\n",
       "    </tr>\n",
       "  </tbody>\n",
       "</table>\n",
       "<p>143 rows × 16571 columns</p>\n",
       "</div>"
      ],
      "text/plain": [
       "                    1      2      3      4      5      6      7      8      \\\n",
       "AAATGCCAGTACATGA-1    0.0    0.0    0.0    0.0    0.0    0.0    0.0    0.0   \n",
       "AACTGGTTCACATACG-1    0.0    0.0    0.0    0.0    0.0    0.0    0.0    0.0   \n",
       "ACCGTAAAGAATTCCC-1    0.0    0.0    0.0    0.0    0.0    0.0    0.0    0.0   \n",
       "ACGATACCACGTCAGC-1    0.0    0.0    0.0    0.0    0.0    0.0    0.0    0.0   \n",
       "ACGATGTCAGTCACTA-1    0.0    0.0    0.0    0.0    0.0    0.0    0.0    0.0   \n",
       "...                   ...    ...    ...    ...    ...    ...    ...    ...   \n",
       "TTCGGTCAGCTAGTTC-1    0.0    0.0    0.0    0.0    0.0    0.0    0.0    0.0   \n",
       "TTCGGTCTCAATCTCT-1    0.0    0.0    0.0    0.0    0.0    0.0    0.0    0.0   \n",
       "TTCTACACACGAAATA-1    0.0    0.0    0.0    0.0    0.0    0.0    0.0    0.0   \n",
       "TTGCGTCCAGCTGCTG-1    0.0    0.0    0.0    0.0    0.0    0.0    0.0    0.0   \n",
       "TTTACTGTCATCACCC-1    0.0    0.0    0.0    0.0    0.0    0.0    0.0    0.0   \n",
       "\n",
       "                    9      10     ...  16562  16563  16564  16565  16566  \\\n",
       "AAATGCCAGTACATGA-1    0.0    0.0  ...    0.0    0.0    0.0    0.0    0.0   \n",
       "AACTGGTTCACATACG-1    0.0    0.0  ...    0.0    0.0    0.0    0.0    0.0   \n",
       "ACCGTAAAGAATTCCC-1    0.0    0.0  ...    0.0    0.0    0.0    0.0    0.0   \n",
       "ACGATACCACGTCAGC-1    0.0    0.0  ...    0.0    0.0    0.0    0.0    0.0   \n",
       "ACGATGTCAGTCACTA-1    0.0    0.0  ...    0.0    0.0    0.0    0.0    0.0   \n",
       "...                   ...    ...  ...    ...    ...    ...    ...    ...   \n",
       "TTCGGTCAGCTAGTTC-1    0.0    0.0  ...    0.0    0.0    0.0    0.0    0.0   \n",
       "TTCGGTCTCAATCTCT-1    0.0    0.0  ...    0.0    0.0    0.0    0.0    0.0   \n",
       "TTCTACACACGAAATA-1    0.0    0.0  ...    0.0    0.0    0.0    0.0    0.0   \n",
       "TTGCGTCCAGCTGCTG-1    0.0    0.0  ...    0.0    0.0    0.0    0.0    0.0   \n",
       "TTTACTGTCATCACCC-1    0.0    0.0  ...    0.0    0.0    0.0    0.0    0.0   \n",
       "\n",
       "                    16567  16568  16569  16570  16571  \n",
       "AAATGCCAGTACATGA-1    0.0    0.0    0.0    0.0    0.0  \n",
       "AACTGGTTCACATACG-1    0.0    0.0    0.0    0.0    0.0  \n",
       "ACCGTAAAGAATTCCC-1    0.0    0.0    0.0    0.0    0.0  \n",
       "ACGATACCACGTCAGC-1    0.0    0.0    0.0    0.0    0.0  \n",
       "ACGATGTCAGTCACTA-1    0.0    0.0    0.0    0.0    0.0  \n",
       "...                   ...    ...    ...    ...    ...  \n",
       "TTCGGTCAGCTAGTTC-1    0.0    0.0    0.0    0.0    0.0  \n",
       "TTCGGTCTCAATCTCT-1    0.0    0.0    0.0    0.0    0.0  \n",
       "TTCTACACACGAAATA-1    0.0    0.0    0.0    0.0    0.0  \n",
       "TTGCGTCCAGCTGCTG-1    0.0    0.0    0.0    0.0    0.0  \n",
       "TTTACTGTCATCACCC-1    0.0    0.0    0.0    0.0    0.0  \n",
       "\n",
       "[143 rows x 16571 columns]"
      ]
     },
     "execution_count": 14,
     "metadata": {},
     "output_type": "execute_result"
    }
   ],
   "source": [
    "sc_coverage = pd.DataFrame(index=CB_read_MT.keys(),columns= range(1,maxBP+1),dtype=int)\n",
    "sc_coverage.loc[:,:] = 0\n",
    "sc_coverage"
   ]
  },
  {
   "cell_type": "code",
   "execution_count": 15,
   "metadata": {
    "ExecuteTime": {
     "end_time": "2020-01-14T20:28:28.166023Z",
     "start_time": "2020-01-14T20:28:22.459402Z"
    }
   },
   "outputs": [
    {
     "name": "stderr",
     "output_type": "stream",
     "text": [
      "  0%|          | 0/4 [00:00<?, ?it/s]"
     ]
    },
    {
     "name": "stdout",
     "output_type": "stream",
     "text": [
      "Not here\n"
     ]
    },
    {
     "name": "stderr",
     "output_type": "stream",
     "text": [
      "\r",
      "  0%|          | 0/4 [00:00<?, ?it/s]"
     ]
    },
    {
     "name": "stdout",
     "output_type": "stream",
     "text": [
      "Not here\n"
     ]
    },
    {
     "name": "stderr",
     "output_type": "stream",
     "text": [
      "\r",
      "  0%|          | 0/4 [00:00<?, ?it/s]"
     ]
    },
    {
     "name": "stdout",
     "output_type": "stream",
     "text": [
      "Not here\n"
     ]
    },
    {
     "name": "stderr",
     "output_type": "stream",
     "text": [
      "\r",
      "  0%|          | 0/4 [00:00<?, ?it/s]"
     ]
    },
    {
     "name": "stdout",
     "output_type": "stream",
     "text": [
      "Not here\n",
      "Not here\n",
      "Not here\n",
      "Not here\n"
     ]
    },
    {
     "name": "stderr",
     "output_type": "stream",
     "text": [
      "\r",
      "  0%|          | 0/4 [00:00<?, ?it/s]"
     ]
    },
    {
     "name": "stdout",
     "output_type": "stream",
     "text": [
      "Not here\n",
      "Not here\n"
     ]
    },
    {
     "name": "stderr",
     "output_type": "stream",
     "text": [
      "\r",
      "  0%|          | 0/4 [00:00<?, ?it/s]"
     ]
    },
    {
     "name": "stdout",
     "output_type": "stream",
     "text": [
      "Not here\n",
      "Not here\n",
      "Not here\n",
      "Not here\n",
      "Not here\n",
      "Not here\n",
      "Not here\n"
     ]
    },
    {
     "name": "stderr",
     "output_type": "stream",
     "text": [
      "\r",
      "  0%|          | 0/4 [00:00<?, ?it/s]"
     ]
    },
    {
     "name": "stdout",
     "output_type": "stream",
     "text": [
      "Not here\n",
      "Not here\n",
      "Not here\n"
     ]
    },
    {
     "name": "stderr",
     "output_type": "stream",
     "text": [
      "\r",
      "  0%|          | 0/4 [00:00<?, ?it/s]"
     ]
    },
    {
     "name": "stdout",
     "output_type": "stream",
     "text": [
      "Not here\n"
     ]
    },
    {
     "name": "stderr",
     "output_type": "stream",
     "text": [
      "\r",
      "  0%|          | 0/4 [00:00<?, ?it/s]"
     ]
    },
    {
     "name": "stdout",
     "output_type": "stream",
     "text": [
      "Not here\n"
     ]
    },
    {
     "name": "stderr",
     "output_type": "stream",
     "text": [
      "\r",
      "100%|██████████| 4/4 [00:00<00:00, 285.82it/s]"
     ]
    },
    {
     "name": "stdout",
     "output_type": "stream",
     "text": [
      "Not here\n",
      "Not here\n"
     ]
    },
    {
     "name": "stderr",
     "output_type": "stream",
     "text": [
      "\n"
     ]
    },
    {
     "name": "stdout",
     "output_type": "stream",
     "text": [
      "Not here\n",
      "Not here\n"
     ]
    },
    {
     "name": "stderr",
     "output_type": "stream",
     "text": [
      "  0%|          | 0/4 [00:00<?, ?it/s]9.52it/s]"
     ]
    },
    {
     "name": "stdout",
     "output_type": "stream",
     "text": [
      "Number of missing files: 4\n",
      "Not here\n"
     ]
    },
    {
     "name": "stderr",
     "output_type": "stream",
     "text": [
      "  0%|          | 0/4 [00:00<?, ?it/s]\n"
     ]
    },
    {
     "name": "stdout",
     "output_type": "stream",
     "text": [
      "Not here\n",
      "Not here\n"
     ]
    },
    {
     "name": "stderr",
     "output_type": "stream",
     "text": [
      "\r",
      "  0%|          | 0/4 [00:00<?, ?it/s]"
     ]
    },
    {
     "name": "stdout",
     "output_type": "stream",
     "text": [
      "Number of missing files: 4\n"
     ]
    },
    {
     "name": "stderr",
     "output_type": "stream",
     "text": [
      "\r",
      "100%|██████████| 4/4 [00:00<00:00, 224.11it/s]"
     ]
    },
    {
     "name": "stdout",
     "output_type": "stream",
     "text": [
      "Not here\n",
      "Not here\n"
     ]
    },
    {
     "name": "stderr",
     "output_type": "stream",
     "text": [
      "  0%|          | 0/4 [00:00<?, ?it/s]\n"
     ]
    },
    {
     "name": "stdout",
     "output_type": "stream",
     "text": [
      "Not here\n",
      "Number of missing files: 4\n",
      "Not here\n"
     ]
    },
    {
     "name": "stderr",
     "output_type": "stream",
     "text": [
      "  0%|          | 0/4 [00:00<?, ?it/s]9.45it/s]\n"
     ]
    },
    {
     "name": "stdout",
     "output_type": "stream",
     "text": [
      "Not here\n",
      "Not here\n",
      "Number of missing files: 4\n",
      "Not here\n"
     ]
    },
    {
     "name": "stderr",
     "output_type": "stream",
     "text": [
      "  0%|          | 0/4 [00:00<?, ?it/s]8.64it/s]"
     ]
    },
    {
     "name": "stdout",
     "output_type": "stream",
     "text": [
      "Not here\n"
     ]
    },
    {
     "name": "stderr",
     "output_type": "stream",
     "text": [
      "\r",
      "  0%|          | 0/4 [00:00<?, ?it/s]"
     ]
    },
    {
     "name": "stdout",
     "output_type": "stream",
     "text": [
      "Not here\n"
     ]
    },
    {
     "name": "stderr",
     "output_type": "stream",
     "text": [
      "\n"
     ]
    },
    {
     "name": "stdout",
     "output_type": "stream",
     "text": [
      "Not here\n",
      "Not here\n"
     ]
    },
    {
     "name": "stderr",
     "output_type": "stream",
     "text": [
      "\r",
      "  0%|          | 0/4 [00:00<?, ?it/s]"
     ]
    },
    {
     "name": "stdout",
     "output_type": "stream",
     "text": [
      "Number of missing files: 4\n"
     ]
    },
    {
     "name": "stderr",
     "output_type": "stream",
     "text": [
      "\r",
      "  0%|          | 0/4 [00:00<?, ?it/s]"
     ]
    },
    {
     "name": "stdout",
     "output_type": "stream",
     "text": [
      "Not here\n"
     ]
    },
    {
     "name": "stderr",
     "output_type": "stream",
     "text": [
      "\r",
      "100%|██████████| 4/4 [00:00<00:00, 196.14it/s]"
     ]
    },
    {
     "name": "stdout",
     "output_type": "stream",
     "text": [
      "Not here\n",
      "Not here\n"
     ]
    },
    {
     "name": "stderr",
     "output_type": "stream",
     "text": [
      "  0%|          | 0/4 [00:00<?, ?it/s]\n"
     ]
    },
    {
     "name": "stdout",
     "output_type": "stream",
     "text": [
      "Not here\n",
      "Number of missing files: 4\n",
      "Not here\n",
      "Not here\n"
     ]
    },
    {
     "name": "stderr",
     "output_type": "stream",
     "text": [
      "  0%|          | 0/4 [00:00<?, ?it/s]0.71it/s]"
     ]
    },
    {
     "name": "stdout",
     "output_type": "stream",
     "text": [
      "Not here\n"
     ]
    },
    {
     "name": "stderr",
     "output_type": "stream",
     "text": [
      "\n"
     ]
    },
    {
     "name": "stdout",
     "output_type": "stream",
     "text": [
      "Not here\n",
      "Not here\n"
     ]
    },
    {
     "name": "stderr",
     "output_type": "stream",
     "text": [
      "  0%|          | 0/4 [00:00<?, ?it/s]8.92it/s]"
     ]
    },
    {
     "name": "stdout",
     "output_type": "stream",
     "text": [
      "Number of missing files: 4\n",
      "Not here\n",
      "Not here\n"
     ]
    },
    {
     "name": "stderr",
     "output_type": "stream",
     "text": [
      "\n"
     ]
    },
    {
     "name": "stdout",
     "output_type": "stream",
     "text": [
      "Number of missing files: 4\n"
     ]
    },
    {
     "name": "stderr",
     "output_type": "stream",
     "text": [
      "\r",
      "  0%|          | 0/4 [00:00<?, ?it/s]"
     ]
    },
    {
     "name": "stdout",
     "output_type": "stream",
     "text": [
      "Not here\n",
      "Not here\n",
      "Not here\n"
     ]
    },
    {
     "name": "stderr",
     "output_type": "stream",
     "text": [
      "\r",
      "  0%|          | 0/4 [00:00<?, ?it/s]"
     ]
    },
    {
     "name": "stdout",
     "output_type": "stream",
     "text": [
      "Not here\n",
      "Not here\n",
      "Not here\n"
     ]
    },
    {
     "name": "stderr",
     "output_type": "stream",
     "text": [
      "\r",
      "  0%|          | 0/4 [00:00<?, ?it/s]"
     ]
    },
    {
     "name": "stdout",
     "output_type": "stream",
     "text": [
      "Not here\n"
     ]
    },
    {
     "name": "stderr",
     "output_type": "stream",
     "text": [
      "\r",
      "  0%|          | 0/4 [00:00<?, ?it/s]"
     ]
    },
    {
     "name": "stdout",
     "output_type": "stream",
     "text": [
      "Not here\n",
      "Not here\n"
     ]
    },
    {
     "name": "stderr",
     "output_type": "stream",
     "text": [
      "  0%|          | 0/4 [00:00<?, ?it/s]3.35it/s]"
     ]
    },
    {
     "name": "stdout",
     "output_type": "stream",
     "text": [
      "Not here\n"
     ]
    },
    {
     "name": "stderr",
     "output_type": "stream",
     "text": [
      "  0%|          | 0/4 [00:00<?, ?it/s]\n"
     ]
    },
    {
     "name": "stdout",
     "output_type": "stream",
     "text": [
      "Not here\n",
      "Number of missing files: 4\n"
     ]
    },
    {
     "name": "stderr",
     "output_type": "stream",
     "text": [
      "\r",
      "  0%|          | 0/3 [00:00<?, ?it/s]"
     ]
    },
    {
     "name": "stdout",
     "output_type": "stream",
     "text": [
      "Not here\n"
     ]
    },
    {
     "name": "stderr",
     "output_type": "stream",
     "text": [
      "  0%|          | 0/4 [00:00<?, ?it/s]"
     ]
    },
    {
     "name": "stdout",
     "output_type": "stream",
     "text": [
      "Not here\n",
      "Not here\n"
     ]
    },
    {
     "name": "stderr",
     "output_type": "stream",
     "text": [
      "\r",
      "100%|██████████| 4/4 [00:00<00:00, 163.82it/s]"
     ]
    },
    {
     "name": "stdout",
     "output_type": "stream",
     "text": [
      "Not here\n",
      "Not here\n"
     ]
    },
    {
     "name": "stderr",
     "output_type": "stream",
     "text": [
      "\n",
      "100%|██████████| 4/4 [00:00<00:00, 141.95it/s]"
     ]
    },
    {
     "name": "stdout",
     "output_type": "stream",
     "text": [
      "Not here\n",
      "Number of missing files: 4\n",
      "Not here\n"
     ]
    },
    {
     "name": "stderr",
     "output_type": "stream",
     "text": [
      "\n"
     ]
    },
    {
     "name": "stdout",
     "output_type": "stream",
     "text": [
      "Number of missing files: 4\n",
      "Not here\n",
      "Not here\n",
      "Not here\n",
      "Not here\n"
     ]
    },
    {
     "name": "stderr",
     "output_type": "stream",
     "text": [
      "\r",
      "  0%|          | 0/4 [00:00<?, ?it/s]"
     ]
    },
    {
     "name": "stdout",
     "output_type": "stream",
     "text": [
      "Not here\n",
      "Not here\n",
      "Not here\n",
      "Not here\n",
      "Not here\n",
      "Not here\n"
     ]
    },
    {
     "name": "stderr",
     "output_type": "stream",
     "text": [
      "\r",
      "100%|██████████| 4/4 [00:00<00:00, 113.08it/s]"
     ]
    },
    {
     "name": "stdout",
     "output_type": "stream",
     "text": [
      "Not here\n"
     ]
    },
    {
     "name": "stderr",
     "output_type": "stream",
     "text": [
      "\n"
     ]
    },
    {
     "name": "stdout",
     "output_type": "stream",
     "text": [
      "Not here\n",
      "Not here\n",
      "Number of missing files: 4\n",
      "Not here\n",
      "Not here\n",
      "Not here\n",
      "Not here\n",
      "Not here\n",
      "Not here\n",
      "Not here\n",
      "Not here\n",
      "Not here\n"
     ]
    },
    {
     "name": "stderr",
     "output_type": "stream",
     "text": [
      "100%|██████████| 4/4 [00:00<00:00, 98.59it/s]\n",
      "100%|██████████| 4/4 [00:00<00:00, 95.33it/s]\n"
     ]
    },
    {
     "name": "stdout",
     "output_type": "stream",
     "text": [
      "Number of missing files: 4\n"
     ]
    },
    {
     "name": "stderr",
     "output_type": "stream",
     "text": [
      "\r",
      "  0%|          | 0/4 [00:00<?, ?it/s]"
     ]
    },
    {
     "name": "stdout",
     "output_type": "stream",
     "text": [
      "Number of missing files: 4\n"
     ]
    },
    {
     "name": "stderr",
     "output_type": "stream",
     "text": [
      "\r",
      "  0%|          | 0/4 [00:00<?, ?it/s]"
     ]
    },
    {
     "name": "stdout",
     "output_type": "stream",
     "text": [
      "Not here\n",
      "Not here\n",
      "Not here\n",
      "Not here\n"
     ]
    },
    {
     "name": "stderr",
     "output_type": "stream",
     "text": [
      "\r",
      "100%|██████████| 4/4 [00:00<00:00, 58.02it/s]"
     ]
    },
    {
     "name": "stdout",
     "output_type": "stream",
     "text": [
      "Not here\n"
     ]
    },
    {
     "name": "stderr",
     "output_type": "stream",
     "text": [
      "\n"
     ]
    },
    {
     "name": "stdout",
     "output_type": "stream",
     "text": [
      "Not here\n",
      "Not here\n",
      "Number of missing files: 4\n",
      "Not here\n"
     ]
    },
    {
     "name": "stderr",
     "output_type": "stream",
     "text": [
      "100%|██████████| 4/4 [00:00<00:00, 56.75it/s]\n"
     ]
    },
    {
     "name": "stdout",
     "output_type": "stream",
     "text": [
      "Not here\n",
      "Not here\n",
      "Number of missing files: 4\n",
      "Not here\n",
      "Not here\n"
     ]
    },
    {
     "name": "stderr",
     "output_type": "stream",
     "text": [
      "\r",
      "100%|██████████| 4/4 [00:00<00:00, 55.57it/s]"
     ]
    },
    {
     "name": "stdout",
     "output_type": "stream",
     "text": [
      "Not here\n",
      "Not here\n"
     ]
    },
    {
     "name": "stderr",
     "output_type": "stream",
     "text": [
      "\n"
     ]
    },
    {
     "name": "stdout",
     "output_type": "stream",
     "text": [
      "Not here\n",
      "Number of missing files: 4\n",
      "Not here\n"
     ]
    },
    {
     "name": "stderr",
     "output_type": "stream",
     "text": [
      "\r",
      "100%|██████████| 4/4 [00:00<00:00, 55.33it/s]"
     ]
    },
    {
     "name": "stdout",
     "output_type": "stream",
     "text": [
      "Not here\n",
      "Not here\n"
     ]
    },
    {
     "name": "stderr",
     "output_type": "stream",
     "text": [
      "\n"
     ]
    },
    {
     "name": "stdout",
     "output_type": "stream",
     "text": [
      "Not here\n",
      "Not here\n",
      "Number of missing files: 4\n",
      "Not here\n",
      "Not here\n",
      "Not here\n",
      "Not here\n"
     ]
    },
    {
     "name": "stderr",
     "output_type": "stream",
     "text": [
      "\r",
      "100%|██████████| 4/4 [00:00<00:00, 53.32it/s]"
     ]
    },
    {
     "name": "stdout",
     "output_type": "stream",
     "text": [
      "Not here\n"
     ]
    },
    {
     "name": "stderr",
     "output_type": "stream",
     "text": [
      "\n"
     ]
    },
    {
     "name": "stdout",
     "output_type": "stream",
     "text": [
      "Not here\n"
     ]
    },
    {
     "name": "stderr",
     "output_type": "stream",
     "text": [
      "\r",
      "100%|██████████| 4/4 [00:00<00:00, 52.97it/s]"
     ]
    },
    {
     "name": "stdout",
     "output_type": "stream",
     "text": [
      "Number of missing files: 4\n",
      "Not here\n",
      "Not here\n"
     ]
    },
    {
     "name": "stderr",
     "output_type": "stream",
     "text": [
      "\n"
     ]
    },
    {
     "name": "stdout",
     "output_type": "stream",
     "text": [
      "Not here\n",
      "Not here\n"
     ]
    },
    {
     "name": "stderr",
     "output_type": "stream",
     "text": [
      "\r",
      "100%|██████████| 4/4 [00:00<00:00, 52.69it/s]"
     ]
    },
    {
     "name": "stdout",
     "output_type": "stream",
     "text": [
      "Not here\n",
      "Number of missing files: 4\n",
      "Not here\n"
     ]
    },
    {
     "name": "stderr",
     "output_type": "stream",
     "text": [
      "\n"
     ]
    },
    {
     "name": "stdout",
     "output_type": "stream",
     "text": [
      "Not here\n"
     ]
    },
    {
     "name": "stderr",
     "output_type": "stream",
     "text": [
      "\r",
      "100%|██████████| 4/4 [00:00<00:00, 53.13it/s]"
     ]
    },
    {
     "name": "stdout",
     "output_type": "stream",
     "text": [
      "Not here\n",
      "Number of missing files: 4\n"
     ]
    },
    {
     "name": "stderr",
     "output_type": "stream",
     "text": [
      "\n",
      "\n",
      "100%|██████████| 3/3 [00:00<00:00, 45.45it/s]"
     ]
    },
    {
     "name": "stdout",
     "output_type": "stream",
     "text": [
      "Not here\n",
      "Not here\n",
      "Number of missing files: 4\n",
      "Not here\n"
     ]
    },
    {
     "name": "stderr",
     "output_type": "stream",
     "text": [
      "\r",
      "100%|██████████| 4/4 [00:00<00:00, 52.64it/s]"
     ]
    },
    {
     "name": "stdout",
     "output_type": "stream",
     "text": [
      "Number of missing files: 3\n"
     ]
    },
    {
     "name": "stderr",
     "output_type": "stream",
     "text": [
      "\r",
      "100%|██████████| 4/4 [00:00<00:00, 53.77it/s]"
     ]
    },
    {
     "name": "stdout",
     "output_type": "stream",
     "text": [
      "Not here\n"
     ]
    },
    {
     "name": "stderr",
     "output_type": "stream",
     "text": [
      "\n"
     ]
    },
    {
     "name": "stdout",
     "output_type": "stream",
     "text": [
      "Not here\n"
     ]
    },
    {
     "name": "stderr",
     "output_type": "stream",
     "text": [
      "\n"
     ]
    },
    {
     "name": "stdout",
     "output_type": "stream",
     "text": [
      "Not here\n",
      "Number of missing files: 4\n",
      "Number of missing files: 4\n",
      "Not here\n"
     ]
    },
    {
     "name": "stderr",
     "output_type": "stream",
     "text": [
      "\r",
      "100%|██████████| 4/4 [00:00<00:00, 52.99it/s]"
     ]
    },
    {
     "name": "stdout",
     "output_type": "stream",
     "text": [
      "Not here\n",
      "Not here\n"
     ]
    },
    {
     "name": "stderr",
     "output_type": "stream",
     "text": [
      "100%|██████████| 4/4 [00:00<00:00, 53.87it/s]\n"
     ]
    },
    {
     "name": "stdout",
     "output_type": "stream",
     "text": [
      "Not here\n"
     ]
    },
    {
     "name": "stderr",
     "output_type": "stream",
     "text": [
      "100%|██████████| 4/4 [00:00<00:00, 53.80it/s]\n"
     ]
    },
    {
     "name": "stdout",
     "output_type": "stream",
     "text": [
      "Number of missing files: 4\n",
      "Not here\n"
     ]
    },
    {
     "name": "stderr",
     "output_type": "stream",
     "text": [
      "100%|██████████| 4/4 [00:00<00:00, 54.42it/s]\n",
      "100%|██████████| 4/4 [00:00<00:00, 54.29it/s]"
     ]
    },
    {
     "name": "stdout",
     "output_type": "stream",
     "text": [
      "Not here\n",
      "Number of missing files: 4\n"
     ]
    },
    {
     "name": "stderr",
     "output_type": "stream",
     "text": [
      "\n"
     ]
    },
    {
     "name": "stdout",
     "output_type": "stream",
     "text": [
      "Number of missing files: 4\n",
      "Not here\n"
     ]
    },
    {
     "name": "stderr",
     "output_type": "stream",
     "text": [
      "\n",
      "100%|██████████| 4/4 [00:00<00:00, 54.96it/s]"
     ]
    },
    {
     "name": "stdout",
     "output_type": "stream",
     "text": [
      "Not here\n"
     ]
    },
    {
     "name": "stderr",
     "output_type": "stream",
     "text": [
      "\r",
      "100%|██████████| 4/4 [00:00<00:00, 54.48it/s]"
     ]
    },
    {
     "name": "stdout",
     "output_type": "stream",
     "text": [
      "Number of missing files: 4\n",
      "Not here\n",
      "Number of missing files: 4\n"
     ]
    },
    {
     "name": "stderr",
     "output_type": "stream",
     "text": [
      "\n"
     ]
    },
    {
     "name": "stdout",
     "output_type": "stream",
     "text": [
      "Not here\n"
     ]
    },
    {
     "name": "stderr",
     "output_type": "stream",
     "text": [
      "\n"
     ]
    },
    {
     "name": "stdout",
     "output_type": "stream",
     "text": [
      "Number of missing files: 4\n",
      "Not here\n"
     ]
    },
    {
     "name": "stderr",
     "output_type": "stream",
     "text": [
      "\r",
      "100%|██████████| 4/4 [00:00<00:00, 58.04it/s]"
     ]
    },
    {
     "name": "stdout",
     "output_type": "stream",
     "text": [
      "Number of missing files: 4\n"
     ]
    },
    {
     "name": "stderr",
     "output_type": "stream",
     "text": [
      "100%|██████████| 4/4 [00:00<00:00, 75.05it/s]\n",
      "\n",
      "100%|██████████| 4/4 [00:00<00:00, 79.51it/s]"
     ]
    },
    {
     "name": "stdout",
     "output_type": "stream",
     "text": [
      "Number of missing files: 4\n",
      "Number of missing files: 4\n"
     ]
    },
    {
     "name": "stderr",
     "output_type": "stream",
     "text": [
      "\n"
     ]
    },
    {
     "name": "stdout",
     "output_type": "stream",
     "text": [
      "Number of missing files: 4\n"
     ]
    },
    {
     "name": "stderr",
     "output_type": "stream",
     "text": [
      "\r",
      " 75%|███████▌  | 3/4 [00:02<00:00,  1.06it/s]"
     ]
    },
    {
     "name": "stdout",
     "output_type": "stream",
     "text": [
      "Not here\n"
     ]
    },
    {
     "name": "stderr",
     "output_type": "stream",
     "text": [
      "100%|██████████| 4/4 [00:02<00:00,  1.40it/s]\n"
     ]
    },
    {
     "name": "stdout",
     "output_type": "stream",
     "text": [
      "Number of missing files: 3\n"
     ]
    },
    {
     "data": {
      "text/html": [
       "<div>\n",
       "<style scoped>\n",
       "    .dataframe tbody tr th:only-of-type {\n",
       "        vertical-align: middle;\n",
       "    }\n",
       "\n",
       "    .dataframe tbody tr th {\n",
       "        vertical-align: top;\n",
       "    }\n",
       "\n",
       "    .dataframe thead th {\n",
       "        text-align: right;\n",
       "    }\n",
       "</style>\n",
       "<table border=\"1\" class=\"dataframe\">\n",
       "  <thead>\n",
       "    <tr style=\"text-align: right;\">\n",
       "      <th></th>\n",
       "      <th>1</th>\n",
       "      <th>2</th>\n",
       "      <th>3</th>\n",
       "      <th>4</th>\n",
       "      <th>5</th>\n",
       "      <th>6</th>\n",
       "      <th>7</th>\n",
       "      <th>8</th>\n",
       "      <th>9</th>\n",
       "      <th>10</th>\n",
       "      <th>...</th>\n",
       "      <th>16562</th>\n",
       "      <th>16563</th>\n",
       "      <th>16564</th>\n",
       "      <th>16565</th>\n",
       "      <th>16566</th>\n",
       "      <th>16567</th>\n",
       "      <th>16568</th>\n",
       "      <th>16569</th>\n",
       "      <th>16570</th>\n",
       "      <th>16571</th>\n",
       "    </tr>\n",
       "  </thead>\n",
       "  <tbody>\n",
       "    <tr>\n",
       "      <th>AAATGCCAGTACATGA-1</th>\n",
       "      <td>0.0</td>\n",
       "      <td>0.0</td>\n",
       "      <td>0.0</td>\n",
       "      <td>0.0</td>\n",
       "      <td>0.0</td>\n",
       "      <td>0.0</td>\n",
       "      <td>0.0</td>\n",
       "      <td>0.0</td>\n",
       "      <td>0.0</td>\n",
       "      <td>0.0</td>\n",
       "      <td>...</td>\n",
       "      <td>0.0</td>\n",
       "      <td>0.0</td>\n",
       "      <td>0.0</td>\n",
       "      <td>0.0</td>\n",
       "      <td>0.0</td>\n",
       "      <td>0.0</td>\n",
       "      <td>0.0</td>\n",
       "      <td>0.0</td>\n",
       "      <td>0.0</td>\n",
       "      <td>0.0</td>\n",
       "    </tr>\n",
       "    <tr>\n",
       "      <th>AACTGGTTCACATACG-1</th>\n",
       "      <td>0.0</td>\n",
       "      <td>0.0</td>\n",
       "      <td>0.0</td>\n",
       "      <td>0.0</td>\n",
       "      <td>0.0</td>\n",
       "      <td>0.0</td>\n",
       "      <td>0.0</td>\n",
       "      <td>0.0</td>\n",
       "      <td>0.0</td>\n",
       "      <td>0.0</td>\n",
       "      <td>...</td>\n",
       "      <td>0.0</td>\n",
       "      <td>0.0</td>\n",
       "      <td>0.0</td>\n",
       "      <td>0.0</td>\n",
       "      <td>0.0</td>\n",
       "      <td>0.0</td>\n",
       "      <td>0.0</td>\n",
       "      <td>0.0</td>\n",
       "      <td>0.0</td>\n",
       "      <td>0.0</td>\n",
       "    </tr>\n",
       "    <tr>\n",
       "      <th>ACCGTAAAGAATTCCC-1</th>\n",
       "      <td>0.0</td>\n",
       "      <td>0.0</td>\n",
       "      <td>0.0</td>\n",
       "      <td>0.0</td>\n",
       "      <td>0.0</td>\n",
       "      <td>0.0</td>\n",
       "      <td>0.0</td>\n",
       "      <td>0.0</td>\n",
       "      <td>0.0</td>\n",
       "      <td>0.0</td>\n",
       "      <td>...</td>\n",
       "      <td>0.0</td>\n",
       "      <td>0.0</td>\n",
       "      <td>0.0</td>\n",
       "      <td>0.0</td>\n",
       "      <td>0.0</td>\n",
       "      <td>0.0</td>\n",
       "      <td>0.0</td>\n",
       "      <td>0.0</td>\n",
       "      <td>0.0</td>\n",
       "      <td>0.0</td>\n",
       "    </tr>\n",
       "    <tr>\n",
       "      <th>ACGATACCACGTCAGC-1</th>\n",
       "      <td>0.0</td>\n",
       "      <td>0.0</td>\n",
       "      <td>0.0</td>\n",
       "      <td>0.0</td>\n",
       "      <td>0.0</td>\n",
       "      <td>0.0</td>\n",
       "      <td>0.0</td>\n",
       "      <td>0.0</td>\n",
       "      <td>0.0</td>\n",
       "      <td>0.0</td>\n",
       "      <td>...</td>\n",
       "      <td>0.0</td>\n",
       "      <td>0.0</td>\n",
       "      <td>0.0</td>\n",
       "      <td>0.0</td>\n",
       "      <td>0.0</td>\n",
       "      <td>0.0</td>\n",
       "      <td>0.0</td>\n",
       "      <td>0.0</td>\n",
       "      <td>0.0</td>\n",
       "      <td>0.0</td>\n",
       "    </tr>\n",
       "    <tr>\n",
       "      <th>ACGATGTCAGTCACTA-1</th>\n",
       "      <td>0.0</td>\n",
       "      <td>0.0</td>\n",
       "      <td>0.0</td>\n",
       "      <td>0.0</td>\n",
       "      <td>0.0</td>\n",
       "      <td>0.0</td>\n",
       "      <td>0.0</td>\n",
       "      <td>0.0</td>\n",
       "      <td>0.0</td>\n",
       "      <td>0.0</td>\n",
       "      <td>...</td>\n",
       "      <td>0.0</td>\n",
       "      <td>0.0</td>\n",
       "      <td>0.0</td>\n",
       "      <td>0.0</td>\n",
       "      <td>0.0</td>\n",
       "      <td>0.0</td>\n",
       "      <td>0.0</td>\n",
       "      <td>0.0</td>\n",
       "      <td>0.0</td>\n",
       "      <td>0.0</td>\n",
       "    </tr>\n",
       "    <tr>\n",
       "      <th>...</th>\n",
       "      <td>...</td>\n",
       "      <td>...</td>\n",
       "      <td>...</td>\n",
       "      <td>...</td>\n",
       "      <td>...</td>\n",
       "      <td>...</td>\n",
       "      <td>...</td>\n",
       "      <td>...</td>\n",
       "      <td>...</td>\n",
       "      <td>...</td>\n",
       "      <td>...</td>\n",
       "      <td>...</td>\n",
       "      <td>...</td>\n",
       "      <td>...</td>\n",
       "      <td>...</td>\n",
       "      <td>...</td>\n",
       "      <td>...</td>\n",
       "      <td>...</td>\n",
       "      <td>...</td>\n",
       "      <td>...</td>\n",
       "      <td>...</td>\n",
       "    </tr>\n",
       "    <tr>\n",
       "      <th>TTCGGTCAGCTAGTTC-1</th>\n",
       "      <td>0.0</td>\n",
       "      <td>0.0</td>\n",
       "      <td>0.0</td>\n",
       "      <td>0.0</td>\n",
       "      <td>0.0</td>\n",
       "      <td>0.0</td>\n",
       "      <td>0.0</td>\n",
       "      <td>0.0</td>\n",
       "      <td>0.0</td>\n",
       "      <td>0.0</td>\n",
       "      <td>...</td>\n",
       "      <td>0.0</td>\n",
       "      <td>0.0</td>\n",
       "      <td>0.0</td>\n",
       "      <td>0.0</td>\n",
       "      <td>0.0</td>\n",
       "      <td>0.0</td>\n",
       "      <td>0.0</td>\n",
       "      <td>0.0</td>\n",
       "      <td>0.0</td>\n",
       "      <td>0.0</td>\n",
       "    </tr>\n",
       "    <tr>\n",
       "      <th>TTCGGTCTCAATCTCT-1</th>\n",
       "      <td>0.0</td>\n",
       "      <td>0.0</td>\n",
       "      <td>0.0</td>\n",
       "      <td>0.0</td>\n",
       "      <td>0.0</td>\n",
       "      <td>0.0</td>\n",
       "      <td>0.0</td>\n",
       "      <td>0.0</td>\n",
       "      <td>0.0</td>\n",
       "      <td>0.0</td>\n",
       "      <td>...</td>\n",
       "      <td>0.0</td>\n",
       "      <td>0.0</td>\n",
       "      <td>0.0</td>\n",
       "      <td>0.0</td>\n",
       "      <td>0.0</td>\n",
       "      <td>0.0</td>\n",
       "      <td>0.0</td>\n",
       "      <td>0.0</td>\n",
       "      <td>0.0</td>\n",
       "      <td>0.0</td>\n",
       "    </tr>\n",
       "    <tr>\n",
       "      <th>TTCTACACACGAAATA-1</th>\n",
       "      <td>0.0</td>\n",
       "      <td>0.0</td>\n",
       "      <td>0.0</td>\n",
       "      <td>0.0</td>\n",
       "      <td>0.0</td>\n",
       "      <td>0.0</td>\n",
       "      <td>0.0</td>\n",
       "      <td>0.0</td>\n",
       "      <td>0.0</td>\n",
       "      <td>0.0</td>\n",
       "      <td>...</td>\n",
       "      <td>0.0</td>\n",
       "      <td>0.0</td>\n",
       "      <td>0.0</td>\n",
       "      <td>0.0</td>\n",
       "      <td>0.0</td>\n",
       "      <td>0.0</td>\n",
       "      <td>0.0</td>\n",
       "      <td>0.0</td>\n",
       "      <td>0.0</td>\n",
       "      <td>0.0</td>\n",
       "    </tr>\n",
       "    <tr>\n",
       "      <th>TTGCGTCCAGCTGCTG-1</th>\n",
       "      <td>0.0</td>\n",
       "      <td>0.0</td>\n",
       "      <td>0.0</td>\n",
       "      <td>0.0</td>\n",
       "      <td>0.0</td>\n",
       "      <td>0.0</td>\n",
       "      <td>0.0</td>\n",
       "      <td>0.0</td>\n",
       "      <td>0.0</td>\n",
       "      <td>0.0</td>\n",
       "      <td>...</td>\n",
       "      <td>0.0</td>\n",
       "      <td>0.0</td>\n",
       "      <td>0.0</td>\n",
       "      <td>0.0</td>\n",
       "      <td>0.0</td>\n",
       "      <td>0.0</td>\n",
       "      <td>0.0</td>\n",
       "      <td>0.0</td>\n",
       "      <td>0.0</td>\n",
       "      <td>0.0</td>\n",
       "    </tr>\n",
       "    <tr>\n",
       "      <th>TTTACTGTCATCACCC-1</th>\n",
       "      <td>0.0</td>\n",
       "      <td>0.0</td>\n",
       "      <td>0.0</td>\n",
       "      <td>0.0</td>\n",
       "      <td>0.0</td>\n",
       "      <td>0.0</td>\n",
       "      <td>0.0</td>\n",
       "      <td>0.0</td>\n",
       "      <td>0.0</td>\n",
       "      <td>0.0</td>\n",
       "      <td>...</td>\n",
       "      <td>0.0</td>\n",
       "      <td>0.0</td>\n",
       "      <td>0.0</td>\n",
       "      <td>0.0</td>\n",
       "      <td>0.0</td>\n",
       "      <td>0.0</td>\n",
       "      <td>0.0</td>\n",
       "      <td>0.0</td>\n",
       "      <td>0.0</td>\n",
       "      <td>0.0</td>\n",
       "    </tr>\n",
       "  </tbody>\n",
       "</table>\n",
       "<p>143 rows × 16571 columns</p>\n",
       "</div>"
      ],
      "text/plain": [
       "                    1      2      3      4      5      6      7      8      \\\n",
       "AAATGCCAGTACATGA-1    0.0    0.0    0.0    0.0    0.0    0.0    0.0    0.0   \n",
       "AACTGGTTCACATACG-1    0.0    0.0    0.0    0.0    0.0    0.0    0.0    0.0   \n",
       "ACCGTAAAGAATTCCC-1    0.0    0.0    0.0    0.0    0.0    0.0    0.0    0.0   \n",
       "ACGATACCACGTCAGC-1    0.0    0.0    0.0    0.0    0.0    0.0    0.0    0.0   \n",
       "ACGATGTCAGTCACTA-1    0.0    0.0    0.0    0.0    0.0    0.0    0.0    0.0   \n",
       "...                   ...    ...    ...    ...    ...    ...    ...    ...   \n",
       "TTCGGTCAGCTAGTTC-1    0.0    0.0    0.0    0.0    0.0    0.0    0.0    0.0   \n",
       "TTCGGTCTCAATCTCT-1    0.0    0.0    0.0    0.0    0.0    0.0    0.0    0.0   \n",
       "TTCTACACACGAAATA-1    0.0    0.0    0.0    0.0    0.0    0.0    0.0    0.0   \n",
       "TTGCGTCCAGCTGCTG-1    0.0    0.0    0.0    0.0    0.0    0.0    0.0    0.0   \n",
       "TTTACTGTCATCACCC-1    0.0    0.0    0.0    0.0    0.0    0.0    0.0    0.0   \n",
       "\n",
       "                    9      10     ...  16562  16563  16564  16565  16566  \\\n",
       "AAATGCCAGTACATGA-1    0.0    0.0  ...    0.0    0.0    0.0    0.0    0.0   \n",
       "AACTGGTTCACATACG-1    0.0    0.0  ...    0.0    0.0    0.0    0.0    0.0   \n",
       "ACCGTAAAGAATTCCC-1    0.0    0.0  ...    0.0    0.0    0.0    0.0    0.0   \n",
       "ACGATACCACGTCAGC-1    0.0    0.0  ...    0.0    0.0    0.0    0.0    0.0   \n",
       "ACGATGTCAGTCACTA-1    0.0    0.0  ...    0.0    0.0    0.0    0.0    0.0   \n",
       "...                   ...    ...  ...    ...    ...    ...    ...    ...   \n",
       "TTCGGTCAGCTAGTTC-1    0.0    0.0  ...    0.0    0.0    0.0    0.0    0.0   \n",
       "TTCGGTCTCAATCTCT-1    0.0    0.0  ...    0.0    0.0    0.0    0.0    0.0   \n",
       "TTCTACACACGAAATA-1    0.0    0.0  ...    0.0    0.0    0.0    0.0    0.0   \n",
       "TTGCGTCCAGCTGCTG-1    0.0    0.0  ...    0.0    0.0    0.0    0.0    0.0   \n",
       "TTTACTGTCATCACCC-1    0.0    0.0  ...    0.0    0.0    0.0    0.0    0.0   \n",
       "\n",
       "                    16567  16568  16569  16570  16571  \n",
       "AAATGCCAGTACATGA-1    0.0    0.0    0.0    0.0    0.0  \n",
       "AACTGGTTCACATACG-1    0.0    0.0    0.0    0.0    0.0  \n",
       "ACCGTAAAGAATTCCC-1    0.0    0.0    0.0    0.0    0.0  \n",
       "ACGATACCACGTCAGC-1    0.0    0.0    0.0    0.0    0.0  \n",
       "ACGATGTCAGTCACTA-1    0.0    0.0    0.0    0.0    0.0  \n",
       "...                   ...    ...    ...    ...    ...  \n",
       "TTCGGTCAGCTAGTTC-1    0.0    0.0    0.0    0.0    0.0  \n",
       "TTCGGTCTCAATCTCT-1    0.0    0.0    0.0    0.0    0.0  \n",
       "TTCTACACACGAAATA-1    0.0    0.0    0.0    0.0    0.0  \n",
       "TTGCGTCCAGCTGCTG-1    0.0    0.0    0.0    0.0    0.0  \n",
       "TTTACTGTCATCACCC-1    0.0    0.0    0.0    0.0    0.0  \n",
       "\n",
       "[143 rows x 16571 columns]"
      ]
     },
     "execution_count": 15,
     "metadata": {},
     "output_type": "execute_result"
    }
   ],
   "source": [
    "sc_coverage = pardf(sc_coverage,fill_df_coverage, func_args=(PILEUP_DIR,), num_processes=32)\n",
    "sc_coverage.to_csv(\"../data/processed/A/sc_coverage_barcodeText.csv\")\n",
    "\n",
    "#sc_coverage = fill_df_coverage(sc_coverage,PILEUP_DIR)\n",
    "sc_coverage"
   ]
  },
  {
   "cell_type": "code",
   "execution_count": 16,
   "metadata": {
    "ExecuteTime": {
     "end_time": "2020-01-14T20:28:31.922027Z",
     "start_time": "2020-01-14T20:28:28.223879Z"
    }
   },
   "outputs": [],
   "source": [
    "sc_coverage = pd.read_csv(\"../data/processed/A/sc_coverage_barcodeText.csv\", index_col=0)"
   ]
  },
  {
   "cell_type": "code",
   "execution_count": 17,
   "metadata": {
    "ExecuteTime": {
     "end_time": "2020-01-14T20:28:37.816237Z",
     "start_time": "2020-01-14T20:28:31.924140Z"
    }
   },
   "outputs": [
    {
     "name": "stdout",
     "output_type": "stream",
     "text": [
      "142\n"
     ]
    }
   ],
   "source": [
    "not_done = sc_coverage[((sc_coverage==0).all(axis=1))].index\n",
    "print(len(not_done))"
   ]
  },
  {
   "cell_type": "code",
   "execution_count": 18,
   "metadata": {
    "ExecuteTime": {
     "end_time": "2020-01-14T20:28:37.824874Z",
     "start_time": "2020-01-14T20:28:37.818592Z"
    }
   },
   "outputs": [
    {
     "data": {
      "text/plain": [
       "{'AAATGCCAGTACATGA-1': 1,\n",
       " 'AACTGGTTCACATACG-1': 1,\n",
       " 'ACCGTAAAGAATTCCC-1': 1,\n",
       " 'ACGATACCACGTCAGC-1': 9,\n",
       " 'ACGATGTCAGTCACTA-1': 2,\n",
       " 'ACGCCAGAGAGCCTAG-1': 3,\n",
       " 'ACTGAACAGGGCTCTC-1': 8,\n",
       " 'ACTGCTCGTAGCTCCG-1': 5,\n",
       " 'ACTGTCCCATTGGGCC-1': 2,\n",
       " 'ACTGTCCTCTTAGAGC-1': 69,\n",
       " 'ACTTACTAGGACAGCT-1': 3,\n",
       " 'AGAATAGCAGCTGTGC-1': 1,\n",
       " 'AGAGCGAAGTGTCTCA-1': 8,\n",
       " 'AGATTGCGTTTGTGTG-1': 1,\n",
       " 'AGCATACGTCAACATC-1': 1,\n",
       " 'AGCGGTCTCATGTCCC-1': 130,\n",
       " 'AGCTCTCAGAACTGTA-1': 1,\n",
       " 'AGGCCACCACTTAACG-1': 1,\n",
       " 'AGTCTTTAGTGGTAGC-1': 3,\n",
       " 'AGTGTCAGTGATGATA-1': 1,\n",
       " 'ATAACGCCACTGAAGG-1': 2,\n",
       " 'ATAAGAGCACTCAGGC-1': 1,\n",
       " 'ATCATGGAGTCATCCA-1': 5,\n",
       " 'ATCATGGCATCCGTGG-1': 3,\n",
       " 'ATCATGGTCAACGAAA-1': 16,\n",
       " 'ATTACTCCAGTGGAGT-1': 24,\n",
       " 'ATTATCCAGTATCGAA-1': 15,\n",
       " 'CAACCAACATCCTTGC-1': 3,\n",
       " 'CAAGAAAAGTCCATAC-1': 2,\n",
       " 'CAAGAAAGTGACGGTA-1': 6,\n",
       " 'CAAGTTGAGACGCACA-1': 7,\n",
       " 'CAGAGAGGTGGTAACG-1': 5,\n",
       " 'CAGATCATCTAGCACA-1': 8,\n",
       " 'CAGCGACCATGGTCAT-1': 1,\n",
       " 'CATCGGGCAACAACCT-1': 3,\n",
       " 'CCACCTAGTATAGGGC-1': 1,\n",
       " 'CCACTACAGAATGTGT-1': 1,\n",
       " 'CCATGTCTCCTATTCA-1': 1,\n",
       " 'CCGGGATCATACGCCG-1': 5,\n",
       " 'CCGGGATGTCTCGTTC-1': 27,\n",
       " 'CCTCTGAAGCAGCGTA-1': 1,\n",
       " 'CCTCTGAGTAAGTTCC-1': 1,\n",
       " 'CCTTACGTCATCTGTT-1': 1,\n",
       " 'CCTTCCCTCGGCGCAT-1': 1,\n",
       " 'CGAGAAGAGAAGGCCT-1': 2,\n",
       " 'CGAGCACAGGCGCTCT-1': 1,\n",
       " 'CGAGCACTCCAAATGC-1': 1,\n",
       " 'CGATGGCAGCTGCGAA-1': 1,\n",
       " 'CGCCAAGAGTCGTTTG-1': 1,\n",
       " 'CGCTATCGTGCCTGCA-1': 3,\n",
       " 'CGCTGGACAGGTGGAT-1': 3,\n",
       " 'CGCTTCATCCCAGGTG-1': 1,\n",
       " 'CGGACACCAGTATGCT-1': 7,\n",
       " 'CGGAGCTAGAATTGTG-1': 1,\n",
       " 'CGGAGCTAGGTCGGAT-1': 46,\n",
       " 'CGGCTAGGTCGACTGC-1': 1,\n",
       " 'CGGTTAAGTATCTGCA-1': 22,\n",
       " 'CGGTTAAGTCCGACGT-1': 4,\n",
       " 'CGGTTAATCAACACAC-1': 1,\n",
       " 'CGTAGCGAGCTGATAA-1': 3,\n",
       " 'CGTCAGGAGCGGATCA-1': 3,\n",
       " 'CGTCTACTCGCGCCAA-1': 1,\n",
       " 'CGTGAGCTCACCGTAA-1': 12,\n",
       " 'CGTTAGAGTTGGGACA-1': 1,\n",
       " 'CTAATGGGTAGGGACT-1': 1,\n",
       " 'CTCCTAGCAGTTTACG-1': 13,\n",
       " 'CTCGAAACAGCAGTTT-1': 1,\n",
       " 'CTCGGGAGTCCAGTAT-1': 1,\n",
       " 'CTCTGGTAGGCATTGG-1': 2,\n",
       " 'CTGAAACTCATACGGT-1': 1,\n",
       " 'CTGATCCGTTGCCTCT-1': 1,\n",
       " 'CTGCCTAAGATATACG-1': 1,\n",
       " 'CTGCCTAAGTGTCCCG-1': 4,\n",
       " 'CTTAGGAAGCAGCCTC-1': 1,\n",
       " 'CTTAGGAAGGAATGGA-1': 5,\n",
       " 'CTTCTCTGTCCATCCT-1': 3,\n",
       " 'GAAATGATCCACGTTC-1': 3,\n",
       " 'GACCAATTCCATGCTC-1': 11,\n",
       " 'GAGCAGAGTCTAGTCA-1': 1,\n",
       " 'GATCGTACAGTATGCT-1': 1,\n",
       " 'GATCGTATCACCTTAT-1': 3,\n",
       " 'GATCTAGAGCCACGTC-1': 1,\n",
       " 'GATGAGGCACGCGAAA-1': 1,\n",
       " 'GCAATCAGTAGGCATG-1': 1,\n",
       " 'GCAGCCAAGATGCGAC-1': 1,\n",
       " 'GCATACACATGATCCA-1': 11,\n",
       " 'GCATGCGTCGCGCCAA-1': 313,\n",
       " 'GCGACCAAGTGGTAGC-1': 1,\n",
       " 'GCGACCACACCAGCAC-1': 2,\n",
       " 'GCGACCATCCCGGATG-1': 2,\n",
       " 'GCGCCAAGTATTCTCT-1': 1,\n",
       " 'GGACAAGGTCCCGACA-1': 18,\n",
       " 'GGACAGAAGGCTAGGT-1': 1,\n",
       " 'GGACATTAGCGATGAC-1': 3,\n",
       " 'GGCAATTTCGTCCGTT-1': 1,\n",
       " 'GGCAATTTCTACGAGT-1': 4,\n",
       " 'GGCGACTCAAACTGCT-1': 1,\n",
       " 'GGCTGGTGTGCACCAC-1': 1,\n",
       " 'GGGAATGAGTAGCGGT-1': 1,\n",
       " 'GGGAGATTCCGTTGTC-1': 1,\n",
       " 'GGGATGAGTGTTCGAT-1': 1,\n",
       " 'GTAACTGGTTCCGGCA-1': 1,\n",
       " 'GTACTCCCAGCCTATA-1': 3,\n",
       " 'GTCCTCATCATAGCAC-1': 2,\n",
       " 'GTGCTTCCACGGTAGA-1': 1,\n",
       " 'GTGTTAGGTGATAAAC-1': 1,\n",
       " 'GTTTCTAAGATGGCGT-1': 3,\n",
       " 'GTTTCTAGTGCTAGCC-1': 2,\n",
       " 'TAAGAGACAGCATACT-1': 1,\n",
       " 'TACGGATAGCCACCTG-1': 1,\n",
       " 'TACGGGCCAGGATCGA-1': 1,\n",
       " 'TAGTGGTGTCAGGACA-1': 1,\n",
       " 'TATGCCCCAGCCTTGG-1': 2,\n",
       " 'TCAGGTAAGCTGTCTA-1': 1,\n",
       " 'TCATTTGGTTCACCTC-1': 1,\n",
       " 'TCATTTGTCAGATAAG-1': 1,\n",
       " 'TCGTACCCAGGATCGA-1': 1,\n",
       " 'TCGTAGATCAGGCCCA-1': 1,\n",
       " 'TCTATTGGTGTATGGG-1': 1,\n",
       " 'TCTCATAGTCGCATAT-1': 1,\n",
       " 'TCTCTAACACTGCCAG-1': 1,\n",
       " 'TCTCTAACAGCTGTAT-1': 1,\n",
       " 'TCTGAGACACAAGACG-1': 23,\n",
       " 'TGAAAGATCTGTTGAG-1': 37,\n",
       " 'TGACAACCATCACGAT-1': 2,\n",
       " 'TGACGGCAGGTAAACT-1': 1,\n",
       " 'TGACTAGCAACTGGCC-1': 1,\n",
       " 'TGACTTTAGAGCCTAG-1': 2,\n",
       " 'TGAGAGGTCGTATCAG-1': 2,\n",
       " 'TGAGGGAAGAGCAATT-1': 1,\n",
       " 'TGCACCTCAAAGGTGC-1': 3,\n",
       " 'TGCACCTGTCCGAGTC-1': 15,\n",
       " 'TGCCCTACATTATCTC-1': 9,\n",
       " 'TGCTACCGTTGTTTGG-1': 2,\n",
       " 'TGGCTGGAGGGTGTTG-1': 8,\n",
       " 'TGGCTGGTCACAATGC-1': 1,\n",
       " 'TGTCCCAGTTCCGGCA-1': 1,\n",
       " 'TTAGGACAGGGTGTTG-1': 1,\n",
       " 'TTCGGTCAGCTAGTTC-1': 2,\n",
       " 'TTCGGTCTCAATCTCT-1': 7,\n",
       " 'TTCTACACACGAAATA-1': 1,\n",
       " 'TTGCGTCCAGCTGCTG-1': 4,\n",
       " 'TTTACTGTCATCACCC-1': 1}"
      ]
     },
     "execution_count": 18,
     "metadata": {},
     "output_type": "execute_result"
    }
   ],
   "source": [
    "CB_read_MT"
   ]
  },
  {
   "cell_type": "markdown",
   "metadata": {},
   "source": [
    "# With mouse annotation"
   ]
  },
  {
   "cell_type": "code",
   "execution_count": 19,
   "metadata": {
    "ExecuteTime": {
     "end_time": "2020-01-14T20:28:45.997815Z",
     "start_time": "2020-01-14T20:28:44.157021Z"
    }
   },
   "outputs": [
    {
     "name": "stdout",
     "output_type": "stream",
     "text": [
      "36485\n",
      "36493\n",
      "Human1_001\n",
      "Human1_001\n",
      "Human1_001\n",
      "Human1_001\n",
      "Human1_001\n",
      "Human1_001\n",
      "Human1_001\n",
      "Human1_001\n",
      "Human1_001\n",
      "Human1_001\n",
      "Human1_001\n",
      "Human1_001\n",
      "Human1_001\n",
      "Human1_001\n",
      "Human1_001\n",
      "Human1_001\n",
      "Human1_001\n",
      "Human1_001\n",
      "Human1_001\n",
      "Human1_001\n",
      "Human1_001\n",
      "Human1_001\n",
      "Human1_001\n",
      "Human1_001\n",
      "Human1_001\n",
      "Human1_001\n",
      "Human1_001\n",
      "Human1_001\n",
      "Human1_001\n",
      "Human1_001\n",
      "Human1_001\n",
      "Human1_001\n",
      "Human1_001\n",
      "Human1_001\n",
      "Human1_001\n",
      "Human1_001\n",
      "Human1_001\n",
      "Human1_001\n",
      "Human1_001\n",
      "Human1_001\n",
      "Human1_001\n",
      "Human1_001\n",
      "Human1_001\n",
      "Human1_001\n",
      "Human1_001\n",
      "Human1_001\n",
      "Human1_001\n",
      "Human1_001\n",
      "Human1_001\n",
      "Human1_001\n",
      "Human1_001\n",
      "Human1_001\n",
      "Human1_001\n",
      "Human1_001\n",
      "Human1_001\n",
      "Human1_001\n",
      "Human1_001\n",
      "Human1_001\n",
      "Human1_001\n",
      "Human1_001\n",
      "Human1_001\n",
      "Human1_001\n",
      "Human1_001\n",
      "Human1_001\n",
      "Human1_001\n",
      "Human1_001\n",
      "Human1_001\n",
      "Human1_001\n",
      "Human1_001\n",
      "Human1_001\n",
      "Human1_001\n",
      "Human1_001\n",
      "Human1_001\n",
      "Human1_001\n",
      "Human1_001\n",
      "Human1_001\n",
      "Human1_001\n",
      "Human1_001\n",
      "Human1_001\n",
      "Human1_001\n",
      "Human1_001\n",
      "Human1_001\n",
      "Human1_001\n",
      "Human1_001\n",
      "Human1_001\n",
      "Human1_001\n",
      "Human1_001\n",
      "Human1_001\n",
      "Human1_001\n",
      "Human1_001\n",
      "Human1_001\n",
      "Human1_001\n",
      "Human1_001\n",
      "Human1_001\n",
      "Human1_001\n",
      "Human1_001\n",
      "Human1_001\n",
      "Human1_001\n",
      "Human1_001\n",
      "Human1_001\n",
      "Human1_001\n",
      "Human1_001\n",
      "Human1_001\n",
      "Human1_001\n",
      "Human1_001\n",
      "Human1_001\n",
      "Human1_001\n",
      "Human1_001\n",
      "Human1_001\n",
      "Human1_001\n",
      "Human1_001\n",
      "Human1_001\n",
      "Human1_001\n",
      "Human1_001\n",
      "Human1_001\n",
      "Human1_001\n",
      "Human1_001\n",
      "Human1_001\n",
      "Human1_001\n",
      "Human1_001\n",
      "Human1_001\n",
      "Human1_001\n",
      "Human1_001\n",
      "Human1_001\n",
      "Human1_001\n",
      "Human1_001\n",
      "Human1_001\n",
      "Human1_001\n",
      "Human1_001\n",
      "Human1_001\n",
      "Human1_001\n",
      "Human1_001\n",
      "Human1_001\n",
      "Human1_001\n",
      "Human1_001\n",
      "Human1_001\n",
      "Human1_001\n",
      "Human1_001\n",
      "Human1_001\n",
      "Human1_001\n",
      "Human1_001\n",
      "Human1_001\n",
      "Human1_001\n",
      "Mouse_Tumor1_001\n",
      "Mouse_Tumor1_001\n",
      "Mouse_Tumor1_001\n",
      "Mouse_Tumor1_001\n",
      "Mouse_Tumor1_001\n",
      "Mouse_Tumor1_001\n",
      "Mouse_Tumor1_001\n",
      "Mouse_Tumor1_001\n",
      "Mouse_Tumor1_001\n",
      "Mouse_Tumor1_001\n",
      "Mouse_Tumor1_001\n",
      "Mouse_Tumor1_001\n",
      "Mouse_Tumor1_001\n",
      "Mouse_Tumor1_001\n",
      "Mouse_Tumor1_001\n",
      "Mouse_Tumor1_001\n",
      "Mouse_Tumor1_001\n",
      "Mouse_Tumor1_001\n",
      "Mouse_Tumor1_001\n",
      "Mouse_Tumor1_001\n",
      "Mouse_Tumor1_001\n",
      "Mouse_Tumor1_001\n",
      "Mouse_Tumor1_001\n",
      "Mouse_Tumor1_001\n",
      "Mouse_Tumor1_001\n",
      "Mouse_Tumor1_001\n",
      "Mouse_Tumor1_001\n",
      "Mouse_Tumor1_001\n",
      "Mouse_Tumor1_001\n",
      "Mouse_Tumor1_001\n",
      "Mouse_Tumor1_001\n",
      "Mouse_Tumor1_001\n",
      "Mouse_Tumor1_001\n",
      "Mouse_Tumor1_001\n",
      "Mouse_Tumor1_001\n",
      "Mouse_Tumor1_001\n",
      "Mouse_Tumor1_001\n",
      "Mouse_Tumor1_001\n",
      "Mouse_Tumor1_001\n",
      "Mouse_Tumor1_001\n",
      "Mouse_Tumor1_001\n",
      "Mouse_Tumor1_001\n",
      "Mouse_Tumor1_001\n",
      "Mouse_Tumor1_001\n",
      "Mouse_Tumor1_001\n",
      "Mouse_Tumor1_001\n",
      "Mouse_Tumor1_001\n",
      "Mouse_Tumor1_001\n",
      "Mouse_Tumor1_001\n",
      "Mouse_Tumor1_001\n",
      "Mouse_Tumor1_001\n",
      "Mouse_Tumor1_001\n",
      "Mouse_Tumor1_001\n",
      "Mouse_Tumor1_001\n",
      "Mouse_Tumor1_001\n",
      "Mouse_Tumor1_001\n",
      "Mouse_Tumor1_001\n",
      "Mouse_Tumor1_001\n",
      "Mouse_Tumor1_001\n",
      "Mouse_Tumor1_001\n",
      "Mouse_Tumor1_001\n",
      "Mouse_Tumor1_001\n",
      "Mouse_Tumor1_001\n",
      "Mouse_Tumor1_001\n",
      "Mouse_Tumor1_001\n",
      "Mouse_Tumor1_001\n",
      "Mouse_Tumor1_001\n",
      "Mouse_Tumor1_001\n",
      "Mouse_Tumor1_001\n",
      "Mouse_Tumor1_001\n",
      "Mouse_Tumor1_001\n",
      "Mouse_Tumor1_001\n",
      "Mouse_Tumor1_001\n",
      "Mouse_Tumor1_001\n",
      "Mouse_Tumor1_001\n",
      "Mouse_Tumor1_001\n",
      "Mouse_Tumor1_001\n",
      "Mouse_Tumor1_001\n",
      "Mouse_Tumor1_001\n",
      "Mouse_Tumor1_001\n",
      "Mouse_Tumor1_001\n",
      "Mouse_Tumor1_001\n",
      "Mouse_Tumor1_001\n",
      "Mouse_Tumor1_001\n",
      "Mouse_Tumor1_001\n",
      "Mouse_Tumor1_001\n",
      "Mouse_Tumor1_001\n",
      "Mouse_Tumor1_001\n",
      "Mouse_Tumor1_001\n",
      "Mouse_Tumor1_001\n",
      "Mouse_Tumor1_001\n",
      "Mouse_Tumor1_001\n",
      "Mouse_Tumor1_001\n",
      "Mouse_Tumor1_001\n",
      "Mouse_Tumor1_001\n",
      "Mouse_Tumor1_001\n",
      "Mouse_Tumor1_001\n",
      "Mouse_Tumor1_001\n",
      "Mouse_Tumor1_001\n",
      "Mouse_Tumor1_001\n",
      "Mouse_Tumor1_001\n",
      "Mouse_Tumor1_001\n",
      "Mouse_Tumor1_001\n",
      "Mouse_Tumor1_001\n",
      "Mouse_Tumor1_001\n",
      "Mouse_Tumor1_001\n",
      "Mouse_Tumor1_001\n",
      "Mouse_Tumor1_001\n",
      "Mouse_Tumor1_001\n",
      "Mouse_Tumor1_001\n",
      "Mouse_Tumor1_001\n",
      "Mouse_Tumor1_001\n",
      "Mouse_Tumor1_001\n",
      "Mouse_Tumor1_001\n",
      "Mouse_Tumor1_001\n",
      "Mouse_Tumor1_001\n",
      "Mouse_Tumor1_001\n",
      "Mouse_Tumor1_001\n",
      "Mouse_Tumor1_001\n",
      "Mouse_Tumor1_001\n",
      "Mouse_Tumor1_001\n",
      "Mouse_Tumor1_001\n",
      "Mouse_Tumor1_001\n",
      "Mouse_Tumor1_001\n",
      "Mouse_Tumor1_001\n",
      "Mouse_Tumor1_001\n",
      "Mouse_Tumor1_001\n",
      "Mouse_Tumor1_001\n",
      "Mouse_Tumor1_001\n",
      "Mouse_Tumor1_001\n",
      "Mouse_Tumor1_001\n",
      "Mouse_Tumor1_001\n",
      "Mouse_Tumor1_001\n",
      "Mouse_Tumor1_001\n",
      "Mouse_Tumor1_001\n",
      "Mouse_Tumor1_001\n",
      "Mouse_Tumor1_001\n",
      "Mouse_Tumor1_001\n",
      "Mouse_Tumor1_001\n",
      "Mouse_Tumor1_001\n",
      "Mouse_Tumor1_001\n",
      "Mouse_Tumor1_001\n",
      "Mouse_Tumor1_001\n",
      "Mouse_Tumor1_001\n",
      "Mouse_Tumor1_001\n",
      "Mouse_Tumor1_001\n",
      "Mouse_Tumor1_001\n",
      "Mouse_Tumor1_001\n",
      "Mouse_Tumor1_001\n",
      "Mouse_Tumor1_001\n",
      "Mouse_Tumor1_001\n",
      "Mouse_Tumor1_001\n",
      "Mouse_Tumor1_001\n",
      "Mouse_Tumor1_001\n",
      "Mouse_Tumor1_001\n",
      "Mouse_Tumor1_001\n",
      "Mouse_Tumor1_001\n",
      "Mouse_Tumor1_001\n",
      "Mouse_Tumor1_001\n",
      "Mouse_Tumor1_001\n",
      "Mouse_Tumor1_001\n",
      "Mouse_Tumor1_001\n",
      "Mouse_Tumor1_001\n",
      "Mouse_Tumor1_001\n",
      "Mouse_Tumor1_001\n",
      "Mouse_Tumor1_001\n",
      "Mouse_Tumor1_001\n",
      "Mouse_Tumor1_001\n",
      "Mouse_Tumor1_001\n",
      "Mouse_Tumor1_001\n",
      "Mouse_Tumor1_001\n",
      "Mouse_Tumor1_001\n",
      "Mouse_Tumor1_001\n",
      "Mouse_Tumor1_001\n",
      "Mouse_Tumor1_001\n",
      "Mouse_Tumor1_001\n",
      "Mouse_Tumor1_001\n",
      "Mouse_Tumor1_001\n",
      "Mouse_Tumor1_001\n",
      "Mouse_Tumor1_001\n",
      "Mouse_Tumor1_001\n",
      "Mouse_Tumor1_001\n",
      "Mouse_Tumor1_001\n",
      "Mouse_Tumor1_001\n",
      "Mouse_Tumor1_001\n",
      "Mouse_Tumor1_001\n",
      "Mouse_Tumor1_001\n",
      "Mouse_Tumor1_001\n",
      "Mouse_Tumor1_001\n",
      "Mouse_Tumor1_001\n",
      "Mouse_Tumor1_001\n",
      "Mouse_Tumor1_001\n",
      "Mouse_Tumor1_001\n",
      "Mouse_Tumor1_001\n",
      "Mouse_Tumor1_001\n",
      "Mouse_Tumor1_001\n",
      "Mouse_Tumor1_001\n",
      "Mouse_Tumor1_001\n",
      "Mouse_Tumor1_001\n",
      "Mouse_Tumor1_001\n",
      "Mouse_Tumor1_001\n",
      "Mouse_Tumor1_001\n",
      "Mouse_Tumor1_001\n",
      "Mouse_Tumor1_001\n",
      "Mouse_Tumor1_001\n",
      "Mouse_Tumor1_001\n",
      "Mouse_Tumor1_001\n",
      "Mouse_Tumor1_001\n",
      "Mouse_Tumor1_001\n",
      "Mouse_Tumor1_001\n",
      "Mouse_Tumor1_001\n",
      "Mouse_Tumor1_001\n",
      "Mouse_Tumor1_001\n",
      "Mouse_Tumor1_001\n",
      "Mouse_Tumor1_001\n",
      "Mouse_Tumor1_001\n",
      "Mouse_Tumor1_001\n",
      "Mouse_Tumor1_001\n",
      "Mouse_Tumor1_001\n",
      "Mouse_Tumor1_001\n",
      "Mouse_Tumor1_001\n",
      "Mouse_Tumor1_001\n",
      "Mouse_Tumor1_001\n",
      "Mouse_Tumor1_001\n",
      "Mouse_Tumor1_001\n",
      "Mouse_Tumor1_001\n",
      "Mouse_Tumor1_001\n",
      "Mouse_Tumor1_001\n",
      "Mouse_Tumor1_001\n",
      "Mouse_Tumor1_001\n",
      "Mouse_Tumor1_001\n",
      "Mouse_Tumor1_001\n",
      "Mouse_Tumor1_001\n",
      "Mouse_Tumor1_001\n",
      "Mouse_Tumor1_001\n",
      "Mouse_Tumor1_001\n",
      "Mouse_Tumor1_001\n",
      "Mouse_Tumor1_001\n",
      "Mouse_Tumor1_001\n",
      "Mouse_Tumor1_001\n",
      "Mouse_Tumor1_001\n",
      "Mouse_Tumor1_001\n",
      "Mouse_Tumor1_001\n",
      "Mouse_Tumor1_001\n",
      "Mouse_Tumor1_001\n",
      "Mouse_Tumor1_001\n",
      "Mouse_Tumor1_001\n",
      "Mouse_Tumor1_001\n",
      "Mouse_Tumor1_001\n",
      "Mouse_Tumor1_001\n",
      "Mouse_Tumor1_001\n",
      "Mouse_Tumor1_001\n",
      "Mouse_Tumor1_001\n",
      "Mouse_Tumor1_001\n",
      "Mouse_Tumor1_001\n",
      "Mouse_Tumor1_001\n",
      "Mouse_Tumor1_001\n",
      "Mouse_Tumor1_001\n",
      "Mouse_Tumor1_001\n",
      "Mouse_Tumor1_001\n",
      "Mouse_Tumor1_001\n",
      "Mouse_Tumor1_001\n",
      "Mouse_Tumor1_001\n",
      "Mouse_Tumor1_001\n",
      "Mouse_Tumor1_001\n",
      "Mouse_Tumor1_001\n",
      "Mouse_Tumor1_001\n",
      "Mouse_Tumor1_001\n",
      "Mouse_Tumor1_001\n",
      "Mouse_Tumor1_001\n",
      "Mouse_Tumor1_001\n",
      "Mouse_Tumor1_001\n",
      "Mouse_Tumor1_001\n",
      "Mouse_Tumor1_001\n",
      "Mouse_Tumor1_001\n",
      "Mouse_Tumor1_001\n",
      "Mouse_Tumor1_001\n",
      "Mouse_Tumor1_001\n",
      "Mouse_Tumor1_001\n",
      "Mouse_Tumor1_001\n",
      "Mouse_Tumor1_001\n",
      "Mouse_Tumor1_001\n",
      "Mouse_Tumor1_001\n",
      "Mouse_Tumor1_001\n",
      "Mouse_Tumor1_001\n",
      "Mouse_Tumor1_001\n",
      "Mouse_Tumor1_001\n",
      "Mouse_Tumor1_001\n",
      "Mouse_Tumor1_001\n",
      "Mouse_Tumor1_001\n",
      "Mouse_Tumor1_001\n",
      "Mouse_Tumor1_001\n",
      "Mouse_Tumor1_001\n",
      "Mouse_Tumor1_001\n",
      "Mouse_Tumor1_001\n",
      "Mouse_Tumor1_001\n",
      "Mouse_Tumor1_001\n",
      "Mouse_Tumor1_001\n",
      "Mouse_Tumor1_001\n",
      "Mouse_Tumor1_001\n",
      "Mouse_Tumor1_001\n",
      "Mouse_Tumor1_001\n",
      "Mouse_Tumor1_001\n",
      "Mouse_Tumor1_001\n",
      "Mouse_Tumor1_001\n",
      "Mouse_Tumor1_001\n",
      "Mouse_Tumor1_001\n",
      "Mouse_Tumor1_001\n",
      "Mouse_Tumor1_001\n",
      "Mouse_Tumor1_001\n",
      "Mouse_Tumor1_001\n",
      "Mouse_Tumor1_001\n",
      "Mouse_Tumor1_001\n",
      "Mouse_Tumor1_001\n",
      "Mouse_Tumor1_001\n",
      "Mouse_Tumor1_001\n",
      "Mouse_Tumor1_001\n",
      "Mouse_Tumor1_001\n",
      "Mouse_Tumor1_001\n",
      "Mouse_Tumor1_001\n",
      "Mouse_Tumor1_001\n",
      "Mouse_Tumor1_001\n",
      "Mouse_Tumor1_001\n",
      "Mouse_Tumor1_001\n",
      "Mouse_Tumor1_001\n",
      "Mouse_Tumor1_001\n",
      "Mouse_Tumor1_001\n",
      "Mouse_Tumor1_001\n",
      "Mouse_Tumor1_001\n",
      "Mouse_Tumor1_001\n",
      "Mouse_Tumor1_001\n",
      "Mouse_Tumor1_001\n",
      "Mouse_Tumor1_001\n",
      "Mouse_Tumor1_001\n",
      "Mouse_Tumor1_001\n",
      "Mouse_Tumor1_001\n",
      "Mouse_Tumor1_001\n",
      "Mouse_Tumor1_001\n",
      "Mouse_Tumor1_001\n",
      "Mouse_Tumor1_001\n",
      "Mouse_Tumor1_001\n",
      "Mouse_Tumor1_001\n",
      "Mouse_Tumor1_001\n",
      "Mouse_Tumor1_001\n",
      "Mouse_Tumor1_001\n",
      "Mouse_Tumor1_001\n",
      "Mouse_Tumor1_001\n",
      "Mouse_Tumor1_001\n",
      "Mouse_Tumor1_001\n",
      "Mouse_Tumor1_001\n",
      "Mouse_Tumor1_001\n",
      "Mouse_Tumor1_001\n",
      "Mouse_Tumor1_001\n",
      "Mouse_Tumor1_001\n",
      "Mouse_Tumor1_001\n",
      "Mouse_Tumor1_001\n",
      "Mouse_Tumor1_001\n",
      "Mouse_Tumor1_001\n",
      "Mouse_Tumor1_001\n",
      "Mouse_Tumor1_001\n",
      "Mouse_Tumor1_001\n",
      "Mouse_Tumor1_001\n",
      "Mouse_Tumor1_001\n",
      "Mouse_Tumor1_001\n",
      "Mouse_Tumor1_001\n",
      "Mouse_Tumor1_001\n",
      "Mouse_Tumor1_001\n",
      "Mouse_Tumor1_001\n",
      "Mouse_Tumor1_001\n",
      "Mouse_Tumor1_001\n",
      "Mouse_Tumor1_001\n",
      "Mouse_Tumor1_001\n",
      "Mouse_Tumor1_001\n",
      "Mouse_Tumor1_001\n",
      "Mouse_Tumor1_001\n",
      "Mouse_Tumor1_001\n",
      "Mouse_Tumor1_001\n",
      "Mouse_Tumor1_001\n",
      "Mouse_Tumor1_001\n",
      "Mouse_Tumor1_001\n",
      "Mouse_Tumor1_001\n",
      "Mouse_Tumor1_001\n",
      "Mouse_Tumor1_001\n",
      "Mouse_Tumor1_001\n",
      "Mouse_Tumor1_001\n",
      "Mouse_Tumor1_001\n",
      "Mouse_Tumor1_001\n",
      "Mouse_Tumor1_001\n",
      "Mouse_Tumor1_001\n",
      "Mouse_Tumor1_001\n",
      "Mouse_Tumor1_001\n",
      "Mouse_Tumor1_001\n",
      "Mouse_Tumor1_001\n",
      "Mouse_Tumor1_001\n",
      "Mouse_Tumor1_001\n",
      "Mouse_Tumor1_001\n",
      "Mouse_Tumor1_001\n",
      "Mouse_Tumor1_001\n",
      "Mouse_Tumor1_001\n",
      "Mouse_Tumor1_001\n",
      "Mouse_Tumor1_001\n",
      "Mouse_Tumor1_001\n",
      "Mouse_Tumor1_001\n",
      "Mouse_Tumor1_001\n",
      "Mouse_Tumor1_001\n",
      "Mouse_Tumor1_001\n",
      "Mouse_Tumor1_001\n",
      "Mouse_Tumor1_001\n",
      "Mouse_Tumor1_001\n",
      "Mouse_Tumor1_001\n",
      "Mouse_Tumor1_001\n",
      "Mouse_Tumor1_001\n",
      "Mouse_Tumor1_001\n",
      "Mouse_Tumor1_001\n",
      "Mouse_Tumor1_001\n",
      "Mouse_Tumor1_001\n",
      "Mouse_Tumor1_001\n",
      "Mouse_Tumor1_001\n",
      "Mouse_Tumor1_001\n",
      "Mouse_Tumor1_001\n",
      "Mouse_Tumor1_001\n",
      "Mouse_Tumor1_001\n",
      "Mouse_Tumor1_001\n",
      "Mouse_Tumor1_001\n",
      "Mouse_Tumor1_001\n",
      "Mouse_Tumor1_001\n",
      "Mouse_Tumor1_001\n",
      "Mouse_Tumor1_001\n",
      "Mouse_Tumor1_001\n",
      "Mouse_Tumor1_001\n",
      "Mouse_Tumor1_001\n",
      "574\n",
      "574\n"
     ]
    }
   ],
   "source": [
    "barcode_text = pd.read_csv(BARCODE_TEXT, sep=\"\\t\", index_col=0)\n",
    "barcode_text_mouse = pd.read_csv(BARCODE_TEXT_MOUSE, sep=\"\\t\", index_col=0)\n",
    "\n",
    "barcode_text = pd.concat((barcode_text,barcode_text_mouse ))\n",
    "barcode_text\n",
    "\n",
    "print(len(barcode_text[\"Barcode\"].unique()))\n",
    "\n",
    "print(len(barcode_text))\n",
    "\n",
    "CB_read_number\n",
    "\n",
    "CB_read_MT = dict()\n",
    "cb = 0\n",
    "for i in barcode_text[\"Barcode\"].values:\n",
    "    i = i.replace(\".\", \"-\")\n",
    "    #print(i)\n",
    "    if i in CB_read_number:\n",
    "        curr = barcode_text[barcode_text[\"Barcode\"] == i.replace(\"-\",\".\")]\n",
    "        print(curr[\"Sample.Name\"].values[0])\n",
    "        if curr[\"Sample.Name\"].values[0] == \"Human2_002\":\n",
    "            print(\"Here\")\n",
    "        cb += 1  \n",
    "        #if CB_read_number[i]*100 >= maxBP:\n",
    "        CB_read_MT[i] = CB_read_number[i] #*100\n",
    "        \n",
    "        \n",
    "print(cb)\n",
    "print(len(CB_read_MT))"
   ]
  },
  {
   "cell_type": "code",
   "execution_count": 46,
   "metadata": {
    "ExecuteTime": {
     "end_time": "2020-01-14T21:08:46.681506Z",
     "start_time": "2020-01-14T21:08:46.356492Z"
    },
    "scrolled": true
   },
   "outputs": [
    {
     "data": {
      "image/png": "[encoded data removed]",
      "text/plain": [
       "<Figure size 432x288 with 1 Axes>"
      ]
     },
     "metadata": {
      "needs_background": "light"
     },
     "output_type": "display_data"
    }
   ],
   "source": [
    "# plt.hist(list(CB_read_MT.values()), bins=7000,)\n",
    "# plt.xlim([-1,100]);\n",
    "plt.hist(np.clip(list(CB_read_MT.values()),0,40))\n",
    "plt.title(\"Number of reads per cell, using the barcodes from the text file\")\n",
    "plt.ylabel(\"Number of cells in bin\")\n",
    "plt.xlabel(\"Number of reads mapped to MT (clipped at 40)\")\n",
    "plt.savefig(SAVEFIG)"
   ]
  },
  {
   "cell_type": "markdown",
   "metadata": {},
   "source": [
    "## Only 14 of the 574 cells have greater than 200 reads"
   ]
  },
  {
   "cell_type": "code",
   "execution_count": 32,
   "metadata": {
    "ExecuteTime": {
     "end_time": "2020-01-14T20:32:14.619260Z",
     "start_time": "2020-01-14T20:32:14.613728Z"
    }
   },
   "outputs": [
    {
     "data": {
      "text/plain": [
       "(574, 16571)"
      ]
     },
     "execution_count": 32,
     "metadata": {},
     "output_type": "execute_result"
    }
   ],
   "source": [
    "sc_coverage.shape"
   ]
  },
  {
   "cell_type": "code",
   "execution_count": 33,
   "metadata": {
    "ExecuteTime": {
     "end_time": "2020-01-14T20:58:03.942326Z",
     "start_time": "2020-01-14T20:58:03.936661Z"
    }
   },
   "outputs": [
    {
     "data": {
      "text/plain": [
       "574"
      ]
     },
     "execution_count": 33,
     "metadata": {},
     "output_type": "execute_result"
    }
   ],
   "source": [
    "len(CB_read_MT)"
   ]
  },
  {
   "cell_type": "code",
   "execution_count": 45,
   "metadata": {
    "ExecuteTime": {
     "end_time": "2020-01-14T21:05:04.270485Z",
     "start_time": "2020-01-14T21:05:04.263095Z"
    },
    "scrolled": true
   },
   "outputs": [
    {
     "data": {
      "text/plain": [
       "14"
      ]
     },
     "execution_count": 45,
     "metadata": {},
     "output_type": "execute_result"
    }
   ],
   "source": [
    "(np.array(list(CB_read_MT.values())) > 200).sum()"
   ]
  },
  {
   "cell_type": "markdown",
   "metadata": {},
   "source": [
    "## Create matrix and load in values from scPileup"
   ]
  },
  {
   "cell_type": "code",
   "execution_count": 26,
   "metadata": {
    "ExecuteTime": {
     "end_time": "2020-01-14T20:30:11.079323Z",
     "start_time": "2020-01-14T20:30:11.070862Z"
    }
   },
   "outputs": [],
   "source": [
    "def fill_df_coverage(df, pileup_dir, is_par=False):\n",
    "    not_done = []\n",
    "    for ind in tqdm(df.index):\n",
    "        f = glob.glob(os.path.join(pileup_dir,\"CB_\" + ind + \".coverage.txt\"))\n",
    "        if len(f) == 0:  \n",
    "            print(\"Not here\")\n",
    "            not_done.append(ind)\n",
    "        else:\n",
    "            curr = pd.read_csv(f[0], header=None)\n",
    "            for _, val in curr.iterrows():\n",
    "                df.loc[ind, val[0]] = val[2]\n",
    "    print(f\"Number of missing files: {len(not_done)}\")\n",
    "    return df"
   ]
  },
  {
   "cell_type": "code",
   "execution_count": 27,
   "metadata": {
    "ExecuteTime": {
     "end_time": "2020-01-14T20:30:15.456053Z",
     "start_time": "2020-01-14T20:30:13.180505Z"
    },
    "scrolled": true
   },
   "outputs": [
    {
     "data": {
      "text/html": [
       "<div>\n",
       "<style scoped>\n",
       "    .dataframe tbody tr th:only-of-type {\n",
       "        vertical-align: middle;\n",
       "    }\n",
       "\n",
       "    .dataframe tbody tr th {\n",
       "        vertical-align: top;\n",
       "    }\n",
       "\n",
       "    .dataframe thead th {\n",
       "        text-align: right;\n",
       "    }\n",
       "</style>\n",
       "<table border=\"1\" class=\"dataframe\">\n",
       "  <thead>\n",
       "    <tr style=\"text-align: right;\">\n",
       "      <th></th>\n",
       "      <th>1</th>\n",
       "      <th>2</th>\n",
       "      <th>3</th>\n",
       "      <th>4</th>\n",
       "      <th>5</th>\n",
       "      <th>6</th>\n",
       "      <th>7</th>\n",
       "      <th>8</th>\n",
       "      <th>9</th>\n",
       "      <th>10</th>\n",
       "      <th>...</th>\n",
       "      <th>16562</th>\n",
       "      <th>16563</th>\n",
       "      <th>16564</th>\n",
       "      <th>16565</th>\n",
       "      <th>16566</th>\n",
       "      <th>16567</th>\n",
       "      <th>16568</th>\n",
       "      <th>16569</th>\n",
       "      <th>16570</th>\n",
       "      <th>16571</th>\n",
       "    </tr>\n",
       "  </thead>\n",
       "  <tbody>\n",
       "    <tr>\n",
       "      <th>AAATGCCAGTACATGA-1</th>\n",
       "      <td>0.0</td>\n",
       "      <td>0.0</td>\n",
       "      <td>0.0</td>\n",
       "      <td>0.0</td>\n",
       "      <td>0.0</td>\n",
       "      <td>0.0</td>\n",
       "      <td>0.0</td>\n",
       "      <td>0.0</td>\n",
       "      <td>0.0</td>\n",
       "      <td>0.0</td>\n",
       "      <td>...</td>\n",
       "      <td>0.0</td>\n",
       "      <td>0.0</td>\n",
       "      <td>0.0</td>\n",
       "      <td>0.0</td>\n",
       "      <td>0.0</td>\n",
       "      <td>0.0</td>\n",
       "      <td>0.0</td>\n",
       "      <td>0.0</td>\n",
       "      <td>0.0</td>\n",
       "      <td>0.0</td>\n",
       "    </tr>\n",
       "    <tr>\n",
       "      <th>AACTGGTTCACATACG-1</th>\n",
       "      <td>0.0</td>\n",
       "      <td>0.0</td>\n",
       "      <td>0.0</td>\n",
       "      <td>0.0</td>\n",
       "      <td>0.0</td>\n",
       "      <td>0.0</td>\n",
       "      <td>0.0</td>\n",
       "      <td>0.0</td>\n",
       "      <td>0.0</td>\n",
       "      <td>0.0</td>\n",
       "      <td>...</td>\n",
       "      <td>0.0</td>\n",
       "      <td>0.0</td>\n",
       "      <td>0.0</td>\n",
       "      <td>0.0</td>\n",
       "      <td>0.0</td>\n",
       "      <td>0.0</td>\n",
       "      <td>0.0</td>\n",
       "      <td>0.0</td>\n",
       "      <td>0.0</td>\n",
       "      <td>0.0</td>\n",
       "    </tr>\n",
       "    <tr>\n",
       "      <th>ACCGTAAAGAATTCCC-1</th>\n",
       "      <td>0.0</td>\n",
       "      <td>0.0</td>\n",
       "      <td>0.0</td>\n",
       "      <td>0.0</td>\n",
       "      <td>0.0</td>\n",
       "      <td>0.0</td>\n",
       "      <td>0.0</td>\n",
       "      <td>0.0</td>\n",
       "      <td>0.0</td>\n",
       "      <td>0.0</td>\n",
       "      <td>...</td>\n",
       "      <td>0.0</td>\n",
       "      <td>0.0</td>\n",
       "      <td>0.0</td>\n",
       "      <td>0.0</td>\n",
       "      <td>0.0</td>\n",
       "      <td>0.0</td>\n",
       "      <td>0.0</td>\n",
       "      <td>0.0</td>\n",
       "      <td>0.0</td>\n",
       "      <td>0.0</td>\n",
       "    </tr>\n",
       "    <tr>\n",
       "      <th>ACGATACCACGTCAGC-1</th>\n",
       "      <td>0.0</td>\n",
       "      <td>0.0</td>\n",
       "      <td>0.0</td>\n",
       "      <td>0.0</td>\n",
       "      <td>0.0</td>\n",
       "      <td>0.0</td>\n",
       "      <td>0.0</td>\n",
       "      <td>0.0</td>\n",
       "      <td>0.0</td>\n",
       "      <td>0.0</td>\n",
       "      <td>...</td>\n",
       "      <td>0.0</td>\n",
       "      <td>0.0</td>\n",
       "      <td>0.0</td>\n",
       "      <td>0.0</td>\n",
       "      <td>0.0</td>\n",
       "      <td>0.0</td>\n",
       "      <td>0.0</td>\n",
       "      <td>0.0</td>\n",
       "      <td>0.0</td>\n",
       "      <td>0.0</td>\n",
       "    </tr>\n",
       "    <tr>\n",
       "      <th>ACGATGTCAGTCACTA-1</th>\n",
       "      <td>0.0</td>\n",
       "      <td>0.0</td>\n",
       "      <td>0.0</td>\n",
       "      <td>0.0</td>\n",
       "      <td>0.0</td>\n",
       "      <td>0.0</td>\n",
       "      <td>0.0</td>\n",
       "      <td>0.0</td>\n",
       "      <td>0.0</td>\n",
       "      <td>0.0</td>\n",
       "      <td>...</td>\n",
       "      <td>0.0</td>\n",
       "      <td>0.0</td>\n",
       "      <td>0.0</td>\n",
       "      <td>0.0</td>\n",
       "      <td>0.0</td>\n",
       "      <td>0.0</td>\n",
       "      <td>0.0</td>\n",
       "      <td>0.0</td>\n",
       "      <td>0.0</td>\n",
       "      <td>0.0</td>\n",
       "    </tr>\n",
       "    <tr>\n",
       "      <th>...</th>\n",
       "      <td>...</td>\n",
       "      <td>...</td>\n",
       "      <td>...</td>\n",
       "      <td>...</td>\n",
       "      <td>...</td>\n",
       "      <td>...</td>\n",
       "      <td>...</td>\n",
       "      <td>...</td>\n",
       "      <td>...</td>\n",
       "      <td>...</td>\n",
       "      <td>...</td>\n",
       "      <td>...</td>\n",
       "      <td>...</td>\n",
       "      <td>...</td>\n",
       "      <td>...</td>\n",
       "      <td>...</td>\n",
       "      <td>...</td>\n",
       "      <td>...</td>\n",
       "      <td>...</td>\n",
       "      <td>...</td>\n",
       "      <td>...</td>\n",
       "    </tr>\n",
       "    <tr>\n",
       "      <th>TTTGCGCCATATGCTG-1</th>\n",
       "      <td>0.0</td>\n",
       "      <td>0.0</td>\n",
       "      <td>0.0</td>\n",
       "      <td>0.0</td>\n",
       "      <td>0.0</td>\n",
       "      <td>0.0</td>\n",
       "      <td>0.0</td>\n",
       "      <td>0.0</td>\n",
       "      <td>0.0</td>\n",
       "      <td>0.0</td>\n",
       "      <td>...</td>\n",
       "      <td>0.0</td>\n",
       "      <td>0.0</td>\n",
       "      <td>0.0</td>\n",
       "      <td>0.0</td>\n",
       "      <td>0.0</td>\n",
       "      <td>0.0</td>\n",
       "      <td>0.0</td>\n",
       "      <td>0.0</td>\n",
       "      <td>0.0</td>\n",
       "      <td>0.0</td>\n",
       "    </tr>\n",
       "    <tr>\n",
       "      <th>TTTGTCAAGGTTCCTA-1</th>\n",
       "      <td>0.0</td>\n",
       "      <td>0.0</td>\n",
       "      <td>0.0</td>\n",
       "      <td>0.0</td>\n",
       "      <td>0.0</td>\n",
       "      <td>0.0</td>\n",
       "      <td>0.0</td>\n",
       "      <td>0.0</td>\n",
       "      <td>0.0</td>\n",
       "      <td>0.0</td>\n",
       "      <td>...</td>\n",
       "      <td>0.0</td>\n",
       "      <td>0.0</td>\n",
       "      <td>0.0</td>\n",
       "      <td>0.0</td>\n",
       "      <td>0.0</td>\n",
       "      <td>0.0</td>\n",
       "      <td>0.0</td>\n",
       "      <td>0.0</td>\n",
       "      <td>0.0</td>\n",
       "      <td>0.0</td>\n",
       "    </tr>\n",
       "    <tr>\n",
       "      <th>TTTGTCACACGAGAGT-1</th>\n",
       "      <td>0.0</td>\n",
       "      <td>0.0</td>\n",
       "      <td>0.0</td>\n",
       "      <td>0.0</td>\n",
       "      <td>0.0</td>\n",
       "      <td>0.0</td>\n",
       "      <td>0.0</td>\n",
       "      <td>0.0</td>\n",
       "      <td>0.0</td>\n",
       "      <td>0.0</td>\n",
       "      <td>...</td>\n",
       "      <td>0.0</td>\n",
       "      <td>0.0</td>\n",
       "      <td>0.0</td>\n",
       "      <td>0.0</td>\n",
       "      <td>0.0</td>\n",
       "      <td>0.0</td>\n",
       "      <td>0.0</td>\n",
       "      <td>0.0</td>\n",
       "      <td>0.0</td>\n",
       "      <td>0.0</td>\n",
       "    </tr>\n",
       "    <tr>\n",
       "      <th>TTTGTCAGTCGTCTTC-1</th>\n",
       "      <td>0.0</td>\n",
       "      <td>0.0</td>\n",
       "      <td>0.0</td>\n",
       "      <td>0.0</td>\n",
       "      <td>0.0</td>\n",
       "      <td>0.0</td>\n",
       "      <td>0.0</td>\n",
       "      <td>0.0</td>\n",
       "      <td>0.0</td>\n",
       "      <td>0.0</td>\n",
       "      <td>...</td>\n",
       "      <td>0.0</td>\n",
       "      <td>0.0</td>\n",
       "      <td>0.0</td>\n",
       "      <td>0.0</td>\n",
       "      <td>0.0</td>\n",
       "      <td>0.0</td>\n",
       "      <td>0.0</td>\n",
       "      <td>0.0</td>\n",
       "      <td>0.0</td>\n",
       "      <td>0.0</td>\n",
       "    </tr>\n",
       "    <tr>\n",
       "      <th>TTTGTCATCTAAGCCA-1</th>\n",
       "      <td>0.0</td>\n",
       "      <td>0.0</td>\n",
       "      <td>0.0</td>\n",
       "      <td>0.0</td>\n",
       "      <td>0.0</td>\n",
       "      <td>0.0</td>\n",
       "      <td>0.0</td>\n",
       "      <td>0.0</td>\n",
       "      <td>0.0</td>\n",
       "      <td>0.0</td>\n",
       "      <td>...</td>\n",
       "      <td>0.0</td>\n",
       "      <td>0.0</td>\n",
       "      <td>0.0</td>\n",
       "      <td>0.0</td>\n",
       "      <td>0.0</td>\n",
       "      <td>0.0</td>\n",
       "      <td>0.0</td>\n",
       "      <td>0.0</td>\n",
       "      <td>0.0</td>\n",
       "      <td>0.0</td>\n",
       "    </tr>\n",
       "  </tbody>\n",
       "</table>\n",
       "<p>574 rows × 16571 columns</p>\n",
       "</div>"
      ],
      "text/plain": [
       "                    1      2      3      4      5      6      7      8      \\\n",
       "AAATGCCAGTACATGA-1    0.0    0.0    0.0    0.0    0.0    0.0    0.0    0.0   \n",
       "AACTGGTTCACATACG-1    0.0    0.0    0.0    0.0    0.0    0.0    0.0    0.0   \n",
       "ACCGTAAAGAATTCCC-1    0.0    0.0    0.0    0.0    0.0    0.0    0.0    0.0   \n",
       "ACGATACCACGTCAGC-1    0.0    0.0    0.0    0.0    0.0    0.0    0.0    0.0   \n",
       "ACGATGTCAGTCACTA-1    0.0    0.0    0.0    0.0    0.0    0.0    0.0    0.0   \n",
       "...                   ...    ...    ...    ...    ...    ...    ...    ...   \n",
       "TTTGCGCCATATGCTG-1    0.0    0.0    0.0    0.0    0.0    0.0    0.0    0.0   \n",
       "TTTGTCAAGGTTCCTA-1    0.0    0.0    0.0    0.0    0.0    0.0    0.0    0.0   \n",
       "TTTGTCACACGAGAGT-1    0.0    0.0    0.0    0.0    0.0    0.0    0.0    0.0   \n",
       "TTTGTCAGTCGTCTTC-1    0.0    0.0    0.0    0.0    0.0    0.0    0.0    0.0   \n",
       "TTTGTCATCTAAGCCA-1    0.0    0.0    0.0    0.0    0.0    0.0    0.0    0.0   \n",
       "\n",
       "                    9      10     ...  16562  16563  16564  16565  16566  \\\n",
       "AAATGCCAGTACATGA-1    0.0    0.0  ...    0.0    0.0    0.0    0.0    0.0   \n",
       "AACTGGTTCACATACG-1    0.0    0.0  ...    0.0    0.0    0.0    0.0    0.0   \n",
       "ACCGTAAAGAATTCCC-1    0.0    0.0  ...    0.0    0.0    0.0    0.0    0.0   \n",
       "ACGATACCACGTCAGC-1    0.0    0.0  ...    0.0    0.0    0.0    0.0    0.0   \n",
       "ACGATGTCAGTCACTA-1    0.0    0.0  ...    0.0    0.0    0.0    0.0    0.0   \n",
       "...                   ...    ...  ...    ...    ...    ...    ...    ...   \n",
       "TTTGCGCCATATGCTG-1    0.0    0.0  ...    0.0    0.0    0.0    0.0    0.0   \n",
       "TTTGTCAAGGTTCCTA-1    0.0    0.0  ...    0.0    0.0    0.0    0.0    0.0   \n",
       "TTTGTCACACGAGAGT-1    0.0    0.0  ...    0.0    0.0    0.0    0.0    0.0   \n",
       "TTTGTCAGTCGTCTTC-1    0.0    0.0  ...    0.0    0.0    0.0    0.0    0.0   \n",
       "TTTGTCATCTAAGCCA-1    0.0    0.0  ...    0.0    0.0    0.0    0.0    0.0   \n",
       "\n",
       "                    16567  16568  16569  16570  16571  \n",
       "AAATGCCAGTACATGA-1    0.0    0.0    0.0    0.0    0.0  \n",
       "AACTGGTTCACATACG-1    0.0    0.0    0.0    0.0    0.0  \n",
       "ACCGTAAAGAATTCCC-1    0.0    0.0    0.0    0.0    0.0  \n",
       "ACGATACCACGTCAGC-1    0.0    0.0    0.0    0.0    0.0  \n",
       "ACGATGTCAGTCACTA-1    0.0    0.0    0.0    0.0    0.0  \n",
       "...                   ...    ...    ...    ...    ...  \n",
       "TTTGCGCCATATGCTG-1    0.0    0.0    0.0    0.0    0.0  \n",
       "TTTGTCAAGGTTCCTA-1    0.0    0.0    0.0    0.0    0.0  \n",
       "TTTGTCACACGAGAGT-1    0.0    0.0    0.0    0.0    0.0  \n",
       "TTTGTCAGTCGTCTTC-1    0.0    0.0    0.0    0.0    0.0  \n",
       "TTTGTCATCTAAGCCA-1    0.0    0.0    0.0    0.0    0.0  \n",
       "\n",
       "[574 rows x 16571 columns]"
      ]
     },
     "execution_count": 27,
     "metadata": {},
     "output_type": "execute_result"
    }
   ],
   "source": [
    "sc_coverage = pd.DataFrame(index=CB_read_MT.keys(),columns= range(1,maxBP+1),dtype=int)\n",
    "sc_coverage.loc[:,:] = 0\n",
    "sc_coverage"
   ]
  },
  {
   "cell_type": "code",
   "execution_count": 28,
   "metadata": {
    "ExecuteTime": {
     "end_time": "2020-01-14T20:30:37.439577Z",
     "start_time": "2020-01-14T20:30:18.389403Z"
    }
   },
   "outputs": [
    {
     "name": "stderr",
     "output_type": "stream",
     "text": [
      "  0%|          | 0/17 [00:00<?, ?it/s]"
     ]
    },
    {
     "name": "stdout",
     "output_type": "stream",
     "text": [
      "Not here\n"
     ]
    },
    {
     "name": "stderr",
     "output_type": "stream",
     "text": [
      "\r",
      "  0%|          | 0/17 [00:00<?, ?it/s]"
     ]
    },
    {
     "name": "stdout",
     "output_type": "stream",
     "text": [
      "Not here\n"
     ]
    },
    {
     "name": "stderr",
     "output_type": "stream",
     "text": [
      "\r",
      "  0%|          | 0/17 [00:00<?, ?it/s]"
     ]
    },
    {
     "name": "stdout",
     "output_type": "stream",
     "text": [
      "Not here\n",
      "Not here\n",
      "Not here\n",
      "Not here\n",
      "Not here\n",
      "Not here\n",
      "Not here\n",
      "Not here\n",
      "Not here\n"
     ]
    },
    {
     "name": "stderr",
     "output_type": "stream",
     "text": [
      "\r",
      "  0%|          | 0/17 [00:00<?, ?it/s]"
     ]
    },
    {
     "name": "stdout",
     "output_type": "stream",
     "text": [
      "Not here\n",
      "Not here\n",
      "Not here\n",
      "Not here\n",
      "Not here\n",
      "Not here\n",
      "Not here\n"
     ]
    },
    {
     "name": "stderr",
     "output_type": "stream",
     "text": [
      "  0%|          | 0/17 [00:00<?, ?it/s]"
     ]
    },
    {
     "name": "stdout",
     "output_type": "stream",
     "text": [
      "Not here\n",
      "Not here\n",
      "Not here\n",
      "Not here\n",
      "Not here\n",
      "Not here\n",
      "Not here\n"
     ]
    },
    {
     "name": "stderr",
     "output_type": "stream",
     "text": [
      "\r",
      "  0%|          | 0/17 [00:00<?, ?it/s]"
     ]
    },
    {
     "name": "stdout",
     "output_type": "stream",
     "text": [
      "Not here\n",
      "Not here\n",
      "Not here\n",
      "Not here\n",
      "Not here\n",
      "Not here\n",
      "Not here\n",
      "Not here\n",
      "Not here\n"
     ]
    },
    {
     "name": "stderr",
     "output_type": "stream",
     "text": [
      "\r",
      "  0%|          | 0/17 [00:00<?, ?it/s]"
     ]
    },
    {
     "name": "stdout",
     "output_type": "stream",
     "text": [
      "Not here\n",
      "Not here\n",
      "Not here\n",
      "Not here\n",
      "Not here\n",
      "Not here\n",
      "Not here\n",
      "Not here\n",
      "Not here\n",
      "Not here\n",
      "Not here\n",
      "Not here\n",
      "Not here\n",
      "Not here\n",
      "Not here\n",
      "Not here\n",
      "Not here\n",
      "Not here\n",
      "Not here\n",
      "Not here\n",
      "Not here\n",
      "Not here\n",
      "Not here\n",
      "Not here\n",
      "Not here\n",
      "Not here\n",
      "Not here\n",
      "Not here\n",
      "Not here\n",
      "Not here\n",
      "Not here\n",
      "Not here\n",
      "Not here\n",
      "Not here\n",
      "Not here\n",
      "Not here\n"
     ]
    },
    {
     "name": "stderr",
     "output_type": "stream",
     "text": [
      "\r",
      "  0%|          | 0/17 [00:00<?, ?it/s]"
     ]
    },
    {
     "name": "stdout",
     "output_type": "stream",
     "text": [
      "Not here\n",
      "Not here\n",
      "Not here\n",
      "Not here\n",
      "Not here\n",
      "Not here\n",
      "Not here\n",
      "Not here\n",
      "Not here\n"
     ]
    },
    {
     "name": "stderr",
     "output_type": "stream",
     "text": [
      "\r",
      "  0%|          | 0/17 [00:00<?, ?it/s]"
     ]
    },
    {
     "name": "stdout",
     "output_type": "stream",
     "text": [
      "Not here\n",
      "Not here\n",
      "Not here\n",
      "Not here\n",
      "Not here\n",
      "Not here\n",
      "Not here\n",
      "Not here\n",
      "Not here\n",
      "Not here\n"
     ]
    },
    {
     "name": "stderr",
     "output_type": "stream",
     "text": [
      "\r",
      "  0%|          | 0/17 [00:00<?, ?it/s]"
     ]
    },
    {
     "name": "stdout",
     "output_type": "stream",
     "text": [
      "Not here\n",
      "Not here\n",
      "Not here\n"
     ]
    },
    {
     "name": "stderr",
     "output_type": "stream",
     "text": [
      "\r",
      "  0%|          | 0/17 [00:00<?, ?it/s]"
     ]
    },
    {
     "name": "stdout",
     "output_type": "stream",
     "text": [
      "Not here\n",
      "Not here\n",
      "Not here\n",
      "Not here\n",
      "Not here\n",
      "Not here\n",
      "Not here\n",
      "Not here\n",
      "Not here\n"
     ]
    },
    {
     "name": "stderr",
     "output_type": "stream",
     "text": [
      "\r",
      "  0%|          | 0/17 [00:00<?, ?it/s]"
     ]
    },
    {
     "name": "stdout",
     "output_type": "stream",
     "text": [
      "Not here\n",
      "Not here\n",
      "Not here\n",
      "Not here\n",
      "Not here\n",
      "Not here\n"
     ]
    },
    {
     "name": "stderr",
     "output_type": "stream",
     "text": [
      "\r",
      "  0%|          | 0/17 [00:00<?, ?it/s]"
     ]
    },
    {
     "name": "stdout",
     "output_type": "stream",
     "text": [
      "Not here\n",
      "Not here\n",
      "Not here\n",
      "Not here\n",
      "Not here\n",
      "Not here\n",
      "Not here\n",
      "Not here\n"
     ]
    },
    {
     "name": "stderr",
     "output_type": "stream",
     "text": [
      "\r",
      "  0%|          | 0/17 [00:00<?, ?it/s]"
     ]
    },
    {
     "name": "stdout",
     "output_type": "stream",
     "text": [
      "Not here\n",
      "Not here\n",
      "Not here\n"
     ]
    },
    {
     "name": "stderr",
     "output_type": "stream",
     "text": [
      "\r",
      "100%|██████████| 17/17 [00:00<00:00, 202.66it/s]"
     ]
    },
    {
     "name": "stdout",
     "output_type": "stream",
     "text": [
      "Not here\n"
     ]
    },
    {
     "name": "stderr",
     "output_type": "stream",
     "text": [
      "\n"
     ]
    },
    {
     "name": "stdout",
     "output_type": "stream",
     "text": [
      "Not here\n",
      "Not here\n",
      "Number of missing files: 17\n",
      "Not here\n",
      "Not here\n",
      "Not here\n",
      "Not here\n"
     ]
    },
    {
     "name": "stderr",
     "output_type": "stream",
     "text": [
      "\r",
      "  0%|          | 0/17 [00:00<?, ?it/s]"
     ]
    },
    {
     "name": "stdout",
     "output_type": "stream",
     "text": [
      "Not here\n",
      "Not here\n"
     ]
    },
    {
     "name": "stderr",
     "output_type": "stream",
     "text": [
      "  0%|          | 0/17 [00:00<?, ?it/s]03.92it/s]"
     ]
    },
    {
     "name": "stdout",
     "output_type": "stream",
     "text": [
      "Not here\n"
     ]
    },
    {
     "name": "stderr",
     "output_type": "stream",
     "text": [
      "\n"
     ]
    },
    {
     "name": "stdout",
     "output_type": "stream",
     "text": [
      "Not here\n",
      "Not here\n",
      "Number of missing files: 17\n",
      "Not here\n",
      "Not here\n",
      "Not here\n"
     ]
    },
    {
     "name": "stderr",
     "output_type": "stream",
     "text": [
      "\r",
      "  0%|          | 0/17 [00:00<?, ?it/s]"
     ]
    },
    {
     "name": "stdout",
     "output_type": "stream",
     "text": [
      "Not here\n",
      "Not here\n",
      "Not here\n",
      "Not here\n",
      "Not here\n"
     ]
    },
    {
     "name": "stderr",
     "output_type": "stream",
     "text": [
      "\r",
      "100%|██████████| 17/17 [00:00<00:00, 196.50it/s]"
     ]
    },
    {
     "name": "stdout",
     "output_type": "stream",
     "text": [
      "Not here\n",
      "Not here\n"
     ]
    },
    {
     "name": "stderr",
     "output_type": "stream",
     "text": [
      "\n"
     ]
    },
    {
     "name": "stdout",
     "output_type": "stream",
     "text": [
      "Not here\n"
     ]
    },
    {
     "name": "stderr",
     "output_type": "stream",
     "text": [
      "\r",
      "  0%|          | 0/17 [00:00<?, ?it/s]"
     ]
    },
    {
     "name": "stdout",
     "output_type": "stream",
     "text": [
      "Number of missing files: 17\n"
     ]
    },
    {
     "name": "stderr",
     "output_type": "stream",
     "text": [
      "\r",
      "  0%|          | 0/17 [00:00<?, ?it/s]"
     ]
    },
    {
     "name": "stdout",
     "output_type": "stream",
     "text": [
      "Not here\n",
      "Not here\n",
      "Not here\n",
      "Not here\n",
      "Not here\n",
      "Not here\n",
      "Not here\n"
     ]
    },
    {
     "name": "stderr",
     "output_type": "stream",
     "text": [
      "  0%|          | 0/17 [00:00<?, ?it/s]"
     ]
    },
    {
     "name": "stdout",
     "output_type": "stream",
     "text": [
      "Not here\n",
      "Not here\n",
      "Not here\n",
      "Not here\n"
     ]
    },
    {
     "name": "stderr",
     "output_type": "stream",
     "text": [
      "\r",
      "100%|██████████| 17/17 [00:00<00:00, 141.75it/s]"
     ]
    },
    {
     "name": "stdout",
     "output_type": "stream",
     "text": [
      "Not here\n",
      "Not here\n"
     ]
    },
    {
     "name": "stderr",
     "output_type": "stream",
     "text": [
      " 82%|████████▏ | 14/17 [00:00<00:00, 130.65it/s]"
     ]
    },
    {
     "name": "stdout",
     "output_type": "stream",
     "text": [
      "Not here\n"
     ]
    },
    {
     "name": "stderr",
     "output_type": "stream",
     "text": [
      "\r",
      "100%|██████████| 17/17 [00:00<00:00, 140.15it/s]"
     ]
    },
    {
     "name": "stdout",
     "output_type": "stream",
     "text": [
      "Not here\n"
     ]
    },
    {
     "name": "stderr",
     "output_type": "stream",
     "text": [
      "\n"
     ]
    },
    {
     "name": "stdout",
     "output_type": "stream",
     "text": [
      "Not here\n",
      "Number of missing files: 17\n",
      "Not here\n",
      "Not here\n"
     ]
    },
    {
     "name": "stderr",
     "output_type": "stream",
     "text": [
      "\r",
      "  0%|          | 0/17 [00:00<?, ?it/s]"
     ]
    },
    {
     "name": "stdout",
     "output_type": "stream",
     "text": [
      "Not here\n",
      "Not here\n"
     ]
    },
    {
     "name": "stderr",
     "output_type": "stream",
     "text": [
      "\r",
      "100%|██████████| 17/17 [00:00<00:00, 140.48it/s]"
     ]
    },
    {
     "name": "stdout",
     "output_type": "stream",
     "text": [
      "Not here\n",
      "Not here\n"
     ]
    },
    {
     "name": "stderr",
     "output_type": "stream",
     "text": [
      "100%|██████████| 17/17 [00:00<00:00, 139.10it/s]\n"
     ]
    },
    {
     "name": "stdout",
     "output_type": "stream",
     "text": [
      "Not here\n",
      "Not here\n",
      "Number of missing files: 17\n",
      "Not here\n"
     ]
    },
    {
     "name": "stderr",
     "output_type": "stream",
     "text": [
      "  0%|          | 0/13 [00:00<?, ?it/s]"
     ]
    },
    {
     "name": "stdout",
     "output_type": "stream",
     "text": [
      "Not here\n",
      "Not here\n",
      "Not here\n",
      "Not here\n",
      "Not here\n"
     ]
    },
    {
     "name": "stderr",
     "output_type": "stream",
     "text": [
      "\r",
      " 76%|███████▋  | 13/17 [00:00<00:00, 97.05it/s]"
     ]
    },
    {
     "name": "stdout",
     "output_type": "stream",
     "text": [
      "Not here\n",
      "Not here\n"
     ]
    },
    {
     "name": "stderr",
     "output_type": "stream",
     "text": [
      "\r",
      " 71%|███████   | 12/17 [00:00<00:00, 92.20it/s]"
     ]
    },
    {
     "name": "stdout",
     "output_type": "stream",
     "text": [
      "Not here\n",
      "Not here\n"
     ]
    },
    {
     "name": "stderr",
     "output_type": "stream",
     "text": [
      "\r",
      " 41%|████      | 7/17 [00:00<00:00, 65.14it/s]"
     ]
    },
    {
     "name": "stdout",
     "output_type": "stream",
     "text": [
      "Not here\n",
      "Not here\n",
      "Not here\n",
      "Not here\n",
      "Not here\n"
     ]
    },
    {
     "name": "stderr",
     "output_type": "stream",
     "text": [
      "\r",
      " 35%|███▌      | 6/17 [00:00<00:00, 57.09it/s]"
     ]
    },
    {
     "name": "stdout",
     "output_type": "stream",
     "text": [
      "Not here\n",
      "Not here\n",
      "Not here\n",
      "Not here\n"
     ]
    },
    {
     "name": "stderr",
     "output_type": "stream",
     "text": [
      "\r",
      " 35%|███▌      | 6/17 [00:00<00:00, 59.54it/s]"
     ]
    },
    {
     "name": "stdout",
     "output_type": "stream",
     "text": [
      "Not here\n"
     ]
    },
    {
     "name": "stderr",
     "output_type": "stream",
     "text": [
      "\r",
      " 53%|█████▎    | 9/17 [00:00<00:00, 76.03it/s]"
     ]
    },
    {
     "name": "stdout",
     "output_type": "stream",
     "text": [
      "Not here\n"
     ]
    },
    {
     "name": "stderr",
     "output_type": "stream",
     "text": [
      "\r",
      " 35%|███▌      | 6/17 [00:00<00:00, 56.18it/s]"
     ]
    },
    {
     "name": "stdout",
     "output_type": "stream",
     "text": [
      "Not here\n",
      "Not here\n",
      "Not here\n",
      "Not here\n",
      "Not here\n",
      "Not here\n",
      "Not here\n",
      "Not here\n",
      "Not here\n",
      "Not here\n",
      "Not here\n",
      "Not here\n"
     ]
    },
    {
     "name": "stderr",
     "output_type": "stream",
     "text": [
      "\r",
      " 29%|██▉       | 5/17 [00:00<00:00, 47.10it/s]"
     ]
    },
    {
     "name": "stdout",
     "output_type": "stream",
     "text": [
      "Not here\n",
      "Not here\n",
      "Not here\n",
      "Not here\n",
      "Not here\n",
      "Not here\n",
      "Not here\n"
     ]
    },
    {
     "name": "stderr",
     "output_type": "stream",
     "text": [
      "\r",
      "100%|██████████| 17/17 [00:00<00:00, 101.61it/s]"
     ]
    },
    {
     "name": "stdout",
     "output_type": "stream",
     "text": [
      "Not here\n",
      "Not here\n"
     ]
    },
    {
     "name": "stderr",
     "output_type": "stream",
     "text": [
      "\n",
      " 24%|██▎       | 4/17 [00:00<00:00, 37.46it/s]"
     ]
    },
    {
     "name": "stdout",
     "output_type": "stream",
     "text": [
      "Not here\n",
      "Not here\n",
      "Number of missing files: 17\n",
      "Not here\n",
      "Not here\n",
      "Not here\n",
      "Not here\n",
      "Not here\n",
      "Not here\n",
      "Not here\n",
      "Not here\n",
      "Not here\n",
      "Not here\n",
      "Not here\n",
      "Not here\n",
      "Not here\n",
      "Not here\n",
      "Not here\n",
      "Not here\n",
      "Not here\n",
      "Not here\n",
      "Not here\n"
     ]
    },
    {
     "name": "stderr",
     "output_type": "stream",
     "text": [
      "\r",
      " 24%|██▎       | 4/17 [00:00<00:00, 36.00it/s]"
     ]
    },
    {
     "name": "stdout",
     "output_type": "stream",
     "text": [
      "Not here\n"
     ]
    },
    {
     "name": "stderr",
     "output_type": "stream",
     "text": [
      "\r",
      " 24%|██▎       | 4/17 [00:00<00:00, 35.91it/s]"
     ]
    },
    {
     "name": "stdout",
     "output_type": "stream",
     "text": [
      "Not here\n",
      "Not here\n",
      "Not here\n",
      "Not here\n",
      "Not here\n",
      "Not here\n"
     ]
    },
    {
     "name": "stderr",
     "output_type": "stream",
     "text": [
      "\r",
      " 24%|██▎       | 4/17 [00:00<00:00, 36.24it/s]"
     ]
    },
    {
     "name": "stdout",
     "output_type": "stream",
     "text": [
      "Not here\n",
      "Not here\n"
     ]
    },
    {
     "name": "stderr",
     "output_type": "stream",
     "text": [
      "\r",
      " 24%|██▎       | 4/17 [00:00<00:00, 37.69it/s]"
     ]
    },
    {
     "name": "stdout",
     "output_type": "stream",
     "text": [
      "Not here\n"
     ]
    },
    {
     "name": "stderr",
     "output_type": "stream",
     "text": [
      "\r",
      " 24%|██▎       | 4/17 [00:00<00:00, 39.51it/s]"
     ]
    },
    {
     "name": "stdout",
     "output_type": "stream",
     "text": [
      "Not here\n",
      "Not here\n",
      "Not here\n",
      "Not here\n",
      "Not here\n",
      "Not here\n",
      "Not here\n",
      "Not here\n",
      "Not here\n",
      "Not here\n",
      "Not here\n",
      "Not here\n",
      "Not here\n",
      "Not here\n",
      "Not here\n",
      "Not here\n",
      "Not here\n",
      "Not here\n",
      "Not here\n",
      "Not here\n",
      "Not here\n"
     ]
    },
    {
     "name": "stderr",
     "output_type": "stream",
     "text": [
      "\r",
      " 24%|██▎       | 4/17 [00:00<00:00, 31.83it/s]"
     ]
    },
    {
     "name": "stdout",
     "output_type": "stream",
     "text": [
      "Not here\n",
      "Not here\n",
      "Not here\n"
     ]
    },
    {
     "name": "stderr",
     "output_type": "stream",
     "text": [
      "\r",
      " 24%|██▎       | 4/17 [00:00<00:00, 34.04it/s]"
     ]
    },
    {
     "name": "stdout",
     "output_type": "stream",
     "text": [
      "Not here\n"
     ]
    },
    {
     "name": "stderr",
     "output_type": "stream",
     "text": [
      "\r",
      " 31%|███       | 4/13 [00:00<00:00, 34.61it/s]"
     ]
    },
    {
     "name": "stdout",
     "output_type": "stream",
     "text": [
      "Not here\n"
     ]
    },
    {
     "name": "stderr",
     "output_type": "stream",
     "text": [
      "\r",
      " 24%|██▎       | 4/17 [00:00<00:00, 34.29it/s]"
     ]
    },
    {
     "name": "stdout",
     "output_type": "stream",
     "text": [
      "Not here\n"
     ]
    },
    {
     "name": "stderr",
     "output_type": "stream",
     "text": [
      " 29%|██▉       | 5/17 [00:00<00:00, 33.23it/s]"
     ]
    },
    {
     "name": "stdout",
     "output_type": "stream",
     "text": [
      "Not here\n"
     ]
    },
    {
     "name": "stderr",
     "output_type": "stream",
     "text": [
      "\r",
      " 29%|██▉       | 5/17 [00:00<00:00, 34.28it/s]"
     ]
    },
    {
     "name": "stdout",
     "output_type": "stream",
     "text": [
      "Not here\n"
     ]
    },
    {
     "name": "stderr",
     "output_type": "stream",
     "text": [
      "\r",
      "100%|██████████| 17/17 [00:00<00:00, 65.24it/s]"
     ]
    },
    {
     "name": "stdout",
     "output_type": "stream",
     "text": [
      "Not here\n",
      "Not here\n"
     ]
    },
    {
     "name": "stderr",
     "output_type": "stream",
     "text": [
      " 65%|██████▍   | 11/17 [00:00<00:00, 53.21it/s]"
     ]
    },
    {
     "name": "stdout",
     "output_type": "stream",
     "text": [
      "Not here\n",
      "Not here\n"
     ]
    },
    {
     "name": "stderr",
     "output_type": "stream",
     "text": [
      "\r",
      " 29%|██▉       | 5/17 [00:00<00:00, 35.61it/s]"
     ]
    },
    {
     "name": "stdout",
     "output_type": "stream",
     "text": [
      "Not here\n"
     ]
    },
    {
     "name": "stderr",
     "output_type": "stream",
     "text": [
      "\n"
     ]
    },
    {
     "name": "stdout",
     "output_type": "stream",
     "text": [
      "Not here\n"
     ]
    },
    {
     "name": "stderr",
     "output_type": "stream",
     "text": [
      "\r",
      " 59%|█████▉    | 10/17 [00:00<00:00, 49.54it/s]"
     ]
    },
    {
     "name": "stdout",
     "output_type": "stream",
     "text": [
      "Not here\n",
      "Number of missing files: 17\n",
      "Not here\n"
     ]
    },
    {
     "name": "stderr",
     "output_type": "stream",
     "text": [
      "\r",
      " 59%|█████▉    | 10/17 [00:00<00:00, 50.99it/s]"
     ]
    },
    {
     "name": "stdout",
     "output_type": "stream",
     "text": [
      "Not here\n"
     ]
    },
    {
     "name": "stderr",
     "output_type": "stream",
     "text": [
      "\r",
      " 76%|███████▋  | 13/17 [00:00<00:00, 58.66it/s]"
     ]
    },
    {
     "name": "stdout",
     "output_type": "stream",
     "text": [
      "Not here\n",
      "Not here\n",
      "Not here\n"
     ]
    },
    {
     "name": "stderr",
     "output_type": "stream",
     "text": [
      "\r",
      " 59%|█████▉    | 10/17 [00:00<00:00, 49.19it/s]"
     ]
    },
    {
     "name": "stdout",
     "output_type": "stream",
     "text": [
      "Not here\n",
      "Not here\n",
      "Not here\n",
      "Not here\n",
      "Not here\n",
      "Not here\n",
      "Not here\n",
      "Not here\n",
      "Not here\n"
     ]
    },
    {
     "name": "stderr",
     "output_type": "stream",
     "text": [
      "\r",
      " 53%|█████▎    | 9/17 [00:00<00:00, 44.30it/s]"
     ]
    },
    {
     "name": "stdout",
     "output_type": "stream",
     "text": [
      "Not here\n",
      "Not here\n",
      "Not here\n",
      "Not here\n",
      "Not here\n",
      "Not here\n",
      "Not here\n",
      "Not here\n",
      "Not here\n",
      "Not here\n",
      "Not here\n",
      "Not here\n",
      "Not here\n",
      "Not here\n",
      "Not here\n",
      "Not here\n",
      "Not here\n",
      "Not here\n",
      "Not here\n",
      "Not here\n",
      "Not here\n",
      "Not here\n",
      "Not here\n",
      "Not here\n"
     ]
    },
    {
     "name": "stderr",
     "output_type": "stream",
     "text": [
      "\r",
      " 53%|█████▎    | 9/17 [00:00<00:00, 40.00it/s]"
     ]
    },
    {
     "name": "stdout",
     "output_type": "stream",
     "text": [
      "Not here\n",
      "Not here\n",
      "Not here\n",
      "Not here\n"
     ]
    },
    {
     "name": "stderr",
     "output_type": "stream",
     "text": [
      "\r",
      " 47%|████▋     | 8/17 [00:00<00:00, 34.81it/s]"
     ]
    },
    {
     "name": "stdout",
     "output_type": "stream",
     "text": [
      "Not here\n",
      "Not here\n"
     ]
    },
    {
     "name": "stderr",
     "output_type": "stream",
     "text": [
      "\r",
      " 47%|████▋     | 8/17 [00:00<00:00, 35.71it/s]"
     ]
    },
    {
     "name": "stdout",
     "output_type": "stream",
     "text": [
      "Not here\n"
     ]
    },
    {
     "name": "stderr",
     "output_type": "stream",
     "text": [
      "\r",
      " 47%|████▋     | 8/17 [00:00<00:00, 36.85it/s]"
     ]
    },
    {
     "name": "stdout",
     "output_type": "stream",
     "text": [
      "Not here\n",
      "Not here\n",
      "Not here\n",
      "Not here\n",
      "Not here\n",
      "Not here\n",
      "Not here\n",
      "Not here\n",
      "Not here\n"
     ]
    },
    {
     "name": "stderr",
     "output_type": "stream",
     "text": [
      "\r",
      " 53%|█████▎    | 9/17 [00:00<00:00, 36.06it/s]"
     ]
    },
    {
     "name": "stdout",
     "output_type": "stream",
     "text": [
      "Not here\n",
      "Not here\n",
      "Not here\n",
      "Not here\n",
      "Not here\n",
      "Not here\n",
      "Not here\n",
      "Not here\n",
      "Not here\n",
      "Not here\n",
      "Not here\n",
      "Not here\n",
      "Not here\n",
      "Not here\n",
      "Not here\n",
      "Not here\n",
      "Not here\n",
      "Not here\n",
      "Not here\n",
      "Not here\n",
      "Not here\n",
      "Not here\n",
      "Not here\n",
      "Not here\n",
      "Not here\n",
      "Not here\n"
     ]
    },
    {
     "name": "stderr",
     "output_type": "stream",
     "text": [
      "\r",
      " 53%|█████▎    | 9/17 [00:00<00:00, 30.61it/s]"
     ]
    },
    {
     "name": "stdout",
     "output_type": "stream",
     "text": [
      "Not here\n",
      "Not here\n"
     ]
    },
    {
     "name": "stderr",
     "output_type": "stream",
     "text": [
      "\r",
      " 53%|█████▎    | 9/17 [00:00<00:00, 31.99it/s]"
     ]
    },
    {
     "name": "stdout",
     "output_type": "stream",
     "text": [
      "Not here\n"
     ]
    },
    {
     "name": "stderr",
     "output_type": "stream",
     "text": [
      "\r",
      " 69%|██████▉   | 9/13 [00:00<00:00, 32.35it/s]"
     ]
    },
    {
     "name": "stdout",
     "output_type": "stream",
     "text": [
      "Not here\n"
     ]
    },
    {
     "name": "stderr",
     "output_type": "stream",
     "text": [
      "\r",
      " 53%|█████▎    | 9/17 [00:00<00:00, 32.10it/s]"
     ]
    },
    {
     "name": "stdout",
     "output_type": "stream",
     "text": [
      "Not here\n"
     ]
    },
    {
     "name": "stderr",
     "output_type": "stream",
     "text": [
      " 59%|█████▉    | 10/17 [00:00<00:00, 31.46it/s]"
     ]
    },
    {
     "name": "stdout",
     "output_type": "stream",
     "text": [
      "Not here\n",
      "Not here\n",
      "Not here\n"
     ]
    },
    {
     "name": "stderr",
     "output_type": "stream",
     "text": [
      "\r",
      " 59%|█████▉    | 10/17 [00:00<00:00, 32.08it/s]"
     ]
    },
    {
     "name": "stdout",
     "output_type": "stream",
     "text": [
      "Not here\n"
     ]
    },
    {
     "name": "stderr",
     "output_type": "stream",
     "text": [
      "\r",
      " 76%|███████▋  | 13/17 [00:00<00:00, 35.35it/s]"
     ]
    },
    {
     "name": "stdout",
     "output_type": "stream",
     "text": [
      "Not here\n"
     ]
    },
    {
     "name": "stderr",
     "output_type": "stream",
     "text": [
      "\r",
      " 94%|█████████▍| 16/17 [00:00<00:00, 41.96it/s]"
     ]
    },
    {
     "name": "stdout",
     "output_type": "stream",
     "text": [
      "Not here\n"
     ]
    },
    {
     "name": "stderr",
     "output_type": "stream",
     "text": [
      " 88%|████████▊ | 15/17 [00:00<00:00, 40.39it/s]"
     ]
    },
    {
     "name": "stdout",
     "output_type": "stream",
     "text": [
      "Not here\n",
      "Not here\n"
     ]
    },
    {
     "name": "stderr",
     "output_type": "stream",
     "text": [
      "\r",
      " 71%|███████   | 12/17 [00:00<00:00, 30.39it/s]"
     ]
    },
    {
     "name": "stdout",
     "output_type": "stream",
     "text": [
      "Not here\n"
     ]
    },
    {
     "name": "stderr",
     "output_type": "stream",
     "text": [
      " 65%|██████▍   | 11/17 [00:00<00:00, 31.98it/s]"
     ]
    },
    {
     "name": "stdout",
     "output_type": "stream",
     "text": [
      "Not here\n"
     ]
    },
    {
     "name": "stderr",
     "output_type": "stream",
     "text": [
      "\r",
      " 88%|████████▊ | 15/17 [00:00<00:00, 40.32it/s]"
     ]
    },
    {
     "name": "stdout",
     "output_type": "stream",
     "text": [
      "Not here\n"
     ]
    },
    {
     "name": "stderr",
     "output_type": "stream",
     "text": [
      "\r",
      " 65%|██████▍   | 11/17 [00:00<00:00, 32.49it/s]"
     ]
    },
    {
     "name": "stdout",
     "output_type": "stream",
     "text": [
      "Not here\n",
      "Not here\n",
      "Not here\n",
      "Not here\n",
      "Not here\n",
      "Not here\n",
      "Not here\n",
      "Not here\n",
      "Not here\n"
     ]
    },
    {
     "name": "stderr",
     "output_type": "stream",
     "text": [
      "\r",
      "100%|██████████| 17/17 [00:00<00:00, 42.24it/s]"
     ]
    },
    {
     "name": "stdout",
     "output_type": "stream",
     "text": [
      "Not here\n",
      "Not here\n"
     ]
    },
    {
     "name": "stderr",
     "output_type": "stream",
     "text": [
      "\n"
     ]
    },
    {
     "name": "stdout",
     "output_type": "stream",
     "text": [
      "Not here\n",
      "Number of missing files: 17\n",
      "Not here\n",
      "Not here\n",
      "Not here\n",
      "Not here\n",
      "Not here\n",
      "Not here\n",
      "Not here\n",
      "Not here\n",
      "Not here\n",
      "Not here\n",
      "Not here\n",
      "Not here\n",
      "Not here\n",
      "Not here\n",
      "Not here\n",
      "Not here\n"
     ]
    },
    {
     "name": "stderr",
     "output_type": "stream",
     "text": [
      "\r",
      "100%|██████████| 17/17 [00:00<00:00, 41.63it/s]"
     ]
    },
    {
     "name": "stdout",
     "output_type": "stream",
     "text": [
      "Not here\n"
     ]
    },
    {
     "name": "stderr",
     "output_type": "stream",
     "text": [
      "\n"
     ]
    },
    {
     "name": "stdout",
     "output_type": "stream",
     "text": [
      "Not here\n",
      "Number of missing files: 17\n",
      "Not here\n",
      "Not here\n",
      "Not here\n"
     ]
    },
    {
     "name": "stderr",
     "output_type": "stream",
     "text": [
      "\r",
      "100%|██████████| 17/17 [00:00<00:00, 41.52it/s]"
     ]
    },
    {
     "name": "stdout",
     "output_type": "stream",
     "text": [
      "Not here\n"
     ]
    },
    {
     "name": "stderr",
     "output_type": "stream",
     "text": [
      "\n"
     ]
    },
    {
     "name": "stdout",
     "output_type": "stream",
     "text": [
      "Not here\n",
      "Not here\n",
      "Number of missing files: 17\n",
      "Not here\n",
      "Not here\n",
      "Not here\n",
      "Not here\n",
      "Not here\n"
     ]
    },
    {
     "name": "stderr",
     "output_type": "stream",
     "text": [
      "\r",
      "100%|██████████| 17/17 [00:00<00:00, 41.85it/s]"
     ]
    },
    {
     "name": "stdout",
     "output_type": "stream",
     "text": [
      "Not here\n"
     ]
    },
    {
     "name": "stderr",
     "output_type": "stream",
     "text": [
      "\n"
     ]
    },
    {
     "name": "stdout",
     "output_type": "stream",
     "text": [
      "Not here\n",
      "Number of missing files: 17\n",
      "Not here\n",
      "Not here\n",
      "Not here\n",
      "Not here\n",
      "Not here\n",
      "Not here\n"
     ]
    },
    {
     "name": "stderr",
     "output_type": "stream",
     "text": [
      "\r",
      "100%|██████████| 13/13 [00:00<00:00, 39.10it/s]"
     ]
    },
    {
     "name": "stdout",
     "output_type": "stream",
     "text": [
      "Not here\n",
      "Not here\n"
     ]
    },
    {
     "name": "stderr",
     "output_type": "stream",
     "text": [
      "\n"
     ]
    },
    {
     "name": "stdout",
     "output_type": "stream",
     "text": [
      "Not here\n",
      "Number of missing files: 13\n",
      "Not here\n",
      "Not here\n",
      "Not here\n",
      "Not here\n",
      "Not here\n",
      "Not here\n",
      "Not here\n",
      "Not here\n",
      "Not here\n",
      "Not here\n",
      "Not here\n",
      "Not here\n",
      "Not here\n",
      "Not here\n",
      "Not here\n"
     ]
    },
    {
     "name": "stderr",
     "output_type": "stream",
     "text": [
      "\r",
      "100%|██████████| 17/17 [00:00<00:00, 41.54it/s]"
     ]
    },
    {
     "name": "stdout",
     "output_type": "stream",
     "text": [
      "Not here\n"
     ]
    },
    {
     "name": "stderr",
     "output_type": "stream",
     "text": [
      "\n"
     ]
    },
    {
     "name": "stdout",
     "output_type": "stream",
     "text": [
      "Not here\n"
     ]
    },
    {
     "name": "stderr",
     "output_type": "stream",
     "text": [
      "\r",
      "100%|██████████| 17/17 [00:00<00:00, 42.81it/s]"
     ]
    },
    {
     "name": "stdout",
     "output_type": "stream",
     "text": [
      "Not here\n",
      "Number of missing files: 17\n"
     ]
    },
    {
     "name": "stderr",
     "output_type": "stream",
     "text": [
      "\n"
     ]
    },
    {
     "name": "stdout",
     "output_type": "stream",
     "text": [
      "Not here\n",
      "Not here\n",
      "Number of missing files: 17\n",
      "Not here\n",
      "Not here\n",
      "Not here\n",
      "Not here\n",
      "Not here\n"
     ]
    },
    {
     "name": "stderr",
     "output_type": "stream",
     "text": [
      "\r",
      "100%|██████████| 17/17 [00:00<00:00, 41.83it/s]"
     ]
    },
    {
     "name": "stdout",
     "output_type": "stream",
     "text": [
      "Not here\n"
     ]
    },
    {
     "name": "stderr",
     "output_type": "stream",
     "text": [
      "\n",
      "100%|██████████| 17/17 [00:00<00:00, 42.86it/s]"
     ]
    },
    {
     "name": "stdout",
     "output_type": "stream",
     "text": [
      "Not here\n",
      "Not here\n"
     ]
    },
    {
     "name": "stderr",
     "output_type": "stream",
     "text": [
      "\n"
     ]
    },
    {
     "name": "stdout",
     "output_type": "stream",
     "text": [
      "Number of missing files: 17\n"
     ]
    },
    {
     "name": "stderr",
     "output_type": "stream",
     "text": [
      "\r",
      "100%|██████████| 17/17 [00:00<00:00, 43.32it/s]"
     ]
    },
    {
     "name": "stdout",
     "output_type": "stream",
     "text": [
      "Not here\n",
      "Number of missing files: 17\n"
     ]
    },
    {
     "name": "stderr",
     "output_type": "stream",
     "text": [
      "\n"
     ]
    },
    {
     "name": "stdout",
     "output_type": "stream",
     "text": [
      "Not here\n",
      "Not here\n"
     ]
    },
    {
     "name": "stderr",
     "output_type": "stream",
     "text": [
      "\r",
      "100%|██████████| 17/17 [00:00<00:00, 43.60it/s]"
     ]
    },
    {
     "name": "stdout",
     "output_type": "stream",
     "text": [
      "Number of missing files: 17\n"
     ]
    },
    {
     "name": "stderr",
     "output_type": "stream",
     "text": [
      "100%|██████████| 17/17 [00:00<00:00, 44.11it/s]\n"
     ]
    },
    {
     "name": "stdout",
     "output_type": "stream",
     "text": [
      "Not here\n"
     ]
    },
    {
     "name": "stderr",
     "output_type": "stream",
     "text": [
      "100%|██████████| 17/17 [00:00<00:00, 44.65it/s]\n"
     ]
    },
    {
     "name": "stdout",
     "output_type": "stream",
     "text": [
      "Not here\n",
      "Number of missing files: 17\n",
      "Not here\n",
      "Number of missing files: 17\n"
     ]
    },
    {
     "name": "stderr",
     "output_type": "stream",
     "text": [
      "\n",
      "100%|██████████| 17/17 [00:00<00:00, 47.74it/s]\n"
     ]
    },
    {
     "name": "stdout",
     "output_type": "stream",
     "text": [
      "Number of missing files: 17\n"
     ]
    },
    {
     "name": "stderr",
     "output_type": "stream",
     "text": [
      "\n",
      "\n"
     ]
    },
    {
     "name": "stdout",
     "output_type": "stream",
     "text": [
      "Number of missing files: 17\n",
      "Number of missing files: 17\n",
      "Number of missing files: 17\n"
     ]
    },
    {
     "name": "stderr",
     "output_type": "stream",
     "text": [
      "\r",
      " 18%|█▊        | 3/17 [00:02<00:12,  1.15it/s]"
     ]
    },
    {
     "name": "stdout",
     "output_type": "stream",
     "text": [
      "Not here\n",
      "Not here\n",
      "Not here\n",
      "Not here\n",
      "Not here\n",
      "Not here\n",
      "Not here\n",
      "Not here\n",
      "Not here\n",
      "Not here\n",
      "Not here\n",
      "Not here\n",
      "Not here\n",
      "Not here\n"
     ]
    },
    {
     "name": "stderr",
     "output_type": "stream",
     "text": [
      "100%|██████████| 17/17 [00:02<00:00,  6.44it/s]\n"
     ]
    },
    {
     "name": "stdout",
     "output_type": "stream",
     "text": [
      "Number of missing files: 16\n"
     ]
    },
    {
     "name": "stderr",
     "output_type": "stream",
     "text": [
      "\r",
      " 12%|█▏        | 2/17 [00:03<00:23,  1.54s/it]"
     ]
    },
    {
     "name": "stdout",
     "output_type": "stream",
     "text": [
      "Not here\n",
      "Not here\n",
      "Not here\n",
      "Not here\n",
      "Not here\n",
      "Not here\n",
      "Not here\n",
      "Not here\n",
      "Not here\n",
      "Not here\n",
      "Not here\n",
      "Not here\n",
      "Not here\n",
      "Not here\n",
      "Not here\n"
     ]
    },
    {
     "name": "stderr",
     "output_type": "stream",
     "text": [
      "100%|██████████| 17/17 [00:03<00:00,  5.46it/s]\n"
     ]
    },
    {
     "name": "stdout",
     "output_type": "stream",
     "text": [
      "Number of missing files: 16\n"
     ]
    },
    {
     "name": "stderr",
     "output_type": "stream",
     "text": [
      "\r",
      " 24%|██▎       | 4/17 [00:03<00:09,  1.30it/s]"
     ]
    },
    {
     "name": "stdout",
     "output_type": "stream",
     "text": [
      "Not here\n",
      "Not here\n",
      "Not here\n",
      "Not here\n",
      "Not here\n",
      "Not here\n",
      "Not here\n",
      "Not here\n",
      "Not here\n",
      "Not here\n",
      "Not here\n",
      "Not here\n",
      "Not here\n"
     ]
    },
    {
     "name": "stderr",
     "output_type": "stream",
     "text": [
      "100%|██████████| 17/17 [00:03<00:00,  5.51it/s]\n"
     ]
    },
    {
     "name": "stdout",
     "output_type": "stream",
     "text": [
      "Number of missing files: 16\n"
     ]
    },
    {
     "name": "stderr",
     "output_type": "stream",
     "text": [
      "\r",
      " 88%|████████▊ | 15/17 [00:03<00:00,  3.14it/s]"
     ]
    },
    {
     "name": "stdout",
     "output_type": "stream",
     "text": [
      "Not here\n",
      "Not here\n"
     ]
    },
    {
     "name": "stderr",
     "output_type": "stream",
     "text": [
      "100%|██████████| 17/17 [00:03<00:00,  5.23it/s]\n"
     ]
    },
    {
     "name": "stdout",
     "output_type": "stream",
     "text": [
      "Number of missing files: 16\n"
     ]
    },
    {
     "name": "stderr",
     "output_type": "stream",
     "text": [
      "\r",
      " 12%|█▏        | 2/17 [00:03<00:27,  1.81s/it]"
     ]
    },
    {
     "name": "stdout",
     "output_type": "stream",
     "text": [
      "Not here\n",
      "Not here\n",
      "Not here\n",
      "Not here\n",
      "Not here\n",
      "Not here\n",
      "Not here\n",
      "Not here\n"
     ]
    },
    {
     "name": "stderr",
     "output_type": "stream",
     "text": [
      "\r",
      " 59%|█████▉    | 10/17 [00:04<00:01,  4.20it/s]"
     ]
    },
    {
     "name": "stdout",
     "output_type": "stream",
     "text": [
      "Not here\n",
      "Not here\n",
      "Not here\n",
      "Not here\n",
      "Not here\n",
      "Not here\n",
      "Not here\n"
     ]
    },
    {
     "name": "stderr",
     "output_type": "stream",
     "text": [
      "100%|██████████| 17/17 [00:04<00:00,  3.77it/s]\n"
     ]
    },
    {
     "name": "stdout",
     "output_type": "stream",
     "text": [
      "Number of missing files: 16\n"
     ]
    },
    {
     "name": "stderr",
     "output_type": "stream",
     "text": [
      "\r",
      " 12%|█▏        | 2/17 [00:05<00:41,  2.80s/it]"
     ]
    },
    {
     "name": "stdout",
     "output_type": "stream",
     "text": [
      "Not here\n",
      "Not here\n",
      "Not here\n",
      "Not here\n",
      "Not here\n",
      "Not here\n",
      "Not here\n",
      "Not here\n",
      "Not here\n"
     ]
    },
    {
     "name": "stderr",
     "output_type": "stream",
     "text": [
      "\r",
      " 65%|██████▍   | 11/17 [00:05<00:08,  1.35s/it]"
     ]
    },
    {
     "name": "stdout",
     "output_type": "stream",
     "text": [
      "Not here\n",
      "Not here\n",
      "Not here\n",
      "Not here\n",
      "Not here\n",
      "Not here\n"
     ]
    },
    {
     "name": "stderr",
     "output_type": "stream",
     "text": [
      "100%|██████████| 17/17 [00:05<00:00,  2.87it/s]\n"
     ]
    },
    {
     "name": "stdout",
     "output_type": "stream",
     "text": [
      "Number of missing files: 15\n"
     ]
    },
    {
     "name": "stderr",
     "output_type": "stream",
     "text": [
      "\r",
      " 24%|██▎       | 4/17 [00:06<00:19,  1.52s/it]"
     ]
    },
    {
     "name": "stdout",
     "output_type": "stream",
     "text": [
      "Not here\n",
      "Not here\n",
      "Not here\n",
      "Not here\n",
      "Not here\n",
      "Not here\n",
      "Not here\n",
      "Not here\n",
      "Not here\n",
      "Not here\n"
     ]
    },
    {
     "name": "stderr",
     "output_type": "stream",
     "text": [
      "100%|██████████| 17/17 [00:06<00:00,  2.66it/s]\n"
     ]
    },
    {
     "name": "stdout",
     "output_type": "stream",
     "text": [
      "Number of missing files: 16\n"
     ]
    },
    {
     "name": "stderr",
     "output_type": "stream",
     "text": [
      "\r",
      " 82%|████████▏ | 14/17 [00:06<00:01,  1.93it/s]"
     ]
    },
    {
     "name": "stdout",
     "output_type": "stream",
     "text": [
      "Not here\n",
      "Not here\n",
      "Not here\n"
     ]
    },
    {
     "name": "stderr",
     "output_type": "stream",
     "text": [
      "100%|██████████| 17/17 [00:06<00:00,  2.45it/s]\n"
     ]
    },
    {
     "name": "stdout",
     "output_type": "stream",
     "text": [
      "Number of missing files: 16\n"
     ]
    },
    {
     "name": "stderr",
     "output_type": "stream",
     "text": [
      "\r",
      " 41%|████      | 7/17 [00:07<00:11,  1.11s/it]"
     ]
    },
    {
     "name": "stdout",
     "output_type": "stream",
     "text": [
      "Not here\n",
      "Not here\n",
      "Not here\n",
      "Not here\n",
      "Not here\n",
      "Not here\n",
      "Not here\n",
      "Not here\n",
      "Not here\n",
      "Not here\n"
     ]
    },
    {
     "name": "stderr",
     "output_type": "stream",
     "text": [
      "100%|██████████| 17/17 [00:07<00:00,  2.30it/s]\n"
     ]
    },
    {
     "name": "stdout",
     "output_type": "stream",
     "text": [
      "Number of missing files: 16\n"
     ]
    },
    {
     "name": "stderr",
     "output_type": "stream",
     "text": [
      "\r",
      " 88%|████████▊ | 15/17 [00:08<00:02,  1.13s/it]"
     ]
    },
    {
     "name": "stdout",
     "output_type": "stream",
     "text": [
      "Not here\n",
      "Not here\n"
     ]
    },
    {
     "name": "stderr",
     "output_type": "stream",
     "text": [
      "100%|██████████| 17/17 [00:08<00:00,  2.06it/s]\n"
     ]
    },
    {
     "name": "stdout",
     "output_type": "stream",
     "text": [
      "Number of missing files: 15\n"
     ]
    },
    {
     "name": "stderr",
     "output_type": "stream",
     "text": [
      "\r",
      " 71%|███████   | 12/17 [00:08<00:10,  2.05s/it]"
     ]
    },
    {
     "name": "stdout",
     "output_type": "stream",
     "text": [
      "Not here\n",
      "Not here\n",
      "Not here\n",
      "Not here\n",
      "Not here\n"
     ]
    },
    {
     "name": "stderr",
     "output_type": "stream",
     "text": [
      "100%|██████████| 17/17 [00:08<00:00,  1.93it/s]\n"
     ]
    },
    {
     "name": "stdout",
     "output_type": "stream",
     "text": [
      "Number of missing files: 15\n"
     ]
    },
    {
     "data": {
      "text/html": [
       "<div>\n",
       "<style scoped>\n",
       "    .dataframe tbody tr th:only-of-type {\n",
       "        vertical-align: middle;\n",
       "    }\n",
       "\n",
       "    .dataframe tbody tr th {\n",
       "        vertical-align: top;\n",
       "    }\n",
       "\n",
       "    .dataframe thead th {\n",
       "        text-align: right;\n",
       "    }\n",
       "</style>\n",
       "<table border=\"1\" class=\"dataframe\">\n",
       "  <thead>\n",
       "    <tr style=\"text-align: right;\">\n",
       "      <th></th>\n",
       "      <th>1</th>\n",
       "      <th>2</th>\n",
       "      <th>3</th>\n",
       "      <th>4</th>\n",
       "      <th>5</th>\n",
       "      <th>6</th>\n",
       "      <th>7</th>\n",
       "      <th>8</th>\n",
       "      <th>9</th>\n",
       "      <th>10</th>\n",
       "      <th>...</th>\n",
       "      <th>16562</th>\n",
       "      <th>16563</th>\n",
       "      <th>16564</th>\n",
       "      <th>16565</th>\n",
       "      <th>16566</th>\n",
       "      <th>16567</th>\n",
       "      <th>16568</th>\n",
       "      <th>16569</th>\n",
       "      <th>16570</th>\n",
       "      <th>16571</th>\n",
       "    </tr>\n",
       "  </thead>\n",
       "  <tbody>\n",
       "    <tr>\n",
       "      <th>AAATGCCAGTACATGA-1</th>\n",
       "      <td>0.0</td>\n",
       "      <td>0.0</td>\n",
       "      <td>0.0</td>\n",
       "      <td>0.0</td>\n",
       "      <td>0.0</td>\n",
       "      <td>0.0</td>\n",
       "      <td>0.0</td>\n",
       "      <td>0.0</td>\n",
       "      <td>0.0</td>\n",
       "      <td>0.0</td>\n",
       "      <td>...</td>\n",
       "      <td>0.0</td>\n",
       "      <td>0.0</td>\n",
       "      <td>0.0</td>\n",
       "      <td>0.0</td>\n",
       "      <td>0.0</td>\n",
       "      <td>0.0</td>\n",
       "      <td>0.0</td>\n",
       "      <td>0.0</td>\n",
       "      <td>0.0</td>\n",
       "      <td>0.0</td>\n",
       "    </tr>\n",
       "    <tr>\n",
       "      <th>AACTGGTTCACATACG-1</th>\n",
       "      <td>0.0</td>\n",
       "      <td>0.0</td>\n",
       "      <td>0.0</td>\n",
       "      <td>0.0</td>\n",
       "      <td>0.0</td>\n",
       "      <td>0.0</td>\n",
       "      <td>0.0</td>\n",
       "      <td>0.0</td>\n",
       "      <td>0.0</td>\n",
       "      <td>0.0</td>\n",
       "      <td>...</td>\n",
       "      <td>0.0</td>\n",
       "      <td>0.0</td>\n",
       "      <td>0.0</td>\n",
       "      <td>0.0</td>\n",
       "      <td>0.0</td>\n",
       "      <td>0.0</td>\n",
       "      <td>0.0</td>\n",
       "      <td>0.0</td>\n",
       "      <td>0.0</td>\n",
       "      <td>0.0</td>\n",
       "    </tr>\n",
       "    <tr>\n",
       "      <th>ACCGTAAAGAATTCCC-1</th>\n",
       "      <td>0.0</td>\n",
       "      <td>0.0</td>\n",
       "      <td>0.0</td>\n",
       "      <td>0.0</td>\n",
       "      <td>0.0</td>\n",
       "      <td>0.0</td>\n",
       "      <td>0.0</td>\n",
       "      <td>0.0</td>\n",
       "      <td>0.0</td>\n",
       "      <td>0.0</td>\n",
       "      <td>...</td>\n",
       "      <td>0.0</td>\n",
       "      <td>0.0</td>\n",
       "      <td>0.0</td>\n",
       "      <td>0.0</td>\n",
       "      <td>0.0</td>\n",
       "      <td>0.0</td>\n",
       "      <td>0.0</td>\n",
       "      <td>0.0</td>\n",
       "      <td>0.0</td>\n",
       "      <td>0.0</td>\n",
       "    </tr>\n",
       "    <tr>\n",
       "      <th>ACGATACCACGTCAGC-1</th>\n",
       "      <td>0.0</td>\n",
       "      <td>0.0</td>\n",
       "      <td>0.0</td>\n",
       "      <td>0.0</td>\n",
       "      <td>0.0</td>\n",
       "      <td>0.0</td>\n",
       "      <td>0.0</td>\n",
       "      <td>0.0</td>\n",
       "      <td>0.0</td>\n",
       "      <td>0.0</td>\n",
       "      <td>...</td>\n",
       "      <td>0.0</td>\n",
       "      <td>0.0</td>\n",
       "      <td>0.0</td>\n",
       "      <td>0.0</td>\n",
       "      <td>0.0</td>\n",
       "      <td>0.0</td>\n",
       "      <td>0.0</td>\n",
       "      <td>0.0</td>\n",
       "      <td>0.0</td>\n",
       "      <td>0.0</td>\n",
       "    </tr>\n",
       "    <tr>\n",
       "      <th>ACGATGTCAGTCACTA-1</th>\n",
       "      <td>0.0</td>\n",
       "      <td>0.0</td>\n",
       "      <td>0.0</td>\n",
       "      <td>0.0</td>\n",
       "      <td>0.0</td>\n",
       "      <td>0.0</td>\n",
       "      <td>0.0</td>\n",
       "      <td>0.0</td>\n",
       "      <td>0.0</td>\n",
       "      <td>0.0</td>\n",
       "      <td>...</td>\n",
       "      <td>0.0</td>\n",
       "      <td>0.0</td>\n",
       "      <td>0.0</td>\n",
       "      <td>0.0</td>\n",
       "      <td>0.0</td>\n",
       "      <td>0.0</td>\n",
       "      <td>0.0</td>\n",
       "      <td>0.0</td>\n",
       "      <td>0.0</td>\n",
       "      <td>0.0</td>\n",
       "    </tr>\n",
       "    <tr>\n",
       "      <th>...</th>\n",
       "      <td>...</td>\n",
       "      <td>...</td>\n",
       "      <td>...</td>\n",
       "      <td>...</td>\n",
       "      <td>...</td>\n",
       "      <td>...</td>\n",
       "      <td>...</td>\n",
       "      <td>...</td>\n",
       "      <td>...</td>\n",
       "      <td>...</td>\n",
       "      <td>...</td>\n",
       "      <td>...</td>\n",
       "      <td>...</td>\n",
       "      <td>...</td>\n",
       "      <td>...</td>\n",
       "      <td>...</td>\n",
       "      <td>...</td>\n",
       "      <td>...</td>\n",
       "      <td>...</td>\n",
       "      <td>...</td>\n",
       "      <td>...</td>\n",
       "    </tr>\n",
       "    <tr>\n",
       "      <th>TTTGCGCCATATGCTG-1</th>\n",
       "      <td>0.0</td>\n",
       "      <td>0.0</td>\n",
       "      <td>0.0</td>\n",
       "      <td>0.0</td>\n",
       "      <td>0.0</td>\n",
       "      <td>0.0</td>\n",
       "      <td>0.0</td>\n",
       "      <td>0.0</td>\n",
       "      <td>0.0</td>\n",
       "      <td>0.0</td>\n",
       "      <td>...</td>\n",
       "      <td>0.0</td>\n",
       "      <td>0.0</td>\n",
       "      <td>0.0</td>\n",
       "      <td>0.0</td>\n",
       "      <td>0.0</td>\n",
       "      <td>0.0</td>\n",
       "      <td>0.0</td>\n",
       "      <td>0.0</td>\n",
       "      <td>0.0</td>\n",
       "      <td>0.0</td>\n",
       "    </tr>\n",
       "    <tr>\n",
       "      <th>TTTGTCAAGGTTCCTA-1</th>\n",
       "      <td>0.0</td>\n",
       "      <td>0.0</td>\n",
       "      <td>0.0</td>\n",
       "      <td>0.0</td>\n",
       "      <td>0.0</td>\n",
       "      <td>0.0</td>\n",
       "      <td>0.0</td>\n",
       "      <td>0.0</td>\n",
       "      <td>0.0</td>\n",
       "      <td>0.0</td>\n",
       "      <td>...</td>\n",
       "      <td>0.0</td>\n",
       "      <td>0.0</td>\n",
       "      <td>0.0</td>\n",
       "      <td>0.0</td>\n",
       "      <td>0.0</td>\n",
       "      <td>0.0</td>\n",
       "      <td>0.0</td>\n",
       "      <td>0.0</td>\n",
       "      <td>0.0</td>\n",
       "      <td>0.0</td>\n",
       "    </tr>\n",
       "    <tr>\n",
       "      <th>TTTGTCACACGAGAGT-1</th>\n",
       "      <td>0.0</td>\n",
       "      <td>0.0</td>\n",
       "      <td>0.0</td>\n",
       "      <td>0.0</td>\n",
       "      <td>0.0</td>\n",
       "      <td>0.0</td>\n",
       "      <td>0.0</td>\n",
       "      <td>0.0</td>\n",
       "      <td>0.0</td>\n",
       "      <td>0.0</td>\n",
       "      <td>...</td>\n",
       "      <td>0.0</td>\n",
       "      <td>0.0</td>\n",
       "      <td>0.0</td>\n",
       "      <td>0.0</td>\n",
       "      <td>0.0</td>\n",
       "      <td>0.0</td>\n",
       "      <td>0.0</td>\n",
       "      <td>0.0</td>\n",
       "      <td>0.0</td>\n",
       "      <td>0.0</td>\n",
       "    </tr>\n",
       "    <tr>\n",
       "      <th>TTTGTCAGTCGTCTTC-1</th>\n",
       "      <td>0.0</td>\n",
       "      <td>0.0</td>\n",
       "      <td>0.0</td>\n",
       "      <td>0.0</td>\n",
       "      <td>0.0</td>\n",
       "      <td>0.0</td>\n",
       "      <td>0.0</td>\n",
       "      <td>0.0</td>\n",
       "      <td>0.0</td>\n",
       "      <td>0.0</td>\n",
       "      <td>...</td>\n",
       "      <td>0.0</td>\n",
       "      <td>0.0</td>\n",
       "      <td>0.0</td>\n",
       "      <td>0.0</td>\n",
       "      <td>0.0</td>\n",
       "      <td>0.0</td>\n",
       "      <td>0.0</td>\n",
       "      <td>0.0</td>\n",
       "      <td>0.0</td>\n",
       "      <td>0.0</td>\n",
       "    </tr>\n",
       "    <tr>\n",
       "      <th>TTTGTCATCTAAGCCA-1</th>\n",
       "      <td>0.0</td>\n",
       "      <td>0.0</td>\n",
       "      <td>0.0</td>\n",
       "      <td>0.0</td>\n",
       "      <td>0.0</td>\n",
       "      <td>0.0</td>\n",
       "      <td>0.0</td>\n",
       "      <td>0.0</td>\n",
       "      <td>0.0</td>\n",
       "      <td>0.0</td>\n",
       "      <td>...</td>\n",
       "      <td>0.0</td>\n",
       "      <td>0.0</td>\n",
       "      <td>0.0</td>\n",
       "      <td>0.0</td>\n",
       "      <td>0.0</td>\n",
       "      <td>0.0</td>\n",
       "      <td>0.0</td>\n",
       "      <td>0.0</td>\n",
       "      <td>0.0</td>\n",
       "      <td>0.0</td>\n",
       "    </tr>\n",
       "  </tbody>\n",
       "</table>\n",
       "<p>574 rows × 16571 columns</p>\n",
       "</div>"
      ],
      "text/plain": [
       "                    1      2      3      4      5      6      7      8      \\\n",
       "AAATGCCAGTACATGA-1    0.0    0.0    0.0    0.0    0.0    0.0    0.0    0.0   \n",
       "AACTGGTTCACATACG-1    0.0    0.0    0.0    0.0    0.0    0.0    0.0    0.0   \n",
       "ACCGTAAAGAATTCCC-1    0.0    0.0    0.0    0.0    0.0    0.0    0.0    0.0   \n",
       "ACGATACCACGTCAGC-1    0.0    0.0    0.0    0.0    0.0    0.0    0.0    0.0   \n",
       "ACGATGTCAGTCACTA-1    0.0    0.0    0.0    0.0    0.0    0.0    0.0    0.0   \n",
       "...                   ...    ...    ...    ...    ...    ...    ...    ...   \n",
       "TTTGCGCCATATGCTG-1    0.0    0.0    0.0    0.0    0.0    0.0    0.0    0.0   \n",
       "TTTGTCAAGGTTCCTA-1    0.0    0.0    0.0    0.0    0.0    0.0    0.0    0.0   \n",
       "TTTGTCACACGAGAGT-1    0.0    0.0    0.0    0.0    0.0    0.0    0.0    0.0   \n",
       "TTTGTCAGTCGTCTTC-1    0.0    0.0    0.0    0.0    0.0    0.0    0.0    0.0   \n",
       "TTTGTCATCTAAGCCA-1    0.0    0.0    0.0    0.0    0.0    0.0    0.0    0.0   \n",
       "\n",
       "                    9      10     ...  16562  16563  16564  16565  16566  \\\n",
       "AAATGCCAGTACATGA-1    0.0    0.0  ...    0.0    0.0    0.0    0.0    0.0   \n",
       "AACTGGTTCACATACG-1    0.0    0.0  ...    0.0    0.0    0.0    0.0    0.0   \n",
       "ACCGTAAAGAATTCCC-1    0.0    0.0  ...    0.0    0.0    0.0    0.0    0.0   \n",
       "ACGATACCACGTCAGC-1    0.0    0.0  ...    0.0    0.0    0.0    0.0    0.0   \n",
       "ACGATGTCAGTCACTA-1    0.0    0.0  ...    0.0    0.0    0.0    0.0    0.0   \n",
       "...                   ...    ...  ...    ...    ...    ...    ...    ...   \n",
       "TTTGCGCCATATGCTG-1    0.0    0.0  ...    0.0    0.0    0.0    0.0    0.0   \n",
       "TTTGTCAAGGTTCCTA-1    0.0    0.0  ...    0.0    0.0    0.0    0.0    0.0   \n",
       "TTTGTCACACGAGAGT-1    0.0    0.0  ...    0.0    0.0    0.0    0.0    0.0   \n",
       "TTTGTCAGTCGTCTTC-1    0.0    0.0  ...    0.0    0.0    0.0    0.0    0.0   \n",
       "TTTGTCATCTAAGCCA-1    0.0    0.0  ...    0.0    0.0    0.0    0.0    0.0   \n",
       "\n",
       "                    16567  16568  16569  16570  16571  \n",
       "AAATGCCAGTACATGA-1    0.0    0.0    0.0    0.0    0.0  \n",
       "AACTGGTTCACATACG-1    0.0    0.0    0.0    0.0    0.0  \n",
       "ACCGTAAAGAATTCCC-1    0.0    0.0    0.0    0.0    0.0  \n",
       "ACGATACCACGTCAGC-1    0.0    0.0    0.0    0.0    0.0  \n",
       "ACGATGTCAGTCACTA-1    0.0    0.0    0.0    0.0    0.0  \n",
       "...                   ...    ...    ...    ...    ...  \n",
       "TTTGCGCCATATGCTG-1    0.0    0.0    0.0    0.0    0.0  \n",
       "TTTGTCAAGGTTCCTA-1    0.0    0.0    0.0    0.0    0.0  \n",
       "TTTGTCACACGAGAGT-1    0.0    0.0    0.0    0.0    0.0  \n",
       "TTTGTCAGTCGTCTTC-1    0.0    0.0    0.0    0.0    0.0  \n",
       "TTTGTCATCTAAGCCA-1    0.0    0.0    0.0    0.0    0.0  \n",
       "\n",
       "[574 rows x 16571 columns]"
      ]
     },
     "execution_count": 28,
     "metadata": {},
     "output_type": "execute_result"
    }
   ],
   "source": [
    "sc_coverage = pardf(sc_coverage,fill_df_coverage, func_args=(PILEUP_DIR,), num_processes=32)\n",
    "sc_coverage.to_csv(\"../data/processed/A/sc_coverage_barcodeText_mouse.csv\")\n",
    "\n",
    "#sc_coverage = fill_df_coverage(sc_coverage,PILEUP_DIR)\n",
    "sc_coverage"
   ]
  },
  {
   "cell_type": "code",
   "execution_count": 29,
   "metadata": {
    "ExecuteTime": {
     "end_time": "2020-01-14T20:30:49.672196Z",
     "start_time": "2020-01-14T20:30:37.442250Z"
    }
   },
   "outputs": [],
   "source": [
    "sc_coverage = pd.read_csv(\"../data/processed/A/sc_coverage_barcodeText_mouse.csv\", index_col=0)"
   ]
  },
  {
   "cell_type": "code",
   "execution_count": 30,
   "metadata": {
    "ExecuteTime": {
     "end_time": "2020-01-14T20:30:56.526322Z",
     "start_time": "2020-01-14T20:30:49.674736Z"
    }
   },
   "outputs": [
    {
     "name": "stdout",
     "output_type": "stream",
     "text": [
      "560\n"
     ]
    }
   ],
   "source": [
    "not_done = sc_coverage[((sc_coverage==0).all(axis=1))].index\n",
    "print(len(not_done))"
   ]
  },
  {
   "cell_type": "code",
   "execution_count": 31,
   "metadata": {
    "ExecuteTime": {
     "end_time": "2020-01-14T20:30:56.543928Z",
     "start_time": "2020-01-14T20:30:56.528142Z"
    }
   },
   "outputs": [
    {
     "data": {
      "text/plain": [
       "{'AAATGCCAGTACATGA-1': 1,\n",
       " 'AACTGGTTCACATACG-1': 1,\n",
       " 'ACCGTAAAGAATTCCC-1': 1,\n",
       " 'ACGATACCACGTCAGC-1': 9,\n",
       " 'ACGATGTCAGTCACTA-1': 2,\n",
       " 'ACGCCAGAGAGCCTAG-1': 3,\n",
       " 'ACTGAACAGGGCTCTC-1': 8,\n",
       " 'ACTGCTCGTAGCTCCG-1': 5,\n",
       " 'ACTGTCCCATTGGGCC-1': 2,\n",
       " 'ACTGTCCTCTTAGAGC-1': 69,\n",
       " 'ACTTACTAGGACAGCT-1': 3,\n",
       " 'AGAATAGCAGCTGTGC-1': 1,\n",
       " 'AGAGCGAAGTGTCTCA-1': 8,\n",
       " 'AGATTGCGTTTGTGTG-1': 1,\n",
       " 'AGCATACGTCAACATC-1': 1,\n",
       " 'AGCGGTCTCATGTCCC-1': 130,\n",
       " 'AGCTCTCAGAACTGTA-1': 1,\n",
       " 'AGGCCACCACTTAACG-1': 1,\n",
       " 'AGTCTTTAGTGGTAGC-1': 3,\n",
       " 'AGTGTCAGTGATGATA-1': 1,\n",
       " 'ATAACGCCACTGAAGG-1': 2,\n",
       " 'ATAAGAGCACTCAGGC-1': 1,\n",
       " 'ATCATGGAGTCATCCA-1': 5,\n",
       " 'ATCATGGCATCCGTGG-1': 3,\n",
       " 'ATCATGGTCAACGAAA-1': 16,\n",
       " 'ATTACTCCAGTGGAGT-1': 24,\n",
       " 'ATTATCCAGTATCGAA-1': 15,\n",
       " 'CAACCAACATCCTTGC-1': 3,\n",
       " 'CAAGAAAAGTCCATAC-1': 2,\n",
       " 'CAAGAAAGTGACGGTA-1': 6,\n",
       " 'CAAGTTGAGACGCACA-1': 7,\n",
       " 'CAGAGAGGTGGTAACG-1': 5,\n",
       " 'CAGATCATCTAGCACA-1': 8,\n",
       " 'CAGCGACCATGGTCAT-1': 1,\n",
       " 'CATCGGGCAACAACCT-1': 3,\n",
       " 'CCACCTAGTATAGGGC-1': 1,\n",
       " 'CCACTACAGAATGTGT-1': 1,\n",
       " 'CCATGTCTCCTATTCA-1': 1,\n",
       " 'CCGGGATCATACGCCG-1': 5,\n",
       " 'CCGGGATGTCTCGTTC-1': 27,\n",
       " 'CCTCTGAAGCAGCGTA-1': 1,\n",
       " 'CCTCTGAGTAAGTTCC-1': 1,\n",
       " 'CCTTACGTCATCTGTT-1': 1,\n",
       " 'CCTTCCCTCGGCGCAT-1': 1,\n",
       " 'CGAGAAGAGAAGGCCT-1': 2,\n",
       " 'CGAGCACAGGCGCTCT-1': 1,\n",
       " 'CGAGCACTCCAAATGC-1': 1,\n",
       " 'CGATGGCAGCTGCGAA-1': 1,\n",
       " 'CGCCAAGAGTCGTTTG-1': 1,\n",
       " 'CGCTATCGTGCCTGCA-1': 3,\n",
       " 'CGCTGGACAGGTGGAT-1': 3,\n",
       " 'CGCTTCATCCCAGGTG-1': 1,\n",
       " 'CGGACACCAGTATGCT-1': 7,\n",
       " 'CGGAGCTAGAATTGTG-1': 1,\n",
       " 'CGGAGCTAGGTCGGAT-1': 46,\n",
       " 'CGGCTAGGTCGACTGC-1': 1,\n",
       " 'CGGTTAAGTATCTGCA-1': 22,\n",
       " 'CGGTTAAGTCCGACGT-1': 4,\n",
       " 'CGGTTAATCAACACAC-1': 1,\n",
       " 'CGTAGCGAGCTGATAA-1': 3,\n",
       " 'CGTCAGGAGCGGATCA-1': 3,\n",
       " 'CGTCTACTCGCGCCAA-1': 1,\n",
       " 'CGTGAGCTCACCGTAA-1': 12,\n",
       " 'CGTTAGAGTTGGGACA-1': 1,\n",
       " 'CTAATGGGTAGGGACT-1': 1,\n",
       " 'CTCCTAGCAGTTTACG-1': 13,\n",
       " 'CTCGAAACAGCAGTTT-1': 1,\n",
       " 'CTCGGGAGTCCAGTAT-1': 1,\n",
       " 'CTCTGGTAGGCATTGG-1': 2,\n",
       " 'CTGAAACTCATACGGT-1': 1,\n",
       " 'CTGATCCGTTGCCTCT-1': 1,\n",
       " 'CTGCCTAAGATATACG-1': 1,\n",
       " 'CTGCCTAAGTGTCCCG-1': 4,\n",
       " 'CTTAGGAAGCAGCCTC-1': 1,\n",
       " 'CTTAGGAAGGAATGGA-1': 5,\n",
       " 'CTTCTCTGTCCATCCT-1': 3,\n",
       " 'GAAATGATCCACGTTC-1': 3,\n",
       " 'GACCAATTCCATGCTC-1': 11,\n",
       " 'GAGCAGAGTCTAGTCA-1': 1,\n",
       " 'GATCGTACAGTATGCT-1': 1,\n",
       " 'GATCGTATCACCTTAT-1': 3,\n",
       " 'GATCTAGAGCCACGTC-1': 1,\n",
       " 'GATGAGGCACGCGAAA-1': 1,\n",
       " 'GCAATCAGTAGGCATG-1': 1,\n",
       " 'GCAGCCAAGATGCGAC-1': 1,\n",
       " 'GCATACACATGATCCA-1': 11,\n",
       " 'GCATGCGTCGCGCCAA-1': 313,\n",
       " 'GCGACCAAGTGGTAGC-1': 1,\n",
       " 'GCGACCACACCAGCAC-1': 2,\n",
       " 'GCGACCATCCCGGATG-1': 2,\n",
       " 'GCGCCAAGTATTCTCT-1': 1,\n",
       " 'GGACAAGGTCCCGACA-1': 18,\n",
       " 'GGACAGAAGGCTAGGT-1': 1,\n",
       " 'GGACATTAGCGATGAC-1': 3,\n",
       " 'GGCAATTTCGTCCGTT-1': 1,\n",
       " 'GGCAATTTCTACGAGT-1': 4,\n",
       " 'GGCGACTCAAACTGCT-1': 1,\n",
       " 'GGCTGGTGTGCACCAC-1': 1,\n",
       " 'GGGAATGAGTAGCGGT-1': 1,\n",
       " 'GGGAGATTCCGTTGTC-1': 1,\n",
       " 'GGGATGAGTGTTCGAT-1': 1,\n",
       " 'GTAACTGGTTCCGGCA-1': 1,\n",
       " 'GTACTCCCAGCCTATA-1': 3,\n",
       " 'GTCCTCATCATAGCAC-1': 2,\n",
       " 'GTGCTTCCACGGTAGA-1': 1,\n",
       " 'GTGTTAGGTGATAAAC-1': 1,\n",
       " 'GTTTCTAAGATGGCGT-1': 3,\n",
       " 'GTTTCTAGTGCTAGCC-1': 2,\n",
       " 'TAAGAGACAGCATACT-1': 1,\n",
       " 'TACGGATAGCCACCTG-1': 1,\n",
       " 'TACGGGCCAGGATCGA-1': 1,\n",
       " 'TAGTGGTGTCAGGACA-1': 1,\n",
       " 'TATGCCCCAGCCTTGG-1': 2,\n",
       " 'TCAGGTAAGCTGTCTA-1': 1,\n",
       " 'TCATTTGGTTCACCTC-1': 1,\n",
       " 'TCATTTGTCAGATAAG-1': 1,\n",
       " 'TCGTACCCAGGATCGA-1': 1,\n",
       " 'TCGTAGATCAGGCCCA-1': 1,\n",
       " 'TCTATTGGTGTATGGG-1': 1,\n",
       " 'TCTCATAGTCGCATAT-1': 1,\n",
       " 'TCTCTAACACTGCCAG-1': 1,\n",
       " 'TCTCTAACAGCTGTAT-1': 1,\n",
       " 'TCTGAGACACAAGACG-1': 23,\n",
       " 'TGAAAGATCTGTTGAG-1': 37,\n",
       " 'TGACAACCATCACGAT-1': 2,\n",
       " 'TGACGGCAGGTAAACT-1': 1,\n",
       " 'TGACTAGCAACTGGCC-1': 1,\n",
       " 'TGACTTTAGAGCCTAG-1': 2,\n",
       " 'TGAGAGGTCGTATCAG-1': 2,\n",
       " 'TGAGGGAAGAGCAATT-1': 1,\n",
       " 'TGCACCTCAAAGGTGC-1': 3,\n",
       " 'TGCACCTGTCCGAGTC-1': 15,\n",
       " 'TGCCCTACATTATCTC-1': 9,\n",
       " 'TGCTACCGTTGTTTGG-1': 2,\n",
       " 'TGGCTGGAGGGTGTTG-1': 8,\n",
       " 'TGGCTGGTCACAATGC-1': 1,\n",
       " 'TGTCCCAGTTCCGGCA-1': 1,\n",
       " 'TTAGGACAGGGTGTTG-1': 1,\n",
       " 'TTCGGTCAGCTAGTTC-1': 2,\n",
       " 'TTCGGTCTCAATCTCT-1': 7,\n",
       " 'TTCTACACACGAAATA-1': 1,\n",
       " 'TTGCGTCCAGCTGCTG-1': 4,\n",
       " 'TTTACTGTCATCACCC-1': 1,\n",
       " 'AAACCTGAGTCTTGCA-1': 2,\n",
       " 'AAACCTGGTGAGTATA-1': 11,\n",
       " 'AAACGGGTCTTCCTTC-1': 12,\n",
       " 'AAAGATGCATCTCGCT-1': 129,\n",
       " 'AAATGCCAGTCACGCC-1': 14,\n",
       " 'AAATGCCCAGTCAGCC-1': 8,\n",
       " 'AAATGCCTCCAACCAA-1': 1,\n",
       " 'AAATGCCTCCACGAAT-1': 394,\n",
       " 'AAATGCCTCTCGTTTA-1': 5,\n",
       " 'AACCATGAGCAGCGTA-1': 1,\n",
       " 'AACCATGAGCGCCTCA-1': 13,\n",
       " 'AACGTTGTCAGGTTCA-1': 37,\n",
       " 'AACTCAGTCCGCTGTT-1': 1,\n",
       " 'AACTCTTGTAGGCATG-1': 1,\n",
       " 'AACTTTCAGCCTCGTG-1': 6,\n",
       " 'AAGCCGCAGCCACGTC-1': 5,\n",
       " 'AAGGAGCGTTGCGCAC-1': 2,\n",
       " 'AAGGCAGAGCAGGTCA-1': 2,\n",
       " 'AAGTCTGGTATCACCA-1': 32,\n",
       " 'AATCCAGGTCTTTCAT-1': 5,\n",
       " 'ACACCAATCTCTGTCG-1': 1,\n",
       " 'ACACCGGTCTCGCTTG-1': 1,\n",
       " 'ACACTGAAGGACACCA-1': 57,\n",
       " 'ACACTGATCTCAAGTG-1': 5,\n",
       " 'ACAGCTAAGGAATCGC-1': 2,\n",
       " 'ACAGCTAAGGCCCTTG-1': 3,\n",
       " 'ACATCAGGTAAGGGCT-1': 13,\n",
       " 'ACATCAGTCGGTTAAC-1': 8,\n",
       " 'ACATGGTTCAACACGT-1': 2,\n",
       " 'ACATGGTTCTCAACTT-1': 25,\n",
       " 'ACCAGTAAGAGTGACC-1': 1,\n",
       " 'ACCAGTAAGTAGGCCA-1': 6,\n",
       " 'ACCAGTACATGCATGT-1': 10,\n",
       " 'ACCAGTATCGTGGTCG-1': 10,\n",
       " 'ACCCACTTCCTCAACC-1': 103,\n",
       " 'ACCTTTATCAACGCTA-1': 10,\n",
       " 'ACGAGCCAGCGTGTCC-1': 14,\n",
       " 'ACGATACCAACACCCG-1': 13,\n",
       " 'ACGATACCACCTTGTC-1': 19,\n",
       " 'ACGATACGTTAAGACA-1': 1,\n",
       " 'ACGCAGCCAGCTTCGG-1': 37,\n",
       " 'ACGCCAGCAAACCCAT-1': 7,\n",
       " 'ACGCCAGGTCACAAGG-1': 4,\n",
       " 'ACGGCCAAGTCGAGTG-1': 6,\n",
       " 'ACGGCCACAACTGGCC-1': 8,\n",
       " 'ACGGCCACAGCCAGAA-1': 8,\n",
       " 'ACGGGCTCAAGGTGTG-1': 2,\n",
       " 'ACGGGCTGTTGACGTT-1': 3,\n",
       " 'ACGGGTCGTGAGTATA-1': 2,\n",
       " 'ACTGAACCACTCTGTC-1': 5,\n",
       " 'ACTGAGTTCCGCATCT-1': 10,\n",
       " 'ACTGAGTTCGTTTATC-1': 4,\n",
       " 'ACTGCTCGTTGAACTC-1': 1,\n",
       " 'ACTTGTTTCAGCTGGC-1': 1,\n",
       " 'ACTTTCATCAGTACGT-1': 11,\n",
       " 'AGACGTTAGAAGAAGC-1': 1,\n",
       " 'AGACGTTGTAAACACA-1': 5,\n",
       " 'AGAGCGATCTTAGAGC-1': 7,\n",
       " 'AGAGCTTAGTGTTTGC-1': 183,\n",
       " 'AGAGCTTTCACATGCA-1': 2,\n",
       " 'AGAGCTTTCCCTCTTT-1': 11,\n",
       " 'AGATCTGGTAGGGTAC-1': 4,\n",
       " 'AGCATACAGCCCAATT-1': 5,\n",
       " 'AGCATACTCGAGAGCA-1': 10,\n",
       " 'AGCATACTCTAGAGTC-1': 1,\n",
       " 'AGCGGTCTCGTAGGAG-1': 8,\n",
       " 'AGCGTATGTCCTAGCG-1': 101,\n",
       " 'AGCGTCGAGCTGAACG-1': 3,\n",
       " 'AGCGTCGTCGATGAGG-1': 1,\n",
       " 'AGCTCCTGTGGTAACG-1': 1,\n",
       " 'AGCTCTCCAGCTGTTA-1': 6,\n",
       " 'AGGCCACCAAACAACA-1': 1,\n",
       " 'AGGCCACGTCTGCCAG-1': 7,\n",
       " 'AGGCCGTTCACAACGT-1': 9,\n",
       " 'AGGGAGTAGGCAAAGA-1': 4,\n",
       " 'AGGGATGTCAGCAACT-1': 1,\n",
       " 'AGGGTGAGTGAACCTT-1': 5,\n",
       " 'AGTAGTCAGCGATGAC-1': 1954,\n",
       " 'AGTAGTCTCCAGAGGA-1': 6,\n",
       " 'AGTCTTTGTATGGTTC-1': 4,\n",
       " 'AGTCTTTTCCCTAATT-1': 15,\n",
       " 'AGTTGGTAGCGATAGC-1': 179,\n",
       " 'ATAACGCAGCGACGTA-1': 1,\n",
       " 'ATAACGCCAATCGGTT-1': 5,\n",
       " 'ATAAGAGTCCTCCTAG-1': 5,\n",
       " 'ATAGACCAGCCGATTT-1': 6,\n",
       " 'ATAGACCGTCCCTTGT-1': 11,\n",
       " 'ATAGACCTCGTTGACA-1': 12,\n",
       " 'ATCCGAAAGTCTCCTC-1': 120,\n",
       " 'ATCGAGTGTTCGAATC-1': 36,\n",
       " 'ATCGAGTTCCTCAATT-1': 2,\n",
       " 'ATCTACTGTAACGACG-1': 8,\n",
       " 'ATGAGGGAGCGATAGC-1': 9,\n",
       " 'ATGAGGGCAGTCTTCC-1': 8,\n",
       " 'ATGCGATGTCAAAGCG-1': 1,\n",
       " 'ATGGGAGAGTGACATA-1': 13,\n",
       " 'ATGGGAGAGTGCAAGC-1': 29,\n",
       " 'ATGGGAGCATTACCTT-1': 2,\n",
       " 'ATGTGTGGTGCAGGTA-1': 8,\n",
       " 'ATGTGTGTCACGAAGG-1': 11,\n",
       " 'ATTACTCAGAAGCCCA-1': 3,\n",
       " 'ATTACTCCAGTTAACC-1': 1,\n",
       " 'ATTATCCCAAGGTTCT-1': 2,\n",
       " 'ATTGGTGGTCTGATTG-1': 21,\n",
       " 'ATTTCTGCAAGTCATC-1': 2,\n",
       " 'CAACTAGAGGAGCGAG-1': 2,\n",
       " 'CAAGTTGCACCGAATT-1': 4,\n",
       " 'CACAAACAGATGCCTT-1': 15,\n",
       " 'CACACCTAGCTAGTTC-1': 24,\n",
       " 'CACATAGTCGACCAGC-1': 13,\n",
       " 'CACATTTCAATGCCAT-1': 48,\n",
       " 'CACATTTGTATATGAG-1': 2,\n",
       " 'CACATTTTCCGTACAA-1': 10,\n",
       " 'CACCACTAGCTTCGCG-1': 50,\n",
       " 'CACCACTAGGTAGCCA-1': 3,\n",
       " 'CACCACTCAGCTATTG-1': 4,\n",
       " 'CACCAGGGTAGAAAGG-1': 1,\n",
       " 'CACCTTGAGACTCGGA-1': 1,\n",
       " 'CACTCCATCGCAAACT-1': 1,\n",
       " 'CAGCAGCGTAGTAGTA-1': 3,\n",
       " 'CAGCATATCAGCTGGC-1': 1,\n",
       " 'CAGCGACAGACGCTTT-1': 9,\n",
       " 'CAGCGACGTTAAGTAG-1': 4,\n",
       " 'CAGCTAAAGCGTCAAG-1': 1,\n",
       " 'CAGCTAACATACTCTT-1': 13,\n",
       " 'CAGCTGGGTTGCGTTA-1': 4060,\n",
       " 'CAGGTGCAGAGTAAGG-1': 146,\n",
       " 'CAGTAACCACTAGTAC-1': 3,\n",
       " 'CAGTAACTCCTCATTA-1': 19,\n",
       " 'CAGTCCTTCTAACTGG-1': 4,\n",
       " 'CATATGGTCAGCATGT-1': 9,\n",
       " 'CATATTCAGTCTCAAC-1': 2,\n",
       " 'CATATTCGTGTTAAGA-1': 2,\n",
       " 'CATCAAGGTATGAAAC-1': 1,\n",
       " 'CATCCACTCTTGTACT-1': 18,\n",
       " 'CATCGAAGTCCCTTGT-1': 5,\n",
       " 'CATGACAAGAGAGCTC-1': 36,\n",
       " 'CATGACACAAACCTAC-1': 1,\n",
       " 'CATGACAGTCTCAACA-1': 1,\n",
       " 'CATGACAGTGCCTGGT-1': 1,\n",
       " 'CATGGCGCAGTGAGTG-1': 1,\n",
       " 'CATTCGCCAAGGACAC-1': 7,\n",
       " 'CCACCTAGTAAATGAC-1': 12,\n",
       " 'CCACGGATCTTGTTTG-1': 13,\n",
       " 'CCACTACGTGTGGTTT-1': 8,\n",
       " 'CCACTACGTTCTGGTA-1': 3,\n",
       " 'CCAGCGACACCGTTGG-1': 1,\n",
       " 'CCATTCGTCCGCGTTT-1': 503,\n",
       " 'CCCAATCAGAGCTGCA-1': 6,\n",
       " 'CCCAATCCAGTCAGCC-1': 1,\n",
       " 'CCCAATCCATGTTCCC-1': 6,\n",
       " 'CCGTTCAAGCTAAACA-1': 3,\n",
       " 'CCGTTCACAAAGGTGC-1': 8,\n",
       " 'CCGTTCACATGGTCTA-1': 2,\n",
       " 'CCGTTCAGTTATCACG-1': 1,\n",
       " 'CCGTTCATCTATCCTA-1': 4,\n",
       " 'CCTAAAGAGCTCCTTC-1': 360,\n",
       " 'CCTAAAGAGGGAAACA-1': 11,\n",
       " 'CCTACACCAGTTAACC-1': 27,\n",
       " 'CCTACACGTAGCGTAG-1': 1,\n",
       " 'CCTAGCTTCCAAAGTC-1': 10,\n",
       " 'CCTCAGTTCGTGGACC-1': 2,\n",
       " 'CCTCTGAGTATTACCG-1': 5,\n",
       " 'CCTCTGAGTTGTGGCC-1': 3,\n",
       " 'CCTTTCTCATCACGTA-1': 3,\n",
       " 'CCTTTCTTCGGATGGA-1': 1,\n",
       " 'CGAACATCAGGTTTCA-1': 374,\n",
       " 'CGAATGTAGTAGATGT-1': 12,\n",
       " 'CGAATGTCATCACGAT-1': 4,\n",
       " 'CGACCTTAGAACAACT-1': 6,\n",
       " 'CGACTTCAGGGAACGG-1': 11,\n",
       " 'CGAGAAGCAATGAATG-1': 8,\n",
       " 'CGAGCACCAGACAGGT-1': 12,\n",
       " 'CGAGCACGTAGCTCCG-1': 5,\n",
       " 'CGAGCACTCAGGCCCA-1': 6,\n",
       " 'CGAGCACTCATTATCC-1': 5,\n",
       " 'CGAGCACTCTCGCATC-1': 4,\n",
       " 'CGATCGGGTTAAAGTG-1': 9,\n",
       " 'CGATTGAAGGTTACCT-1': 10,\n",
       " 'CGATTGACACCAGGCT-1': 9,\n",
       " 'CGATTGAGTGATGCCC-1': 27,\n",
       " 'CGCTATCCATTTGCCC-1': 2018,\n",
       " 'CGCTGGACAGGTGCCT-1': 8,\n",
       " 'CGGACGTAGGCAATTA-1': 7,\n",
       " 'CGGACGTCACAGAGGT-1': 1,\n",
       " 'CGGACTGTCATAGCAC-1': 11,\n",
       " 'CGGAGCTAGACAAAGG-1': 17,\n",
       " 'CGGAGCTAGTCCATAC-1': 130,\n",
       " 'CGGAGCTCACCGCTAG-1': 45,\n",
       " 'CGGAGCTGTAAGGGCT-1': 11,\n",
       " 'CGGAGTCTCGCAAGCC-1': 5,\n",
       " 'CGGCTAGCACGGACAA-1': 391,\n",
       " 'CGGGTCAAGCGCCTCA-1': 1,\n",
       " 'CGGTTAAAGCGTTTAC-1': 2,\n",
       " 'CGTAGCGCACCCTATC-1': 3,\n",
       " 'CGTAGGCAGCGAAGGG-1': 13,\n",
       " 'CGTCACTAGCCATCGC-1': 7,\n",
       " 'CGTCACTCATGCCACG-1': 4,\n",
       " 'CGTCAGGGTAGATTAG-1': 17,\n",
       " 'CGTCCATAGTTCGCGC-1': 6,\n",
       " 'CGTCTACAGCGTGAGT-1': 1,\n",
       " 'CGTCTACAGTTAAGTG-1': 7,\n",
       " 'CGTGTCTGTTATGTGC-1': 2,\n",
       " 'CGTTAGAAGGGCATGT-1': 111,\n",
       " 'CGTTAGAGTCCGAGTC-1': 17,\n",
       " 'CTAACTTGTTAAAGAC-1': 46,\n",
       " 'CTAAGACCAACACCTA-1': 548,\n",
       " 'CTAAGACGTATGAATG-1': 103,\n",
       " 'CTACACCTCACATGCA-1': 9,\n",
       " 'CTACCCAGTTAAAGAC-1': 18,\n",
       " 'CTAGAGTGTTTGACTG-1': 2,\n",
       " 'CTAGCCTTCTAACTGG-1': 2,\n",
       " 'CTCACACAGAGCAATT-1': 3,\n",
       " 'CTCCTAGAGCCGATTT-1': 2,\n",
       " 'CTCGAAAAGTCAATAG-1': 4,\n",
       " 'CTCGAGGGTCCCTACT-1': 7,\n",
       " 'CTCGGGAGTGTAATGA-1': 50,\n",
       " 'CTCGGGATCGTGGTCG-1': 3,\n",
       " 'CTCGTACGTGCGCTTG-1': 6,\n",
       " 'CTCGTCAAGTGTCCAT-1': 1,\n",
       " 'CTCGTCAGTTCAGACT-1': 4,\n",
       " 'CTCTAATGTAAGTAGT-1': 1,\n",
       " 'CTCTAATTCGTTTATC-1': 12,\n",
       " 'CTCTGGTAGGCACATG-1': 11,\n",
       " 'CTGATAGCACCGATAT-1': 9,\n",
       " 'CTGATAGTCACCTCGT-1': 18,\n",
       " 'CTGATAGTCAGCTTAG-1': 1,\n",
       " 'CTGATCCAGACTTGAA-1': 2,\n",
       " 'CTGATCCTCTTGTTTG-1': 5,\n",
       " 'CTGCTGTAGATCCTGT-1': 11,\n",
       " 'CTGCTGTCACCAGCAC-1': 5,\n",
       " 'CTGGTCTAGAGAACAG-1': 10,\n",
       " 'CTGGTCTGTCTGGTCG-1': 17,\n",
       " 'CTGTGCTAGGGTGTGT-1': 4,\n",
       " 'CTGTGCTTCTACTTAC-1': 4,\n",
       " 'CTGTTTAAGAAACGAG-1': 12,\n",
       " 'CTTAACTGTGACGCCT-1': 9,\n",
       " 'CTTACCGCATAGTAAG-1': 144,\n",
       " 'GAAATGAGTAATCGTC-1': 1,\n",
       " 'GAAATGATCATGGTCA-1': 2,\n",
       " 'GAACATCAGGACAGAA-1': 9,\n",
       " 'GAACATCCAAAGCGGT-1': 3,\n",
       " 'GAACATCCATGACGGA-1': 12,\n",
       " 'GAACATCGTGAGTGAC-1': 1,\n",
       " 'GAACCTAAGAGTCGGT-1': 2,\n",
       " 'GAACCTAGTGCACGAA-1': 8,\n",
       " 'GAACGGACAAATTGCC-1': 4,\n",
       " 'GAAGCAGCAGGACCCT-1': 3,\n",
       " 'GAAGCAGCAGGCTCAC-1': 3,\n",
       " 'GAATAAGCAGACGCTC-1': 2,\n",
       " 'GAATGAAAGCACACAG-1': 36,\n",
       " 'GACACGCAGATGCCTT-1': 4,\n",
       " 'GACCAATCACAGGTTT-1': 5,\n",
       " 'GACCTGGAGCTACCGC-1': 5,\n",
       " 'GACGCGTAGCGATGAC-1': 3,\n",
       " 'GACGCGTTCTTTAGTC-1': 3,\n",
       " 'GACGGCTAGCTACCGC-1': 2,\n",
       " 'GACGGCTGTGGTCTCG-1': 28,\n",
       " 'GACGTGCAGACCTTTG-1': 6,\n",
       " 'GACTAACCAAGAGGCT-1': 9,\n",
       " 'GACTGCGCACGACGAA-1': 7,\n",
       " 'GAGCAGAAGAGATGAG-1': 8,\n",
       " 'GAGGTGAGTCTCGTTC-1': 65,\n",
       " 'GAGTCCGCACTGAAGG-1': 21,\n",
       " 'GATCAGTAGCTGAAAT-1': 16,\n",
       " 'GATCAGTCATATACCG-1': 1,\n",
       " 'GATCGATGTCGGCTCA-1': 7,\n",
       " 'GATCGTACAGGTGGAT-1': 6,\n",
       " 'GATCTAGAGAAGAAGC-1': 4,\n",
       " 'GATGAAAAGCAGCGTA-1': 3,\n",
       " 'GATGAAAAGGGAACGG-1': 5,\n",
       " 'GATGAAAGTCTAGCGC-1': 106,\n",
       " 'GATGAAATCAATAAGG-1': 3,\n",
       " 'GATGAGGCACGGTTTA-1': 3,\n",
       " 'GATGAGGTCACTGGGC-1': 2,\n",
       " 'GATGCTAAGAGTAATC-1': 7,\n",
       " 'GATGCTACAGGGAGAG-1': 20,\n",
       " 'GCAAACTTCTGAGTGT-1': 5,\n",
       " 'GCAATCAAGAGTCTGG-1': 5,\n",
       " 'GCAATCACAAGAGGCT-1': 6,\n",
       " 'GCAGTTATCTTCTGGC-1': 10,\n",
       " 'GCATGATAGTAGGCCA-1': 63,\n",
       " 'GCATGATGTAGCGTCC-1': 16,\n",
       " 'GCATGATTCAGCGATT-1': 1,\n",
       " 'GCATGCGAGCGACGTA-1': 6,\n",
       " 'GCATGCGCAGGCTGAA-1': 7,\n",
       " 'GCATGCGGTCGAACAG-1': 2,\n",
       " 'GCATGCGGTCTGCGGT-1': 24,\n",
       " 'GCATGCGTCATTGCGA-1': 3,\n",
       " 'GCATGCGTCCTTAATC-1': 5,\n",
       " 'GCATGTACACCGCTAG-1': 2,\n",
       " 'GCCAAATCATTCCTCG-1': 1,\n",
       " 'GCGCAGTGTTATCCGA-1': 1,\n",
       " 'GCGCCAACAAGGCTCC-1': 4,\n",
       " 'GCGCCAATCAGCTGGC-1': 2,\n",
       " 'GCTCCTAGTTGAGGTG-1': 1,\n",
       " 'GCTCTGTAGTGATCGG-1': 14,\n",
       " 'GCTGCAGAGGTAAACT-1': 1,\n",
       " 'GCTGCAGTCTTCCTTC-1': 47,\n",
       " 'GCTGCGACATGTCCTC-1': 5,\n",
       " 'GCTGGGTGTTCTCATT-1': 3,\n",
       " 'GCTTGAATCTGTCAAG-1': 5,\n",
       " 'GGAACTTGTTCAGACT-1': 3,\n",
       " 'GGACAAGAGGGAAACA-1': 12,\n",
       " 'GGACAAGCACAGCCCA-1': 3,\n",
       " 'GGACAGAGTGCACCAC-1': 1,\n",
       " 'GGAGCAAGTTACTGAC-1': 5,\n",
       " 'GGAGCAATCTTTCCTC-1': 4,\n",
       " 'GGCAATTAGACATAAC-1': 181,\n",
       " 'GGCGACTAGGAGTAGA-1': 2,\n",
       " 'GGCGACTCACGAAACG-1': 8,\n",
       " 'GGCGACTGTCCTCTTG-1': 17,\n",
       " 'GGCGACTTCTTACCTA-1': 1,\n",
       " 'GGCGTGTCACAGCGTC-1': 13,\n",
       " 'GGCTCGAAGCTGAAAT-1': 6,\n",
       " 'GGCTCGACACAAGCCC-1': 7,\n",
       " 'GGCTCGAGTAGAGGAA-1': 86,\n",
       " 'GGCTGGTAGCTGATAA-1': 5,\n",
       " 'GGGAGATGTCGCGAAA-1': 5,\n",
       " 'GGGCACTGTGTCGCTG-1': 48,\n",
       " 'GGGTCTGGTAACGCGA-1': 5,\n",
       " 'GGGTTGCTCCAAGCCG-1': 7,\n",
       " 'GGTATTGCACAGACAG-1': 6819,\n",
       " 'GGTATTGGTAAGAGAG-1': 1,\n",
       " 'GGTGAAGGTTATTCTC-1': 4,\n",
       " 'GGTGTTAAGGCCCTCA-1': 2,\n",
       " 'GGTGTTATCTCGATGA-1': 44,\n",
       " 'GTAACGTGTTCGCGAC-1': 11,\n",
       " 'GTAACTGAGTTCGCAT-1': 3,\n",
       " 'GTACTTTCACGGCTAC-1': 1,\n",
       " 'GTAGGCCTCAGAGACG-1': 1,\n",
       " 'GTAGTCAAGCTAAACA-1': 4,\n",
       " 'GTAGTCACAGTGGAGT-1': 4,\n",
       " 'GTATTCTCAGCTTCGG-1': 1,\n",
       " 'GTCATTTGTTTAGGAA-1': 47,\n",
       " 'GTCGTAAAGGAATTAC-1': 17,\n",
       " 'GTCTTCGGTCTTCGTC-1': 2283,\n",
       " 'GTGAAGGAGCTCCTTC-1': 2,\n",
       " 'GTGCAGCAGATCACGG-1': 9,\n",
       " 'GTGCAGCGTAAGAGAG-1': 10,\n",
       " 'GTGCATAAGAGGTAGA-1': 1,\n",
       " 'GTGCATACACGTTGGC-1': 2,\n",
       " 'GTGCATAGTGAAGGCT-1': 54,\n",
       " 'GTGCTTCCAACGCACC-1': 5,\n",
       " 'GTGGGTCGTCACTTCC-1': 1,\n",
       " 'GTGTGCGCAAGAAAGG-1': 18,\n",
       " 'GTGTGCGTCAACCAAC-1': 8,\n",
       " 'GTGTTAGTCCTAGAAC-1': 222,\n",
       " 'GTTAAGCAGTTCGCAT-1': 65,\n",
       " 'GTTACAGAGCTGTCTA-1': 5,\n",
       " 'GTTCATTAGCCAGTAG-1': 14,\n",
       " 'GTTCATTGTGCAACTT-1': 8,\n",
       " 'TAAACCGAGGAGCGAG-1': 4,\n",
       " 'TAAGAGAAGTCATGCT-1': 4,\n",
       " 'TAAGCGTTCATCACCC-1': 1,\n",
       " 'TAAGCGTTCGCCAAAT-1': 5,\n",
       " 'TAAGTGCCAAGCCCAC-1': 53,\n",
       " 'TACCTTAAGTAACCCT-1': 9,\n",
       " 'TACGGTAAGACAGAGA-1': 74,\n",
       " 'TACGGTATCTCAAGTG-1': 3,\n",
       " 'TACTCATAGTGTCTCA-1': 38,\n",
       " 'TACTCATCATTAACCG-1': 5,\n",
       " 'TAGAGCTGTCGTCTTC-1': 1,\n",
       " 'TAGTGGTCACGACTCG-1': 5,\n",
       " 'TAGTTGGCACGCTTTC-1': 5,\n",
       " 'TCAATCTTCTTGCCGT-1': 7,\n",
       " 'TCAGATGAGTGAAGAG-1': 7,\n",
       " 'TCAGATGGTACCGCTG-1': 1,\n",
       " 'TCAGCAACAATCGGTT-1': 4,\n",
       " 'TCAGGATAGCTAACTC-1': 266,\n",
       " 'TCCCGATCACCTTGTC-1': 1,\n",
       " 'TCCCGATTCTCCGGTT-1': 5,\n",
       " 'TCGAGGCCATGCCTAA-1': 20,\n",
       " 'TCGCGAGCAGGGCATA-1': 4,\n",
       " 'TCGGTAATCAGTTAGC-1': 8,\n",
       " 'TCGTAGAGTACGCTGC-1': 9,\n",
       " 'TCTATTGGTAAGTAGT-1': 45,\n",
       " 'TCTGAGAAGAGTCTGG-1': 1,\n",
       " 'TCTTCGGCACGACTCG-1': 25,\n",
       " 'TCTTCGGCACTAAGTC-1': 3,\n",
       " 'TGAAAGAGTAGCTAAA-1': 1,\n",
       " 'TGACGGCCAAACCCAT-1': 6,\n",
       " 'TGACTAGAGACAATAC-1': 1,\n",
       " 'TGACTTTAGGCTACGA-1': 1,\n",
       " 'TGACTTTCAGTATGCT-1': 3,\n",
       " 'TGACTTTGTTCTGGTA-1': 3,\n",
       " 'TGAGCATTCGCAGGCT-1': 1,\n",
       " 'TGAGGGATCATCGGAT-1': 7,\n",
       " 'TGAGGGATCTTACCTA-1': 6,\n",
       " 'TGCACCTCAGCTGTTA-1': 1,\n",
       " 'TGCACCTGTTACGGAG-1': 78,\n",
       " 'TGCCAAATCACATACG-1': 4,\n",
       " 'TGCGTGGGTCACACGC-1': 3,\n",
       " 'TGCTACCCAAAGCGGT-1': 17,\n",
       " 'TGGACGCAGGGTTTCT-1': 6,\n",
       " 'TGGACGCCATGACGGA-1': 2,\n",
       " 'TGGACGCGTTCCGTCT-1': 25,\n",
       " 'TGGACGCGTTCGAATC-1': 6,\n",
       " 'TGGACGCTCCTTGGTC-1': 4,\n",
       " 'TGGCTGGAGAGCCCAA-1': 7,\n",
       " 'TGGGAAGAGTCCTCCT-1': 8,\n",
       " 'TGGTTAGAGCCTATGT-1': 63,\n",
       " 'TGGTTCCCAACGATCT-1': 7,\n",
       " 'TGGTTCCCACTAAGTC-1': 1,\n",
       " 'TGTGGTAAGCACCGCT-1': 2,\n",
       " 'TGTGTTTGTAGCGTGA-1': 9,\n",
       " 'TGTGTTTGTCGGATCC-1': 10,\n",
       " 'TGTTCCGGTGGTAACG-1': 18,\n",
       " 'TTAACTCGTAAAGGAG-1': 1,\n",
       " 'TTAGGACCAAATACAG-1': 3,\n",
       " 'TTAGGACCACAACGCC-1': 4,\n",
       " 'TTAGGCAGTAAACCTC-1': 2,\n",
       " 'TTCGAAGGTGTTTGGT-1': 7,\n",
       " 'TTCGGTCCAGTCACTA-1': 2,\n",
       " 'TTCTCAAGTAGATTAG-1': 1,\n",
       " 'TTCTCAAGTCGATTGT-1': 1,\n",
       " 'TTCTCCTCAGAGTGTG-1': 3,\n",
       " 'TTCTTAGAGATGGGTC-1': 1,\n",
       " 'TTCTTAGAGTGATCGG-1': 7,\n",
       " 'TTCTTAGGTAGCCTAT-1': 42,\n",
       " 'TTGAACGCATCCTAGA-1': 3,\n",
       " 'TTGCGTCGTGGCGAAT-1': 1,\n",
       " 'TTGGAACAGCATGGCA-1': 4,\n",
       " 'TTTATGCAGCCGTCGT-1': 2,\n",
       " 'TTTATGCTCACCGGGT-1': 6,\n",
       " 'TTTCCTCGTGCAACTT-1': 3,\n",
       " 'TTTGCGCCATATGCTG-1': 22,\n",
       " 'TTTGTCAAGGTTCCTA-1': 3,\n",
       " 'TTTGTCACACGAGAGT-1': 3,\n",
       " 'TTTGTCAGTCGTCTTC-1': 19,\n",
       " 'TTTGTCATCTAAGCCA-1': 2}"
      ]
     },
     "execution_count": 31,
     "metadata": {},
     "output_type": "execute_result"
    }
   ],
   "source": [
    "CB_read_MT"
   ]
  }
 ],
 "metadata": {
  "kernelspec": {
   "display_name": "Python 3",
   "language": "python",
   "name": "python3"
  },
  "language_info": {
   "codemirror_mode": {
    "name": "ipython",
    "version": 3
   },
   "file_extension": ".py",
   "mimetype": "text/x-python",
   "name": "python",
   "nbconvert_exporter": "python",
   "pygments_lexer": "ipython3",
   "version": "3.7.3"
  }
 },
 "nbformat": 4,
 "nbformat_minor": 2
}
