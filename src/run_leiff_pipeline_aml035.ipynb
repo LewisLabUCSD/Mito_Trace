{
 "cells": [
  {
   "cell_type": "code",
   "execution_count": 1,
   "metadata": {
    "ExecuteTime": {
     "end_time": "2019-12-24T04:55:14.924243Z",
     "start_time": "2019-12-24T04:55:14.035538Z"
    }
   },
   "outputs": [],
   "source": [
    "import glob\n",
    "import os\n",
    "import pandas as pd\n",
    "from tqdm import tqdm\n",
    "import numpy as np\n",
    "import pysam\n",
    "import time\n",
    "from collections import defaultdict\n",
    "import pickle\n",
    "import matplotlib.pyplot as plt\n",
    "import seaborn as sns\n",
    "import subprocess\n",
    "%matplotlib inline\n",
    "\n",
    "from os.path import join"
   ]
  },
  {
   "cell_type": "code",
   "execution_count": 2,
   "metadata": {
    "ExecuteTime": {
     "end_time": "2019-12-24T04:55:14.931292Z",
     "start_time": "2019-12-24T04:55:14.926914Z"
    }
   },
   "outputs": [],
   "source": [
    "FUNC_PATH = \"/home/isshamie/software/mito-genotyping/exampleProcessing/\"\n",
    "BAM = \"data/aml035_post_transplant_possorted_genome_bam.MT.bam\"\n",
    "BARCODES = \"../data/raw/Human2_002_Barcodes.txt\"\n",
    "BARCODE_INFO = \"data/barcode_data_aml035_post_transplant_possorted_genome_bam.MT.p\" #\"data/scBam/barcode_data.p\"\n",
    "NUM_CORES = 32\n",
    "IN = \"data/scBam\"\n",
    "OUT_DIR = \"data/scPileup/\"\n",
    "if not os.path.exists(OUT_DIR):\n",
    "    os.mkdir(OUT_DIR)"
   ]
  },
  {
   "cell_type": "code",
   "execution_count": 3,
   "metadata": {
    "ExecuteTime": {
     "end_time": "2019-12-24T04:55:15.325156Z",
     "start_time": "2019-12-24T04:55:14.933143Z"
    }
   },
   "outputs": [
    {
     "data": {
      "text/plain": [
       "44018"
      ]
     },
     "execution_count": 3,
     "metadata": {},
     "output_type": "execute_result"
    }
   ],
   "source": [
    "files = glob.glob(IN+\"/*\")\n",
    "len(files)"
   ]
  },
  {
   "cell_type": "code",
   "execution_count": 4,
   "metadata": {
    "ExecuteTime": {
     "end_time": "2019-12-24T04:56:12.671234Z",
     "start_time": "2019-12-24T04:55:15.327269Z"
    },
    "scrolled": true
   },
   "outputs": [
    {
     "name": "stderr",
     "output_type": "stream",
     "text": [
      "  7%|▋         | 2890/44018 [00:57<13:57, 49.09it/s]"
     ]
    }
   ],
   "source": [
    "over_200 = set()\n",
    "count = 0\n",
    "for i in tqdm(files):\n",
    "    output = subprocess.check_output(f\"samtools view {i} | wc -l\", shell=True, universal_newlines=True )\n",
    "    if int(output.strip()) >= 200:\n",
    "        over_200.add(i)\n",
    "        count += 1\n",
    "        if count > 100:\n",
    "            break\n",
    "        \n",
    "over_200 = list(over_200)"
   ]
  },
  {
   "cell_type": "code",
   "execution_count": 5,
   "metadata": {
    "ExecuteTime": {
     "end_time": "2019-12-24T04:56:12.682528Z",
     "start_time": "2019-12-24T04:56:12.675130Z"
    },
    "scrolled": true
   },
   "outputs": [
    {
     "data": {
      "text/plain": [
       "101"
      ]
     },
     "execution_count": 5,
     "metadata": {},
     "output_type": "execute_result"
    }
   ],
   "source": [
    "count"
   ]
  },
  {
   "cell_type": "markdown",
   "metadata": {},
   "source": [
    "## Load CB's, get ones that have over 200 reads and put in separate folder"
   ]
  },
  {
   "cell_type": "code",
   "execution_count": 6,
   "metadata": {
    "ExecuteTime": {
     "end_time": "2019-12-24T04:56:12.972147Z",
     "start_time": "2019-12-24T04:56:12.684305Z"
    }
   },
   "outputs": [],
   "source": [
    "[CR_read_number,CB_read_number,BC_read_number, barcodes, corrected_barcodes, barcode_pairs] = pickle.load(open(BARCODE_INFO,\"rb\"))"
   ]
  },
  {
   "cell_type": "code",
   "execution_count": 7,
   "metadata": {
    "ExecuteTime": {
     "end_time": "2019-12-24T04:56:13.000205Z",
     "start_time": "2019-12-24T04:56:12.974794Z"
    }
   },
   "outputs": [
    {
     "name": "stdout",
     "output_type": "stream",
     "text": [
      "1426\n"
     ]
    }
   ],
   "source": [
    "CB_read_200 = set()\n",
    "for i in CB_read_number:\n",
    "    if CB_read_number[i] >= 200:\n",
    "        CB_read_200.add(i)\n",
    "print(len(CB_read_200))\n",
    "CB_read_200 = np.array(list(CB_read_200))"
   ]
  },
  {
   "cell_type": "markdown",
   "metadata": {},
   "source": [
    "## Calculate coverage of each position "
   ]
  },
  {
   "cell_type": "code",
   "execution_count": 9,
   "metadata": {
    "ExecuteTime": {
     "end_time": "2019-12-24T04:56:13.026801Z",
     "start_time": "2019-12-24T04:56:13.011804Z"
    }
   },
   "outputs": [],
   "source": [
    "bamfile = list(over_200)[0]\n",
    "outpre = join(OUT_DIR, os.path.basename(bamfile.replace(\".bam\",\"\")))\n",
    "maxBP = 16571\n",
    "base_qual = 0 \n",
    "sample = os.path.basename(bamfile).split(\"_\")[-1]\n",
    "alignment_quality = 0\n",
    "\n",
    "# bamfile = sys.argv[1] # Filepath to raw bamfile\n",
    "# outpre = sys.argv[2] # Prefix / basename for raw file output\n",
    "# maxBP = sys.argv[3] # Maximum length of mtDNA genome\n",
    "# base_qual = float(sys.argv[4]) # Minimum base quality to be considered for pileup\n",
    "# sample = sys.argv[5] # Sample name to be considered for downstream analyses\n",
    "# alignment_quality = float(sys.argv[6]) # minimum alignment quality required to be considered\n"
   ]
  },
  {
   "cell_type": "code",
   "execution_count": 10,
   "metadata": {
    "ExecuteTime": {
     "end_time": "2019-12-24T04:56:13.388703Z",
     "start_time": "2019-12-24T04:56:13.029150Z"
    },
    "scrolled": true
   },
   "outputs": [
    {
     "name": "stdout",
     "output_type": "stream",
     "text": [
      "python /home/isshamie/software/mito-genotyping/exampleProcessing//01_pileup_counts.py data/scBam/scBamCB_13967.bam data/scPileup/scBamCB_13967 16571 0 13967.bam 0\n"
     ]
    },
    {
     "data": {
      "text/plain": [
       "0"
      ]
     },
     "execution_count": 10,
     "metadata": {},
     "output_type": "execute_result"
    }
   ],
   "source": [
    "cmd = f\"python {FUNC_PATH}/01_pileup_counts.py {bamfile} {outpre} {maxBP} {base_qual} {sample} {alignment_quality}\"\n",
    "print(cmd)\n",
    "os.system(cmd)"
   ]
  }
 ],
 "metadata": {
  "kernelspec": {
   "display_name": "Python 3",
   "language": "python",
   "name": "python3"
  },
  "language_info": {
   "codemirror_mode": {
    "name": "ipython",
    "version": 3
   },
   "file_extension": ".py",
   "mimetype": "text/x-python",
   "name": "python",
   "nbconvert_exporter": "python",
   "pygments_lexer": "ipython3",
   "version": "3.7.3"
  }
 },
 "nbformat": 4,
 "nbformat_minor": 2
}
