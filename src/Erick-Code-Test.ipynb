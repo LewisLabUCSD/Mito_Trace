{
 "cells": [
  {
   "cell_type": "code",
   "execution_count": 36,
   "metadata": {},
   "outputs": [],
   "source": [
    "from sklearn.metrics import pairwise_distances \n",
    "import itertools\n",
    "\n",
    "from collections import defaultdict"
   ]
  },
  {
   "cell_type": "markdown",
   "metadata": {},
   "source": [
    "# Hamming distance"
   ]
  },
  {
   "cell_type": "code",
   "execution_count": 20,
   "metadata": {},
   "outputs": [],
   "source": [
    "example = set(['AAAB', 'BBBA', 'AAAA', 'BAAB'])"
   ]
  },
  {
   "cell_type": "code",
   "execution_count": 31,
   "metadata": {},
   "outputs": [],
   "source": [
    "def hamming_distance(pattern1, pattern2):\n",
    "    '''\n",
    "    This function calculates the number of mismatches between two patterns (\"pattern1\" and \"pattern2\") of equal lenght (k).\n",
    "    '''\n",
    "    assert len(pattern1) == len(pattern2)\n",
    "    return sum(p1 != p2 for p1, p2 in zip(pattern1, pattern2))"
   ]
  },
  {
   "cell_type": "code",
   "execution_count": 32,
   "metadata": {},
   "outputs": [],
   "source": [
    "elements = list(itertools.combinations(example, 2)) #+ [(e,e) for e in example]"
   ]
  },
  {
   "cell_type": "code",
   "execution_count": 33,
   "metadata": {},
   "outputs": [],
   "source": [
    "distances = []\n",
    "for i in elements:\n",
    "    distances.append((hamming_distance(*i), i))"
   ]
  },
  {
   "cell_type": "code",
   "execution_count": 34,
   "metadata": {},
   "outputs": [
    {
     "data": {
      "text/plain": [
       "[(1, ('AAAB', 'AAAA')),\n",
       " (1, ('AAAB', 'BAAB')),\n",
       " (2, ('BAAB', 'AAAA')),\n",
       " (3, ('AAAA', 'BBBA')),\n",
       " (3, ('BAAB', 'BBBA')),\n",
       " (4, ('AAAB', 'BBBA'))]"
      ]
     },
     "execution_count": 34,
     "metadata": {},
     "output_type": "execute_result"
    }
   ],
   "source": [
    "sorted(distances)"
   ]
  },
  {
   "cell_type": "code",
   "execution_count": null,
   "metadata": {},
   "outputs": [],
   "source": []
  }
 ],
 "metadata": {
  "kernelspec": {
   "display_name": "Python 3",
   "language": "python",
   "name": "python3"
  },
  "language_info": {
   "codemirror_mode": {
    "name": "ipython",
    "version": 3
   },
   "file_extension": ".py",
   "mimetype": "text/x-python",
   "name": "python",
   "nbconvert_exporter": "python",
   "pygments_lexer": "ipython3",
   "version": "3.7.5"
  }
 },
 "nbformat": 4,
 "nbformat_minor": 2
}
