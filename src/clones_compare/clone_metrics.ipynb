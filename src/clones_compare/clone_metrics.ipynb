{
 "cells": [
  {
   "cell_type": "code",
   "execution_count": 1,
   "id": "67bb565f",
   "metadata": {},
   "outputs": [],
   "source": [
    "# af = \"/mnt/md0/isshamie/Projects/Mito_Trace/output/pipeline/v04/CHIP_b1/MTBlacklist_A2/data/merged/MT/cellr_True/numread_200/filters/minC10_minR50_topN0_hetT0.001_hetC10_hetCount5_bq20/mgatk/vireoIn/clones/variants_prefilterMerge_impute/subsamples/pct_10/0/donor0/af.tsv\"\n",
    "# cells = \"/mnt/md0/isshamie/Projects/Mito_Trace/output/pipeline/v04/CHIP_b1/MTBlacklist_A2/data/merged/MT/cellr_True/numread_200/filters/minC10_minR50_topN0_hetT0.001_hetC10_hetCount5_bq20/mgatk/vireoIn/clones/variants_prefilterMerge_impute/subsamples/pct_10/0/donor0/knn/kparam_30/cells_meta.tsv\"\n",
    "\n",
    "in_files = \"/data/Mito_Trace/output/pipeline/v04/CHIP_b1/MTBlacklist_A2/data/merged/MT/cellr_True/numread_200/filters/minC10_minR50_topN0_hetT0.001_hetC10_hetCount5_bq20/mgatk/vireoIn/clones/variants_init/subsamples/knn/kparam_30/donor0/params.csv;/data/Mito_Trace/output/pipeline/v04/CHIP_b1/MTBlacklist_A2/data/merged/MT/cellr_True/numread_200/filters/minC10_minR50_topN0_hetT0.001_hetC10_hetCount5_bq20/mgatk/vireoIn/clones/variants_init/subsamples/knn/kparam_30/donor1/params.csv;/data/Mito_Trace/output/pipeline/v04/CHIP_b1/MTBlacklist_A2/data/merged/MT/cellr_True/numread_200/filters/minC10_minR50_topN0_hetT0.001_hetC10_hetCount5_bq20/mgatk/vireoIn/clones/variants_simpleUnion/subsamples/knn/kparam_30/donor0/params.csv;/data/Mito_Trace/output/pipeline/v04/CHIP_b1/MTBlacklist_A2/data/merged/MT/cellr_True/numread_200/filters/minC10_minR50_topN0_hetT0.001_hetC10_hetCount5_bq20/mgatk/vireoIn/clones/variants_simpleUnion/subsamples/knn/kparam_30/donor1/params.csv;/data/Mito_Trace/output/pipeline/v04/CHIP_b1/MTBlacklist_A2/data/merged/MT/cellr_True/numread_200/filters/minC10_minR50_topN0_hetT0.001_hetC10_hetCount5_bq20/mgatk/vireoIn/clones/variants_prefilterMerge_impute/subsamples/knn/kparam_30/donor0/params.csv;/data/Mito_Trace/output/pipeline/v04/CHIP_b1/MTBlacklist_A2/data/merged/MT/cellr_True/numread_200/filters/minC10_minR50_topN0_hetT0.001_hetC10_hetCount5_bq20/mgatk/vireoIn/clones/variants_prefilterMerge_impute/subsamples/knn/kparam_30/donor1/params.csv\"\n",
    "outdir = \"/data/Mito_Trace/output/pipeline/v04/CHIP_b1/MTBlacklist_A2/data/merged/MT/cellr_True/numread_200/filters/minC10_minR50_topN0_hetT0.001_hetC10_hetCount5_bq20/mgatk/vireoIn/clones/comparisons_subsamples/\"\"\n"
   ]
  },
  {
   "cell_type": "code",
   "execution_count": null,
   "id": "31a3e0d3",
   "metadata": {},
   "outputs": [],
   "source": [
    "in_params_l = in_files.split(\";\")\n",
    "in_params_l"
   ]
  },
  {
   "cell_type": "code",
   "execution_count": null,
   "id": "40ca253d",
   "metadata": {},
   "outputs": [],
   "source": [
    "from os.path import dirname, join\n",
    "import pandas as pd\n",
    "import seaborn as sns\n",
    "import matplotlib.pyplot as plt\n",
    "from scipy.stats import gmean\n",
    "from sklearn.metrics import auc "
   ]
  },
  {
   "cell_type": "code",
   "execution_count": null,
   "id": "19612f0d",
   "metadata": {},
   "outputs": [],
   "source": [
    "all_scores = []\n",
    "all_params = []\n",
    "for i in in_params_l:\n",
    "    curr_df = pd.read_csv(join(dirname(i), \"subsample_metrics.tsv\"), sep=\"\\t\", index_col=0)\n",
    "    curr_params = pd.read_csv(i, index_col=0)\n",
    "    for x in curr_params.index:\n",
    "        curr_df[x] = curr_params.loc[x, \"0\"] \n",
    "    all_scores.append(curr_df)\n",
    "    all_params.append(curr_params)"
   ]
  },
  {
   "cell_type": "code",
   "execution_count": null,
   "id": "12906229",
   "metadata": {},
   "outputs": [],
   "source": [
    "all_scores_df = pd.concat(all_scores, axis=0)\n",
    "all_scores_df"
   ]
  },
  {
   "cell_type": "code",
   "execution_count": 15,
   "id": "79e53de1",
   "metadata": {
    "scrolled": true
   },
   "outputs": [
    {
     "data": {
      "text/html": [
       "<div>\n",
       "<style scoped>\n",
       "    .dataframe tbody tr th:only-of-type {\n",
       "        vertical-align: middle;\n",
       "    }\n",
       "\n",
       "    .dataframe tbody tr th {\n",
       "        vertical-align: top;\n",
       "    }\n",
       "\n",
       "    .dataframe thead th {\n",
       "        text-align: right;\n",
       "    }\n",
       "</style>\n",
       "<table border=\"1\" class=\"dataframe\">\n",
       "  <thead>\n",
       "    <tr style=\"text-align: right;\">\n",
       "      <th></th>\n",
       "      <th>total cells</th>\n",
       "      <th>nclones</th>\n",
       "      <th>mean cells</th>\n",
       "      <th>median cells</th>\n",
       "      <th>max cells</th>\n",
       "      <th>std</th>\n",
       "      <th>cv</th>\n",
       "      <th>barcodes</th>\n",
       "    </tr>\n",
       "  </thead>\n",
       "  <tbody>\n",
       "    <tr>\n",
       "      <th>0</th>\n",
       "      <td>387.0</td>\n",
       "      <td>39.0</td>\n",
       "      <td>9.923077</td>\n",
       "      <td>4.0</td>\n",
       "      <td>162.0</td>\n",
       "      <td>25.760419</td>\n",
       "      <td>2.596011</td>\n",
       "      <td>57.0</td>\n",
       "    </tr>\n",
       "  </tbody>\n",
       "</table>\n",
       "</div>"
      ],
      "text/plain": [
       "   total cells  nclones  mean cells  median cells  max cells        std  \\\n",
       "0        387.0     39.0    9.923077           4.0      162.0  25.760419   \n",
       "\n",
       "         cv  barcodes  \n",
       "0  2.596011      57.0  "
      ]
     },
     "execution_count": 15,
     "metadata": {},
     "output_type": "execute_result"
    }
   ],
   "source": [
    "# clones = pd.read_csv(cells, sep=\"\\t\")\n",
    "# df = pd.read_csv(af, sep=\"\\t\", index_col=0)\n",
    "\n",
    "# clone_sizes = clones.groupby(\"lineage\").size()\n",
    "# metrics = clone_sizes.describe().rename({\"count\": \"nclones\",\"50%\":\"median cells\", \n",
    "#                                          \"max\":\"max cells\", \"mean\":\"mean cells\"})\n",
    "# metrics[\"cv\"] = metrics[\"std\"]/metrics[\"mean cells\"]\n",
    "\n",
    "# # get n-barcodes by calculating mean\n",
    "# df = df.loc[clones[\"ID\"]]\n",
    "\n",
    "# mean_vars = clones.groupby(\"lineage\").apply(lambda x: df.loc[df.index.isin(x[\"ID\"])].mean())\n",
    "# mean_vars\n",
    "# metrics[\"barcodes\"] = (mean_vars>0.01).any().sum()\n",
    "# metrics[\"total cells\"] = clones.shape[0]\n",
    "# pd.DataFrame(metrics).transpose()[[\"total cells\", \"nclones\", \"mean cells\", \"median cells\",\n",
    "#                                   \"max cells\", \"std\", \"cv\", \"barcodes\"]] #.to_csv(out_f)"
   ]
  }
 ],
 "metadata": {
  "kernelspec": {
   "display_name": "Python 3 (ipykernel)",
   "language": "python",
   "name": "python3"
  },
  "language_info": {
   "codemirror_mode": {
    "name": "ipython",
    "version": 3
   },
   "file_extension": ".py",
   "mimetype": "text/x-python",
   "name": "python",
   "nbconvert_exporter": "python",
   "pygments_lexer": "ipython3",
   "version": "3.7.12"
  }
 },
 "nbformat": 4,
 "nbformat_minor": 5
}
