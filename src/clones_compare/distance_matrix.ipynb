{
 "cells": [
  {
   "cell_type": "code",
   "execution_count": 1,
   "id": "b6a710b1",
   "metadata": {
    "scrolled": false
   },
   "outputs": [
    {
     "name": "stdout",
     "output_type": "stream",
     "text": [
      "INFO: Pandarallel will run on 20 workers.\n",
      "INFO: Pandarallel will use Memory file system to transfer data between the main process and workers.\n"
     ]
    }
   ],
   "source": [
    "import numpy as np\n",
    "from glob import glob\n",
    "import itertools\n",
    "import numpy as np\n",
    "from pandarallel import pandarallel\n",
    "pandarallel.initialize(nb_workers=20)\n",
    "\n",
    "\n",
    "import matplotlib.pyplot as plt\n",
    "import seaborn as sns\n",
    "from src.utils.parse_config import read_config_file\n",
    "\n",
    "from os.path import join\n",
    "import os\n",
    "import pandas as pd"
   ]
  },
  {
   "cell_type": "code",
   "execution_count": 7,
   "id": "752c9624",
   "metadata": {},
   "outputs": [],
   "source": [
    "%load_ext autoreload\n",
    "%autoreload 2\n",
    "from src.files import create_single_files\n"
   ]
  },
  {
   "cell_type": "code",
   "execution_count": 2,
   "id": "52579a5a",
   "metadata": {
    "tags": [
     "parameters"
    ]
   },
   "outputs": [],
   "source": [
    "# prefix = \"v02/CHIP_b1/MTBlacklist_A2\"\n",
    "# params_f = \"/data/Mito_Trace/parameters/pipeline/pipeline_v02.yaml\"\n",
    "# cfg_outdir = \"/data/Mito_Trace/output\"\n",
    "# outdir = \"/data/Mito_Trace/output/pipeline/v02/CHIP_b1/MTBlacklist_A2/data/merged/MT/cellr_True/numread_200/filters/minC10_minR50_topN0_hetT0.001_hetC10_hetCount5_bq20/mgatk/vireoIn/clones/comparisons\"\n",
    "# all_files = \"/data/Mito_Trace/output/pipeline/v02/CHIP_b1/MTBlacklist_A2/data/merged/MT/cellr_True/numread_200/filters/minC10_minR50_topN0_hetT0.001_hetC10_hetCount5_bq20/mgatk/vireoIn/clones/variants_mgatkdonor/knn/kparam_3/cells_meta.tsv,/data/Mito_Trace/output/pipeline/v02/CHIP_b1/MTBlacklist_A2/data/merged/MT/cellr_True/numread_200/filters/minC10_minR50_topN0_hetT0.001_hetC10_hetCount5_bq20/mgatk/vireoIn/clones/variants_mgatkdonor/knn/kparam_75/cells_meta.tsv,/data/Mito_Trace/output/pipeline/v02/CHIP_b1/MTBlacklist_A2/data/merged/MT/cellr_True/numread_200/filters/minC10_minR50_topN0_hetT0.001_hetC10_hetCount5_bq20/mgatk/vireoIn/clones/variants_init/knn/kparam_3/cells_meta.tsv,/data/Mito_Trace/output/pipeline/v02/CHIP_b1/MTBlacklist_A2/data/merged/MT/cellr_True/numread_200/filters/minC10_minR50_topN0_hetT0.001_hetC10_hetCount5_bq20/mgatk/vireoIn/clones/variants_init/knn/kparam_75/cells_meta.tsv,/data/Mito_Trace/output/pipeline/v02/CHIP_b1/MTBlacklist_A2/data/merged/MT/cellr_True/numread_200/filters/minC10_minR50_topN0_hetT0.001_hetC10_hetCount5_bq20/mgatk/vireoIn/clones/variants_simpleUnion/knn/kparam_3/cells_meta.tsv,/data/Mito_Trace/output/pipeline/v02/CHIP_b1/MTBlacklist_A2/data/merged/MT/cellr_True/numread_200/filters/minC10_minR50_topN0_hetT0.001_hetC10_hetCount5_bq20/mgatk/vireoIn/clones/variants_simpleUnion/knn/kparam_75/cells_meta.tsv\" \n",
    "\n",
    "exclude = [{\"variants\":\"simple\", \n",
    "           \"method\": \"knn\"}]\n",
    "\n",
    "all_files = \"/data/Mito_Trace/output/pipeline/v02/CHIP_b2/InputOnly/MTBlacklist_A2/data/merged/MT/cellr_True/numread_200/filters/minC10_minR50_topN0_hetT0.001_hetC10_hetCount5_bq20/mgatk/vireoIn/clones/variants_init/knn/kparam_3/cells_meta.tsv,/data/Mito_Trace/output/pipeline/v02/CHIP_b2/InputOnly/MTBlacklist_A2/data/merged/MT/cellr_True/numread_200/filters/minC10_minR50_topN0_hetT0.001_hetC10_hetCount5_bq20/mgatk/vireoIn/clones/variants_init/knn/kparam_30/cells_meta.tsv,/data/Mito_Trace/output/pipeline/v02/CHIP_b2/InputOnly/MTBlacklist_A2/data/merged/MT/cellr_True/numread_200/filters/minC10_minR50_topN0_hetT0.001_hetC10_hetCount5_bq20/mgatk/vireoIn/clones/variants_init/knn/kparam_50/cells_meta.tsv,/data/Mito_Trace/output/pipeline/v02/CHIP_b2/InputOnly/MTBlacklist_A2/data/merged/MT/cellr_True/numread_200/filters/minC10_minR50_topN0_hetT0.001_hetC10_hetCount5_bq20/mgatk/vireoIn/clones/variants_simpleUnion/knn/kparam_3/cells_meta.tsv,/data/Mito_Trace/output/pipeline/v02/CHIP_b2/InputOnly/MTBlacklist_A2/data/merged/MT/cellr_True/numread_200/filters/minC10_minR50_topN0_hetT0.001_hetC10_hetCount5_bq20/mgatk/vireoIn/clones/variants_simpleUnion/knn/kparam_30/cells_meta.tsv,/data/Mito_Trace/output/pipeline/v02/CHIP_b2/InputOnly/MTBlacklist_A2/data/merged/MT/cellr_True/numread_200/filters/minC10_minR50_topN0_hetT0.001_hetC10_hetCount5_bq20/mgatk/vireoIn/clones/variants_simpleUnion/knn/kparam_50/cells_meta.tsv\"\n",
    "outdir = \"/data/Mito_Trace/output/pipeline/v02/CHIP_b2/InputOnly/MTBlacklist_A2/data/merged/MT/cellr_True/numread_200/filters/minC10_minR50_topN0_hetT0.001_hetC10_hetCount5_bq20/mgatk/vireoIn/clones/comparisons\"\n",
    "cfg_outdir = \"/data/Mito_Trace/output\"\n",
    "prefix = \"v02/CHIP_b2/InputOnly/MTBlacklist_A2\"\n",
    "params_f = \"/data/Mito_Trace/parameters/pipeline/pipeline_v02_chip.yaml\""
   ]
  },
  {
   "cell_type": "code",
   "execution_count": 3,
   "id": "e4c9b0be",
   "metadata": {},
   "outputs": [],
   "source": [
    "all_files = all_files.split(\",\")"
   ]
  },
  {
   "cell_type": "code",
   "execution_count": 4,
   "id": "412f4337",
   "metadata": {},
   "outputs": [
    {
     "data": {
      "text/plain": [
       "['/data/Mito_Trace/output/pipeline/v02/CHIP_b2/InputOnly/MTBlacklist_A2/data/merged/MT/cellr_True/numread_200/filters/minC10_minR50_topN0_hetT0.001_hetC10_hetCount5_bq20/mgatk/vireoIn/clones/variants_init/knn/kparam_3/cells_meta.tsv',\n",
       " '/data/Mito_Trace/output/pipeline/v02/CHIP_b2/InputOnly/MTBlacklist_A2/data/merged/MT/cellr_True/numread_200/filters/minC10_minR50_topN0_hetT0.001_hetC10_hetCount5_bq20/mgatk/vireoIn/clones/variants_init/knn/kparam_30/cells_meta.tsv',\n",
       " '/data/Mito_Trace/output/pipeline/v02/CHIP_b2/InputOnly/MTBlacklist_A2/data/merged/MT/cellr_True/numread_200/filters/minC10_minR50_topN0_hetT0.001_hetC10_hetCount5_bq20/mgatk/vireoIn/clones/variants_init/knn/kparam_50/cells_meta.tsv',\n",
       " '/data/Mito_Trace/output/pipeline/v02/CHIP_b2/InputOnly/MTBlacklist_A2/data/merged/MT/cellr_True/numread_200/filters/minC10_minR50_topN0_hetT0.001_hetC10_hetCount5_bq20/mgatk/vireoIn/clones/variants_simpleUnion/knn/kparam_3/cells_meta.tsv',\n",
       " '/data/Mito_Trace/output/pipeline/v02/CHIP_b2/InputOnly/MTBlacklist_A2/data/merged/MT/cellr_True/numread_200/filters/minC10_minR50_topN0_hetT0.001_hetC10_hetCount5_bq20/mgatk/vireoIn/clones/variants_simpleUnion/knn/kparam_30/cells_meta.tsv',\n",
       " '/data/Mito_Trace/output/pipeline/v02/CHIP_b2/InputOnly/MTBlacklist_A2/data/merged/MT/cellr_True/numread_200/filters/minC10_minR50_topN0_hetT0.001_hetC10_hetCount5_bq20/mgatk/vireoIn/clones/variants_simpleUnion/knn/kparam_50/cells_meta.tsv']"
      ]
     },
     "execution_count": 4,
     "metadata": {},
     "output_type": "execute_result"
    }
   ],
   "source": [
    "all_files"
   ]
  },
  {
   "cell_type": "code",
   "execution_count": null,
   "id": "db8c6294",
   "metadata": {},
   "outputs": [],
   "source": [
    "if len(all_files) == 0:\n",
    "    raise ValueError(\"No files\")\n",
    "elif len(all_files) == 1: \n",
    "    print(\"Only one method used. Not running comparison\")"
   ]
  },
  {
   "cell_type": "code",
   "execution_count": 5,
   "id": "fccb4c35",
   "metadata": {
    "scrolled": true
   },
   "outputs": [
    {
     "data": {
      "text/plain": [
       "{'main': ['mtscATAC',\n",
       "  'mtpreproc',\n",
       "  'multiplex',\n",
       "  'clones',\n",
       "  'enrichment',\n",
       "  'DE',\n",
       "  'annotation_clones'],\n",
       " 'cellranger_path': '/data2/resources/software/cellranger_6_1_1/cellranger-6.1.1/',\n",
       " 'samtools_path': '/data2/resources/software/cellranger_6_1_1/cellranger-6.1.1/external/anaconda/bin',\n",
       " 'annotation_granges': '/mnt/md0/isshamie/Projects/Mito_Trace/data/processed/annotation_granges/',\n",
       " 'genome_path': {'MTBlacklist': {'genome_dir': 'data/external/GRCh38_MT_blacklist/',\n",
       "   'ref_fa': 'data/external/GRCh38_1.2.0/refdata-cellranger-atac-GRCh38-1.2.0/fasta/genome.fa',\n",
       "   'mt_ref_fa': 'data/external/GRCh38_1.2.0/refdata-cellranger-atac-GRCh38-1.2.0/chrM.fasta',\n",
       "   'gene_file': 'data/external/GRCh38_1.2.0/refdata-cellranger-atac-GRCh38-1.2.0/genes/genes.gtf',\n",
       "   'gff': 'hg38_1_2'},\n",
       "  'MTblacklist_mtasnucl': {'genome_dir': 'data/external/GRCh38_MT_blacklist/',\n",
       "   'ref_fa': 'data/external/GRCh38_1.2.0/refdata-cellranger-atac-GRCh38-1.2.0/fasta/genome.fa',\n",
       "   'mt_ref_fa': 'data/external/GRCh38_1.2.0/refdata-cellranger-atac-GRCh38-1.2.0/chrM.fasta',\n",
       "   'gene_file': 'data/external/GRCh38_1.2.0/refdata-cellranger-atac-GRCh38-1.2.0',\n",
       "   'gff': 'hg38_1_2'},\n",
       "  'MTBlacklist_A2': {'genome_dir': 'data/processed/genomes/mtMasked/GRCh38_MT_blacklist_A2_2020/',\n",
       "   'ref_fa': 'data/processed/genomes/mtMasked/GRCh38_MT_blacklist_A2_2020/fasta/genome.fa',\n",
       "   'mt_ref_fa': 'data/processed/genomes/mtMasked/GRCh38_MT_blacklist_A2_2020/chrM.fasta',\n",
       "   'gene_file': 'data/processed/genomes/mtMasked/GRCh38_MT_blacklist_A2_2020/genes/genes.gtf',\n",
       "   'gene_sorted_file': 'data/processed/genomes/mtMasked/GRCh38_MT_blacklist_A2_2020/genes/genes.sorted.gtf.bgz',\n",
       "   'gff': 'A2_black'}},\n",
       " 'mtpreproc': {'version': 2,\n",
       "  'params': {'cellrbc': [True], 'numreadsfilter': [200], 'basequality': [20]},\n",
       "  'mito_character': 'chrM',\n",
       "  'maxBP': 16571},\n",
       " 'filters': {'params': {'mincells': [10],\n",
       "   'minreads': [50],\n",
       "   'topN': [0],\n",
       "   'hetthresh': [0.001],\n",
       "   'minhetcells': [10],\n",
       "   'hetcountthresh': [5],\n",
       "   'bqthresh': [20]}},\n",
       " 'mgatk': {'params': {'lowcovthresh': [2], 'ncellsthresh': [5]},\n",
       "  'chrM_refAllele': 'data/external/chrM_refAllele.txt'},\n",
       " 'multiplex': {'pseudo_multiplex': {'num_cells': 100000,\n",
       "   'is_proportional': False},\n",
       "  'genome_size': 'data/external/GRCh38_MT_blacklist/fasta/genome.chrom.size',\n",
       "  'mt': {'minMAF': [0.01], 'minCOUNT': [200]}},\n",
       " 'clones': {'variants': ['init', 'simpleUnion'],\n",
       "  'method': ['knn'],\n",
       "  'vireo': {'params': {'nclonelist': [20]}},\n",
       "  'phylogeny': {'params': {'method': 'missingV',\n",
       "    'afthresh': 0,\n",
       "    'dpthresh': 2}},\n",
       "  'knn': {'params': {'resolution': [3, 30, 50]}},\n",
       "  'params': {'dendro_thresh': 0.6}},\n",
       " 'som_vars': {'mutect': {'params': {'min_af': [0.05],\n",
       "    'mid_af': [0.45],\n",
       "    'min_ad': [10],\n",
       "    'min_dp': [50],\n",
       "    'qual': [25]}}},\n",
       " 'annotations': {'datadir': 'data/external/granja_cd34/',\n",
       "  'ID': 'GSE129785_scATAC-Hematopoiesis-CD34',\n",
       "  'name': 'granja_cd34',\n",
       "  'version': 'v02',\n",
       "  'method': ['lareau', 'anchors'],\n",
       "  'lareau': {'proj_ref': 'sample'},\n",
       "  'anchors': {'assay': ['RNA', 'ATAC']}},\n",
       " 'annotation_clones': {'params': {'cdf_thresh': [0.3],\n",
       "   'min_pct': [0.01],\n",
       "   'btwnMinpct': [0],\n",
       "   'logfc_threshold': [0.1],\n",
       "   'p_thresh': [0.1],\n",
       "   'assay': ['RNA'],\n",
       "   'betweenClust_pval_thresh': [0.1],\n",
       "   'betweenCond_pval_thresh': [0.1],\n",
       "   'gsea_pval': [0.1],\n",
       "   'prefilter': ['FALSE'],\n",
       "   'stat_col': ['log2FoldChange'],\n",
       "   'padjmethod': ['BH'],\n",
       "   'min_cells': [1],\n",
       "   'hyperMinCl': [10],\n",
       "   'bothConds': [False],\n",
       "   't': [0.1, 0.01],\n",
       "   'rt': [10],\n",
       "   'clone_sizes_min_cell': 10}},\n",
       " 'de_clones_change': {'params': {'filt': ['fisher'],\n",
       "   'pthresh': [0.01],\n",
       "   'use_p_adjust': [True],\n",
       "   'min_cell': [1],\n",
       "   'min_cell_both': [0],\n",
       "   'shuffle': [True],\n",
       "   'min_pct': [0.1],\n",
       "   'logfc_threshold': [0],\n",
       "   'p_thresh': [0.1],\n",
       "   'gsea_pval': [0.1],\n",
       "   'prefilter': ['FALSE'],\n",
       "   'stat_col': ['log2FoldChange'],\n",
       "   'padjmethod': ['BH']}},\n",
       " 'clone_clust_embed': {'params': {'perplexity': [30, 50],\n",
       "   'donor_perplexity': [10]}},\n",
       " 'mt_as_clones': {'params': {'af_ts': [0.01, 0.1, 0.4, 0.8],\n",
       "   'oth_af_ts': [0.01, 0.1, 0.4],\n",
       "   'cov_ts': [2, 10, 30],\n",
       "   'oth_cov_ts': [2, 10, 30],\n",
       "   'num_cells': [5, 10, 30],\n",
       "   'oth_num_cells': [0.25, 0.6, 0.8],\n",
       "   'mean_pos_cov': [0, 10]},\n",
       "  'best_params': {'af': 0.1,\n",
       "   'oth_af': 0.1,\n",
       "   'cov': 10,\n",
       "   'oth_cov': 10,\n",
       "   'num_cells': 10,\n",
       "   'oth_num_cells': 0.25,\n",
       "   'mean_pos_cov': 0}}}"
      ]
     },
     "execution_count": 5,
     "metadata": {},
     "output_type": "execute_result"
    }
   ],
   "source": [
    "params = read_config_file(params_f)\n",
    "params"
   ]
  },
  {
   "cell_type": "code",
   "execution_count": 6,
   "id": "9d577f8b",
   "metadata": {
    "scrolled": false
   },
   "outputs": [],
   "source": [
    "# cfg = read_config_file(cfg_f)\n",
    "# cfg\n",
    "\n",
    "# params[\"prefix\"] = cfg[\"prefix\"]\n",
    "# params[\"outdir\"] = cfg[\"outdir\"]\n",
    "\n",
    "params[\"prefix\"] = prefix\n",
    "params[\"outdir\"] = cfg_outdir"
   ]
  },
  {
   "cell_type": "code",
   "execution_count": 9,
   "id": "fda633e9",
   "metadata": {},
   "outputs": [
    {
     "data": {
      "text/plain": [
       "{'main': ['mtscATAC',\n",
       "  'mtpreproc',\n",
       "  'multiplex',\n",
       "  'clones',\n",
       "  'enrichment',\n",
       "  'DE',\n",
       "  'annotation_clones'],\n",
       " 'cellranger_path': '/data2/resources/software/cellranger_6_1_1/cellranger-6.1.1/',\n",
       " 'samtools_path': '/data2/resources/software/cellranger_6_1_1/cellranger-6.1.1/external/anaconda/bin',\n",
       " 'annotation_granges': '/mnt/md0/isshamie/Projects/Mito_Trace/data/processed/annotation_granges/',\n",
       " 'genome_path': {'MTBlacklist': {'genome_dir': 'data/external/GRCh38_MT_blacklist/',\n",
       "   'ref_fa': 'data/external/GRCh38_1.2.0/refdata-cellranger-atac-GRCh38-1.2.0/fasta/genome.fa',\n",
       "   'mt_ref_fa': 'data/external/GRCh38_1.2.0/refdata-cellranger-atac-GRCh38-1.2.0/chrM.fasta',\n",
       "   'gene_file': 'data/external/GRCh38_1.2.0/refdata-cellranger-atac-GRCh38-1.2.0/genes/genes.gtf',\n",
       "   'gff': 'hg38_1_2'},\n",
       "  'MTblacklist_mtasnucl': {'genome_dir': 'data/external/GRCh38_MT_blacklist/',\n",
       "   'ref_fa': 'data/external/GRCh38_1.2.0/refdata-cellranger-atac-GRCh38-1.2.0/fasta/genome.fa',\n",
       "   'mt_ref_fa': 'data/external/GRCh38_1.2.0/refdata-cellranger-atac-GRCh38-1.2.0/chrM.fasta',\n",
       "   'gene_file': 'data/external/GRCh38_1.2.0/refdata-cellranger-atac-GRCh38-1.2.0',\n",
       "   'gff': 'hg38_1_2'},\n",
       "  'MTBlacklist_A2': {'genome_dir': 'data/processed/genomes/mtMasked/GRCh38_MT_blacklist_A2_2020/',\n",
       "   'ref_fa': 'data/processed/genomes/mtMasked/GRCh38_MT_blacklist_A2_2020/fasta/genome.fa',\n",
       "   'mt_ref_fa': 'data/processed/genomes/mtMasked/GRCh38_MT_blacklist_A2_2020/chrM.fasta',\n",
       "   'gene_file': 'data/processed/genomes/mtMasked/GRCh38_MT_blacklist_A2_2020/genes/genes.gtf',\n",
       "   'gene_sorted_file': 'data/processed/genomes/mtMasked/GRCh38_MT_blacklist_A2_2020/genes/genes.sorted.gtf.bgz',\n",
       "   'gff': 'A2_black'}},\n",
       " 'mtpreproc': {'version': 2,\n",
       "  'params': {'cellrbc': [True], 'numreadsfilter': [200], 'basequality': [20]},\n",
       "  'mito_character': 'chrM',\n",
       "  'maxBP': 16571},\n",
       " 'filters': {'params': {'mincells': [10],\n",
       "   'minreads': [50],\n",
       "   'topN': [0],\n",
       "   'hetthresh': [0.001],\n",
       "   'minhetcells': [10],\n",
       "   'hetcountthresh': [5],\n",
       "   'bqthresh': [20]}},\n",
       " 'mgatk': {'params': {'lowcovthresh': [2], 'ncellsthresh': [5]},\n",
       "  'chrM_refAllele': 'data/external/chrM_refAllele.txt'},\n",
       " 'multiplex': {'pseudo_multiplex': {'num_cells': 100000,\n",
       "   'is_proportional': False},\n",
       "  'genome_size': 'data/external/GRCh38_MT_blacklist/fasta/genome.chrom.size',\n",
       "  'mt': {'minMAF': [0.01], 'minCOUNT': [200]}},\n",
       " 'clones': {'variants': ['init', 'simpleUnion'],\n",
       "  'method': ['knn'],\n",
       "  'vireo': {'params': {'nclonelist': [20]}},\n",
       "  'phylogeny': {'params': {'method': 'missingV',\n",
       "    'afthresh': 0,\n",
       "    'dpthresh': 2}},\n",
       "  'knn': {'params': {'resolution': [3, 30, 50]}},\n",
       "  'params': {'dendro_thresh': 0.6}},\n",
       " 'som_vars': {'mutect': {'params': {'min_af': [0.05],\n",
       "    'mid_af': [0.45],\n",
       "    'min_ad': [10],\n",
       "    'min_dp': [50],\n",
       "    'qual': [25]}}},\n",
       " 'annotations': {'datadir': 'data/external/granja_cd34/',\n",
       "  'ID': 'GSE129785_scATAC-Hematopoiesis-CD34',\n",
       "  'name': 'granja_cd34',\n",
       "  'version': 'v02',\n",
       "  'method': ['lareau', 'anchors'],\n",
       "  'lareau': {'proj_ref': 'sample'},\n",
       "  'anchors': {'assay': ['RNA', 'ATAC']}},\n",
       " 'annotation_clones': {'params': {'cdf_thresh': [0.3],\n",
       "   'min_pct': [0.01],\n",
       "   'btwnMinpct': [0],\n",
       "   'logfc_threshold': [0.1],\n",
       "   'p_thresh': [0.1],\n",
       "   'assay': ['RNA'],\n",
       "   'betweenClust_pval_thresh': [0.1],\n",
       "   'betweenCond_pval_thresh': [0.1],\n",
       "   'gsea_pval': [0.1],\n",
       "   'prefilter': ['FALSE'],\n",
       "   'stat_col': ['log2FoldChange'],\n",
       "   'padjmethod': ['BH'],\n",
       "   'min_cells': [1],\n",
       "   'hyperMinCl': [10],\n",
       "   'bothConds': [False],\n",
       "   't': [0.1, 0.01],\n",
       "   'rt': [10],\n",
       "   'clone_sizes_min_cell': 10}},\n",
       " 'de_clones_change': {'params': {'filt': ['fisher'],\n",
       "   'pthresh': [0.01],\n",
       "   'use_p_adjust': [True],\n",
       "   'min_cell': [1],\n",
       "   'min_cell_both': [0],\n",
       "   'shuffle': [True],\n",
       "   'min_pct': [0.1],\n",
       "   'logfc_threshold': [0],\n",
       "   'p_thresh': [0.1],\n",
       "   'gsea_pval': [0.1],\n",
       "   'prefilter': ['FALSE'],\n",
       "   'stat_col': ['log2FoldChange'],\n",
       "   'padjmethod': ['BH']}},\n",
       " 'clone_clust_embed': {'params': {'perplexity': [30, 50],\n",
       "   'donor_perplexity': [10]}},\n",
       " 'mt_as_clones': {'params': {'af_ts': [0.01, 0.1, 0.4, 0.8],\n",
       "   'oth_af_ts': [0.01, 0.1, 0.4],\n",
       "   'cov_ts': [2, 10, 30],\n",
       "   'oth_cov_ts': [2, 10, 30],\n",
       "   'num_cells': [5, 10, 30],\n",
       "   'oth_num_cells': [0.25, 0.6, 0.8],\n",
       "   'mean_pos_cov': [0, 10]},\n",
       "  'best_params': {'af': 0.1,\n",
       "   'oth_af': 0.1,\n",
       "   'cov': 10,\n",
       "   'oth_cov': 10,\n",
       "   'num_cells': 10,\n",
       "   'oth_num_cells': 0.25,\n",
       "   'mean_pos_cov': 0}},\n",
       " 'prefix': 'v02/CHIP_b2/InputOnly/MTBlacklist_A2',\n",
       " 'outdir': '/data/Mito_Trace/output'}"
      ]
     },
     "execution_count": 9,
     "metadata": {},
     "output_type": "execute_result"
    }
   ],
   "source": [
    "params"
   ]
  },
  {
   "cell_type": "code",
   "execution_count": 11,
   "id": "5409c35a",
   "metadata": {
    "scrolled": true
   },
   "outputs": [
    {
     "name": "stdout",
     "output_type": "stream",
     "text": [
      "[10]\n",
      "[50]\n",
      "[0]\n",
      "[0.001]\n",
      "[10]\n",
      "[5]\n",
      "[20]\n",
      "[True]\n",
      "[200]\n",
      "[20]\n",
      "[2]\n",
      "[5]\n",
      "['knn']\n",
      "['init', 'simpleUnion']\n",
      "[3, 30, 50]\n",
      "[0.3]\n",
      "[0.01]\n",
      "[0]\n",
      "[0.1]\n",
      "[0.1]\n",
      "['RNA']\n",
      "[0.1]\n",
      "[0.1]\n",
      "[0.1]\n",
      "['FALSE']\n",
      "['log2FoldChange']\n",
      "['BH']\n",
      "[1]\n",
      "[10]\n",
      "[False]\n",
      "[0.1, 0.01]\n",
      "[10]\n",
      "10\n"
     ]
    },
    {
     "ename": "TypeError",
     "evalue": "'int' object is not iterable",
     "output_type": "error",
     "traceback": [
      "\u001b[0;31m---------------------------------------------------------------------------\u001b[0m",
      "\u001b[0;31mTypeError\u001b[0m                                 Traceback (most recent call last)",
      "\u001b[0;32m/tmp/ipykernel_2383418/3153216929.py\u001b[0m in \u001b[0;36m<module>\u001b[0;34m\u001b[0m\n\u001b[0;32m----> 1\u001b[0;31m \u001b[0mparams_files\u001b[0m \u001b[0;34m=\u001b[0m \u001b[0mcreate_single_files\u001b[0m\u001b[0;34m(\u001b[0m\u001b[0mparams\u001b[0m\u001b[0;34m,\u001b[0m \u001b[0;34m\"clones\"\u001b[0m\u001b[0;34m)\u001b[0m\u001b[0;34m\u001b[0m\u001b[0;34m\u001b[0m\u001b[0m\n\u001b[0m\u001b[1;32m      2\u001b[0m \u001b[0mparams_files\u001b[0m \u001b[0;34m=\u001b[0m \u001b[0mparams_files\u001b[0m\u001b[0;34m.\u001b[0m\u001b[0mset_index\u001b[0m\u001b[0;34m(\u001b[0m\u001b[0;34m'file'\u001b[0m\u001b[0;34m)\u001b[0m\u001b[0;34m\u001b[0m\u001b[0;34m\u001b[0m\u001b[0m\n\u001b[1;32m      3\u001b[0m \u001b[0;34m\u001b[0m\u001b[0m\n\u001b[1;32m      4\u001b[0m \u001b[0;31m#print(params_files.loc[0, 'file'])\u001b[0m\u001b[0;34m\u001b[0m\u001b[0;34m\u001b[0m\u001b[0;34m\u001b[0m\u001b[0m\n\u001b[1;32m      5\u001b[0m \u001b[0;34m\u001b[0m\u001b[0m\n",
      "\u001b[0;32m/mnt/md0/isshamie/Projects/Mito_Trace/src/files.py\u001b[0m in \u001b[0;36mcreate_single_files\u001b[0;34m(cfg, rule, sample)\u001b[0m\n\u001b[1;32m    105\u001b[0m                 \u001b[0mcol_d\u001b[0m\u001b[0;34m[\u001b[0m\u001b[0mp\u001b[0m\u001b[0;34m]\u001b[0m\u001b[0;34m.\u001b[0m\u001b[0mappend\u001b[0m\u001b[0;34m(\u001b[0m\u001b[0mk\u001b[0m\u001b[0;34m)\u001b[0m\u001b[0;34m\u001b[0m\u001b[0;34m\u001b[0m\u001b[0m\n\u001b[1;32m    106\u001b[0m             \u001b[0mprint\u001b[0m\u001b[0;34m(\u001b[0m\u001b[0mall_p\u001b[0m\u001b[0;34m[\u001b[0m\u001b[0mp\u001b[0m\u001b[0;34m]\u001b[0m\u001b[0;34m[\u001b[0m\u001b[0mk\u001b[0m\u001b[0;34m]\u001b[0m\u001b[0;34m)\u001b[0m\u001b[0;34m\u001b[0m\u001b[0;34m\u001b[0m\u001b[0m\n\u001b[0;32m--> 107\u001b[0;31m             \u001b[0mcol_vals\u001b[0m\u001b[0;34m.\u001b[0m\u001b[0mappend\u001b[0m\u001b[0;34m(\u001b[0m\u001b[0mtuple\u001b[0m\u001b[0;34m(\u001b[0m\u001b[0mall_p\u001b[0m\u001b[0;34m[\u001b[0m\u001b[0mp\u001b[0m\u001b[0;34m]\u001b[0m\u001b[0;34m[\u001b[0m\u001b[0mk\u001b[0m\u001b[0;34m]\u001b[0m\u001b[0;34m)\u001b[0m\u001b[0;34m)\u001b[0m\u001b[0;34m\u001b[0m\u001b[0;34m\u001b[0m\u001b[0m\n\u001b[0m\u001b[1;32m    108\u001b[0m     \u001b[0mprint\u001b[0m\u001b[0;34m(\u001b[0m\u001b[0;34m'cols'\u001b[0m\u001b[0;34m,\u001b[0m \u001b[0mcols\u001b[0m\u001b[0;34m)\u001b[0m\u001b[0;34m\u001b[0m\u001b[0;34m\u001b[0m\u001b[0m\n\u001b[1;32m    109\u001b[0m     \u001b[0mprint\u001b[0m\u001b[0;34m(\u001b[0m\u001b[0;34m'col_vals'\u001b[0m\u001b[0;34m,\u001b[0m \u001b[0mcol_vals\u001b[0m\u001b[0;34m)\u001b[0m\u001b[0;34m\u001b[0m\u001b[0;34m\u001b[0m\u001b[0m\n",
      "\u001b[0;31mTypeError\u001b[0m: 'int' object is not iterable"
     ]
    }
   ],
   "source": [
    "params_files = create_single_files(params, \"clones\")\n",
    "params_files = params_files.set_index('file')\n",
    "\n",
    "#print(params_files.loc[0, 'file'])\n",
    "\n",
    "params_files.iloc[0]"
   ]
  },
  {
   "cell_type": "code",
   "execution_count": null,
   "id": "ab1dfe4c",
   "metadata": {
    "scrolled": true
   },
   "outputs": [],
   "source": [
    "curr = params_files.copy()\n",
    "print('len curr', curr.shape)\n",
    "\n",
    "inds_to_drop = []\n",
    "for ex_params in exclude:\n",
    "    print(ex_params)\n",
    "    for k in ex_params:\n",
    "        print('k', k)\n",
    "        print('ex_params', ex_params[k])\n",
    "        curr = curr[curr[k] == ex_params[k]]\n",
    "        print('len curr', curr.shape)\n",
    "    inds_to_drop += (list(curr.index))\n",
    "    \n",
    "params_files = params_files.copy().loc[(~params_files.index.isin(inds_to_drop))]\n",
    "print('len params_files', params_files.shape)"
   ]
  },
  {
   "cell_type": "code",
   "execution_count": null,
   "id": "266a9ba9",
   "metadata": {
    "scrolled": true
   },
   "outputs": [],
   "source": [
    "params_files.reset_index()"
   ]
  },
  {
   "cell_type": "code",
   "execution_count": null,
   "id": "9684ae60",
   "metadata": {
    "scrolled": false
   },
   "outputs": [],
   "source": [
    "#names = names.split(\" \")\n",
    "#all_methods = []\n",
    "all_methods_df = pd.read_csv(all_files[0], sep='\\t').set_index(\"ID\")\n",
    "\n",
    "curr_out = (join(outdir, all_files[0]))#.replace(\"/\", \"_\")\n",
    "all_outs = [curr_out]\n",
    "all_methods_df[curr_out] = all_methods_df[\"lineage\"]\n",
    "all_methods_df = all_methods_df[[\"condition\", \"donor\", curr_out] ]\n",
    "\n",
    "for ind, i in enumerate(all_files[1:]):\n",
    "    print(i)\n",
    "    curr_out = (join(outdir, i))#.replace(\"/\", \"_\") #names[ind])\n",
    "    curr_df = pd.read_csv(i, sep='\\t').set_index(\"ID\")\n",
    "    curr_df[curr_out] = curr_df[\"lineage\"]\n",
    "    print('Number duplicated', curr_df.index.duplicated().sum())\n",
    "\n",
    "    all_outs.append(curr_out)\n",
    "    all_methods_df = pd.merge(all_methods_df, curr_df[~(curr_df.duplicated())][[curr_out]], \n",
    "                              left_index=True, right_index=True,how='outer')\n",
    "    all_methods_df = all_methods_df[[\"condition\", \"donor\"]+all_outs]\n",
    "   # print('all_methods_df')\n",
    "  #  print(all_methods_df.head())\n",
    "    #all_methods.append(curr_df) #[curr_out] = curr_df\n",
    "\n",
    "print('Number duplicated')\n",
    "print(all_methods_df.duplicated().sum())\n",
    "all_methods_df = all_methods_df[~(all_methods_df.duplicated())]\n",
    "print(all_methods_df.duplicated().sum())\n"
   ]
  },
  {
   "cell_type": "code",
   "execution_count": null,
   "id": "81829aa3",
   "metadata": {
    "scrolled": true
   },
   "outputs": [],
   "source": [
    "all_methods_df.head()"
   ]
  },
  {
   "cell_type": "markdown",
   "id": "d20d3a7f",
   "metadata": {},
   "source": [
    "## Create cell-pair vector\n",
    "keys: \n",
    "- 0: Not same clone \n",
    "- 1: In same clone\n",
    "- -1: Both are NA\n",
    "- -2: One is NA\n"
   ]
  },
  {
   "cell_type": "code",
   "execution_count": null,
   "id": "17ce7d0c",
   "metadata": {},
   "outputs": [],
   "source": [
    "def calc_cell_pairs(cell_ser, clones_series):\n",
    "    curr_id = cell_ser.name\n",
    "    print('curr_id', curr_id)\n",
    "    print('clones_series', clones_series.head())\n",
    "    curr_clone = clones_series.loc[curr_id]\n",
    "    print('curr_clone', curr_clone)\n",
    "    if np.isnan(curr_clone):\n",
    "        cell_ser.loc[:] == -1\n",
    "        cell_ser.loc[clones_series.loc[clones_series.isnull()].index] = -2\n",
    "    else:\n",
    "        cell_ser.loc[:] = (curr_clone == clones_series.loc[cell_ser.index])\n",
    "        cell_ser.loc[clones_series.loc[clones_series.isnull()].index] = -1\n",
    "    return cell_ser\n",
    "\n"
   ]
  },
  {
   "cell_type": "code",
   "execution_count": null,
   "id": "aad3ae50",
   "metadata": {
    "scrolled": true
   },
   "outputs": [],
   "source": [
    "donor_all_methods_pairs_df = {}\n",
    "for d, curr_methods_df in all_methods_df.groupby(\"donor\"):\n",
    "    print('donor', d)\n",
    "    donor_all_methods_pairs_df[d] = {}\n",
    "    # d = 0\n",
    "    # curr_methods_df = all_methods_df.loc[all_methods_df[\"donor\"]==d]\n",
    "    #curr_donor_all_methods_pairs_df = {}\n",
    "\n",
    "    for i in curr_methods_df.drop([\"condition\", \"donor\"], axis=1).columns:\n",
    "        print('i', i)\n",
    "        cell_pairs_df = pd.DataFrame(index=curr_methods_df.index, columns=curr_methods_df.index)\n",
    "        donor_all_methods_pairs_df[d][i] = cell_pairs_df.apply(calc_cell_pairs, \n",
    "                                                            args=(curr_methods_df[i],), axis=1)\n",
    "\n"
   ]
  },
  {
   "cell_type": "code",
   "execution_count": null,
   "id": "580d52dd",
   "metadata": {},
   "outputs": [],
   "source": [
    "def calc_meth_overlap(meth_a, meth_b, use_na=False):\n",
    "    n_T_T = ((meth_a == True) & (meth_b==True)).values.sum()\n",
    "    n_F_F = ((meth_a == False) & (meth_b==False)).values.sum()\n",
    "    n_F_T = ((meth_a == False) & (meth_b==True)).values.sum()\n",
    "    n_T_F = ((meth_a == True) & (meth_b==False)).values.sum()\n",
    "    \n",
    "    n_nas_mone = ((meth_a == -1) & (meth_b==-1)).values.sum()\n",
    "    n_nas_mtwo = ((meth_a == -2) & (meth_b==-2)).values.sum()\n",
    "    \n",
    "    n_nas_both = ((meth_a < 0) & (meth_b<0)).values.sum()\n",
    "    n_nas_mis = (((meth_a < 0) & (meth_b >= 0)) | ((meth_a >= 0) & (meth_b < 0))).values.sum()\n",
    "    \n",
    "    \n",
    "    n_together = n_T_T + n_F_F + n_F_T + n_T_F\n",
    "    \n",
    "    #out_meth = meth_a == meth_b\n",
    "    \n",
    "    if not use_na:\n",
    "        meth_a = meth_a.drop(meth_a<0)\n",
    "        meth_b = meth_b.drop(meth_b<0)    \n",
    "        \n",
    "        inds = set(meth_a.index).intersection(set(meth_b.index))\n",
    "        meth_a = meth_a.loc[inds]\n",
    "        meth_b = meth_b.loc[inds]\n",
    "    #jaccard(meth_a, meth_b)\n",
    "    n_T_T_norm = n_T_T/(n_T_T+n_T_F+n_F_T) #n_together\n",
    "    n_T_F_norm = n_T_F/n_together\n",
    "    n_F_T_norm = n_F_T/n_together\n",
    "    n_F_F_norm = n_F_F/n_together\n",
    "    return {\"n_T_T\":n_T_T, \"n_F_F\":n_F_F,\n",
    "            \"n_F_T\":n_F_T, \"n_T_F\":n_T_F, \n",
    "            \n",
    "            \"n_T_T_norm\":n_T_T_norm, \"n_F_F_norm\":n_F_F_norm,\n",
    "            \"n_F_T_norm\":n_F_T_norm, \"n_T_F_norm\":n_T_F_norm, \n",
    "            \n",
    "            \"n_nas_mone\":n_nas_mone, \"n_nas_mtwo\":n_nas_mtwo, \n",
    "            \"n_nas_both\":n_nas_both, \"n_nas_mis\":n_nas_mis,\n",
    "            \"n_together\":n_together, \n",
    "            \"n_agree\": n_T_T  +n_F_F\n",
    "           }"
   ]
  },
  {
   "cell_type": "code",
   "execution_count": null,
   "id": "2ab387d2",
   "metadata": {
    "scrolled": true
   },
   "outputs": [],
   "source": [
    "def get_title(fname, params_files):\n",
    "    print('fname', fname)\n",
    "#     pre_ind = fname.find('/')\n",
    "#     print('pre_ind')\n",
    "#     print(pre_ind)\n",
    "#     prefix = fname[:pre_ind]\n",
    "#     print('prefix', prefix)\n",
    "#     curr_file = fname[pre_ind:].replace(\"/concat\", \"\").replace(\"/cells_meta.tsv\", \"\")\n",
    "    curr_file = fname.replace(\"/concat\", \"\").replace(\"/cells_meta.tsv\", \"\")\n",
    "    #print('curr_file', curr_file)\n",
    "    params = params_files.loc[curr_file].iloc[0]\n",
    "    #print('params', params[[\"method\", \"nclonelist\", \"resolution\"]])\n",
    "    if params['method'] == 'knn':\n",
    "        meth_params = params['resolution']\n",
    "    if params['method'] == 'vireo':        \n",
    "        meth_params = params['nclonelist']\n",
    "    return f\"Variants method: {params['variants']}\\n clones method: {params['method']}\\nClones params: {meth_params}\"\n"
   ]
  },
  {
   "cell_type": "code",
   "execution_count": null,
   "id": "e43473e1",
   "metadata": {
    "scrolled": true
   },
   "outputs": [],
   "source": [
    "meth_df = pd.DataFrame(columns=[\"donor\", \"m1\", \"m2\", \"n_agree\", \"n_T_T\", \"n_F_F\", \"n_F_T\", \"n_T_F\", \n",
    "                                \"n_T_T_norm\", \"n_F_F_norm\", \n",
    "                                \"n_F_T_norm\", \"n_T_F_norm\", \"n_nas_mone\", \"n_nas_mtwo\", \n",
    "                                \"n_nas_both\", \"n_nas_mis\", \"n_together\"])\n",
    "\n",
    "for d, curr_methods_df in all_methods_df.groupby(\"donor\"):\n",
    "    print('donor', d)\n",
    "    curr_d_methods = list(donor_all_methods_pairs_df[d].keys())\n",
    "    curr_d_pairs = list(itertools.product(curr_d_methods, repeat=2))\n",
    "    for curr_pair in curr_d_pairs:\n",
    "        if curr_pair[0] == curr_pair[1]:\n",
    "            continue\n",
    "        print(\"curr_pair\")\n",
    "        print(curr_pair[0])\n",
    "        print(curr_pair[1])\n",
    "        a = donor_all_methods_pairs_df[d][curr_pair[0]]\n",
    "        b = donor_all_methods_pairs_df[d][curr_pair[1]]\n",
    "        curr_out = calc_meth_overlap(a,b)\n",
    "        curr_out[\"donor\"] = d\n",
    "        curr_out[\"m1\"] = get_title(curr_pair[0], params_files) #curr_pair[0]\n",
    "        curr_out[\"m2\"] = get_title(curr_pair[1], params_files) #curr_pair[1]\n",
    "        meth_df = meth_df.append(pd.DataFrame(curr_out, index= [f\"d{d}_m1{curr_pair[0]}_m2{curr_pair[1]}\"]))\n",
    "        #meth_df.loc[curr_pair]\n",
    "meth_df[\"n_agree_norm\"] = meth_df[\"n_agree\"]/meth_df[\"n_together\"]"
   ]
  },
  {
   "cell_type": "markdown",
   "id": "f386ea65",
   "metadata": {},
   "source": [
    "## Average over donors"
   ]
  },
  {
   "cell_type": "code",
   "execution_count": null,
   "id": "83045ef5",
   "metadata": {
    "scrolled": true
   },
   "outputs": [],
   "source": [
    "# meth_df = pd.DataFrame(columns=[\"donor\", \"m1\", \"m2\", \"n_agree\", \"n_T_T\", \"n_F_F\", \"n_F_T\", \"n_T_F\", \n",
    "#                                 \"n_T_T_norm\", \"n_F_F_norm\", \n",
    "#                                 \"n_F_T_norm\", \"n_T_F_norm\", \"n_nas_mone\", \"n_nas_mtwo\", \n",
    "#                                 \"n_nas_both\", \"n_nas_mis\", \"n_together\"])\n",
    "\n",
    "# for d, curr_methods_df in all_methods_df.groupby(\"donor\"):\n",
    "#     print('donor', d)\n",
    "#     curr_d_methods = list(donor_all_methods_pairs_df[d].keys())\n",
    "#     curr_d_pairs = list(itertools.product(curr_d_methods, repeat=2))\n",
    "#     for curr_pair in curr_d_pairs:\n",
    "#         if curr_pair[0] == curr_pair[1]:\n",
    "#             continue\n",
    "#         print(\"curr_pair\")\n",
    "#         print(curr_pair[0])\n",
    "#         print(curr_pair[1])\n",
    "#         a = donor_all_methods_pairs_df[d][curr_pair[0]]\n",
    "#         b = donor_all_methods_pairs_df[d][curr_pair[1]]\n",
    "#         curr_out = calc_meth_overlap(a,b)\n",
    "#         curr_out[\"donor\"] = d\n",
    "#         curr_out[\"m1\"] = get_title(curr_pair[0], params_files) #curr_pair[0]\n",
    "#         curr_out[\"m2\"] = get_title(curr_pair[1], params_files) #curr_pair[1]\n",
    "#         meth_df = meth_df.append(pd.DataFrame(curr_out, index= [f\"d{d}_m1{curr_pair[0]}_m2{curr_pair[1]}\"]))\n",
    "#         #meth_df.loc[curr_pair]\n",
    "# meth_df[\"n_agree_norm\"] = meth_df[\"n_agree\"]/meth_df[\"n_together\"]"
   ]
  },
  {
   "cell_type": "markdown",
   "id": "949d23e7",
   "metadata": {},
   "source": [
    "## Correlation Heatmaps for different metrics"
   ]
  },
  {
   "cell_type": "code",
   "execution_count": null,
   "id": "96360677",
   "metadata": {},
   "outputs": [],
   "source": [
    "sns.set(font_scale=1.2)\n",
    "def draw_heatmap(*args, **kwargs):\n",
    "    data = kwargs.pop('data')\n",
    "\n",
    "    metric = args[0] #kwargs.pop(args[0])\n",
    "    print('metric', metric)\n",
    "    d = data.pivot(index=\"m1\", columns=\"m2\", values=[args[0]])\n",
    "    #d = data.pivot(index=args[1], columns=args[0], values=args[2])\n",
    "    sns.heatmap(d, **kwargs)\n",
    "    return\n",
    "\n",
    "def donors_heatmap(df, metric, title=\"\"): \n",
    "    df[metric] = df[metric].astype('float')\n",
    "    g = sns.FacetGrid(df, col=\"donor\", col_wrap=2, height=12, aspect=1)\n",
    "    g.map_dataframe(draw_heatmap, metric, cbar=True, square=True)\n",
    "    g.figure.suptitle(title)#\"Methods comparison: #pairs in shared clusters clusters\")\n",
    "    plt.tight_layout()\n",
    "    return\n",
    "\n",
    "def donors_agg_heatmap(df, metric, title=\"\", to_log=False):\n",
    "    df = df.copy()\n",
    "    if to_log:\n",
    "        df[metric] = np.log10(df[metric]+1)\n",
    "    df_agg = df.groupby(['m1','m2']).mean().reset_index()\n",
    "    f = plt.figure(figsize=(12,12), dpi=300)\n",
    "    draw_heatmap(metric, data=df_agg)\n",
    "    plt.title(title)#\"Methods comparison: #pairs in shared clusters clusters\")\n",
    "    plt.tight_layout()\n",
    "    return"
   ]
  },
  {
   "cell_type": "code",
   "execution_count": null,
   "id": "5f8fa826",
   "metadata": {
    "scrolled": true
   },
   "outputs": [],
   "source": [
    "df_agg = meth_df.groupby(['m1','m2']).mean()\n",
    "df_agg.reset_index()"
   ]
  },
  {
   "cell_type": "code",
   "execution_count": null,
   "id": "7d2ae74b",
   "metadata": {
    "scrolled": false
   },
   "outputs": [],
   "source": [
    "donors_heatmap(meth_df, metric=\"n_agree\", \n",
    "               title=\"Methods comparison: #pairs with agreed clusters (T or F)\")\n",
    "plt.savefig(join(outdir, \"methods_nAgree.png\"))"
   ]
  },
  {
   "cell_type": "code",
   "execution_count": null,
   "id": "ddbd70b3",
   "metadata": {
    "scrolled": true
   },
   "outputs": [],
   "source": [
    "donors_heatmap(meth_df, metric=\"n_T_T\", \n",
    "               title=\"Methods comparison: #pairs in same clusters (T-T)\")\n",
    "plt.savefig(join(outdir, \"methods_nTT.png\"))\n",
    "# for d, df in meth_df.groupby(\"donor\"):\n",
    "#     f=plt.figure()\n",
    "#     sns.heatmap(df.pivot(index=\"m1\", columns=\"m2\", values=[\"n_T_T\"]).astype('float'))\n",
    "#     plt.title(f\"Methods comparison: #pairs in shared clusters clusters\\n donor {d}\")"
   ]
  },
  {
   "cell_type": "code",
   "execution_count": null,
   "id": "cf921ee5",
   "metadata": {
    "scrolled": true
   },
   "outputs": [],
   "source": [
    "donors_heatmap(meth_df, metric=\"n_agree_norm\", \n",
    "               title=\"Methods comparison: Normed #pairs with agreed clusters (T or F)\")\n",
    "plt.savefig(join(outdir, \"methods_nAgreeNorm.png\"))\n",
    "\n",
    "# for d, df in meth_df.groupby(\"donor\"):\n",
    "#     f=plt.figure()\n",
    "#     sns.heatmap(df.pivot(index=\"m1\", columns=\"m2\", values=[\"n_agree_norm\"]).astype('float'))\n",
    "#     plt.title(f\"Methods comparison: Normed #pairs with agreed clusters (T or F)\\n donor {d}\")"
   ]
  },
  {
   "cell_type": "code",
   "execution_count": null,
   "id": "4125f630",
   "metadata": {
    "scrolled": true
   },
   "outputs": [],
   "source": [
    "donors_heatmap(meth_df, metric=\"n_T_T_norm\", title=\"Methods comparison: Normed #pairs in agreed clusters (T)\")\n",
    "plt.savefig(join(outdir, \"methods_nTTNorm.png\"))\n"
   ]
  },
  {
   "cell_type": "code",
   "execution_count": null,
   "id": "c9e7a87a",
   "metadata": {},
   "outputs": [],
   "source": [
    "meth_df.to_csv(join(outdir, \"methods_comparisons.csv\"))\n",
    "\n",
    "params_files.to_csv(join(outdir, \"params_files.csv\"))"
   ]
  },
  {
   "cell_type": "markdown",
   "id": "776c10a3",
   "metadata": {},
   "source": [
    "## Donors aggregate"
   ]
  },
  {
   "cell_type": "code",
   "execution_count": null,
   "id": "40eb1e4e",
   "metadata": {
    "scrolled": false
   },
   "outputs": [],
   "source": [
    "donors_agg_heatmap(meth_df, metric=\"n_agree\", to_log=True,\n",
    "               title=\"Methods comparison: #pairs with concordant clone assignment (T-T or F-F) \\nlog10 counts\")\n",
    "plt.savefig(join(outdir, \"methods_nAgree_agg.png\"))\n",
    "\n",
    "donors_agg_heatmap(meth_df, metric=\"n_agree_norm\", title=\"Methods comparison: Normed #pairs in concordance (T-T or F-F)\")\n",
    "plt.savefig(join(outdir, \"methods_nAgreeNorm_agg.png\"))\n",
    "\n",
    "donors_agg_heatmap(meth_df, metric=\"n_T_T\", to_log=True,\n",
    "               title=\"Methods comparison: #pairs in same clones across methods (T-T) \\nlog10 counts\")\n",
    "plt.savefig(join(outdir, \"methods_n_T_T_agg.png\"))\n",
    "\n",
    "donors_agg_heatmap(meth_df, metric=\"n_T_T_norm\", title=\"Methods comparison: Normed #pairs in agreed clones (T-T)\")\n",
    "plt.savefig(join(outdir, \"methods_nTTNorm_agg.png\"))\n",
    "\n",
    "\n"
   ]
  }
 ],
 "metadata": {
  "celltoolbar": "Tags",
  "kernelspec": {
   "display_name": "Python 3 (ipykernel)",
   "language": "python",
   "name": "python3"
  },
  "language_info": {
   "codemirror_mode": {
    "name": "ipython",
    "version": 3
   },
   "file_extension": ".py",
   "mimetype": "text/x-python",
   "name": "python",
   "nbconvert_exporter": "python",
   "pygments_lexer": "ipython3",
   "version": "3.7.12"
  }
 },
 "nbformat": 4,
 "nbformat_minor": 5
}
